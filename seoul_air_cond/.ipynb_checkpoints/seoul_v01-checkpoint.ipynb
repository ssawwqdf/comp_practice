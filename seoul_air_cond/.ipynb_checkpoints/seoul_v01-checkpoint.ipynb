{
 "cells": [
  {
   "cell_type": "code",
   "execution_count": null,
   "id": "6e084ce6-c153-4c09-af4b-e8e0d4d95179",
   "metadata": {},
   "outputs": [],
   "source": []
  },
  {
   "cell_type": "code",
   "execution_count": 71,
   "id": "01e095f2-1943-45c7-a977-0a0c2d08b7ab",
   "metadata": {},
   "outputs": [],
   "source": [
    "# 버전 낮추고 한 번 plot 해봐라"
   ]
  },
  {
   "cell_type": "code",
   "execution_count": null,
   "id": "c1019d78-cb87-4b74-af84-f3d65a433774",
   "metadata": {},
   "outputs": [],
   "source": [
    "# 측정소:중구 데이터:미세먼지 1시간 (하루 치)\n",
    "# 맨 마지막 거 빼고 학습 -> 맨 마지막 거 예측\n",
    "# ARIMA로 예측\n",
    "# stats ver : 낮추기 -> plot"
   ]
  }
 ],
 "metadata": {
  "kernelspec": {
   "display_name": "Python 3 (ipykernel)",
   "language": "python",
   "name": "python3"
  },
  "language_info": {
   "codemirror_mode": {
    "name": "ipython",
    "version": 3
   },
   "file_extension": ".py",
   "mimetype": "text/x-python",
   "name": "python",
   "nbconvert_exporter": "python",
   "pygments_lexer": "ipython3",
   "version": "3.8.8"
  }
 },
 "nbformat": 4,
 "nbformat_minor": 5
}
