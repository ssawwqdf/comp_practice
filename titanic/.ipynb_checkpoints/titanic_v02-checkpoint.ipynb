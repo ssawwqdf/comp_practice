{
 "cells": [
  {
   "cell_type": "markdown",
   "id": "2d8035b7-5ba8-4a46-a0ca-eb663847cbaf",
   "metadata": {},
   "source": [
    "<img src=./logo.png><br>\n",
    "* ref : https://www.kaggle.com/c/titanic"
   ]
  },
  {
   "cell_type": "code",
   "execution_count": 1,
   "id": "aba0b6f0-760c-4685-b76e-0cba503c9222",
   "metadata": {},
   "outputs": [],
   "source": [
    "import pandas as pd\n",
    "import numpy as np\n",
    "import matplotlib.pyplot as plt\n",
    "\n",
    "from sklearn.preprocessing import LabelEncoder, OneHotEncoder\n",
    "from sklearn.model_selection import train_test_split\n",
    "from sklearn.ensemble import RandomForestClassifier\n",
    "from sklearn.linear_model import LogisticRegression\n",
    "from sklearn.neighbors import KNeighborsClassifier\n",
    "from sklearn.tree import DecisionTreeClassifier\n",
    "from sklearn.svm import LinearSVC\n",
    "\n",
    "                                                      #y_true, y_pred\n",
    "from sklearn.metrics import classification_report, confusion_matrix, accuracy_score, precision_score, recall_score,  f1_score\n",
    "from sklearn.metrics import precision_recall_curve    #y_true, probas_pred\n",
    "from sklearn.metrics import roc_auc_score, roc_curve  #y_true, y_score\n",
    "\n",
    "\n",
    "import warnings\n",
    "warnings.filterwarnings(action='ignore')\n"
   ]
  },
  {
   "cell_type": "markdown",
   "id": "26a666bf-b87a-4e3c-8193-10155ce01fe4",
   "metadata": {},
   "source": [
    "# Data Load"
   ]
  },
  {
   "cell_type": "code",
   "execution_count": 2,
   "id": "fb4b9cff-ae08-4497-82b6-f61c776e861c",
   "metadata": {},
   "outputs": [],
   "source": [
    "train = pd.read_csv(\"./dataset/train.csv\")"
   ]
  },
  {
   "cell_type": "code",
   "execution_count": 3,
   "id": "910fc9f5-4c5a-4c35-9683-87b0b4555d58",
   "metadata": {},
   "outputs": [
    {
     "name": "stdout",
     "output_type": "stream",
     "text": [
      "(891, 12)\n",
      "<class 'pandas.core.frame.DataFrame'>\n",
      "RangeIndex: 891 entries, 0 to 890\n",
      "Data columns (total 12 columns):\n",
      " #   Column       Non-Null Count  Dtype  \n",
      "---  ------       --------------  -----  \n",
      " 0   PassengerId  891 non-null    int64  \n",
      " 1   Survived     891 non-null    int64  \n",
      " 2   Pclass       891 non-null    int64  \n",
      " 3   Name         891 non-null    object \n",
      " 4   Sex          891 non-null    object \n",
      " 5   Age          714 non-null    float64\n",
      " 6   SibSp        891 non-null    int64  \n",
      " 7   Parch        891 non-null    int64  \n",
      " 8   Ticket       891 non-null    object \n",
      " 9   Fare         891 non-null    float64\n",
      " 10  Cabin        204 non-null    object \n",
      " 11  Embarked     889 non-null    object \n",
      "dtypes: float64(2), int64(5), object(5)\n",
      "memory usage: 83.7+ KB\n",
      "None\n"
     ]
    },
    {
     "data": {
      "text/html": [
       "<div>\n",
       "<style scoped>\n",
       "    .dataframe tbody tr th:only-of-type {\n",
       "        vertical-align: middle;\n",
       "    }\n",
       "\n",
       "    .dataframe tbody tr th {\n",
       "        vertical-align: top;\n",
       "    }\n",
       "\n",
       "    .dataframe thead th {\n",
       "        text-align: right;\n",
       "    }\n",
       "</style>\n",
       "<table border=\"1\" class=\"dataframe\">\n",
       "  <thead>\n",
       "    <tr style=\"text-align: right;\">\n",
       "      <th></th>\n",
       "      <th>PassengerId</th>\n",
       "      <th>Survived</th>\n",
       "      <th>Pclass</th>\n",
       "      <th>Name</th>\n",
       "      <th>Sex</th>\n",
       "      <th>Age</th>\n",
       "      <th>SibSp</th>\n",
       "      <th>Parch</th>\n",
       "      <th>Ticket</th>\n",
       "      <th>Fare</th>\n",
       "      <th>Cabin</th>\n",
       "      <th>Embarked</th>\n",
       "    </tr>\n",
       "  </thead>\n",
       "  <tbody>\n",
       "    <tr>\n",
       "      <th>0</th>\n",
       "      <td>1</td>\n",
       "      <td>0</td>\n",
       "      <td>3</td>\n",
       "      <td>Braund, Mr. Owen Harris</td>\n",
       "      <td>male</td>\n",
       "      <td>22.0</td>\n",
       "      <td>1</td>\n",
       "      <td>0</td>\n",
       "      <td>A/5 21171</td>\n",
       "      <td>7.2500</td>\n",
       "      <td>NaN</td>\n",
       "      <td>S</td>\n",
       "    </tr>\n",
       "    <tr>\n",
       "      <th>1</th>\n",
       "      <td>2</td>\n",
       "      <td>1</td>\n",
       "      <td>1</td>\n",
       "      <td>Cumings, Mrs. John Bradley (Florence Briggs Th...</td>\n",
       "      <td>female</td>\n",
       "      <td>38.0</td>\n",
       "      <td>1</td>\n",
       "      <td>0</td>\n",
       "      <td>PC 17599</td>\n",
       "      <td>71.2833</td>\n",
       "      <td>C85</td>\n",
       "      <td>C</td>\n",
       "    </tr>\n",
       "    <tr>\n",
       "      <th>2</th>\n",
       "      <td>3</td>\n",
       "      <td>1</td>\n",
       "      <td>3</td>\n",
       "      <td>Heikkinen, Miss. Laina</td>\n",
       "      <td>female</td>\n",
       "      <td>26.0</td>\n",
       "      <td>0</td>\n",
       "      <td>0</td>\n",
       "      <td>STON/O2. 3101282</td>\n",
       "      <td>7.9250</td>\n",
       "      <td>NaN</td>\n",
       "      <td>S</td>\n",
       "    </tr>\n",
       "    <tr>\n",
       "      <th>3</th>\n",
       "      <td>4</td>\n",
       "      <td>1</td>\n",
       "      <td>1</td>\n",
       "      <td>Futrelle, Mrs. Jacques Heath (Lily May Peel)</td>\n",
       "      <td>female</td>\n",
       "      <td>35.0</td>\n",
       "      <td>1</td>\n",
       "      <td>0</td>\n",
       "      <td>113803</td>\n",
       "      <td>53.1000</td>\n",
       "      <td>C123</td>\n",
       "      <td>S</td>\n",
       "    </tr>\n",
       "    <tr>\n",
       "      <th>4</th>\n",
       "      <td>5</td>\n",
       "      <td>0</td>\n",
       "      <td>3</td>\n",
       "      <td>Allen, Mr. William Henry</td>\n",
       "      <td>male</td>\n",
       "      <td>35.0</td>\n",
       "      <td>0</td>\n",
       "      <td>0</td>\n",
       "      <td>373450</td>\n",
       "      <td>8.0500</td>\n",
       "      <td>NaN</td>\n",
       "      <td>S</td>\n",
       "    </tr>\n",
       "  </tbody>\n",
       "</table>\n",
       "</div>"
      ],
      "text/plain": [
       "   PassengerId  Survived  Pclass  \\\n",
       "0            1         0       3   \n",
       "1            2         1       1   \n",
       "2            3         1       3   \n",
       "3            4         1       1   \n",
       "4            5         0       3   \n",
       "\n",
       "                                                Name     Sex   Age  SibSp  \\\n",
       "0                            Braund, Mr. Owen Harris    male  22.0      1   \n",
       "1  Cumings, Mrs. John Bradley (Florence Briggs Th...  female  38.0      1   \n",
       "2                             Heikkinen, Miss. Laina  female  26.0      0   \n",
       "3       Futrelle, Mrs. Jacques Heath (Lily May Peel)  female  35.0      1   \n",
       "4                           Allen, Mr. William Henry    male  35.0      0   \n",
       "\n",
       "   Parch            Ticket     Fare Cabin Embarked  \n",
       "0      0         A/5 21171   7.2500   NaN        S  \n",
       "1      0          PC 17599  71.2833   C85        C  \n",
       "2      0  STON/O2. 3101282   7.9250   NaN        S  \n",
       "3      0            113803  53.1000  C123        S  \n",
       "4      0            373450   8.0500   NaN        S  "
      ]
     },
     "execution_count": 3,
     "metadata": {},
     "output_type": "execute_result"
    }
   ],
   "source": [
    "print(train.shape)\n",
    "print(train.info())\n",
    "train.head()"
   ]
  },
  {
   "cell_type": "markdown",
   "id": "ea37afa8-02e1-4da6-bbbf-5302a4e7cb53",
   "metadata": {
    "tags": []
   },
   "source": [
    "# EDA : 사전 데이터 탐색"
   ]
  },
  {
   "cell_type": "markdown",
   "id": "9c0fdd3b-a1b3-4209-8a0a-07ae80684813",
   "metadata": {
    "tags": []
   },
   "source": [
    "## Survived : Traget Feature"
   ]
  },
  {
   "cell_type": "code",
   "execution_count": 4,
   "id": "c3451603-3a67-47d1-83eb-66bfb798833f",
   "metadata": {},
   "outputs": [
    {
     "data": {
      "text/plain": [
       "0    549\n",
       "1    342\n",
       "Name: Survived, dtype: int64"
      ]
     },
     "execution_count": 4,
     "metadata": {},
     "output_type": "execute_result"
    }
   ],
   "source": [
    "train[\"Survived\"].value_counts()"
   ]
  },
  {
   "cell_type": "markdown",
   "id": "9c69d74c-f655-4d2f-8716-5821ee6bab4b",
   "metadata": {
    "tags": []
   },
   "source": [
    "## 레코드수 == 유니크수\n",
    "* 대체로 분석 대상에서 제외(삭제)"
   ]
  },
  {
   "cell_type": "markdown",
   "id": "64788670-24d6-4dc9-8c57-b5b0fbec52e0",
   "metadata": {},
   "source": [
    "* 간결 :  결측 or 유니크값"
   ]
  },
  {
   "cell_type": "code",
   "execution_count": 5,
   "id": "d03785ee-df78-41cf-9f1c-dfc16a38f403",
   "metadata": {},
   "outputs": [
    {
     "name": "stdout",
     "output_type": "stream",
     "text": [
      "Age         177\n",
      "Cabin       687\n",
      "Embarked      2\n",
      "dtype: int64\n",
      "------------------------------\n",
      "PassengerId    891\n",
      "Name           891\n",
      "Ticket         681\n",
      "dtype: int64\n"
     ]
    }
   ],
   "source": [
    "print(train.isna().sum()  [train.isna().sum() >0  ] )\n",
    "print(\"---\"*10)\n",
    "print(train.nunique()     [train.nunique()  >= 650] )   #by 황지현"
   ]
  },
  {
   "cell_type": "code",
   "execution_count": 6,
   "id": "e1471f13-de9a-4f43-b7d2-77753474f859",
   "metadata": {},
   "outputs": [
    {
     "data": {
      "text/html": [
       "<div>\n",
       "<style scoped>\n",
       "    .dataframe tbody tr th:only-of-type {\n",
       "        vertical-align: middle;\n",
       "    }\n",
       "\n",
       "    .dataframe tbody tr th {\n",
       "        vertical-align: top;\n",
       "    }\n",
       "\n",
       "    .dataframe thead th {\n",
       "        text-align: right;\n",
       "    }\n",
       "</style>\n",
       "<table border=\"1\" class=\"dataframe\">\n",
       "  <thead>\n",
       "    <tr style=\"text-align: right;\">\n",
       "      <th></th>\n",
       "      <th>0</th>\n",
       "      <th>3</th>\n",
       "      <th>8</th>\n",
       "      <th>9</th>\n",
       "      <th>10</th>\n",
       "      <th>5</th>\n",
       "      <th>6</th>\n",
       "      <th>7</th>\n",
       "      <th>2</th>\n",
       "      <th>11</th>\n",
       "      <th>1</th>\n",
       "      <th>4</th>\n",
       "    </tr>\n",
       "  </thead>\n",
       "  <tbody>\n",
       "    <tr>\n",
       "      <th>컬럼</th>\n",
       "      <td>PassengerId</td>\n",
       "      <td>Name</td>\n",
       "      <td>Ticket</td>\n",
       "      <td>Fare</td>\n",
       "      <td>Cabin</td>\n",
       "      <td>Age</td>\n",
       "      <td>SibSp</td>\n",
       "      <td>Parch</td>\n",
       "      <td>Pclass</td>\n",
       "      <td>Embarked</td>\n",
       "      <td>Survived</td>\n",
       "      <td>Sex</td>\n",
       "    </tr>\n",
       "    <tr>\n",
       "      <th>카운트</th>\n",
       "      <td>891</td>\n",
       "      <td>891</td>\n",
       "      <td>681</td>\n",
       "      <td>248</td>\n",
       "      <td>147</td>\n",
       "      <td>88</td>\n",
       "      <td>7</td>\n",
       "      <td>7</td>\n",
       "      <td>3</td>\n",
       "      <td>3</td>\n",
       "      <td>2</td>\n",
       "      <td>2</td>\n",
       "    </tr>\n",
       "    <tr>\n",
       "      <th>비율</th>\n",
       "      <td>100.0</td>\n",
       "      <td>100.0</td>\n",
       "      <td>76.4</td>\n",
       "      <td>27.8</td>\n",
       "      <td>16.5</td>\n",
       "      <td>9.9</td>\n",
       "      <td>0.8</td>\n",
       "      <td>0.8</td>\n",
       "      <td>0.3</td>\n",
       "      <td>0.3</td>\n",
       "      <td>0.2</td>\n",
       "      <td>0.2</td>\n",
       "    </tr>\n",
       "  </tbody>\n",
       "</table>\n",
       "</div>"
      ],
      "text/plain": [
       "              0      3       8     9      10   5      6      7       2   \\\n",
       "컬럼   PassengerId   Name  Ticket  Fare  Cabin  Age  SibSp  Parch  Pclass   \n",
       "카운트          891    891     681   248    147   88      7      7       3   \n",
       "비율         100.0  100.0    76.4  27.8   16.5  9.9    0.8    0.8     0.3   \n",
       "\n",
       "           11        1    4   \n",
       "컬럼   Embarked  Survived  Sex  \n",
       "카운트         3         2    2  \n",
       "비율        0.3       0.2  0.2  "
      ]
     },
     "execution_count": 6,
     "metadata": {},
     "output_type": "execute_result"
    }
   ],
   "source": [
    "def my_dfcheck(prm='null'):  #파라미터 : 'null' 또는 'unique'\n",
    "    if prm == 'unique':\n",
    "        s = train.nunique()\n",
    "    else:\n",
    "        s = train.isna().sum()\n",
    "    \n",
    "    rate = np.round( (s.values  / len(train)) *100,  1)\n",
    "    dic = {\"컬럼\":s.index , \"카운트\":s.values, \"비율\":rate}\n",
    "    df = pd.DataFrame(dic).sort_values('카운트', ascending=False)\n",
    "    return df.T\n",
    "\n",
    "# my_dfcheck ('null')\n",
    "my_dfcheck('unique')"
   ]
  },
  {
   "cell_type": "code",
   "execution_count": null,
   "id": "53662312-0d4d-4854-91d8-6f7e5bb8e9f3",
   "metadata": {},
   "outputs": [],
   "source": []
  },
  {
   "cell_type": "markdown",
   "id": "363e0065-e2f7-4fa3-ac85-7a9be9a16561",
   "metadata": {},
   "source": [
    "* Ticket이 생존과 관련이 있는지 확인 == '무의미함'으로 결론냄(삭제)"
   ]
  },
  {
   "cell_type": "code",
   "execution_count": 7,
   "id": "4951d992-9370-4d6b-b358-5f7a245db2b2",
   "metadata": {},
   "outputs": [
    {
     "data": {
      "text/plain": [
       "Ticket            Embarked\n",
       "CA. 2343          S           7\n",
       "347082            S           7\n",
       "1601              S           7\n",
       "347088            S           6\n",
       "3101295           S           6\n",
       "                             ..\n",
       "SOTON/O2 3101287  S           1\n",
       "SW/PP 751         S           1\n",
       "STON/O2. 3101283  S           1\n",
       "STON/O2. 3101282  S           1\n",
       "347466            S           1\n",
       "Length: 682, dtype: int64"
      ]
     },
     "execution_count": 7,
     "metadata": {},
     "output_type": "execute_result"
    }
   ],
   "source": [
    "train[['Ticket', 'Survived']].value_counts().sort_values(ascending=False)\n",
    "train[['Ticket', 'Embarked']].value_counts().sort_values(ascending=False)"
   ]
  },
  {
   "cell_type": "code",
   "execution_count": null,
   "id": "9b402b30-9a04-4884-b5cf-59eaeb8647b3",
   "metadata": {},
   "outputs": [],
   "source": []
  },
  {
   "cell_type": "code",
   "execution_count": null,
   "id": "983f3292-8e60-4545-bd2f-788d6c3fb28f",
   "metadata": {},
   "outputs": [],
   "source": []
  },
  {
   "cell_type": "code",
   "execution_count": null,
   "id": "35ec4390-4251-44af-9667-36cbd8f042ee",
   "metadata": {},
   "outputs": [],
   "source": []
  },
  {
   "cell_type": "code",
   "execution_count": null,
   "id": "e8f1c35c-5469-4458-af50-93f61b3ad9b8",
   "metadata": {},
   "outputs": [],
   "source": []
  },
  {
   "cell_type": "code",
   "execution_count": null,
   "id": "ce879fd7-7f7b-4c98-96b9-fa350aa72695",
   "metadata": {},
   "outputs": [],
   "source": []
  },
  {
   "cell_type": "code",
   "execution_count": 8,
   "id": "e7189a7b-9b9d-4d1e-a4be-069767ef4884",
   "metadata": {},
   "outputs": [],
   "source": [
    "# train.head(2)   "
   ]
  },
  {
   "cell_type": "markdown",
   "id": "7cd65769-2898-484d-a65f-718a0b703d68",
   "metadata": {},
   "source": [
    "# 피쳐 가공 (Feature Engineering & Preprocessing)"
   ]
  },
  {
   "cell_type": "markdown",
   "id": "b7f98c69-c528-409c-bde4-f5f2a1a67d9f",
   "metadata": {
    "tags": []
   },
   "source": [
    "## 피쳐가공 : 결측 처리\n",
    "\n",
    "* 11  Embarked    889 non-null    object  - 최빈도S\n",
    "* 10  Cabin          204 non-null    object  - 공백처리, drop미정\n",
    "*  5   Age            714 non-null    float64 - Name호칭별평균나이\n",
    "\t\t\t\t   -Ticket-Parch아이2"
   ]
  },
  {
   "cell_type": "markdown",
   "id": "067ef764-6f2b-46ae-8442-f5452e702e21",
   "metadata": {},
   "source": [
    "### Embarked  : 최빈도 채우기"
   ]
  },
  {
   "cell_type": "code",
   "execution_count": 9,
   "id": "966e2bdb-e961-44c9-9faf-101ad777c7ef",
   "metadata": {},
   "outputs": [
    {
     "name": "stdout",
     "output_type": "stream",
     "text": [
      "0\n"
     ]
    }
   ],
   "source": [
    "mode_var = train['Embarked'].mode().values[0]\n",
    "train['Embarked'] = train['Embarked'].fillna( mode_var )  # 'S'\n",
    "print(train['Embarked'].isna().sum())"
   ]
  },
  {
   "cell_type": "code",
   "execution_count": 10,
   "id": "9ce799b0-680d-40d7-812f-1ab64066663a",
   "metadata": {},
   "outputs": [
    {
     "data": {
      "text/html": [
       "<div>\n",
       "<style scoped>\n",
       "    .dataframe tbody tr th:only-of-type {\n",
       "        vertical-align: middle;\n",
       "    }\n",
       "\n",
       "    .dataframe tbody tr th {\n",
       "        vertical-align: top;\n",
       "    }\n",
       "\n",
       "    .dataframe thead th {\n",
       "        text-align: right;\n",
       "    }\n",
       "</style>\n",
       "<table border=\"1\" class=\"dataframe\">\n",
       "  <thead>\n",
       "    <tr style=\"text-align: right;\">\n",
       "      <th>Survived</th>\n",
       "      <th>0</th>\n",
       "      <th>1</th>\n",
       "    </tr>\n",
       "    <tr>\n",
       "      <th>Embarked</th>\n",
       "      <th></th>\n",
       "      <th></th>\n",
       "    </tr>\n",
       "  </thead>\n",
       "  <tbody>\n",
       "    <tr>\n",
       "      <th>C</th>\n",
       "      <td>75</td>\n",
       "      <td>93</td>\n",
       "    </tr>\n",
       "    <tr>\n",
       "      <th>Q</th>\n",
       "      <td>47</td>\n",
       "      <td>30</td>\n",
       "    </tr>\n",
       "    <tr>\n",
       "      <th>S</th>\n",
       "      <td>427</td>\n",
       "      <td>219</td>\n",
       "    </tr>\n",
       "  </tbody>\n",
       "</table>\n",
       "</div>"
      ],
      "text/plain": [
       "Survived    0    1\n",
       "Embarked          \n",
       "C          75   93\n",
       "Q          47   30\n",
       "S         427  219"
      ]
     },
     "execution_count": 10,
     "metadata": {},
     "output_type": "execute_result"
    }
   ],
   "source": [
    "pd.crosstab(train['Embarked'], train['Survived'])"
   ]
  },
  {
   "cell_type": "markdown",
   "id": "2d81b9ab-8bd7-4426-8b64-1227c9486980",
   "metadata": {
    "tags": []
   },
   "source": [
    "### Age : Name 호칭을 사용해 그들의 평균 나이로 채우기"
   ]
  },
  {
   "cell_type": "markdown",
   "id": "6882f210-b791-47c0-8c2b-06f508b0373a",
   "metadata": {},
   "source": [
    "* gropuby 값을 이용해 fillna()할 경우 transform() 사용\n",
    "* train['Age'].apply()  train['Age'].transform()\n",
    "* train.groupby(\"pclass\")['Age'].apply() vs. train.groupby(\"pclass\")['Age'].transform()\n",
    "* https://steadiness-193.tistory.com/42"
   ]
  },
  {
   "cell_type": "code",
   "execution_count": 11,
   "id": "b7ccd1db-ca37-42e2-a25f-911bad88d062",
   "metadata": {},
   "outputs": [],
   "source": [
    "# avg_age = train['Age'].mean()\n",
    "# train['Age'] = train['Age'].fillna(avg_age).astype('int')   #------df 컬럼 캐스팅"
   ]
  },
  {
   "cell_type": "code",
   "execution_count": 12,
   "id": "b4b5a2ad-b6d3-4909-b8a6-d4df2a7e5c70",
   "metadata": {},
   "outputs": [
    {
     "data": {
      "text/html": [
       "<div>\n",
       "<style scoped>\n",
       "    .dataframe tbody tr th:only-of-type {\n",
       "        vertical-align: middle;\n",
       "    }\n",
       "\n",
       "    .dataframe tbody tr th {\n",
       "        vertical-align: top;\n",
       "    }\n",
       "\n",
       "    .dataframe thead th {\n",
       "        text-align: right;\n",
       "    }\n",
       "</style>\n",
       "<table border=\"1\" class=\"dataframe\">\n",
       "  <thead>\n",
       "    <tr style=\"text-align: right;\">\n",
       "      <th></th>\n",
       "      <th>Name_title</th>\n",
       "      <th>Name</th>\n",
       "    </tr>\n",
       "  </thead>\n",
       "  <tbody>\n",
       "    <tr>\n",
       "      <th>0</th>\n",
       "      <td>Mr</td>\n",
       "      <td>Braund, Mr. Owen Harris</td>\n",
       "    </tr>\n",
       "    <tr>\n",
       "      <th>1</th>\n",
       "      <td>Mrs</td>\n",
       "      <td>Cumings, Mrs. John Bradley (Florence Briggs Th...</td>\n",
       "    </tr>\n",
       "    <tr>\n",
       "      <th>2</th>\n",
       "      <td>Miss</td>\n",
       "      <td>Heikkinen, Miss. Laina</td>\n",
       "    </tr>\n",
       "    <tr>\n",
       "      <th>3</th>\n",
       "      <td>Mrs</td>\n",
       "      <td>Futrelle, Mrs. Jacques Heath (Lily May Peel)</td>\n",
       "    </tr>\n",
       "    <tr>\n",
       "      <th>4</th>\n",
       "      <td>Mr</td>\n",
       "      <td>Allen, Mr. William Henry</td>\n",
       "    </tr>\n",
       "  </tbody>\n",
       "</table>\n",
       "</div>"
      ],
      "text/plain": [
       "  Name_title                                               Name\n",
       "0         Mr                            Braund, Mr. Owen Harris\n",
       "1        Mrs  Cumings, Mrs. John Bradley (Florence Briggs Th...\n",
       "2       Miss                             Heikkinen, Miss. Laina\n",
       "3        Mrs       Futrelle, Mrs. Jacques Heath (Lily May Peel)\n",
       "4         Mr                           Allen, Mr. William Henry"
      ]
     },
     "execution_count": 12,
     "metadata": {},
     "output_type": "execute_result"
    }
   ],
   "source": [
    "train['Name_title'] = train['Name'].str.extract(' ([A-Za-z]+)[.]', expand=False)\n",
    "train[['Name_title', 'Name']].head()"
   ]
  },
  {
   "cell_type": "code",
   "execution_count": 13,
   "id": "303e2339-6ba5-430b-a161-5d0a50ec6032",
   "metadata": {},
   "outputs": [
    {
     "data": {
      "text/plain": [
       "Name_title\n",
       "Mr            517\n",
       "Miss          182\n",
       "Mrs           125\n",
       "Master         40\n",
       "Dr              7\n",
       "Rev             6\n",
       "Major           2\n",
       "Col             2\n",
       "Mlle            2\n",
       "Mme             1\n",
       "Ms              1\n",
       "Capt            1\n",
       "Lady            1\n",
       "Jonkheer        1\n",
       "Don             1\n",
       "Countess        1\n",
       "Sir             1\n",
       "dtype: int64"
      ]
     },
     "execution_count": 13,
     "metadata": {},
     "output_type": "execute_result"
    }
   ],
   "source": [
    "#pd.crosstab(train[\"Name_title\"], train['Age'])\n",
    "train[[\"Name_title\"]].value_counts()"
   ]
  },
  {
   "cell_type": "code",
   "execution_count": 14,
   "id": "85931932-93d5-4017-ab0d-2c1908e9311f",
   "metadata": {},
   "outputs": [
    {
     "data": {
      "text/html": [
       "<div>\n",
       "<style scoped>\n",
       "    .dataframe tbody tr th:only-of-type {\n",
       "        vertical-align: middle;\n",
       "    }\n",
       "\n",
       "    .dataframe tbody tr th {\n",
       "        vertical-align: top;\n",
       "    }\n",
       "\n",
       "    .dataframe thead th {\n",
       "        text-align: right;\n",
       "    }\n",
       "</style>\n",
       "<table border=\"1\" class=\"dataframe\">\n",
       "  <thead>\n",
       "    <tr style=\"text-align: right;\">\n",
       "      <th>Age</th>\n",
       "      <th>False</th>\n",
       "      <th>True</th>\n",
       "    </tr>\n",
       "    <tr>\n",
       "      <th>Name_title</th>\n",
       "      <th></th>\n",
       "      <th></th>\n",
       "    </tr>\n",
       "  </thead>\n",
       "  <tbody>\n",
       "    <tr>\n",
       "      <th>Capt</th>\n",
       "      <td>1</td>\n",
       "      <td>0</td>\n",
       "    </tr>\n",
       "    <tr>\n",
       "      <th>Col</th>\n",
       "      <td>2</td>\n",
       "      <td>0</td>\n",
       "    </tr>\n",
       "    <tr>\n",
       "      <th>Countess</th>\n",
       "      <td>1</td>\n",
       "      <td>0</td>\n",
       "    </tr>\n",
       "    <tr>\n",
       "      <th>Don</th>\n",
       "      <td>1</td>\n",
       "      <td>0</td>\n",
       "    </tr>\n",
       "    <tr>\n",
       "      <th>Dr</th>\n",
       "      <td>6</td>\n",
       "      <td>1</td>\n",
       "    </tr>\n",
       "    <tr>\n",
       "      <th>Jonkheer</th>\n",
       "      <td>1</td>\n",
       "      <td>0</td>\n",
       "    </tr>\n",
       "    <tr>\n",
       "      <th>Lady</th>\n",
       "      <td>1</td>\n",
       "      <td>0</td>\n",
       "    </tr>\n",
       "    <tr>\n",
       "      <th>Major</th>\n",
       "      <td>2</td>\n",
       "      <td>0</td>\n",
       "    </tr>\n",
       "    <tr>\n",
       "      <th>Master</th>\n",
       "      <td>36</td>\n",
       "      <td>4</td>\n",
       "    </tr>\n",
       "    <tr>\n",
       "      <th>Miss</th>\n",
       "      <td>146</td>\n",
       "      <td>36</td>\n",
       "    </tr>\n",
       "    <tr>\n",
       "      <th>Mlle</th>\n",
       "      <td>2</td>\n",
       "      <td>0</td>\n",
       "    </tr>\n",
       "    <tr>\n",
       "      <th>Mme</th>\n",
       "      <td>1</td>\n",
       "      <td>0</td>\n",
       "    </tr>\n",
       "    <tr>\n",
       "      <th>Mr</th>\n",
       "      <td>398</td>\n",
       "      <td>119</td>\n",
       "    </tr>\n",
       "    <tr>\n",
       "      <th>Mrs</th>\n",
       "      <td>108</td>\n",
       "      <td>17</td>\n",
       "    </tr>\n",
       "    <tr>\n",
       "      <th>Ms</th>\n",
       "      <td>1</td>\n",
       "      <td>0</td>\n",
       "    </tr>\n",
       "    <tr>\n",
       "      <th>Rev</th>\n",
       "      <td>6</td>\n",
       "      <td>0</td>\n",
       "    </tr>\n",
       "    <tr>\n",
       "      <th>Sir</th>\n",
       "      <td>1</td>\n",
       "      <td>0</td>\n",
       "    </tr>\n",
       "  </tbody>\n",
       "</table>\n",
       "</div>"
      ],
      "text/plain": [
       "Age         False  True\n",
       "Name_title             \n",
       "Capt            1     0\n",
       "Col             2     0\n",
       "Countess        1     0\n",
       "Don             1     0\n",
       "Dr              6     1\n",
       "Jonkheer        1     0\n",
       "Lady            1     0\n",
       "Major           2     0\n",
       "Master         36     4\n",
       "Miss          146    36\n",
       "Mlle            2     0\n",
       "Mme             1     0\n",
       "Mr            398   119\n",
       "Mrs           108    17\n",
       "Ms              1     0\n",
       "Rev             6     0\n",
       "Sir             1     0"
      ]
     },
     "execution_count": 14,
     "metadata": {},
     "output_type": "execute_result"
    }
   ],
   "source": [
    "pd.crosstab(train[\"Name_title\"],train[\"Age\"].isna())"
   ]
  },
  {
   "cell_type": "markdown",
   "id": "08a185f5-c2de-4dfa-be67-9a3355b775c7",
   "metadata": {},
   "source": [
    "* 중복 의미의 호칭 정리\n",
    "<pre>\n",
    " Mme  Mlle  --> Mrs\n",
    " Ms   Lady  --> Miss"
   ]
  },
  {
   "cell_type": "code",
   "execution_count": 15,
   "id": "a5d6d3a2-7f0b-4b93-b274-0b6edd4a004e",
   "metadata": {},
   "outputs": [],
   "source": [
    "train[\"Name_title\"].replace(\"Mme\", \"Mrs\", inplace=True)\n",
    "train[\"Name_title\"].replace(\"Mlle\", \"Mrs\", inplace=True)\n",
    "train[\"Name_title\"].replace(\"Ms\", \"Miss\", inplace=True)\n",
    "train[\"Name_title\"].replace(\"Lady\", \"Miss\", inplace=True)"
   ]
  },
  {
   "cell_type": "code",
   "execution_count": 16,
   "id": "8b16541f-2d1c-46b1-b6df-6132e103d260",
   "metadata": {},
   "outputs": [
    {
     "data": {
      "text/plain": [
       "array(['Mr', 'Mrs', 'Miss', 'Master', 'Don', 'Rev', 'Dr', 'Major', 'Sir',\n",
       "       'Col', 'Capt', 'Countess', 'Jonkheer'], dtype=object)"
      ]
     },
     "execution_count": 16,
     "metadata": {},
     "output_type": "execute_result"
    }
   ],
   "source": [
    "train[\"Name_title\"].unique()"
   ]
  },
  {
   "cell_type": "code",
   "execution_count": 17,
   "id": "51e09896-5d0c-4b23-ac80-db6b0622716a",
   "metadata": {},
   "outputs": [],
   "source": [
    "train[\"Age\"] = train[\"Age\"].fillna(train.groupby(by=\"Name_title\")[\"Age\"].transform(\"mean\"))"
   ]
  },
  {
   "cell_type": "code",
   "execution_count": 18,
   "id": "11109f86-e7af-4f10-a019-86e7281d4bcb",
   "metadata": {},
   "outputs": [
    {
     "data": {
      "text/plain": [
       "0"
      ]
     },
     "execution_count": 18,
     "metadata": {},
     "output_type": "execute_result"
    }
   ],
   "source": [
    "train['Age'].isna().sum()"
   ]
  },
  {
   "cell_type": "code",
   "execution_count": 19,
   "id": "dcf89a14-8dbc-459f-9edd-85fb4901346a",
   "metadata": {},
   "outputs": [
    {
     "data": {
      "text/plain": [
       "0    22.0\n",
       "1    38.0\n",
       "2    26.0\n",
       "3    35.0\n",
       "4    35.0\n",
       "Name: Age, dtype: float64"
      ]
     },
     "execution_count": 19,
     "metadata": {},
     "output_type": "execute_result"
    }
   ],
   "source": [
    "train['Age'].head()"
   ]
  },
  {
   "cell_type": "markdown",
   "id": "d0f64018-4d13-4be5-9dc6-cf82eb9019de",
   "metadata": {},
   "source": [
    "* 이름에서 꺼낸 호칭 인코딩(글자 --> 숫자)"
   ]
  },
  {
   "cell_type": "code",
   "execution_count": 20,
   "id": "b314bab5-65b7-458e-a9db-03391ae5d0b1",
   "metadata": {},
   "outputs": [
    {
     "data": {
      "text/plain": [
       "3    517\n",
       "2    184\n",
       "4    128\n",
       "1     40\n",
       "6     14\n",
       "5      6\n",
       "0      2\n",
       "Name: Name_title, dtype: int64"
      ]
     },
     "execution_count": 20,
     "metadata": {},
     "output_type": "execute_result"
    }
   ],
   "source": [
    "pd.crosstab(train[\"Name_title\"], train[\"Survived\"])\n",
    "\n",
    "title_dict = {'Major':0, 'Master':1,'Miss':2, 'Mr':3, 'Mrs':4, 'Rev':5,\n",
    "              'Capt':6, 'Col':6, 'Countess':6, 'Don':6, 'Dr':6, 'Jonkheer':6, 'Sir':6 }\n",
    "train[\"Name_title\"] = train[\"Name_title\"].map(title_dict)\n",
    "train[\"Name_title\"].value_counts()"
   ]
  },
  {
   "cell_type": "markdown",
   "id": "f14f5db1-f811-491b-8b33-0edbdaaf6ab0",
   "metadata": {},
   "source": [
    "### Cabin : 공백처리\n",
    "* 점수를 봐가며 삭제 여부 결정\n",
    "* Pclass=1 인 승객 대부분이 Cabin을 가지고 있다\n",
    "* 삭제여부 미정 : Pclass 하나만 봐도 된다\n",
    "* A~T 세분화되어 있어서  C1 , C2 , C3"
   ]
  },
  {
   "cell_type": "code",
   "execution_count": 21,
   "id": "3a0ace13-fd82-494d-a114-686f08bf785c",
   "metadata": {},
   "outputs": [
    {
     "data": {
      "text/plain": [
       "array([nan, 'C85', 'C123', 'E46', 'G6'], dtype=object)"
      ]
     },
     "execution_count": 21,
     "metadata": {},
     "output_type": "execute_result"
    }
   ],
   "source": [
    "pd.unique(train['Cabin'])[:5]"
   ]
  },
  {
   "cell_type": "code",
   "execution_count": 22,
   "id": "061b9252-ad45-48a4-9464-6efd937c6900",
   "metadata": {},
   "outputs": [],
   "source": [
    "train['Cabin'] = train['Cabin'].str[0:1]"
   ]
  },
  {
   "cell_type": "code",
   "execution_count": 23,
   "id": "abd28e96-54bd-44e9-8826-699eacd1008a",
   "metadata": {},
   "outputs": [
    {
     "data": {
      "text/html": [
       "<div>\n",
       "<style scoped>\n",
       "    .dataframe tbody tr th:only-of-type {\n",
       "        vertical-align: middle;\n",
       "    }\n",
       "\n",
       "    .dataframe tbody tr th {\n",
       "        vertical-align: top;\n",
       "    }\n",
       "\n",
       "    .dataframe thead th {\n",
       "        text-align: right;\n",
       "    }\n",
       "</style>\n",
       "<table border=\"1\" class=\"dataframe\">\n",
       "  <thead>\n",
       "    <tr style=\"text-align: right;\">\n",
       "      <th>Pclass</th>\n",
       "      <th>1</th>\n",
       "      <th>2</th>\n",
       "      <th>3</th>\n",
       "    </tr>\n",
       "    <tr>\n",
       "      <th>Cabin</th>\n",
       "      <th></th>\n",
       "      <th></th>\n",
       "      <th></th>\n",
       "    </tr>\n",
       "  </thead>\n",
       "  <tbody>\n",
       "    <tr>\n",
       "      <th>A</th>\n",
       "      <td>15</td>\n",
       "      <td>0</td>\n",
       "      <td>0</td>\n",
       "    </tr>\n",
       "    <tr>\n",
       "      <th>B</th>\n",
       "      <td>47</td>\n",
       "      <td>0</td>\n",
       "      <td>0</td>\n",
       "    </tr>\n",
       "    <tr>\n",
       "      <th>C</th>\n",
       "      <td>59</td>\n",
       "      <td>0</td>\n",
       "      <td>0</td>\n",
       "    </tr>\n",
       "    <tr>\n",
       "      <th>D</th>\n",
       "      <td>29</td>\n",
       "      <td>4</td>\n",
       "      <td>0</td>\n",
       "    </tr>\n",
       "    <tr>\n",
       "      <th>E</th>\n",
       "      <td>25</td>\n",
       "      <td>4</td>\n",
       "      <td>3</td>\n",
       "    </tr>\n",
       "    <tr>\n",
       "      <th>F</th>\n",
       "      <td>0</td>\n",
       "      <td>8</td>\n",
       "      <td>5</td>\n",
       "    </tr>\n",
       "    <tr>\n",
       "      <th>G</th>\n",
       "      <td>0</td>\n",
       "      <td>0</td>\n",
       "      <td>4</td>\n",
       "    </tr>\n",
       "    <tr>\n",
       "      <th>T</th>\n",
       "      <td>1</td>\n",
       "      <td>0</td>\n",
       "      <td>0</td>\n",
       "    </tr>\n",
       "  </tbody>\n",
       "</table>\n",
       "</div>"
      ],
      "text/plain": [
       "Pclass   1  2  3\n",
       "Cabin           \n",
       "A       15  0  0\n",
       "B       47  0  0\n",
       "C       59  0  0\n",
       "D       29  4  0\n",
       "E       25  4  3\n",
       "F        0  8  5\n",
       "G        0  0  4\n",
       "T        1  0  0"
      ]
     },
     "execution_count": 23,
     "metadata": {},
     "output_type": "execute_result"
    }
   ],
   "source": [
    "pd.crosstab(train['Cabin'], train['Pclass'] )"
   ]
  },
  {
   "cell_type": "code",
   "execution_count": 24,
   "id": "849e2ff5-54d3-4131-8e74-fb49fe213719",
   "metadata": {},
   "outputs": [
    {
     "data": {
      "text/html": [
       "<div>\n",
       "<style scoped>\n",
       "    .dataframe tbody tr th:only-of-type {\n",
       "        vertical-align: middle;\n",
       "    }\n",
       "\n",
       "    .dataframe tbody tr th {\n",
       "        vertical-align: top;\n",
       "    }\n",
       "\n",
       "    .dataframe thead th {\n",
       "        text-align: right;\n",
       "    }\n",
       "</style>\n",
       "<table border=\"1\" class=\"dataframe\">\n",
       "  <thead>\n",
       "    <tr style=\"text-align: right;\">\n",
       "      <th>Survived</th>\n",
       "      <th>0</th>\n",
       "      <th>1</th>\n",
       "    </tr>\n",
       "    <tr>\n",
       "      <th>Cabin</th>\n",
       "      <th></th>\n",
       "      <th></th>\n",
       "    </tr>\n",
       "  </thead>\n",
       "  <tbody>\n",
       "    <tr>\n",
       "      <th>A</th>\n",
       "      <td>8</td>\n",
       "      <td>7</td>\n",
       "    </tr>\n",
       "    <tr>\n",
       "      <th>B</th>\n",
       "      <td>12</td>\n",
       "      <td>35</td>\n",
       "    </tr>\n",
       "    <tr>\n",
       "      <th>C</th>\n",
       "      <td>24</td>\n",
       "      <td>35</td>\n",
       "    </tr>\n",
       "    <tr>\n",
       "      <th>D</th>\n",
       "      <td>8</td>\n",
       "      <td>25</td>\n",
       "    </tr>\n",
       "    <tr>\n",
       "      <th>E</th>\n",
       "      <td>8</td>\n",
       "      <td>24</td>\n",
       "    </tr>\n",
       "    <tr>\n",
       "      <th>F</th>\n",
       "      <td>5</td>\n",
       "      <td>8</td>\n",
       "    </tr>\n",
       "    <tr>\n",
       "      <th>G</th>\n",
       "      <td>2</td>\n",
       "      <td>2</td>\n",
       "    </tr>\n",
       "    <tr>\n",
       "      <th>T</th>\n",
       "      <td>1</td>\n",
       "      <td>0</td>\n",
       "    </tr>\n",
       "  </tbody>\n",
       "</table>\n",
       "</div>"
      ],
      "text/plain": [
       "Survived   0   1\n",
       "Cabin           \n",
       "A          8   7\n",
       "B         12  35\n",
       "C         24  35\n",
       "D          8  25\n",
       "E          8  24\n",
       "F          5   8\n",
       "G          2   2\n",
       "T          1   0"
      ]
     },
     "execution_count": 24,
     "metadata": {},
     "output_type": "execute_result"
    }
   ],
   "source": [
    "pd.crosstab(train['Cabin'], train['Survived'] )"
   ]
  },
  {
   "cell_type": "code",
   "execution_count": 25,
   "id": "7271c4d9-5a41-45a7-bf05-70531f95885e",
   "metadata": {},
   "outputs": [],
   "source": [
    "train['Cabin'] = train['Cabin'].fillna('')"
   ]
  },
  {
   "cell_type": "markdown",
   "id": "462416dc-ca5d-4339-bade-d314ec14f78c",
   "metadata": {
    "tags": []
   },
   "source": [
    "## 피쳐가공 : Object 타입 numeric(수치) 타입으로 변경\n",
    "<pre>\n",
    "10  Cabin          204 non-null    object  - ??\n",
    " 4   Sex            891 non-null    object \n",
    "11  Embarked    889 non-null    object  - 최빈도S\n",
    "\n",
    "* map\n",
    "* replace\n",
    "* lambda\n"
   ]
  },
  {
   "cell_type": "markdown",
   "id": "2793c6d6-9fe3-4577-8d97-5a87755127d6",
   "metadata": {},
   "source": [
    "* 옵션 : object 타입 컬럼만 뽑아오기"
   ]
  },
  {
   "cell_type": "code",
   "execution_count": 26,
   "id": "57290c3a-776c-4ed6-8dff-6a216e5b860b",
   "metadata": {},
   "outputs": [
    {
     "name": "stdout",
     "output_type": "stream",
     "text": [
      "['Name', 'Sex', 'Ticket', 'Cabin', 'Embarked']\n"
     ]
    }
   ],
   "source": [
    "col_list = train.select_dtypes(include='object').columns.tolist()\n",
    "print(col_list)"
   ]
  },
  {
   "cell_type": "markdown",
   "id": "45a9ff6e-a07e-44ff-b464-bebfa229374e",
   "metadata": {
    "tags": []
   },
   "source": [
    "### df['col'].astype('category')"
   ]
  },
  {
   "cell_type": "code",
   "execution_count": 27,
   "id": "f8b206c3-656d-47aa-ab7a-354e8f2ec177",
   "metadata": {},
   "outputs": [
    {
     "data": {
      "text/html": [
       "<div>\n",
       "<style scoped>\n",
       "    .dataframe tbody tr th:only-of-type {\n",
       "        vertical-align: middle;\n",
       "    }\n",
       "\n",
       "    .dataframe tbody tr th {\n",
       "        vertical-align: top;\n",
       "    }\n",
       "\n",
       "    .dataframe thead th {\n",
       "        text-align: right;\n",
       "    }\n",
       "</style>\n",
       "<table border=\"1\" class=\"dataframe\">\n",
       "  <thead>\n",
       "    <tr style=\"text-align: right;\">\n",
       "      <th></th>\n",
       "      <th>PassengerId</th>\n",
       "      <th>Survived</th>\n",
       "      <th>Pclass</th>\n",
       "      <th>Name</th>\n",
       "      <th>Sex</th>\n",
       "      <th>Age</th>\n",
       "      <th>SibSp</th>\n",
       "      <th>Parch</th>\n",
       "      <th>Ticket</th>\n",
       "      <th>Fare</th>\n",
       "      <th>Cabin</th>\n",
       "      <th>Embarked</th>\n",
       "      <th>Name_title</th>\n",
       "      <th>Sex2</th>\n",
       "    </tr>\n",
       "  </thead>\n",
       "  <tbody>\n",
       "    <tr>\n",
       "      <th>0</th>\n",
       "      <td>1</td>\n",
       "      <td>0</td>\n",
       "      <td>3</td>\n",
       "      <td>Braund, Mr. Owen Harris</td>\n",
       "      <td>male</td>\n",
       "      <td>22.0</td>\n",
       "      <td>1</td>\n",
       "      <td>0</td>\n",
       "      <td>A/5 21171</td>\n",
       "      <td>7.2500</td>\n",
       "      <td>0</td>\n",
       "      <td>S</td>\n",
       "      <td>3</td>\n",
       "      <td>1</td>\n",
       "    </tr>\n",
       "    <tr>\n",
       "      <th>1</th>\n",
       "      <td>2</td>\n",
       "      <td>1</td>\n",
       "      <td>1</td>\n",
       "      <td>Cumings, Mrs. John Bradley (Florence Briggs Th...</td>\n",
       "      <td>female</td>\n",
       "      <td>38.0</td>\n",
       "      <td>1</td>\n",
       "      <td>0</td>\n",
       "      <td>PC 17599</td>\n",
       "      <td>71.2833</td>\n",
       "      <td>3</td>\n",
       "      <td>C</td>\n",
       "      <td>4</td>\n",
       "      <td>0</td>\n",
       "    </tr>\n",
       "    <tr>\n",
       "      <th>2</th>\n",
       "      <td>3</td>\n",
       "      <td>1</td>\n",
       "      <td>3</td>\n",
       "      <td>Heikkinen, Miss. Laina</td>\n",
       "      <td>female</td>\n",
       "      <td>26.0</td>\n",
       "      <td>0</td>\n",
       "      <td>0</td>\n",
       "      <td>STON/O2. 3101282</td>\n",
       "      <td>7.9250</td>\n",
       "      <td>0</td>\n",
       "      <td>S</td>\n",
       "      <td>2</td>\n",
       "      <td>0</td>\n",
       "    </tr>\n",
       "    <tr>\n",
       "      <th>3</th>\n",
       "      <td>4</td>\n",
       "      <td>1</td>\n",
       "      <td>1</td>\n",
       "      <td>Futrelle, Mrs. Jacques Heath (Lily May Peel)</td>\n",
       "      <td>female</td>\n",
       "      <td>35.0</td>\n",
       "      <td>1</td>\n",
       "      <td>0</td>\n",
       "      <td>113803</td>\n",
       "      <td>53.1000</td>\n",
       "      <td>3</td>\n",
       "      <td>S</td>\n",
       "      <td>4</td>\n",
       "      <td>0</td>\n",
       "    </tr>\n",
       "    <tr>\n",
       "      <th>4</th>\n",
       "      <td>5</td>\n",
       "      <td>0</td>\n",
       "      <td>3</td>\n",
       "      <td>Allen, Mr. William Henry</td>\n",
       "      <td>male</td>\n",
       "      <td>35.0</td>\n",
       "      <td>0</td>\n",
       "      <td>0</td>\n",
       "      <td>373450</td>\n",
       "      <td>8.0500</td>\n",
       "      <td>0</td>\n",
       "      <td>S</td>\n",
       "      <td>3</td>\n",
       "      <td>1</td>\n",
       "    </tr>\n",
       "  </tbody>\n",
       "</table>\n",
       "</div>"
      ],
      "text/plain": [
       "   PassengerId  Survived  Pclass  \\\n",
       "0            1         0       3   \n",
       "1            2         1       1   \n",
       "2            3         1       3   \n",
       "3            4         1       1   \n",
       "4            5         0       3   \n",
       "\n",
       "                                                Name     Sex   Age  SibSp  \\\n",
       "0                            Braund, Mr. Owen Harris    male  22.0      1   \n",
       "1  Cumings, Mrs. John Bradley (Florence Briggs Th...  female  38.0      1   \n",
       "2                             Heikkinen, Miss. Laina  female  26.0      0   \n",
       "3       Futrelle, Mrs. Jacques Heath (Lily May Peel)  female  35.0      1   \n",
       "4                           Allen, Mr. William Henry    male  35.0      0   \n",
       "\n",
       "   Parch            Ticket     Fare  Cabin Embarked  Name_title  Sex2  \n",
       "0      0         A/5 21171   7.2500      0        S           3     1  \n",
       "1      0          PC 17599  71.2833      3        C           4     0  \n",
       "2      0  STON/O2. 3101282   7.9250      0        S           2     0  \n",
       "3      0            113803  53.1000      3        S           4     0  \n",
       "4      0            373450   8.0500      0        S           3     1  "
      ]
     },
     "execution_count": 27,
     "metadata": {},
     "output_type": "execute_result"
    }
   ],
   "source": [
    "# train2 = train.copy()\n",
    "train['Cabin'] = train['Cabin'].astype('category').cat.codes\n",
    "train['Sex2'] = train['Sex'].astype('category').cat.codes\n",
    "train.head()"
   ]
  },
  {
   "cell_type": "markdown",
   "id": "624afe01-f717-4b3c-875f-2a402f8a4db1",
   "metadata": {},
   "source": [
    "### pd.get_dummies()\n",
    "* 결측처리  + LabelEncoder() + OneHotEncoder()"
   ]
  },
  {
   "cell_type": "code",
   "execution_count": 28,
   "id": "b47bd7a8-84e1-4e50-a59f-f72b6401d34e",
   "metadata": {},
   "outputs": [
    {
     "data": {
      "text/html": [
       "<div>\n",
       "<style scoped>\n",
       "    .dataframe tbody tr th:only-of-type {\n",
       "        vertical-align: middle;\n",
       "    }\n",
       "\n",
       "    .dataframe tbody tr th {\n",
       "        vertical-align: top;\n",
       "    }\n",
       "\n",
       "    .dataframe thead th {\n",
       "        text-align: right;\n",
       "    }\n",
       "</style>\n",
       "<table border=\"1\" class=\"dataframe\">\n",
       "  <thead>\n",
       "    <tr style=\"text-align: right;\">\n",
       "      <th></th>\n",
       "      <th>PassengerId</th>\n",
       "      <th>Survived</th>\n",
       "      <th>Pclass</th>\n",
       "      <th>Name</th>\n",
       "      <th>Age</th>\n",
       "      <th>SibSp</th>\n",
       "      <th>Parch</th>\n",
       "      <th>Ticket</th>\n",
       "      <th>Fare</th>\n",
       "      <th>Cabin</th>\n",
       "      <th>Embarked</th>\n",
       "      <th>Name_title</th>\n",
       "      <th>Sex2</th>\n",
       "      <th>Sex_female</th>\n",
       "      <th>Sex_male</th>\n",
       "    </tr>\n",
       "  </thead>\n",
       "  <tbody>\n",
       "    <tr>\n",
       "      <th>0</th>\n",
       "      <td>1</td>\n",
       "      <td>0</td>\n",
       "      <td>3</td>\n",
       "      <td>Braund, Mr. Owen Harris</td>\n",
       "      <td>22.0</td>\n",
       "      <td>1</td>\n",
       "      <td>0</td>\n",
       "      <td>A/5 21171</td>\n",
       "      <td>7.2500</td>\n",
       "      <td>0</td>\n",
       "      <td>S</td>\n",
       "      <td>3</td>\n",
       "      <td>1</td>\n",
       "      <td>0</td>\n",
       "      <td>1</td>\n",
       "    </tr>\n",
       "    <tr>\n",
       "      <th>1</th>\n",
       "      <td>2</td>\n",
       "      <td>1</td>\n",
       "      <td>1</td>\n",
       "      <td>Cumings, Mrs. John Bradley (Florence Briggs Th...</td>\n",
       "      <td>38.0</td>\n",
       "      <td>1</td>\n",
       "      <td>0</td>\n",
       "      <td>PC 17599</td>\n",
       "      <td>71.2833</td>\n",
       "      <td>3</td>\n",
       "      <td>C</td>\n",
       "      <td>4</td>\n",
       "      <td>0</td>\n",
       "      <td>1</td>\n",
       "      <td>0</td>\n",
       "    </tr>\n",
       "    <tr>\n",
       "      <th>2</th>\n",
       "      <td>3</td>\n",
       "      <td>1</td>\n",
       "      <td>3</td>\n",
       "      <td>Heikkinen, Miss. Laina</td>\n",
       "      <td>26.0</td>\n",
       "      <td>0</td>\n",
       "      <td>0</td>\n",
       "      <td>STON/O2. 3101282</td>\n",
       "      <td>7.9250</td>\n",
       "      <td>0</td>\n",
       "      <td>S</td>\n",
       "      <td>2</td>\n",
       "      <td>0</td>\n",
       "      <td>1</td>\n",
       "      <td>0</td>\n",
       "    </tr>\n",
       "    <tr>\n",
       "      <th>3</th>\n",
       "      <td>4</td>\n",
       "      <td>1</td>\n",
       "      <td>1</td>\n",
       "      <td>Futrelle, Mrs. Jacques Heath (Lily May Peel)</td>\n",
       "      <td>35.0</td>\n",
       "      <td>1</td>\n",
       "      <td>0</td>\n",
       "      <td>113803</td>\n",
       "      <td>53.1000</td>\n",
       "      <td>3</td>\n",
       "      <td>S</td>\n",
       "      <td>4</td>\n",
       "      <td>0</td>\n",
       "      <td>1</td>\n",
       "      <td>0</td>\n",
       "    </tr>\n",
       "    <tr>\n",
       "      <th>4</th>\n",
       "      <td>5</td>\n",
       "      <td>0</td>\n",
       "      <td>3</td>\n",
       "      <td>Allen, Mr. William Henry</td>\n",
       "      <td>35.0</td>\n",
       "      <td>0</td>\n",
       "      <td>0</td>\n",
       "      <td>373450</td>\n",
       "      <td>8.0500</td>\n",
       "      <td>0</td>\n",
       "      <td>S</td>\n",
       "      <td>3</td>\n",
       "      <td>1</td>\n",
       "      <td>0</td>\n",
       "      <td>1</td>\n",
       "    </tr>\n",
       "  </tbody>\n",
       "</table>\n",
       "</div>"
      ],
      "text/plain": [
       "   PassengerId  Survived  Pclass  \\\n",
       "0            1         0       3   \n",
       "1            2         1       1   \n",
       "2            3         1       3   \n",
       "3            4         1       1   \n",
       "4            5         0       3   \n",
       "\n",
       "                                                Name   Age  SibSp  Parch  \\\n",
       "0                            Braund, Mr. Owen Harris  22.0      1      0   \n",
       "1  Cumings, Mrs. John Bradley (Florence Briggs Th...  38.0      1      0   \n",
       "2                             Heikkinen, Miss. Laina  26.0      0      0   \n",
       "3       Futrelle, Mrs. Jacques Heath (Lily May Peel)  35.0      1      0   \n",
       "4                           Allen, Mr. William Henry  35.0      0      0   \n",
       "\n",
       "             Ticket     Fare  Cabin Embarked  Name_title  Sex2  Sex_female  \\\n",
       "0         A/5 21171   7.2500      0        S           3     1           0   \n",
       "1          PC 17599  71.2833      3        C           4     0           1   \n",
       "2  STON/O2. 3101282   7.9250      0        S           2     0           1   \n",
       "3            113803  53.1000      3        S           4     0           1   \n",
       "4            373450   8.0500      0        S           3     1           0   \n",
       "\n",
       "   Sex_male  \n",
       "0         1  \n",
       "1         0  \n",
       "2         0  \n",
       "3         0  \n",
       "4         1  "
      ]
     },
     "execution_count": 28,
     "metadata": {},
     "output_type": "execute_result"
    }
   ],
   "source": [
    "train = pd.get_dummies(train, columns=['Sex'])\n",
    "train.head()"
   ]
  },
  {
   "cell_type": "markdown",
   "id": "b3aa28c8-3886-4774-bba4-341856ef0ace",
   "metadata": {},
   "source": [
    "### df.replace()\n",
    "* df['col'].replace(['a','b'] , [1,2] , inplace=True)"
   ]
  },
  {
   "cell_type": "code",
   "execution_count": 29,
   "id": "d3e3874f-9cfb-4be9-b4c9-cc27f1c51cb4",
   "metadata": {},
   "outputs": [
    {
     "data": {
      "text/plain": [
       "1    646\n",
       "2    168\n",
       "3     77\n",
       "Name: Embarked, dtype: int64"
      ]
     },
     "execution_count": 29,
     "metadata": {},
     "output_type": "execute_result"
    }
   ],
   "source": [
    "train['Embarked'].replace(['S','C','Q'],[1,2,3], inplace=True)   #----------- inplace=True 추천\n",
    "train['Embarked'].value_counts()\n"
   ]
  },
  {
   "cell_type": "markdown",
   "id": "40572fef-49bc-405a-848e-79f68be90074",
   "metadata": {},
   "source": [
    "### df.apply(lambda)"
   ]
  },
  {
   "cell_type": "code",
   "execution_count": 30,
   "id": "b8a01279-e823-4f33-80a4-ead7e64bdb31",
   "metadata": {},
   "outputs": [],
   "source": [
    "# train['Sex3'] = train['Sex'].apply(lambda x :  1 if x == 'male'  else 0) \n",
    "# train[['Sex3','Sex']].head()"
   ]
  },
  {
   "cell_type": "code",
   "execution_count": 31,
   "id": "7e057dd9-8a39-4f97-a4b5-895de7b366fa",
   "metadata": {},
   "outputs": [],
   "source": [
    "## 피쳐 영향도 : 상관분석 \n",
    "## PCA : 차원축소\n",
    "\n",
    "## 스케일링 - 정규분포화(분류는 큰 영향이 없다)\n",
    "\n",
    "## 정규표현식\n",
    "## 바이닝(구간화)\n",
    "\n",
    "## 평균&편차 -- 파생변수\n"
   ]
  },
  {
   "cell_type": "code",
   "execution_count": 32,
   "id": "9b26d653-78a3-401a-b53c-b6f147df0946",
   "metadata": {},
   "outputs": [
    {
     "data": {
      "text/html": [
       "<div>\n",
       "<style scoped>\n",
       "    .dataframe tbody tr th:only-of-type {\n",
       "        vertical-align: middle;\n",
       "    }\n",
       "\n",
       "    .dataframe tbody tr th {\n",
       "        vertical-align: top;\n",
       "    }\n",
       "\n",
       "    .dataframe thead th {\n",
       "        text-align: right;\n",
       "    }\n",
       "</style>\n",
       "<table border=\"1\" class=\"dataframe\">\n",
       "  <thead>\n",
       "    <tr style=\"text-align: right;\">\n",
       "      <th></th>\n",
       "      <th>PassengerId</th>\n",
       "      <th>Survived</th>\n",
       "      <th>Pclass</th>\n",
       "      <th>Name</th>\n",
       "      <th>Age</th>\n",
       "      <th>SibSp</th>\n",
       "      <th>Parch</th>\n",
       "      <th>Ticket</th>\n",
       "      <th>Fare</th>\n",
       "      <th>Cabin</th>\n",
       "      <th>Embarked</th>\n",
       "      <th>Name_title</th>\n",
       "      <th>Sex2</th>\n",
       "      <th>Sex_female</th>\n",
       "      <th>Sex_male</th>\n",
       "    </tr>\n",
       "  </thead>\n",
       "  <tbody>\n",
       "    <tr>\n",
       "      <th>0</th>\n",
       "      <td>1</td>\n",
       "      <td>0</td>\n",
       "      <td>3</td>\n",
       "      <td>Braund, Mr. Owen Harris</td>\n",
       "      <td>22.0</td>\n",
       "      <td>1</td>\n",
       "      <td>0</td>\n",
       "      <td>A/5 21171</td>\n",
       "      <td>7.2500</td>\n",
       "      <td>0</td>\n",
       "      <td>1</td>\n",
       "      <td>3</td>\n",
       "      <td>1</td>\n",
       "      <td>0</td>\n",
       "      <td>1</td>\n",
       "    </tr>\n",
       "    <tr>\n",
       "      <th>1</th>\n",
       "      <td>2</td>\n",
       "      <td>1</td>\n",
       "      <td>1</td>\n",
       "      <td>Cumings, Mrs. John Bradley (Florence Briggs Th...</td>\n",
       "      <td>38.0</td>\n",
       "      <td>1</td>\n",
       "      <td>0</td>\n",
       "      <td>PC 17599</td>\n",
       "      <td>71.2833</td>\n",
       "      <td>3</td>\n",
       "      <td>2</td>\n",
       "      <td>4</td>\n",
       "      <td>0</td>\n",
       "      <td>1</td>\n",
       "      <td>0</td>\n",
       "    </tr>\n",
       "    <tr>\n",
       "      <th>2</th>\n",
       "      <td>3</td>\n",
       "      <td>1</td>\n",
       "      <td>3</td>\n",
       "      <td>Heikkinen, Miss. Laina</td>\n",
       "      <td>26.0</td>\n",
       "      <td>0</td>\n",
       "      <td>0</td>\n",
       "      <td>STON/O2. 3101282</td>\n",
       "      <td>7.9250</td>\n",
       "      <td>0</td>\n",
       "      <td>1</td>\n",
       "      <td>2</td>\n",
       "      <td>0</td>\n",
       "      <td>1</td>\n",
       "      <td>0</td>\n",
       "    </tr>\n",
       "    <tr>\n",
       "      <th>3</th>\n",
       "      <td>4</td>\n",
       "      <td>1</td>\n",
       "      <td>1</td>\n",
       "      <td>Futrelle, Mrs. Jacques Heath (Lily May Peel)</td>\n",
       "      <td>35.0</td>\n",
       "      <td>1</td>\n",
       "      <td>0</td>\n",
       "      <td>113803</td>\n",
       "      <td>53.1000</td>\n",
       "      <td>3</td>\n",
       "      <td>1</td>\n",
       "      <td>4</td>\n",
       "      <td>0</td>\n",
       "      <td>1</td>\n",
       "      <td>0</td>\n",
       "    </tr>\n",
       "    <tr>\n",
       "      <th>4</th>\n",
       "      <td>5</td>\n",
       "      <td>0</td>\n",
       "      <td>3</td>\n",
       "      <td>Allen, Mr. William Henry</td>\n",
       "      <td>35.0</td>\n",
       "      <td>0</td>\n",
       "      <td>0</td>\n",
       "      <td>373450</td>\n",
       "      <td>8.0500</td>\n",
       "      <td>0</td>\n",
       "      <td>1</td>\n",
       "      <td>3</td>\n",
       "      <td>1</td>\n",
       "      <td>0</td>\n",
       "      <td>1</td>\n",
       "    </tr>\n",
       "  </tbody>\n",
       "</table>\n",
       "</div>"
      ],
      "text/plain": [
       "   PassengerId  Survived  Pclass  \\\n",
       "0            1         0       3   \n",
       "1            2         1       1   \n",
       "2            3         1       3   \n",
       "3            4         1       1   \n",
       "4            5         0       3   \n",
       "\n",
       "                                                Name   Age  SibSp  Parch  \\\n",
       "0                            Braund, Mr. Owen Harris  22.0      1      0   \n",
       "1  Cumings, Mrs. John Bradley (Florence Briggs Th...  38.0      1      0   \n",
       "2                             Heikkinen, Miss. Laina  26.0      0      0   \n",
       "3       Futrelle, Mrs. Jacques Heath (Lily May Peel)  35.0      1      0   \n",
       "4                           Allen, Mr. William Henry  35.0      0      0   \n",
       "\n",
       "             Ticket     Fare  Cabin  Embarked  Name_title  Sex2  Sex_female  \\\n",
       "0         A/5 21171   7.2500      0         1           3     1           0   \n",
       "1          PC 17599  71.2833      3         2           4     0           1   \n",
       "2  STON/O2. 3101282   7.9250      0         1           2     0           1   \n",
       "3            113803  53.1000      3         1           4     0           1   \n",
       "4            373450   8.0500      0         1           3     1           0   \n",
       "\n",
       "   Sex_male  \n",
       "0         1  \n",
       "1         0  \n",
       "2         0  \n",
       "3         0  \n",
       "4         1  "
      ]
     },
     "execution_count": 32,
     "metadata": {},
     "output_type": "execute_result"
    }
   ],
   "source": [
    "train.head()   # "
   ]
  },
  {
   "cell_type": "markdown",
   "id": "5f1cc90f-0f4f-40da-a3da-bd618464eef1",
   "metadata": {},
   "source": [
    "## 피쳐가공 :불필요한 컬럼 모두 삭제"
   ]
  },
  {
   "cell_type": "markdown",
   "id": "9816a720-87b1-43ef-ae4e-8967c3b1945b",
   "metadata": {},
   "source": [
    "* 삭제컬럼 : col_list = ['PassengerId', 'Name', 'Ticket']"
   ]
  },
  {
   "cell_type": "code",
   "execution_count": 33,
   "id": "ad9f01cc-a0c9-4584-9e36-eb49901fc122",
   "metadata": {},
   "outputs": [
    {
     "data": {
      "text/html": [
       "<div>\n",
       "<style scoped>\n",
       "    .dataframe tbody tr th:only-of-type {\n",
       "        vertical-align: middle;\n",
       "    }\n",
       "\n",
       "    .dataframe tbody tr th {\n",
       "        vertical-align: top;\n",
       "    }\n",
       "\n",
       "    .dataframe thead th {\n",
       "        text-align: right;\n",
       "    }\n",
       "</style>\n",
       "<table border=\"1\" class=\"dataframe\">\n",
       "  <thead>\n",
       "    <tr style=\"text-align: right;\">\n",
       "      <th></th>\n",
       "      <th>Survived</th>\n",
       "      <th>Pclass</th>\n",
       "      <th>Age</th>\n",
       "      <th>SibSp</th>\n",
       "      <th>Parch</th>\n",
       "      <th>Fare</th>\n",
       "      <th>Cabin</th>\n",
       "      <th>Embarked</th>\n",
       "      <th>Name_title</th>\n",
       "      <th>Sex2</th>\n",
       "    </tr>\n",
       "  </thead>\n",
       "  <tbody>\n",
       "    <tr>\n",
       "      <th>0</th>\n",
       "      <td>0</td>\n",
       "      <td>3</td>\n",
       "      <td>22.0</td>\n",
       "      <td>1</td>\n",
       "      <td>0</td>\n",
       "      <td>7.2500</td>\n",
       "      <td>0</td>\n",
       "      <td>1</td>\n",
       "      <td>3</td>\n",
       "      <td>1</td>\n",
       "    </tr>\n",
       "    <tr>\n",
       "      <th>1</th>\n",
       "      <td>1</td>\n",
       "      <td>1</td>\n",
       "      <td>38.0</td>\n",
       "      <td>1</td>\n",
       "      <td>0</td>\n",
       "      <td>71.2833</td>\n",
       "      <td>3</td>\n",
       "      <td>2</td>\n",
       "      <td>4</td>\n",
       "      <td>0</td>\n",
       "    </tr>\n",
       "  </tbody>\n",
       "</table>\n",
       "</div>"
      ],
      "text/plain": [
       "   Survived  Pclass   Age  SibSp  Parch     Fare  Cabin  Embarked  Name_title  \\\n",
       "0         0       3  22.0      1      0   7.2500      0         1           3   \n",
       "1         1       1  38.0      1      0  71.2833      3         2           4   \n",
       "\n",
       "   Sex2  \n",
       "0     1  \n",
       "1     0  "
      ]
     },
     "execution_count": 33,
     "metadata": {},
     "output_type": "execute_result"
    }
   ],
   "source": [
    "col_list = ['PassengerId', 'Name', 'Ticket','Sex_female','Sex_male']\n",
    "train = train.drop(col_list, axis=1)\n",
    "train.head(2)   "
   ]
  },
  {
   "cell_type": "code",
   "execution_count": 34,
   "id": "e20f0330-bf30-46d6-ab00-e1b36298d9bb",
   "metadata": {},
   "outputs": [],
   "source": [
    "train = train.rename(columns={\"Sex2\":\"Sex\"})"
   ]
  },
  {
   "cell_type": "code",
   "execution_count": 35,
   "id": "a47732bd-d5ed-4409-b03e-e01bfec85efb",
   "metadata": {},
   "outputs": [
    {
     "data": {
      "text/html": [
       "<div>\n",
       "<style scoped>\n",
       "    .dataframe tbody tr th:only-of-type {\n",
       "        vertical-align: middle;\n",
       "    }\n",
       "\n",
       "    .dataframe tbody tr th {\n",
       "        vertical-align: top;\n",
       "    }\n",
       "\n",
       "    .dataframe thead th {\n",
       "        text-align: right;\n",
       "    }\n",
       "</style>\n",
       "<table border=\"1\" class=\"dataframe\">\n",
       "  <thead>\n",
       "    <tr style=\"text-align: right;\">\n",
       "      <th></th>\n",
       "      <th>Survived</th>\n",
       "      <th>Pclass</th>\n",
       "      <th>Age</th>\n",
       "      <th>SibSp</th>\n",
       "      <th>Parch</th>\n",
       "      <th>Fare</th>\n",
       "      <th>Cabin</th>\n",
       "      <th>Embarked</th>\n",
       "      <th>Name_title</th>\n",
       "      <th>Sex</th>\n",
       "    </tr>\n",
       "  </thead>\n",
       "  <tbody>\n",
       "    <tr>\n",
       "      <th>0</th>\n",
       "      <td>0</td>\n",
       "      <td>3</td>\n",
       "      <td>22.0</td>\n",
       "      <td>1</td>\n",
       "      <td>0</td>\n",
       "      <td>7.2500</td>\n",
       "      <td>0</td>\n",
       "      <td>1</td>\n",
       "      <td>3</td>\n",
       "      <td>1</td>\n",
       "    </tr>\n",
       "    <tr>\n",
       "      <th>1</th>\n",
       "      <td>1</td>\n",
       "      <td>1</td>\n",
       "      <td>38.0</td>\n",
       "      <td>1</td>\n",
       "      <td>0</td>\n",
       "      <td>71.2833</td>\n",
       "      <td>3</td>\n",
       "      <td>2</td>\n",
       "      <td>4</td>\n",
       "      <td>0</td>\n",
       "    </tr>\n",
       "  </tbody>\n",
       "</table>\n",
       "</div>"
      ],
      "text/plain": [
       "   Survived  Pclass   Age  SibSp  Parch     Fare  Cabin  Embarked  Name_title  \\\n",
       "0         0       3  22.0      1      0   7.2500      0         1           3   \n",
       "1         1       1  38.0      1      0  71.2833      3         2           4   \n",
       "\n",
       "   Sex  \n",
       "0    1  \n",
       "1    0  "
      ]
     },
     "execution_count": 35,
     "metadata": {},
     "output_type": "execute_result"
    }
   ],
   "source": [
    "train.head(2) "
   ]
  },
  {
   "cell_type": "markdown",
   "id": "96612041-4ffc-4ead-b136-df1824f1ce08",
   "metadata": {},
   "source": [
    "## 상관분석 : 피쳐별 영향도 분석\n",
    "* 피쳐간의 상관도(상관계수)가 높다 == 두 피쳐가 유사한 특징을 갖는다고 볼 수 있다.\n",
    "* 다중공선성 : 두 피쳐가 상관계수가 높은 것 --> 일반적으로 모델의 학습이 떨어진다."
   ]
  },
  {
   "cell_type": "markdown",
   "id": "94a60cf7-504a-40d7-99ca-132abfe876ec",
   "metadata": {},
   "source": [
    "<pre>\n",
    "±0.9이상             : 매우 높은 상관관계 → 다중공선성 문제\n",
    "±0.7이상 ~ ±0.9미만  : 높은 상관관계\n",
    "±0.4이상 ~ ±0.7미만  : 다소 높은 상관관계 → 0.7미만이면 다중공선성 안전\n",
    "±0.2이상 ~ ±0.4미만  : 낮은 상관관계\n",
    "±0.2미만             : 상관관계가 거의 없음\n",
    "(상관관계계수의 최댓값은 1이고 최솟값은 -1입니다. \n",
    " 상관관계계수가 1이라는 것은 그 둘이 같다는 것입니다.)"
   ]
  },
  {
   "cell_type": "code",
   "execution_count": 36,
   "id": "3cd4fddf-df06-4907-82c7-80e9b959cde8",
   "metadata": {},
   "outputs": [],
   "source": [
    "#! pip install seaborn"
   ]
  },
  {
   "cell_type": "code",
   "execution_count": 37,
   "id": "37960c1e-a837-4016-9ec1-187ec7207167",
   "metadata": {},
   "outputs": [],
   "source": [
    "import seaborn as sns"
   ]
  },
  {
   "cell_type": "code",
   "execution_count": 38,
   "id": "3dd92472-e520-4af8-ba42-d9df9144b50e",
   "metadata": {},
   "outputs": [
    {
     "data": {
      "text/plain": [
       "<AxesSubplot:>"
      ]
     },
     "execution_count": 38,
     "metadata": {},
     "output_type": "execute_result"
    },
    {
     "data": {
      "image/png": "[encoded data removed]",
      "text/plain": [
       "<Figure size 432x288 with 2 Axes>"
      ]
     },
     "metadata": {
      "needs_background": "light"
     },
     "output_type": "display_data"
    }
   ],
   "source": [
    "sns.heatmap(train.corr(), cmap='Blues' , annot=True, fmt=\".2f\")"
   ]
  },
  {
   "cell_type": "code",
   "execution_count": null,
   "id": "89a1fbe9-b0ba-426e-a6b5-4f31c8de908c",
   "metadata": {},
   "outputs": [],
   "source": []
  },
  {
   "cell_type": "markdown",
   "id": "2352ba5d-358d-4fb8-ba35-e7f302401c32",
   "metadata": {
    "tags": []
   },
   "source": [
    "### family = SibSp + Parch 파생변수\n",
    "<pre>\n",
    "1) train['family'] = SibSp(형제)  + Parch(부모자식) + 1\n",
    "\n",
    "2) alone == family와 상관도가 높은 관계로 만들지 않기로 결정\n",
    "   train['alone']  =  SibSp(형제)  + Parch(부모자식) ==> 혼자면1 아니면0\n",
    "  \n",
    "3) SibSp(형제)  + Parch(부모자식) drop\n",
    "\n"
   ]
  },
  {
   "cell_type": "code",
   "execution_count": 39,
   "id": "8c89bbd4-8efa-417d-83b8-0614e843d568",
   "metadata": {},
   "outputs": [
    {
     "data": {
      "text/html": [
       "<div>\n",
       "<style scoped>\n",
       "    .dataframe tbody tr th:only-of-type {\n",
       "        vertical-align: middle;\n",
       "    }\n",
       "\n",
       "    .dataframe tbody tr th {\n",
       "        vertical-align: top;\n",
       "    }\n",
       "\n",
       "    .dataframe thead th {\n",
       "        text-align: right;\n",
       "    }\n",
       "</style>\n",
       "<table border=\"1\" class=\"dataframe\">\n",
       "  <thead>\n",
       "    <tr style=\"text-align: right;\">\n",
       "      <th></th>\n",
       "      <th>SibSp</th>\n",
       "      <th>Parch</th>\n",
       "      <th>family</th>\n",
       "    </tr>\n",
       "  </thead>\n",
       "  <tbody>\n",
       "    <tr>\n",
       "      <th>0</th>\n",
       "      <td>1</td>\n",
       "      <td>0</td>\n",
       "      <td>2</td>\n",
       "    </tr>\n",
       "    <tr>\n",
       "      <th>1</th>\n",
       "      <td>1</td>\n",
       "      <td>0</td>\n",
       "      <td>2</td>\n",
       "    </tr>\n",
       "    <tr>\n",
       "      <th>2</th>\n",
       "      <td>0</td>\n",
       "      <td>0</td>\n",
       "      <td>1</td>\n",
       "    </tr>\n",
       "    <tr>\n",
       "      <th>3</th>\n",
       "      <td>1</td>\n",
       "      <td>0</td>\n",
       "      <td>2</td>\n",
       "    </tr>\n",
       "    <tr>\n",
       "      <th>4</th>\n",
       "      <td>0</td>\n",
       "      <td>0</td>\n",
       "      <td>1</td>\n",
       "    </tr>\n",
       "  </tbody>\n",
       "</table>\n",
       "</div>"
      ],
      "text/plain": [
       "   SibSp  Parch  family\n",
       "0      1      0       2\n",
       "1      1      0       2\n",
       "2      0      0       1\n",
       "3      1      0       2\n",
       "4      0      0       1"
      ]
     },
     "execution_count": 39,
     "metadata": {},
     "output_type": "execute_result"
    }
   ],
   "source": [
    "train['family'] = train['SibSp'] + train['Parch'] + 1\n",
    "train[['SibSp','Parch','family']].head()"
   ]
  },
  {
   "cell_type": "markdown",
   "id": "47bc4f61-a2da-44cd-b7dc-151b49175419",
   "metadata": {},
   "source": [
    "* 방법1) lambda 활용"
   ]
  },
  {
   "cell_type": "code",
   "execution_count": 40,
   "id": "b4b6ba4d-2d60-4f5d-a9b2-6c7133cd0e8b",
   "metadata": {},
   "outputs": [],
   "source": [
    "# # -------- 컬럼 하나에만 람다 적용하는 경우\n",
    "# # train['Age'] = train['Age'].apply(lambda x : 1 if x==20살 else 0) \n",
    "\n",
    "# # -------- 프레임 통째로 람다 적용하는 경우    , axis=1 추가\n",
    "# train['alone'] = train.apply(lambda x : 1 if x['SibSp'] + x['Parch'] == 0 else 0, axis=1)\n",
    "# train[['SibSp','Parch','family','alone']].head()"
   ]
  },
  {
   "cell_type": "markdown",
   "id": "e7e1a5c0-8f92-49ae-a342-80acb1ae884e",
   "metadata": {},
   "source": [
    "* 방법2) 컬럼+컬럼 연산"
   ]
  },
  {
   "cell_type": "code",
   "execution_count": 41,
   "id": "136f9b5d-fb78-45c3-8505-3f7c09c0e56a",
   "metadata": {},
   "outputs": [],
   "source": [
    "# train['alone']  =  train['SibSp'] + train['Parch'] == 0\n",
    "# train['alone']  = train['alone'].astype('int')\n",
    "# train[['SibSp','Parch','family','alone']].head()\n",
    "# # train.info()"
   ]
  },
  {
   "cell_type": "code",
   "execution_count": 42,
   "id": "219a3684-421b-4fc4-b275-d70fd31febc0",
   "metadata": {},
   "outputs": [
    {
     "data": {
      "text/html": [
       "<div>\n",
       "<style scoped>\n",
       "    .dataframe tbody tr th:only-of-type {\n",
       "        vertical-align: middle;\n",
       "    }\n",
       "\n",
       "    .dataframe tbody tr th {\n",
       "        vertical-align: top;\n",
       "    }\n",
       "\n",
       "    .dataframe thead th {\n",
       "        text-align: right;\n",
       "    }\n",
       "</style>\n",
       "<table border=\"1\" class=\"dataframe\">\n",
       "  <thead>\n",
       "    <tr style=\"text-align: right;\">\n",
       "      <th></th>\n",
       "      <th>Survived</th>\n",
       "      <th>Pclass</th>\n",
       "      <th>Age</th>\n",
       "      <th>Fare</th>\n",
       "      <th>Cabin</th>\n",
       "      <th>Embarked</th>\n",
       "      <th>Name_title</th>\n",
       "      <th>Sex</th>\n",
       "      <th>family</th>\n",
       "    </tr>\n",
       "  </thead>\n",
       "  <tbody>\n",
       "    <tr>\n",
       "      <th>0</th>\n",
       "      <td>0</td>\n",
       "      <td>3</td>\n",
       "      <td>22.0</td>\n",
       "      <td>7.2500</td>\n",
       "      <td>0</td>\n",
       "      <td>1</td>\n",
       "      <td>3</td>\n",
       "      <td>1</td>\n",
       "      <td>2</td>\n",
       "    </tr>\n",
       "    <tr>\n",
       "      <th>1</th>\n",
       "      <td>1</td>\n",
       "      <td>1</td>\n",
       "      <td>38.0</td>\n",
       "      <td>71.2833</td>\n",
       "      <td>3</td>\n",
       "      <td>2</td>\n",
       "      <td>4</td>\n",
       "      <td>0</td>\n",
       "      <td>2</td>\n",
       "    </tr>\n",
       "    <tr>\n",
       "      <th>2</th>\n",
       "      <td>1</td>\n",
       "      <td>3</td>\n",
       "      <td>26.0</td>\n",
       "      <td>7.9250</td>\n",
       "      <td>0</td>\n",
       "      <td>1</td>\n",
       "      <td>2</td>\n",
       "      <td>0</td>\n",
       "      <td>1</td>\n",
       "    </tr>\n",
       "    <tr>\n",
       "      <th>3</th>\n",
       "      <td>1</td>\n",
       "      <td>1</td>\n",
       "      <td>35.0</td>\n",
       "      <td>53.1000</td>\n",
       "      <td>3</td>\n",
       "      <td>1</td>\n",
       "      <td>4</td>\n",
       "      <td>0</td>\n",
       "      <td>2</td>\n",
       "    </tr>\n",
       "    <tr>\n",
       "      <th>4</th>\n",
       "      <td>0</td>\n",
       "      <td>3</td>\n",
       "      <td>35.0</td>\n",
       "      <td>8.0500</td>\n",
       "      <td>0</td>\n",
       "      <td>1</td>\n",
       "      <td>3</td>\n",
       "      <td>1</td>\n",
       "      <td>1</td>\n",
       "    </tr>\n",
       "  </tbody>\n",
       "</table>\n",
       "</div>"
      ],
      "text/plain": [
       "   Survived  Pclass   Age     Fare  Cabin  Embarked  Name_title  Sex  family\n",
       "0         0       3  22.0   7.2500      0         1           3    1       2\n",
       "1         1       1  38.0  71.2833      3         2           4    0       2\n",
       "2         1       3  26.0   7.9250      0         1           2    0       1\n",
       "3         1       1  35.0  53.1000      3         1           4    0       2\n",
       "4         0       3  35.0   8.0500      0         1           3    1       1"
      ]
     },
     "execution_count": 42,
     "metadata": {},
     "output_type": "execute_result"
    }
   ],
   "source": [
    "train = train.drop(['SibSp','Parch'], axis=1)\n",
    "train.head()"
   ]
  },
  {
   "cell_type": "markdown",
   "id": "cb1fff74-8244-46bd-890d-37e2b7ba93ee",
   "metadata": {
    "tags": []
   },
   "source": [
    "### Fare 구간화 (바이닝 )\n",
    "* 구간화(바이닝) : 연속형 변수값을 특정 구간으로 나누어 범주형으로 변환하는 것"
   ]
  },
  {
   "cell_type": "code",
   "execution_count": 43,
   "id": "cbbbe1f7-5ce7-448c-ac22-c68eeb42e7da",
   "metadata": {},
   "outputs": [
    {
     "data": {
      "text/plain": [
       "count    891.000000\n",
       "mean      32.204208\n",
       "std       49.693429\n",
       "min        0.000000\n",
       "25%        7.910400\n",
       "50%       14.454200\n",
       "75%       31.000000\n",
       "max      512.329200\n",
       "Name: Fare, dtype: float64"
      ]
     },
     "execution_count": 43,
     "metadata": {},
     "output_type": "execute_result"
    }
   ],
   "source": [
    "train['Fare'].describe()"
   ]
  },
  {
   "cell_type": "code",
   "execution_count": 44,
   "id": "ac7079a3-ddf5-4235-a397-55965aa63894",
   "metadata": {},
   "outputs": [
    {
     "data": {
      "text/plain": [
       "<AxesSubplot:>"
      ]
     },
     "execution_count": 44,
     "metadata": {},
     "output_type": "execute_result"
    },
    {
     "data": {
      "image/png": "[encoded data removed]",
      "text/plain": [
       "<Figure size 432x288 with 1 Axes>"
      ]
     },
     "metadata": {
      "needs_background": "light"
     },
     "output_type": "display_data"
    }
   ],
   "source": [
    "train['Fare'].hist()"
   ]
  },
  {
   "cell_type": "code",
   "execution_count": 45,
   "id": "e91df722-5df7-4348-a8f3-0e636e72854c",
   "metadata": {},
   "outputs": [
    {
     "data": {
      "text/plain": [
       "<AxesSubplot:xlabel='Fare', ylabel='Count'>"
      ]
     },
     "execution_count": 45,
     "metadata": {},
     "output_type": "execute_result"
    },
    {
     "data": {
      "image/png": "[encoded data removed]",
      "text/plain": [
       "<Figure size 1296x360 with 1 Axes>"
      ]
     },
     "metadata": {},
     "output_type": "display_data"
    }
   ],
   "source": [
    "sns.set(rc={'figure.figsize':(18, 5)})\n",
    "sns.histplot(data=train, x=\"Fare\")"
   ]
  },
  {
   "cell_type": "markdown",
   "id": "01d5aafc-8653-45fb-bda3-2543612094ad",
   "metadata": {},
   "source": [
    "* 방법1) train.loc[조건, 컬럼] = 값"
   ]
  },
  {
   "cell_type": "code",
   "execution_count": 46,
   "id": "e8c9a753-f6e5-4555-be30-0ab9e7c2eb77",
   "metadata": {},
   "outputs": [],
   "source": [
    "# train.loc[ train['Fare'] <=7.91   , 'Fare_binning' ] = 0\n",
    "# train.loc[ (train['Fare'] >= 7.91) & (train['Fare'] <=14.45)   , 'Fare_binning' ] = 1\n"
   ]
  },
  {
   "cell_type": "markdown",
   "id": "99885506-c501-4d80-9775-1953ad93395a",
   "metadata": {},
   "source": [
    "* 방법2) lambda"
   ]
  },
  {
   "cell_type": "code",
   "execution_count": 47,
   "id": "65419500-6240-4c74-9731-40371349d1a4",
   "metadata": {},
   "outputs": [],
   "source": [
    "# def myfare(fare):   \n",
    "#     res=0\n",
    "#     if fare > -1 and fare <= 7.91:\n",
    "#         res=0\n",
    "#     elif fare > 7.91 and fare <=14.45:\n",
    "#         res=1\n",
    "#     elif fare > 14.46 and fare <=31.00:\n",
    "#         res=2\n",
    "#     elif fare > 31.00 and fare <=100.00:\n",
    "#         res=3\n",
    "#     elif fare > 100.00 and fare <= 200.00:\n",
    "#         res=4\n",
    "#     elif fare > 200.00 and fare <= 300.00:\n",
    "#         res=5\n",
    "#     else: \n",
    "#         res=6\n",
    "#     return res\n",
    "# #myfare(10)\n",
    "\n",
    "# train['Fare_binning'] = train['Fare'].apply(lambda x : myfare(x))"
   ]
  },
  {
   "cell_type": "markdown",
   "id": "992bed50-121d-4466-a247-af7fc52fde1f",
   "metadata": {},
   "source": [
    "* 방법3) cut() qcut()\n",
    "<pre>\n",
    "  cut(df , 3 )  : 일정 간격으로 등분\n",
    "qcut(df , 3 )  : 일정 갯수로   등분"
   ]
  },
  {
   "cell_type": "markdown",
   "id": "c9d51780-2eae-4a63-a6a4-141b0d5f7ea5",
   "metadata": {},
   "source": [
    "<img src=\"img1.png\" width=400>"
   ]
  },
  {
   "cell_type": "code",
   "execution_count": 48,
   "id": "75f7796f-efaf-40b9-8c4d-f4642adf9425",
   "metadata": {},
   "outputs": [],
   "source": [
    "# train['Fare_binning'] = pd.cut(x=train['Fare'], bins=3, labels=['a','b','c'])\n",
    "# train[['Fare_binning','Fare']].head()\n",
    "# train[['Fare_binning']].value_counts()"
   ]
  },
  {
   "cell_type": "markdown",
   "id": "2e115227-c76b-4a89-96d9-bb1162028547",
   "metadata": {},
   "source": [
    "<font color=red><b>\n",
    "pd.cut( train[컬럼],  bins= [구간화] , labels=[구간화-1] )"
   ]
  },
  {
   "cell_type": "code",
   "execution_count": 49,
   "id": "9fb2accb-529c-4ee4-9b14-727a06204b1a",
   "metadata": {},
   "outputs": [
    {
     "data": {
      "text/plain": [
       "0"
      ]
     },
     "execution_count": 49,
     "metadata": {},
     "output_type": "execute_result"
    }
   ],
   "source": [
    "train['Fare'].isna().sum()"
   ]
  },
  {
   "cell_type": "code",
   "execution_count": 50,
   "id": "0ad86ff6-1b00-45be-9500-fc450692ac21",
   "metadata": {},
   "outputs": [
    {
     "data": {
      "text/plain": [
       "Fare_binning\n",
       "3               229\n",
       "1               223\n",
       "2               217\n",
       "4               169\n",
       "5                33\n",
       "6                17\n",
       "7                 3\n",
       "dtype: int64"
      ]
     },
     "execution_count": 50,
     "metadata": {},
     "output_type": "execute_result"
    }
   ],
   "source": [
    "train['Fare_binning'] = pd.cut(x=train['Fare'], \n",
    "                               bins=[-1.0, 7.91, 14.45, 31.00, 100.00, 200.00,300.00,600.00], \n",
    "                               labels= [1,2,3,4,5,6,7])\n",
    "train['Fare_binning'] = train['Fare_binning'].astype('int')\n",
    "train[['Fare_binning','Fare']].head()\n",
    "train[['Fare_binning']].value_counts()"
   ]
  },
  {
   "cell_type": "code",
   "execution_count": 51,
   "id": "b74db15e-03c4-46b5-9b26-9146c5a5ea80",
   "metadata": {},
   "outputs": [],
   "source": [
    "# train[train['Fare_binning'].isna()][['Fare_binning','Fare']]"
   ]
  },
  {
   "cell_type": "code",
   "execution_count": 52,
   "id": "afa55df4-f3c6-42e8-9c86-b9f367297bf8",
   "metadata": {},
   "outputs": [],
   "source": [
    "#pd.crosstab(train['Fare_binning'],train['Survived'])"
   ]
  },
  {
   "cell_type": "code",
   "execution_count": 53,
   "id": "1e4ab8f0-b113-4ba3-bf13-b1a5de51c318",
   "metadata": {},
   "outputs": [],
   "source": [
    "# train['Fare_binning'] = pd.qcut(x=train['Fare'], q=3, labels=['a','b','c'])\n",
    "# train[['Fare_binning','Fare']].head()\n",
    "# train[['Fare_binning']].value_counts()"
   ]
  },
  {
   "cell_type": "code",
   "execution_count": 54,
   "id": "0bd6a7c7-e245-440b-96e1-86ed5ca339e9",
   "metadata": {},
   "outputs": [],
   "source": [
    "train.drop(['Fare'], axis=1, inplace=True)"
   ]
  },
  {
   "cell_type": "code",
   "execution_count": 55,
   "id": "624fb49c-16f1-4691-9911-12f4623c7b51",
   "metadata": {},
   "outputs": [
    {
     "data": {
      "text/html": [
       "<div>\n",
       "<style scoped>\n",
       "    .dataframe tbody tr th:only-of-type {\n",
       "        vertical-align: middle;\n",
       "    }\n",
       "\n",
       "    .dataframe tbody tr th {\n",
       "        vertical-align: top;\n",
       "    }\n",
       "\n",
       "    .dataframe thead th {\n",
       "        text-align: right;\n",
       "    }\n",
       "</style>\n",
       "<table border=\"1\" class=\"dataframe\">\n",
       "  <thead>\n",
       "    <tr style=\"text-align: right;\">\n",
       "      <th></th>\n",
       "      <th>Survived</th>\n",
       "      <th>Pclass</th>\n",
       "      <th>Age</th>\n",
       "      <th>Cabin</th>\n",
       "      <th>Embarked</th>\n",
       "      <th>Name_title</th>\n",
       "      <th>Sex</th>\n",
       "      <th>family</th>\n",
       "      <th>Fare_binning</th>\n",
       "    </tr>\n",
       "  </thead>\n",
       "  <tbody>\n",
       "    <tr>\n",
       "      <th>0</th>\n",
       "      <td>0</td>\n",
       "      <td>3</td>\n",
       "      <td>22.0</td>\n",
       "      <td>0</td>\n",
       "      <td>1</td>\n",
       "      <td>3</td>\n",
       "      <td>1</td>\n",
       "      <td>2</td>\n",
       "      <td>1</td>\n",
       "    </tr>\n",
       "    <tr>\n",
       "      <th>1</th>\n",
       "      <td>1</td>\n",
       "      <td>1</td>\n",
       "      <td>38.0</td>\n",
       "      <td>3</td>\n",
       "      <td>2</td>\n",
       "      <td>4</td>\n",
       "      <td>0</td>\n",
       "      <td>2</td>\n",
       "      <td>4</td>\n",
       "    </tr>\n",
       "    <tr>\n",
       "      <th>2</th>\n",
       "      <td>1</td>\n",
       "      <td>3</td>\n",
       "      <td>26.0</td>\n",
       "      <td>0</td>\n",
       "      <td>1</td>\n",
       "      <td>2</td>\n",
       "      <td>0</td>\n",
       "      <td>1</td>\n",
       "      <td>2</td>\n",
       "    </tr>\n",
       "    <tr>\n",
       "      <th>3</th>\n",
       "      <td>1</td>\n",
       "      <td>1</td>\n",
       "      <td>35.0</td>\n",
       "      <td>3</td>\n",
       "      <td>1</td>\n",
       "      <td>4</td>\n",
       "      <td>0</td>\n",
       "      <td>2</td>\n",
       "      <td>4</td>\n",
       "    </tr>\n",
       "    <tr>\n",
       "      <th>4</th>\n",
       "      <td>0</td>\n",
       "      <td>3</td>\n",
       "      <td>35.0</td>\n",
       "      <td>0</td>\n",
       "      <td>1</td>\n",
       "      <td>3</td>\n",
       "      <td>1</td>\n",
       "      <td>1</td>\n",
       "      <td>2</td>\n",
       "    </tr>\n",
       "  </tbody>\n",
       "</table>\n",
       "</div>"
      ],
      "text/plain": [
       "   Survived  Pclass   Age  Cabin  Embarked  Name_title  Sex  family  \\\n",
       "0         0       3  22.0      0         1           3    1       2   \n",
       "1         1       1  38.0      3         2           4    0       2   \n",
       "2         1       3  26.0      0         1           2    0       1   \n",
       "3         1       1  35.0      3         1           4    0       2   \n",
       "4         0       3  35.0      0         1           3    1       1   \n",
       "\n",
       "   Fare_binning  \n",
       "0             1  \n",
       "1             4  \n",
       "2             2  \n",
       "3             4  \n",
       "4             2  "
      ]
     },
     "execution_count": 55,
     "metadata": {},
     "output_type": "execute_result"
    }
   ],
   "source": [
    "train.head()"
   ]
  },
  {
   "cell_type": "markdown",
   "id": "8ad388db-69d1-43b7-b749-350b6d6adb9d",
   "metadata": {},
   "source": [
    "### Age 구간화"
   ]
  },
  {
   "cell_type": "code",
   "execution_count": 56,
   "id": "4c903d54-b37c-42bf-9691-f5d29ccabf28",
   "metadata": {},
   "outputs": [
    {
     "data": {
      "text/plain": [
       "count    891.000000\n",
       "mean      29.757383\n",
       "std       13.269151\n",
       "min        0.420000\n",
       "25%       21.993243\n",
       "50%       30.000000\n",
       "75%       35.576577\n",
       "max       80.000000\n",
       "Name: Age, dtype: float64"
      ]
     },
     "execution_count": 56,
     "metadata": {},
     "output_type": "execute_result"
    }
   ],
   "source": [
    "train['Age'].describe()"
   ]
  },
  {
   "cell_type": "code",
   "execution_count": 57,
   "id": "8d75a791-c8ca-4fb1-9f11-b37928d53241",
   "metadata": {},
   "outputs": [
    {
     "data": {
      "text/plain": [
       "<AxesSubplot:xlabel='Age', ylabel='Count'>"
      ]
     },
     "execution_count": 57,
     "metadata": {},
     "output_type": "execute_result"
    },
    {
     "data": {
      "image/png": "[encoded data removed]",
      "text/plain": [
       "<Figure size 1296x360 with 1 Axes>"
      ]
     },
     "metadata": {},
     "output_type": "display_data"
    }
   ],
   "source": [
    "sns.set(rc={'figure.figsize':(18, 5)})\n",
    "sns.histplot(data=train, x=\"Age\")"
   ]
  },
  {
   "cell_type": "code",
   "execution_count": 58,
   "id": "192cacb8-8301-4a33-9f00-21ab900da1c8",
   "metadata": {},
   "outputs": [
    {
     "data": {
      "text/plain": [
       "<AxesSubplot:xlabel='Age', ylabel='Count'>"
      ]
     },
     "execution_count": 58,
     "metadata": {},
     "output_type": "execute_result"
    },
    {
     "data": {
      "image/png": "[encoded data removed]",
      "text/plain": [
       "<Figure size 1296x360 with 1 Axes>"
      ]
     },
     "metadata": {},
     "output_type": "display_data"
    }
   ],
   "source": [
    "sns.histplot(data=train, x=\"Age\", hue=\"Survived\")"
   ]
  },
  {
   "cell_type": "code",
   "execution_count": 59,
   "id": "255993a2-265b-4dba-8719-54a5f9154b4c",
   "metadata": {},
   "outputs": [],
   "source": [
    "train['Age_binning'] = pd.cut(x=train['Age'], \n",
    "                               bins=[-1.0, 12, 18, 22, 27, 33, 40, 66, 500], \n",
    "                               labels= [1,2,3,4,5,6,7,8])\n",
    "train['Age_binning'] = train['Age_binning'].astype('int')\n",
    "train[['Age_binning','Age']].head()\n",
    "train[['Age_binning']].value_counts()\n",
    "train.drop('Age', axis=1, inplace=True)"
   ]
  },
  {
   "cell_type": "code",
   "execution_count": 60,
   "id": "35467220-312c-4a1a-be2b-0ff71d0c2554",
   "metadata": {},
   "outputs": [
    {
     "name": "stdout",
     "output_type": "stream",
     "text": [
      "<class 'pandas.core.frame.DataFrame'>\n",
      "RangeIndex: 891 entries, 0 to 890\n",
      "Data columns (total 9 columns):\n",
      " #   Column        Non-Null Count  Dtype\n",
      "---  ------        --------------  -----\n",
      " 0   Survived      891 non-null    int64\n",
      " 1   Pclass        891 non-null    int64\n",
      " 2   Cabin         891 non-null    int8 \n",
      " 3   Embarked      891 non-null    int64\n",
      " 4   Name_title    891 non-null    int64\n",
      " 5   Sex           891 non-null    int8 \n",
      " 6   family        891 non-null    int64\n",
      " 7   Fare_binning  891 non-null    int32\n",
      " 8   Age_binning   891 non-null    int32\n",
      "dtypes: int32(2), int64(5), int8(2)\n",
      "memory usage: 43.6 KB\n"
     ]
    }
   ],
   "source": [
    "train.info()"
   ]
  },
  {
   "cell_type": "code",
   "execution_count": 61,
   "id": "7d951767-f653-4424-8191-14002275d291",
   "metadata": {},
   "outputs": [],
   "source": [
    "# train['family'].describe()"
   ]
  },
  {
   "cell_type": "code",
   "execution_count": 62,
   "id": "57c82a9e-c30b-4cf3-b5d6-0a54e8ff37cf",
   "metadata": {},
   "outputs": [
    {
     "data": {
      "text/html": [
       "<div>\n",
       "<style scoped>\n",
       "    .dataframe tbody tr th:only-of-type {\n",
       "        vertical-align: middle;\n",
       "    }\n",
       "\n",
       "    .dataframe tbody tr th {\n",
       "        vertical-align: top;\n",
       "    }\n",
       "\n",
       "    .dataframe thead th {\n",
       "        text-align: right;\n",
       "    }\n",
       "</style>\n",
       "<table border=\"1\" class=\"dataframe\">\n",
       "  <thead>\n",
       "    <tr style=\"text-align: right;\">\n",
       "      <th></th>\n",
       "      <th>Survived</th>\n",
       "      <th>Pclass</th>\n",
       "      <th>Cabin</th>\n",
       "      <th>Embarked</th>\n",
       "      <th>Name_title</th>\n",
       "      <th>Sex</th>\n",
       "      <th>family</th>\n",
       "      <th>Fare_binning</th>\n",
       "      <th>Age_binning</th>\n",
       "    </tr>\n",
       "  </thead>\n",
       "  <tbody>\n",
       "    <tr>\n",
       "      <th>0</th>\n",
       "      <td>0</td>\n",
       "      <td>3</td>\n",
       "      <td>0</td>\n",
       "      <td>1</td>\n",
       "      <td>3</td>\n",
       "      <td>1</td>\n",
       "      <td>2</td>\n",
       "      <td>1</td>\n",
       "      <td>3</td>\n",
       "    </tr>\n",
       "    <tr>\n",
       "      <th>1</th>\n",
       "      <td>1</td>\n",
       "      <td>1</td>\n",
       "      <td>3</td>\n",
       "      <td>2</td>\n",
       "      <td>4</td>\n",
       "      <td>0</td>\n",
       "      <td>2</td>\n",
       "      <td>4</td>\n",
       "      <td>6</td>\n",
       "    </tr>\n",
       "    <tr>\n",
       "      <th>2</th>\n",
       "      <td>1</td>\n",
       "      <td>3</td>\n",
       "      <td>0</td>\n",
       "      <td>1</td>\n",
       "      <td>2</td>\n",
       "      <td>0</td>\n",
       "      <td>1</td>\n",
       "      <td>2</td>\n",
       "      <td>4</td>\n",
       "    </tr>\n",
       "    <tr>\n",
       "      <th>3</th>\n",
       "      <td>1</td>\n",
       "      <td>1</td>\n",
       "      <td>3</td>\n",
       "      <td>1</td>\n",
       "      <td>4</td>\n",
       "      <td>0</td>\n",
       "      <td>2</td>\n",
       "      <td>4</td>\n",
       "      <td>6</td>\n",
       "    </tr>\n",
       "    <tr>\n",
       "      <th>4</th>\n",
       "      <td>0</td>\n",
       "      <td>3</td>\n",
       "      <td>0</td>\n",
       "      <td>1</td>\n",
       "      <td>3</td>\n",
       "      <td>1</td>\n",
       "      <td>1</td>\n",
       "      <td>2</td>\n",
       "      <td>6</td>\n",
       "    </tr>\n",
       "  </tbody>\n",
       "</table>\n",
       "</div>"
      ],
      "text/plain": [
       "   Survived  Pclass  Cabin  Embarked  Name_title  Sex  family  Fare_binning  \\\n",
       "0         0       3      0         1           3    1       2             1   \n",
       "1         1       1      3         2           4    0       2             4   \n",
       "2         1       3      0         1           2    0       1             2   \n",
       "3         1       1      3         1           4    0       2             4   \n",
       "4         0       3      0         1           3    1       1             2   \n",
       "\n",
       "   Age_binning  \n",
       "0            3  \n",
       "1            6  \n",
       "2            4  \n",
       "3            6  \n",
       "4            6  "
      ]
     },
     "execution_count": 62,
     "metadata": {},
     "output_type": "execute_result"
    }
   ],
   "source": [
    "train.head()"
   ]
  },
  {
   "cell_type": "code",
   "execution_count": 63,
   "id": "52786b2c-835b-40a1-a778-b525d348ae38",
   "metadata": {},
   "outputs": [
    {
     "data": {
      "image/png": "[encoded data removed]",
      "text/plain": [
       "<Figure size 1296x360 with 1 Axes>"
      ]
     },
     "metadata": {},
     "output_type": "display_data"
    }
   ],
   "source": [
    "sns.countplot(data=train, x=\"family\", hue=\"Survived\")\n",
    "# sns.histplot(data=train, x=\"family\", hue=\"Survived\", multiple=\"dodge\")\n",
    "train['family_binning'] = pd.cut(x=train['family'], bins=[0,1,4,7,11] , labels=[1,2,3,4])\n",
    "train['family_binning'] = train['family_binning'].astype('int')\n",
    "train.drop('family', axis=1, inplace=True)\n"
   ]
  },
  {
   "cell_type": "code",
   "execution_count": 64,
   "id": "d461c554-5d6d-4f0e-bfab-afd98a0ebc7a",
   "metadata": {},
   "outputs": [
    {
     "name": "stdout",
     "output_type": "stream",
     "text": [
      "<class 'pandas.core.frame.DataFrame'>\n",
      "RangeIndex: 891 entries, 0 to 890\n",
      "Data columns (total 9 columns):\n",
      " #   Column          Non-Null Count  Dtype\n",
      "---  ------          --------------  -----\n",
      " 0   Survived        891 non-null    int64\n",
      " 1   Pclass          891 non-null    int64\n",
      " 2   Cabin           891 non-null    int8 \n",
      " 3   Embarked        891 non-null    int64\n",
      " 4   Name_title      891 non-null    int64\n",
      " 5   Sex             891 non-null    int8 \n",
      " 6   Fare_binning    891 non-null    int32\n",
      " 7   Age_binning     891 non-null    int32\n",
      " 8   family_binning  891 non-null    int32\n",
      "dtypes: int32(3), int64(4), int8(2)\n",
      "memory usage: 40.2 KB\n"
     ]
    }
   ],
   "source": [
    "train.info()"
   ]
  },
  {
   "cell_type": "code",
   "execution_count": 65,
   "id": "2cc89063-c699-4a2a-89f0-4fda6d1ff2db",
   "metadata": {},
   "outputs": [
    {
     "data": {
      "text/html": [
       "<div>\n",
       "<style scoped>\n",
       "    .dataframe tbody tr th:only-of-type {\n",
       "        vertical-align: middle;\n",
       "    }\n",
       "\n",
       "    .dataframe tbody tr th {\n",
       "        vertical-align: top;\n",
       "    }\n",
       "\n",
       "    .dataframe thead th {\n",
       "        text-align: right;\n",
       "    }\n",
       "</style>\n",
       "<table border=\"1\" class=\"dataframe\">\n",
       "  <thead>\n",
       "    <tr style=\"text-align: right;\">\n",
       "      <th></th>\n",
       "      <th>Survived</th>\n",
       "      <th>Pclass</th>\n",
       "      <th>Cabin</th>\n",
       "      <th>Embarked</th>\n",
       "      <th>Name_title</th>\n",
       "      <th>Sex</th>\n",
       "      <th>Fare_binning</th>\n",
       "      <th>Age_binning</th>\n",
       "      <th>family_binning</th>\n",
       "    </tr>\n",
       "  </thead>\n",
       "  <tbody>\n",
       "    <tr>\n",
       "      <th>0</th>\n",
       "      <td>0</td>\n",
       "      <td>3</td>\n",
       "      <td>0</td>\n",
       "      <td>1</td>\n",
       "      <td>3</td>\n",
       "      <td>1</td>\n",
       "      <td>1</td>\n",
       "      <td>3</td>\n",
       "      <td>2</td>\n",
       "    </tr>\n",
       "    <tr>\n",
       "      <th>1</th>\n",
       "      <td>1</td>\n",
       "      <td>1</td>\n",
       "      <td>3</td>\n",
       "      <td>2</td>\n",
       "      <td>4</td>\n",
       "      <td>0</td>\n",
       "      <td>4</td>\n",
       "      <td>6</td>\n",
       "      <td>2</td>\n",
       "    </tr>\n",
       "    <tr>\n",
       "      <th>2</th>\n",
       "      <td>1</td>\n",
       "      <td>3</td>\n",
       "      <td>0</td>\n",
       "      <td>1</td>\n",
       "      <td>2</td>\n",
       "      <td>0</td>\n",
       "      <td>2</td>\n",
       "      <td>4</td>\n",
       "      <td>1</td>\n",
       "    </tr>\n",
       "    <tr>\n",
       "      <th>3</th>\n",
       "      <td>1</td>\n",
       "      <td>1</td>\n",
       "      <td>3</td>\n",
       "      <td>1</td>\n",
       "      <td>4</td>\n",
       "      <td>0</td>\n",
       "      <td>4</td>\n",
       "      <td>6</td>\n",
       "      <td>2</td>\n",
       "    </tr>\n",
       "    <tr>\n",
       "      <th>4</th>\n",
       "      <td>0</td>\n",
       "      <td>3</td>\n",
       "      <td>0</td>\n",
       "      <td>1</td>\n",
       "      <td>3</td>\n",
       "      <td>1</td>\n",
       "      <td>2</td>\n",
       "      <td>6</td>\n",
       "      <td>1</td>\n",
       "    </tr>\n",
       "  </tbody>\n",
       "</table>\n",
       "</div>"
      ],
      "text/plain": [
       "   Survived  Pclass  Cabin  Embarked  Name_title  Sex  Fare_binning  \\\n",
       "0         0       3      0         1           3    1             1   \n",
       "1         1       1      3         2           4    0             4   \n",
       "2         1       3      0         1           2    0             2   \n",
       "3         1       1      3         1           4    0             4   \n",
       "4         0       3      0         1           3    1             2   \n",
       "\n",
       "   Age_binning  family_binning  \n",
       "0            3               2  \n",
       "1            6               2  \n",
       "2            4               1  \n",
       "3            6               2  \n",
       "4            6               1  "
      ]
     },
     "execution_count": 65,
     "metadata": {},
     "output_type": "execute_result"
    }
   ],
   "source": [
    "train.head()"
   ]
  },
  {
   "cell_type": "markdown",
   "id": "91ddea1b-e58a-4c98-b86f-b256561cf459",
   "metadata": {
    "tags": []
   },
   "source": [
    "# 모델학습 & 평가"
   ]
  },
  {
   "cell_type": "markdown",
   "id": "320ed050-ce1b-4112-b16c-3ed30fb92961",
   "metadata": {},
   "source": [
    "<pre><b>\n",
    "지도학습   :   Supervised learning   : 분류(classsification), 회귀(regression)\n",
    "비지도학습 : Unsupervised learning   : 군집(clustering)\n"
   ]
  },
  {
   "cell_type": "markdown",
   "id": "9d459d20-9e38-44a6-97a0-bfee98e9092c",
   "metadata": {
    "tags": []
   },
   "source": [
    "## 문제지 답안지 분리"
   ]
  },
  {
   "cell_type": "code",
   "execution_count": 66,
   "id": "6516e119-5d8e-421e-8d7d-a532685d959a",
   "metadata": {},
   "outputs": [],
   "source": [
    "y = train['Survived']\n",
    "X = train.drop(['Survived'], axis=1)\n",
    "# print(y[:3])\n",
    "# print(X.head())"
   ]
  },
  {
   "cell_type": "code",
   "execution_count": 67,
   "id": "814a6644-15c5-4e30-b344-852d419e1628",
   "metadata": {},
   "outputs": [
    {
     "name": "stdout",
     "output_type": "stream",
     "text": [
      "(712, 8) (179, 8) (712,) (179,)\n"
     ]
    }
   ],
   "source": [
    "X_train,X_test, y_train, y_test = train_test_split(X, y, \n",
    "                                                   test_size=0.2, \n",
    "                                                   random_state=1234,\n",
    "                                                   shuffle=True\n",
    "                                                   )\n",
    "print(X_train.shape, X_test.shape, y_train.shape, y_test.shape)"
   ]
  },
  {
   "cell_type": "markdown",
   "id": "7e7534e7-0360-4867-97db-a676afcfd9a5",
   "metadata": {},
   "source": [
    "## 모델 선정 & 학습 & 예측 & 평가"
   ]
  },
  {
   "cell_type": "code",
   "execution_count": 68,
   "id": "e2959e79-ff33-4384-a3aa-3d530950d458",
   "metadata": {},
   "outputs": [],
   "source": [
    "def my_socre(y_test, pred):\n",
    "    report = classification_report(y_test, pred)\n",
    "    print(report)\n",
    "\n",
    "    accuracy = accuracy_score(y_test, pred)\n",
    "    precision = precision_score(y_test, pred)  #, average='binary')\n",
    "    recall = recall_score(y_test, pred)\n",
    "    f1 = f1_score(y_test, pred)\n",
    "    print(f\"정확도{accuracy:.4f}  정밀도{precision:.4f}  재현률{recall:.4f}  f1{f1:.4f}\")"
   ]
  },
  {
   "cell_type": "code",
   "execution_count": 69,
   "id": "575f3caa-db13-495c-9052-615943af02ba",
   "metadata": {},
   "outputs": [
    {
     "name": "stdout",
     "output_type": "stream",
     "text": [
      "------------------------------------------------------------\n",
      "RandomForestClassifier\n",
      "              precision    recall  f1-score   support\n",
      "\n",
      "           0       0.85      0.92      0.88       109\n",
      "           1       0.85      0.74      0.79        70\n",
      "\n",
      "    accuracy                           0.85       179\n",
      "   macro avg       0.85      0.83      0.84       179\n",
      "weighted avg       0.85      0.85      0.85       179\n",
      "\n",
      "정확도0.8492  정밀도0.8525  재현률0.7429  f10.7939\n",
      "------------------------------------------------------------\n",
      "LogisticRegression\n",
      "              precision    recall  f1-score   support\n",
      "\n",
      "           0       0.83      0.92      0.87       109\n",
      "           1       0.84      0.70      0.77        70\n",
      "\n",
      "    accuracy                           0.83       179\n",
      "   macro avg       0.84      0.81      0.82       179\n",
      "weighted avg       0.83      0.83      0.83       179\n",
      "\n",
      "정확도0.8324  정밀도0.8448  재현률0.7000  f10.7656\n",
      "------------------------------------------------------------\n",
      "KNeighborsClassifier\n",
      "              precision    recall  f1-score   support\n",
      "\n",
      "           0       0.81      0.90      0.85       109\n",
      "           1       0.81      0.67      0.73        70\n",
      "\n",
      "    accuracy                           0.81       179\n",
      "   macro avg       0.81      0.79      0.79       179\n",
      "weighted avg       0.81      0.81      0.81       179\n",
      "\n",
      "정확도0.8101  정밀도0.8103  재현률0.6714  f10.7344\n",
      "------------------------------------------------------------\n",
      "DecisionTreeClassifier\n",
      "              precision    recall  f1-score   support\n",
      "\n",
      "           0       0.81      0.90      0.85       109\n",
      "           1       0.81      0.67      0.73        70\n",
      "\n",
      "    accuracy                           0.81       179\n",
      "   macro avg       0.81      0.79      0.79       179\n",
      "weighted avg       0.81      0.81      0.81       179\n",
      "\n",
      "정확도0.8101  정밀도0.8103  재현률0.6714  f10.7344\n",
      "------------------------------------------------------------\n",
      "LinearSVC\n",
      "              precision    recall  f1-score   support\n",
      "\n",
      "           0       0.82      0.92      0.87       109\n",
      "           1       0.84      0.69      0.76        70\n",
      "\n",
      "    accuracy                           0.83       179\n",
      "   macro avg       0.83      0.80      0.81       179\n",
      "weighted avg       0.83      0.83      0.82       179\n",
      "\n",
      "정확도0.8268  정밀도0.8421  재현률0.6857  f10.7559\n"
     ]
    }
   ],
   "source": [
    "model_list = [RandomForestClassifier(n_estimators=300, random_state=1234) ,\n",
    "              LogisticRegression(penalty=\"l2\", random_state=1234),\n",
    "              KNeighborsClassifier(),\n",
    "              DecisionTreeClassifier(),\n",
    "              LinearSVC()\n",
    "             ]\n",
    "# model = RandomForestClassifier()\n",
    "for model in model_list:\n",
    "    model.fit(X_train, y_train)  #---학습해라\n",
    "    pred = model.predict(X_test)\n",
    "    #acc_score = accuracy_score(y_test, pred)\n",
    "    print(\"--\"*30)\n",
    "    print(f\"{model.__class__.__name__}\")\n",
    "    \n",
    "    my_socre(y_test, pred)\n"
   ]
  },
  {
   "cell_type": "code",
   "execution_count": null,
   "id": "c5d41734-5108-4e44-9d2f-b499bb5eef0e",
   "metadata": {},
   "outputs": [],
   "source": []
  },
  {
   "cell_type": "code",
   "execution_count": null,
   "id": "33d8a366-0c5d-465e-b647-73f455232f7f",
   "metadata": {},
   "outputs": [],
   "source": []
  },
  {
   "cell_type": "markdown",
   "id": "852d1ed7-ecf4-4c79-94ad-47a377dccebd",
   "metadata": {},
   "source": [
    "### 연습용 : precision_recall_curve(y_test, proba[:, 1])"
   ]
  },
  {
   "cell_type": "code",
   "execution_count": 70,
   "id": "a55540cc-25f4-4a91-b1bb-9a248ab86b8d",
   "metadata": {},
   "outputs": [
    {
     "name": "stdout",
     "output_type": "stream",
     "text": [
      "0.8491620111731844\n",
      "정답 [1 0 0 1 0]\n",
      "예측 [1 0 0 1 0]\n",
      "예측확률\n",
      " [[0.         1.        ]\n",
      " [0.84162351 0.15837649]\n",
      " [0.99857143 0.00142857]\n",
      " [0.1        0.9       ]\n",
      " [0.5105     0.4895    ]]\n",
      "              precision    recall  f1-score   support\n",
      "\n",
      "           0       0.85      0.92      0.88       109\n",
      "           1       0.85      0.74      0.79        70\n",
      "\n",
      "    accuracy                           0.85       179\n",
      "   macro avg       0.85      0.83      0.84       179\n",
      "weighted avg       0.85      0.85      0.85       179\n",
      "\n",
      "정확도0.8492  정밀도0.8525  재현률0.7429  f10.7939\n"
     ]
    }
   ],
   "source": [
    "model = RandomForestClassifier()\n",
    "model.fit(X_train, y_train)  #---학습해라\n",
    "pred = model.predict(X_test)\n",
    "proba = model.predict_proba(X_test)\n",
    "accuracy = accuracy_score(y_test, pred)\n",
    "print(accuracy)\n",
    "\n",
    "print(\"정답\" , y_test.values[:5])\n",
    "print(\"예측\" , pred[:5])\n",
    "print(\"예측확률\\n\", proba[:5])\n",
    "\n",
    "my_socre(y_test, pred)"
   ]
  },
  {
   "cell_type": "code",
   "execution_count": 71,
   "id": "11c53668-aa98-4684-acbc-9bf26a2f92bc",
   "metadata": {},
   "outputs": [
    {
     "name": "stdout",
     "output_type": "stream",
     "text": [
      "[0.39106145 0.41463415 0.41717791 0.41975309 0.42236025] \n",
      " [1.         0.97142857 0.97142857 0.97142857 0.97142857] \n",
      " [0.         0.00142857 0.0025     0.00333333 0.00428571]\n",
      "108 108 107\n"
     ]
    },
    {
     "data": {
      "image/png": "[encoded data removed]",
      "text/plain": [
       "<Figure size 360x216 with 1 Axes>"
      ]
     },
     "metadata": {},
     "output_type": "display_data"
    }
   ],
   "source": [
    "precision, recall, th = precision_recall_curve(y_test, proba[:, 1])\n",
    "print(precision[:5],'\\n', recall[:5], '\\n',th[:5])\n",
    "print(len(precision), len(recall), len(th))\n",
    "\n",
    "sns.set(rc={'figure.figsize':(5, 3)})\n",
    "plt.figure()\n",
    "plt.xlabel(\"threadhold\")\n",
    "plt.ylabel(\"score\")\n",
    "plt.plot(th, precision[:len(th)], \"b\", linestyle=\"--\", label='precision')\n",
    "plt.plot(th, recall[:len(th)]   , \"r\", label='recall')\n",
    "plt.legend()\n",
    "plt.show()"
   ]
  },
  {
   "cell_type": "markdown",
   "id": "63012e3f-4c22-4dc3-a7ff-a74aeacf878d",
   "metadata": {},
   "source": [
    "<img width=300 src='https://www.researchgate.net/profile/Sooji-Han/publication/334506914/figure/fig1/AS:781491369955333@1563333470324/Precision-recall-curve.ppm'>"
   ]
  },
  {
   "cell_type": "markdown",
   "id": "30f66ddc-fe72-454e-be8f-7b7bd87ed0d0",
   "metadata": {},
   "source": [
    "### 연습용 : roc_curve(y_test, proba[:, 1])\n",
    "<pre>\n",
    "양성에 대한 오답/정답 비율\n",
    "X축 : F**P**R : \n",
    "Y축 : T**P**R : "
   ]
  },
  {
   "cell_type": "markdown",
   "id": "935ff804-fca9-4840-b372-13414c1798b3",
   "metadata": {},
   "source": [
    "<img src=\"https://gusalsdmlwlq.github.io/assets/images/post2/roc_curve.png\" widtdh=300>"
   ]
  },
  {
   "cell_type": "code",
   "execution_count": 72,
   "id": "044c1fdb-3ede-48fb-bbaa-d0848388ca39",
   "metadata": {},
   "outputs": [
    {
     "name": "stdout",
     "output_type": "stream",
     "text": [
      "[0. 0. 0. 0. 0.] \n",
      " [0.         0.08571429 0.11428571 0.14285714 0.15714286] \n",
      " [2.      1.      0.995   0.99125 0.99   ]\n",
      "66 66 66\n"
     ]
    },
    {
     "data": {
      "image/png": "[encoded data removed]",
      "text/plain": [
       "<Figure size 360x216 with 1 Axes>"
      ]
     },
     "metadata": {},
     "output_type": "display_data"
    }
   ],
   "source": [
    "fpr, tpr, th = roc_curve(y_test, proba[:, 1])\n",
    "print(fpr[:5],'\\n', tpr[:5], '\\n',th[:5])\n",
    "print(len(fpr), len(tpr), len(th))\n",
    "\n",
    "sns.set(rc={'figure.figsize':(5, 3)})\n",
    "plt.figure()\n",
    "plt.xlabel(\"FPR - False Positive\")\n",
    "plt.ylabel(\"TPR - True Positive\")\n",
    "plt.plot(fpr, tpr,     \"r\",   label='rate')\n",
    "plt.plot([0,1], [0,1]  ,\"b\",  linestyle=\"--\", label='random')\n",
    "plt.legend()\n",
    "plt.show()"
   ]
  },
  {
   "cell_type": "markdown",
   "id": "3b0f1260-4e10-45d3-be41-eba4441dd640",
   "metadata": {},
   "source": [
    "### 연습용 : th 조절\n",
    "* sklearn Default <b>threadholds > 0.5  --->  0.5보다 커야 1로 예측<b>"
   ]
  },
  {
   "cell_type": "code",
   "execution_count": 154,
   "id": "a6fc3a7f-a4a2-4d39-9e71-37ed933032f5",
   "metadata": {},
   "outputs": [
    {
     "name": "stdout",
     "output_type": "stream",
     "text": [
      "model.predict_proba() \n",
      " [[0.         1.        ]\n",
      " [0.84162351 0.15837649]\n",
      " [0.99857143 0.00142857]\n",
      " [0.1        0.9       ]\n",
      " [0.5105     0.4895    ]\n",
      " [0.51       0.49      ]\n",
      " [0.136      0.864     ]\n",
      " [0.69333333 0.30666667]\n",
      " [0.86088074 0.13911926]\n",
      " [0.09752778 0.90247222]]\n",
      "[ True False False  True False False  True False False  True]\n",
      "[1 0 0 1 0 0 1 0 0 1]\n",
      "[1 0 0 1 1 1 1 0 0 1]\n"
     ]
    }
   ],
   "source": [
    "proba = model.predict_proba(X_test[:10])\n",
    "print(\"model.predict_proba() \\n\", proba)\n",
    "print(  (proba[:,1]>0.5))\n",
    "print(  (proba[:,1]>0.5).astype(int))\n",
    "\n",
    "print(  (proba[:,1]>0.47).astype(int))"
   ]
  },
  {
   "cell_type": "markdown",
   "id": "0c34d4e7-7ebb-4a35-9fff-ac69c2340151",
   "metadata": {},
   "source": [
    "--- \n",
    "<pre>\n",
    "proba = model.predict_proba(X_test)\n",
    "<b>proba                        proba[:,1]>0.5    proba[:,1]>0.47</b>\n",
    " [[0.         1.        ]    1                 1 \n",
    " [0.84162351 0.15837649]     0                 0\n",
    " [0.99857143 0.00142857]     0                 0\n",
    " [0.1        0.9       ]     1                 1\n",
    " <font color=red>\n",
    " [0.5105     0.4895    ]     0                 1\n",
    " [0.51       0.49      ]     0                 1\n",
    " </font>\n",
    " [0.136      0.864     ]     1                 1\n",
    " [0.69333333 0.30666667]     0                 0\n",
    " [0.86088074 0.13911926]     0                 0\n",
    " [0.09752778 0.90247222]]    1                 1\n",
    "</pre>\n",
    "---"
   ]
  },
  {
   "cell_type": "code",
   "execution_count": 158,
   "id": "d6d16516-beb1-4f0a-adf4-f7cdcb882f08",
   "metadata": {},
   "outputs": [
    {
     "name": "stdout",
     "output_type": "stream",
     "text": [
      "         FPR       TPR        TH      DIFF\n",
      "61  0.825688  0.957143  0.004718  0.131455\n",
      "62  0.834862  0.971429  0.004693  0.136566\n",
      "63  0.853211  0.971429  0.004286  0.118218\n",
      "64  0.880734  0.971429  0.001429  0.090695\n",
      "65  1.000000  1.000000  0.000000  0.000000\n"
     ]
    },
    {
     "data": {
      "text/plain": [
       "0.4383333333333333"
      ]
     },
     "execution_count": 158,
     "metadata": {},
     "output_type": "execute_result"
    }
   ],
   "source": [
    "roc_df = pd.DataFrame(\n",
    "    {\n",
    "    'FPR'  : fpr, \n",
    "    'TPR'  : tpr, \n",
    "    'TH'   : th,\n",
    "    'DIFF' : tpr - fpr}\n",
    ")\n",
    "print(roc_df.tail())\n",
    "                  \n",
    "roc_df[roc_df['DIFF'] == roc_df['DIFF'].max()]"
   ]
  },
  {
   "cell_type": "code",
   "execution_count": 148,
   "id": "35214b40-cfdf-4a93-8da6-465c64638540",
   "metadata": {},
   "outputs": [
    {
     "name": "stdout",
     "output_type": "stream",
     "text": [
      "0.4383333333333333\n",
      "[[0.84162351 0.15837649]\n",
      " [0.99857143 0.00142857]\n",
      " [0.1        0.9       ]\n",
      " [0.5105     0.4895    ]\n",
      " [0.51       0.49      ]]\n",
      "[0 0 1 0 0]\n",
      "[0 0 1 1 1]\n"
     ]
    }
   ],
   "source": [
    "# opt_th = 0.4383333333333333\n",
    "opt_th = roc_df[roc_df['DIFF'] == roc_df['DIFF'].max()]['TH'].values[0]\n",
    "\n",
    "print(opt_th)\n",
    "\n",
    "proba = model.predict_proba(X_test)\n",
    "print(proba[1:6])\n",
    "pred = model.predict(X_test)\n",
    "print(pred[1:6])\n",
    "# -----------------------------------\n",
    "re_proba = proba[:,1] >= opt_th   #  > 0.438333\n",
    "print(re_proba[1:6].astype(int))"
   ]
  },
  {
   "cell_type": "markdown",
   "id": "65aa467a-304b-4310-9f76-3780510b0a62",
   "metadata": {},
   "source": [
    "### 임계치 조정 후 점수 확인"
   ]
  },
  {
   "cell_type": "code",
   "execution_count": 152,
   "id": "e984c39a-5026-4b7a-a99d-d63eab627ef9",
   "metadata": {},
   "outputs": [
    {
     "name": "stdout",
     "output_type": "stream",
     "text": [
      "              precision    recall  f1-score   support\n",
      "\n",
      "           0       0.85      0.92      0.88       109\n",
      "           1       0.85      0.74      0.79        70\n",
      "\n",
      "    accuracy                           0.85       179\n",
      "   macro avg       0.85      0.83      0.84       179\n",
      "weighted avg       0.85      0.85      0.85       179\n",
      "\n",
      "정확도0.8492  정밀도0.8525  재현률0.7429  f10.7939\n",
      "------------------------------------------------------------\n",
      "              precision    recall  f1-score   support\n",
      "\n",
      "           0       0.86      0.90      0.88       109\n",
      "           1       0.83      0.77      0.80        70\n",
      "\n",
      "    accuracy                           0.85       179\n",
      "   macro avg       0.85      0.84      0.84       179\n",
      "weighted avg       0.85      0.85      0.85       179\n",
      "\n",
      "정확도0.8492  정밀도0.8308  재현률0.7714  f10.8000\n"
     ]
    }
   ],
   "source": [
    "proba = model.predict_proba(X_test)\n",
    "my_socre(y_test, pred)\n",
    "print(\"--\" * 30)\n",
    "\n",
    "re_proba = proba[:,1] >= opt_th   #  > 0.438333\n",
    "my_socre(y_test, re_proba)\n"
   ]
  },
  {
   "cell_type": "code",
   "execution_count": null,
   "id": "ddb61d4d-b03a-4187-84c3-2a09082a975e",
   "metadata": {},
   "outputs": [],
   "source": []
  },
  {
   "cell_type": "code",
   "execution_count": null,
   "id": "c5c73570-caeb-4344-8626-457d7f38a323",
   "metadata": {},
   "outputs": [],
   "source": []
  },
  {
   "cell_type": "markdown",
   "id": "ca1ca50a-0475-4809-ad90-9e7d04de45de",
   "metadata": {},
   "source": [
    "<pre>\n",
    "RandomForestClassifier정확도 : 0.810056\n",
    "LogisticRegression정확도 : 0.821229\n",
    "KNeighborsClassifier정확도 : 0.709497\n",
    "DecisionTreeClassifier정확도 : 0.793296\n",
    "LinearSVC정확도 : 0.759777\n",
    "-----------------------------------------------평균나이 , Name_title\n",
    "RandomForestClassifier \t\t 정확도:0.8268\n",
    "LogisticRegression \t\t 정확도:0.8492\n",
    "KNeighborsClassifier \t\t 정확도:0.7263\n",
    "DecisionTreeClassifier \t\t 정확도:0.7989\n",
    "LinearSVC \t\t 정확도:0.7430\n",
    "----------------------------------------------- alone family 파생변수 추가\n",
    "RandomForestClassifier \t\t 정확도:0.8268\n",
    "LogisticRegression \t\t 정확도:0.8324\n",
    "KNeighborsClassifier \t\t 정확도:0.7263\n",
    "DecisionTreeClassifier \t\t 정확도:0.7933\n",
    "LinearSVC \t\t 정확도:0.8101\n",
    "RandomForestClassifier정확도 : 0.81005\n",
    "----------------------------------------------- family 파생변수 추가\n",
    "RandomForestClassifier \t\t 정확도:0.8324\n",
    "LogisticRegression \t\t 정확도:0.8380\n",
    "KNeighborsClassifier \t\t 정확도:0.7207\n",
    "DecisionTreeClassifier \t\t 정확도:0.8045\n",
    "LinearSVC \t\t 정확도:0.6201\n",
    "----------------------------------------------- family 파생변수 추가, 요금구간화\n",
    "RandomForestClassifier \t\t 정확도:0.8380\n",
    "LogisticRegression \t\t 정확도:0.8212\n",
    "KNeighborsClassifier \t\t 정확도:0.7933\n",
    "DecisionTreeClassifier \t\t 정확도:0.7821\n",
    "LinearSVC \t\t 정확도:0.8101\n",
    "-----------------------------------------------  Fare , family, Age 구간화\n",
    "RandomForestClassifier \t\t 정확도:0.8492\n",
    "LogisticRegression \t\t 정확도:0.8324\n",
    "KNeighborsClassifier \t\t 정확도:0.8101\n",
    "DecisionTreeClassifier \t\t 정확도:0.8156\n",
    "LinearSVC \t\t 정확도:0.8324\n"
   ]
  },
  {
   "cell_type": "markdown",
   "id": "19f1ed75-1e42-48f3-857d-25b70ef3fe25",
   "metadata": {
    "tags": []
   },
   "source": [
    "# 모델튜닝 & 검증\n"
   ]
  },
  {
   "cell_type": "markdown",
   "id": "49ea1299-9a5a-4783-80a8-b24ffc2736ee",
   "metadata": {},
   "source": [
    "* confusion_matrix\n",
    "<table border=1>\n",
    "<tr>\n",
    "<td>\n",
    "    <table border=1>\n",
    "    <tr>\n",
    "    <td></td>\n",
    "    <td colspan=2>예측<br>N&nbsp;&nbsp;P</td>\n",
    "    </tr>\n",
    "    <tr>\n",
    "    <td rowspan=2>실N<br>제P</td>\n",
    "    <td>TN</td>\n",
    "    <td>FP</td>\n",
    "    </tr>\n",
    "    <tr>\n",
    "    <td>FN</td>\n",
    "    <td>TP</td>\n",
    "    </tr>\n",
    "    </table>\n",
    "</td>\n",
    "<td>\n",
    "    $accuracy(정확도) = {TN+TP \\over TN+FP+FN+TP}$ <br>\n",
    "    $precision(정밀도) = {TP \\over FP+TP}$ <br>\n",
    "    $recall(재현률) = {TP \\over FN+TP}$ <br>\n",
    "    $TPR = Sensitivity(민감도) = {TP \\over FN+TP}$ <br>\n",
    "    $FPR (1-특이도) =  {FP \\over TN+FP}$ <br>\n",
    "    $Specificity(특이도) = TNR =  {TN \\over TN+FP}$\n",
    "</td>\n",
    "</tr>\n",
    "</table>"
   ]
  },
  {
   "cell_type": "code",
   "execution_count": null,
   "id": "f7f6c1d8-883f-4ed5-86a0-fdb538998555",
   "metadata": {},
   "outputs": [],
   "source": []
  },
  {
   "cell_type": "code",
   "execution_count": null,
   "id": "18a65ed0-95d2-4767-958e-cb03bbdb73a3",
   "metadata": {},
   "outputs": [],
   "source": []
  },
  {
   "cell_type": "code",
   "execution_count": null,
   "id": "e40eba21-13cd-4f5c-a8ca-208d540ad62b",
   "metadata": {},
   "outputs": [],
   "source": []
  }
 ],
 "metadata": {
  "kernelspec": {
   "display_name": "Python 3 (ipykernel)",
   "language": "python",
   "name": "python3"
  },
  "language_info": {
   "codemirror_mode": {
    "name": "ipython",
    "version": 3
   },
   "file_extension": ".py",
   "mimetype": "text/x-python",
   "name": "python",
   "nbconvert_exporter": "python",
   "pygments_lexer": "ipython3",
   "version": "3.8.8"
  },
  "toc-autonumbering": true,
  "toc-showmarkdowntxt": true
 },
 "nbformat": 4,
 "nbformat_minor": 5
}
