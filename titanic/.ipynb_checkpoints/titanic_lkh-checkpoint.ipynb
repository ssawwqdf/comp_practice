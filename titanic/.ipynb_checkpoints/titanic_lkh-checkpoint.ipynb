{
 "cells": [
  {
   "cell_type": "markdown",
   "id": "2d8035b7-5ba8-4a46-a0ca-eb663847cbaf",
   "metadata": {},
   "source": [
    "<img src=./logo.png><br>\n",
    "* ref : https://www.kaggle.com/c/titanic"
   ]
  },
  {
   "cell_type": "code",
   "execution_count": 816,
   "id": "aba0b6f0-760c-4685-b76e-0cba503c9222",
   "metadata": {},
   "outputs": [],
   "source": [
    "import pandas as pd\n",
    "import numpy as np\n",
    "import matplotlib.pyplot as plt"
   ]
  },
  {
   "cell_type": "code",
   "execution_count": 817,
   "id": "4ee0e1f6-4abc-49ec-bb96-8eddd8ca510b",
   "metadata": {},
   "outputs": [],
   "source": [
    "# ! pip install matplotlib"
   ]
  },
  {
   "cell_type": "markdown",
   "id": "26a666bf-b87a-4e3c-8193-10155ce01fe4",
   "metadata": {},
   "source": [
    "# Data Load"
   ]
  },
  {
   "cell_type": "code",
   "execution_count": 818,
   "id": "fb4b9cff-ae08-4497-82b6-f61c776e861c",
   "metadata": {},
   "outputs": [],
   "source": [
    "train = pd.read_csv(\"./dataset/train.csv\")"
   ]
  },
  {
   "cell_type": "code",
   "execution_count": 819,
   "id": "910fc9f5-4c5a-4c35-9683-87b0b4555d58",
   "metadata": {},
   "outputs": [
    {
     "name": "stdout",
     "output_type": "stream",
     "text": [
      "(891, 12)\n",
      "<class 'pandas.core.frame.DataFrame'>\n",
      "RangeIndex: 891 entries, 0 to 890\n",
      "Data columns (total 12 columns):\n",
      " #   Column       Non-Null Count  Dtype  \n",
      "---  ------       --------------  -----  \n",
      " 0   PassengerId  891 non-null    int64  \n",
      " 1   Survived     891 non-null    int64  \n",
      " 2   Pclass       891 non-null    int64  \n",
      " 3   Name         891 non-null    object \n",
      " 4   Sex          891 non-null    object \n",
      " 5   Age          714 non-null    float64\n",
      " 6   SibSp        891 non-null    int64  \n",
      " 7   Parch        891 non-null    int64  \n",
      " 8   Ticket       891 non-null    object \n",
      " 9   Fare         891 non-null    float64\n",
      " 10  Cabin        204 non-null    object \n",
      " 11  Embarked     889 non-null    object \n",
      "dtypes: float64(2), int64(5), object(5)\n",
      "memory usage: 83.7+ KB\n",
      "None\n"
     ]
    },
    {
     "data": {
      "text/html": [
       "<div>\n",
       "<style scoped>\n",
       "    .dataframe tbody tr th:only-of-type {\n",
       "        vertical-align: middle;\n",
       "    }\n",
       "\n",
       "    .dataframe tbody tr th {\n",
       "        vertical-align: top;\n",
       "    }\n",
       "\n",
       "    .dataframe thead th {\n",
       "        text-align: right;\n",
       "    }\n",
       "</style>\n",
       "<table border=\"1\" class=\"dataframe\">\n",
       "  <thead>\n",
       "    <tr style=\"text-align: right;\">\n",
       "      <th></th>\n",
       "      <th>PassengerId</th>\n",
       "      <th>Survived</th>\n",
       "      <th>Pclass</th>\n",
       "      <th>Name</th>\n",
       "      <th>Sex</th>\n",
       "      <th>Age</th>\n",
       "      <th>SibSp</th>\n",
       "      <th>Parch</th>\n",
       "      <th>Ticket</th>\n",
       "      <th>Fare</th>\n",
       "      <th>Cabin</th>\n",
       "      <th>Embarked</th>\n",
       "    </tr>\n",
       "  </thead>\n",
       "  <tbody>\n",
       "    <tr>\n",
       "      <th>0</th>\n",
       "      <td>1</td>\n",
       "      <td>0</td>\n",
       "      <td>3</td>\n",
       "      <td>Braund, Mr. Owen Harris</td>\n",
       "      <td>male</td>\n",
       "      <td>22.0</td>\n",
       "      <td>1</td>\n",
       "      <td>0</td>\n",
       "      <td>A/5 21171</td>\n",
       "      <td>7.2500</td>\n",
       "      <td>NaN</td>\n",
       "      <td>S</td>\n",
       "    </tr>\n",
       "    <tr>\n",
       "      <th>1</th>\n",
       "      <td>2</td>\n",
       "      <td>1</td>\n",
       "      <td>1</td>\n",
       "      <td>Cumings, Mrs. John Bradley (Florence Briggs Th...</td>\n",
       "      <td>female</td>\n",
       "      <td>38.0</td>\n",
       "      <td>1</td>\n",
       "      <td>0</td>\n",
       "      <td>PC 17599</td>\n",
       "      <td>71.2833</td>\n",
       "      <td>C85</td>\n",
       "      <td>C</td>\n",
       "    </tr>\n",
       "    <tr>\n",
       "      <th>2</th>\n",
       "      <td>3</td>\n",
       "      <td>1</td>\n",
       "      <td>3</td>\n",
       "      <td>Heikkinen, Miss. Laina</td>\n",
       "      <td>female</td>\n",
       "      <td>26.0</td>\n",
       "      <td>0</td>\n",
       "      <td>0</td>\n",
       "      <td>STON/O2. 3101282</td>\n",
       "      <td>7.9250</td>\n",
       "      <td>NaN</td>\n",
       "      <td>S</td>\n",
       "    </tr>\n",
       "    <tr>\n",
       "      <th>3</th>\n",
       "      <td>4</td>\n",
       "      <td>1</td>\n",
       "      <td>1</td>\n",
       "      <td>Futrelle, Mrs. Jacques Heath (Lily May Peel)</td>\n",
       "      <td>female</td>\n",
       "      <td>35.0</td>\n",
       "      <td>1</td>\n",
       "      <td>0</td>\n",
       "      <td>113803</td>\n",
       "      <td>53.1000</td>\n",
       "      <td>C123</td>\n",
       "      <td>S</td>\n",
       "    </tr>\n",
       "    <tr>\n",
       "      <th>4</th>\n",
       "      <td>5</td>\n",
       "      <td>0</td>\n",
       "      <td>3</td>\n",
       "      <td>Allen, Mr. William Henry</td>\n",
       "      <td>male</td>\n",
       "      <td>35.0</td>\n",
       "      <td>0</td>\n",
       "      <td>0</td>\n",
       "      <td>373450</td>\n",
       "      <td>8.0500</td>\n",
       "      <td>NaN</td>\n",
       "      <td>S</td>\n",
       "    </tr>\n",
       "  </tbody>\n",
       "</table>\n",
       "</div>"
      ],
      "text/plain": [
       "   PassengerId  Survived  Pclass  \\\n",
       "0            1         0       3   \n",
       "1            2         1       1   \n",
       "2            3         1       3   \n",
       "3            4         1       1   \n",
       "4            5         0       3   \n",
       "\n",
       "                                                Name     Sex   Age  SibSp  \\\n",
       "0                            Braund, Mr. Owen Harris    male  22.0      1   \n",
       "1  Cumings, Mrs. John Bradley (Florence Briggs Th...  female  38.0      1   \n",
       "2                             Heikkinen, Miss. Laina  female  26.0      0   \n",
       "3       Futrelle, Mrs. Jacques Heath (Lily May Peel)  female  35.0      1   \n",
       "4                           Allen, Mr. William Henry    male  35.0      0   \n",
       "\n",
       "   Parch            Ticket     Fare Cabin Embarked  \n",
       "0      0         A/5 21171   7.2500   NaN        S  \n",
       "1      0          PC 17599  71.2833   C85        C  \n",
       "2      0  STON/O2. 3101282   7.9250   NaN        S  \n",
       "3      0            113803  53.1000  C123        S  \n",
       "4      0            373450   8.0500   NaN        S  "
      ]
     },
     "execution_count": 819,
     "metadata": {},
     "output_type": "execute_result"
    }
   ],
   "source": [
    "print(train.shape)\n",
    "print(train.info())\n",
    "train.head()"
   ]
  },
  {
   "cell_type": "markdown",
   "id": "ea37afa8-02e1-4da6-bbbf-5302a4e7cb53",
   "metadata": {
    "tags": []
   },
   "source": [
    "# EDA : 사전 데이터 탐색"
   ]
  },
  {
   "cell_type": "markdown",
   "id": "9c0fdd3b-a1b3-4209-8a0a-07ae80684813",
   "metadata": {},
   "source": [
    "## Survived : Traget Feature"
   ]
  },
  {
   "cell_type": "code",
   "execution_count": 820,
   "id": "c3451603-3a67-47d1-83eb-66bfb798833f",
   "metadata": {},
   "outputs": [
    {
     "data": {
      "text/plain": [
       "0    549\n",
       "1    342\n",
       "Name: Survived, dtype: int64"
      ]
     },
     "execution_count": 820,
     "metadata": {},
     "output_type": "execute_result"
    }
   ],
   "source": [
    "train[\"Survived\"].value_counts()"
   ]
  },
  {
   "cell_type": "code",
   "execution_count": 821,
   "id": "66270784-4da6-4148-b0ea-d56f03050cb3",
   "metadata": {},
   "outputs": [
    {
     "data": {
      "text/plain": [
       "<AxesSubplot:>"
      ]
     },
     "execution_count": 821,
     "metadata": {},
     "output_type": "execute_result"
    },
    {
     "data": {
      "image/png": "[encoded data removed]",
      "text/plain": [
       "<Figure size 432x288 with 1 Axes>"
      ]
     },
     "metadata": {
      "needs_background": "light"
     },
     "output_type": "display_data"
    }
   ],
   "source": [
    "train[\"Survived\"].value_counts().plot(kind='bar')"
   ]
  },
  {
   "cell_type": "markdown",
   "id": "f498407e-c76b-446e-b5c1-eb2ea05a7893",
   "metadata": {},
   "source": [
    "* Pclass , Sex, Embarked"
   ]
  },
  {
   "cell_type": "code",
   "execution_count": 822,
   "id": "684ae87d-5f08-4a89-8812-9e6378682525",
   "metadata": {},
   "outputs": [
    {
     "name": "stdout",
     "output_type": "stream",
     "text": [
      "Pclass  Sex   \n",
      "3       male      347\n",
      "        female    144\n",
      "1       male      122\n",
      "2       male      108\n",
      "1       female     94\n",
      "2       female     76\n",
      "dtype: int64\n"
     ]
    },
    {
     "data": {
      "text/plain": [
       "<AxesSubplot:xlabel='Pclass,Sex'>"
      ]
     },
     "execution_count": 822,
     "metadata": {},
     "output_type": "execute_result"
    },
    {
     "data": {
      "image/png": "[encoded data removed]",
      "text/plain": [
       "<Figure size 432x288 with 1 Axes>"
      ]
     },
     "metadata": {
      "needs_background": "light"
     },
     "output_type": "display_data"
    }
   ],
   "source": [
    "print(train[ ['Pclass','Sex']   ].value_counts())\n",
    "train[ ['Pclass','Sex'] ].value_counts().plot(kind='bar')"
   ]
  },
  {
   "cell_type": "code",
   "execution_count": 823,
   "id": "21ae7cce-7200-4bad-8918-e51cd75905fa",
   "metadata": {},
   "outputs": [
    {
     "name": "stdout",
     "output_type": "stream",
     "text": [
      "0    549\n",
      "1    342\n",
      "Name: Survived, dtype: int64\n"
     ]
    },
    {
     "data": {
      "text/plain": [
       "<AxesSubplot:>"
      ]
     },
     "execution_count": 823,
     "metadata": {},
     "output_type": "execute_result"
    },
    {
     "data": {
      "image/png": "[encoded data removed]",
      "text/plain": [
       "<Figure size 432x288 with 1 Axes>"
      ]
     },
     "metadata": {
      "needs_background": "light"
     },
     "output_type": "display_data"
    }
   ],
   "source": [
    "print(train['Survived'].value_counts())\n",
    "train['Survived'].value_counts().plot(kind='bar')"
   ]
  },
  {
   "cell_type": "code",
   "execution_count": 824,
   "id": "217185f6-55ac-47dd-a729-6f1291ebdc43",
   "metadata": {},
   "outputs": [
    {
     "name": "stdout",
     "output_type": "stream",
     "text": [
      "3    491\n",
      "1    216\n",
      "2    184\n",
      "Name: Pclass, dtype: int64\n"
     ]
    },
    {
     "data": {
      "text/plain": [
       "<AxesSubplot:>"
      ]
     },
     "execution_count": 824,
     "metadata": {},
     "output_type": "execute_result"
    },
    {
     "data": {
      "image/png": "[encoded data removed]",
      "text/plain": [
       "<Figure size 432x288 with 1 Axes>"
      ]
     },
     "metadata": {
      "needs_background": "light"
     },
     "output_type": "display_data"
    }
   ],
   "source": [
    "print(train['Pclass'].value_counts())\n",
    "train['Pclass'].value_counts().plot(kind='bar')"
   ]
  },
  {
   "cell_type": "code",
   "execution_count": 825,
   "id": "6c4de51b-29b3-4234-9098-45e1aa75ea64",
   "metadata": {},
   "outputs": [
    {
     "name": "stdout",
     "output_type": "stream",
     "text": [
      "male      577\n",
      "female    314\n",
      "Name: Sex, dtype: int64\n"
     ]
    },
    {
     "data": {
      "text/plain": [
       "<AxesSubplot:>"
      ]
     },
     "execution_count": 825,
     "metadata": {},
     "output_type": "execute_result"
    },
    {
     "data": {
      "image/png": "[encoded data removed]",
      "text/plain": [
       "<Figure size 432x288 with 1 Axes>"
      ]
     },
     "metadata": {
      "needs_background": "light"
     },
     "output_type": "display_data"
    }
   ],
   "source": [
    "print(train['Sex'].value_counts())\n",
    "train['Sex'].value_counts().plot(kind='bar')"
   ]
  },
  {
   "cell_type": "code",
   "execution_count": 826,
   "id": "b9fd1f97-e9d2-45c4-8ef8-0f3ca100c798",
   "metadata": {},
   "outputs": [
    {
     "name": "stdout",
     "output_type": "stream",
     "text": [
      "S    644\n",
      "C    168\n",
      "Q     77\n",
      "Name: Embarked, dtype: int64\n"
     ]
    },
    {
     "data": {
      "text/plain": [
       "<AxesSubplot:>"
      ]
     },
     "execution_count": 826,
     "metadata": {},
     "output_type": "execute_result"
    },
    {
     "data": {
      "image/png": "[encoded data removed]",
      "text/plain": [
       "<Figure size 432x288 with 1 Axes>"
      ]
     },
     "metadata": {
      "needs_background": "light"
     },
     "output_type": "display_data"
    }
   ],
   "source": [
    "print(train['Embarked'].value_counts())\n",
    "train['Embarked'].value_counts().plot(kind='bar')"
   ]
  },
  {
   "cell_type": "markdown",
   "id": "45bc9e94-80b2-49ef-8364-56fe67bc9b87",
   "metadata": {},
   "source": [
    "* 문법공부"
   ]
  },
  {
   "cell_type": "code",
   "execution_count": 827,
   "id": "a21591a2-a85c-45c8-8551-284c4f438218",
   "metadata": {},
   "outputs": [],
   "source": [
    "def my_plot_bar(col):\n",
    "    print(train[col].value_counts())\n",
    "    train[col].value_counts().plot(kind='bar')"
   ]
  },
  {
   "cell_type": "code",
   "execution_count": 828,
   "id": "f24930d5-7773-4ebc-827d-d77787d20324",
   "metadata": {},
   "outputs": [
    {
     "name": "stdout",
     "output_type": "stream",
     "text": [
      "0    549\n",
      "1    342\n",
      "Name: Survived, dtype: int64\n"
     ]
    },
    {
     "data": {
      "image/png": "[encoded data removed]",
      "text/plain": [
       "<Figure size 432x288 with 1 Axes>"
      ]
     },
     "metadata": {
      "needs_background": "light"
     },
     "output_type": "display_data"
    }
   ],
   "source": [
    "my_plot_bar('Survived')"
   ]
  },
  {
   "cell_type": "code",
   "execution_count": 829,
   "id": "11c70cff-70ab-47cb-a780-a7c8ffed19b7",
   "metadata": {},
   "outputs": [
    {
     "name": "stdout",
     "output_type": "stream",
     "text": [
      "3    491\n",
      "1    216\n",
      "2    184\n",
      "Name: Pclass, dtype: int64\n"
     ]
    },
    {
     "data": {
      "image/png": "[encoded data removed]",
      "text/plain": [
       "<Figure size 432x288 with 1 Axes>"
      ]
     },
     "metadata": {
      "needs_background": "light"
     },
     "output_type": "display_data"
    }
   ],
   "source": [
    "my_plot_bar('Pclass')"
   ]
  },
  {
   "cell_type": "markdown",
   "id": "c1dd2c76-83c4-459b-a943-756177e43b8d",
   "metadata": {},
   "source": [
    "* 문법공부"
   ]
  },
  {
   "cell_type": "code",
   "execution_count": 830,
   "id": "c8be2ec6-5ff6-4725-b10a-fa76cccebfe3",
   "metadata": {},
   "outputs": [
    {
     "name": "stdout",
     "output_type": "stream",
     "text": [
      "0    549\n",
      "1    342\n",
      "Name: Survived, dtype: int64\n",
      "------------------------------------------------------------\n",
      "3    491\n",
      "1    216\n",
      "2    184\n",
      "Name: Pclass, dtype: int64\n",
      "------------------------------------------------------------\n",
      "male      577\n",
      "female    314\n",
      "Name: Sex, dtype: int64\n",
      "------------------------------------------------------------\n",
      "S    644\n",
      "C    168\n",
      "Q     77\n",
      "Name: Embarked, dtype: int64\n",
      "------------------------------------------------------------\n"
     ]
    },
    {
     "data": {
      "image/png": "[encoded data removed]",
      "text/plain": [
       "<Figure size 432x288 with 1 Axes>"
      ]
     },
     "metadata": {
      "needs_background": "light"
     },
     "output_type": "display_data"
    }
   ],
   "source": [
    "col_list = ['Survived','Pclass','Sex','Embarked']\n",
    "for col in col_list:\n",
    "    print(train[col].value_counts())\n",
    "    train[col].value_counts().plot(kind='bar')\n",
    "    print(\"---\"*20)"
   ]
  },
  {
   "cell_type": "markdown",
   "id": "9c69d74c-f655-4d2f-8716-5821ee6bab4b",
   "metadata": {},
   "source": [
    "## 레코드수 == 유니크수\n",
    "* 대체로 분석 대상에서 제외(삭제)"
   ]
  },
  {
   "cell_type": "code",
   "execution_count": 831,
   "id": "5b739f03-f87c-48db-b02a-331eb4b98f73",
   "metadata": {},
   "outputs": [
    {
     "name": "stdout",
     "output_type": "stream",
     "text": [
      "89\n"
     ]
    }
   ],
   "source": [
    "arr = pd.unique(train['Age'])\n",
    "print(len(arr))            #요소의 갯수"
   ]
  },
  {
   "cell_type": "markdown",
   "id": "ecae561f-310d-4997-9e83-4272b1211aa4",
   "metadata": {},
   "source": [
    "* 연습 : array"
   ]
  },
  {
   "cell_type": "code",
   "execution_count": 832,
   "id": "77371257-09a9-4eeb-be3c-dfeb664856d1",
   "metadata": {},
   "outputs": [
    {
     "name": "stdout",
     "output_type": "stream",
     "text": [
      "22.0\n",
      "[22. 38. 26. 35. nan]\n",
      "[22. 38. 26. 35. nan]\n",
      "[]\n",
      "[22. 38. 26. 35. nan]\n"
     ]
    }
   ],
   "source": [
    "# print(arr)               # [22.   38.   26.   35.     nan 54.    2.   27.   14. ....\n",
    "print(arr[0])              #-------단일값(==인덱스)\n",
    "print(arr[0:5])            #-------슬라이싱(==슬라이싱)\n",
    "print(arr[ :5])            #0~5\n",
    "print(arr[855: ])          #855~\n",
    "#print(arr[:], arr)        #다가져와\n",
    "print(arr[ [0,1,2,3,4] ])  #-------때거지(==1차(1d) array-like , iterable)"
   ]
  },
  {
   "cell_type": "code",
   "execution_count": 833,
   "id": "2a245158-d00e-420d-b057-d294e9685a8d",
   "metadata": {},
   "outputs": [
    {
     "name": "stdout",
     "output_type": "stream",
     "text": [
      "89\n"
     ]
    },
    {
     "data": {
      "text/plain": [
       "PassengerId    891\n",
       "Survived         2\n",
       "Pclass           3\n",
       "Name           891\n",
       "Sex              2\n",
       "Age             88\n",
       "SibSp            7\n",
       "Parch            7\n",
       "Ticket         681\n",
       "Fare           248\n",
       "Cabin          147\n",
       "Embarked         3\n",
       "dtype: int64"
      ]
     },
     "execution_count": 833,
     "metadata": {},
     "output_type": "execute_result"
    }
   ],
   "source": [
    "arr = pd.unique(train['Age'])\n",
    "print(len(arr))            #요소의 갯수 : 89 nan도 취급\n",
    "# -----------------------------------------\n",
    "train['Age'].nunique()     # 88        : nan 취급하지 않음\n",
    "# -----------------------------------------\n",
    "train.nunique()"
   ]
  },
  {
   "cell_type": "markdown",
   "id": "5b11fc47-7e7a-4d1a-a3ee-5b3f934eb1d5",
   "metadata": {},
   "source": [
    "* 연습 : train.nunique() 동작 이해하기 : 컬럼, 유니크값 출력"
   ]
  },
  {
   "cell_type": "code",
   "execution_count": 834,
   "id": "05246a8b-a816-4ca7-9cbc-c3b32b685bf9",
   "metadata": {},
   "outputs": [
    {
     "name": "stdout",
     "output_type": "stream",
     "text": [
      "['PassengerId', 'Survived', 'Pclass', 'Name', 'Sex', 'Age', 'SibSp', 'Parch', 'Ticket', 'Fare', 'Cabin', 'Embarked']\n",
      "PassengerId \t\t 891\n",
      "Survived \t\t 2\n",
      "Pclass \t\t 3\n",
      "Name \t\t 891\n",
      "Sex \t\t 2\n",
      "Age \t\t 88\n",
      "SibSp \t\t 7\n",
      "Parch \t\t 7\n",
      "Ticket \t\t 681\n",
      "Fare \t\t 248\n",
      "Cabin \t\t 147\n",
      "Embarked \t\t 3\n"
     ]
    }
   ],
   "source": [
    "print(train.columns.tolist())\n",
    "col_list = train.columns.tolist()  \n",
    "for col in col_list:  #['PassengerId', 'Survived', 'Pclass', 'Name', 'Sex', 'Age', 'SibSp', 'Parch', 'Ticket', 'Fare', 'Cabin', 'Embarked']\n",
    "    print(col    ,'\\t\\t' , train[col].nunique() )\n"
   ]
  },
  {
   "cell_type": "markdown",
   "id": "9c978aa9-0e76-4c2c-9237-92b98e671b0b",
   "metadata": {},
   "source": [
    "* 연습 : train.nunique() 동작 이해하기 : 650개 이상의 유니크값을 갖는 컬럼 출력\n"
   ]
  },
  {
   "cell_type": "code",
   "execution_count": 835,
   "id": "aee227c4-cb56-47c6-b38b-02893f4f9d65",
   "metadata": {},
   "outputs": [
    {
     "name": "stdout",
     "output_type": "stream",
     "text": [
      "['PassengerId', 'Name', 'Ticket']\n",
      "['PassengerId', 'Name', 'Ticket']\n"
     ]
    }
   ],
   "source": [
    "#new_d = {str(key): str(value) for key, value in keys_values}\n",
    "#------------------------------ \n",
    "# FOR 때거지중 하나빼서 넣을 변수 IN 때거지:\n",
    "#     로직..\n",
    "#----------------------------- \n",
    "# FOR 때거지중 하나뺀 인덱스, 때거지중 하나빼서 값넣을 변수 IN enumerate(때거지):\n",
    "#     로직..\n",
    "#------------------------------     \n",
    "col_list = []\n",
    "for col in train.columns.tolist():\n",
    "      #train['Age'].nunique()\n",
    "    if train[col].nunique()>=650:\n",
    "        #print(col    ,'\\t\\t' , train[col].nunique() )\n",
    "        col_list.append(col)\n",
    "print(col_list)\n",
    "        \n",
    "        \n",
    "        \n",
    "#---------------------- \n",
    "col_list = [col for col in train.columns if train[col].nunique() > 650]\n",
    "print(col_list)"
   ]
  },
  {
   "cell_type": "markdown",
   "id": "64788670-24d6-4dc9-8c57-b5b0fbec52e0",
   "metadata": {},
   "source": [
    "* 연습 :  결측 or 유니크값"
   ]
  },
  {
   "cell_type": "code",
   "execution_count": 836,
   "id": "d03785ee-df78-41cf-9f1c-dfc16a38f403",
   "metadata": {},
   "outputs": [
    {
     "data": {
      "text/plain": [
       "PassengerId    891\n",
       "Name           891\n",
       "Ticket         681\n",
       "dtype: int64"
      ]
     },
     "execution_count": 836,
     "metadata": {},
     "output_type": "execute_result"
    }
   ],
   "source": [
    "train.isna().sum()  [train.isna().sum() >0  ] \n",
    "train.nunique()     [train.nunique()  >= 650]    #by 황지현"
   ]
  },
  {
   "cell_type": "code",
   "execution_count": 837,
   "id": "accc44a2-2c60-44e7-abbb-6c0848573a1c",
   "metadata": {},
   "outputs": [
    {
     "data": {
      "text/plain": [
       "891"
      ]
     },
     "execution_count": 837,
     "metadata": {},
     "output_type": "execute_result"
    }
   ],
   "source": [
    "train.shape[0]   # (891,14)"
   ]
  },
  {
   "cell_type": "code",
   "execution_count": 838,
   "id": "1c8ecf0d-86af-4110-93da-fefdf7d558e5",
   "metadata": {},
   "outputs": [
    {
     "data": {
      "text/plain": [
       "891"
      ]
     },
     "execution_count": 838,
     "metadata": {},
     "output_type": "execute_result"
    }
   ],
   "source": [
    "len(train)"
   ]
  },
  {
   "cell_type": "code",
   "execution_count": 839,
   "id": "e1471f13-de9a-4f43-b7d2-77753474f859",
   "metadata": {},
   "outputs": [
    {
     "data": {
      "text/html": [
       "<div>\n",
       "<style scoped>\n",
       "    .dataframe tbody tr th:only-of-type {\n",
       "        vertical-align: middle;\n",
       "    }\n",
       "\n",
       "    .dataframe tbody tr th {\n",
       "        vertical-align: top;\n",
       "    }\n",
       "\n",
       "    .dataframe thead th {\n",
       "        text-align: right;\n",
       "    }\n",
       "</style>\n",
       "<table border=\"1\" class=\"dataframe\">\n",
       "  <thead>\n",
       "    <tr style=\"text-align: right;\">\n",
       "      <th></th>\n",
       "      <th>0</th>\n",
       "      <th>3</th>\n",
       "      <th>8</th>\n",
       "      <th>9</th>\n",
       "      <th>10</th>\n",
       "      <th>5</th>\n",
       "      <th>6</th>\n",
       "      <th>7</th>\n",
       "      <th>2</th>\n",
       "      <th>11</th>\n",
       "      <th>1</th>\n",
       "      <th>4</th>\n",
       "    </tr>\n",
       "  </thead>\n",
       "  <tbody>\n",
       "    <tr>\n",
       "      <th>컬럼</th>\n",
       "      <td>PassengerId</td>\n",
       "      <td>Name</td>\n",
       "      <td>Ticket</td>\n",
       "      <td>Fare</td>\n",
       "      <td>Cabin</td>\n",
       "      <td>Age</td>\n",
       "      <td>SibSp</td>\n",
       "      <td>Parch</td>\n",
       "      <td>Pclass</td>\n",
       "      <td>Embarked</td>\n",
       "      <td>Survived</td>\n",
       "      <td>Sex</td>\n",
       "    </tr>\n",
       "    <tr>\n",
       "      <th>카운트</th>\n",
       "      <td>891</td>\n",
       "      <td>891</td>\n",
       "      <td>681</td>\n",
       "      <td>248</td>\n",
       "      <td>147</td>\n",
       "      <td>88</td>\n",
       "      <td>7</td>\n",
       "      <td>7</td>\n",
       "      <td>3</td>\n",
       "      <td>3</td>\n",
       "      <td>2</td>\n",
       "      <td>2</td>\n",
       "    </tr>\n",
       "    <tr>\n",
       "      <th>비율</th>\n",
       "      <td>100.0</td>\n",
       "      <td>100.0</td>\n",
       "      <td>76.4</td>\n",
       "      <td>27.8</td>\n",
       "      <td>16.5</td>\n",
       "      <td>9.9</td>\n",
       "      <td>0.8</td>\n",
       "      <td>0.8</td>\n",
       "      <td>0.3</td>\n",
       "      <td>0.3</td>\n",
       "      <td>0.2</td>\n",
       "      <td>0.2</td>\n",
       "    </tr>\n",
       "  </tbody>\n",
       "</table>\n",
       "</div>"
      ],
      "text/plain": [
       "              0      3       8     9      10   5      6      7       2   \\\n",
       "컬럼   PassengerId   Name  Ticket  Fare  Cabin  Age  SibSp  Parch  Pclass   \n",
       "카운트          891    891     681   248    147   88      7      7       3   \n",
       "비율         100.0  100.0    76.4  27.8   16.5  9.9    0.8    0.8     0.3   \n",
       "\n",
       "           11        1    4   \n",
       "컬럼   Embarked  Survived  Sex  \n",
       "카운트         3         2    2  \n",
       "비율        0.3       0.2  0.2  "
      ]
     },
     "execution_count": 839,
     "metadata": {},
     "output_type": "execute_result"
    }
   ],
   "source": [
    "# 컬럼        카운트      비율  round((248/891) * 100,0)\n",
    "# ------      ------     ------\n",
    "# Ticket         681      47%\n",
    "# Fare           248      53%\n",
    "# Cabin          147      11%\n",
    "# .... \n",
    "#===========================================조건없이 전체 df를 대상으로함\n",
    "def my_dfcheck(prm='null'):  #파라미터 : 'null' 또는 'unique'\n",
    "    if prm == 'unique':\n",
    "        s = train.nunique()\n",
    "    else:\n",
    "        s = train.isna().sum()\n",
    "    \n",
    "    # print(s.index)\n",
    "    # print(s.values) #array\n",
    "    # dic = {\"컬럼\":s.index , \"카운트\":s.values}   # , \"비율\":[]\n",
    "    # df = pd.DataFrame(dic)\n",
    "    # df['비율%'] = round( (df['카운트']/ len(train) ) *100,  1)\n",
    "    \n",
    "    rate = np.round( (s.values  / len(train)) *100,  1)\n",
    "    dic = {\"컬럼\":s.index , \"카운트\":s.values, \"비율\":rate}\n",
    "    df = pd.DataFrame(dic).sort_values('카운트', ascending=False)\n",
    "    return df.T\n",
    "\n",
    "# my_dfcheck()\n",
    "# my_dfcheck ('null')\n",
    "\n",
    "my_dfcheck('unique')"
   ]
  },
  {
   "cell_type": "code",
   "execution_count": null,
   "id": "53662312-0d4d-4854-91d8-6f7e5bb8e9f3",
   "metadata": {},
   "outputs": [],
   "source": []
  },
  {
   "cell_type": "code",
   "execution_count": null,
   "id": "81e3a36f-a274-441f-b563-276cd4b6ce8f",
   "metadata": {},
   "outputs": [],
   "source": []
  },
  {
   "cell_type": "markdown",
   "id": "363e0065-e2f7-4fa3-ac85-7a9be9a16561",
   "metadata": {},
   "source": [
    "* Ticket이 생존과 관련이 있는지 확인 == '무의미함'으로 결론냄(삭제)"
   ]
  },
  {
   "cell_type": "code",
   "execution_count": 840,
   "id": "4951d992-9370-4d6b-b358-5f7a245db2b2",
   "metadata": {},
   "outputs": [
    {
     "data": {
      "text/plain": [
       "Ticket            Embarked\n",
       "CA. 2343          S           7\n",
       "347082            S           7\n",
       "1601              S           7\n",
       "347088            S           6\n",
       "3101295           S           6\n",
       "                             ..\n",
       "SOTON/O2 3101287  S           1\n",
       "SW/PP 751         S           1\n",
       "STON/O2. 3101283  S           1\n",
       "STON/O2. 3101282  S           1\n",
       "347466            S           1\n",
       "Length: 682, dtype: int64"
      ]
     },
     "execution_count": 840,
     "metadata": {},
     "output_type": "execute_result"
    }
   ],
   "source": [
    "train[['Ticket', 'Survived']].value_counts().sort_values(ascending=False)\n",
    "train[['Ticket', 'Embarked']].value_counts().sort_values(ascending=False)"
   ]
  },
  {
   "cell_type": "markdown",
   "id": "b7c054a9-76c5-4f41-b5f4-c675c07a261c",
   "metadata": {},
   "source": [
    "* 삭제컬럼 : col_list = ['PassengerId', 'Name', 'Ticket']"
   ]
  },
  {
   "cell_type": "code",
   "execution_count": 841,
   "id": "4d6d4e26-6718-4855-8dbe-d64e0760c927",
   "metadata": {},
   "outputs": [],
   "source": [
    "# score = score.drop(['kor'], axis=1)          #************ 10. 삭제\n",
    "#    df = df.drop([컬럼, 컬럼],  axis=1)\n",
    "#    df = df.drop([줄, 줄],      axis=0)\n",
    "# *********************************************************"
   ]
  },
  {
   "cell_type": "code",
   "execution_count": 842,
   "id": "ad9f01cc-a0c9-4584-9e36-eb49901fc122",
   "metadata": {},
   "outputs": [
    {
     "name": "stdout",
     "output_type": "stream",
     "text": [
      "['PassengerId', 'Name', 'Ticket']\n"
     ]
    },
    {
     "data": {
      "text/html": [
       "<div>\n",
       "<style scoped>\n",
       "    .dataframe tbody tr th:only-of-type {\n",
       "        vertical-align: middle;\n",
       "    }\n",
       "\n",
       "    .dataframe tbody tr th {\n",
       "        vertical-align: top;\n",
       "    }\n",
       "\n",
       "    .dataframe thead th {\n",
       "        text-align: right;\n",
       "    }\n",
       "</style>\n",
       "<table border=\"1\" class=\"dataframe\">\n",
       "  <thead>\n",
       "    <tr style=\"text-align: right;\">\n",
       "      <th></th>\n",
       "      <th>Survived</th>\n",
       "      <th>Pclass</th>\n",
       "      <th>Sex</th>\n",
       "      <th>Age</th>\n",
       "      <th>SibSp</th>\n",
       "      <th>Parch</th>\n",
       "      <th>Fare</th>\n",
       "      <th>Cabin</th>\n",
       "      <th>Embarked</th>\n",
       "    </tr>\n",
       "  </thead>\n",
       "  <tbody>\n",
       "    <tr>\n",
       "      <th>0</th>\n",
       "      <td>0</td>\n",
       "      <td>3</td>\n",
       "      <td>male</td>\n",
       "      <td>22.0</td>\n",
       "      <td>1</td>\n",
       "      <td>0</td>\n",
       "      <td>7.2500</td>\n",
       "      <td>NaN</td>\n",
       "      <td>S</td>\n",
       "    </tr>\n",
       "    <tr>\n",
       "      <th>1</th>\n",
       "      <td>1</td>\n",
       "      <td>1</td>\n",
       "      <td>female</td>\n",
       "      <td>38.0</td>\n",
       "      <td>1</td>\n",
       "      <td>0</td>\n",
       "      <td>71.2833</td>\n",
       "      <td>C85</td>\n",
       "      <td>C</td>\n",
       "    </tr>\n",
       "  </tbody>\n",
       "</table>\n",
       "</div>"
      ],
      "text/plain": [
       "   Survived  Pclass     Sex   Age  SibSp  Parch     Fare Cabin Embarked\n",
       "0         0       3    male  22.0      1      0   7.2500   NaN        S\n",
       "1         1       1  female  38.0      1      0  71.2833   C85        C"
      ]
     },
     "execution_count": 842,
     "metadata": {},
     "output_type": "execute_result"
    }
   ],
   "source": [
    "col_list = [col for col in train.columns if train[col].nunique() > 650]\n",
    "print(col_list)\n",
    "#train1 = train.copy()\n",
    "\n",
    "# train.drop( ,inplace=True)\n",
    "#train = train.drop(['PassengerId', 'Name', 'Ticket'], axis=1)\n",
    "train = train.drop(col_list, axis=1)\n",
    "train.head(2)   "
   ]
  },
  {
   "cell_type": "code",
   "execution_count": 843,
   "id": "e7189a7b-9b9d-4d1e-a4be-069767ef4884",
   "metadata": {},
   "outputs": [
    {
     "data": {
      "text/html": [
       "<div>\n",
       "<style scoped>\n",
       "    .dataframe tbody tr th:only-of-type {\n",
       "        vertical-align: middle;\n",
       "    }\n",
       "\n",
       "    .dataframe tbody tr th {\n",
       "        vertical-align: top;\n",
       "    }\n",
       "\n",
       "    .dataframe thead th {\n",
       "        text-align: right;\n",
       "    }\n",
       "</style>\n",
       "<table border=\"1\" class=\"dataframe\">\n",
       "  <thead>\n",
       "    <tr style=\"text-align: right;\">\n",
       "      <th></th>\n",
       "      <th>Survived</th>\n",
       "      <th>Pclass</th>\n",
       "      <th>Sex</th>\n",
       "      <th>Age</th>\n",
       "      <th>SibSp</th>\n",
       "      <th>Parch</th>\n",
       "      <th>Fare</th>\n",
       "      <th>Cabin</th>\n",
       "      <th>Embarked</th>\n",
       "    </tr>\n",
       "  </thead>\n",
       "  <tbody>\n",
       "    <tr>\n",
       "      <th>0</th>\n",
       "      <td>0</td>\n",
       "      <td>3</td>\n",
       "      <td>male</td>\n",
       "      <td>22.0</td>\n",
       "      <td>1</td>\n",
       "      <td>0</td>\n",
       "      <td>7.2500</td>\n",
       "      <td>NaN</td>\n",
       "      <td>S</td>\n",
       "    </tr>\n",
       "    <tr>\n",
       "      <th>1</th>\n",
       "      <td>1</td>\n",
       "      <td>1</td>\n",
       "      <td>female</td>\n",
       "      <td>38.0</td>\n",
       "      <td>1</td>\n",
       "      <td>0</td>\n",
       "      <td>71.2833</td>\n",
       "      <td>C85</td>\n",
       "      <td>C</td>\n",
       "    </tr>\n",
       "  </tbody>\n",
       "</table>\n",
       "</div>"
      ],
      "text/plain": [
       "   Survived  Pclass     Sex   Age  SibSp  Parch     Fare Cabin Embarked\n",
       "0         0       3    male  22.0      1      0   7.2500   NaN        S\n",
       "1         1       1  female  38.0      1      0  71.2833   C85        C"
      ]
     },
     "execution_count": 843,
     "metadata": {},
     "output_type": "execute_result"
    }
   ],
   "source": [
    "train.head(2)   "
   ]
  },
  {
   "cell_type": "markdown",
   "id": "b7f98c69-c528-409c-bde4-f5f2a1a67d9f",
   "metadata": {
    "tags": []
   },
   "source": [
    "# 결측 처리\n",
    "\n",
    "* 11  Embarked    889 non-null    object  - 최빈도S\n",
    "* 10  Cabin          204 non-null    object  - 공백처리, drop미정\n",
    "*  5   Age            714 non-null    float64 - Name호칭별평균나이\n",
    "\t\t\t\t   -Ticket-Parch아이2"
   ]
  },
  {
   "cell_type": "markdown",
   "id": "067ef764-6f2b-46ae-8442-f5452e702e21",
   "metadata": {},
   "source": [
    "## Embarked  : 최빈도 채우기"
   ]
  },
  {
   "cell_type": "code",
   "execution_count": 844,
   "id": "57a657f4-b5e4-4c40-8dd4-864db1853612",
   "metadata": {},
   "outputs": [],
   "source": [
    "# train['Embarked'].value_counts()\n",
    "# train['Embarked'] = train['Embarked'].fillna('S')"
   ]
  },
  {
   "cell_type": "code",
   "execution_count": 845,
   "id": "966e2bdb-e961-44c9-9faf-101ad777c7ef",
   "metadata": {},
   "outputs": [
    {
     "name": "stdout",
     "output_type": "stream",
     "text": [
      "0\n",
      "S    646\n",
      "C    168\n",
      "Q     77\n",
      "Name: Embarked, dtype: int64\n"
     ]
    }
   ],
   "source": [
    "aa = train['Embarked'].mode().values[0]\n",
    "train['Embarked'] = train['Embarked'].fillna( aa )\n",
    "print(train['Embarked'].isna().sum())\n",
    "print(train['Embarked'].value_counts())"
   ]
  },
  {
   "cell_type": "code",
   "execution_count": 846,
   "id": "9ce799b0-680d-40d7-812f-1ab64066663a",
   "metadata": {},
   "outputs": [
    {
     "data": {
      "text/html": [
       "<div>\n",
       "<style scoped>\n",
       "    .dataframe tbody tr th:only-of-type {\n",
       "        vertical-align: middle;\n",
       "    }\n",
       "\n",
       "    .dataframe tbody tr th {\n",
       "        vertical-align: top;\n",
       "    }\n",
       "\n",
       "    .dataframe thead th {\n",
       "        text-align: right;\n",
       "    }\n",
       "</style>\n",
       "<table border=\"1\" class=\"dataframe\">\n",
       "  <thead>\n",
       "    <tr style=\"text-align: right;\">\n",
       "      <th>Survived</th>\n",
       "      <th>0</th>\n",
       "      <th>1</th>\n",
       "    </tr>\n",
       "    <tr>\n",
       "      <th>Embarked</th>\n",
       "      <th></th>\n",
       "      <th></th>\n",
       "    </tr>\n",
       "  </thead>\n",
       "  <tbody>\n",
       "    <tr>\n",
       "      <th>C</th>\n",
       "      <td>75</td>\n",
       "      <td>93</td>\n",
       "    </tr>\n",
       "    <tr>\n",
       "      <th>Q</th>\n",
       "      <td>47</td>\n",
       "      <td>30</td>\n",
       "    </tr>\n",
       "    <tr>\n",
       "      <th>S</th>\n",
       "      <td>427</td>\n",
       "      <td>219</td>\n",
       "    </tr>\n",
       "  </tbody>\n",
       "</table>\n",
       "</div>"
      ],
      "text/plain": [
       "Survived    0    1\n",
       "Embarked          \n",
       "C          75   93\n",
       "Q          47   30\n",
       "S         427  219"
      ]
     },
     "execution_count": 846,
     "metadata": {},
     "output_type": "execute_result"
    }
   ],
   "source": [
    "pd.crosstab(train['Embarked'], train['Survived'])"
   ]
  },
  {
   "cell_type": "markdown",
   "id": "2d81b9ab-8bd7-4426-8b64-1227c9486980",
   "metadata": {},
   "source": [
    "## Age : Name 호칭을 사용해 그들의 평균 나이로 채우기"
   ]
  },
  {
   "cell_type": "code",
   "execution_count": 847,
   "id": "b7ccd1db-ca37-42e2-a25f-911bad88d062",
   "metadata": {},
   "outputs": [
    {
     "name": "stdout",
     "output_type": "stream",
     "text": [
      "<class 'pandas.core.frame.DataFrame'>\n",
      "RangeIndex: 891 entries, 0 to 890\n",
      "Data columns (total 9 columns):\n",
      " #   Column    Non-Null Count  Dtype  \n",
      "---  ------    --------------  -----  \n",
      " 0   Survived  891 non-null    int64  \n",
      " 1   Pclass    891 non-null    int64  \n",
      " 2   Sex       891 non-null    object \n",
      " 3   Age       891 non-null    int32  \n",
      " 4   SibSp     891 non-null    int64  \n",
      " 5   Parch     891 non-null    int64  \n",
      " 6   Fare      891 non-null    float64\n",
      " 7   Cabin     204 non-null    object \n",
      " 8   Embarked  891 non-null    object \n",
      "dtypes: float64(1), int32(1), int64(4), object(3)\n",
      "memory usage: 59.3+ KB\n"
     ]
    },
    {
     "data": {
      "text/html": [
       "<div>\n",
       "<style scoped>\n",
       "    .dataframe tbody tr th:only-of-type {\n",
       "        vertical-align: middle;\n",
       "    }\n",
       "\n",
       "    .dataframe tbody tr th {\n",
       "        vertical-align: top;\n",
       "    }\n",
       "\n",
       "    .dataframe thead th {\n",
       "        text-align: right;\n",
       "    }\n",
       "</style>\n",
       "<table border=\"1\" class=\"dataframe\">\n",
       "  <thead>\n",
       "    <tr style=\"text-align: right;\">\n",
       "      <th></th>\n",
       "      <th>Survived</th>\n",
       "      <th>Pclass</th>\n",
       "      <th>Sex</th>\n",
       "      <th>Age</th>\n",
       "      <th>SibSp</th>\n",
       "      <th>Parch</th>\n",
       "      <th>Fare</th>\n",
       "      <th>Cabin</th>\n",
       "      <th>Embarked</th>\n",
       "    </tr>\n",
       "  </thead>\n",
       "  <tbody>\n",
       "    <tr>\n",
       "      <th>0</th>\n",
       "      <td>0</td>\n",
       "      <td>3</td>\n",
       "      <td>male</td>\n",
       "      <td>22</td>\n",
       "      <td>1</td>\n",
       "      <td>0</td>\n",
       "      <td>7.2500</td>\n",
       "      <td>NaN</td>\n",
       "      <td>S</td>\n",
       "    </tr>\n",
       "    <tr>\n",
       "      <th>1</th>\n",
       "      <td>1</td>\n",
       "      <td>1</td>\n",
       "      <td>female</td>\n",
       "      <td>38</td>\n",
       "      <td>1</td>\n",
       "      <td>0</td>\n",
       "      <td>71.2833</td>\n",
       "      <td>C85</td>\n",
       "      <td>C</td>\n",
       "    </tr>\n",
       "    <tr>\n",
       "      <th>2</th>\n",
       "      <td>1</td>\n",
       "      <td>3</td>\n",
       "      <td>female</td>\n",
       "      <td>26</td>\n",
       "      <td>0</td>\n",
       "      <td>0</td>\n",
       "      <td>7.9250</td>\n",
       "      <td>NaN</td>\n",
       "      <td>S</td>\n",
       "    </tr>\n",
       "    <tr>\n",
       "      <th>3</th>\n",
       "      <td>1</td>\n",
       "      <td>1</td>\n",
       "      <td>female</td>\n",
       "      <td>35</td>\n",
       "      <td>1</td>\n",
       "      <td>0</td>\n",
       "      <td>53.1000</td>\n",
       "      <td>C123</td>\n",
       "      <td>S</td>\n",
       "    </tr>\n",
       "    <tr>\n",
       "      <th>4</th>\n",
       "      <td>0</td>\n",
       "      <td>3</td>\n",
       "      <td>male</td>\n",
       "      <td>35</td>\n",
       "      <td>0</td>\n",
       "      <td>0</td>\n",
       "      <td>8.0500</td>\n",
       "      <td>NaN</td>\n",
       "      <td>S</td>\n",
       "    </tr>\n",
       "  </tbody>\n",
       "</table>\n",
       "</div>"
      ],
      "text/plain": [
       "   Survived  Pclass     Sex  Age  SibSp  Parch     Fare Cabin Embarked\n",
       "0         0       3    male   22      1      0   7.2500   NaN        S\n",
       "1         1       1  female   38      1      0  71.2833   C85        C\n",
       "2         1       3  female   26      0      0   7.9250   NaN        S\n",
       "3         1       1  female   35      1      0  53.1000  C123        S\n",
       "4         0       3    male   35      0      0   8.0500   NaN        S"
      ]
     },
     "execution_count": 847,
     "metadata": {},
     "output_type": "execute_result"
    }
   ],
   "source": [
    "avg_age = int(  train['Age'].mean()   )    #------값 캐스팅\n",
    "#----------------------------------------------\n",
    "#train['Age'] = train['Age'].fillna(29)\n",
    "#----------------------------------------------\n",
    "train['Age'] = train['Age'].fillna(avg_age)\n",
    "train['Age'] = train['Age'].astype('int')   #------df 컬럼 캐스팅\n",
    "#----------------------------------------------\n",
    "train['Age'] = train['Age'].fillna(avg_age).astype('int')   #------df 컬럼 캐스팅\n",
    "train.info()\n",
    "train.head()"
   ]
  },
  {
   "cell_type": "code",
   "execution_count": null,
   "id": "2c33db14-d919-4f47-934a-c051c42807a2",
   "metadata": {},
   "outputs": [],
   "source": []
  },
  {
   "cell_type": "markdown",
   "id": "f14f5db1-f811-491b-8b33-0edbdaaf6ab0",
   "metadata": {},
   "source": [
    "## Cabin : 공백처리\n",
    "* 점수를 봐가며 삭제 여부 결정\n",
    "* Pclass=1 인 승객 대부분이 Cabin을 가지고 있다\n",
    "* 삭제여부 미정 : Pclass 하나만 봐도 된다\n",
    "* A~T 세분화되어 있어서  C1 , C2 , C3"
   ]
  },
  {
   "cell_type": "code",
   "execution_count": 848,
   "id": "3a0ace13-fd82-494d-a114-686f08bf785c",
   "metadata": {},
   "outputs": [
    {
     "data": {
      "text/plain": [
       "array([nan, 'C85', 'C123', 'E46', 'G6'], dtype=object)"
      ]
     },
     "execution_count": 848,
     "metadata": {},
     "output_type": "execute_result"
    }
   ],
   "source": [
    "pd.unique(train['Cabin'])[:5]"
   ]
  },
  {
   "cell_type": "code",
   "execution_count": 849,
   "id": "72eb0a4d-ea42-4ae8-8404-54925c4772b2",
   "metadata": {},
   "outputs": [
    {
     "data": {
      "text/plain": [
       "'B'"
      ]
     },
     "execution_count": 849,
     "metadata": {},
     "output_type": "execute_result"
    }
   ],
   "source": [
    "string = 'B96'\n",
    "string[0:1]\n"
   ]
  },
  {
   "cell_type": "code",
   "execution_count": 850,
   "id": "061b9252-ad45-48a4-9464-6efd937c6900",
   "metadata": {},
   "outputs": [],
   "source": [
    "train['Cabin'] = train['Cabin'].str[0:1]"
   ]
  },
  {
   "cell_type": "code",
   "execution_count": 851,
   "id": "abd28e96-54bd-44e9-8826-699eacd1008a",
   "metadata": {},
   "outputs": [
    {
     "data": {
      "text/html": [
       "<div>\n",
       "<style scoped>\n",
       "    .dataframe tbody tr th:only-of-type {\n",
       "        vertical-align: middle;\n",
       "    }\n",
       "\n",
       "    .dataframe tbody tr th {\n",
       "        vertical-align: top;\n",
       "    }\n",
       "\n",
       "    .dataframe thead th {\n",
       "        text-align: right;\n",
       "    }\n",
       "</style>\n",
       "<table border=\"1\" class=\"dataframe\">\n",
       "  <thead>\n",
       "    <tr style=\"text-align: right;\">\n",
       "      <th>Pclass</th>\n",
       "      <th>1</th>\n",
       "      <th>2</th>\n",
       "      <th>3</th>\n",
       "    </tr>\n",
       "    <tr>\n",
       "      <th>Cabin</th>\n",
       "      <th></th>\n",
       "      <th></th>\n",
       "      <th></th>\n",
       "    </tr>\n",
       "  </thead>\n",
       "  <tbody>\n",
       "    <tr>\n",
       "      <th>A</th>\n",
       "      <td>15</td>\n",
       "      <td>0</td>\n",
       "      <td>0</td>\n",
       "    </tr>\n",
       "    <tr>\n",
       "      <th>B</th>\n",
       "      <td>47</td>\n",
       "      <td>0</td>\n",
       "      <td>0</td>\n",
       "    </tr>\n",
       "    <tr>\n",
       "      <th>C</th>\n",
       "      <td>59</td>\n",
       "      <td>0</td>\n",
       "      <td>0</td>\n",
       "    </tr>\n",
       "    <tr>\n",
       "      <th>D</th>\n",
       "      <td>29</td>\n",
       "      <td>4</td>\n",
       "      <td>0</td>\n",
       "    </tr>\n",
       "    <tr>\n",
       "      <th>E</th>\n",
       "      <td>25</td>\n",
       "      <td>4</td>\n",
       "      <td>3</td>\n",
       "    </tr>\n",
       "    <tr>\n",
       "      <th>F</th>\n",
       "      <td>0</td>\n",
       "      <td>8</td>\n",
       "      <td>5</td>\n",
       "    </tr>\n",
       "    <tr>\n",
       "      <th>G</th>\n",
       "      <td>0</td>\n",
       "      <td>0</td>\n",
       "      <td>4</td>\n",
       "    </tr>\n",
       "    <tr>\n",
       "      <th>T</th>\n",
       "      <td>1</td>\n",
       "      <td>0</td>\n",
       "      <td>0</td>\n",
       "    </tr>\n",
       "  </tbody>\n",
       "</table>\n",
       "</div>"
      ],
      "text/plain": [
       "Pclass   1  2  3\n",
       "Cabin           \n",
       "A       15  0  0\n",
       "B       47  0  0\n",
       "C       59  0  0\n",
       "D       29  4  0\n",
       "E       25  4  3\n",
       "F        0  8  5\n",
       "G        0  0  4\n",
       "T        1  0  0"
      ]
     },
     "execution_count": 851,
     "metadata": {},
     "output_type": "execute_result"
    }
   ],
   "source": [
    "pd.crosstab(train['Cabin'], train['Pclass'] )"
   ]
  },
  {
   "cell_type": "code",
   "execution_count": 852,
   "id": "849e2ff5-54d3-4131-8e74-fb49fe213719",
   "metadata": {},
   "outputs": [
    {
     "data": {
      "text/html": [
       "<div>\n",
       "<style scoped>\n",
       "    .dataframe tbody tr th:only-of-type {\n",
       "        vertical-align: middle;\n",
       "    }\n",
       "\n",
       "    .dataframe tbody tr th {\n",
       "        vertical-align: top;\n",
       "    }\n",
       "\n",
       "    .dataframe thead th {\n",
       "        text-align: right;\n",
       "    }\n",
       "</style>\n",
       "<table border=\"1\" class=\"dataframe\">\n",
       "  <thead>\n",
       "    <tr style=\"text-align: right;\">\n",
       "      <th>Survived</th>\n",
       "      <th>0</th>\n",
       "      <th>1</th>\n",
       "    </tr>\n",
       "    <tr>\n",
       "      <th>Cabin</th>\n",
       "      <th></th>\n",
       "      <th></th>\n",
       "    </tr>\n",
       "  </thead>\n",
       "  <tbody>\n",
       "    <tr>\n",
       "      <th>A</th>\n",
       "      <td>8</td>\n",
       "      <td>7</td>\n",
       "    </tr>\n",
       "    <tr>\n",
       "      <th>B</th>\n",
       "      <td>12</td>\n",
       "      <td>35</td>\n",
       "    </tr>\n",
       "    <tr>\n",
       "      <th>C</th>\n",
       "      <td>24</td>\n",
       "      <td>35</td>\n",
       "    </tr>\n",
       "    <tr>\n",
       "      <th>D</th>\n",
       "      <td>8</td>\n",
       "      <td>25</td>\n",
       "    </tr>\n",
       "    <tr>\n",
       "      <th>E</th>\n",
       "      <td>8</td>\n",
       "      <td>24</td>\n",
       "    </tr>\n",
       "    <tr>\n",
       "      <th>F</th>\n",
       "      <td>5</td>\n",
       "      <td>8</td>\n",
       "    </tr>\n",
       "    <tr>\n",
       "      <th>G</th>\n",
       "      <td>2</td>\n",
       "      <td>2</td>\n",
       "    </tr>\n",
       "    <tr>\n",
       "      <th>T</th>\n",
       "      <td>1</td>\n",
       "      <td>0</td>\n",
       "    </tr>\n",
       "  </tbody>\n",
       "</table>\n",
       "</div>"
      ],
      "text/plain": [
       "Survived   0   1\n",
       "Cabin           \n",
       "A          8   7\n",
       "B         12  35\n",
       "C         24  35\n",
       "D          8  25\n",
       "E          8  24\n",
       "F          5   8\n",
       "G          2   2\n",
       "T          1   0"
      ]
     },
     "execution_count": 852,
     "metadata": {},
     "output_type": "execute_result"
    }
   ],
   "source": [
    "pd.crosstab(train['Cabin'], train['Survived'] )"
   ]
  },
  {
   "cell_type": "code",
   "execution_count": 853,
   "id": "ca0d4e78-7e0e-496b-9d39-c51ded215ee5",
   "metadata": {},
   "outputs": [
    {
     "data": {
      "text/plain": [
       "Cabin  Survived\n",
       "B      1           35\n",
       "C      1           35\n",
       "D      1           25\n",
       "C      0           24\n",
       "E      1           24\n",
       "B      0           12\n",
       "A      0            8\n",
       "D      0            8\n",
       "E      0            8\n",
       "F      1            8\n",
       "A      1            7\n",
       "F      0            5\n",
       "G      0            2\n",
       "       1            2\n",
       "T      0            1\n",
       "dtype: int64"
      ]
     },
     "execution_count": 853,
     "metadata": {},
     "output_type": "execute_result"
    }
   ],
   "source": [
    "train[['Cabin','Survived']].value_counts()"
   ]
  },
  {
   "cell_type": "code",
   "execution_count": 854,
   "id": "7271c4d9-5a41-45a7-bf05-70531f95885e",
   "metadata": {},
   "outputs": [],
   "source": [
    "train['Cabin'] = train['Cabin'].fillna('')"
   ]
  },
  {
   "cell_type": "code",
   "execution_count": 855,
   "id": "7ad5fc60-6012-409b-bd6e-319a4ff96b6d",
   "metadata": {},
   "outputs": [
    {
     "data": {
      "text/plain": [
       "array(['', 'C', 'E', 'G', 'D', 'A', 'B', 'F', 'T'], dtype=object)"
      ]
     },
     "execution_count": 855,
     "metadata": {},
     "output_type": "execute_result"
    }
   ],
   "source": [
    "pd.unique(train['Cabin'])"
   ]
  },
  {
   "cell_type": "code",
   "execution_count": 856,
   "id": "fc5acecb-bd41-4be0-8194-0b17011ee6ef",
   "metadata": {},
   "outputs": [],
   "source": [
    "# ! pip install sklearn"
   ]
  },
  {
   "cell_type": "markdown",
   "id": "159776d1-bb32-440b-bbd5-5c0412672687",
   "metadata": {},
   "source": [
    "# 피쳐 가공 (Feature Engineering & Preprocessing)"
   ]
  },
  {
   "cell_type": "markdown",
   "id": "462416dc-ca5d-4339-bade-d314ec14f78c",
   "metadata": {
    "tags": []
   },
   "source": [
    "## Object 타입 numeric(수치) 타입으로 변경\n",
    "<pre>\n",
    "10  Cabin          204 non-null    object  - ??\n",
    " 4   Sex            891 non-null    object \n",
    "11  Embarked    889 non-null    object  - 최빈도S\n",
    "\n",
    "* map\n",
    "* replace\n",
    "* lambda\n"
   ]
  },
  {
   "cell_type": "markdown",
   "id": "a34a6c80-58ff-4557-9907-04067e018b50",
   "metadata": {},
   "source": [
    "* object 타입 확인"
   ]
  },
  {
   "cell_type": "code",
   "execution_count": 857,
   "id": "dc26eda5-e018-4d0b-ac3e-09eb8ad5ab54",
   "metadata": {},
   "outputs": [
    {
     "data": {
      "text/html": [
       "<div>\n",
       "<style scoped>\n",
       "    .dataframe tbody tr th:only-of-type {\n",
       "        vertical-align: middle;\n",
       "    }\n",
       "\n",
       "    .dataframe tbody tr th {\n",
       "        vertical-align: top;\n",
       "    }\n",
       "\n",
       "    .dataframe thead th {\n",
       "        text-align: right;\n",
       "    }\n",
       "</style>\n",
       "<table border=\"1\" class=\"dataframe\">\n",
       "  <thead>\n",
       "    <tr style=\"text-align: right;\">\n",
       "      <th></th>\n",
       "      <th>Cabin</th>\n",
       "      <th>Sex</th>\n",
       "      <th>Embarked</th>\n",
       "    </tr>\n",
       "  </thead>\n",
       "  <tbody>\n",
       "    <tr>\n",
       "      <th>count</th>\n",
       "      <td>891</td>\n",
       "      <td>891</td>\n",
       "      <td>891</td>\n",
       "    </tr>\n",
       "    <tr>\n",
       "      <th>unique</th>\n",
       "      <td>9</td>\n",
       "      <td>2</td>\n",
       "      <td>3</td>\n",
       "    </tr>\n",
       "    <tr>\n",
       "      <th>top</th>\n",
       "      <td></td>\n",
       "      <td>male</td>\n",
       "      <td>S</td>\n",
       "    </tr>\n",
       "    <tr>\n",
       "      <th>freq</th>\n",
       "      <td>687</td>\n",
       "      <td>577</td>\n",
       "      <td>646</td>\n",
       "    </tr>\n",
       "  </tbody>\n",
       "</table>\n",
       "</div>"
      ],
      "text/plain": [
       "       Cabin   Sex Embarked\n",
       "count    891   891      891\n",
       "unique     9     2        3\n",
       "top           male        S\n",
       "freq     687   577      646"
      ]
     },
     "execution_count": 857,
     "metadata": {},
     "output_type": "execute_result"
    }
   ],
   "source": [
    "train[['Cabin','Sex','Embarked']].describe()"
   ]
  },
  {
   "cell_type": "code",
   "execution_count": 858,
   "id": "db960925-ac10-4476-b63f-d31bfb547fe8",
   "metadata": {},
   "outputs": [
    {
     "name": "stdout",
     "output_type": "stream",
     "text": [
      "['' 'C' 'E' 'G' 'D' 'A' 'B' 'F' 'T']\n",
      "['male' 'female']\n",
      "['S' 'C' 'Q']\n"
     ]
    }
   ],
   "source": [
    "print( pd.unique(train['Cabin'])     )\n",
    "print( pd.unique(train['Sex'])       )\n",
    "print( pd.unique(train['Embarked'])  )"
   ]
  },
  {
   "cell_type": "markdown",
   "id": "2793c6d6-9fe3-4577-8d97-5a87755127d6",
   "metadata": {},
   "source": [
    "* 옵션 : object 타입 컬럼만 뽑아오기"
   ]
  },
  {
   "cell_type": "code",
   "execution_count": 859,
   "id": "57290c3a-776c-4ed6-8dff-6a216e5b860b",
   "metadata": {},
   "outputs": [
    {
     "name": "stdout",
     "output_type": "stream",
     "text": [
      "['Sex', 'Cabin', 'Embarked']\n",
      "['male' 'female']\n",
      "['' 'C' 'E' 'G' 'D' 'A' 'B' 'F' 'T']\n",
      "['S' 'C' 'Q']\n"
     ]
    }
   ],
   "source": [
    "col_list = train.select_dtypes(include='object').columns.tolist()\n",
    "print(col_list)\n",
    "#---------------------------------------\n",
    "for col in col_list:\n",
    "    print( pd.unique(train[col])  )"
   ]
  },
  {
   "cell_type": "markdown",
   "id": "61091df4-85ab-46fe-9c4f-57635df839c6",
   "metadata": {},
   "source": [
    "* (1) Pandas get_dummies()를 이용한 수치 변환\n",
    "---\n",
    "<pre>\n",
    " - object 컬럼들 전체 : 결측처리  + 원핫인코딩(나만1 나머진0)\n",
    " - 모든 object 컬럼들의 결측값을 일괄로 처리 --> 원하는 결측처리를 못한다.\n",
    " - fillna() 로 원하는 결측 처리를 먼저하고 get_dummies()로 글자 숫자 바꾼다\n",
    " - 단점 : 컬럼이 가지고 있는 unique한 값 만큼 컬럼이 생긴다\n",
    " - 꿀팁 : 컬럼이 무수히 들어나기 때문에 모델학습 직전에 해주면 여러분들이 가공할때 컬럼 보기 편하다."
   ]
  },
  {
   "cell_type": "markdown",
   "id": "c81c915a-da30-480c-802a-d51ee635dcef",
   "metadata": {},
   "source": [
    "* (2) sklearn LabelEncoder(), OneHotEncoder()를 이용한 수치 변환"
   ]
  },
  {
   "cell_type": "code",
   "execution_count": 860,
   "id": "a690ec93-53f5-41e8-b713-8028267c3970",
   "metadata": {},
   "outputs": [],
   "source": [
    "from sklearn.preprocessing import LabelEncoder, OneHotEncoder"
   ]
  },
  {
   "cell_type": "markdown",
   "id": "a4dd68dd-981d-488d-be52-14ea721b565b",
   "metadata": {},
   "source": [
    "* 연습 : LabelEncoder() 글자를 숫자로 변경 : 희소행렬"
   ]
  },
  {
   "cell_type": "code",
   "execution_count": 861,
   "id": "8de623ad-79ee-431a-9024-131480cdb730",
   "metadata": {},
   "outputs": [
    {
     "name": "stdout",
     "output_type": "stream",
     "text": [
      "unique하게 바꿀 대상을 컴퓨터가 선별 fit() :  ['a' 'b' 'c' 'd']\n",
      "글자 -> 숫자(인코딩) transform(): [1 0 2 3 0 1]\n",
      "숫자 -> 글자(원복) inverse_transform():  ['b' 'a' 'c' 'd' 'a' 'b']\n"
     ]
    }
   ],
   "source": [
    "data_list = ['b','a','c','d','a','b']\n",
    "lb_encoder = LabelEncoder()\n",
    "lb_encoder.fit(data_list)\n",
    "res = lb_encoder.transform(data_list)\n",
    "# res = lb_encoder.fit_transform(data_list)  # fit() + transform()\n",
    "\n",
    "print(\"unique하게 바꿀 대상을 컴퓨터가 선별 fit() : \", lb_encoder.classes_)\n",
    "print(\"글자 -> 숫자(인코딩) transform():\" , res)\n",
    "print(\"숫자 -> 글자(원복) inverse_transform(): \", lb_encoder.inverse_transform(res))"
   ]
  },
  {
   "cell_type": "markdown",
   "id": "bb430cda-348b-43b4-bcd3-70ce03411d31",
   "metadata": {},
   "source": [
    "* 연습 : OneHotEncoder() 글자를 숫자로 변경 : 해당하는 글자는 핫하게1 나머지는 0 : 밀집행렬"
   ]
  },
  {
   "cell_type": "code",
   "execution_count": 862,
   "id": "cbb8b0e9-30ed-47f7-9bf2-84cfeb7fce5c",
   "metadata": {},
   "outputs": [
    {
     "name": "stdout",
     "output_type": "stream",
     "text": [
      "[['b']\n",
      " ['a']\n",
      " ['c']\n",
      " ['d']\n",
      " ['a']\n",
      " ['b']]\n",
      "  (0, 1)\t1.0\n",
      "  (1, 0)\t1.0\n",
      "  (2, 2)\t1.0\n",
      "  (3, 3)\t1.0\n",
      "  (4, 0)\t1.0\n",
      "  (5, 1)\t1.0\n"
     ]
    }
   ],
   "source": [
    "data_list = ['b','a','c','d','a','b']\n",
    "print(np.array(data_list).reshape(-1, 1))\n",
    "\n",
    "data_list = np.array(data_list).reshape(-1, 1)\n",
    "oh_encoder = OneHotEncoder()\n",
    "oh_encoder.fit(data_list)\n",
    "res = oh_encoder.transform(data_list)\n",
    "res = oh_encoder.fit_transform(data_list)\n",
    "print(res)"
   ]
  },
  {
   "cell_type": "markdown",
   "id": "1ec5a79e-9e77-4fff-be54-11e02b0180dc",
   "metadata": {},
   "source": [
    "### sklearn.LabelEncoder()\n",
    "<pre>\n",
    "\n",
    "   단점 : for col in col_list: 한개 컬럼씩 변경    \n",
    "   lb_encoder = LabelEncoder()\n",
    "   lb_encoder.fit(train[['Sex','Cabin']])  #---------------------에러 때거지로 안된다."
   ]
  },
  {
   "cell_type": "code",
   "execution_count": 863,
   "id": "44404f77-4091-49cd-8376-c08f475fd90a",
   "metadata": {},
   "outputs": [
    {
     "data": {
      "text/html": [
       "<div>\n",
       "<style scoped>\n",
       "    .dataframe tbody tr th:only-of-type {\n",
       "        vertical-align: middle;\n",
       "    }\n",
       "\n",
       "    .dataframe tbody tr th {\n",
       "        vertical-align: top;\n",
       "    }\n",
       "\n",
       "    .dataframe thead th {\n",
       "        text-align: right;\n",
       "    }\n",
       "</style>\n",
       "<table border=\"1\" class=\"dataframe\">\n",
       "  <thead>\n",
       "    <tr style=\"text-align: right;\">\n",
       "      <th></th>\n",
       "      <th>Survived</th>\n",
       "      <th>Pclass</th>\n",
       "      <th>Sex</th>\n",
       "      <th>Age</th>\n",
       "      <th>SibSp</th>\n",
       "      <th>Parch</th>\n",
       "      <th>Fare</th>\n",
       "      <th>Cabin</th>\n",
       "      <th>Embarked</th>\n",
       "      <th>Sex___</th>\n",
       "      <th>Cabin___</th>\n",
       "      <th>Embarked___</th>\n",
       "    </tr>\n",
       "  </thead>\n",
       "  <tbody>\n",
       "    <tr>\n",
       "      <th>0</th>\n",
       "      <td>0</td>\n",
       "      <td>3</td>\n",
       "      <td>male</td>\n",
       "      <td>22</td>\n",
       "      <td>1</td>\n",
       "      <td>0</td>\n",
       "      <td>7.2500</td>\n",
       "      <td></td>\n",
       "      <td>S</td>\n",
       "      <td>1</td>\n",
       "      <td>0</td>\n",
       "      <td>2</td>\n",
       "    </tr>\n",
       "    <tr>\n",
       "      <th>1</th>\n",
       "      <td>1</td>\n",
       "      <td>1</td>\n",
       "      <td>female</td>\n",
       "      <td>38</td>\n",
       "      <td>1</td>\n",
       "      <td>0</td>\n",
       "      <td>71.2833</td>\n",
       "      <td>C</td>\n",
       "      <td>C</td>\n",
       "      <td>0</td>\n",
       "      <td>3</td>\n",
       "      <td>0</td>\n",
       "    </tr>\n",
       "    <tr>\n",
       "      <th>2</th>\n",
       "      <td>1</td>\n",
       "      <td>3</td>\n",
       "      <td>female</td>\n",
       "      <td>26</td>\n",
       "      <td>0</td>\n",
       "      <td>0</td>\n",
       "      <td>7.9250</td>\n",
       "      <td></td>\n",
       "      <td>S</td>\n",
       "      <td>0</td>\n",
       "      <td>0</td>\n",
       "      <td>2</td>\n",
       "    </tr>\n",
       "    <tr>\n",
       "      <th>3</th>\n",
       "      <td>1</td>\n",
       "      <td>1</td>\n",
       "      <td>female</td>\n",
       "      <td>35</td>\n",
       "      <td>1</td>\n",
       "      <td>0</td>\n",
       "      <td>53.1000</td>\n",
       "      <td>C</td>\n",
       "      <td>S</td>\n",
       "      <td>0</td>\n",
       "      <td>3</td>\n",
       "      <td>2</td>\n",
       "    </tr>\n",
       "    <tr>\n",
       "      <th>4</th>\n",
       "      <td>0</td>\n",
       "      <td>3</td>\n",
       "      <td>male</td>\n",
       "      <td>35</td>\n",
       "      <td>0</td>\n",
       "      <td>0</td>\n",
       "      <td>8.0500</td>\n",
       "      <td></td>\n",
       "      <td>S</td>\n",
       "      <td>1</td>\n",
       "      <td>0</td>\n",
       "      <td>2</td>\n",
       "    </tr>\n",
       "  </tbody>\n",
       "</table>\n",
       "</div>"
      ],
      "text/plain": [
       "   Survived  Pclass     Sex  Age  SibSp  Parch     Fare Cabin Embarked  \\\n",
       "0         0       3    male   22      1      0   7.2500              S   \n",
       "1         1       1  female   38      1      0  71.2833     C        C   \n",
       "2         1       3  female   26      0      0   7.9250              S   \n",
       "3         1       1  female   35      1      0  53.1000     C        S   \n",
       "4         0       3    male   35      0      0   8.0500              S   \n",
       "\n",
       "   Sex___  Cabin___  Embarked___  \n",
       "0       1         0            2  \n",
       "1       0         3            0  \n",
       "2       0         0            2  \n",
       "3       0         3            2  \n",
       "4       1         0            2  "
      ]
     },
     "execution_count": 863,
     "metadata": {},
     "output_type": "execute_result"
    }
   ],
   "source": [
    "train2 = train.copy()\n",
    "col_list = ['Sex', 'Cabin', 'Embarked']\n",
    "for col in col_list:\n",
    "    lb_encoder = LabelEncoder()\n",
    "    lb_encoder.fit(train[col])\n",
    "    train2[col+\"___\"] = lb_encoder.transform(train2[col])\n",
    "train2.head()"
   ]
  },
  {
   "cell_type": "code",
   "execution_count": 866,
   "id": "ce35b84f-24ee-4306-b7c8-c2c3ca5eee66",
   "metadata": {},
   "outputs": [
    {
     "data": {
      "text/plain": [
       "2    646\n",
       "0    168\n",
       "1     77\n",
       "Name: Embarked___, dtype: int64"
      ]
     },
     "execution_count": 866,
     "metadata": {},
     "output_type": "execute_result"
    }
   ],
   "source": [
    "train2['Sex___'].value_counts()\n",
    "train2['Cabin___'].value_counts()\n",
    "train2['Embarked___'].value_counts()\n",
    "\n"
   ]
  },
  {
   "cell_type": "markdown",
   "id": "f8d44069-29c0-41a5-a0d9-b1db80fa106c",
   "metadata": {},
   "source": [
    "### sklean.OneHotEncoder()\n",
    "* 원리는 get_dummy()와 같다\n",
    "* 아래 문법은 비추~!!!!!!!  강사도 어렵다\n",
    "\n",
    "<pre>\n",
    "단점 : array-like 2D   \n",
    "사용예 : [1,2,3].reshape(-1,1)   [ [0],[1],[2] ]"
   ]
  },
  {
   "cell_type": "code",
   "execution_count": 871,
   "id": "defd730b-a06f-4c9d-9c4a-6782dcaef332",
   "metadata": {},
   "outputs": [
    {
     "data": {
      "text/html": [
       "<div>\n",
       "<style scoped>\n",
       "    .dataframe tbody tr th:only-of-type {\n",
       "        vertical-align: middle;\n",
       "    }\n",
       "\n",
       "    .dataframe tbody tr th {\n",
       "        vertical-align: top;\n",
       "    }\n",
       "\n",
       "    .dataframe thead th {\n",
       "        text-align: right;\n",
       "    }\n",
       "</style>\n",
       "<table border=\"1\" class=\"dataframe\">\n",
       "  <thead>\n",
       "    <tr style=\"text-align: right;\">\n",
       "      <th></th>\n",
       "      <th>Survived</th>\n",
       "      <th>Pclass</th>\n",
       "      <th>Sex</th>\n",
       "      <th>Age</th>\n",
       "      <th>SibSp</th>\n",
       "      <th>Parch</th>\n",
       "      <th>Fare</th>\n",
       "      <th>Cabin</th>\n",
       "      <th>Embarked</th>\n",
       "      <th>Embarked_S</th>\n",
       "      <th>Embarked_C</th>\n",
       "      <th>Embarked_Q</th>\n",
       "    </tr>\n",
       "  </thead>\n",
       "  <tbody>\n",
       "    <tr>\n",
       "      <th>0</th>\n",
       "      <td>0</td>\n",
       "      <td>3</td>\n",
       "      <td>male</td>\n",
       "      <td>22</td>\n",
       "      <td>1</td>\n",
       "      <td>0</td>\n",
       "      <td>7.2500</td>\n",
       "      <td></td>\n",
       "      <td>S</td>\n",
       "      <td>0</td>\n",
       "      <td>0</td>\n",
       "      <td>1</td>\n",
       "    </tr>\n",
       "    <tr>\n",
       "      <th>1</th>\n",
       "      <td>1</td>\n",
       "      <td>1</td>\n",
       "      <td>female</td>\n",
       "      <td>38</td>\n",
       "      <td>1</td>\n",
       "      <td>0</td>\n",
       "      <td>71.2833</td>\n",
       "      <td>C</td>\n",
       "      <td>C</td>\n",
       "      <td>1</td>\n",
       "      <td>0</td>\n",
       "      <td>0</td>\n",
       "    </tr>\n",
       "    <tr>\n",
       "      <th>2</th>\n",
       "      <td>1</td>\n",
       "      <td>3</td>\n",
       "      <td>female</td>\n",
       "      <td>26</td>\n",
       "      <td>0</td>\n",
       "      <td>0</td>\n",
       "      <td>7.9250</td>\n",
       "      <td></td>\n",
       "      <td>S</td>\n",
       "      <td>0</td>\n",
       "      <td>0</td>\n",
       "      <td>1</td>\n",
       "    </tr>\n",
       "    <tr>\n",
       "      <th>3</th>\n",
       "      <td>1</td>\n",
       "      <td>1</td>\n",
       "      <td>female</td>\n",
       "      <td>35</td>\n",
       "      <td>1</td>\n",
       "      <td>0</td>\n",
       "      <td>53.1000</td>\n",
       "      <td>C</td>\n",
       "      <td>S</td>\n",
       "      <td>0</td>\n",
       "      <td>0</td>\n",
       "      <td>1</td>\n",
       "    </tr>\n",
       "    <tr>\n",
       "      <th>4</th>\n",
       "      <td>0</td>\n",
       "      <td>3</td>\n",
       "      <td>male</td>\n",
       "      <td>35</td>\n",
       "      <td>0</td>\n",
       "      <td>0</td>\n",
       "      <td>8.0500</td>\n",
       "      <td></td>\n",
       "      <td>S</td>\n",
       "      <td>0</td>\n",
       "      <td>0</td>\n",
       "      <td>1</td>\n",
       "    </tr>\n",
       "  </tbody>\n",
       "</table>\n",
       "</div>"
      ],
      "text/plain": [
       "   Survived  Pclass     Sex  Age  SibSp  Parch     Fare Cabin Embarked  \\\n",
       "0         0       3    male   22      1      0   7.2500              S   \n",
       "1         1       1  female   38      1      0  71.2833     C        C   \n",
       "2         1       3  female   26      0      0   7.9250              S   \n",
       "3         1       1  female   35      1      0  53.1000     C        S   \n",
       "4         0       3    male   35      0      0   8.0500              S   \n",
       "\n",
       "   Embarked_S  Embarked_C  Embarked_Q  \n",
       "0           0           0           1  \n",
       "1           1           0           0  \n",
       "2           0           0           1  \n",
       "3           0           0           1  \n",
       "4           0           0           1  "
      ]
     },
     "execution_count": 871,
     "metadata": {},
     "output_type": "execute_result"
    }
   ],
   "source": [
    "train2 = train.copy()\n",
    "oh_encoder = OneHotEncoder(sparse=False)\n",
    "oh_encoder.fit(  train2['Embarked'].values.reshape(-1,1)  )\n",
    "res = oh_encoder.transform( train2['Embarked'].values.reshape(-1,1) )\n",
    "\n",
    "train2['Embarked_S'] = res[:,  0].astype('int')\n",
    "train2['Embarked_C'] = res[:,  1].astype('int')\n",
    "train2['Embarked_Q'] = res[:,  2].astype('int')\n",
    "train2.head()\n"
   ]
  },
  {
   "cell_type": "markdown",
   "id": "624afe01-f717-4b3c-875f-2a402f8a4db1",
   "metadata": {},
   "source": [
    "### pd.get_dummies()"
   ]
  },
  {
   "cell_type": "code",
   "execution_count": 899,
   "id": "b47bd7a8-84e1-4e50-a59f-f72b6401d34e",
   "metadata": {},
   "outputs": [
    {
     "data": {
      "text/html": [
       "<div>\n",
       "<style scoped>\n",
       "    .dataframe tbody tr th:only-of-type {\n",
       "        vertical-align: middle;\n",
       "    }\n",
       "\n",
       "    .dataframe tbody tr th {\n",
       "        vertical-align: top;\n",
       "    }\n",
       "\n",
       "    .dataframe thead th {\n",
       "        text-align: right;\n",
       "    }\n",
       "</style>\n",
       "<table border=\"1\" class=\"dataframe\">\n",
       "  <thead>\n",
       "    <tr style=\"text-align: right;\">\n",
       "      <th></th>\n",
       "      <th>Survived</th>\n",
       "      <th>Pclass</th>\n",
       "      <th>Age</th>\n",
       "      <th>SibSp</th>\n",
       "      <th>Parch</th>\n",
       "      <th>Fare</th>\n",
       "      <th>Cabin</th>\n",
       "      <th>dumm__female</th>\n",
       "      <th>dumm__male</th>\n",
       "      <th>dumm__C</th>\n",
       "      <th>dumm__Q</th>\n",
       "      <th>dumm__S</th>\n",
       "    </tr>\n",
       "  </thead>\n",
       "  <tbody>\n",
       "    <tr>\n",
       "      <th>0</th>\n",
       "      <td>0</td>\n",
       "      <td>3</td>\n",
       "      <td>22</td>\n",
       "      <td>1</td>\n",
       "      <td>0</td>\n",
       "      <td>7.2500</td>\n",
       "      <td></td>\n",
       "      <td>0</td>\n",
       "      <td>1</td>\n",
       "      <td>0</td>\n",
       "      <td>0</td>\n",
       "      <td>1</td>\n",
       "    </tr>\n",
       "    <tr>\n",
       "      <th>1</th>\n",
       "      <td>1</td>\n",
       "      <td>1</td>\n",
       "      <td>38</td>\n",
       "      <td>1</td>\n",
       "      <td>0</td>\n",
       "      <td>71.2833</td>\n",
       "      <td>C</td>\n",
       "      <td>1</td>\n",
       "      <td>0</td>\n",
       "      <td>1</td>\n",
       "      <td>0</td>\n",
       "      <td>0</td>\n",
       "    </tr>\n",
       "    <tr>\n",
       "      <th>2</th>\n",
       "      <td>1</td>\n",
       "      <td>3</td>\n",
       "      <td>26</td>\n",
       "      <td>0</td>\n",
       "      <td>0</td>\n",
       "      <td>7.9250</td>\n",
       "      <td></td>\n",
       "      <td>1</td>\n",
       "      <td>0</td>\n",
       "      <td>0</td>\n",
       "      <td>0</td>\n",
       "      <td>1</td>\n",
       "    </tr>\n",
       "    <tr>\n",
       "      <th>3</th>\n",
       "      <td>1</td>\n",
       "      <td>1</td>\n",
       "      <td>35</td>\n",
       "      <td>1</td>\n",
       "      <td>0</td>\n",
       "      <td>53.1000</td>\n",
       "      <td>C</td>\n",
       "      <td>1</td>\n",
       "      <td>0</td>\n",
       "      <td>0</td>\n",
       "      <td>0</td>\n",
       "      <td>1</td>\n",
       "    </tr>\n",
       "    <tr>\n",
       "      <th>4</th>\n",
       "      <td>0</td>\n",
       "      <td>3</td>\n",
       "      <td>35</td>\n",
       "      <td>0</td>\n",
       "      <td>0</td>\n",
       "      <td>8.0500</td>\n",
       "      <td></td>\n",
       "      <td>0</td>\n",
       "      <td>1</td>\n",
       "      <td>0</td>\n",
       "      <td>0</td>\n",
       "      <td>1</td>\n",
       "    </tr>\n",
       "  </tbody>\n",
       "</table>\n",
       "</div>"
      ],
      "text/plain": [
       "   Survived  Pclass  Age  SibSp  Parch     Fare Cabin  dumm__female  \\\n",
       "0         0       3   22      1      0   7.2500                   0   \n",
       "1         1       1   38      1      0  71.2833     C             1   \n",
       "2         1       3   26      0      0   7.9250                   1   \n",
       "3         1       1   35      1      0  53.1000     C             1   \n",
       "4         0       3   35      0      0   8.0500                   0   \n",
       "\n",
       "   dumm__male  dumm__C  dumm__Q  dumm__S  \n",
       "0           1        0        0        1  \n",
       "1           0        1        0        0  \n",
       "2           0        0        0        1  \n",
       "3           0        0        0        1  \n",
       "4           1        0        0        1  "
      ]
     },
     "execution_count": 899,
     "metadata": {},
     "output_type": "execute_result"
    }
   ],
   "source": [
    "train2 = train.copy()\n",
    "dumm_df = pd.get_dummies(train2, prefix='dumm_', prefix_sep=\"_\",  columns=['Sex','Embarked'])\n",
    "# train2 = pd.concat([train2, dumm_df], axis=1) \n",
    "dumm_df.head()"
   ]
  },
  {
   "cell_type": "markdown",
   "id": "45a9ff6e-a07e-44ff-b464-bebfa229374e",
   "metadata": {},
   "source": [
    "### df['col'].astype('category')"
   ]
  },
  {
   "cell_type": "code",
   "execution_count": 900,
   "id": "f8b206c3-656d-47aa-ab7a-354e8f2ec177",
   "metadata": {},
   "outputs": [
    {
     "data": {
      "text/html": [
       "<div>\n",
       "<style scoped>\n",
       "    .dataframe tbody tr th:only-of-type {\n",
       "        vertical-align: middle;\n",
       "    }\n",
       "\n",
       "    .dataframe tbody tr th {\n",
       "        vertical-align: top;\n",
       "    }\n",
       "\n",
       "    .dataframe thead th {\n",
       "        text-align: right;\n",
       "    }\n",
       "</style>\n",
       "<table border=\"1\" class=\"dataframe\">\n",
       "  <thead>\n",
       "    <tr style=\"text-align: right;\">\n",
       "      <th></th>\n",
       "      <th>Survived</th>\n",
       "      <th>Pclass</th>\n",
       "      <th>Sex</th>\n",
       "      <th>Age</th>\n",
       "      <th>SibSp</th>\n",
       "      <th>Parch</th>\n",
       "      <th>Fare</th>\n",
       "      <th>Cabin</th>\n",
       "      <th>Embarked</th>\n",
       "      <th>Embarked_cate</th>\n",
       "    </tr>\n",
       "  </thead>\n",
       "  <tbody>\n",
       "    <tr>\n",
       "      <th>0</th>\n",
       "      <td>0</td>\n",
       "      <td>3</td>\n",
       "      <td>male</td>\n",
       "      <td>22</td>\n",
       "      <td>1</td>\n",
       "      <td>0</td>\n",
       "      <td>7.2500</td>\n",
       "      <td></td>\n",
       "      <td>S</td>\n",
       "      <td>2</td>\n",
       "    </tr>\n",
       "    <tr>\n",
       "      <th>1</th>\n",
       "      <td>1</td>\n",
       "      <td>1</td>\n",
       "      <td>female</td>\n",
       "      <td>38</td>\n",
       "      <td>1</td>\n",
       "      <td>0</td>\n",
       "      <td>71.2833</td>\n",
       "      <td>C</td>\n",
       "      <td>C</td>\n",
       "      <td>0</td>\n",
       "    </tr>\n",
       "    <tr>\n",
       "      <th>2</th>\n",
       "      <td>1</td>\n",
       "      <td>3</td>\n",
       "      <td>female</td>\n",
       "      <td>26</td>\n",
       "      <td>0</td>\n",
       "      <td>0</td>\n",
       "      <td>7.9250</td>\n",
       "      <td></td>\n",
       "      <td>S</td>\n",
       "      <td>2</td>\n",
       "    </tr>\n",
       "    <tr>\n",
       "      <th>3</th>\n",
       "      <td>1</td>\n",
       "      <td>1</td>\n",
       "      <td>female</td>\n",
       "      <td>35</td>\n",
       "      <td>1</td>\n",
       "      <td>0</td>\n",
       "      <td>53.1000</td>\n",
       "      <td>C</td>\n",
       "      <td>S</td>\n",
       "      <td>2</td>\n",
       "    </tr>\n",
       "    <tr>\n",
       "      <th>4</th>\n",
       "      <td>0</td>\n",
       "      <td>3</td>\n",
       "      <td>male</td>\n",
       "      <td>35</td>\n",
       "      <td>0</td>\n",
       "      <td>0</td>\n",
       "      <td>8.0500</td>\n",
       "      <td></td>\n",
       "      <td>S</td>\n",
       "      <td>2</td>\n",
       "    </tr>\n",
       "  </tbody>\n",
       "</table>\n",
       "</div>"
      ],
      "text/plain": [
       "   Survived  Pclass     Sex  Age  SibSp  Parch     Fare Cabin Embarked  \\\n",
       "0         0       3    male   22      1      0   7.2500              S   \n",
       "1         1       1  female   38      1      0  71.2833     C        C   \n",
       "2         1       3  female   26      0      0   7.9250              S   \n",
       "3         1       1  female   35      1      0  53.1000     C        S   \n",
       "4         0       3    male   35      0      0   8.0500              S   \n",
       "\n",
       "   Embarked_cate  \n",
       "0              2  \n",
       "1              0  \n",
       "2              2  \n",
       "3              2  \n",
       "4              2  "
      ]
     },
     "execution_count": 900,
     "metadata": {},
     "output_type": "execute_result"
    }
   ],
   "source": [
    "train2 = train.copy()\n",
    "train2['Embarked'] = train2['Embarked'].astype('category')\n",
    "train2['Embarked_cate'] = train2['Embarked'].cat.codes\n",
    "# --------------------------------------------\n",
    "# s = train2['Embarked'].cat.codes\n",
    "# s.name = \"Embarked_cate\"\n",
    "# train2 = pd.concat([train2, s], axis=1)\n",
    "#print(s.index, s.name, s.values)\n",
    "# --------------------------------------------\n",
    "\n",
    "train2.head()"
   ]
  },
  {
   "cell_type": "markdown",
   "id": "aa7ee098-bdc8-4880-bf4c-cdde9b05454c",
   "metadata": {},
   "source": [
    "### df.map(dict)"
   ]
  },
  {
   "cell_type": "code",
   "execution_count": null,
   "id": "80e2ae78-3d75-4a79-ae45-259b191ca5c4",
   "metadata": {},
   "outputs": [],
   "source": [
    "# ['Sex', 'Cabin', 'Embarked']\n",
    "sex_dict = {'male':1 , 'female':0}\n",
    "train['Sex2'] = train['Sex'].map(sex_dict)\n",
    "train[['Sex2','Sex']].head()\n",
    "#  train.drop(['Sex'], axis=1, inplace=True)"
   ]
  },
  {
   "cell_type": "markdown",
   "id": "b3aa28c8-3886-4774-bba4-341856ef0ace",
   "metadata": {},
   "source": [
    "### df.replace()\n",
    "* df['col'].replace(['a','b'] , [1,2] , inplace=True)"
   ]
  },
  {
   "cell_type": "code",
   "execution_count": null,
   "id": "d3e3874f-9cfb-4be9-b4c9-cc27f1c51cb4",
   "metadata": {},
   "outputs": [],
   "source": [
    "# train['Embarked1'] = train['Embarked'].replace('S',1)   ----------- 비추\n",
    "# train['Embarked1'] = train['Embarked1'].replace('C',2)\n",
    "# train['Embarked1'] = train['Embarked1'].replace('Q',3)\n",
    "\n",
    "#------------------------------------------------\n",
    "# train['Embarked'].replace('S',1, inplace=True)   #----------- inplace=True 추천\n",
    "# train['Embarked'].replace('C',2, inplace=True)\n",
    "# train['Embarked'].replace('Q',3, inplace=True)\n",
    "# train['Embarked'].value_counts()\n",
    "#------------------------------------------------\n",
    "train['Embarked'].replace(['S','C','Q'],[1,2,3], inplace=True)   #----------- inplace=True 추천\n",
    "train['Embarked'].value_counts()\n",
    "#------------------------------------------------\n"
   ]
  },
  {
   "cell_type": "markdown",
   "id": "40572fef-49bc-405a-848e-79f68be90074",
   "metadata": {},
   "source": [
    "### df.apply(lambda)"
   ]
  },
  {
   "cell_type": "code",
   "execution_count": null,
   "id": "b8a01279-e823-4f33-80a4-ead7e64bdb31",
   "metadata": {},
   "outputs": [],
   "source": [
    "# train['Sex'].applay(lambda x : )   ==> x = train['Sex']    \n",
    "train['Sex3'] = train['Sex'].apply(lambda x :  1 if x == 'male'  else 0) \n",
    "train[['Sex3','Sex']].head()"
   ]
  },
  {
   "cell_type": "code",
   "execution_count": null,
   "id": "8064885b-ee9b-44f0-b8d1-738a39456881",
   "metadata": {},
   "outputs": [],
   "source": []
  },
  {
   "cell_type": "code",
   "execution_count": null,
   "id": "48264b83-472d-43c6-8785-b116f4e26405",
   "metadata": {},
   "outputs": [],
   "source": []
  },
  {
   "cell_type": "code",
   "execution_count": null,
   "id": "ff869300-2a49-41ad-9547-630f3655ab84",
   "metadata": {},
   "outputs": [],
   "source": []
  },
  {
   "cell_type": "code",
   "execution_count": null,
   "id": "7a2e3836-ba3f-49af-b1af-78bd5f4683d1",
   "metadata": {},
   "outputs": [],
   "source": []
  },
  {
   "cell_type": "code",
   "execution_count": null,
   "id": "814a6644-15c5-4e30-b344-852d419e1628",
   "metadata": {},
   "outputs": [],
   "source": []
  },
  {
   "cell_type": "code",
   "execution_count": null,
   "id": "953267da-152f-4a31-94b4-cefb1bf1a5bb",
   "metadata": {},
   "outputs": [],
   "source": [
    "## 전처리 & 가공 ***************** pandas.DataFrame, numpy ==> python"
   ]
  },
  {
   "cell_type": "code",
   "execution_count": null,
   "id": "28ee1f80-74c2-41c1-8d46-99c0ccbba55e",
   "metadata": {},
   "outputs": [],
   "source": [
    "# * 데이터 준비 : DB, csv, 크롤링, RestAPI\n",
    "# * 시각화 - 웹 Framework - Spring, Djagno , Flask -- 데이터 -- 웹차트\n"
   ]
  },
  {
   "cell_type": "code",
   "execution_count": null,
   "id": "87e8e64e-44d8-4d1b-8845-2a8aefd007c1",
   "metadata": {},
   "outputs": [],
   "source": [
    "# ================================================ AI\n",
    "# ## 모델s & 학습  ML : pip install sklean\n",
    "# #--- 공모전\n",
    "# ## 모델s & 학습  DL : pip install tensorflow keras\n",
    "# #--- 공모전"
   ]
  },
  {
   "cell_type": "code",
   "execution_count": null,
   "id": "ca571045-0394-4bad-99f7-429580d64dc3",
   "metadata": {},
   "outputs": [],
   "source": [
    "## 검증 + 통계"
   ]
  },
  {
   "cell_type": "code",
   "execution_count": null,
   "id": "17037723-56b4-449f-9634-8b4ef10ed4f1",
   "metadata": {},
   "outputs": [],
   "source": [
    "## 모델튜닝 & 검증"
   ]
  },
  {
   "cell_type": "code",
   "execution_count": null,
   "id": "f7011d9d-05ef-43de-8cae-80e19b5e3341",
   "metadata": {},
   "outputs": [],
   "source": [
    "# ========================= 세미프로젝트(팀)"
   ]
  },
  {
   "cell_type": "code",
   "execution_count": null,
   "id": "02cccb94-4616-43b4-89e7-0d5064c6bf59",
   "metadata": {},
   "outputs": [],
   "source": [
    "# ========================== 금융공학(AI) - 모의투자,환율,유가증권(주식,펀드),원자재\n",
    "# ===== 세미프로젝트(수업) + 2주전 데이터수집\n",
    "# ===== 3팀(인원수x, 2명~)~"
   ]
  },
  {
   "cell_type": "code",
   "execution_count": null,
   "id": "c0b1b4de-1345-4974-8aa0-cc29c75c2f78",
   "metadata": {},
   "outputs": [],
   "source": [
    "# ========================== 파이널(팀)"
   ]
  }
 ],
 "metadata": {
  "kernelspec": {
   "display_name": "Python 3 (ipykernel)",
   "language": "python",
   "name": "python3"
  },
  "language_info": {
   "codemirror_mode": {
    "name": "ipython",
    "version": 3
   },
   "file_extension": ".py",
   "mimetype": "text/x-python",
   "name": "python",
   "nbconvert_exporter": "python",
   "pygments_lexer": "ipython3",
   "version": "3.8.8"
  },
  "toc-autonumbering": true,
  "toc-showmarkdowntxt": true
 },
 "nbformat": 4,
 "nbformat_minor": 5
}
