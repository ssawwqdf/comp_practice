{
 "cells": [
  {
   "cell_type": "code",
   "execution_count": 110,
   "id": "aba0b6f0-760c-4685-b76e-0cba503c9222",
   "metadata": {},
   "outputs": [],
   "source": [
    "import pandas as pd\n",
    "import numpy as np\n",
    "import matplotlib.pyplot as plt\n",
    "\n",
    "from sklearn.preprocessing import LabelEncoder, OneHotEncoder\n",
    "from sklearn.model_selection import train_test_split\n",
    "from sklearn.ensemble import RandomForestClassifier\n",
    "from sklearn.linear_model import LogisticRegression\n",
    "from sklearn.neighbors import KNeighborsClassifier\n",
    "from sklearn.tree import DecisionTreeClassifier\n",
    "from sklearn.svm import LinearSVC\n",
    "from sklearn.metrics import accuracy_score\n",
    "\n",
    "import warnings\n",
    "warnings.filterwarnings(action='ignore')\n"
   ]
  },
  {
   "cell_type": "markdown",
   "id": "26a666bf-b87a-4e3c-8193-10155ce01fe4",
   "metadata": {},
   "source": [
    "# Data Load"
   ]
  },
  {
   "cell_type": "code",
   "execution_count": 111,
   "id": "fb4b9cff-ae08-4497-82b6-f61c776e861c",
   "metadata": {},
   "outputs": [],
   "source": [
    "train = pd.read_csv(\"./dataset/train.csv\")\n",
    "# print(train.shape)\n",
    "# print(train.info())\n",
    "# train.head(1)"
   ]
  },
  {
   "cell_type": "markdown",
   "id": "ea37afa8-02e1-4da6-bbbf-5302a4e7cb53",
   "metadata": {
    "tags": []
   },
   "source": [
    "# EDA : 사전 데이터 탐색\n",
    "- 타켓확인, 유니크확인"
   ]
  },
  {
   "cell_type": "code",
   "execution_count": 121,
   "id": "c3451603-3a67-47d1-83eb-66bfb798833f",
   "metadata": {},
   "outputs": [],
   "source": [
    "# train[\"Survived\"].value_counts()"
   ]
  },
  {
   "cell_type": "code",
   "execution_count": null,
   "id": "01ffd0b8-03c2-49bf-bbab-2591ed892355",
   "metadata": {},
   "outputs": [],
   "source": [
    "# print(train.isna().sum()  [train.isna().sum() >0  ] )\n",
    "# print(\"---\"*10)\n",
    "# print(train.nunique()     [train.nunique()  >= 650] )   #by 황지현"
   ]
  },
  {
   "cell_type": "markdown",
   "id": "dfe0ef5b-4881-4f4d-962c-4c911caa53ad",
   "metadata": {},
   "source": [
    "# 가공(Feature Engineering) :"
   ]
  },
  {
   "cell_type": "markdown",
   "id": "b7f98c69-c528-409c-bde4-f5f2a1a67d9f",
   "metadata": {
    "tags": []
   },
   "source": [
    "## 결측처리 : 웃두리"
   ]
  },
  {
   "cell_type": "code",
   "execution_count": 114,
   "id": "9e52972f-1c50-4284-8e4d-3b569fe68e75",
   "metadata": {},
   "outputs": [],
   "source": [
    "train['Embarked'] = train['Embarked'].fillna( 'S' ) \n",
    "train['Age']      = train['Age'].fillna(   train['Age'].mean()    ) \n",
    "train['Cabin'] = train['Cabin'].str[0:1]\n",
    "train['Cabin'] = train['Cabin'].fillna('')\n"
   ]
  },
  {
   "cell_type": "markdown",
   "id": "462416dc-ca5d-4339-bade-d314ec14f78c",
   "metadata": {
    "tags": []
   },
   "source": [
    "## Object 글자 숫자 : 아랫두리"
   ]
  },
  {
   "cell_type": "code",
   "execution_count": 115,
   "id": "57290c3a-776c-4ed6-8dff-6a216e5b860b",
   "metadata": {},
   "outputs": [
    {
     "name": "stdout",
     "output_type": "stream",
     "text": [
      "['Name', 'Sex', 'Ticket', 'Cabin', 'Embarked']\n"
     ]
    }
   ],
   "source": [
    "col_list = train.select_dtypes(include='object').columns.tolist()\n",
    "print(col_list)\n",
    "train['Cabin'] = train['Cabin'].astype('category').cat.codes\n",
    "train['Sex'] = train['Sex'].astype('category').cat.codes\n",
    "train['Embarked'].replace(['S','C','Q'],[1,2,3], inplace=True)  "
   ]
  },
  {
   "cell_type": "markdown",
   "id": "5eabb4b4-8708-45e7-8039-e865f59c1c9b",
   "metadata": {
    "tags": []
   },
   "source": [
    "## 가공 : 악세사리"
   ]
  },
  {
   "cell_type": "code",
   "execution_count": 117,
   "id": "0ad86ff6-1b00-45be-9500-fc450692ac21",
   "metadata": {},
   "outputs": [],
   "source": [
    "train['Fare_binning'] = pd.cut(x=train['Fare'], \n",
    "                               bins=[-1.0, 7.91, 14.45, 31.00, 100.00, 200.00,300.00,600.00], \n",
    "                               labels= [1,2,3,4,5,6,7])\n",
    "train['Fare_binning'] = train['Fare_binning'].astype('int')"
   ]
  },
  {
   "cell_type": "markdown",
   "id": "cdc42440-43f9-4f22-85c4-eea77133b1fe",
   "metadata": {},
   "source": [
    "## 안쓰는 컬럼 지워기\n",
    "가공 끝나고 학습들어가기전 "
   ]
  },
  {
   "cell_type": "code",
   "execution_count": 116,
   "id": "ad9f01cc-a0c9-4584-9e36-eb49901fc122",
   "metadata": {},
   "outputs": [],
   "source": [
    "train = train.drop(['PassengerId', 'Name', 'Ticket'], axis=1)"
   ]
  },
  {
   "cell_type": "markdown",
   "id": "4d7709c6-01e1-4ca0-b087-4722067200a6",
   "metadata": {
    "tags": []
   },
   "source": [
    "# 학습 & 점수\n",
    "* 문제지 답안지  8:2      \n",
    "* model - fit - predict - score"
   ]
  },
  {
   "cell_type": "code",
   "execution_count": 120,
   "id": "6516e119-5d8e-421e-8d7d-a532685d959a",
   "metadata": {},
   "outputs": [
    {
     "name": "stdout",
     "output_type": "stream",
     "text": [
      "(712, 9) (179, 9) (712,) (179,)\n"
     ]
    }
   ],
   "source": [
    "y = train['Survived']                         #-----------------------문제지 답안지  8:2      \n",
    "X = train.drop(['Survived'], axis=1)\n",
    "X_train,X_test, y_train, y_test = train_test_split(X, y, test_size=0.2, random_state=1234,shuffle=True)\n",
    "print(X_train.shape, X_test.shape, y_train.shape, y_test.shape)"
   ]
  },
  {
   "cell_type": "code",
   "execution_count": 119,
   "id": "575f3caa-db13-495c-9052-615943af02ba",
   "metadata": {},
   "outputs": [
    {
     "name": "stdout",
     "output_type": "stream",
     "text": [
      "정확도:0.8268\n"
     ]
    }
   ],
   "source": [
    "model = RandomForestClassifier()               #---모델\n",
    "model.fit(X_train, y_train)                    #---fit 학습해라\n",
    "내답안지 = model.predict(X_test)                #---predict 예측해서 답안지작성해라\n",
    "acc_score = accuracy_score(y_test, 내답안지)    #---score   채점\n",
    "print(f\"정확도:{acc_score:.4f}\")"
   ]
  },
  {
   "cell_type": "markdown",
   "id": "19f1ed75-1e42-48f3-857d-25b70ef3fe25",
   "metadata": {
    "tags": []
   },
   "source": [
    "# 모델튜닝 & 검증\n"
   ]
  }
 ],
 "metadata": {
  "kernelspec": {
   "display_name": "Python 3 (ipykernel)",
   "language": "python",
   "name": "python3"
  },
  "language_info": {
   "codemirror_mode": {
    "name": "ipython",
    "version": 3
   },
   "file_extension": ".py",
   "mimetype": "text/x-python",
   "name": "python",
   "nbconvert_exporter": "python",
   "pygments_lexer": "ipython3",
   "version": "3.8.8"
  },
  "toc-autonumbering": true,
  "toc-showmarkdowntxt": true
 },
 "nbformat": 4,
 "nbformat_minor": 5
}
