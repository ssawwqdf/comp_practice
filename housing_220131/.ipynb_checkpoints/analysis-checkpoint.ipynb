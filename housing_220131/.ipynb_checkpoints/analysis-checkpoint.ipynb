{
 "cells": [
  {
   "cell_type": "markdown",
   "id": "e72aee62-ad9c-4f92-a69b-ad98b507db6f",
   "metadata": {},
   "source": [
    "<img src=\"./logo.png\">"
   ]
  },
  {
   "cell_type": "markdown",
   "id": "7fceebef-00bc-4753-a358-53fe508916ac",
   "metadata": {},
   "source": [
    "# Dataload & Pre-setting"
   ]
  },
  {
   "cell_type": "markdown",
   "id": "46b73825-e29d-41b1-ad8f-aef018bd5776",
   "metadata": {},
   "source": [
    "## Import Package"
   ]
  },
  {
   "cell_type": "code",
   "execution_count": 46,
   "id": "5aa3af2b-ab09-451b-8a94-f996f1f5f86a",
   "metadata": {},
   "outputs": [],
   "source": [
    "import pandas as pd\n",
    "import numpy as np"
   ]
  },
  {
   "cell_type": "markdown",
   "id": "0f11c3d5-8fa9-4d29-847d-60f7fec01c71",
   "metadata": {},
   "source": [
    "## Dataload"
   ]
  },
  {
   "cell_type": "code",
   "execution_count": 47,
   "id": "982e5962-22fc-4ad8-ae3d-57798c77e9cc",
   "metadata": {},
   "outputs": [],
   "source": [
    "df=pd.read_csv(\"./dataset/train.csv\")"
   ]
  },
  {
   "cell_type": "code",
   "execution_count": 48,
   "id": "1822008d-8cfa-4d1c-965e-b3ec80d66d75",
   "metadata": {},
   "outputs": [],
   "source": [
    "df.columns=[col.lower() for col in df.columns]"
   ]
  },
  {
   "cell_type": "markdown",
   "id": "5499b55e-3b9f-4447-aaf0-bce06ead53fd",
   "metadata": {
    "tags": []
   },
   "source": [
    "<pre>\n",
    "OverallQual : 전반적 재료와 마감 품질  -> all_auql\n",
    "GrLivArea : 지상층 생활 면적           -> gr_sf\n",
    "ExterQual : 외관 재료 품질             -> ex_qual\n",
    "GarageCars: 차고 자리 개수             -> gara_cars\n",
    "GarageArea: 차고 면적                  -> gara_sf\n",
    "KitchenQual : 부억 품질                -> kit_qual\n",
    "TotalBsmtSF : 지하실 면적              -> bsmt_sf\n",
    "1stFlrSF : 1층 면적                    -> 1st_sf\n",
    "BsmtQual : 지하실 높이                 -> bsmt_qual\n",
    "FullBath : 지상층 화장실 개수          -> full_bath\n",
    "YearBuilt : 완공 연도                  -> year_built\n",
    "YearRemodAdd : 리모델링 연도           -> year_remod\n",
    "GarageYrBlt : 차고 완공 연도           -> year_gara_blt\n",
    "target : 집값(달러 단위)               -> target"
   ]
  },
  {
   "cell_type": "code",
   "execution_count": 49,
   "id": "e2399667-f59f-4ede-a73e-8cab3f95c96a",
   "metadata": {},
   "outputs": [],
   "source": [
    "col_list=['id','all_qual','gr_sf','ex_qual', 'gara_cars','gara_sf','kit_qual','bsmt_sf','1st_sf','bsmt_qual','full_bath','year_built','year_remod','year_gara_blt','target']\n",
    "df.columns=col_list"
   ]
  },
  {
   "cell_type": "code",
   "execution_count": 50,
   "id": "8abdfe96-6b14-42d9-88af-556727c3a008",
   "metadata": {},
   "outputs": [
    {
     "data": {
      "text/html": [
       "<div>\n",
       "<style scoped>\n",
       "    .dataframe tbody tr th:only-of-type {\n",
       "        vertical-align: middle;\n",
       "    }\n",
       "\n",
       "    .dataframe tbody tr th {\n",
       "        vertical-align: top;\n",
       "    }\n",
       "\n",
       "    .dataframe thead th {\n",
       "        text-align: right;\n",
       "    }\n",
       "</style>\n",
       "<table border=\"1\" class=\"dataframe\">\n",
       "  <thead>\n",
       "    <tr style=\"text-align: right;\">\n",
       "      <th></th>\n",
       "      <th>id</th>\n",
       "      <th>all_qual</th>\n",
       "      <th>gr_sf</th>\n",
       "      <th>ex_qual</th>\n",
       "      <th>gara_cars</th>\n",
       "      <th>gara_sf</th>\n",
       "      <th>kit_qual</th>\n",
       "      <th>bsmt_sf</th>\n",
       "      <th>1st_sf</th>\n",
       "      <th>bsmt_qual</th>\n",
       "      <th>full_bath</th>\n",
       "      <th>year_built</th>\n",
       "      <th>year_remod</th>\n",
       "      <th>year_gara_blt</th>\n",
       "      <th>target</th>\n",
       "    </tr>\n",
       "  </thead>\n",
       "  <tbody>\n",
       "    <tr>\n",
       "      <th>0</th>\n",
       "      <td>1</td>\n",
       "      <td>10</td>\n",
       "      <td>2392</td>\n",
       "      <td>Ex</td>\n",
       "      <td>3</td>\n",
       "      <td>968</td>\n",
       "      <td>Ex</td>\n",
       "      <td>2392</td>\n",
       "      <td>2392</td>\n",
       "      <td>Ex</td>\n",
       "      <td>2</td>\n",
       "      <td>2003</td>\n",
       "      <td>2003</td>\n",
       "      <td>2003</td>\n",
       "      <td>386250</td>\n",
       "    </tr>\n",
       "    <tr>\n",
       "      <th>1</th>\n",
       "      <td>2</td>\n",
       "      <td>7</td>\n",
       "      <td>1352</td>\n",
       "      <td>Gd</td>\n",
       "      <td>2</td>\n",
       "      <td>466</td>\n",
       "      <td>Gd</td>\n",
       "      <td>1352</td>\n",
       "      <td>1352</td>\n",
       "      <td>Ex</td>\n",
       "      <td>2</td>\n",
       "      <td>2006</td>\n",
       "      <td>2007</td>\n",
       "      <td>2006</td>\n",
       "      <td>194000</td>\n",
       "    </tr>\n",
       "    <tr>\n",
       "      <th>2</th>\n",
       "      <td>3</td>\n",
       "      <td>5</td>\n",
       "      <td>900</td>\n",
       "      <td>TA</td>\n",
       "      <td>1</td>\n",
       "      <td>288</td>\n",
       "      <td>TA</td>\n",
       "      <td>864</td>\n",
       "      <td>900</td>\n",
       "      <td>TA</td>\n",
       "      <td>1</td>\n",
       "      <td>1967</td>\n",
       "      <td>1967</td>\n",
       "      <td>1967</td>\n",
       "      <td>123000</td>\n",
       "    </tr>\n",
       "    <tr>\n",
       "      <th>3</th>\n",
       "      <td>4</td>\n",
       "      <td>5</td>\n",
       "      <td>1174</td>\n",
       "      <td>TA</td>\n",
       "      <td>2</td>\n",
       "      <td>576</td>\n",
       "      <td>Gd</td>\n",
       "      <td>680</td>\n",
       "      <td>680</td>\n",
       "      <td>TA</td>\n",
       "      <td>1</td>\n",
       "      <td>1900</td>\n",
       "      <td>2006</td>\n",
       "      <td>2000</td>\n",
       "      <td>135000</td>\n",
       "    </tr>\n",
       "    <tr>\n",
       "      <th>4</th>\n",
       "      <td>5</td>\n",
       "      <td>7</td>\n",
       "      <td>1958</td>\n",
       "      <td>Gd</td>\n",
       "      <td>3</td>\n",
       "      <td>936</td>\n",
       "      <td>Gd</td>\n",
       "      <td>1026</td>\n",
       "      <td>1026</td>\n",
       "      <td>Gd</td>\n",
       "      <td>2</td>\n",
       "      <td>2005</td>\n",
       "      <td>2005</td>\n",
       "      <td>2005</td>\n",
       "      <td>250000</td>\n",
       "    </tr>\n",
       "  </tbody>\n",
       "</table>\n",
       "</div>"
      ],
      "text/plain": [
       "   id  all_qual  gr_sf ex_qual  gara_cars  gara_sf kit_qual  bsmt_sf  1st_sf  \\\n",
       "0   1        10   2392      Ex          3      968       Ex     2392    2392   \n",
       "1   2         7   1352      Gd          2      466       Gd     1352    1352   \n",
       "2   3         5    900      TA          1      288       TA      864     900   \n",
       "3   4         5   1174      TA          2      576       Gd      680     680   \n",
       "4   5         7   1958      Gd          3      936       Gd     1026    1026   \n",
       "\n",
       "  bsmt_qual  full_bath  year_built  year_remod  year_gara_blt  target  \n",
       "0        Ex          2        2003        2003           2003  386250  \n",
       "1        Ex          2        2006        2007           2006  194000  \n",
       "2        TA          1        1967        1967           1967  123000  \n",
       "3        TA          1        1900        2006           2000  135000  \n",
       "4        Gd          2        2005        2005           2005  250000  "
      ]
     },
     "execution_count": 50,
     "metadata": {},
     "output_type": "execute_result"
    }
   ],
   "source": [
    "df.head()"
   ]
  },
  {
   "cell_type": "code",
   "execution_count": 51,
   "id": "8ef7620c-cd39-4a56-b3a9-179ec7df8d95",
   "metadata": {},
   "outputs": [
    {
     "data": {
      "text/plain": [
       "(1350, 15)"
      ]
     },
     "execution_count": 51,
     "metadata": {},
     "output_type": "execute_result"
    }
   ],
   "source": [
    "df.shape"
   ]
  },
  {
   "cell_type": "code",
   "execution_count": 52,
   "id": "b11e5877-8f3d-4313-bc2d-39e09461a68e",
   "metadata": {},
   "outputs": [
    {
     "name": "stdout",
     "output_type": "stream",
     "text": [
      "<class 'pandas.core.frame.DataFrame'>\n",
      "RangeIndex: 1350 entries, 0 to 1349\n",
      "Data columns (total 15 columns):\n",
      " #   Column         Non-Null Count  Dtype \n",
      "---  ------         --------------  ----- \n",
      " 0   id             1350 non-null   int64 \n",
      " 1   all_qual       1350 non-null   int64 \n",
      " 2   gr_sf          1350 non-null   int64 \n",
      " 3   ex_qual        1350 non-null   object\n",
      " 4   gara_cars      1350 non-null   int64 \n",
      " 5   gara_sf        1350 non-null   int64 \n",
      " 6   kit_qual       1350 non-null   object\n",
      " 7   bsmt_sf        1350 non-null   int64 \n",
      " 8   1st_sf         1350 non-null   int64 \n",
      " 9   bsmt_qual      1350 non-null   object\n",
      " 10  full_bath      1350 non-null   int64 \n",
      " 11  year_built     1350 non-null   int64 \n",
      " 12  year_remod     1350 non-null   int64 \n",
      " 13  year_gara_blt  1350 non-null   int64 \n",
      " 14  target         1350 non-null   int64 \n",
      "dtypes: int64(12), object(3)\n",
      "memory usage: 158.3+ KB\n"
     ]
    }
   ],
   "source": [
    "df.info()"
   ]
  },
  {
   "cell_type": "code",
   "execution_count": 53,
   "id": "aa84c7a5-a139-4cbe-9d48-4dbe784bc59a",
   "metadata": {},
   "outputs": [
    {
     "data": {
      "text/html": [
       "<div>\n",
       "<style scoped>\n",
       "    .dataframe tbody tr th:only-of-type {\n",
       "        vertical-align: middle;\n",
       "    }\n",
       "\n",
       "    .dataframe tbody tr th {\n",
       "        vertical-align: top;\n",
       "    }\n",
       "\n",
       "    .dataframe thead th {\n",
       "        text-align: right;\n",
       "    }\n",
       "</style>\n",
       "<table border=\"1\" class=\"dataframe\">\n",
       "  <thead>\n",
       "    <tr style=\"text-align: right;\">\n",
       "      <th></th>\n",
       "      <th>id</th>\n",
       "      <th>all_qual</th>\n",
       "      <th>gr_sf</th>\n",
       "      <th>ex_qual</th>\n",
       "      <th>gara_cars</th>\n",
       "      <th>gara_sf</th>\n",
       "      <th>kit_qual</th>\n",
       "      <th>bsmt_sf</th>\n",
       "      <th>1st_sf</th>\n",
       "      <th>bsmt_qual</th>\n",
       "      <th>full_bath</th>\n",
       "      <th>year_built</th>\n",
       "      <th>year_remod</th>\n",
       "      <th>year_gara_blt</th>\n",
       "      <th>target</th>\n",
       "    </tr>\n",
       "  </thead>\n",
       "  <tbody>\n",
       "    <tr>\n",
       "      <th>0</th>\n",
       "      <td>1</td>\n",
       "      <td>10</td>\n",
       "      <td>2392</td>\n",
       "      <td>Ex</td>\n",
       "      <td>3</td>\n",
       "      <td>968</td>\n",
       "      <td>Ex</td>\n",
       "      <td>2392</td>\n",
       "      <td>2392</td>\n",
       "      <td>Ex</td>\n",
       "      <td>2</td>\n",
       "      <td>2003</td>\n",
       "      <td>2003</td>\n",
       "      <td>2003</td>\n",
       "      <td>386250</td>\n",
       "    </tr>\n",
       "  </tbody>\n",
       "</table>\n",
       "</div>"
      ],
      "text/plain": [
       "   id  all_qual  gr_sf ex_qual  gara_cars  gara_sf kit_qual  bsmt_sf  1st_sf  \\\n",
       "0   1        10   2392      Ex          3      968       Ex     2392    2392   \n",
       "\n",
       "  bsmt_qual  full_bath  year_built  year_remod  year_gara_blt  target  \n",
       "0        Ex          2        2003        2003           2003  386250  "
      ]
     },
     "execution_count": 53,
     "metadata": {},
     "output_type": "execute_result"
    }
   ],
   "source": [
    "df.head(1)"
   ]
  },
  {
   "cell_type": "markdown",
   "id": "8c5bcbcb-7e92-4047-b66e-8bde4d1ceef0",
   "metadata": {},
   "source": [
    "### ToDo: there is no null data / object: Exter Qual, Kitchen Qual, Bsmt Qual"
   ]
  },
  {
   "cell_type": "markdown",
   "id": "ed294119-66ff-4118-b015-f5763a264603",
   "metadata": {},
   "source": [
    "# EDA"
   ]
  },
  {
   "cell_type": "markdown",
   "id": "91675c34-7fdd-472c-a44a-aa7dae8b4048",
   "metadata": {},
   "source": [
    "## unique"
   ]
  },
  {
   "cell_type": "code",
   "execution_count": 54,
   "id": "f82d1c14-5c1c-4624-ba10-079b67f4da87",
   "metadata": {},
   "outputs": [
    {
     "data": {
      "text/plain": [
       "id               1350\n",
       "all_qual            9\n",
       "gr_sf             813\n",
       "ex_qual             4\n",
       "gara_cars           5\n",
       "gara_sf           454\n",
       "kit_qual            4\n",
       "bsmt_sf           709\n",
       "1st_sf            736\n",
       "bsmt_qual           5\n",
       "full_bath           5\n",
       "year_built        105\n",
       "year_remod         61\n",
       "year_gara_blt      97\n",
       "target            619\n",
       "dtype: int64"
      ]
     },
     "execution_count": 54,
     "metadata": {},
     "output_type": "execute_result"
    }
   ],
   "source": [
    "df.nunique()"
   ]
  },
  {
   "cell_type": "code",
   "execution_count": 55,
   "id": "9d7b1c6e-5664-4bbf-ba2e-c9ccfa8ee230",
   "metadata": {},
   "outputs": [],
   "source": [
    "# unique columns drop\n",
    "df=df.drop('id', axis=1)"
   ]
  },
  {
   "cell_type": "code",
   "execution_count": 68,
   "id": "418af257-8350-407a-a961-399017143cb6",
   "metadata": {},
   "outputs": [
    {
     "data": {
      "text/plain": [
       "gr_sf         813\n",
       "gara_sf       454\n",
       "bsmt_sf       709\n",
       "1st_sf        736\n",
       "year_built    105\n",
       "target        619\n",
       "dtype: int64"
      ]
     },
     "execution_count": 68,
     "metadata": {},
     "output_type": "execute_result"
    }
   ],
   "source": [
    "df.nunique()[df.nunique()>=100]"
   ]
  },
  {
   "cell_type": "code",
   "execution_count": 67,
   "id": "41ca0f02-edac-4221-890b-3f3bc28e0b50",
   "metadata": {},
   "outputs": [
    {
     "data": {
      "text/plain": [
       "all_qual         False\n",
       "gr_sf             True\n",
       "ex_qual          False\n",
       "gara_cars        False\n",
       "gara_sf           True\n",
       "kit_qual         False\n",
       "bsmt_sf           True\n",
       "1st_sf            True\n",
       "bsmt_qual        False\n",
       "full_bath        False\n",
       "year_built        True\n",
       "year_remod       False\n",
       "year_gara_blt    False\n",
       "target            True\n",
       "dtype: bool"
      ]
     },
     "execution_count": 67,
     "metadata": {},
     "output_type": "execute_result"
    }
   ],
   "source": [
    "df.nunique()>100"
   ]
  },
  {
   "cell_type": "code",
   "execution_count": null,
   "id": "9a9cb3ad-1d49-4522-82ec-bbabb4a5fe23",
   "metadata": {},
   "outputs": [],
   "source": [
    "# 강사님\n",
    "# 기본-----------------\n",
    "# s=train.nunique()\n",
    "# df=pd.DataFrame()\n",
    "# dic={\"컬럼\":s.index, \"카운트\":s.values} #, \"비율\":[]\n",
    "# df=pd.DataFrame(dic)\n",
    "# df['비율%']=(df[\"카운트\"]/891)*100\n",
    "# df\n",
    "\n",
    "# 발전-------------------\n",
    "# ------------------총 개수 하드코딩 안 하려면\n",
    "# len(train) 또는\n",
    "# train.shape[0] # train.shape로 나온 게 튜플이라서 [0]\n",
    "\n",
    "# ------------------s.values 하면 array로 줌 -> array는 일괄 계산 가능하므로(단, round 할 때는 np.round 써야됨.)\n",
    "# rate=np.round(s.values/len(train)*100,1)\n",
    "\n",
    "def my_dfcheck(par='null'):\n",
    "    if par=='unique':\n",
    "        s=train.nunique()\n",
    "    else:\n",
    "        s=train.isna().sum()\n",
    "    # df=pd.DataFrame()\n",
    "    rate=np.round(s.values/len(train)*100,1)\n",
    "    dic={\"컬럼\":s.index, \"카운트\":s.values, \"비율\":rate}\n",
    "    df=pd.DataFrame(dic).sort_values('카운트', ascending=False)\n",
    "    return df # 너무 길어서 보기 어려우면 .T\n",
    "\n",
    "my_dfcheck()"
   ]
  }
 ],
 "metadata": {
  "kernelspec": {
   "display_name": "Python 3 (ipykernel)",
   "language": "python",
   "name": "python3"
  },
  "language_info": {
   "codemirror_mode": {
    "name": "ipython",
    "version": 3
   },
   "file_extension": ".py",
   "mimetype": "text/x-python",
   "name": "python",
   "nbconvert_exporter": "python",
   "pygments_lexer": "ipython3",
   "version": "3.8.8"
  },
  "toc-autonumbering": true
 },
 "nbformat": 4,
 "nbformat_minor": 5
}
