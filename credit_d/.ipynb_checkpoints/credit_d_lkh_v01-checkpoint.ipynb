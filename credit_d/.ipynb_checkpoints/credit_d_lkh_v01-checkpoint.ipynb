{
 "cells": [
  {
   "cell_type": "markdown",
   "id": "21cfab39-1a5e-40e9-a820-058e98c08531",
   "metadata": {},
   "source": [
    "<font size=5>신용카드 연체 예측 AI</font>"
   ]
  },
  {
   "cell_type": "code",
   "execution_count": 234,
   "id": "7d6053c8-8086-4938-805f-999524765c96",
   "metadata": {},
   "outputs": [],
   "source": [
    "import pandas as pd\n",
    "import numpy as np\n",
    "import matplotlib.pyplot as plt\n",
    "\n",
    "from sklearn.preprocessing import LabelEncoder, OneHotEncoder\n",
    "from sklearn.model_selection import train_test_split\n",
    "from sklearn.ensemble import RandomForestClassifier\n",
    "from sklearn.linear_model import LogisticRegression\n",
    "from sklearn.neighbors import KNeighborsClassifier\n",
    "from sklearn.tree import DecisionTreeClassifier\n",
    "from sklearn.svm import LinearSVC\n",
    "from sklearn.metrics import accuracy_score\n",
    "\n",
    "import warnings\n",
    "warnings.filterwarnings(action='ignore')\n"
   ]
  },
  {
   "cell_type": "markdown",
   "id": "62f88f77-8bc3-493c-ae87-866b67e2e3c4",
   "metadata": {},
   "source": [
    "# Data Load"
   ]
  },
  {
   "cell_type": "code",
   "execution_count": 235,
   "id": "e7c10811-0b0c-4a13-9043-8b27acde195a",
   "metadata": {},
   "outputs": [],
   "source": [
    "train = pd.read_csv(\"./dataset/train.csv\")"
   ]
  },
  {
   "cell_type": "code",
   "execution_count": 236,
   "id": "499e551f-5d03-4701-b712-8afa1f9c36ea",
   "metadata": {},
   "outputs": [
    {
     "name": "stdout",
     "output_type": "stream",
     "text": [
      "(26457, 20)\n",
      "<class 'pandas.core.frame.DataFrame'>\n",
      "RangeIndex: 26457 entries, 0 to 26456\n",
      "Data columns (total 20 columns):\n",
      " #   Column         Non-Null Count  Dtype  \n",
      "---  ------         --------------  -----  \n",
      " 0   index          26457 non-null  int64  \n",
      " 1   gender         26457 non-null  object \n",
      " 2   DAYS_BIRTH     26457 non-null  int64  \n",
      " 3   car            26457 non-null  object \n",
      " 4   reality        26457 non-null  object \n",
      " 5   occyp_type     18286 non-null  object \n",
      " 6   family_size    26457 non-null  int64  \n",
      " 7   child_num      26457 non-null  int64  \n",
      " 8   income_total   26457 non-null  float64\n",
      " 9   income_type    26457 non-null  object \n",
      " 10  edu_type       26457 non-null  object \n",
      " 11  family_type    26457 non-null  object \n",
      " 12  house_type     26457 non-null  object \n",
      " 13  DAYS_EMPLOYED  26457 non-null  int64  \n",
      " 14  FLAG_MOBIL     26457 non-null  int64  \n",
      " 15  work_phone     26457 non-null  int64  \n",
      " 16  phone          26457 non-null  int64  \n",
      " 17  email          26457 non-null  int64  \n",
      " 18  begin_month    26457 non-null  int64  \n",
      " 19  credit         26457 non-null  int64  \n",
      "dtypes: float64(1), int64(11), object(8)\n",
      "memory usage: 4.0+ MB\n",
      "None\n"
     ]
    },
    {
     "data": {
      "text/html": [
       "<div>\n",
       "<style scoped>\n",
       "    .dataframe tbody tr th:only-of-type {\n",
       "        vertical-align: middle;\n",
       "    }\n",
       "\n",
       "    .dataframe tbody tr th {\n",
       "        vertical-align: top;\n",
       "    }\n",
       "\n",
       "    .dataframe thead th {\n",
       "        text-align: right;\n",
       "    }\n",
       "</style>\n",
       "<table border=\"1\" class=\"dataframe\">\n",
       "  <thead>\n",
       "    <tr style=\"text-align: right;\">\n",
       "      <th></th>\n",
       "      <th>index</th>\n",
       "      <th>gender</th>\n",
       "      <th>DAYS_BIRTH</th>\n",
       "      <th>car</th>\n",
       "      <th>reality</th>\n",
       "      <th>occyp_type</th>\n",
       "      <th>family_size</th>\n",
       "      <th>child_num</th>\n",
       "      <th>income_total</th>\n",
       "      <th>income_type</th>\n",
       "      <th>edu_type</th>\n",
       "      <th>family_type</th>\n",
       "      <th>house_type</th>\n",
       "      <th>DAYS_EMPLOYED</th>\n",
       "      <th>FLAG_MOBIL</th>\n",
       "      <th>work_phone</th>\n",
       "      <th>phone</th>\n",
       "      <th>email</th>\n",
       "      <th>begin_month</th>\n",
       "      <th>credit</th>\n",
       "    </tr>\n",
       "  </thead>\n",
       "  <tbody>\n",
       "    <tr>\n",
       "      <th>0</th>\n",
       "      <td>0</td>\n",
       "      <td>F</td>\n",
       "      <td>-13899</td>\n",
       "      <td>N</td>\n",
       "      <td>N</td>\n",
       "      <td>NaN</td>\n",
       "      <td>2</td>\n",
       "      <td>0</td>\n",
       "      <td>202500.0</td>\n",
       "      <td>Commercial associate</td>\n",
       "      <td>Higher education</td>\n",
       "      <td>Married</td>\n",
       "      <td>Municipal apartment</td>\n",
       "      <td>-4709</td>\n",
       "      <td>1</td>\n",
       "      <td>0</td>\n",
       "      <td>0</td>\n",
       "      <td>0</td>\n",
       "      <td>-6</td>\n",
       "      <td>1</td>\n",
       "    </tr>\n",
       "    <tr>\n",
       "      <th>1</th>\n",
       "      <td>1</td>\n",
       "      <td>F</td>\n",
       "      <td>-11380</td>\n",
       "      <td>N</td>\n",
       "      <td>Y</td>\n",
       "      <td>Laborers</td>\n",
       "      <td>3</td>\n",
       "      <td>1</td>\n",
       "      <td>247500.0</td>\n",
       "      <td>Commercial associate</td>\n",
       "      <td>Secondary / secondary special</td>\n",
       "      <td>Civil marriage</td>\n",
       "      <td>House / apartment</td>\n",
       "      <td>-1540</td>\n",
       "      <td>1</td>\n",
       "      <td>0</td>\n",
       "      <td>0</td>\n",
       "      <td>1</td>\n",
       "      <td>-5</td>\n",
       "      <td>1</td>\n",
       "    </tr>\n",
       "    <tr>\n",
       "      <th>2</th>\n",
       "      <td>2</td>\n",
       "      <td>M</td>\n",
       "      <td>-19087</td>\n",
       "      <td>Y</td>\n",
       "      <td>Y</td>\n",
       "      <td>Managers</td>\n",
       "      <td>2</td>\n",
       "      <td>0</td>\n",
       "      <td>450000.0</td>\n",
       "      <td>Working</td>\n",
       "      <td>Higher education</td>\n",
       "      <td>Married</td>\n",
       "      <td>House / apartment</td>\n",
       "      <td>-4434</td>\n",
       "      <td>1</td>\n",
       "      <td>0</td>\n",
       "      <td>1</td>\n",
       "      <td>0</td>\n",
       "      <td>-22</td>\n",
       "      <td>2</td>\n",
       "    </tr>\n",
       "    <tr>\n",
       "      <th>3</th>\n",
       "      <td>3</td>\n",
       "      <td>F</td>\n",
       "      <td>-15088</td>\n",
       "      <td>N</td>\n",
       "      <td>Y</td>\n",
       "      <td>Sales staff</td>\n",
       "      <td>2</td>\n",
       "      <td>0</td>\n",
       "      <td>202500.0</td>\n",
       "      <td>Commercial associate</td>\n",
       "      <td>Secondary / secondary special</td>\n",
       "      <td>Married</td>\n",
       "      <td>House / apartment</td>\n",
       "      <td>-2092</td>\n",
       "      <td>1</td>\n",
       "      <td>0</td>\n",
       "      <td>1</td>\n",
       "      <td>0</td>\n",
       "      <td>-37</td>\n",
       "      <td>0</td>\n",
       "    </tr>\n",
       "    <tr>\n",
       "      <th>4</th>\n",
       "      <td>4</td>\n",
       "      <td>F</td>\n",
       "      <td>-15037</td>\n",
       "      <td>Y</td>\n",
       "      <td>Y</td>\n",
       "      <td>Managers</td>\n",
       "      <td>2</td>\n",
       "      <td>0</td>\n",
       "      <td>157500.0</td>\n",
       "      <td>State servant</td>\n",
       "      <td>Higher education</td>\n",
       "      <td>Married</td>\n",
       "      <td>House / apartment</td>\n",
       "      <td>-2105</td>\n",
       "      <td>1</td>\n",
       "      <td>0</td>\n",
       "      <td>0</td>\n",
       "      <td>0</td>\n",
       "      <td>-26</td>\n",
       "      <td>2</td>\n",
       "    </tr>\n",
       "  </tbody>\n",
       "</table>\n",
       "</div>"
      ],
      "text/plain": [
       "   index gender  DAYS_BIRTH car reality   occyp_type  family_size  child_num  \\\n",
       "0      0      F      -13899   N       N          NaN            2          0   \n",
       "1      1      F      -11380   N       Y     Laborers            3          1   \n",
       "2      2      M      -19087   Y       Y     Managers            2          0   \n",
       "3      3      F      -15088   N       Y  Sales staff            2          0   \n",
       "4      4      F      -15037   Y       Y     Managers            2          0   \n",
       "\n",
       "   income_total           income_type                       edu_type  \\\n",
       "0      202500.0  Commercial associate               Higher education   \n",
       "1      247500.0  Commercial associate  Secondary / secondary special   \n",
       "2      450000.0               Working               Higher education   \n",
       "3      202500.0  Commercial associate  Secondary / secondary special   \n",
       "4      157500.0         State servant               Higher education   \n",
       "\n",
       "      family_type           house_type  DAYS_EMPLOYED  FLAG_MOBIL  work_phone  \\\n",
       "0         Married  Municipal apartment          -4709           1           0   \n",
       "1  Civil marriage    House / apartment          -1540           1           0   \n",
       "2         Married    House / apartment          -4434           1           0   \n",
       "3         Married    House / apartment          -2092           1           0   \n",
       "4         Married    House / apartment          -2105           1           0   \n",
       "\n",
       "   phone  email  begin_month  credit  \n",
       "0      0      0           -6       1  \n",
       "1      0      1           -5       1  \n",
       "2      1      0          -22       2  \n",
       "3      1      0          -37       0  \n",
       "4      0      0          -26       2  "
      ]
     },
     "execution_count": 236,
     "metadata": {},
     "output_type": "execute_result"
    }
   ],
   "source": [
    "print(train.shape)\n",
    "print(train.info())\n",
    "train.head()"
   ]
  },
  {
   "cell_type": "markdown",
   "id": "02cd77e3-51e5-4edd-b82b-373d2d9071f5",
   "metadata": {
    "tags": []
   },
   "source": [
    "## Survived : Traget Feature"
   ]
  },
  {
   "cell_type": "code",
   "execution_count": 237,
   "id": "c3451603-3a67-47d1-83eb-66bfb798833f",
   "metadata": {},
   "outputs": [
    {
     "data": {
      "text/plain": [
       "<AxesSubplot:>"
      ]
     },
     "execution_count": 237,
     "metadata": {},
     "output_type": "execute_result"
    },
    {
     "data": {
      "image/png": "[encoded data removed]",
      "text/plain": [
       "<Figure size 432x288 with 1 Axes>"
      ]
     },
     "metadata": {
      "needs_background": "light"
     },
     "output_type": "display_data"
    }
   ],
   "source": [
    "train[\"credit\"].value_counts() \n",
    "(train[\"credit\"].value_counts() / train.shape[0]) * 100\n",
    "((train[\"credit\"].value_counts() / train.shape[0]) * 100).plot(kind='bar')"
   ]
  },
  {
   "cell_type": "code",
   "execution_count": 238,
   "id": "e63d1afa-0834-4b37-91a4-cffced34e63a",
   "metadata": {},
   "outputs": [],
   "source": [
    "def my_dfcheck(prm='null'):  #파라미터 : 'null' 또는 'unique'\n",
    "    if prm == 'unique':\n",
    "        s = train.nunique()\n",
    "    else:\n",
    "        s = train.isna().sum()\n",
    "    rate = np.round( (s.values  / len(train)) *100,  1)\n",
    "    dic = {\"컬럼\":s.index , \"카운트\":s.values, \"비율\":rate}\n",
    "    df = pd.DataFrame(dic).sort_values('카운트', ascending=False)\n",
    "    return df.T"
   ]
  },
  {
   "cell_type": "code",
   "execution_count": 239,
   "id": "1709e00b-8f89-4e4a-b68b-ea3737d6b51c",
   "metadata": {},
   "outputs": [
    {
     "data": {
      "text/html": [
       "<div>\n",
       "<style scoped>\n",
       "    .dataframe tbody tr th:only-of-type {\n",
       "        vertical-align: middle;\n",
       "    }\n",
       "\n",
       "    .dataframe tbody tr th {\n",
       "        vertical-align: top;\n",
       "    }\n",
       "\n",
       "    .dataframe thead th {\n",
       "        text-align: right;\n",
       "    }\n",
       "</style>\n",
       "<table border=\"1\" class=\"dataframe\">\n",
       "  <thead>\n",
       "    <tr style=\"text-align: right;\">\n",
       "      <th></th>\n",
       "      <th>5</th>\n",
       "      <th>0</th>\n",
       "      <th>11</th>\n",
       "      <th>18</th>\n",
       "      <th>17</th>\n",
       "      <th>16</th>\n",
       "      <th>15</th>\n",
       "      <th>14</th>\n",
       "      <th>13</th>\n",
       "      <th>12</th>\n",
       "      <th>10</th>\n",
       "      <th>1</th>\n",
       "      <th>9</th>\n",
       "      <th>8</th>\n",
       "      <th>7</th>\n",
       "      <th>6</th>\n",
       "      <th>4</th>\n",
       "      <th>3</th>\n",
       "      <th>2</th>\n",
       "      <th>19</th>\n",
       "    </tr>\n",
       "  </thead>\n",
       "  <tbody>\n",
       "    <tr>\n",
       "      <th>컬럼</th>\n",
       "      <td>occyp_type</td>\n",
       "      <td>index</td>\n",
       "      <td>family_type</td>\n",
       "      <td>begin_month</td>\n",
       "      <td>email</td>\n",
       "      <td>phone</td>\n",
       "      <td>work_phone</td>\n",
       "      <td>FLAG_MOBIL</td>\n",
       "      <td>DAYS_EMPLOYED</td>\n",
       "      <td>house_type</td>\n",
       "      <td>edu_type</td>\n",
       "      <td>gender</td>\n",
       "      <td>income_type</td>\n",
       "      <td>income_total</td>\n",
       "      <td>child_num</td>\n",
       "      <td>family_size</td>\n",
       "      <td>reality</td>\n",
       "      <td>car</td>\n",
       "      <td>DAYS_BIRTH</td>\n",
       "      <td>credit</td>\n",
       "    </tr>\n",
       "    <tr>\n",
       "      <th>카운트</th>\n",
       "      <td>8171</td>\n",
       "      <td>0</td>\n",
       "      <td>0</td>\n",
       "      <td>0</td>\n",
       "      <td>0</td>\n",
       "      <td>0</td>\n",
       "      <td>0</td>\n",
       "      <td>0</td>\n",
       "      <td>0</td>\n",
       "      <td>0</td>\n",
       "      <td>0</td>\n",
       "      <td>0</td>\n",
       "      <td>0</td>\n",
       "      <td>0</td>\n",
       "      <td>0</td>\n",
       "      <td>0</td>\n",
       "      <td>0</td>\n",
       "      <td>0</td>\n",
       "      <td>0</td>\n",
       "      <td>0</td>\n",
       "    </tr>\n",
       "    <tr>\n",
       "      <th>비율</th>\n",
       "      <td>30.9</td>\n",
       "      <td>0.0</td>\n",
       "      <td>0.0</td>\n",
       "      <td>0.0</td>\n",
       "      <td>0.0</td>\n",
       "      <td>0.0</td>\n",
       "      <td>0.0</td>\n",
       "      <td>0.0</td>\n",
       "      <td>0.0</td>\n",
       "      <td>0.0</td>\n",
       "      <td>0.0</td>\n",
       "      <td>0.0</td>\n",
       "      <td>0.0</td>\n",
       "      <td>0.0</td>\n",
       "      <td>0.0</td>\n",
       "      <td>0.0</td>\n",
       "      <td>0.0</td>\n",
       "      <td>0.0</td>\n",
       "      <td>0.0</td>\n",
       "      <td>0.0</td>\n",
       "    </tr>\n",
       "  </tbody>\n",
       "</table>\n",
       "</div>"
      ],
      "text/plain": [
       "             5      0            11           18     17     16          15  \\\n",
       "컬럼   occyp_type  index  family_type  begin_month  email  phone  work_phone   \n",
       "카운트        8171      0            0            0      0      0           0   \n",
       "비율         30.9    0.0          0.0          0.0    0.0    0.0         0.0   \n",
       "\n",
       "             14             13          12        10      1            9   \\\n",
       "컬럼   FLAG_MOBIL  DAYS_EMPLOYED  house_type  edu_type  gender  income_type   \n",
       "카운트           0              0           0         0       0            0   \n",
       "비율          0.0            0.0         0.0       0.0     0.0          0.0   \n",
       "\n",
       "               8          7            6        4    3           2       19  \n",
       "컬럼   income_total  child_num  family_size  reality  car  DAYS_BIRTH  credit  \n",
       "카운트             0          0            0        0    0           0       0  \n",
       "비율            0.0        0.0          0.0      0.0  0.0         0.0     0.0  "
      ]
     },
     "execution_count": 239,
     "metadata": {},
     "output_type": "execute_result"
    }
   ],
   "source": [
    "my_dfcheck ('null') "
   ]
  },
  {
   "cell_type": "markdown",
   "id": "d3eb4a9b-8dd9-4d3e-9706-5fa3dc992cbd",
   "metadata": {},
   "source": [
    "# EDA"
   ]
  },
  {
   "cell_type": "markdown",
   "id": "2348c845-2aef-45d1-b522-b73f4b4bdcb9",
   "metadata": {
    "tags": []
   },
   "source": [
    "## 결측\n",
    "* 16  occyp_type     18286 non-null  object "
   ]
  },
  {
   "cell_type": "code",
   "execution_count": 240,
   "id": "b8d245a9-0d0a-42cf-9d01-bc172ef4500c",
   "metadata": {},
   "outputs": [
    {
     "data": {
      "text/html": [
       "<div>\n",
       "<style scoped>\n",
       "    .dataframe tbody tr th:only-of-type {\n",
       "        vertical-align: middle;\n",
       "    }\n",
       "\n",
       "    .dataframe tbody tr th {\n",
       "        vertical-align: top;\n",
       "    }\n",
       "\n",
       "    .dataframe thead th {\n",
       "        text-align: right;\n",
       "    }\n",
       "</style>\n",
       "<table border=\"1\" class=\"dataframe\">\n",
       "  <thead>\n",
       "    <tr style=\"text-align: right;\">\n",
       "      <th></th>\n",
       "      <th>0</th>\n",
       "      <th>2</th>\n",
       "      <th>13</th>\n",
       "      <th>8</th>\n",
       "      <th>18</th>\n",
       "      <th>5</th>\n",
       "      <th>6</th>\n",
       "      <th>7</th>\n",
       "      <th>12</th>\n",
       "      <th>11</th>\n",
       "      <th>10</th>\n",
       "      <th>9</th>\n",
       "      <th>19</th>\n",
       "      <th>1</th>\n",
       "      <th>4</th>\n",
       "      <th>15</th>\n",
       "      <th>16</th>\n",
       "      <th>17</th>\n",
       "      <th>3</th>\n",
       "      <th>14</th>\n",
       "    </tr>\n",
       "  </thead>\n",
       "  <tbody>\n",
       "    <tr>\n",
       "      <th>컬럼</th>\n",
       "      <td>index</td>\n",
       "      <td>DAYS_BIRTH</td>\n",
       "      <td>DAYS_EMPLOYED</td>\n",
       "      <td>income_total</td>\n",
       "      <td>begin_month</td>\n",
       "      <td>occyp_type</td>\n",
       "      <td>family_size</td>\n",
       "      <td>child_num</td>\n",
       "      <td>house_type</td>\n",
       "      <td>family_type</td>\n",
       "      <td>edu_type</td>\n",
       "      <td>income_type</td>\n",
       "      <td>credit</td>\n",
       "      <td>gender</td>\n",
       "      <td>reality</td>\n",
       "      <td>work_phone</td>\n",
       "      <td>phone</td>\n",
       "      <td>email</td>\n",
       "      <td>car</td>\n",
       "      <td>FLAG_MOBIL</td>\n",
       "    </tr>\n",
       "    <tr>\n",
       "      <th>카운트</th>\n",
       "      <td>26457</td>\n",
       "      <td>6621</td>\n",
       "      <td>3470</td>\n",
       "      <td>249</td>\n",
       "      <td>61</td>\n",
       "      <td>18</td>\n",
       "      <td>10</td>\n",
       "      <td>9</td>\n",
       "      <td>6</td>\n",
       "      <td>5</td>\n",
       "      <td>5</td>\n",
       "      <td>5</td>\n",
       "      <td>3</td>\n",
       "      <td>2</td>\n",
       "      <td>2</td>\n",
       "      <td>2</td>\n",
       "      <td>2</td>\n",
       "      <td>2</td>\n",
       "      <td>2</td>\n",
       "      <td>1</td>\n",
       "    </tr>\n",
       "    <tr>\n",
       "      <th>비율</th>\n",
       "      <td>100.0</td>\n",
       "      <td>25.0</td>\n",
       "      <td>13.1</td>\n",
       "      <td>0.9</td>\n",
       "      <td>0.2</td>\n",
       "      <td>0.1</td>\n",
       "      <td>0.0</td>\n",
       "      <td>0.0</td>\n",
       "      <td>0.0</td>\n",
       "      <td>0.0</td>\n",
       "      <td>0.0</td>\n",
       "      <td>0.0</td>\n",
       "      <td>0.0</td>\n",
       "      <td>0.0</td>\n",
       "      <td>0.0</td>\n",
       "      <td>0.0</td>\n",
       "      <td>0.0</td>\n",
       "      <td>0.0</td>\n",
       "      <td>0.0</td>\n",
       "      <td>0.0</td>\n",
       "    </tr>\n",
       "  </tbody>\n",
       "</table>\n",
       "</div>"
      ],
      "text/plain": [
       "        0           2              13            8            18          5   \\\n",
       "컬럼   index  DAYS_BIRTH  DAYS_EMPLOYED  income_total  begin_month  occyp_type   \n",
       "카운트  26457        6621           3470           249           61          18   \n",
       "비율   100.0        25.0           13.1           0.9          0.2         0.1   \n",
       "\n",
       "              6          7           12           11        10           9   \\\n",
       "컬럼   family_size  child_num  house_type  family_type  edu_type  income_type   \n",
       "카운트           10          9           6            5         5            5   \n",
       "비율           0.0        0.0         0.0          0.0       0.0          0.0   \n",
       "\n",
       "         19      1        4           15     16     17   3           14  \n",
       "컬럼   credit  gender  reality  work_phone  phone  email  car  FLAG_MOBIL  \n",
       "카운트       3       2        2           2      2      2    2           1  \n",
       "비율      0.0     0.0      0.0         0.0    0.0    0.0  0.0         0.0  "
      ]
     },
     "execution_count": 240,
     "metadata": {},
     "output_type": "execute_result"
    }
   ],
   "source": [
    "my_dfcheck('unique')"
   ]
  },
  {
   "cell_type": "markdown",
   "id": "00238188-0c32-4c06-bc1b-1e5c87355c6a",
   "metadata": {},
   "source": [
    "## 유일값\n",
    "* 0   index          26457 non-null  int64 "
   ]
  },
  {
   "cell_type": "code",
   "execution_count": 241,
   "id": "9be7d744-4d4b-429a-8d09-25a9ec374375",
   "metadata": {},
   "outputs": [],
   "source": [
    "train.drop([\"index\"], axis=1, inplace=True)"
   ]
  },
  {
   "cell_type": "markdown",
   "id": "038130be-882e-4ccf-a27e-90bafd1c7ba0",
   "metadata": {},
   "source": [
    "## Object 타입\n",
    "* binary : ['gender', 'car', 'reality'] \n",
    "* multi  : ['income_type', 'edu_type', 'family_type', 'house_type', 'occyp_type']"
   ]
  },
  {
   "cell_type": "code",
   "execution_count": 242,
   "id": "a8cbf3a4-1407-4c7e-a6df-9dadf00662f5",
   "metadata": {},
   "outputs": [
    {
     "name": "stdout",
     "output_type": "stream",
     "text": [
      "['gender', 'car', 'reality', 'occyp_type', 'income_type', 'edu_type', 'family_type', 'house_type']\n"
     ]
    },
    {
     "data": {
      "text/html": [
       "<div>\n",
       "<style scoped>\n",
       "    .dataframe tbody tr th:only-of-type {\n",
       "        vertical-align: middle;\n",
       "    }\n",
       "\n",
       "    .dataframe tbody tr th {\n",
       "        vertical-align: top;\n",
       "    }\n",
       "\n",
       "    .dataframe thead th {\n",
       "        text-align: right;\n",
       "    }\n",
       "</style>\n",
       "<table border=\"1\" class=\"dataframe\">\n",
       "  <thead>\n",
       "    <tr style=\"text-align: right;\">\n",
       "      <th></th>\n",
       "      <th>gender</th>\n",
       "      <th>car</th>\n",
       "      <th>reality</th>\n",
       "      <th>occyp_type</th>\n",
       "      <th>income_type</th>\n",
       "      <th>edu_type</th>\n",
       "      <th>family_type</th>\n",
       "      <th>house_type</th>\n",
       "    </tr>\n",
       "  </thead>\n",
       "  <tbody>\n",
       "    <tr>\n",
       "      <th>0</th>\n",
       "      <td>F</td>\n",
       "      <td>N</td>\n",
       "      <td>N</td>\n",
       "      <td>NaN</td>\n",
       "      <td>Commercial associate</td>\n",
       "      <td>Higher education</td>\n",
       "      <td>Married</td>\n",
       "      <td>Municipal apartment</td>\n",
       "    </tr>\n",
       "    <tr>\n",
       "      <th>1</th>\n",
       "      <td>F</td>\n",
       "      <td>N</td>\n",
       "      <td>Y</td>\n",
       "      <td>Laborers</td>\n",
       "      <td>Commercial associate</td>\n",
       "      <td>Secondary / secondary special</td>\n",
       "      <td>Civil marriage</td>\n",
       "      <td>House / apartment</td>\n",
       "    </tr>\n",
       "    <tr>\n",
       "      <th>2</th>\n",
       "      <td>M</td>\n",
       "      <td>Y</td>\n",
       "      <td>Y</td>\n",
       "      <td>Managers</td>\n",
       "      <td>Working</td>\n",
       "      <td>Higher education</td>\n",
       "      <td>Married</td>\n",
       "      <td>House / apartment</td>\n",
       "    </tr>\n",
       "    <tr>\n",
       "      <th>3</th>\n",
       "      <td>F</td>\n",
       "      <td>N</td>\n",
       "      <td>Y</td>\n",
       "      <td>Sales staff</td>\n",
       "      <td>Commercial associate</td>\n",
       "      <td>Secondary / secondary special</td>\n",
       "      <td>Married</td>\n",
       "      <td>House / apartment</td>\n",
       "    </tr>\n",
       "    <tr>\n",
       "      <th>4</th>\n",
       "      <td>F</td>\n",
       "      <td>Y</td>\n",
       "      <td>Y</td>\n",
       "      <td>Managers</td>\n",
       "      <td>State servant</td>\n",
       "      <td>Higher education</td>\n",
       "      <td>Married</td>\n",
       "      <td>House / apartment</td>\n",
       "    </tr>\n",
       "  </tbody>\n",
       "</table>\n",
       "</div>"
      ],
      "text/plain": [
       "  gender car reality   occyp_type           income_type  \\\n",
       "0      F   N       N          NaN  Commercial associate   \n",
       "1      F   N       Y     Laborers  Commercial associate   \n",
       "2      M   Y       Y     Managers               Working   \n",
       "3      F   N       Y  Sales staff  Commercial associate   \n",
       "4      F   Y       Y     Managers         State servant   \n",
       "\n",
       "                        edu_type     family_type           house_type  \n",
       "0               Higher education         Married  Municipal apartment  \n",
       "1  Secondary / secondary special  Civil marriage    House / apartment  \n",
       "2               Higher education         Married    House / apartment  \n",
       "3  Secondary / secondary special         Married    House / apartment  \n",
       "4               Higher education         Married    House / apartment  "
      ]
     },
     "execution_count": 242,
     "metadata": {},
     "output_type": "execute_result"
    }
   ],
   "source": [
    "obj_col_list = train.select_dtypes(include='object').columns.tolist()\n",
    "print(obj_col_list)\n",
    "train[obj_col_list].head()"
   ]
  },
  {
   "cell_type": "markdown",
   "id": "a6538b04-9e59-4050-8c57-aa8807f5287a",
   "metadata": {},
   "source": [
    "## Numeric 타입\n",
    "* unique : ['index'] \n",
    "* target : ['credit'] \n",
    "* 범주형  : ['FLAG_MOBIL', 'work_phone', 'phone', 'email']\n",
    "* 연속형  : ['income_total'] ['DAYS_BIRTH', 'DAYS_EMPLOYED','begin_month'] ['child_num','family_size']"
   ]
  },
  {
   "cell_type": "code",
   "execution_count": 243,
   "id": "7881eb8c-b9da-4cec-ac66-c6a6054c310e",
   "metadata": {},
   "outputs": [
    {
     "name": "stdout",
     "output_type": "stream",
     "text": [
      "['DAYS_BIRTH', 'family_size', 'child_num', 'income_total', 'DAYS_EMPLOYED', 'FLAG_MOBIL', 'work_phone', 'phone', 'email', 'begin_month', 'credit']\n"
     ]
    },
    {
     "data": {
      "text/html": [
       "<div>\n",
       "<style scoped>\n",
       "    .dataframe tbody tr th:only-of-type {\n",
       "        vertical-align: middle;\n",
       "    }\n",
       "\n",
       "    .dataframe tbody tr th {\n",
       "        vertical-align: top;\n",
       "    }\n",
       "\n",
       "    .dataframe thead th {\n",
       "        text-align: right;\n",
       "    }\n",
       "</style>\n",
       "<table border=\"1\" class=\"dataframe\">\n",
       "  <thead>\n",
       "    <tr style=\"text-align: right;\">\n",
       "      <th></th>\n",
       "      <th>DAYS_BIRTH</th>\n",
       "      <th>family_size</th>\n",
       "      <th>child_num</th>\n",
       "      <th>income_total</th>\n",
       "      <th>DAYS_EMPLOYED</th>\n",
       "      <th>FLAG_MOBIL</th>\n",
       "      <th>work_phone</th>\n",
       "      <th>phone</th>\n",
       "      <th>email</th>\n",
       "      <th>begin_month</th>\n",
       "      <th>credit</th>\n",
       "    </tr>\n",
       "  </thead>\n",
       "  <tbody>\n",
       "    <tr>\n",
       "      <th>0</th>\n",
       "      <td>-13899</td>\n",
       "      <td>2</td>\n",
       "      <td>0</td>\n",
       "      <td>202500.0</td>\n",
       "      <td>-4709</td>\n",
       "      <td>1</td>\n",
       "      <td>0</td>\n",
       "      <td>0</td>\n",
       "      <td>0</td>\n",
       "      <td>-6</td>\n",
       "      <td>1</td>\n",
       "    </tr>\n",
       "    <tr>\n",
       "      <th>1</th>\n",
       "      <td>-11380</td>\n",
       "      <td>3</td>\n",
       "      <td>1</td>\n",
       "      <td>247500.0</td>\n",
       "      <td>-1540</td>\n",
       "      <td>1</td>\n",
       "      <td>0</td>\n",
       "      <td>0</td>\n",
       "      <td>1</td>\n",
       "      <td>-5</td>\n",
       "      <td>1</td>\n",
       "    </tr>\n",
       "    <tr>\n",
       "      <th>2</th>\n",
       "      <td>-19087</td>\n",
       "      <td>2</td>\n",
       "      <td>0</td>\n",
       "      <td>450000.0</td>\n",
       "      <td>-4434</td>\n",
       "      <td>1</td>\n",
       "      <td>0</td>\n",
       "      <td>1</td>\n",
       "      <td>0</td>\n",
       "      <td>-22</td>\n",
       "      <td>2</td>\n",
       "    </tr>\n",
       "    <tr>\n",
       "      <th>3</th>\n",
       "      <td>-15088</td>\n",
       "      <td>2</td>\n",
       "      <td>0</td>\n",
       "      <td>202500.0</td>\n",
       "      <td>-2092</td>\n",
       "      <td>1</td>\n",
       "      <td>0</td>\n",
       "      <td>1</td>\n",
       "      <td>0</td>\n",
       "      <td>-37</td>\n",
       "      <td>0</td>\n",
       "    </tr>\n",
       "    <tr>\n",
       "      <th>4</th>\n",
       "      <td>-15037</td>\n",
       "      <td>2</td>\n",
       "      <td>0</td>\n",
       "      <td>157500.0</td>\n",
       "      <td>-2105</td>\n",
       "      <td>1</td>\n",
       "      <td>0</td>\n",
       "      <td>0</td>\n",
       "      <td>0</td>\n",
       "      <td>-26</td>\n",
       "      <td>2</td>\n",
       "    </tr>\n",
       "  </tbody>\n",
       "</table>\n",
       "</div>"
      ],
      "text/plain": [
       "   DAYS_BIRTH  family_size  child_num  income_total  DAYS_EMPLOYED  \\\n",
       "0      -13899            2          0      202500.0          -4709   \n",
       "1      -11380            3          1      247500.0          -1540   \n",
       "2      -19087            2          0      450000.0          -4434   \n",
       "3      -15088            2          0      202500.0          -2092   \n",
       "4      -15037            2          0      157500.0          -2105   \n",
       "\n",
       "   FLAG_MOBIL  work_phone  phone  email  begin_month  credit  \n",
       "0           1           0      0      0           -6       1  \n",
       "1           1           0      0      1           -5       1  \n",
       "2           1           0      1      0          -22       2  \n",
       "3           1           0      1      0          -37       0  \n",
       "4           1           0      0      0          -26       2  "
      ]
     },
     "execution_count": 243,
     "metadata": {},
     "output_type": "execute_result"
    }
   ],
   "source": [
    "obj_col_list = train.select_dtypes(exclude='object').columns.tolist()\n",
    "print(obj_col_list)\n",
    "train[obj_col_list].head()"
   ]
  },
  {
   "cell_type": "markdown",
   "id": "e8d84905-ef20-4077-9f75-d575ed3fb8fa",
   "metadata": {
    "tags": []
   },
   "source": [
    "## 아웃라이어 (Outlier) : 이상치\n",
    "* child_num   :  14(3), 19(1)\n",
    "* family_size :  15(3), 20(1)\n",
    "\n",
    "<pre>\n",
    "train = train.drop( ['c1', 'c2'] , axis=1)\n",
    "train = train.drop( [idx1, idx2] , axis=0)"
   ]
  },
  {
   "cell_type": "code",
   "execution_count": 244,
   "id": "520f4015-82c6-4fd1-9c3c-50742c509613",
   "metadata": {},
   "outputs": [
    {
     "data": {
      "text/html": [
       "<div>\n",
       "<style scoped>\n",
       "    .dataframe tbody tr th:only-of-type {\n",
       "        vertical-align: middle;\n",
       "    }\n",
       "\n",
       "    .dataframe tbody tr th {\n",
       "        vertical-align: top;\n",
       "    }\n",
       "\n",
       "    .dataframe thead th {\n",
       "        text-align: right;\n",
       "    }\n",
       "</style>\n",
       "<table border=\"1\" class=\"dataframe\">\n",
       "  <thead>\n",
       "    <tr style=\"text-align: right;\">\n",
       "      <th></th>\n",
       "      <th>DAYS_BIRTH</th>\n",
       "      <th>family_size</th>\n",
       "      <th>child_num</th>\n",
       "      <th>income_total</th>\n",
       "      <th>DAYS_EMPLOYED</th>\n",
       "      <th>FLAG_MOBIL</th>\n",
       "      <th>work_phone</th>\n",
       "      <th>phone</th>\n",
       "      <th>email</th>\n",
       "      <th>begin_month</th>\n",
       "      <th>credit</th>\n",
       "    </tr>\n",
       "  </thead>\n",
       "  <tbody>\n",
       "    <tr>\n",
       "      <th>count</th>\n",
       "      <td>26457.000000</td>\n",
       "      <td>26457.000000</td>\n",
       "      <td>26457.000000</td>\n",
       "      <td>2.645700e+04</td>\n",
       "      <td>26457.000000</td>\n",
       "      <td>26457.0</td>\n",
       "      <td>26457.000000</td>\n",
       "      <td>26457.000000</td>\n",
       "      <td>26457.000000</td>\n",
       "      <td>26457.000000</td>\n",
       "      <td>26457.000000</td>\n",
       "    </tr>\n",
       "    <tr>\n",
       "      <th>mean</th>\n",
       "      <td>-15958.053899</td>\n",
       "      <td>2.196848</td>\n",
       "      <td>0.428658</td>\n",
       "      <td>1.873065e+05</td>\n",
       "      <td>59068.750728</td>\n",
       "      <td>1.0</td>\n",
       "      <td>0.224742</td>\n",
       "      <td>0.294251</td>\n",
       "      <td>0.091280</td>\n",
       "      <td>-26.123294</td>\n",
       "      <td>1.519560</td>\n",
       "    </tr>\n",
       "    <tr>\n",
       "      <th>std</th>\n",
       "      <td>4201.589022</td>\n",
       "      <td>0.916717</td>\n",
       "      <td>0.747326</td>\n",
       "      <td>1.018784e+05</td>\n",
       "      <td>137475.427503</td>\n",
       "      <td>0.0</td>\n",
       "      <td>0.417420</td>\n",
       "      <td>0.455714</td>\n",
       "      <td>0.288013</td>\n",
       "      <td>16.559550</td>\n",
       "      <td>0.702283</td>\n",
       "    </tr>\n",
       "    <tr>\n",
       "      <th>min</th>\n",
       "      <td>-25152.000000</td>\n",
       "      <td>1.000000</td>\n",
       "      <td>0.000000</td>\n",
       "      <td>2.700000e+04</td>\n",
       "      <td>-15713.000000</td>\n",
       "      <td>1.0</td>\n",
       "      <td>0.000000</td>\n",
       "      <td>0.000000</td>\n",
       "      <td>0.000000</td>\n",
       "      <td>-60.000000</td>\n",
       "      <td>0.000000</td>\n",
       "    </tr>\n",
       "    <tr>\n",
       "      <th>25%</th>\n",
       "      <td>-19431.000000</td>\n",
       "      <td>2.000000</td>\n",
       "      <td>0.000000</td>\n",
       "      <td>1.215000e+05</td>\n",
       "      <td>-3153.000000</td>\n",
       "      <td>1.0</td>\n",
       "      <td>0.000000</td>\n",
       "      <td>0.000000</td>\n",
       "      <td>0.000000</td>\n",
       "      <td>-39.000000</td>\n",
       "      <td>1.000000</td>\n",
       "    </tr>\n",
       "    <tr>\n",
       "      <th>50%</th>\n",
       "      <td>-15547.000000</td>\n",
       "      <td>2.000000</td>\n",
       "      <td>0.000000</td>\n",
       "      <td>1.575000e+05</td>\n",
       "      <td>-1539.000000</td>\n",
       "      <td>1.0</td>\n",
       "      <td>0.000000</td>\n",
       "      <td>0.000000</td>\n",
       "      <td>0.000000</td>\n",
       "      <td>-24.000000</td>\n",
       "      <td>2.000000</td>\n",
       "    </tr>\n",
       "    <tr>\n",
       "      <th>75%</th>\n",
       "      <td>-12446.000000</td>\n",
       "      <td>3.000000</td>\n",
       "      <td>1.000000</td>\n",
       "      <td>2.250000e+05</td>\n",
       "      <td>-407.000000</td>\n",
       "      <td>1.0</td>\n",
       "      <td>0.000000</td>\n",
       "      <td>1.000000</td>\n",
       "      <td>0.000000</td>\n",
       "      <td>-12.000000</td>\n",
       "      <td>2.000000</td>\n",
       "    </tr>\n",
       "    <tr>\n",
       "      <th>max</th>\n",
       "      <td>-7705.000000</td>\n",
       "      <td>20.000000</td>\n",
       "      <td>19.000000</td>\n",
       "      <td>1.575000e+06</td>\n",
       "      <td>365243.000000</td>\n",
       "      <td>1.0</td>\n",
       "      <td>1.000000</td>\n",
       "      <td>1.000000</td>\n",
       "      <td>1.000000</td>\n",
       "      <td>0.000000</td>\n",
       "      <td>2.000000</td>\n",
       "    </tr>\n",
       "  </tbody>\n",
       "</table>\n",
       "</div>"
      ],
      "text/plain": [
       "         DAYS_BIRTH   family_size     child_num  income_total  DAYS_EMPLOYED  \\\n",
       "count  26457.000000  26457.000000  26457.000000  2.645700e+04   26457.000000   \n",
       "mean  -15958.053899      2.196848      0.428658  1.873065e+05   59068.750728   \n",
       "std     4201.589022      0.916717      0.747326  1.018784e+05  137475.427503   \n",
       "min   -25152.000000      1.000000      0.000000  2.700000e+04  -15713.000000   \n",
       "25%   -19431.000000      2.000000      0.000000  1.215000e+05   -3153.000000   \n",
       "50%   -15547.000000      2.000000      0.000000  1.575000e+05   -1539.000000   \n",
       "75%   -12446.000000      3.000000      1.000000  2.250000e+05    -407.000000   \n",
       "max    -7705.000000     20.000000     19.000000  1.575000e+06  365243.000000   \n",
       "\n",
       "       FLAG_MOBIL    work_phone         phone         email   begin_month  \\\n",
       "count     26457.0  26457.000000  26457.000000  26457.000000  26457.000000   \n",
       "mean          1.0      0.224742      0.294251      0.091280    -26.123294   \n",
       "std           0.0      0.417420      0.455714      0.288013     16.559550   \n",
       "min           1.0      0.000000      0.000000      0.000000    -60.000000   \n",
       "25%           1.0      0.000000      0.000000      0.000000    -39.000000   \n",
       "50%           1.0      0.000000      0.000000      0.000000    -24.000000   \n",
       "75%           1.0      0.000000      1.000000      0.000000    -12.000000   \n",
       "max           1.0      1.000000      1.000000      1.000000      0.000000   \n",
       "\n",
       "             credit  \n",
       "count  26457.000000  \n",
       "mean       1.519560  \n",
       "std        0.702283  \n",
       "min        0.000000  \n",
       "25%        1.000000  \n",
       "50%        2.000000  \n",
       "75%        2.000000  \n",
       "max        2.000000  "
      ]
     },
     "execution_count": 244,
     "metadata": {},
     "output_type": "execute_result"
    }
   ],
   "source": [
    "train[obj_col_list].describe()"
   ]
  },
  {
   "cell_type": "code",
   "execution_count": 245,
   "id": "e35b90a3-ab36-40c1-bb8d-eaf66d8f2704",
   "metadata": {},
   "outputs": [
    {
     "data": {
      "text/html": [
       "<div>\n",
       "<style scoped>\n",
       "    .dataframe tbody tr th:only-of-type {\n",
       "        vertical-align: middle;\n",
       "    }\n",
       "\n",
       "    .dataframe tbody tr th {\n",
       "        vertical-align: top;\n",
       "    }\n",
       "\n",
       "    .dataframe thead th {\n",
       "        text-align: right;\n",
       "    }\n",
       "</style>\n",
       "<table border=\"1\" class=\"dataframe\">\n",
       "  <thead>\n",
       "    <tr style=\"text-align: right;\">\n",
       "      <th></th>\n",
       "      <th>child_num</th>\n",
       "      <th>family_size</th>\n",
       "    </tr>\n",
       "  </thead>\n",
       "  <tbody>\n",
       "    <tr>\n",
       "      <th>8462</th>\n",
       "      <td>14</td>\n",
       "      <td>15</td>\n",
       "    </tr>\n",
       "    <tr>\n",
       "      <th>9021</th>\n",
       "      <td>14</td>\n",
       "      <td>15</td>\n",
       "    </tr>\n",
       "    <tr>\n",
       "      <th>10731</th>\n",
       "      <td>19</td>\n",
       "      <td>20</td>\n",
       "    </tr>\n",
       "    <tr>\n",
       "      <th>25390</th>\n",
       "      <td>14</td>\n",
       "      <td>15</td>\n",
       "    </tr>\n",
       "  </tbody>\n",
       "</table>\n",
       "</div>"
      ],
      "text/plain": [
       "       child_num  family_size\n",
       "8462          14           15\n",
       "9021          14           15\n",
       "10731         19           20\n",
       "25390         14           15"
      ]
     },
     "execution_count": 245,
     "metadata": {},
     "output_type": "execute_result"
    }
   ],
   "source": [
    "train[train['child_num']>=14][['child_num','family_size']]"
   ]
  },
  {
   "cell_type": "code",
   "execution_count": 246,
   "id": "7d4bc1d1-0aff-4d5f-b5f2-a6912bc448b0",
   "metadata": {},
   "outputs": [
    {
     "data": {
      "text/plain": [
       "Int64Index([8462, 9021, 10731, 25390], dtype='int64')"
      ]
     },
     "execution_count": 246,
     "metadata": {},
     "output_type": "execute_result"
    }
   ],
   "source": [
    "drop_idx = train[train['child_num']>=14][['child_num','family_size']].index\n",
    "drop_idx"
   ]
  },
  {
   "cell_type": "code",
   "execution_count": 247,
   "id": "678b4a42-48fc-44c2-896d-ec0dc2e9d2a7",
   "metadata": {},
   "outputs": [
    {
     "data": {
      "text/plain": [
       "(26457, 19)"
      ]
     },
     "execution_count": 247,
     "metadata": {},
     "output_type": "execute_result"
    }
   ],
   "source": [
    "train.shape"
   ]
  },
  {
   "cell_type": "code",
   "execution_count": 248,
   "id": "7a8a7cae-9768-416f-b7c7-70554d4c620c",
   "metadata": {},
   "outputs": [],
   "source": [
    "# train = train.drop( [8462, 9021, 10731, 25390] , axis=0)\n",
    "train = train.drop( drop_idx , axis=0)"
   ]
  },
  {
   "cell_type": "code",
   "execution_count": 249,
   "id": "e9fe677f-3f96-47f4-8ea0-2997a724c995",
   "metadata": {},
   "outputs": [
    {
     "data": {
      "text/plain": [
       "(26453, 19)"
      ]
     },
     "execution_count": 249,
     "metadata": {},
     "output_type": "execute_result"
    }
   ],
   "source": [
    "train.shape"
   ]
  },
  {
   "cell_type": "markdown",
   "id": "1c1a078c-c20f-4dad-9841-21c61ba3d585",
   "metadata": {},
   "source": [
    "# Feature Engineering"
   ]
  },
  {
   "cell_type": "markdown",
   "id": "e7cad9ff-0376-4954-a1ce-236257c72ea7",
   "metadata": {
    "tags": []
   },
   "source": [
    "## occyp_type(직업유형) 결측처리 \n",
    "* occyp_type이 NaN이다  == 일하는중_YN(0) == DAYS_EMPLOYED가 양수다"
   ]
  },
  {
   "cell_type": "code",
   "execution_count": 250,
   "id": "3899da79-fad6-49bb-b5dd-1ddf069a974a",
   "metadata": {},
   "outputs": [
    {
     "data": {
      "text/plain": [
       "8171"
      ]
     },
     "execution_count": 250,
     "metadata": {},
     "output_type": "execute_result"
    }
   ],
   "source": [
    "train['occyp_type'].isna().sum()"
   ]
  },
  {
   "cell_type": "markdown",
   "id": "d92e66d4-d269-4420-966b-3f72b692834a",
   "metadata": {},
   "source": [
    "* 신규 컬럼 : 일하는중_YN\n",
    "DAYS_EMPLOYED 양수이면 휴직중이다.\n",
    "\n",
    "<pre>\n",
    "현재 재직중이다 == 일하는중_YN = Y(1)\n",
    "현재 집에있다   == 일하는중_YN = N(0)"
   ]
  },
  {
   "cell_type": "code",
   "execution_count": 251,
   "id": "315d3559-5b5e-4f96-9012-085d9a07b2c9",
   "metadata": {},
   "outputs": [],
   "source": [
    "train['일하는중_YN'] = train['DAYS_EMPLOYED'].apply(lambda x : 0 if x > 0 else 1)"
   ]
  },
  {
   "cell_type": "code",
   "execution_count": 252,
   "id": "312a6360-0041-4ad5-bed1-a1359b30aca4",
   "metadata": {},
   "outputs": [
    {
     "data": {
      "text/plain": [
       "1    22015\n",
       "0     4438\n",
       "Name: 일하는중_YN, dtype: int64"
      ]
     },
     "execution_count": 252,
     "metadata": {},
     "output_type": "execute_result"
    }
   ],
   "source": [
    "train['일하는중_YN'].value_counts()"
   ]
  },
  {
   "cell_type": "code",
   "execution_count": 253,
   "id": "a09bd8dc-aa80-4e13-a402-62a2d10d7acd",
   "metadata": {},
   "outputs": [
    {
     "data": {
      "text/html": [
       "<div>\n",
       "<style scoped>\n",
       "    .dataframe tbody tr th:only-of-type {\n",
       "        vertical-align: middle;\n",
       "    }\n",
       "\n",
       "    .dataframe tbody tr th {\n",
       "        vertical-align: top;\n",
       "    }\n",
       "\n",
       "    .dataframe thead th {\n",
       "        text-align: right;\n",
       "    }\n",
       "</style>\n",
       "<table border=\"1\" class=\"dataframe\">\n",
       "  <thead>\n",
       "    <tr style=\"text-align: right;\">\n",
       "      <th>일하는중_YN</th>\n",
       "      <th>1</th>\n",
       "    </tr>\n",
       "    <tr>\n",
       "      <th>occyp_type</th>\n",
       "      <th></th>\n",
       "    </tr>\n",
       "  </thead>\n",
       "  <tbody>\n",
       "    <tr>\n",
       "      <th>Accountants</th>\n",
       "      <td>902</td>\n",
       "    </tr>\n",
       "    <tr>\n",
       "      <th>Cleaning staff</th>\n",
       "      <td>403</td>\n",
       "    </tr>\n",
       "    <tr>\n",
       "      <th>Cooking staff</th>\n",
       "      <td>457</td>\n",
       "    </tr>\n",
       "    <tr>\n",
       "      <th>Core staff</th>\n",
       "      <td>2646</td>\n",
       "    </tr>\n",
       "    <tr>\n",
       "      <th>Drivers</th>\n",
       "      <td>1572</td>\n",
       "    </tr>\n",
       "    <tr>\n",
       "      <th>HR staff</th>\n",
       "      <td>62</td>\n",
       "    </tr>\n",
       "    <tr>\n",
       "      <th>High skill tech staff</th>\n",
       "      <td>1040</td>\n",
       "    </tr>\n",
       "    <tr>\n",
       "      <th>IT staff</th>\n",
       "      <td>41</td>\n",
       "    </tr>\n",
       "    <tr>\n",
       "      <th>Laborers</th>\n",
       "      <td>4512</td>\n",
       "    </tr>\n",
       "    <tr>\n",
       "      <th>Low-skill Laborers</th>\n",
       "      <td>127</td>\n",
       "    </tr>\n",
       "    <tr>\n",
       "      <th>Managers</th>\n",
       "      <td>2167</td>\n",
       "    </tr>\n",
       "    <tr>\n",
       "      <th>Medicine staff</th>\n",
       "      <td>864</td>\n",
       "    </tr>\n",
       "    <tr>\n",
       "      <th>Private service staff</th>\n",
       "      <td>243</td>\n",
       "    </tr>\n",
       "    <tr>\n",
       "      <th>Realty agents</th>\n",
       "      <td>63</td>\n",
       "    </tr>\n",
       "    <tr>\n",
       "      <th>Sales staff</th>\n",
       "      <td>2539</td>\n",
       "    </tr>\n",
       "    <tr>\n",
       "      <th>Secretaries</th>\n",
       "      <td>97</td>\n",
       "    </tr>\n",
       "    <tr>\n",
       "      <th>Security staff</th>\n",
       "      <td>424</td>\n",
       "    </tr>\n",
       "    <tr>\n",
       "      <th>Waiters/barmen staff</th>\n",
       "      <td>123</td>\n",
       "    </tr>\n",
       "  </tbody>\n",
       "</table>\n",
       "</div>"
      ],
      "text/plain": [
       "일하는중_YN                   1\n",
       "occyp_type                 \n",
       "Accountants             902\n",
       "Cleaning staff          403\n",
       "Cooking staff           457\n",
       "Core staff             2646\n",
       "Drivers                1572\n",
       "HR staff                 62\n",
       "High skill tech staff  1040\n",
       "IT staff                 41\n",
       "Laborers               4512\n",
       "Low-skill Laborers      127\n",
       "Managers               2167\n",
       "Medicine staff          864\n",
       "Private service staff   243\n",
       "Realty agents            63\n",
       "Sales staff            2539\n",
       "Secretaries              97\n",
       "Security staff          424\n",
       "Waiters/barmen staff    123"
      ]
     },
     "execution_count": 253,
     "metadata": {},
     "output_type": "execute_result"
    }
   ],
   "source": [
    "pd.crosstab(train['occyp_type'], train['일하는중_YN'] )"
   ]
  },
  {
   "cell_type": "code",
   "execution_count": null,
   "id": "e5b593a9-0eae-435e-a76e-a3c8f3a060fb",
   "metadata": {},
   "outputs": [],
   "source": []
  },
  {
   "cell_type": "markdown",
   "id": "c94fc683-dac2-4559-bd58-8709132b620a",
   "metadata": {},
   "source": [
    "* 일을하고 있는데도 occyp_type이 널인경우 == 최빈도"
   ]
  },
  {
   "cell_type": "code",
   "execution_count": 254,
   "id": "a2849efa-ccd7-43df-b204-94beb38ef39b",
   "metadata": {},
   "outputs": [
    {
     "data": {
      "text/plain": [
       "Int64Index([    0,     8,    19,    20,    23,    27,    49,    54,    72,\n",
       "               76,\n",
       "            ...\n",
       "            26419, 26420, 26424, 26426, 26430, 26433, 26435, 26437, 26449,\n",
       "            26453],\n",
       "           dtype='int64', length=3733)"
      ]
     },
     "execution_count": 254,
     "metadata": {},
     "output_type": "execute_result"
    }
   ],
   "source": [
    "idx = train[(train['일하는중_YN']==1) & (train['occyp_type'].isna()==True) ]['occyp_type'].index\n",
    "idx"
   ]
  },
  {
   "cell_type": "code",
   "execution_count": 255,
   "id": "53d0b225-0762-4e9a-a810-1f8306f1e017",
   "metadata": {},
   "outputs": [],
   "source": [
    "train.loc[idx, 'occyp_type'] = 'Laborers'"
   ]
  },
  {
   "cell_type": "markdown",
   "id": "27b38a22-1e12-4511-a3ce-ead353fede9c",
   "metadata": {},
   "source": [
    "* 정말로 일을 안하고 있어서  occyp_type이 널인경우 == 백수('')"
   ]
  },
  {
   "cell_type": "code",
   "execution_count": 256,
   "id": "0554317f-9887-4ef1-856d-b10d55d208ea",
   "metadata": {},
   "outputs": [
    {
     "data": {
      "text/plain": [
       "14       NaN\n",
       "18       NaN\n",
       "21       NaN\n",
       "24       NaN\n",
       "46       NaN\n",
       "        ... \n",
       "26431    NaN\n",
       "26432    NaN\n",
       "26439    NaN\n",
       "26441    NaN\n",
       "26443    NaN\n",
       "Name: occyp_type, Length: 4438, dtype: object"
      ]
     },
     "execution_count": 256,
     "metadata": {},
     "output_type": "execute_result"
    }
   ],
   "source": [
    "train[train['일하는중_YN']==0]['occyp_type']"
   ]
  },
  {
   "cell_type": "code",
   "execution_count": 257,
   "id": "85229af2-4677-4c71-bb3a-b989435218dd",
   "metadata": {},
   "outputs": [],
   "source": [
    "train['occyp_type'].fillna('', inplace=True)"
   ]
  },
  {
   "cell_type": "code",
   "execution_count": 258,
   "id": "fb9f3616-a23d-4412-9977-59d75bf66266",
   "metadata": {},
   "outputs": [
    {
     "data": {
      "text/plain": [
       "0"
      ]
     },
     "execution_count": 258,
     "metadata": {},
     "output_type": "execute_result"
    }
   ],
   "source": [
    "train['occyp_type'].isna().sum()"
   ]
  },
  {
   "cell_type": "markdown",
   "id": "70e95616-8c1d-4e7d-8f25-b32b8da948ec",
   "metadata": {
    "tags": []
   },
   "source": [
    "## 카테고리화 == 인코딩 (글자 --> 숫자)\n",
    "<pre>\n",
    "object   binary  : ['gender', 'car', 'reality']\n",
    "object   multi   : ['income_type', 'edu_type', 'family_type', 'house_type', 'occyp_type']"
   ]
  },
  {
   "cell_type": "markdown",
   "id": "0305226b-604d-4d26-b574-fe8356eb1b64",
   "metadata": {},
   "source": [
    "* get_dummies() 대상 선정 : 점수 봐가면서 결정"
   ]
  },
  {
   "cell_type": "code",
   "execution_count": 259,
   "id": "fbd402e7-9f4c-4e1f-8f7c-6f677c836b33",
   "metadata": {},
   "outputs": [
    {
     "name": "stdout",
     "output_type": "stream",
     "text": [
      "income_type 5\n",
      "edu_type 5\n",
      "family_type 5\n",
      "house_type 6\n",
      "occyp_type 19\n"
     ]
    }
   ],
   "source": [
    "multi_cols = ['income_type', 'edu_type', 'family_type', 'house_type', 'occyp_type']\n",
    "for col in multi_cols:\n",
    "    print(col, train[col].nunique())"
   ]
  },
  {
   "cell_type": "code",
   "execution_count": 260,
   "id": "86585065-ecef-46f3-8b1e-939fdf495a9e",
   "metadata": {},
   "outputs": [
    {
     "data": {
      "text/plain": [
       "array(['Laborers', 'Managers', 'Sales staff', 'High skill tech staff',\n",
       "       'Core staff', 'Drivers', 'Medicine staff', 'Accountants', '',\n",
       "       'Realty agents', 'Security staff', 'Cleaning staff',\n",
       "       'Private service staff', 'Cooking staff', 'Secretaries',\n",
       "       'HR staff', 'IT staff', 'Low-skill Laborers',\n",
       "       'Waiters/barmen staff'], dtype=object)"
      ]
     },
     "execution_count": 260,
     "metadata": {},
     "output_type": "execute_result"
    }
   ],
   "source": [
    "train[col].unique()  #pd.unique(train[col])"
   ]
  },
  {
   "cell_type": "code",
   "execution_count": 261,
   "id": "884246ed-eb87-44be-804f-17753a1626bd",
   "metadata": {},
   "outputs": [
    {
     "data": {
      "text/plain": [
       "19"
      ]
     },
     "execution_count": 261,
     "metadata": {},
     "output_type": "execute_result"
    }
   ],
   "source": [
    "train[col].nunique()"
   ]
  },
  {
   "cell_type": "markdown",
   "id": "f47229d3-ad66-4963-8e19-8e962af0ac8c",
   "metadata": {},
   "source": [
    "* 글자 --> 숫자\n",
    "<pre>\n",
    "dict = {\"F\":1, \"M\":0}\n",
    "train[\"gender\"] = train[\"gender\"].map(dict)"
   ]
  },
  {
   "cell_type": "code",
   "execution_count": 262,
   "id": "ca6d056c-b269-4cdb-8cdb-37b262eba228",
   "metadata": {},
   "outputs": [
    {
     "name": "stdout",
     "output_type": "stream",
     "text": [
      "['gender', 'car', 'reality', 'income_type', 'edu_type', 'family_type', 'house_type', 'occyp_type']\n"
     ]
    }
   ],
   "source": [
    "col_list = ['gender', 'car', 'reality'] + ['income_type', 'edu_type', 'family_type', 'house_type', 'occyp_type']\n",
    "print(col_list)\n",
    "\n",
    "for col in col_list:\n",
    "    arr = train[col].unique()\n",
    "    dict = {}\n",
    "    for i, key in enumerate(arr):  #['F' 'M']\n",
    "        dict[key] = i\n",
    "    train[col] = train[col].map(dict)"
   ]
  },
  {
   "cell_type": "code",
   "execution_count": null,
   "id": "85f03bfa-b395-4d2a-aca3-69f2f51cb72a",
   "metadata": {},
   "outputs": [],
   "source": []
  },
  {
   "cell_type": "code",
   "execution_count": 263,
   "id": "0aadf224-c748-4dd1-a1e4-b378c64ec16d",
   "metadata": {},
   "outputs": [
    {
     "name": "stdout",
     "output_type": "stream",
     "text": [
      "<class 'pandas.core.frame.DataFrame'>\n",
      "Int64Index: 26453 entries, 0 to 26456\n",
      "Data columns (total 20 columns):\n",
      " #   Column         Non-Null Count  Dtype  \n",
      "---  ------         --------------  -----  \n",
      " 0   gender         26453 non-null  int64  \n",
      " 1   DAYS_BIRTH     26453 non-null  int64  \n",
      " 2   car            26453 non-null  int64  \n",
      " 3   reality        26453 non-null  int64  \n",
      " 4   occyp_type     26453 non-null  int64  \n",
      " 5   family_size    26453 non-null  int64  \n",
      " 6   child_num      26453 non-null  int64  \n",
      " 7   income_total   26453 non-null  float64\n",
      " 8   income_type    26453 non-null  int64  \n",
      " 9   edu_type       26453 non-null  int64  \n",
      " 10  family_type    26453 non-null  int64  \n",
      " 11  house_type     26453 non-null  int64  \n",
      " 12  DAYS_EMPLOYED  26453 non-null  int64  \n",
      " 13  FLAG_MOBIL     26453 non-null  int64  \n",
      " 14  work_phone     26453 non-null  int64  \n",
      " 15  phone          26453 non-null  int64  \n",
      " 16  email          26453 non-null  int64  \n",
      " 17  begin_month    26453 non-null  int64  \n",
      " 18  credit         26453 non-null  int64  \n",
      " 19  일하는중_YN        26453 non-null  int64  \n",
      "dtypes: float64(1), int64(19)\n",
      "memory usage: 5.2 MB\n"
     ]
    }
   ],
   "source": [
    "train.info()"
   ]
  },
  {
   "cell_type": "code",
   "execution_count": null,
   "id": "36229bc6-056b-4d2e-b039-b6465c92ca7a",
   "metadata": {},
   "outputs": [],
   "source": []
  },
  {
   "cell_type": "markdown",
   "id": "e26d42ca-e813-4c00-9213-84e71e537f97",
   "metadata": {},
   "source": [
    "## 범주화\n",
    "<pre>\n",
    "numeric 연속형 - log    : ['income_total'] \n",
    "numeric 연속형 - date   : ['DAYS_BIRTH', 'DAYS_EMPLOYED','begin_month'] \n",
    "numeric 연속형 - bining : ['child_num','family_size']\n"
   ]
  },
  {
   "cell_type": "code",
   "execution_count": 264,
   "id": "e00e8381-568f-40b9-8af2-32841fefdf0f",
   "metadata": {},
   "outputs": [
    {
     "name": "stdout",
     "output_type": "stream",
     "text": [
      "3 26 112\n"
     ]
    }
   ],
   "source": [
    "import datetime as dt\n",
    "from dateutil.rrule import rrule, YEARLY, MONTHLY, WEEKLY\n",
    "\n",
    "now  = dt.datetime.now()\n",
    "old = now - dt.timedelta(days=777)        \n",
    "    \n",
    "diff_y = len([dt for dt in rrule(YEARLY, dtstart=old, until=now)])\n",
    "diff_m = len([dt for dt in rrule(MONTHLY, dtstart=old, until=now)])\n",
    "diff_w = len([dt for dt in rrule(WEEKLY, dtstart=old, until=now)])\n",
    "print(diff_y, diff_m, diff_w)\n"
   ]
  },
  {
   "cell_type": "code",
   "execution_count": null,
   "id": "8fae9b6a-4b70-4e75-b72b-a2fd2fac679e",
   "metadata": {},
   "outputs": [],
   "source": []
  },
  {
   "cell_type": "code",
   "execution_count": null,
   "id": "101aa952-772f-4ff5-a6d1-23de5e8ef570",
   "metadata": {},
   "outputs": [],
   "source": []
  },
  {
   "cell_type": "code",
   "execution_count": null,
   "id": "4d530811-32a8-49cd-8a2f-452eb361338b",
   "metadata": {},
   "outputs": [],
   "source": []
  },
  {
   "cell_type": "markdown",
   "id": "f87fad1c-4ec7-458a-8ebc-a9e588a80c7f",
   "metadata": {},
   "source": [
    "# 모델 학습 & 평가"
   ]
  },
  {
   "cell_type": "code",
   "execution_count": 265,
   "id": "cba0c01a-341b-4490-bc3a-cdb51daaa109",
   "metadata": {},
   "outputs": [],
   "source": [
    "y = train['credit']\n",
    "X = train.drop(['credit'], axis=1)\n",
    "# print(y[:3])\n",
    "# print(X.head())"
   ]
  },
  {
   "cell_type": "code",
   "execution_count": 266,
   "id": "514bac04-b0af-4fa2-8519-161930bb4a28",
   "metadata": {},
   "outputs": [
    {
     "name": "stdout",
     "output_type": "stream",
     "text": [
      "(21162, 19) (5291, 19) (21162,) (5291,)\n"
     ]
    }
   ],
   "source": [
    "X_train,X_test, y_train, y_test = train_test_split(X, y, \n",
    "                                                   test_size=0.2, \n",
    "                                                   random_state=1234,\n",
    "                                                   shuffle=True\n",
    "                                                   )\n",
    "print(X_train.shape, X_test.shape, y_train.shape, y_test.shape)"
   ]
  },
  {
   "cell_type": "code",
   "execution_count": 267,
   "id": "7f05eecf-a0c6-422e-b646-8d38d7909e16",
   "metadata": {},
   "outputs": [
    {
     "name": "stdout",
     "output_type": "stream",
     "text": [
      "RandomForestClassifier \t\t 정확도:0.7004\n",
      "LogisticRegression \t\t 정확도:0.6400\n",
      "KNeighborsClassifier \t\t 정확도:0.6263\n",
      "DecisionTreeClassifier \t\t 정확도:0.6173\n",
      "LinearSVC \t\t 정확도:0.2502\n"
     ]
    }
   ],
   "source": [
    "model_list = [RandomForestClassifier(n_estimators=300, random_state=1234) ,\n",
    "              LogisticRegression(penalty=\"l2\", random_state=1234),\n",
    "              KNeighborsClassifier(),\n",
    "              DecisionTreeClassifier(),\n",
    "              LinearSVC()\n",
    "             ]\n",
    "# model = RandomForestClassifier()\n",
    "for model in model_list:\n",
    "    model.fit(X_train, y_train)  #---학습해라\n",
    "    내답안지 = model.predict(X_test)\n",
    "    acc_score = accuracy_score(y_test, 내답안지)\n",
    "    print(f\"{model.__class__.__name__} \\t\\t 정확도:{acc_score:.4f}\")\n"
   ]
  },
  {
   "cell_type": "markdown",
   "id": "2c4c7cf5-2403-4f05-a087-c586610c71f1",
   "metadata": {},
   "source": [
    "# 검증 & 튜닝"
   ]
  },
  {
   "cell_type": "code",
   "execution_count": null,
   "id": "76ba2fda-74df-4e4a-b3d3-a3ba3c5c15f2",
   "metadata": {},
   "outputs": [],
   "source": []
  }
 ],
 "metadata": {
  "kernelspec": {
   "display_name": "Python 3 (ipykernel)",
   "language": "python",
   "name": "python3"
  },
  "language_info": {
   "codemirror_mode": {
    "name": "ipython",
    "version": 3
   },
   "file_extension": ".py",
   "mimetype": "text/x-python",
   "name": "python",
   "nbconvert_exporter": "python",
   "pygments_lexer": "ipython3",
   "version": "3.8.8"
  }
 },
 "nbformat": 4,
 "nbformat_minor": 5
}
