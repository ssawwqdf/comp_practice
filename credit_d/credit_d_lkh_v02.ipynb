{
 "cells": [
  {
   "cell_type": "markdown",
   "id": "21cfab39-1a5e-40e9-a820-058e98c08531",
   "metadata": {},
   "source": [
    "<font size=5>신용카드 연체 예측 AI</font>"
   ]
  },
  {
   "cell_type": "code",
   "execution_count": 2,
   "id": "7d6053c8-8086-4938-805f-999524765c96",
   "metadata": {},
   "outputs": [
    {
     "data": {
      "text/html": [
       "<style>.container{width:100% !important;}</style>"
      ],
      "text/plain": [
       "<IPython.core.display.HTML object>"
      ]
     },
     "metadata": {},
     "output_type": "display_data"
    }
   ],
   "source": [
    "import pandas as pd\n",
    "import numpy as np\n",
    "import matplotlib.pyplot as plt\n",
    "import seaborn as sns\n",
    "\n",
    "from sklearn.preprocessing import LabelEncoder, OneHotEncoder\n",
    "from sklearn.model_selection import train_test_split\n",
    "\n",
    "from sklearn.ensemble import RandomForestClassifier\n",
    "from sklearn.linear_model import LogisticRegression\n",
    "from sklearn.neighbors import KNeighborsClassifier\n",
    "from sklearn.tree import DecisionTreeClassifier\n",
    "from sklearn.svm import LinearSVC\n",
    "\n",
    "\n",
    "\n",
    "                                                      #y_true, y_pred\n",
    "from sklearn.metrics import classification_report, confusion_matrix, accuracy_score, precision_score, recall_score,  f1_score\n",
    "from sklearn.metrics import precision_recall_curve    #y_true, probas_pred\n",
    "from sklearn.metrics import roc_auc_score, roc_curve  #y_true, y_score\n",
    "\n",
    "from sklearn.preprocessing import StandardScaler, RobustScaler, MinMaxScaler\n",
    "\n",
    "from sklearn.model_selection import cross_val_score, KFold, StratifiedKFold, GridSearchCV\n",
    "\n",
    "import warnings\n",
    "warnings.filterwarnings(action='ignore')\n",
    "\n",
    "#-------------------- 차트 관련 속성 (한글처리, 그리드) -----------\n",
    "#plt.rc('font', family='NanumGothicOTF') # For MacOS\n",
    "plt.rcParams['font.family']= 'Malgun Gothic'\n",
    "plt.rcParams['axes.unicode_minus'] = False\n",
    "sns.set()\n",
    "\n",
    "#-------------------- 주피터 , 출력결과 넓이 늘리기 ---------------\n",
    "from IPython.core.display import display, HTML\n",
    "display(HTML(\"<style>.container{width:100% !important;}</style>\"))\n",
    "pd.set_option('display.max_rows', 100)\n",
    "pd.set_option('display.max_columns', 100)\n",
    "pd.set_option('max_colwidth', None)"
   ]
  },
  {
   "cell_type": "markdown",
   "id": "62f88f77-8bc3-493c-ae87-866b67e2e3c4",
   "metadata": {},
   "source": [
    "# Data Load"
   ]
  },
  {
   "cell_type": "code",
   "execution_count": 3,
   "id": "e7c10811-0b0c-4a13-9043-8b27acde195a",
   "metadata": {},
   "outputs": [],
   "source": [
    "train = pd.read_csv(\"./dataset/train.csv\")"
   ]
  },
  {
   "cell_type": "code",
   "execution_count": 4,
   "id": "499e551f-5d03-4701-b712-8afa1f9c36ea",
   "metadata": {},
   "outputs": [
    {
     "name": "stdout",
     "output_type": "stream",
     "text": [
      "(26457, 20)\n",
      "<class 'pandas.core.frame.DataFrame'>\n",
      "RangeIndex: 26457 entries, 0 to 26456\n",
      "Data columns (total 20 columns):\n",
      " #   Column         Non-Null Count  Dtype  \n",
      "---  ------         --------------  -----  \n",
      " 0   index          26457 non-null  int64  \n",
      " 1   gender         26457 non-null  object \n",
      " 2   DAYS_BIRTH     26457 non-null  int64  \n",
      " 3   car            26457 non-null  object \n",
      " 4   reality        26457 non-null  object \n",
      " 5   occyp_type     18286 non-null  object \n",
      " 6   family_size    26457 non-null  int64  \n",
      " 7   child_num      26457 non-null  int64  \n",
      " 8   income_total   26457 non-null  float64\n",
      " 9   income_type    26457 non-null  object \n",
      " 10  edu_type       26457 non-null  object \n",
      " 11  family_type    26457 non-null  object \n",
      " 12  house_type     26457 non-null  object \n",
      " 13  DAYS_EMPLOYED  26457 non-null  int64  \n",
      " 14  FLAG_MOBIL     26457 non-null  int64  \n",
      " 15  work_phone     26457 non-null  int64  \n",
      " 16  phone          26457 non-null  int64  \n",
      " 17  email          26457 non-null  int64  \n",
      " 18  begin_month    26457 non-null  int64  \n",
      " 19  credit         26457 non-null  int64  \n",
      "dtypes: float64(1), int64(11), object(8)\n",
      "memory usage: 4.0+ MB\n",
      "None\n"
     ]
    },
    {
     "data": {
      "text/html": [
       "<div>\n",
       "<style scoped>\n",
       "    .dataframe tbody tr th:only-of-type {\n",
       "        vertical-align: middle;\n",
       "    }\n",
       "\n",
       "    .dataframe tbody tr th {\n",
       "        vertical-align: top;\n",
       "    }\n",
       "\n",
       "    .dataframe thead th {\n",
       "        text-align: right;\n",
       "    }\n",
       "</style>\n",
       "<table border=\"1\" class=\"dataframe\">\n",
       "  <thead>\n",
       "    <tr style=\"text-align: right;\">\n",
       "      <th></th>\n",
       "      <th>index</th>\n",
       "      <th>gender</th>\n",
       "      <th>DAYS_BIRTH</th>\n",
       "      <th>car</th>\n",
       "      <th>reality</th>\n",
       "      <th>occyp_type</th>\n",
       "      <th>family_size</th>\n",
       "      <th>child_num</th>\n",
       "      <th>income_total</th>\n",
       "      <th>income_type</th>\n",
       "      <th>edu_type</th>\n",
       "      <th>family_type</th>\n",
       "      <th>house_type</th>\n",
       "      <th>DAYS_EMPLOYED</th>\n",
       "      <th>FLAG_MOBIL</th>\n",
       "      <th>work_phone</th>\n",
       "      <th>phone</th>\n",
       "      <th>email</th>\n",
       "      <th>begin_month</th>\n",
       "      <th>credit</th>\n",
       "    </tr>\n",
       "  </thead>\n",
       "  <tbody>\n",
       "    <tr>\n",
       "      <th>0</th>\n",
       "      <td>0</td>\n",
       "      <td>F</td>\n",
       "      <td>-13899</td>\n",
       "      <td>N</td>\n",
       "      <td>N</td>\n",
       "      <td>NaN</td>\n",
       "      <td>2</td>\n",
       "      <td>0</td>\n",
       "      <td>202500.0</td>\n",
       "      <td>Commercial associate</td>\n",
       "      <td>Higher education</td>\n",
       "      <td>Married</td>\n",
       "      <td>Municipal apartment</td>\n",
       "      <td>-4709</td>\n",
       "      <td>1</td>\n",
       "      <td>0</td>\n",
       "      <td>0</td>\n",
       "      <td>0</td>\n",
       "      <td>-6</td>\n",
       "      <td>1</td>\n",
       "    </tr>\n",
       "    <tr>\n",
       "      <th>1</th>\n",
       "      <td>1</td>\n",
       "      <td>F</td>\n",
       "      <td>-11380</td>\n",
       "      <td>N</td>\n",
       "      <td>Y</td>\n",
       "      <td>Laborers</td>\n",
       "      <td>3</td>\n",
       "      <td>1</td>\n",
       "      <td>247500.0</td>\n",
       "      <td>Commercial associate</td>\n",
       "      <td>Secondary / secondary special</td>\n",
       "      <td>Civil marriage</td>\n",
       "      <td>House / apartment</td>\n",
       "      <td>-1540</td>\n",
       "      <td>1</td>\n",
       "      <td>0</td>\n",
       "      <td>0</td>\n",
       "      <td>1</td>\n",
       "      <td>-5</td>\n",
       "      <td>1</td>\n",
       "    </tr>\n",
       "    <tr>\n",
       "      <th>2</th>\n",
       "      <td>2</td>\n",
       "      <td>M</td>\n",
       "      <td>-19087</td>\n",
       "      <td>Y</td>\n",
       "      <td>Y</td>\n",
       "      <td>Managers</td>\n",
       "      <td>2</td>\n",
       "      <td>0</td>\n",
       "      <td>450000.0</td>\n",
       "      <td>Working</td>\n",
       "      <td>Higher education</td>\n",
       "      <td>Married</td>\n",
       "      <td>House / apartment</td>\n",
       "      <td>-4434</td>\n",
       "      <td>1</td>\n",
       "      <td>0</td>\n",
       "      <td>1</td>\n",
       "      <td>0</td>\n",
       "      <td>-22</td>\n",
       "      <td>2</td>\n",
       "    </tr>\n",
       "    <tr>\n",
       "      <th>3</th>\n",
       "      <td>3</td>\n",
       "      <td>F</td>\n",
       "      <td>-15088</td>\n",
       "      <td>N</td>\n",
       "      <td>Y</td>\n",
       "      <td>Sales staff</td>\n",
       "      <td>2</td>\n",
       "      <td>0</td>\n",
       "      <td>202500.0</td>\n",
       "      <td>Commercial associate</td>\n",
       "      <td>Secondary / secondary special</td>\n",
       "      <td>Married</td>\n",
       "      <td>House / apartment</td>\n",
       "      <td>-2092</td>\n",
       "      <td>1</td>\n",
       "      <td>0</td>\n",
       "      <td>1</td>\n",
       "      <td>0</td>\n",
       "      <td>-37</td>\n",
       "      <td>0</td>\n",
       "    </tr>\n",
       "    <tr>\n",
       "      <th>4</th>\n",
       "      <td>4</td>\n",
       "      <td>F</td>\n",
       "      <td>-15037</td>\n",
       "      <td>Y</td>\n",
       "      <td>Y</td>\n",
       "      <td>Managers</td>\n",
       "      <td>2</td>\n",
       "      <td>0</td>\n",
       "      <td>157500.0</td>\n",
       "      <td>State servant</td>\n",
       "      <td>Higher education</td>\n",
       "      <td>Married</td>\n",
       "      <td>House / apartment</td>\n",
       "      <td>-2105</td>\n",
       "      <td>1</td>\n",
       "      <td>0</td>\n",
       "      <td>0</td>\n",
       "      <td>0</td>\n",
       "      <td>-26</td>\n",
       "      <td>2</td>\n",
       "    </tr>\n",
       "  </tbody>\n",
       "</table>\n",
       "</div>"
      ],
      "text/plain": [
       "   index gender  DAYS_BIRTH car reality   occyp_type  family_size  child_num  \\\n",
       "0      0      F      -13899   N       N          NaN            2          0   \n",
       "1      1      F      -11380   N       Y     Laborers            3          1   \n",
       "2      2      M      -19087   Y       Y     Managers            2          0   \n",
       "3      3      F      -15088   N       Y  Sales staff            2          0   \n",
       "4      4      F      -15037   Y       Y     Managers            2          0   \n",
       "\n",
       "   income_total           income_type                       edu_type  \\\n",
       "0      202500.0  Commercial associate               Higher education   \n",
       "1      247500.0  Commercial associate  Secondary / secondary special   \n",
       "2      450000.0               Working               Higher education   \n",
       "3      202500.0  Commercial associate  Secondary / secondary special   \n",
       "4      157500.0         State servant               Higher education   \n",
       "\n",
       "      family_type           house_type  DAYS_EMPLOYED  FLAG_MOBIL  work_phone  \\\n",
       "0         Married  Municipal apartment          -4709           1           0   \n",
       "1  Civil marriage    House / apartment          -1540           1           0   \n",
       "2         Married    House / apartment          -4434           1           0   \n",
       "3         Married    House / apartment          -2092           1           0   \n",
       "4         Married    House / apartment          -2105           1           0   \n",
       "\n",
       "   phone  email  begin_month  credit  \n",
       "0      0      0           -6       1  \n",
       "1      0      1           -5       1  \n",
       "2      1      0          -22       2  \n",
       "3      1      0          -37       0  \n",
       "4      0      0          -26       2  "
      ]
     },
     "execution_count": 4,
     "metadata": {},
     "output_type": "execute_result"
    }
   ],
   "source": [
    "print(train.shape)\n",
    "print(train.info())\n",
    "train.head()"
   ]
  },
  {
   "cell_type": "markdown",
   "id": "0cf0cea1-da08-4a04-b7da-c08a58724a2d",
   "metadata": {},
   "source": [
    "# EDA"
   ]
  },
  {
   "cell_type": "markdown",
   "id": "02cd77e3-51e5-4edd-b82b-373d2d9071f5",
   "metadata": {
    "tags": []
   },
   "source": [
    "## Survived : Traget Feature"
   ]
  },
  {
   "cell_type": "code",
   "execution_count": 5,
   "id": "c3451603-3a67-47d1-83eb-66bfb798833f",
   "metadata": {},
   "outputs": [
    {
     "data": {
      "text/plain": [
       "2    16968\n",
       "1     6267\n",
       "0     3222\n",
       "Name: credit, dtype: int64"
      ]
     },
     "execution_count": 5,
     "metadata": {},
     "output_type": "execute_result"
    }
   ],
   "source": [
    "train[\"credit\"].value_counts() \n",
    "# (train[\"credit\"].value_counts() / train.shape[0]) * 100\n",
    "# ((train[\"credit\"].value_counts() / train.shape[0]) * 100).plot(kind='bar')"
   ]
  },
  {
   "cell_type": "markdown",
   "id": "2d873096-cb7d-445f-8f4b-98dfc10ced14",
   "metadata": {},
   "source": [
    "## 유니크피쳐"
   ]
  },
  {
   "cell_type": "code",
   "execution_count": 6,
   "id": "e63d1afa-0834-4b37-91a4-cffced34e63a",
   "metadata": {},
   "outputs": [],
   "source": [
    "def my_dfcheck(prm='null'):  #파라미터 : 'null' 또는 'unique'\n",
    "    if prm == 'unique':\n",
    "        s = train.nunique()\n",
    "    else:\n",
    "        s = train.isna().sum()\n",
    "    rate = np.round( (s.values  / len(train)) *100,  1)\n",
    "    dic = {\"컬럼\":s.index , \"카운트\":s.values, \"비율\":rate}\n",
    "    df = pd.DataFrame(dic).sort_values('카운트', ascending=False)\n",
    "    return df.T"
   ]
  },
  {
   "cell_type": "code",
   "execution_count": 7,
   "id": "1709e00b-8f89-4e4a-b68b-ea3737d6b51c",
   "metadata": {},
   "outputs": [
    {
     "data": {
      "text/html": [
       "<div>\n",
       "<style scoped>\n",
       "    .dataframe tbody tr th:only-of-type {\n",
       "        vertical-align: middle;\n",
       "    }\n",
       "\n",
       "    .dataframe tbody tr th {\n",
       "        vertical-align: top;\n",
       "    }\n",
       "\n",
       "    .dataframe thead th {\n",
       "        text-align: right;\n",
       "    }\n",
       "</style>\n",
       "<table border=\"1\" class=\"dataframe\">\n",
       "  <thead>\n",
       "    <tr style=\"text-align: right;\">\n",
       "      <th></th>\n",
       "      <th>0</th>\n",
       "      <th>2</th>\n",
       "      <th>13</th>\n",
       "      <th>8</th>\n",
       "      <th>18</th>\n",
       "      <th>5</th>\n",
       "      <th>6</th>\n",
       "      <th>7</th>\n",
       "      <th>12</th>\n",
       "      <th>11</th>\n",
       "      <th>10</th>\n",
       "      <th>9</th>\n",
       "      <th>19</th>\n",
       "      <th>1</th>\n",
       "      <th>4</th>\n",
       "      <th>15</th>\n",
       "      <th>16</th>\n",
       "      <th>17</th>\n",
       "      <th>3</th>\n",
       "      <th>14</th>\n",
       "    </tr>\n",
       "  </thead>\n",
       "  <tbody>\n",
       "    <tr>\n",
       "      <th>컬럼</th>\n",
       "      <td>index</td>\n",
       "      <td>DAYS_BIRTH</td>\n",
       "      <td>DAYS_EMPLOYED</td>\n",
       "      <td>income_total</td>\n",
       "      <td>begin_month</td>\n",
       "      <td>occyp_type</td>\n",
       "      <td>family_size</td>\n",
       "      <td>child_num</td>\n",
       "      <td>house_type</td>\n",
       "      <td>family_type</td>\n",
       "      <td>edu_type</td>\n",
       "      <td>income_type</td>\n",
       "      <td>credit</td>\n",
       "      <td>gender</td>\n",
       "      <td>reality</td>\n",
       "      <td>work_phone</td>\n",
       "      <td>phone</td>\n",
       "      <td>email</td>\n",
       "      <td>car</td>\n",
       "      <td>FLAG_MOBIL</td>\n",
       "    </tr>\n",
       "    <tr>\n",
       "      <th>카운트</th>\n",
       "      <td>26457</td>\n",
       "      <td>6621</td>\n",
       "      <td>3470</td>\n",
       "      <td>249</td>\n",
       "      <td>61</td>\n",
       "      <td>18</td>\n",
       "      <td>10</td>\n",
       "      <td>9</td>\n",
       "      <td>6</td>\n",
       "      <td>5</td>\n",
       "      <td>5</td>\n",
       "      <td>5</td>\n",
       "      <td>3</td>\n",
       "      <td>2</td>\n",
       "      <td>2</td>\n",
       "      <td>2</td>\n",
       "      <td>2</td>\n",
       "      <td>2</td>\n",
       "      <td>2</td>\n",
       "      <td>1</td>\n",
       "    </tr>\n",
       "    <tr>\n",
       "      <th>비율</th>\n",
       "      <td>100.0</td>\n",
       "      <td>25.0</td>\n",
       "      <td>13.1</td>\n",
       "      <td>0.9</td>\n",
       "      <td>0.2</td>\n",
       "      <td>0.1</td>\n",
       "      <td>0.0</td>\n",
       "      <td>0.0</td>\n",
       "      <td>0.0</td>\n",
       "      <td>0.0</td>\n",
       "      <td>0.0</td>\n",
       "      <td>0.0</td>\n",
       "      <td>0.0</td>\n",
       "      <td>0.0</td>\n",
       "      <td>0.0</td>\n",
       "      <td>0.0</td>\n",
       "      <td>0.0</td>\n",
       "      <td>0.0</td>\n",
       "      <td>0.0</td>\n",
       "      <td>0.0</td>\n",
       "    </tr>\n",
       "  </tbody>\n",
       "</table>\n",
       "</div>"
      ],
      "text/plain": [
       "        0           2              13            8            18          5   \\\n",
       "컬럼   index  DAYS_BIRTH  DAYS_EMPLOYED  income_total  begin_month  occyp_type   \n",
       "카운트  26457        6621           3470           249           61          18   \n",
       "비율   100.0        25.0           13.1           0.9          0.2         0.1   \n",
       "\n",
       "              6          7           12           11        10           9   \\\n",
       "컬럼   family_size  child_num  house_type  family_type  edu_type  income_type   \n",
       "카운트           10          9           6            5         5            5   \n",
       "비율           0.0        0.0         0.0          0.0       0.0          0.0   \n",
       "\n",
       "         19      1        4           15     16     17   3           14  \n",
       "컬럼   credit  gender  reality  work_phone  phone  email  car  FLAG_MOBIL  \n",
       "카운트       3       2        2           2      2      2    2           1  \n",
       "비율      0.0     0.0      0.0         0.0    0.0    0.0  0.0         0.0  "
      ]
     },
     "execution_count": 7,
     "metadata": {},
     "output_type": "execute_result"
    }
   ],
   "source": [
    "my_dfcheck ('unique') "
   ]
  },
  {
   "cell_type": "markdown",
   "id": "e9074dd5-50f4-4987-8263-a24b43609353",
   "metadata": {
    "tags": []
   },
   "source": [
    "## 불필요한 피쳐 삭제\n",
    "* FLAG_MOBIL 카운트 수는 1이다  == 단일값 삭제\n",
    "* index 피쳐"
   ]
  },
  {
   "cell_type": "code",
   "execution_count": 8,
   "id": "69a64838-5e09-4307-bbbc-18c62a0523a8",
   "metadata": {},
   "outputs": [],
   "source": [
    "train = train.drop(['FLAG_MOBIL','index'], axis=1)"
   ]
  },
  {
   "cell_type": "code",
   "execution_count": 9,
   "id": "24ff635a-23ba-478a-bb6f-98eaa5581cd0",
   "metadata": {},
   "outputs": [
    {
     "data": {
      "text/html": [
       "<div>\n",
       "<style scoped>\n",
       "    .dataframe tbody tr th:only-of-type {\n",
       "        vertical-align: middle;\n",
       "    }\n",
       "\n",
       "    .dataframe tbody tr th {\n",
       "        vertical-align: top;\n",
       "    }\n",
       "\n",
       "    .dataframe thead th {\n",
       "        text-align: right;\n",
       "    }\n",
       "</style>\n",
       "<table border=\"1\" class=\"dataframe\">\n",
       "  <thead>\n",
       "    <tr style=\"text-align: right;\">\n",
       "      <th></th>\n",
       "      <th>gender</th>\n",
       "      <th>DAYS_BIRTH</th>\n",
       "      <th>car</th>\n",
       "      <th>reality</th>\n",
       "      <th>occyp_type</th>\n",
       "      <th>family_size</th>\n",
       "      <th>child_num</th>\n",
       "      <th>income_total</th>\n",
       "      <th>income_type</th>\n",
       "      <th>edu_type</th>\n",
       "      <th>family_type</th>\n",
       "      <th>house_type</th>\n",
       "      <th>DAYS_EMPLOYED</th>\n",
       "      <th>work_phone</th>\n",
       "      <th>phone</th>\n",
       "      <th>email</th>\n",
       "      <th>begin_month</th>\n",
       "      <th>credit</th>\n",
       "    </tr>\n",
       "  </thead>\n",
       "  <tbody>\n",
       "    <tr>\n",
       "      <th>0</th>\n",
       "      <td>F</td>\n",
       "      <td>-13899</td>\n",
       "      <td>N</td>\n",
       "      <td>N</td>\n",
       "      <td>NaN</td>\n",
       "      <td>2</td>\n",
       "      <td>0</td>\n",
       "      <td>202500.0</td>\n",
       "      <td>Commercial associate</td>\n",
       "      <td>Higher education</td>\n",
       "      <td>Married</td>\n",
       "      <td>Municipal apartment</td>\n",
       "      <td>-4709</td>\n",
       "      <td>0</td>\n",
       "      <td>0</td>\n",
       "      <td>0</td>\n",
       "      <td>-6</td>\n",
       "      <td>1</td>\n",
       "    </tr>\n",
       "  </tbody>\n",
       "</table>\n",
       "</div>"
      ],
      "text/plain": [
       "  gender  DAYS_BIRTH car reality occyp_type  family_size  child_num  \\\n",
       "0      F      -13899   N       N        NaN            2          0   \n",
       "\n",
       "   income_total           income_type          edu_type family_type  \\\n",
       "0      202500.0  Commercial associate  Higher education     Married   \n",
       "\n",
       "            house_type  DAYS_EMPLOYED  work_phone  phone  email  begin_month  \\\n",
       "0  Municipal apartment          -4709           0      0      0           -6   \n",
       "\n",
       "   credit  \n",
       "0       1  "
      ]
     },
     "execution_count": 9,
     "metadata": {},
     "output_type": "execute_result"
    }
   ],
   "source": [
    "train.head(1)"
   ]
  },
  {
   "cell_type": "markdown",
   "id": "2348c845-2aef-45d1-b522-b73f4b4bdcb9",
   "metadata": {
    "tags": []
   },
   "source": [
    "## 결측 확인\n",
    "* 16  occyp_type     18286 non-null  object "
   ]
  },
  {
   "cell_type": "markdown",
   "id": "038130be-882e-4ccf-a27e-90bafd1c7ba0",
   "metadata": {
    "tags": []
   },
   "source": [
    "## Object 타입\n",
    "* binary : ['gender', 'car', 'reality'] \n",
    "* multi  : ['income_type', 'edu_type', 'family_type', 'house_type', 'occyp_type']"
   ]
  },
  {
   "cell_type": "code",
   "execution_count": 10,
   "id": "a8cbf3a4-1407-4c7e-a6df-9dadf00662f5",
   "metadata": {},
   "outputs": [
    {
     "name": "stdout",
     "output_type": "stream",
     "text": [
      "['gender', 'car', 'reality', 'occyp_type', 'income_type', 'edu_type', 'family_type', 'house_type']\n"
     ]
    },
    {
     "data": {
      "text/html": [
       "<div>\n",
       "<style scoped>\n",
       "    .dataframe tbody tr th:only-of-type {\n",
       "        vertical-align: middle;\n",
       "    }\n",
       "\n",
       "    .dataframe tbody tr th {\n",
       "        vertical-align: top;\n",
       "    }\n",
       "\n",
       "    .dataframe thead th {\n",
       "        text-align: right;\n",
       "    }\n",
       "</style>\n",
       "<table border=\"1\" class=\"dataframe\">\n",
       "  <thead>\n",
       "    <tr style=\"text-align: right;\">\n",
       "      <th></th>\n",
       "      <th>gender</th>\n",
       "      <th>car</th>\n",
       "      <th>reality</th>\n",
       "      <th>occyp_type</th>\n",
       "      <th>income_type</th>\n",
       "      <th>edu_type</th>\n",
       "      <th>family_type</th>\n",
       "      <th>house_type</th>\n",
       "    </tr>\n",
       "  </thead>\n",
       "  <tbody>\n",
       "    <tr>\n",
       "      <th>0</th>\n",
       "      <td>F</td>\n",
       "      <td>N</td>\n",
       "      <td>N</td>\n",
       "      <td>NaN</td>\n",
       "      <td>Commercial associate</td>\n",
       "      <td>Higher education</td>\n",
       "      <td>Married</td>\n",
       "      <td>Municipal apartment</td>\n",
       "    </tr>\n",
       "    <tr>\n",
       "      <th>1</th>\n",
       "      <td>F</td>\n",
       "      <td>N</td>\n",
       "      <td>Y</td>\n",
       "      <td>Laborers</td>\n",
       "      <td>Commercial associate</td>\n",
       "      <td>Secondary / secondary special</td>\n",
       "      <td>Civil marriage</td>\n",
       "      <td>House / apartment</td>\n",
       "    </tr>\n",
       "    <tr>\n",
       "      <th>2</th>\n",
       "      <td>M</td>\n",
       "      <td>Y</td>\n",
       "      <td>Y</td>\n",
       "      <td>Managers</td>\n",
       "      <td>Working</td>\n",
       "      <td>Higher education</td>\n",
       "      <td>Married</td>\n",
       "      <td>House / apartment</td>\n",
       "    </tr>\n",
       "    <tr>\n",
       "      <th>3</th>\n",
       "      <td>F</td>\n",
       "      <td>N</td>\n",
       "      <td>Y</td>\n",
       "      <td>Sales staff</td>\n",
       "      <td>Commercial associate</td>\n",
       "      <td>Secondary / secondary special</td>\n",
       "      <td>Married</td>\n",
       "      <td>House / apartment</td>\n",
       "    </tr>\n",
       "    <tr>\n",
       "      <th>4</th>\n",
       "      <td>F</td>\n",
       "      <td>Y</td>\n",
       "      <td>Y</td>\n",
       "      <td>Managers</td>\n",
       "      <td>State servant</td>\n",
       "      <td>Higher education</td>\n",
       "      <td>Married</td>\n",
       "      <td>House / apartment</td>\n",
       "    </tr>\n",
       "  </tbody>\n",
       "</table>\n",
       "</div>"
      ],
      "text/plain": [
       "  gender car reality   occyp_type           income_type  \\\n",
       "0      F   N       N          NaN  Commercial associate   \n",
       "1      F   N       Y     Laborers  Commercial associate   \n",
       "2      M   Y       Y     Managers               Working   \n",
       "3      F   N       Y  Sales staff  Commercial associate   \n",
       "4      F   Y       Y     Managers         State servant   \n",
       "\n",
       "                        edu_type     family_type           house_type  \n",
       "0               Higher education         Married  Municipal apartment  \n",
       "1  Secondary / secondary special  Civil marriage    House / apartment  \n",
       "2               Higher education         Married    House / apartment  \n",
       "3  Secondary / secondary special         Married    House / apartment  \n",
       "4               Higher education         Married    House / apartment  "
      ]
     },
     "execution_count": 10,
     "metadata": {},
     "output_type": "execute_result"
    }
   ],
   "source": [
    "obj_col_list = train.select_dtypes(include='object').columns.tolist()\n",
    "print(obj_col_list)\n",
    "train[obj_col_list].head()"
   ]
  },
  {
   "cell_type": "markdown",
   "id": "a6538b04-9e59-4050-8c57-aa8807f5287a",
   "metadata": {},
   "source": [
    "## Numeric 타입\n",
    "* unique : ['index'] \n",
    "* target : ['credit'] \n",
    "* 범주형  : ['FLAG_MOBIL', 'work_phone', 'phone', 'email']\n",
    "* 연속형  : ['income_total'] ['DAYS_BIRTH', 'DAYS_EMPLOYED','begin_month'] ['child_num','family_size']"
   ]
  },
  {
   "cell_type": "code",
   "execution_count": 11,
   "id": "7881eb8c-b9da-4cec-ac66-c6a6054c310e",
   "metadata": {},
   "outputs": [
    {
     "name": "stdout",
     "output_type": "stream",
     "text": [
      "['DAYS_BIRTH', 'family_size', 'child_num', 'income_total', 'DAYS_EMPLOYED', 'work_phone', 'phone', 'email', 'begin_month', 'credit']\n"
     ]
    },
    {
     "data": {
      "text/html": [
       "<div>\n",
       "<style scoped>\n",
       "    .dataframe tbody tr th:only-of-type {\n",
       "        vertical-align: middle;\n",
       "    }\n",
       "\n",
       "    .dataframe tbody tr th {\n",
       "        vertical-align: top;\n",
       "    }\n",
       "\n",
       "    .dataframe thead th {\n",
       "        text-align: right;\n",
       "    }\n",
       "</style>\n",
       "<table border=\"1\" class=\"dataframe\">\n",
       "  <thead>\n",
       "    <tr style=\"text-align: right;\">\n",
       "      <th></th>\n",
       "      <th>DAYS_BIRTH</th>\n",
       "      <th>family_size</th>\n",
       "      <th>child_num</th>\n",
       "      <th>income_total</th>\n",
       "      <th>DAYS_EMPLOYED</th>\n",
       "      <th>work_phone</th>\n",
       "      <th>phone</th>\n",
       "      <th>email</th>\n",
       "      <th>begin_month</th>\n",
       "      <th>credit</th>\n",
       "    </tr>\n",
       "  </thead>\n",
       "  <tbody>\n",
       "    <tr>\n",
       "      <th>0</th>\n",
       "      <td>-13899</td>\n",
       "      <td>2</td>\n",
       "      <td>0</td>\n",
       "      <td>202500.0</td>\n",
       "      <td>-4709</td>\n",
       "      <td>0</td>\n",
       "      <td>0</td>\n",
       "      <td>0</td>\n",
       "      <td>-6</td>\n",
       "      <td>1</td>\n",
       "    </tr>\n",
       "    <tr>\n",
       "      <th>1</th>\n",
       "      <td>-11380</td>\n",
       "      <td>3</td>\n",
       "      <td>1</td>\n",
       "      <td>247500.0</td>\n",
       "      <td>-1540</td>\n",
       "      <td>0</td>\n",
       "      <td>0</td>\n",
       "      <td>1</td>\n",
       "      <td>-5</td>\n",
       "      <td>1</td>\n",
       "    </tr>\n",
       "    <tr>\n",
       "      <th>2</th>\n",
       "      <td>-19087</td>\n",
       "      <td>2</td>\n",
       "      <td>0</td>\n",
       "      <td>450000.0</td>\n",
       "      <td>-4434</td>\n",
       "      <td>0</td>\n",
       "      <td>1</td>\n",
       "      <td>0</td>\n",
       "      <td>-22</td>\n",
       "      <td>2</td>\n",
       "    </tr>\n",
       "    <tr>\n",
       "      <th>3</th>\n",
       "      <td>-15088</td>\n",
       "      <td>2</td>\n",
       "      <td>0</td>\n",
       "      <td>202500.0</td>\n",
       "      <td>-2092</td>\n",
       "      <td>0</td>\n",
       "      <td>1</td>\n",
       "      <td>0</td>\n",
       "      <td>-37</td>\n",
       "      <td>0</td>\n",
       "    </tr>\n",
       "    <tr>\n",
       "      <th>4</th>\n",
       "      <td>-15037</td>\n",
       "      <td>2</td>\n",
       "      <td>0</td>\n",
       "      <td>157500.0</td>\n",
       "      <td>-2105</td>\n",
       "      <td>0</td>\n",
       "      <td>0</td>\n",
       "      <td>0</td>\n",
       "      <td>-26</td>\n",
       "      <td>2</td>\n",
       "    </tr>\n",
       "  </tbody>\n",
       "</table>\n",
       "</div>"
      ],
      "text/plain": [
       "   DAYS_BIRTH  family_size  child_num  income_total  DAYS_EMPLOYED  \\\n",
       "0      -13899            2          0      202500.0          -4709   \n",
       "1      -11380            3          1      247500.0          -1540   \n",
       "2      -19087            2          0      450000.0          -4434   \n",
       "3      -15088            2          0      202500.0          -2092   \n",
       "4      -15037            2          0      157500.0          -2105   \n",
       "\n",
       "   work_phone  phone  email  begin_month  credit  \n",
       "0           0      0      0           -6       1  \n",
       "1           0      0      1           -5       1  \n",
       "2           0      1      0          -22       2  \n",
       "3           0      1      0          -37       0  \n",
       "4           0      0      0          -26       2  "
      ]
     },
     "execution_count": 11,
     "metadata": {},
     "output_type": "execute_result"
    }
   ],
   "source": [
    "obj_col_list = train.select_dtypes(exclude='object').columns.tolist()\n",
    "print(obj_col_list)\n",
    "train[obj_col_list].head()"
   ]
  },
  {
   "cell_type": "markdown",
   "id": "e8d84905-ef20-4077-9f75-d575ed3fb8fa",
   "metadata": {
    "tags": []
   },
   "source": [
    "## 아웃라이어 (Outlier) : 이상치\n",
    "* child_num   :  14(3), 19(1)\n",
    "* family_size :  15(3), 20(1)\n",
    "\n",
    "<pre>\n",
    "train = train.drop( ['c1', 'c2'] , axis=1)\n",
    "train = train.drop( [idx1, idx2] , axis=0)"
   ]
  },
  {
   "cell_type": "code",
   "execution_count": 12,
   "id": "520f4015-82c6-4fd1-9c3c-50742c509613",
   "metadata": {},
   "outputs": [
    {
     "data": {
      "text/html": [
       "<div>\n",
       "<style scoped>\n",
       "    .dataframe tbody tr th:only-of-type {\n",
       "        vertical-align: middle;\n",
       "    }\n",
       "\n",
       "    .dataframe tbody tr th {\n",
       "        vertical-align: top;\n",
       "    }\n",
       "\n",
       "    .dataframe thead th {\n",
       "        text-align: right;\n",
       "    }\n",
       "</style>\n",
       "<table border=\"1\" class=\"dataframe\">\n",
       "  <thead>\n",
       "    <tr style=\"text-align: right;\">\n",
       "      <th></th>\n",
       "      <th>DAYS_BIRTH</th>\n",
       "      <th>family_size</th>\n",
       "      <th>child_num</th>\n",
       "      <th>income_total</th>\n",
       "      <th>DAYS_EMPLOYED</th>\n",
       "      <th>work_phone</th>\n",
       "      <th>phone</th>\n",
       "      <th>email</th>\n",
       "      <th>begin_month</th>\n",
       "      <th>credit</th>\n",
       "    </tr>\n",
       "  </thead>\n",
       "  <tbody>\n",
       "    <tr>\n",
       "      <th>count</th>\n",
       "      <td>26457.000000</td>\n",
       "      <td>26457.000000</td>\n",
       "      <td>26457.000000</td>\n",
       "      <td>2.645700e+04</td>\n",
       "      <td>26457.000000</td>\n",
       "      <td>26457.000000</td>\n",
       "      <td>26457.000000</td>\n",
       "      <td>26457.000000</td>\n",
       "      <td>26457.000000</td>\n",
       "      <td>26457.000000</td>\n",
       "    </tr>\n",
       "    <tr>\n",
       "      <th>mean</th>\n",
       "      <td>-15958.053899</td>\n",
       "      <td>2.196848</td>\n",
       "      <td>0.428658</td>\n",
       "      <td>1.873065e+05</td>\n",
       "      <td>59068.750728</td>\n",
       "      <td>0.224742</td>\n",
       "      <td>0.294251</td>\n",
       "      <td>0.091280</td>\n",
       "      <td>-26.123294</td>\n",
       "      <td>1.519560</td>\n",
       "    </tr>\n",
       "    <tr>\n",
       "      <th>std</th>\n",
       "      <td>4201.589022</td>\n",
       "      <td>0.916717</td>\n",
       "      <td>0.747326</td>\n",
       "      <td>1.018784e+05</td>\n",
       "      <td>137475.427503</td>\n",
       "      <td>0.417420</td>\n",
       "      <td>0.455714</td>\n",
       "      <td>0.288013</td>\n",
       "      <td>16.559550</td>\n",
       "      <td>0.702283</td>\n",
       "    </tr>\n",
       "    <tr>\n",
       "      <th>min</th>\n",
       "      <td>-25152.000000</td>\n",
       "      <td>1.000000</td>\n",
       "      <td>0.000000</td>\n",
       "      <td>2.700000e+04</td>\n",
       "      <td>-15713.000000</td>\n",
       "      <td>0.000000</td>\n",
       "      <td>0.000000</td>\n",
       "      <td>0.000000</td>\n",
       "      <td>-60.000000</td>\n",
       "      <td>0.000000</td>\n",
       "    </tr>\n",
       "    <tr>\n",
       "      <th>25%</th>\n",
       "      <td>-19431.000000</td>\n",
       "      <td>2.000000</td>\n",
       "      <td>0.000000</td>\n",
       "      <td>1.215000e+05</td>\n",
       "      <td>-3153.000000</td>\n",
       "      <td>0.000000</td>\n",
       "      <td>0.000000</td>\n",
       "      <td>0.000000</td>\n",
       "      <td>-39.000000</td>\n",
       "      <td>1.000000</td>\n",
       "    </tr>\n",
       "    <tr>\n",
       "      <th>50%</th>\n",
       "      <td>-15547.000000</td>\n",
       "      <td>2.000000</td>\n",
       "      <td>0.000000</td>\n",
       "      <td>1.575000e+05</td>\n",
       "      <td>-1539.000000</td>\n",
       "      <td>0.000000</td>\n",
       "      <td>0.000000</td>\n",
       "      <td>0.000000</td>\n",
       "      <td>-24.000000</td>\n",
       "      <td>2.000000</td>\n",
       "    </tr>\n",
       "    <tr>\n",
       "      <th>75%</th>\n",
       "      <td>-12446.000000</td>\n",
       "      <td>3.000000</td>\n",
       "      <td>1.000000</td>\n",
       "      <td>2.250000e+05</td>\n",
       "      <td>-407.000000</td>\n",
       "      <td>0.000000</td>\n",
       "      <td>1.000000</td>\n",
       "      <td>0.000000</td>\n",
       "      <td>-12.000000</td>\n",
       "      <td>2.000000</td>\n",
       "    </tr>\n",
       "    <tr>\n",
       "      <th>max</th>\n",
       "      <td>-7705.000000</td>\n",
       "      <td>20.000000</td>\n",
       "      <td>19.000000</td>\n",
       "      <td>1.575000e+06</td>\n",
       "      <td>365243.000000</td>\n",
       "      <td>1.000000</td>\n",
       "      <td>1.000000</td>\n",
       "      <td>1.000000</td>\n",
       "      <td>0.000000</td>\n",
       "      <td>2.000000</td>\n",
       "    </tr>\n",
       "  </tbody>\n",
       "</table>\n",
       "</div>"
      ],
      "text/plain": [
       "         DAYS_BIRTH   family_size     child_num  income_total  DAYS_EMPLOYED  \\\n",
       "count  26457.000000  26457.000000  26457.000000  2.645700e+04   26457.000000   \n",
       "mean  -15958.053899      2.196848      0.428658  1.873065e+05   59068.750728   \n",
       "std     4201.589022      0.916717      0.747326  1.018784e+05  137475.427503   \n",
       "min   -25152.000000      1.000000      0.000000  2.700000e+04  -15713.000000   \n",
       "25%   -19431.000000      2.000000      0.000000  1.215000e+05   -3153.000000   \n",
       "50%   -15547.000000      2.000000      0.000000  1.575000e+05   -1539.000000   \n",
       "75%   -12446.000000      3.000000      1.000000  2.250000e+05    -407.000000   \n",
       "max    -7705.000000     20.000000     19.000000  1.575000e+06  365243.000000   \n",
       "\n",
       "         work_phone         phone         email   begin_month        credit  \n",
       "count  26457.000000  26457.000000  26457.000000  26457.000000  26457.000000  \n",
       "mean       0.224742      0.294251      0.091280    -26.123294      1.519560  \n",
       "std        0.417420      0.455714      0.288013     16.559550      0.702283  \n",
       "min        0.000000      0.000000      0.000000    -60.000000      0.000000  \n",
       "25%        0.000000      0.000000      0.000000    -39.000000      1.000000  \n",
       "50%        0.000000      0.000000      0.000000    -24.000000      2.000000  \n",
       "75%        0.000000      1.000000      0.000000    -12.000000      2.000000  \n",
       "max        1.000000      1.000000      1.000000      0.000000      2.000000  "
      ]
     },
     "execution_count": 12,
     "metadata": {},
     "output_type": "execute_result"
    }
   ],
   "source": [
    "train[obj_col_list].describe()"
   ]
  },
  {
   "cell_type": "code",
   "execution_count": 13,
   "id": "e35b90a3-ab36-40c1-bb8d-eaf66d8f2704",
   "metadata": {},
   "outputs": [
    {
     "data": {
      "text/html": [
       "<div>\n",
       "<style scoped>\n",
       "    .dataframe tbody tr th:only-of-type {\n",
       "        vertical-align: middle;\n",
       "    }\n",
       "\n",
       "    .dataframe tbody tr th {\n",
       "        vertical-align: top;\n",
       "    }\n",
       "\n",
       "    .dataframe thead th {\n",
       "        text-align: right;\n",
       "    }\n",
       "</style>\n",
       "<table border=\"1\" class=\"dataframe\">\n",
       "  <thead>\n",
       "    <tr style=\"text-align: right;\">\n",
       "      <th></th>\n",
       "      <th>child_num</th>\n",
       "      <th>family_size</th>\n",
       "    </tr>\n",
       "  </thead>\n",
       "  <tbody>\n",
       "    <tr>\n",
       "      <th>8462</th>\n",
       "      <td>14</td>\n",
       "      <td>15</td>\n",
       "    </tr>\n",
       "    <tr>\n",
       "      <th>9021</th>\n",
       "      <td>14</td>\n",
       "      <td>15</td>\n",
       "    </tr>\n",
       "    <tr>\n",
       "      <th>10731</th>\n",
       "      <td>19</td>\n",
       "      <td>20</td>\n",
       "    </tr>\n",
       "    <tr>\n",
       "      <th>25390</th>\n",
       "      <td>14</td>\n",
       "      <td>15</td>\n",
       "    </tr>\n",
       "  </tbody>\n",
       "</table>\n",
       "</div>"
      ],
      "text/plain": [
       "       child_num  family_size\n",
       "8462          14           15\n",
       "9021          14           15\n",
       "10731         19           20\n",
       "25390         14           15"
      ]
     },
     "execution_count": 13,
     "metadata": {},
     "output_type": "execute_result"
    }
   ],
   "source": [
    "train[train['child_num']>=14][['child_num','family_size']]"
   ]
  },
  {
   "cell_type": "code",
   "execution_count": 14,
   "id": "678b4a42-48fc-44c2-896d-ec0dc2e9d2a7",
   "metadata": {},
   "outputs": [
    {
     "data": {
      "text/plain": [
       "(26457, 18)"
      ]
     },
     "execution_count": 14,
     "metadata": {},
     "output_type": "execute_result"
    }
   ],
   "source": [
    "train.shape"
   ]
  },
  {
   "cell_type": "code",
   "execution_count": 15,
   "id": "7a8a7cae-9768-416f-b7c7-70554d4c620c",
   "metadata": {},
   "outputs": [
    {
     "name": "stdout",
     "output_type": "stream",
     "text": [
      "Int64Index([8462, 9021, 10731, 25390], dtype='int64')\n"
     ]
    }
   ],
   "source": [
    "# train = train.drop( [8462, 9021, 10731, 25390] , axis=0)\n",
    "drop_idx = train[train['child_num']>=14][['child_num','family_size']].index\n",
    "print(drop_idx)\n",
    "train = train.drop( drop_idx , axis=0)"
   ]
  },
  {
   "cell_type": "code",
   "execution_count": 16,
   "id": "e9fe677f-3f96-47f4-8ea0-2997a724c995",
   "metadata": {},
   "outputs": [
    {
     "data": {
      "text/plain": [
       "(26453, 18)"
      ]
     },
     "execution_count": 16,
     "metadata": {},
     "output_type": "execute_result"
    }
   ],
   "source": [
    "train.shape"
   ]
  },
  {
   "cell_type": "markdown",
   "id": "966f5971-66fa-4dd2-82ce-d07e0a304801",
   "metadata": {
    "tags": []
   },
   "source": [
    "# 가공"
   ]
  },
  {
   "cell_type": "markdown",
   "id": "e7cad9ff-0376-4954-a1ce-236257c72ea7",
   "metadata": {
    "tags": []
   },
   "source": [
    "## 결측처리 \n",
    "* occyp_type이 NaN이다  == 일하는중_YN(0) == DAYS_EMPLOYED가 양수다"
   ]
  },
  {
   "cell_type": "code",
   "execution_count": 17,
   "id": "3899da79-fad6-49bb-b5dd-1ddf069a974a",
   "metadata": {},
   "outputs": [
    {
     "data": {
      "text/plain": [
       "8171"
      ]
     },
     "execution_count": 17,
     "metadata": {},
     "output_type": "execute_result"
    }
   ],
   "source": [
    "train['occyp_type'].isna().sum()"
   ]
  },
  {
   "cell_type": "markdown",
   "id": "d92e66d4-d269-4420-966b-3f72b692834a",
   "metadata": {},
   "source": [
    "* 신규 컬럼 : 일하는중_YN\n",
    "DAYS_EMPLOYED 양수이면 휴직중이다.\n",
    "\n",
    "<pre>\n",
    "현재 재직중이다 == 일하는중_YN = Y(1)\n",
    "현재 집에있다   == 일하는중_YN = N(0)"
   ]
  },
  {
   "cell_type": "code",
   "execution_count": 18,
   "id": "315d3559-5b5e-4f96-9012-085d9a07b2c9",
   "metadata": {},
   "outputs": [],
   "source": [
    "train['일하는중_YN'] = train['DAYS_EMPLOYED'].apply(lambda x : 0 if x > 0 else 1)"
   ]
  },
  {
   "cell_type": "code",
   "execution_count": 19,
   "id": "312a6360-0041-4ad5-bed1-a1359b30aca4",
   "metadata": {},
   "outputs": [
    {
     "data": {
      "text/plain": [
       "1    22015\n",
       "0     4438\n",
       "Name: 일하는중_YN, dtype: int64"
      ]
     },
     "execution_count": 19,
     "metadata": {},
     "output_type": "execute_result"
    }
   ],
   "source": [
    "train['일하는중_YN'].value_counts()"
   ]
  },
  {
   "cell_type": "code",
   "execution_count": 20,
   "id": "a09bd8dc-aa80-4e13-a402-62a2d10d7acd",
   "metadata": {},
   "outputs": [
    {
     "data": {
      "text/html": [
       "<div>\n",
       "<style scoped>\n",
       "    .dataframe tbody tr th:only-of-type {\n",
       "        vertical-align: middle;\n",
       "    }\n",
       "\n",
       "    .dataframe tbody tr th {\n",
       "        vertical-align: top;\n",
       "    }\n",
       "\n",
       "    .dataframe thead th {\n",
       "        text-align: right;\n",
       "    }\n",
       "</style>\n",
       "<table border=\"1\" class=\"dataframe\">\n",
       "  <thead>\n",
       "    <tr style=\"text-align: right;\">\n",
       "      <th>일하는중_YN</th>\n",
       "      <th>1</th>\n",
       "    </tr>\n",
       "    <tr>\n",
       "      <th>occyp_type</th>\n",
       "      <th></th>\n",
       "    </tr>\n",
       "  </thead>\n",
       "  <tbody>\n",
       "    <tr>\n",
       "      <th>Accountants</th>\n",
       "      <td>902</td>\n",
       "    </tr>\n",
       "    <tr>\n",
       "      <th>Cleaning staff</th>\n",
       "      <td>403</td>\n",
       "    </tr>\n",
       "    <tr>\n",
       "      <th>Cooking staff</th>\n",
       "      <td>457</td>\n",
       "    </tr>\n",
       "    <tr>\n",
       "      <th>Core staff</th>\n",
       "      <td>2646</td>\n",
       "    </tr>\n",
       "    <tr>\n",
       "      <th>Drivers</th>\n",
       "      <td>1572</td>\n",
       "    </tr>\n",
       "  </tbody>\n",
       "</table>\n",
       "</div>"
      ],
      "text/plain": [
       "일하는중_YN            1\n",
       "occyp_type          \n",
       "Accountants      902\n",
       "Cleaning staff   403\n",
       "Cooking staff    457\n",
       "Core staff      2646\n",
       "Drivers         1572"
      ]
     },
     "execution_count": 20,
     "metadata": {},
     "output_type": "execute_result"
    }
   ],
   "source": [
    "pd.crosstab(train['occyp_type'], train['일하는중_YN'] ).head()"
   ]
  },
  {
   "cell_type": "markdown",
   "id": "c94fc683-dac2-4559-bd58-8709132b620a",
   "metadata": {},
   "source": [
    "* 일을하고 있는데도 occyp_type이 널인경우 == 최빈도"
   ]
  },
  {
   "cell_type": "code",
   "execution_count": 21,
   "id": "a2849efa-ccd7-43df-b204-94beb38ef39b",
   "metadata": {},
   "outputs": [
    {
     "data": {
      "text/plain": [
       "Int64Index([    0,     8,    19,    20,    23,    27,    49,    54,    72,\n",
       "               76,\n",
       "            ...\n",
       "            26419, 26420, 26424, 26426, 26430, 26433, 26435, 26437, 26449,\n",
       "            26453],\n",
       "           dtype='int64', length=3733)"
      ]
     },
     "execution_count": 21,
     "metadata": {},
     "output_type": "execute_result"
    }
   ],
   "source": [
    "idx = train[(train['일하는중_YN']==1) & (train['occyp_type'].isna()==True) ]['occyp_type'].index\n",
    "idx"
   ]
  },
  {
   "cell_type": "code",
   "execution_count": 22,
   "id": "53d0b225-0762-4e9a-a810-1f8306f1e017",
   "metadata": {},
   "outputs": [],
   "source": [
    "train.loc[idx, 'occyp_type'] = 'Laborers'"
   ]
  },
  {
   "cell_type": "markdown",
   "id": "27b38a22-1e12-4511-a3ce-ead353fede9c",
   "metadata": {},
   "source": [
    "* 정말로 일을 안하고 있어서  occyp_type이 널인경우 == 백수('')"
   ]
  },
  {
   "cell_type": "code",
   "execution_count": 23,
   "id": "0554317f-9887-4ef1-856d-b10d55d208ea",
   "metadata": {},
   "outputs": [
    {
     "data": {
      "text/plain": [
       "14    NaN\n",
       "18    NaN\n",
       "21    NaN\n",
       "24    NaN\n",
       "46    NaN\n",
       "Name: occyp_type, dtype: object"
      ]
     },
     "execution_count": 23,
     "metadata": {},
     "output_type": "execute_result"
    }
   ],
   "source": [
    "train[train['일하는중_YN']==0]['occyp_type'][:5]"
   ]
  },
  {
   "cell_type": "code",
   "execution_count": 24,
   "id": "85229af2-4677-4c71-bb3a-b989435218dd",
   "metadata": {},
   "outputs": [],
   "source": [
    "train['occyp_type'].fillna('', inplace=True)"
   ]
  },
  {
   "cell_type": "code",
   "execution_count": 25,
   "id": "fb9f3616-a23d-4412-9977-59d75bf66266",
   "metadata": {},
   "outputs": [
    {
     "data": {
      "text/plain": [
       "0"
      ]
     },
     "execution_count": 25,
     "metadata": {},
     "output_type": "execute_result"
    }
   ],
   "source": [
    "train['occyp_type'].isna().sum()"
   ]
  },
  {
   "cell_type": "markdown",
   "id": "70e95616-8c1d-4e7d-8f25-b32b8da948ec",
   "metadata": {
    "tags": []
   },
   "source": [
    "## 카테고리화 \n",
    "* 8개 피쳐 == 인코딩 (글자 --> 숫자)\n",
    "<pre>\n",
    "object   binary  : ['gender', 'car', 'reality']\n",
    "object   multi   : ['income_type', 'edu_type', 'family_type', 'house_type', 'occyp_type']"
   ]
  },
  {
   "cell_type": "markdown",
   "id": "0305226b-604d-4d26-b574-fe8356eb1b64",
   "metadata": {},
   "source": [
    "* get_dummies() 대상 선정 : 점수 봐가면서 결정"
   ]
  },
  {
   "cell_type": "code",
   "execution_count": 26,
   "id": "fbd402e7-9f4c-4e1f-8f7c-6f677c836b33",
   "metadata": {},
   "outputs": [],
   "source": [
    "# multi_cols = ['income_type', 'edu_type', 'family_type', 'house_type', 'occyp_type']\n",
    "# for col in multi_cols:\n",
    "#     print(col, train[col].nunique())"
   ]
  },
  {
   "cell_type": "markdown",
   "id": "f47229d3-ad66-4963-8e19-8e962af0ac8c",
   "metadata": {},
   "source": [
    "* 글자 --> 숫자\n",
    "<pre>\n",
    "dict = {\"F\":1, \"M\":0}\n",
    "train[\"gender\"] = train[\"gender\"].map(dict)"
   ]
  },
  {
   "cell_type": "code",
   "execution_count": 27,
   "id": "ca6d056c-b269-4cdb-8cdb-37b262eba228",
   "metadata": {},
   "outputs": [
    {
     "name": "stdout",
     "output_type": "stream",
     "text": [
      "['gender', 'car', 'reality', 'income_type', 'edu_type', 'family_type', 'house_type', 'occyp_type']\n"
     ]
    }
   ],
   "source": [
    "col_list = ['gender', 'car', 'reality'] + ['income_type', 'edu_type', 'family_type', 'house_type', 'occyp_type']\n",
    "print(col_list)\n",
    "\n",
    "for col in col_list:\n",
    "    arr = train[col].unique()\n",
    "    dict = {}\n",
    "    for i, key in enumerate(arr):  #['F' 'M']\n",
    "        dict[key] = i\n",
    "    #print(dict)\n",
    "    train[col] = train[col].map(dict)"
   ]
  },
  {
   "cell_type": "code",
   "execution_count": 28,
   "id": "e742fd52-7608-4929-8dd3-cde6cd980cfa",
   "metadata": {},
   "outputs": [
    {
     "data": {
      "text/html": [
       "<div>\n",
       "<style scoped>\n",
       "    .dataframe tbody tr th:only-of-type {\n",
       "        vertical-align: middle;\n",
       "    }\n",
       "\n",
       "    .dataframe tbody tr th {\n",
       "        vertical-align: top;\n",
       "    }\n",
       "\n",
       "    .dataframe thead th {\n",
       "        text-align: right;\n",
       "    }\n",
       "</style>\n",
       "<table border=\"1\" class=\"dataframe\">\n",
       "  <thead>\n",
       "    <tr style=\"text-align: right;\">\n",
       "      <th></th>\n",
       "      <th>gender</th>\n",
       "      <th>DAYS_BIRTH</th>\n",
       "      <th>car</th>\n",
       "      <th>reality</th>\n",
       "      <th>occyp_type</th>\n",
       "      <th>family_size</th>\n",
       "      <th>child_num</th>\n",
       "      <th>income_total</th>\n",
       "      <th>income_type</th>\n",
       "      <th>edu_type</th>\n",
       "      <th>family_type</th>\n",
       "      <th>house_type</th>\n",
       "      <th>DAYS_EMPLOYED</th>\n",
       "      <th>work_phone</th>\n",
       "      <th>phone</th>\n",
       "      <th>email</th>\n",
       "      <th>begin_month</th>\n",
       "      <th>credit</th>\n",
       "      <th>일하는중_YN</th>\n",
       "    </tr>\n",
       "  </thead>\n",
       "  <tbody>\n",
       "    <tr>\n",
       "      <th>0</th>\n",
       "      <td>0</td>\n",
       "      <td>-13899</td>\n",
       "      <td>0</td>\n",
       "      <td>0</td>\n",
       "      <td>0</td>\n",
       "      <td>2</td>\n",
       "      <td>0</td>\n",
       "      <td>202500.0</td>\n",
       "      <td>0</td>\n",
       "      <td>0</td>\n",
       "      <td>0</td>\n",
       "      <td>0</td>\n",
       "      <td>-4709</td>\n",
       "      <td>0</td>\n",
       "      <td>0</td>\n",
       "      <td>0</td>\n",
       "      <td>-6</td>\n",
       "      <td>1</td>\n",
       "      <td>1</td>\n",
       "    </tr>\n",
       "  </tbody>\n",
       "</table>\n",
       "</div>"
      ],
      "text/plain": [
       "   gender  DAYS_BIRTH  car  reality  occyp_type  family_size  child_num  \\\n",
       "0       0      -13899    0        0           0            2          0   \n",
       "\n",
       "   income_total  income_type  edu_type  family_type  house_type  \\\n",
       "0      202500.0            0         0            0           0   \n",
       "\n",
       "   DAYS_EMPLOYED  work_phone  phone  email  begin_month  credit  일하는중_YN  \n",
       "0          -4709           0      0      0           -6       1        1  "
      ]
     },
     "execution_count": 28,
     "metadata": {},
     "output_type": "execute_result"
    }
   ],
   "source": [
    "train.head(1)"
   ]
  },
  {
   "cell_type": "markdown",
   "id": "a85d084d-8b5e-4512-bd7d-eff5a6cad08a",
   "metadata": {
    "tags": []
   },
   "source": [
    "# 우선 점수부터 보자(1차 점수)\n",
    "* 결측   XX\n",
    "* object XX"
   ]
  },
  {
   "cell_type": "code",
   "execution_count": 29,
   "id": "d7dd6acf-9eba-48c5-b53f-6d632cde50f8",
   "metadata": {},
   "outputs": [],
   "source": [
    "def my_score(y_test, pred):\n",
    "    report = classification_report(y_test, pred)\n",
    "    print(report)\n",
    "    # [None, 'micro', 'macro', 'weighted'].\n",
    "    accuracy = accuracy_score(y_test, pred)\n",
    "    precision = precision_score(y_test, pred, average='macro')\n",
    "    recall = recall_score(y_test, pred,       average='macro')\n",
    "    f1 = f1_score(y_test, pred,               average='macro')\n",
    "    print(f\"정확도{accuracy:.4f}  정밀도{precision:.4f}  재현률{recall:.4f}  f1{f1:.4f}\")"
   ]
  },
  {
   "cell_type": "code",
   "execution_count": 30,
   "id": "cb7d3c4c-0e82-4273-aa74-d60c857ca35e",
   "metadata": {},
   "outputs": [],
   "source": [
    "def my_fit_score(train, target=\"credit\"):\n",
    "    model_list = [RandomForestClassifier(n_estimators=100, random_state=1234) ,\n",
    "                  LogisticRegression(penalty=\"l2\", random_state=1234),\n",
    "              #KNeighborsClassifier(),\n",
    "              #DecisionTreeClassifier(),\n",
    "              #LinearSVC()\n",
    "             ]\n",
    "    \n",
    "    y = train[target]\n",
    "    X = train.drop([target], axis=1)\n",
    "\n",
    "    X_train,X_test, y_train, y_test = train_test_split(X, y, \n",
    "                                                   test_size=0.2,\n",
    "                                                    random_state=1234,\n",
    "                                                    shuffle=True\n",
    "                                                      )\n",
    "    for model in model_list:\n",
    "        model.fit(X_train, y_train)  #---학습해라\n",
    "        pred = model.predict(X_test)\n",
    "        #acc_score = accuracy_score(y_test, pred)\n",
    "        print(f\"{model.__class__.__name__}\")\n",
    "        \n",
    "        my_score(y_test, pred)\n",
    "        \n",
    "        #---------------- 피쳐 중요도 (tree 모델에서만 사용 가능) -------------\n",
    "        # plt.figure(figsize=(12,3))\n",
    "        # plt.xticks(rotation=90)\n",
    "        # plt.bar(X.columns, model.feature_importances_)\n",
    "        "
   ]
  },
  {
   "cell_type": "code",
   "execution_count": 31,
   "id": "2333e889-dc97-4640-a180-48d0165f214f",
   "metadata": {},
   "outputs": [
    {
     "name": "stdout",
     "output_type": "stream",
     "text": [
      "RandomForestClassifier\n",
      "              precision    recall  f1-score   support\n",
      "\n",
      "           0       0.45      0.30      0.36       618\n",
      "           1       0.59      0.45      0.51      1287\n",
      "           2       0.75      0.87      0.81      3386\n",
      "\n",
      "    accuracy                           0.70      5291\n",
      "   macro avg       0.60      0.54      0.56      5291\n",
      "weighted avg       0.68      0.70      0.68      5291\n",
      "\n",
      "정확도0.6993  정밀도0.5991  재현률0.5378  f10.5583\n",
      "LogisticRegression\n",
      "              precision    recall  f1-score   support\n",
      "\n",
      "           0       0.00      0.00      0.00       618\n",
      "           1       0.00      0.00      0.00      1287\n",
      "           2       0.64      1.00      0.78      3386\n",
      "\n",
      "    accuracy                           0.64      5291\n",
      "   macro avg       0.21      0.33      0.26      5291\n",
      "weighted avg       0.41      0.64      0.50      5291\n",
      "\n",
      "정확도0.6400  정밀도0.2133  재현률0.3333  f10.2602\n"
     ]
    }
   ],
   "source": [
    "my_fit_score(train)"
   ]
  },
  {
   "cell_type": "code",
   "execution_count": 32,
   "id": "1f4a8af5-988c-46a9-a9f6-a3f6ffb05a1c",
   "metadata": {},
   "outputs": [
    {
     "name": "stdout",
     "output_type": "stream",
     "text": [
      "Index(['child_num', 'family_size', 'DAYS_BIRTH', '일하는중_YN', 'car'], dtype='object')\n"
     ]
    },
    {
     "data": {
      "image/png": "[encoded data removed]",
      "text/plain": [
       "<Figure size 1152x720 with 2 Axes>"
      ]
     },
     "metadata": {},
     "output_type": "display_data"
    }
   ],
   "source": [
    "plt.figure(figsize=(16,10))  #nlargest, nsmallest \n",
    "sns.heatmap(train.corr(), cmap='Blues' , annot=True, fmt=\".2f\")\n",
    "print(train.corr().nlargest(5, 'child_num').index)"
   ]
  },
  {
   "cell_type": "markdown",
   "id": "2139468a-040c-4eb3-ba41-6311f6b66d33",
   "metadata": {},
   "source": [
    "# 본격적 가공"
   ]
  },
  {
   "cell_type": "markdown",
   "id": "60c9370b-ef90-4e97-b252-79fddf888743",
   "metadata": {},
   "source": [
    "<pre>\n",
    "* 피쳐중요도(1회 학습 후 진행) -- 가공\n",
    "-----------------------------------------------\n",
    "* 전진선택 후진소거 -- 피쳐상관도 -- \n",
    "\n",
    "* 수입 --- log스케일링, 구간화\n",
    "* FLAG_MOBIL  : 단일값\n",
    "\n",
    "* 무직 - 고용일수-년 331557 -- 0\n",
    "* ------------- CAR + REALITY = 재산 1 1 = 2\n",
    "* income_total < 1y : 고용일수 -- 일계산  yy..mm..w.. q,s\n",
    "* 직업 DEGREE - CAR 결측처리 ???\n",
    "\n",
    "\n",
    "* 수입 / 나 .. 가족구성원   생활비--소득격차 ****\n",
    "* uniq.ID ***\n",
    "* 태어나날  + 고용일수  -- day..weight  rate\n",
    "* 고용일수/ 수입 - ..rate\n"
   ]
  },
  {
   "cell_type": "markdown",
   "id": "fbca4fa3-8ce2-4635-b23f-ea8796d6f364",
   "metadata": {},
   "source": [
    "## 자율적 분석"
   ]
  },
  {
   "cell_type": "code",
   "execution_count": 33,
   "id": "a3f46e62-2e6c-441b-a3fa-e667b0f161d0",
   "metadata": {},
   "outputs": [
    {
     "data": {
      "text/html": [
       "<div>\n",
       "<style scoped>\n",
       "    .dataframe tbody tr th:only-of-type {\n",
       "        vertical-align: middle;\n",
       "    }\n",
       "\n",
       "    .dataframe tbody tr th {\n",
       "        vertical-align: top;\n",
       "    }\n",
       "\n",
       "    .dataframe thead th {\n",
       "        text-align: right;\n",
       "    }\n",
       "</style>\n",
       "<table border=\"1\" class=\"dataframe\">\n",
       "  <thead>\n",
       "    <tr style=\"text-align: right;\">\n",
       "      <th></th>\n",
       "      <th>DAYS_BIRTH</th>\n",
       "      <th>DAYS_EMPLOYED</th>\n",
       "      <th>income_total</th>\n",
       "    </tr>\n",
       "  </thead>\n",
       "  <tbody>\n",
       "    <tr>\n",
       "      <th>count</th>\n",
       "      <td>4438.000000</td>\n",
       "      <td>4438.0</td>\n",
       "      <td>4438.000000</td>\n",
       "    </tr>\n",
       "    <tr>\n",
       "      <th>mean</th>\n",
       "      <td>-21769.383281</td>\n",
       "      <td>365243.0</td>\n",
       "      <td>149593.424966</td>\n",
       "    </tr>\n",
       "    <tr>\n",
       "      <th>std</th>\n",
       "      <td>1905.690033</td>\n",
       "      <td>0.0</td>\n",
       "      <td>77498.170281</td>\n",
       "    </tr>\n",
       "    <tr>\n",
       "      <th>min</th>\n",
       "      <td>-25152.000000</td>\n",
       "      <td>365243.0</td>\n",
       "      <td>29250.000000</td>\n",
       "    </tr>\n",
       "    <tr>\n",
       "      <th>25%</th>\n",
       "      <td>-23054.500000</td>\n",
       "      <td>365243.0</td>\n",
       "      <td>94500.000000</td>\n",
       "    </tr>\n",
       "    <tr>\n",
       "      <th>50%</th>\n",
       "      <td>-21943.500000</td>\n",
       "      <td>365243.0</td>\n",
       "      <td>135000.000000</td>\n",
       "    </tr>\n",
       "    <tr>\n",
       "      <th>75%</th>\n",
       "      <td>-20858.250000</td>\n",
       "      <td>365243.0</td>\n",
       "      <td>180000.000000</td>\n",
       "    </tr>\n",
       "    <tr>\n",
       "      <th>max</th>\n",
       "      <td>-8145.000000</td>\n",
       "      <td>365243.0</td>\n",
       "      <td>742500.000000</td>\n",
       "    </tr>\n",
       "  </tbody>\n",
       "</table>\n",
       "</div>"
      ],
      "text/plain": [
       "         DAYS_BIRTH  DAYS_EMPLOYED   income_total\n",
       "count   4438.000000         4438.0    4438.000000\n",
       "mean  -21769.383281       365243.0  149593.424966\n",
       "std     1905.690033            0.0   77498.170281\n",
       "min   -25152.000000       365243.0   29250.000000\n",
       "25%   -23054.500000       365243.0   94500.000000\n",
       "50%   -21943.500000       365243.0  135000.000000\n",
       "75%   -20858.250000       365243.0  180000.000000\n",
       "max    -8145.000000       365243.0  742500.000000"
      ]
     },
     "execution_count": 33,
     "metadata": {},
     "output_type": "execute_result"
    }
   ],
   "source": [
    "train[train['DAYS_EMPLOYED']>0][['DAYS_BIRTH','DAYS_EMPLOYED', 'income_total']].describe()"
   ]
  },
  {
   "cell_type": "code",
   "execution_count": 34,
   "id": "724d4626-e8b2-4d2f-aecb-5054ed475740",
   "metadata": {},
   "outputs": [
    {
     "data": {
      "text/html": [
       "<div>\n",
       "<style scoped>\n",
       "    .dataframe tbody tr th:only-of-type {\n",
       "        vertical-align: middle;\n",
       "    }\n",
       "\n",
       "    .dataframe tbody tr th {\n",
       "        vertical-align: top;\n",
       "    }\n",
       "\n",
       "    .dataframe thead th {\n",
       "        text-align: right;\n",
       "    }\n",
       "</style>\n",
       "<table border=\"1\" class=\"dataframe\">\n",
       "  <thead>\n",
       "    <tr style=\"text-align: right;\">\n",
       "      <th>child_num</th>\n",
       "      <th>0</th>\n",
       "      <th>1</th>\n",
       "      <th>2</th>\n",
       "      <th>3</th>\n",
       "      <th>4</th>\n",
       "      <th>5</th>\n",
       "      <th>7</th>\n",
       "    </tr>\n",
       "    <tr>\n",
       "      <th>family_size</th>\n",
       "      <th></th>\n",
       "      <th></th>\n",
       "      <th></th>\n",
       "      <th></th>\n",
       "      <th></th>\n",
       "      <th></th>\n",
       "      <th></th>\n",
       "    </tr>\n",
       "  </thead>\n",
       "  <tbody>\n",
       "    <tr>\n",
       "      <th>1</th>\n",
       "      <td>5103</td>\n",
       "      <td>5</td>\n",
       "      <td>1</td>\n",
       "      <td>0</td>\n",
       "      <td>0</td>\n",
       "      <td>0</td>\n",
       "      <td>0</td>\n",
       "    </tr>\n",
       "    <tr>\n",
       "      <th>2</th>\n",
       "      <td>13237</td>\n",
       "      <td>869</td>\n",
       "      <td>0</td>\n",
       "      <td>0</td>\n",
       "      <td>0</td>\n",
       "      <td>0</td>\n",
       "      <td>0</td>\n",
       "    </tr>\n",
       "    <tr>\n",
       "      <th>3</th>\n",
       "      <td>0</td>\n",
       "      <td>4512</td>\n",
       "      <td>120</td>\n",
       "      <td>0</td>\n",
       "      <td>0</td>\n",
       "      <td>0</td>\n",
       "      <td>0</td>\n",
       "    </tr>\n",
       "    <tr>\n",
       "      <th>4</th>\n",
       "      <td>0</td>\n",
       "      <td>0</td>\n",
       "      <td>2241</td>\n",
       "      <td>19</td>\n",
       "      <td>0</td>\n",
       "      <td>0</td>\n",
       "      <td>0</td>\n",
       "    </tr>\n",
       "    <tr>\n",
       "      <th>5</th>\n",
       "      <td>0</td>\n",
       "      <td>0</td>\n",
       "      <td>0</td>\n",
       "      <td>287</td>\n",
       "      <td>4</td>\n",
       "      <td>0</td>\n",
       "      <td>0</td>\n",
       "    </tr>\n",
       "    <tr>\n",
       "      <th>6</th>\n",
       "      <td>0</td>\n",
       "      <td>0</td>\n",
       "      <td>0</td>\n",
       "      <td>0</td>\n",
       "      <td>43</td>\n",
       "      <td>1</td>\n",
       "      <td>0</td>\n",
       "    </tr>\n",
       "    <tr>\n",
       "      <th>7</th>\n",
       "      <td>0</td>\n",
       "      <td>0</td>\n",
       "      <td>0</td>\n",
       "      <td>0</td>\n",
       "      <td>0</td>\n",
       "      <td>9</td>\n",
       "      <td>0</td>\n",
       "    </tr>\n",
       "    <tr>\n",
       "      <th>9</th>\n",
       "      <td>0</td>\n",
       "      <td>0</td>\n",
       "      <td>0</td>\n",
       "      <td>0</td>\n",
       "      <td>0</td>\n",
       "      <td>0</td>\n",
       "      <td>2</td>\n",
       "    </tr>\n",
       "  </tbody>\n",
       "</table>\n",
       "</div>"
      ],
      "text/plain": [
       "child_num        0     1     2    3   4  5  7\n",
       "family_size                                  \n",
       "1             5103     5     1    0   0  0  0\n",
       "2            13237   869     0    0   0  0  0\n",
       "3                0  4512   120    0   0  0  0\n",
       "4                0     0  2241   19   0  0  0\n",
       "5                0     0     0  287   4  0  0\n",
       "6                0     0     0    0  43  1  0\n",
       "7                0     0     0    0   0  9  0\n",
       "9                0     0     0    0   0  0  2"
      ]
     },
     "execution_count": 34,
     "metadata": {},
     "output_type": "execute_result"
    }
   ],
   "source": [
    "pd.crosstab(train['family_size'],train['child_num'])\n"
   ]
  },
  {
   "cell_type": "code",
   "execution_count": 35,
   "id": "c6da4331-4992-4509-bb09-f3a31c4786a7",
   "metadata": {},
   "outputs": [
    {
     "data": {
      "text/plain": [
       "2    0.120213\n",
       "1    0.049824\n",
       "0    0.022871\n",
       "Name: credit, dtype: float64"
      ]
     },
     "execution_count": 35,
     "metadata": {},
     "output_type": "execute_result"
    }
   ],
   "source": [
    "train.loc[ (train['family_size']==1) & (train['child_num']==0) ,'credit'].value_counts()/train.shape[0]\n",
    "\n",
    "\n",
    "\n",
    "# train.loc[train['child_num']>0 ,'credit'].value_counts()/train.shape[0]\n",
    "# 허강호(중복)님이 모두에게 06:09 PM\n",
    "# train[['child_num','family_size','credit']][(train['family_size']-train['child_num'])==2].value_counts()\n",
    "# train[['child_num','family_size','credit']][(train['family_size']-train['child_num'])==1].value_counts()\n"
   ]
  },
  {
   "cell_type": "code",
   "execution_count": 36,
   "id": "3da04148-0b36-4fa1-8575-4d1984fe77ce",
   "metadata": {},
   "outputs": [
    {
     "data": {
      "text/plain": [
       "2    0.325294\n",
       "1    0.113560\n",
       "0    0.061543\n",
       "Name: credit, dtype: float64"
      ]
     },
     "execution_count": 36,
     "metadata": {},
     "output_type": "execute_result"
    }
   ],
   "source": [
    "train.loc[ (train['family_size']==2) & (train['child_num']==0) ,'credit'].value_counts()/train.shape[0]"
   ]
  },
  {
   "cell_type": "code",
   "execution_count": 37,
   "id": "c4a9285a-24ab-480a-b873-fc871bb3d982",
   "metadata": {},
   "outputs": [
    {
     "data": {
      "text/html": [
       "<div>\n",
       "<style scoped>\n",
       "    .dataframe tbody tr th:only-of-type {\n",
       "        vertical-align: middle;\n",
       "    }\n",
       "\n",
       "    .dataframe tbody tr th {\n",
       "        vertical-align: top;\n",
       "    }\n",
       "\n",
       "    .dataframe thead th {\n",
       "        text-align: right;\n",
       "    }\n",
       "</style>\n",
       "<table border=\"1\" class=\"dataframe\">\n",
       "  <thead>\n",
       "    <tr style=\"text-align: right;\">\n",
       "      <th>child_num</th>\n",
       "      <th>1</th>\n",
       "      <th>2</th>\n",
       "      <th>3</th>\n",
       "      <th>4</th>\n",
       "      <th>5</th>\n",
       "    </tr>\n",
       "    <tr>\n",
       "      <th>credit</th>\n",
       "      <th></th>\n",
       "      <th></th>\n",
       "      <th></th>\n",
       "      <th></th>\n",
       "      <th></th>\n",
       "    </tr>\n",
       "  </thead>\n",
       "  <tbody>\n",
       "    <tr>\n",
       "      <th>0</th>\n",
       "      <td>92</td>\n",
       "      <td>20</td>\n",
       "      <td>3</td>\n",
       "      <td>1</td>\n",
       "      <td>0</td>\n",
       "    </tr>\n",
       "    <tr>\n",
       "      <th>1</th>\n",
       "      <td>245</td>\n",
       "      <td>20</td>\n",
       "      <td>5</td>\n",
       "      <td>0</td>\n",
       "      <td>0</td>\n",
       "    </tr>\n",
       "    <tr>\n",
       "      <th>2</th>\n",
       "      <td>532</td>\n",
       "      <td>80</td>\n",
       "      <td>11</td>\n",
       "      <td>3</td>\n",
       "      <td>1</td>\n",
       "    </tr>\n",
       "  </tbody>\n",
       "</table>\n",
       "</div>"
      ],
      "text/plain": [
       "child_num    1   2   3  4  5\n",
       "credit                      \n",
       "0           92  20   3  1  0\n",
       "1          245  20   5  0  0\n",
       "2          532  80  11  3  1"
      ]
     },
     "execution_count": 37,
     "metadata": {},
     "output_type": "execute_result"
    }
   ],
   "source": [
    "pd.crosstab(train.loc[(train['family_size']-train['child_num']==1) &(train['family_size']!=1) ,'credit'],  \n",
    "            train.loc[train['family_size']-train['child_num']==1 ,'child_num'])\n",
    "\n"
   ]
  },
  {
   "cell_type": "code",
   "execution_count": 38,
   "id": "50496b5e-5d3f-4b17-9251-fcc32a6dab7d",
   "metadata": {},
   "outputs": [
    {
     "data": {
      "text/plain": [
       "child_num  family_size  credit\n",
       "0          2            2         8605\n",
       "                        1         3004\n",
       "1          3            2         2854\n",
       "0          2            0         1628\n",
       "2          4            2         1478\n",
       "1          3            1         1068\n",
       "                        0          590\n",
       "2          4            1          515\n",
       "                        0          248\n",
       "3          5            2          187\n",
       "                        1           74\n",
       "                        0           26\n",
       "4          6            2           24\n",
       "                        1           12\n",
       "                        0            7\n",
       "5          7            1            6\n",
       "                        0            2\n",
       "7          9            2            2\n",
       "5          7            2            1\n",
       "dtype: int64"
      ]
     },
     "execution_count": 38,
     "metadata": {},
     "output_type": "execute_result"
    }
   ],
   "source": [
    "train[['child_num','family_size','credit']][(train['family_size']-train['child_num'])==2].value_counts()\n"
   ]
  },
  {
   "cell_type": "code",
   "execution_count": 39,
   "id": "7ba34c5d-a075-4bbb-98bd-1fdb65eefa53",
   "metadata": {},
   "outputs": [
    {
     "data": {
      "text/plain": [
       "child_num  family_size  credit\n",
       "0          1            2         3180\n",
       "                        1         1318\n",
       "                        0          605\n",
       "1          2            2          532\n",
       "                        1          245\n",
       "                        0           92\n",
       "2          3            2           80\n",
       "                        0           20\n",
       "                        1           20\n",
       "3          4            2           11\n",
       "                        1            5\n",
       "                        0            3\n",
       "4          5            2            3\n",
       "                        0            1\n",
       "5          6            2            1\n",
       "dtype: int64"
      ]
     },
     "execution_count": 39,
     "metadata": {},
     "output_type": "execute_result"
    }
   ],
   "source": [
    "train[['child_num','family_size','credit']][(train['family_size']-train['child_num'])==1].value_counts()\n"
   ]
  },
  {
   "cell_type": "markdown",
   "id": "71e39a53-6eed-47e4-af94-f4fec8442d1c",
   "metadata": {},
   "source": [
    "## 날짜 관련 가공 \n",
    "* ['DAYS_BIRTH', 'DAYS_EMPLOYED','begin_month']"
   ]
  },
  {
   "cell_type": "markdown",
   "id": "88accc26-f2fd-488e-88a2-8a5f2669527c",
   "metadata": {},
   "source": [
    "* DAYS_EMPLOYED: 업무 시작일 --> 양수 값은 고용되지 않은 상태를 의미함\n",
    "* train['HIRE_YN']  = 0"
   ]
  },
  {
   "cell_type": "code",
   "execution_count": 40,
   "id": "844c5516-322e-4cba-95ac-cea94d46dafd",
   "metadata": {},
   "outputs": [],
   "source": [
    "# train['HIRE_YN'] = 1\n",
    "# train.loc[ train['DAYS_EMPLOYED']>0 , 'HIRE_YN' ] = 0"
   ]
  },
  {
   "cell_type": "code",
   "execution_count": 41,
   "id": "99201e03-8aa1-446f-9510-295564191e5c",
   "metadata": {},
   "outputs": [],
   "source": [
    "train['HIRE_YN']  = train['DAYS_EMPLOYED'].apply(lambda x: 0 if x>0 else 1)"
   ]
  },
  {
   "cell_type": "code",
   "execution_count": 42,
   "id": "1d03c838-27fd-4447-bbc0-bd8cd3b7b279",
   "metadata": {},
   "outputs": [
    {
     "data": {
      "text/plain": [
       "1    22015\n",
       "0     4438\n",
       "Name: HIRE_YN, dtype: int64"
      ]
     },
     "execution_count": 42,
     "metadata": {},
     "output_type": "execute_result"
    }
   ],
   "source": [
    "train['HIRE_YN'].value_counts()"
   ]
  },
  {
   "cell_type": "code",
   "execution_count": 43,
   "id": "1a857a52-f51d-498f-ade7-787b17ba831d",
   "metadata": {},
   "outputs": [
    {
     "data": {
      "text/html": [
       "<div>\n",
       "<style scoped>\n",
       "    .dataframe tbody tr th:only-of-type {\n",
       "        vertical-align: middle;\n",
       "    }\n",
       "\n",
       "    .dataframe tbody tr th {\n",
       "        vertical-align: top;\n",
       "    }\n",
       "\n",
       "    .dataframe thead th {\n",
       "        text-align: right;\n",
       "    }\n",
       "</style>\n",
       "<table border=\"1\" class=\"dataframe\">\n",
       "  <thead>\n",
       "    <tr style=\"text-align: right;\">\n",
       "      <th></th>\n",
       "      <th>DAYS_BIRTH</th>\n",
       "      <th>DAYS_EMPLOYED</th>\n",
       "      <th>begin_month</th>\n",
       "    </tr>\n",
       "  </thead>\n",
       "  <tbody>\n",
       "    <tr>\n",
       "      <th>0</th>\n",
       "      <td>-13899</td>\n",
       "      <td>-4709</td>\n",
       "      <td>-6</td>\n",
       "    </tr>\n",
       "    <tr>\n",
       "      <th>1</th>\n",
       "      <td>-11380</td>\n",
       "      <td>-1540</td>\n",
       "      <td>-5</td>\n",
       "    </tr>\n",
       "    <tr>\n",
       "      <th>2</th>\n",
       "      <td>-19087</td>\n",
       "      <td>-4434</td>\n",
       "      <td>-22</td>\n",
       "    </tr>\n",
       "  </tbody>\n",
       "</table>\n",
       "</div>"
      ],
      "text/plain": [
       "   DAYS_BIRTH  DAYS_EMPLOYED  begin_month\n",
       "0      -13899          -4709           -6\n",
       "1      -11380          -1540           -5\n",
       "2      -19087          -4434          -22"
      ]
     },
     "execution_count": 43,
     "metadata": {},
     "output_type": "execute_result"
    }
   ],
   "source": [
    "train[['DAYS_BIRTH', 'DAYS_EMPLOYED','begin_month']].head(3)"
   ]
  },
  {
   "cell_type": "code",
   "execution_count": 44,
   "id": "d440f336-c609-4c70-b1ab-8a8e3e4e5c62",
   "metadata": {},
   "outputs": [],
   "source": [
    "train['Y_DAYS_BIRTH'] =  ((train['DAYS_BIRTH']*-1)/(30*12)).astype('int')\n",
    "train['M_DAYS_BIRTH'] =  ((train['DAYS_BIRTH']*-1)/(30)).astype('int')\n",
    "train['W_DAYS_BIRTH'] =  ((train['DAYS_BIRTH']*-1)/(7)).astype('int')\n",
    "\n",
    "train['Y_DAYS_EMPLOYED'] =  ((train['DAYS_EMPLOYED']*-1)/(30*12)).astype('int')\n",
    "train['M_DAYS_EMPLOYED'] =  ((train['DAYS_EMPLOYED']*-1)/(30)).astype('int')\n",
    "train['W_DAYS_EMPLOYED'] =  ((train['DAYS_EMPLOYED']*-1)/(7)).astype('int')\n",
    "\n",
    "train['Y_begin_month'] =  ((train['begin_month']*-1)/(12)).astype('int')\n",
    "train['M_begin_month'] =  train['begin_month']*-1\n",
    "train['W_begin_month'] =  ((train['begin_month']*-30)/(7)).astype('int')\n"
   ]
  },
  {
   "cell_type": "code",
   "execution_count": 45,
   "id": "852eabc1-2167-40f8-9d43-d2debdf218c2",
   "metadata": {},
   "outputs": [],
   "source": [
    "train.drop(['DAYS_BIRTH', 'DAYS_EMPLOYED','begin_month'], axis=1, inplace=True)"
   ]
  },
  {
   "cell_type": "code",
   "execution_count": 46,
   "id": "f0e2e783-78f0-40d9-8b4e-24cbae1dc7ff",
   "metadata": {},
   "outputs": [
    {
     "data": {
      "text/html": [
       "<div>\n",
       "<style scoped>\n",
       "    .dataframe tbody tr th:only-of-type {\n",
       "        vertical-align: middle;\n",
       "    }\n",
       "\n",
       "    .dataframe tbody tr th {\n",
       "        vertical-align: top;\n",
       "    }\n",
       "\n",
       "    .dataframe thead th {\n",
       "        text-align: right;\n",
       "    }\n",
       "</style>\n",
       "<table border=\"1\" class=\"dataframe\">\n",
       "  <thead>\n",
       "    <tr style=\"text-align: right;\">\n",
       "      <th></th>\n",
       "      <th>gender</th>\n",
       "      <th>car</th>\n",
       "      <th>reality</th>\n",
       "      <th>occyp_type</th>\n",
       "      <th>family_size</th>\n",
       "      <th>child_num</th>\n",
       "      <th>income_total</th>\n",
       "      <th>income_type</th>\n",
       "      <th>edu_type</th>\n",
       "      <th>family_type</th>\n",
       "      <th>house_type</th>\n",
       "      <th>work_phone</th>\n",
       "      <th>phone</th>\n",
       "      <th>email</th>\n",
       "      <th>credit</th>\n",
       "      <th>일하는중_YN</th>\n",
       "      <th>HIRE_YN</th>\n",
       "      <th>Y_DAYS_BIRTH</th>\n",
       "      <th>M_DAYS_BIRTH</th>\n",
       "      <th>W_DAYS_BIRTH</th>\n",
       "      <th>Y_DAYS_EMPLOYED</th>\n",
       "      <th>M_DAYS_EMPLOYED</th>\n",
       "      <th>W_DAYS_EMPLOYED</th>\n",
       "      <th>Y_begin_month</th>\n",
       "      <th>M_begin_month</th>\n",
       "      <th>W_begin_month</th>\n",
       "    </tr>\n",
       "  </thead>\n",
       "  <tbody>\n",
       "    <tr>\n",
       "      <th>0</th>\n",
       "      <td>0</td>\n",
       "      <td>0</td>\n",
       "      <td>0</td>\n",
       "      <td>0</td>\n",
       "      <td>2</td>\n",
       "      <td>0</td>\n",
       "      <td>202500.0</td>\n",
       "      <td>0</td>\n",
       "      <td>0</td>\n",
       "      <td>0</td>\n",
       "      <td>0</td>\n",
       "      <td>0</td>\n",
       "      <td>0</td>\n",
       "      <td>0</td>\n",
       "      <td>1</td>\n",
       "      <td>1</td>\n",
       "      <td>1</td>\n",
       "      <td>38</td>\n",
       "      <td>463</td>\n",
       "      <td>1985</td>\n",
       "      <td>13</td>\n",
       "      <td>156</td>\n",
       "      <td>672</td>\n",
       "      <td>0</td>\n",
       "      <td>6</td>\n",
       "      <td>25</td>\n",
       "    </tr>\n",
       "    <tr>\n",
       "      <th>1</th>\n",
       "      <td>0</td>\n",
       "      <td>0</td>\n",
       "      <td>1</td>\n",
       "      <td>0</td>\n",
       "      <td>3</td>\n",
       "      <td>1</td>\n",
       "      <td>247500.0</td>\n",
       "      <td>0</td>\n",
       "      <td>1</td>\n",
       "      <td>1</td>\n",
       "      <td>1</td>\n",
       "      <td>0</td>\n",
       "      <td>0</td>\n",
       "      <td>1</td>\n",
       "      <td>1</td>\n",
       "      <td>1</td>\n",
       "      <td>1</td>\n",
       "      <td>31</td>\n",
       "      <td>379</td>\n",
       "      <td>1625</td>\n",
       "      <td>4</td>\n",
       "      <td>51</td>\n",
       "      <td>220</td>\n",
       "      <td>0</td>\n",
       "      <td>5</td>\n",
       "      <td>21</td>\n",
       "    </tr>\n",
       "    <tr>\n",
       "      <th>2</th>\n",
       "      <td>1</td>\n",
       "      <td>1</td>\n",
       "      <td>1</td>\n",
       "      <td>1</td>\n",
       "      <td>2</td>\n",
       "      <td>0</td>\n",
       "      <td>450000.0</td>\n",
       "      <td>1</td>\n",
       "      <td>0</td>\n",
       "      <td>0</td>\n",
       "      <td>1</td>\n",
       "      <td>0</td>\n",
       "      <td>1</td>\n",
       "      <td>0</td>\n",
       "      <td>2</td>\n",
       "      <td>1</td>\n",
       "      <td>1</td>\n",
       "      <td>53</td>\n",
       "      <td>636</td>\n",
       "      <td>2726</td>\n",
       "      <td>12</td>\n",
       "      <td>147</td>\n",
       "      <td>633</td>\n",
       "      <td>1</td>\n",
       "      <td>22</td>\n",
       "      <td>94</td>\n",
       "    </tr>\n",
       "    <tr>\n",
       "      <th>3</th>\n",
       "      <td>0</td>\n",
       "      <td>0</td>\n",
       "      <td>1</td>\n",
       "      <td>2</td>\n",
       "      <td>2</td>\n",
       "      <td>0</td>\n",
       "      <td>202500.0</td>\n",
       "      <td>0</td>\n",
       "      <td>1</td>\n",
       "      <td>0</td>\n",
       "      <td>1</td>\n",
       "      <td>0</td>\n",
       "      <td>1</td>\n",
       "      <td>0</td>\n",
       "      <td>0</td>\n",
       "      <td>1</td>\n",
       "      <td>1</td>\n",
       "      <td>41</td>\n",
       "      <td>502</td>\n",
       "      <td>2155</td>\n",
       "      <td>5</td>\n",
       "      <td>69</td>\n",
       "      <td>298</td>\n",
       "      <td>3</td>\n",
       "      <td>37</td>\n",
       "      <td>158</td>\n",
       "    </tr>\n",
       "    <tr>\n",
       "      <th>4</th>\n",
       "      <td>0</td>\n",
       "      <td>1</td>\n",
       "      <td>1</td>\n",
       "      <td>1</td>\n",
       "      <td>2</td>\n",
       "      <td>0</td>\n",
       "      <td>157500.0</td>\n",
       "      <td>2</td>\n",
       "      <td>0</td>\n",
       "      <td>0</td>\n",
       "      <td>1</td>\n",
       "      <td>0</td>\n",
       "      <td>0</td>\n",
       "      <td>0</td>\n",
       "      <td>2</td>\n",
       "      <td>1</td>\n",
       "      <td>1</td>\n",
       "      <td>41</td>\n",
       "      <td>501</td>\n",
       "      <td>2148</td>\n",
       "      <td>5</td>\n",
       "      <td>70</td>\n",
       "      <td>300</td>\n",
       "      <td>2</td>\n",
       "      <td>26</td>\n",
       "      <td>111</td>\n",
       "    </tr>\n",
       "  </tbody>\n",
       "</table>\n",
       "</div>"
      ],
      "text/plain": [
       "   gender  car  reality  occyp_type  family_size  child_num  income_total  \\\n",
       "0       0    0        0           0            2          0      202500.0   \n",
       "1       0    0        1           0            3          1      247500.0   \n",
       "2       1    1        1           1            2          0      450000.0   \n",
       "3       0    0        1           2            2          0      202500.0   \n",
       "4       0    1        1           1            2          0      157500.0   \n",
       "\n",
       "   income_type  edu_type  family_type  house_type  work_phone  phone  email  \\\n",
       "0            0         0            0           0           0      0      0   \n",
       "1            0         1            1           1           0      0      1   \n",
       "2            1         0            0           1           0      1      0   \n",
       "3            0         1            0           1           0      1      0   \n",
       "4            2         0            0           1           0      0      0   \n",
       "\n",
       "   credit  일하는중_YN  HIRE_YN  Y_DAYS_BIRTH  M_DAYS_BIRTH  W_DAYS_BIRTH  \\\n",
       "0       1        1        1            38           463          1985   \n",
       "1       1        1        1            31           379          1625   \n",
       "2       2        1        1            53           636          2726   \n",
       "3       0        1        1            41           502          2155   \n",
       "4       2        1        1            41           501          2148   \n",
       "\n",
       "   Y_DAYS_EMPLOYED  M_DAYS_EMPLOYED  W_DAYS_EMPLOYED  Y_begin_month  \\\n",
       "0               13              156              672              0   \n",
       "1                4               51              220              0   \n",
       "2               12              147              633              1   \n",
       "3                5               69              298              3   \n",
       "4                5               70              300              2   \n",
       "\n",
       "   M_begin_month  W_begin_month  \n",
       "0              6             25  \n",
       "1              5             21  \n",
       "2             22             94  \n",
       "3             37            158  \n",
       "4             26            111  "
      ]
     },
     "execution_count": 46,
     "metadata": {},
     "output_type": "execute_result"
    }
   ],
   "source": [
    "train.head()"
   ]
  },
  {
   "cell_type": "code",
   "execution_count": 47,
   "id": "e8010748-1449-4b27-82c2-c16bcf067f5f",
   "metadata": {},
   "outputs": [
    {
     "name": "stdout",
     "output_type": "stream",
     "text": [
      "RandomForestClassifier\n",
      "              precision    recall  f1-score   support\n",
      "\n",
      "           0       0.46      0.23      0.31       618\n",
      "           1       0.60      0.39      0.48      1287\n",
      "           2       0.74      0.90      0.81      3386\n",
      "\n",
      "    accuracy                           0.70      5291\n",
      "   macro avg       0.60      0.51      0.53      5291\n",
      "weighted avg       0.67      0.70      0.67      5291\n",
      "\n",
      "정확도0.6991  정밀도0.5999  재현률0.5080  f10.5310\n",
      "LogisticRegression\n",
      "              precision    recall  f1-score   support\n",
      "\n",
      "           0       0.00      0.00      0.00       618\n",
      "           1       0.00      0.00      0.00      1287\n",
      "           2       0.64      1.00      0.78      3386\n",
      "\n",
      "    accuracy                           0.64      5291\n",
      "   macro avg       0.21      0.33      0.26      5291\n",
      "weighted avg       0.41      0.64      0.50      5291\n",
      "\n",
      "정확도0.6400  정밀도0.2133  재현률0.3333  f10.2602\n"
     ]
    }
   ],
   "source": [
    "my_fit_score(train)"
   ]
  },
  {
   "cell_type": "markdown",
   "id": "6f334f91-27fc-4a76-b125-67e663e4a60d",
   "metadata": {},
   "source": [
    "* 아래처럼 계산하면 편하지만 로컬에서 구동 불가"
   ]
  },
  {
   "cell_type": "code",
   "execution_count": 48,
   "id": "a3fe051a-c99b-4e2e-8fa0-70cbbaa122c1",
   "metadata": {},
   "outputs": [],
   "source": [
    "# import datetime as dt\n",
    "# from dateutil.rrule import rrule, YEARLY, MONTHLY, WEEKLY\n",
    "\n",
    "# def my_convert_ymw(day) :\n",
    "#     now = dt.datetime.now()\n",
    "#     old = now - dt.timedelta(days=day)\n",
    "#     y= len([y for y in rrule(freq=YEARLY ,dtstart=old , until=now)])  -1\n",
    "#     m = len([y for y in rrule(freq=MONTHLY ,dtstart=old , until=now)]) -1\n",
    "#     w = len([y for y in rrule(freq=WEEKLY  ,dtstart=old , until=now)]) -1\n",
    "#     return y,m,w\n",
    "\n",
    "# train2 = train.iloc[:50].copy()\n",
    "# #my_convert_ymw(13899) \n",
    "# train2[['DAY_BIRTH_Y','DAY_BIRTH_M','DAY_BIRTH_W']] = train2.apply(lambda x : my_convert_ymw(x['DAYS_BIRTH']*-1), \n",
    "#                                        axis=1, result_type=\"expand\")\n",
    "# train2.head()"
   ]
  },
  {
   "cell_type": "markdown",
   "id": "194c50c8-d5db-4f92-bde2-1889b62e32d9",
   "metadata": {},
   "source": [
    "## income_total\n",
    "* 방법1\\) 지나치게 큰 수치형은 log 변환해서 작은 값으로 변경"
   ]
  },
  {
   "cell_type": "code",
   "execution_count": 49,
   "id": "61689db8-c895-48de-8bf5-7ee85588df69",
   "metadata": {},
   "outputs": [],
   "source": [
    "# res0= np.log(10000)  \n",
    "# res1= np.log(10000)  + 1\n",
    "# res2= np.log1p(10000) \n",
    "# print(res0, res1, res2)"
   ]
  },
  {
   "cell_type": "code",
   "execution_count": 50,
   "id": "93b23dea-e907-4fd0-81b7-4187989cf141",
   "metadata": {},
   "outputs": [
    {
     "data": {
      "text/html": [
       "<div>\n",
       "<style scoped>\n",
       "    .dataframe tbody tr th:only-of-type {\n",
       "        vertical-align: middle;\n",
       "    }\n",
       "\n",
       "    .dataframe tbody tr th {\n",
       "        vertical-align: top;\n",
       "    }\n",
       "\n",
       "    .dataframe thead th {\n",
       "        text-align: right;\n",
       "    }\n",
       "</style>\n",
       "<table border=\"1\" class=\"dataframe\">\n",
       "  <thead>\n",
       "    <tr style=\"text-align: right;\">\n",
       "      <th></th>\n",
       "      <th>gender</th>\n",
       "      <th>car</th>\n",
       "      <th>reality</th>\n",
       "      <th>occyp_type</th>\n",
       "      <th>family_size</th>\n",
       "      <th>child_num</th>\n",
       "      <th>income_total</th>\n",
       "      <th>income_type</th>\n",
       "      <th>edu_type</th>\n",
       "      <th>family_type</th>\n",
       "      <th>house_type</th>\n",
       "      <th>work_phone</th>\n",
       "      <th>phone</th>\n",
       "      <th>email</th>\n",
       "      <th>credit</th>\n",
       "      <th>일하는중_YN</th>\n",
       "      <th>HIRE_YN</th>\n",
       "      <th>Y_DAYS_BIRTH</th>\n",
       "      <th>M_DAYS_BIRTH</th>\n",
       "      <th>W_DAYS_BIRTH</th>\n",
       "      <th>Y_DAYS_EMPLOYED</th>\n",
       "      <th>M_DAYS_EMPLOYED</th>\n",
       "      <th>W_DAYS_EMPLOYED</th>\n",
       "      <th>Y_begin_month</th>\n",
       "      <th>M_begin_month</th>\n",
       "      <th>W_begin_month</th>\n",
       "    </tr>\n",
       "  </thead>\n",
       "  <tbody>\n",
       "    <tr>\n",
       "      <th>0</th>\n",
       "      <td>0</td>\n",
       "      <td>0</td>\n",
       "      <td>0</td>\n",
       "      <td>0</td>\n",
       "      <td>2</td>\n",
       "      <td>0</td>\n",
       "      <td>12.218500</td>\n",
       "      <td>0</td>\n",
       "      <td>0</td>\n",
       "      <td>0</td>\n",
       "      <td>0</td>\n",
       "      <td>0</td>\n",
       "      <td>0</td>\n",
       "      <td>0</td>\n",
       "      <td>1</td>\n",
       "      <td>1</td>\n",
       "      <td>1</td>\n",
       "      <td>38</td>\n",
       "      <td>463</td>\n",
       "      <td>1985</td>\n",
       "      <td>13</td>\n",
       "      <td>156</td>\n",
       "      <td>672</td>\n",
       "      <td>0</td>\n",
       "      <td>6</td>\n",
       "      <td>25</td>\n",
       "    </tr>\n",
       "    <tr>\n",
       "      <th>1</th>\n",
       "      <td>0</td>\n",
       "      <td>0</td>\n",
       "      <td>1</td>\n",
       "      <td>0</td>\n",
       "      <td>3</td>\n",
       "      <td>1</td>\n",
       "      <td>12.419170</td>\n",
       "      <td>0</td>\n",
       "      <td>1</td>\n",
       "      <td>1</td>\n",
       "      <td>1</td>\n",
       "      <td>0</td>\n",
       "      <td>0</td>\n",
       "      <td>1</td>\n",
       "      <td>1</td>\n",
       "      <td>1</td>\n",
       "      <td>1</td>\n",
       "      <td>31</td>\n",
       "      <td>379</td>\n",
       "      <td>1625</td>\n",
       "      <td>4</td>\n",
       "      <td>51</td>\n",
       "      <td>220</td>\n",
       "      <td>0</td>\n",
       "      <td>5</td>\n",
       "      <td>21</td>\n",
       "    </tr>\n",
       "    <tr>\n",
       "      <th>2</th>\n",
       "      <td>1</td>\n",
       "      <td>1</td>\n",
       "      <td>1</td>\n",
       "      <td>1</td>\n",
       "      <td>2</td>\n",
       "      <td>0</td>\n",
       "      <td>13.017005</td>\n",
       "      <td>1</td>\n",
       "      <td>0</td>\n",
       "      <td>0</td>\n",
       "      <td>1</td>\n",
       "      <td>0</td>\n",
       "      <td>1</td>\n",
       "      <td>0</td>\n",
       "      <td>2</td>\n",
       "      <td>1</td>\n",
       "      <td>1</td>\n",
       "      <td>53</td>\n",
       "      <td>636</td>\n",
       "      <td>2726</td>\n",
       "      <td>12</td>\n",
       "      <td>147</td>\n",
       "      <td>633</td>\n",
       "      <td>1</td>\n",
       "      <td>22</td>\n",
       "      <td>94</td>\n",
       "    </tr>\n",
       "    <tr>\n",
       "      <th>3</th>\n",
       "      <td>0</td>\n",
       "      <td>0</td>\n",
       "      <td>1</td>\n",
       "      <td>2</td>\n",
       "      <td>2</td>\n",
       "      <td>0</td>\n",
       "      <td>12.218500</td>\n",
       "      <td>0</td>\n",
       "      <td>1</td>\n",
       "      <td>0</td>\n",
       "      <td>1</td>\n",
       "      <td>0</td>\n",
       "      <td>1</td>\n",
       "      <td>0</td>\n",
       "      <td>0</td>\n",
       "      <td>1</td>\n",
       "      <td>1</td>\n",
       "      <td>41</td>\n",
       "      <td>502</td>\n",
       "      <td>2155</td>\n",
       "      <td>5</td>\n",
       "      <td>69</td>\n",
       "      <td>298</td>\n",
       "      <td>3</td>\n",
       "      <td>37</td>\n",
       "      <td>158</td>\n",
       "    </tr>\n",
       "    <tr>\n",
       "      <th>4</th>\n",
       "      <td>0</td>\n",
       "      <td>1</td>\n",
       "      <td>1</td>\n",
       "      <td>1</td>\n",
       "      <td>2</td>\n",
       "      <td>0</td>\n",
       "      <td>11.967187</td>\n",
       "      <td>2</td>\n",
       "      <td>0</td>\n",
       "      <td>0</td>\n",
       "      <td>1</td>\n",
       "      <td>0</td>\n",
       "      <td>0</td>\n",
       "      <td>0</td>\n",
       "      <td>2</td>\n",
       "      <td>1</td>\n",
       "      <td>1</td>\n",
       "      <td>41</td>\n",
       "      <td>501</td>\n",
       "      <td>2148</td>\n",
       "      <td>5</td>\n",
       "      <td>70</td>\n",
       "      <td>300</td>\n",
       "      <td>2</td>\n",
       "      <td>26</td>\n",
       "      <td>111</td>\n",
       "    </tr>\n",
       "  </tbody>\n",
       "</table>\n",
       "</div>"
      ],
      "text/plain": [
       "   gender  car  reality  occyp_type  family_size  child_num  income_total  \\\n",
       "0       0    0        0           0            2          0     12.218500   \n",
       "1       0    0        1           0            3          1     12.419170   \n",
       "2       1    1        1           1            2          0     13.017005   \n",
       "3       0    0        1           2            2          0     12.218500   \n",
       "4       0    1        1           1            2          0     11.967187   \n",
       "\n",
       "   income_type  edu_type  family_type  house_type  work_phone  phone  email  \\\n",
       "0            0         0            0           0           0      0      0   \n",
       "1            0         1            1           1           0      0      1   \n",
       "2            1         0            0           1           0      1      0   \n",
       "3            0         1            0           1           0      1      0   \n",
       "4            2         0            0           1           0      0      0   \n",
       "\n",
       "   credit  일하는중_YN  HIRE_YN  Y_DAYS_BIRTH  M_DAYS_BIRTH  W_DAYS_BIRTH  \\\n",
       "0       1        1        1            38           463          1985   \n",
       "1       1        1        1            31           379          1625   \n",
       "2       2        1        1            53           636          2726   \n",
       "3       0        1        1            41           502          2155   \n",
       "4       2        1        1            41           501          2148   \n",
       "\n",
       "   Y_DAYS_EMPLOYED  M_DAYS_EMPLOYED  W_DAYS_EMPLOYED  Y_begin_month  \\\n",
       "0               13              156              672              0   \n",
       "1                4               51              220              0   \n",
       "2               12              147              633              1   \n",
       "3                5               69              298              3   \n",
       "4                5               70              300              2   \n",
       "\n",
       "   M_begin_month  W_begin_month  \n",
       "0              6             25  \n",
       "1              5             21  \n",
       "2             22             94  \n",
       "3             37            158  \n",
       "4             26            111  "
      ]
     },
     "execution_count": 50,
     "metadata": {},
     "output_type": "execute_result"
    }
   ],
   "source": [
    "# train['income_total'] = train['income_total'].apply(lambda x : np.log1p(x))\n",
    "train['income_total'] = np.log1p(train['income_total'])\n",
    "train.head()"
   ]
  },
  {
   "cell_type": "code",
   "execution_count": 51,
   "id": "8d270024-7851-4e51-83cf-b7de86580a55",
   "metadata": {},
   "outputs": [
    {
     "name": "stdout",
     "output_type": "stream",
     "text": [
      "RandomForestClassifier\n",
      "              precision    recall  f1-score   support\n",
      "\n",
      "           0       0.46      0.23      0.30       618\n",
      "           1       0.60      0.39      0.48      1287\n",
      "           2       0.74      0.90      0.81      3386\n",
      "\n",
      "    accuracy                           0.70      5291\n",
      "   macro avg       0.60      0.51      0.53      5291\n",
      "weighted avg       0.67      0.70      0.67      5291\n",
      "\n",
      "정확도0.6991  정밀도0.5990  재현률0.5074  f10.5302\n",
      "LogisticRegression\n",
      "              precision    recall  f1-score   support\n",
      "\n",
      "           0       0.00      0.00      0.00       618\n",
      "           1       0.00      0.00      0.00      1287\n",
      "           2       0.64      1.00      0.78      3386\n",
      "\n",
      "    accuracy                           0.64      5291\n",
      "   macro avg       0.21      0.33      0.26      5291\n",
      "weighted avg       0.41      0.64      0.50      5291\n",
      "\n",
      "정확도0.6400  정밀도0.2133  재현률0.3333  f10.2602\n"
     ]
    }
   ],
   "source": [
    "my_fit_score(train)"
   ]
  },
  {
   "cell_type": "markdown",
   "id": "e7d1ff78-89e1-4fee-9289-3390c96815c9",
   "metadata": {},
   "source": [
    "* 방법2) Scaler를 이용해 값을 수의 범위 조절\n",
    "<pre>\n",
    "StandardScaler : 평균0 ~ 편차1  : 정규분포 -->          !!!!반드시 선행 아웃라이어 처리 후 시행\n",
    "RobustScaler   : 4분위          : 아웃라이어에 강하다\n",
    "MinMaxScaler   : 최소0 ~ 최대1  : train 에 포함되지 않는 test 데이터가 있을 경우 주의~!!!!!"
   ]
  },
  {
   "cell_type": "markdown",
   "id": "a4b9e5e3-637f-4207-acaf-5be2f0d16085",
   "metadata": {},
   "source": [
    "<pre>\n",
    "\n",
    "# 원본\n",
    "정확도0.6887  정밀도0.5956  재현률0.5052  f10.5248\n",
    "정확도0.6279  정밀도0.2093  재현률0.3333  f10.2571\n",
    "\n",
    "# log변환\n",
    "#정확도0.6965  정밀도0.5902  재현률0.5035  f10.5250\n",
    "#정확도0.6449  정밀도0.2150  재현률0.3333  f10.2614\n",
    "\n",
    "#-------------log + StandardScaler \n",
    "# RandomForestClassifier\n",
    "# 정확도0.6978  정밀도0.5919  재현률0.5095  f10.5306\n",
    "# LogisticRegression\n",
    "# 정확도0.6369  정밀도0.2123  재현률0.3333  f10.2594\n",
    "\n",
    "#-------------log + RobustScaler \n",
    "# RandomForestClassifier\n",
    "#  정확도0.6912  정밀도0.5723  재현률0.4908  f10.5089\n",
    "# LogisticRegression\n",
    "# 정확도0.6490  정밀도0.2163  재현률0.3333  f10.2624\n",
    "\n",
    "#-------------log + MinMaxScaler \n",
    "# RandomForestClassifier\n",
    "# 정확도0.6951  정밀도0.5912  재현률0.5036  f10.5225\n",
    "# LogisticRegression\n",
    "# 정확도0.6420  정밀도0.2140  재현률0.3333  f10.2607"
   ]
  },
  {
   "cell_type": "code",
   "execution_count": 52,
   "id": "51c1340c-e8a2-4a4c-bbf4-164c79c2e4c8",
   "metadata": {},
   "outputs": [
    {
     "name": "stdout",
     "output_type": "stream",
     "text": [
      "RandomForestClassifier\n",
      "              precision    recall  f1-score   support\n",
      "\n",
      "           0       0.46      0.23      0.30       618\n",
      "           1       0.60      0.39      0.48      1287\n",
      "           2       0.74      0.90      0.81      3386\n",
      "\n",
      "    accuracy                           0.70      5291\n",
      "   macro avg       0.60      0.51      0.53      5291\n",
      "weighted avg       0.67      0.70      0.67      5291\n",
      "\n",
      "정확도0.6991  정밀도0.5990  재현률0.5074  f10.5302\n",
      "LogisticRegression\n",
      "              precision    recall  f1-score   support\n",
      "\n",
      "           0       0.00      0.00      0.00       618\n",
      "           1       0.00      0.00      0.00      1287\n",
      "           2       0.64      1.00      0.78      3386\n",
      "\n",
      "    accuracy                           0.64      5291\n",
      "   macro avg       0.21      0.33      0.26      5291\n",
      "weighted avg       0.41      0.64      0.50      5291\n",
      "\n",
      "정확도0.6400  정밀도0.2133  재현률0.3333  f10.2602\n"
     ]
    }
   ],
   "source": [
    "ss_scaler = StandardScaler()\n",
    "rs_scaler = RobustScaler() \n",
    "mm_scaler = MinMaxScaler()\n",
    "\n",
    "#scaler_list = [ss_scaler,rs_scaler,mm_scaler ]\n",
    "scaler_list = [ss_scaler]\n",
    "for scaler in scaler_list:\n",
    "    #scaler.fit(X_train)  #-----------------완전 주의주의주의\n",
    "    #X_train_sacler = scaler.transform(X_train)\n",
    "    #X_test_scaler = scaler.transform(X_test)\n",
    "    \n",
    "    scaler.fit(train[['income_total']])\n",
    "    arr = scaler.transform(train[['income_total']])\n",
    "    #print(arr)\n",
    "    my_fit_score(train)"
   ]
  },
  {
   "cell_type": "code",
   "execution_count": null,
   "id": "d95ae38f-ca82-4b10-ba2e-2f3273fd8fbd",
   "metadata": {},
   "outputs": [],
   "source": []
  },
  {
   "cell_type": "code",
   "execution_count": null,
   "id": "1999bffe-e555-41c3-963d-e12fa6aa03a5",
   "metadata": {},
   "outputs": [],
   "source": []
  },
  {
   "cell_type": "markdown",
   "id": "4c5051f0-b0b7-490a-8064-a867dc762e6e",
   "metadata": {
    "tags": []
   },
   "source": [
    "### CAR + 2*REALITY = 재산 1 1 = 2"
   ]
  },
  {
   "cell_type": "code",
   "execution_count": 53,
   "id": "19465b1f-2e4d-4aeb-acf2-2b94add94576",
   "metadata": {},
   "outputs": [
    {
     "name": "stdout",
     "output_type": "stream",
     "text": [
      "RandomForestClassifier\n",
      "              precision    recall  f1-score   support\n",
      "\n",
      "           0       0.46      0.22      0.29       618\n",
      "           1       0.61      0.39      0.48      1287\n",
      "           2       0.74      0.91      0.81      3386\n",
      "\n",
      "    accuracy                           0.70      5291\n",
      "   macro avg       0.60      0.51      0.53      5291\n",
      "weighted avg       0.67      0.70      0.67      5291\n",
      "\n",
      "정확도0.7016  정밀도0.6019  재현률0.5058  f10.5286\n",
      "LogisticRegression\n",
      "              precision    recall  f1-score   support\n",
      "\n",
      "           0       0.00      0.00      0.00       618\n",
      "           1       0.00      0.00      0.00      1287\n",
      "           2       0.64      1.00      0.78      3386\n",
      "\n",
      "    accuracy                           0.64      5291\n",
      "   macro avg       0.21      0.33      0.26      5291\n",
      "weighted avg       0.41      0.64      0.50      5291\n",
      "\n",
      "정확도0.6400  정밀도0.2133  재현률0.3333  f10.2602\n"
     ]
    }
   ],
   "source": [
    "train['CAR_REALITY'] = train['car'] + train['reality']\n",
    "train.drop(['car','reality'], axis=1, inplace=True)\n",
    "my_fit_score(train)"
   ]
  },
  {
   "cell_type": "code",
   "execution_count": null,
   "id": "f987c5d0-b1eb-4d3e-bb10-dfddee34ac50",
   "metadata": {},
   "outputs": [],
   "source": []
  },
  {
   "cell_type": "code",
   "execution_count": 54,
   "id": "0cda9826-bd6c-466f-b5af-7e1f0ba81aec",
   "metadata": {},
   "outputs": [
    {
     "data": {
      "text/html": [
       "<div>\n",
       "<style scoped>\n",
       "    .dataframe tbody tr th:only-of-type {\n",
       "        vertical-align: middle;\n",
       "    }\n",
       "\n",
       "    .dataframe tbody tr th {\n",
       "        vertical-align: top;\n",
       "    }\n",
       "\n",
       "    .dataframe thead th {\n",
       "        text-align: right;\n",
       "    }\n",
       "</style>\n",
       "<table border=\"1\" class=\"dataframe\">\n",
       "  <thead>\n",
       "    <tr style=\"text-align: right;\">\n",
       "      <th></th>\n",
       "      <th>gender</th>\n",
       "      <th>occyp_type</th>\n",
       "      <th>family_size</th>\n",
       "      <th>child_num</th>\n",
       "      <th>income_total</th>\n",
       "      <th>income_type</th>\n",
       "      <th>edu_type</th>\n",
       "      <th>family_type</th>\n",
       "      <th>house_type</th>\n",
       "      <th>work_phone</th>\n",
       "      <th>phone</th>\n",
       "      <th>email</th>\n",
       "      <th>credit</th>\n",
       "      <th>일하는중_YN</th>\n",
       "      <th>HIRE_YN</th>\n",
       "      <th>Y_DAYS_BIRTH</th>\n",
       "      <th>M_DAYS_BIRTH</th>\n",
       "      <th>W_DAYS_BIRTH</th>\n",
       "      <th>Y_DAYS_EMPLOYED</th>\n",
       "      <th>M_DAYS_EMPLOYED</th>\n",
       "      <th>W_DAYS_EMPLOYED</th>\n",
       "      <th>Y_begin_month</th>\n",
       "      <th>M_begin_month</th>\n",
       "      <th>W_begin_month</th>\n",
       "      <th>CAR_REALITY</th>\n",
       "    </tr>\n",
       "  </thead>\n",
       "  <tbody>\n",
       "    <tr>\n",
       "      <th>0</th>\n",
       "      <td>0</td>\n",
       "      <td>0</td>\n",
       "      <td>2</td>\n",
       "      <td>0</td>\n",
       "      <td>12.218500</td>\n",
       "      <td>0</td>\n",
       "      <td>0</td>\n",
       "      <td>0</td>\n",
       "      <td>0</td>\n",
       "      <td>0</td>\n",
       "      <td>0</td>\n",
       "      <td>0</td>\n",
       "      <td>1</td>\n",
       "      <td>1</td>\n",
       "      <td>1</td>\n",
       "      <td>38</td>\n",
       "      <td>463</td>\n",
       "      <td>1985</td>\n",
       "      <td>13</td>\n",
       "      <td>156</td>\n",
       "      <td>672</td>\n",
       "      <td>0</td>\n",
       "      <td>6</td>\n",
       "      <td>25</td>\n",
       "      <td>0</td>\n",
       "    </tr>\n",
       "    <tr>\n",
       "      <th>1</th>\n",
       "      <td>0</td>\n",
       "      <td>0</td>\n",
       "      <td>3</td>\n",
       "      <td>1</td>\n",
       "      <td>12.419170</td>\n",
       "      <td>0</td>\n",
       "      <td>1</td>\n",
       "      <td>1</td>\n",
       "      <td>1</td>\n",
       "      <td>0</td>\n",
       "      <td>0</td>\n",
       "      <td>1</td>\n",
       "      <td>1</td>\n",
       "      <td>1</td>\n",
       "      <td>1</td>\n",
       "      <td>31</td>\n",
       "      <td>379</td>\n",
       "      <td>1625</td>\n",
       "      <td>4</td>\n",
       "      <td>51</td>\n",
       "      <td>220</td>\n",
       "      <td>0</td>\n",
       "      <td>5</td>\n",
       "      <td>21</td>\n",
       "      <td>1</td>\n",
       "    </tr>\n",
       "    <tr>\n",
       "      <th>2</th>\n",
       "      <td>1</td>\n",
       "      <td>1</td>\n",
       "      <td>2</td>\n",
       "      <td>0</td>\n",
       "      <td>13.017005</td>\n",
       "      <td>1</td>\n",
       "      <td>0</td>\n",
       "      <td>0</td>\n",
       "      <td>1</td>\n",
       "      <td>0</td>\n",
       "      <td>1</td>\n",
       "      <td>0</td>\n",
       "      <td>2</td>\n",
       "      <td>1</td>\n",
       "      <td>1</td>\n",
       "      <td>53</td>\n",
       "      <td>636</td>\n",
       "      <td>2726</td>\n",
       "      <td>12</td>\n",
       "      <td>147</td>\n",
       "      <td>633</td>\n",
       "      <td>1</td>\n",
       "      <td>22</td>\n",
       "      <td>94</td>\n",
       "      <td>2</td>\n",
       "    </tr>\n",
       "    <tr>\n",
       "      <th>3</th>\n",
       "      <td>0</td>\n",
       "      <td>2</td>\n",
       "      <td>2</td>\n",
       "      <td>0</td>\n",
       "      <td>12.218500</td>\n",
       "      <td>0</td>\n",
       "      <td>1</td>\n",
       "      <td>0</td>\n",
       "      <td>1</td>\n",
       "      <td>0</td>\n",
       "      <td>1</td>\n",
       "      <td>0</td>\n",
       "      <td>0</td>\n",
       "      <td>1</td>\n",
       "      <td>1</td>\n",
       "      <td>41</td>\n",
       "      <td>502</td>\n",
       "      <td>2155</td>\n",
       "      <td>5</td>\n",
       "      <td>69</td>\n",
       "      <td>298</td>\n",
       "      <td>3</td>\n",
       "      <td>37</td>\n",
       "      <td>158</td>\n",
       "      <td>1</td>\n",
       "    </tr>\n",
       "    <tr>\n",
       "      <th>4</th>\n",
       "      <td>0</td>\n",
       "      <td>1</td>\n",
       "      <td>2</td>\n",
       "      <td>0</td>\n",
       "      <td>11.967187</td>\n",
       "      <td>2</td>\n",
       "      <td>0</td>\n",
       "      <td>0</td>\n",
       "      <td>1</td>\n",
       "      <td>0</td>\n",
       "      <td>0</td>\n",
       "      <td>0</td>\n",
       "      <td>2</td>\n",
       "      <td>1</td>\n",
       "      <td>1</td>\n",
       "      <td>41</td>\n",
       "      <td>501</td>\n",
       "      <td>2148</td>\n",
       "      <td>5</td>\n",
       "      <td>70</td>\n",
       "      <td>300</td>\n",
       "      <td>2</td>\n",
       "      <td>26</td>\n",
       "      <td>111</td>\n",
       "      <td>2</td>\n",
       "    </tr>\n",
       "  </tbody>\n",
       "</table>\n",
       "</div>"
      ],
      "text/plain": [
       "   gender  occyp_type  family_size  child_num  income_total  income_type  \\\n",
       "0       0           0            2          0     12.218500            0   \n",
       "1       0           0            3          1     12.419170            0   \n",
       "2       1           1            2          0     13.017005            1   \n",
       "3       0           2            2          0     12.218500            0   \n",
       "4       0           1            2          0     11.967187            2   \n",
       "\n",
       "   edu_type  family_type  house_type  work_phone  phone  email  credit  \\\n",
       "0         0            0           0           0      0      0       1   \n",
       "1         1            1           1           0      0      1       1   \n",
       "2         0            0           1           0      1      0       2   \n",
       "3         1            0           1           0      1      0       0   \n",
       "4         0            0           1           0      0      0       2   \n",
       "\n",
       "   일하는중_YN  HIRE_YN  Y_DAYS_BIRTH  M_DAYS_BIRTH  W_DAYS_BIRTH  \\\n",
       "0        1        1            38           463          1985   \n",
       "1        1        1            31           379          1625   \n",
       "2        1        1            53           636          2726   \n",
       "3        1        1            41           502          2155   \n",
       "4        1        1            41           501          2148   \n",
       "\n",
       "   Y_DAYS_EMPLOYED  M_DAYS_EMPLOYED  W_DAYS_EMPLOYED  Y_begin_month  \\\n",
       "0               13              156              672              0   \n",
       "1                4               51              220              0   \n",
       "2               12              147              633              1   \n",
       "3                5               69              298              3   \n",
       "4                5               70              300              2   \n",
       "\n",
       "   M_begin_month  W_begin_month  CAR_REALITY  \n",
       "0              6             25            0  \n",
       "1              5             21            1  \n",
       "2             22             94            2  \n",
       "3             37            158            1  \n",
       "4             26            111            2  "
      ]
     },
     "execution_count": 54,
     "metadata": {},
     "output_type": "execute_result"
    }
   ],
   "source": [
    "train.head()"
   ]
  },
  {
   "cell_type": "code",
   "execution_count": null,
   "id": "027ddf87-1cdd-419d-a477-4398530f7a2d",
   "metadata": {},
   "outputs": [],
   "source": []
  },
  {
   "cell_type": "code",
   "execution_count": null,
   "id": "258eb505-7cd0-43ca-b31c-bef4e569344a",
   "metadata": {},
   "outputs": [],
   "source": []
  },
  {
   "cell_type": "markdown",
   "id": "76b8f057-dace-44c4-a405-aac780e87b91",
   "metadata": {
    "jp-MarkdownHeadingCollapsed": true,
    "tags": []
   },
   "source": [
    "### 범주화\n",
    "<pre>\n",
    "numeric 연속형 - log    : ['income_total'] \n",
    "numeric 연속형 - date   : ['DAYS_BIRTH', 'DAYS_EMPLOYED','begin_month'] \n",
    "numeric 연속형 - bining : ['child_num','family_size']\n"
   ]
  },
  {
   "cell_type": "markdown",
   "id": "f87fad1c-4ec7-458a-8ebc-a9e588a80c7f",
   "metadata": {},
   "source": [
    "# 모델 학습 & 평가\n",
    "* 모델이 예측력이 좋다\n",
    "  - 양질의 데이터 ( 정규분포를 따른다)\n",
    "  - 강력한 모델\n",
    "   \n",
    "* 모델이 예측력이 떨어진다.\n",
    "  - 불량 데이터 (데이터 분산(편차) 고르지 못하다, 패턴을 잡을 수 없는 데이터)\n",
    "  - 모델이 약하다\n",
    "  - 예측모델이 지나치게 단순(언디피팅)/복잡(오버피팅)\n",
    "  - 데이터 학습량이 적다 (P학습이 적은경우:th낮춘다, <font color=red> 데이터증강(학습량N배화) </font>)\n",
    "  \n"
   ]
  },
  {
   "cell_type": "markdown",
   "id": "2c4c7cf5-2403-4f05-a087-c586610c71f1",
   "metadata": {
    "tags": []
   },
   "source": [
    "# 검증 & 튜닝"
   ]
  },
  {
   "cell_type": "markdown",
   "id": "2b22adf8-c422-479e-8f48-dde685da3d0d",
   "metadata": {},
   "source": [
    "## 임계치 조정해 양성학습 증가"
   ]
  },
  {
   "cell_type": "markdown",
   "id": "58e3227e-f2b8-490e-8bef-e0fa2a4ff496",
   "metadata": {
    "tags": []
   },
   "source": [
    "## 학습 데이터 증강\n",
    "<pre>\n",
    "<font color='red'><b>\n",
    " KFold()           : 순서데로 5등분, \n",
    " StratifiedKFold() : y를 골로루 섞어서 5등분\n",
    " cross_val_score() : 단순히 [점수1, 점수2...만 리턴\n",
    " GridSearchCV()    : cv=5 + 모델튜닝 --> fit() predit() score() "
   ]
  },
  {
   "cell_type": "markdown",
   "id": "a5c4d389-49a6-4b5c-b120-e1213f2a0745",
   "metadata": {},
   "source": [
    "<pre>\n",
    "Classification\n",
    "\n",
    "‘accuracy’   metrics.accuracy_score()\n",
    "\n",
    "‘f1’          metrics.f1_score(  average='binary')       # target 0, 1\n",
    "‘f1_micro’    metrics.f1_score(  average='micro')        # target 0, 1, 2 ....\n",
    "‘f1_macro’    metrics.f1_score(  average='macro')        # target 0, 1, 2 ....\n",
    "\n",
    "‘precision’     metrics.precision_score(average='binary')\n",
    "‘precision_...’ metrics.precision_score(average='micro')\n",
    "\n",
    "‘recall’        metrics.recall_score(average='binary')\n",
    "‘recall_...’    metrics.recall_score(average='micro')\n",
    "\n",
    "‘roc_auc’     metrics.roc_auc_score(multi_class=\"raise\")  # target 0, 1\n",
    "‘roc_auc_ovr’ metrics.roc_auc_score(multi_class=\"ovr\")    # target 0, 1, 2 ....\n",
    "‘roc_auc_ovo’ metrics.roc_auc_score(multi_class=\"ovo\")    # target 0, 1, 2 ....\n",
    "\n",
    "**‘neg_log_loss’  metrics.log_loss()  #predict_proba "
   ]
  },
  {
   "cell_type": "markdown",
   "id": "37b4df53-73f0-4cd4-837c-7cc8e03cda2d",
   "metadata": {},
   "source": [
    "### cross_val_score()\n",
    "* cv : Flod()\n",
    "  - 분류(StratifiedKFold()) : 한칸(Fold)마다 target 비율에 맞게 골고루 섞어 넣어라\n",
    "  - 회귀(KFold())           : 회귀, 시계열"
   ]
  },
  {
   "cell_type": "code",
   "execution_count": 55,
   "id": "e4d1f1cd-265c-458d-9df8-d6bc415fc3e1",
   "metadata": {},
   "outputs": [],
   "source": [
    "y = train['credit']\n",
    "X = train.drop(['credit'], axis=1)"
   ]
  },
  {
   "cell_type": "markdown",
   "id": "dd76f85b-6733-461b-b7f3-5360a32302e2",
   "metadata": {},
   "source": [
    "### KFold()"
   ]
  },
  {
   "cell_type": "code",
   "execution_count": 57,
   "id": "877f10ba-bfea-4de7-8a4d-4cdbd9578f56",
   "metadata": {},
   "outputs": [
    {
     "name": "stdout",
     "output_type": "stream",
     "text": [
      "f1 평균 점수 : 0.5263 \n"
     ]
    }
   ],
   "source": [
    "model = RandomForestClassifier(n_estimators=100, random_state=1234)\n",
    "kfold = KFold(n_splits=5) #, shuffle=False, random_state=1234)\n",
    "f1_list = []\n",
    "for train_index, test_index  in kfold.split(X, y) :  #train_index, test_index\n",
    "    #X_train, X_test,y_train, y_test = train_test_split(X,y, test_size=0.2)\n",
    "    X_train, X_test = X.iloc[train_index], X.iloc[test_index]\n",
    "    y_train, y_test = y.iloc[train_index], y.iloc[test_index]\n",
    "    model.fit(X_train, y_train)\n",
    "    pred = model.predict(X_test)\n",
    "    f1 = f1_score(y_test, pred, average=\"macro\")\n",
    "    f1_list.append(f1)\n",
    "    \n",
    "print( f\"f1 평균 점수 : {np.array(f1_list).mean():.4f} \")"
   ]
  },
  {
   "cell_type": "markdown",
   "id": "5cfedfa8-0ee6-45b7-ba16-913195d088ef",
   "metadata": {},
   "source": [
    "### StratifiedKFold()"
   ]
  },
  {
   "cell_type": "code",
   "execution_count": 58,
   "id": "e9d12c72-317d-420d-a47a-ec47667665e5",
   "metadata": {},
   "outputs": [
    {
     "name": "stdout",
     "output_type": "stream",
     "text": [
      "0Fold : 0.5311108239602925\n",
      "1Fold : 0.5364710959865857\n",
      "2Fold : 0.5131353374902332\n",
      "3Fold : 0.5378241423283799\n",
      "4Fold : 0.519778453567188\n",
      "f1 평균 점수 : 0.5277 \n"
     ]
    }
   ],
   "source": [
    "model = RandomForestClassifier(n_estimators=100, random_state=1234)\n",
    "skfold = StratifiedKFold(n_splits=5, shuffle=True, random_state=1234) #----------아까는 KFold()\n",
    "f1_list = []\n",
    "for i, (train_index, test_index)  in enumerate(skfold.split(X, y)) :  #train_index, test_index\n",
    "    #X_train, X_test,y_train, y_test = train_test_split(X,y, test_size=0.2)\n",
    "    X_train, X_test = X.iloc[train_index], X.iloc[test_index]\n",
    "    y_train, y_test = y.iloc[train_index], y.iloc[test_index]\n",
    "    model.fit(X_train, y_train)\n",
    "    pred = model.predict(X_test)\n",
    "    f1 = f1_score(y_test, pred, average=\"macro\")\n",
    "    print(f\"{i}Fold : {f1}\")\n",
    "    f1_list.append(f1)\n",
    "print( f\"f1 평균 점수 : {np.array(f1_list).mean():.4f} \")"
   ]
  },
  {
   "cell_type": "markdown",
   "id": "687cda20-e7fd-4f9d-96a2-ae15bcfc7ea3",
   "metadata": {},
   "source": [
    "### cross_val_score()"
   ]
  },
  {
   "cell_type": "code",
   "execution_count": 59,
   "id": "9c0ecbab-216c-4972-87fb-da807c04552d",
   "metadata": {},
   "outputs": [
    {
     "name": "stdout",
     "output_type": "stream",
     "text": [
      "[0.53111082 0.5364711  0.51313534 0.53782414 0.51977845]\n",
      "cv5 평균점수 0.5277\n"
     ]
    }
   ],
   "source": [
    "skfold = StratifiedKFold(n_splits=5, shuffle=True, random_state=1234) \n",
    "arr_score = cross_val_score(model, X,y, scoring='f1_macro',cv=skfold)  #cv=5 shuffle=True, random_state=1234)\n",
    "print(arr_score)\n",
    "print(f\"cv5 평균점수 {arr_score.mean():.4f}\")   # 원본 f1 0.5278"
   ]
  },
  {
   "cell_type": "markdown",
   "id": "df2df0c4-c907-472b-8447-039e0a64a218",
   "metadata": {
    "tags": []
   },
   "source": [
    "### GridSearchCV()\n",
    "<pre>\n",
    "RandomForestClassifier(n_estimators=100, *, criterion='gini', max_depth=None, min_samples_split=2, min_samples_leaf=1, min_weight_fraction_leaf=0.0, max_features='auto', max_leaf_nodes=None, min_impurity_decrease=0.0, bootstrap=True, oob_score=False, n_jobs=None, random_state=None, verbose=0, warm_start=False, class_weight=None, ccp_alpha=0.0, max_samples=None)"
   ]
  },
  {
   "cell_type": "code",
   "execution_count": 61,
   "id": "e81f510b-0c26-44c1-8759-5f6b8258bd99",
   "metadata": {},
   "outputs": [
    {
     "name": "stdout",
     "output_type": "stream",
     "text": [
      "0.5234351726986272\n",
      "{'min_samples_split': 2, 'n_estimators': 100}\n"
     ]
    }
   ],
   "source": [
    "y = train['credit']\n",
    "X = train.drop(['credit'], axis=1)\n",
    "X_train,X_test, y_train, y_test = train_test_split(X, y, \n",
    "                                                   test_size=0.2,\n",
    "                                                   random_state=1234,\n",
    "                                                   shuffle=True\n",
    "                                                      )\n",
    "\n",
    "model = RandomForestClassifier(n_estimators=100, random_state=1234)\n",
    "#-- 튜닝 : 하이퍼파라미터 값을 임의로 변경해서 모델의 성능을 좋게 한다.\n",
    "myparam = {'n_estimators':[100,200],\n",
    "           'min_samples_split' : [1,2,3,4]\n",
    "        }\n",
    "\n",
    "skfold = StratifiedKFold(n_splits=5, shuffle=True, random_state=1234) \n",
    "gcv_model = GridSearchCV(model, param_grid=myparam, scoring=\"f1_macro\", refit=True, cv=skfold)\n",
    "\n",
    "\n",
    "gcv_model.fit(X_train, y_train)\n",
    "print(gcv_model.best_score_)\n",
    "print(gcv_model.best_params_)\n",
    "# print(gcv_model.cv_results_)\n",
    "\n"
   ]
  },
  {
   "cell_type": "code",
   "execution_count": 64,
   "id": "e252b466-7792-4313-ba0e-b0dc83eb0ba2",
   "metadata": {},
   "outputs": [
    {
     "name": "stdout",
     "output_type": "stream",
     "text": [
      "GCV f1 점수 0.5286\n"
     ]
    }
   ],
   "source": [
    "pred = gcv_model.predict(X_test)\n",
    "f1 = f1_score(y_test, pred, average='macro')\n",
    "print(f\"GCV f1 점수 {f1:.4f}\")   # 원본 f1 0.5278    S.Kfold: 0.5277"
   ]
  },
  {
   "cell_type": "code",
   "execution_count": null,
   "id": "24be5a76-8d2e-4337-8cd2-86a1615aa102",
   "metadata": {},
   "outputs": [],
   "source": []
  },
  {
   "cell_type": "code",
   "execution_count": null,
   "id": "a2222caa-4cc6-4dfa-a73a-78f3b798c702",
   "metadata": {},
   "outputs": [],
   "source": []
  }
 ],
 "metadata": {
  "kernelspec": {
   "display_name": "Python 3 (ipykernel)",
   "language": "python",
   "name": "python3"
  },
  "language_info": {
   "codemirror_mode": {
    "name": "ipython",
    "version": 3
   },
   "file_extension": ".py",
   "mimetype": "text/x-python",
   "name": "python",
   "nbconvert_exporter": "python",
   "pygments_lexer": "ipython3",
   "version": "3.8.8"
  }
 },
 "nbformat": 4,
 "nbformat_minor": 5
}
