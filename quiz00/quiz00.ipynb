{
 "cells": [
  {
   "cell_type": "markdown",
   "id": "d751e63e-3fa4-43f8-bc9b-cc5b69c22cd4",
   "metadata": {},
   "source": [
    "<img src='./logo.png'>"
   ]
  },
  {
   "cell_type": "markdown",
   "id": "f5402682-e95e-4994-a551-0d79bf4c5215",
   "metadata": {},
   "source": [
    "origin_ref: https://www.kaggle.com/tejashvi14/travel-insurance-prediction-data  \n",
    "modified ver."
   ]
  },
  {
   "cell_type": "code",
   "execution_count": 4,
   "id": "0b91fbba-cbb4-4f92-8fbc-b09fa3ba497b",
   "metadata": {},
   "outputs": [],
   "source": [
    "import numpy as np\n",
    "import pandas as pd"
   ]
  },
  {
   "cell_type": "code",
   "execution_count": 5,
   "id": "0c1a857a-c4d9-45ea-ad1e-c814023928a4",
   "metadata": {},
   "outputs": [],
   "source": [
    "# split------------\n",
    "from sklearn.model_selection import train_test_split\n",
    "\n",
    "# model------------\n",
    "from sklearn.ensemble import RandomForestClassifier\n",
    "from sklearn.linear_model import LogisticRegression\n",
    "\n",
    "# tunning----------\n",
    "from sklearn.model_selection import GridSearchCV\n",
    "\n",
    "# imblearn---------\n",
    "from imblearn.over_sampling import SMOTE"
   ]
  },
  {
   "cell_type": "code",
   "execution_count": 6,
   "id": "871f5c6f-a361-4483-a0c8-436e25ee6ecb",
   "metadata": {},
   "outputs": [],
   "source": [
    "from sklearn.metrics import precision_score, recall_score, f1_score\n",
    "from sklearn.metrics import roc_auc_score, roc_curve"
   ]
  },
  {
   "cell_type": "markdown",
   "id": "14847018-f76c-444f-ad33-edfc457506bd",
   "metadata": {},
   "source": [
    "# Data load & Summary"
   ]
  },
  {
   "cell_type": "code",
   "execution_count": 7,
   "id": "8a576c7f-94cd-4f12-aa06-b0a596652c0c",
   "metadata": {},
   "outputs": [],
   "source": [
    "trv=pd.read_csv('./dataset/quiz00.csv')"
   ]
  },
  {
   "cell_type": "code",
   "execution_count": 8,
   "id": "03dd0d7f-08da-4e01-b95b-cee285ea4469",
   "metadata": {},
   "outputs": [
    {
     "data": {
      "text/html": [
       "<div>\n",
       "<style scoped>\n",
       "    .dataframe tbody tr th:only-of-type {\n",
       "        vertical-align: middle;\n",
       "    }\n",
       "\n",
       "    .dataframe tbody tr th {\n",
       "        vertical-align: top;\n",
       "    }\n",
       "\n",
       "    .dataframe thead th {\n",
       "        text-align: right;\n",
       "    }\n",
       "</style>\n",
       "<table border=\"1\" class=\"dataframe\">\n",
       "  <thead>\n",
       "    <tr style=\"text-align: right;\">\n",
       "      <th></th>\n",
       "      <th>Unnamed: 0</th>\n",
       "      <th>나이</th>\n",
       "      <th>고용타입</th>\n",
       "      <th>대졸여부</th>\n",
       "      <th>연소득</th>\n",
       "      <th>가족수</th>\n",
       "      <th>만성질환여부</th>\n",
       "      <th>유료회원여부</th>\n",
       "      <th>여행경험여부</th>\n",
       "      <th>여행관련보험상품가입여부예측</th>\n",
       "    </tr>\n",
       "  </thead>\n",
       "  <tbody>\n",
       "    <tr>\n",
       "      <th>0</th>\n",
       "      <td>0</td>\n",
       "      <td>31.0</td>\n",
       "      <td>정부</td>\n",
       "      <td>Yes</td>\n",
       "      <td>400000</td>\n",
       "      <td>6</td>\n",
       "      <td>1</td>\n",
       "      <td>No</td>\n",
       "      <td>No</td>\n",
       "      <td>0</td>\n",
       "    </tr>\n",
       "    <tr>\n",
       "      <th>1</th>\n",
       "      <td>1</td>\n",
       "      <td>31.0</td>\n",
       "      <td>민.간</td>\n",
       "      <td>Yes</td>\n",
       "      <td>1250000</td>\n",
       "      <td>7</td>\n",
       "      <td>0</td>\n",
       "      <td>No</td>\n",
       "      <td>No</td>\n",
       "      <td>0</td>\n",
       "    </tr>\n",
       "    <tr>\n",
       "      <th>2</th>\n",
       "      <td>2</td>\n",
       "      <td>34.0</td>\n",
       "      <td>민.간</td>\n",
       "      <td>Yes</td>\n",
       "      <td>500000</td>\n",
       "      <td>4</td>\n",
       "      <td>1</td>\n",
       "      <td>No</td>\n",
       "      <td>No</td>\n",
       "      <td>1</td>\n",
       "    </tr>\n",
       "    <tr>\n",
       "      <th>3</th>\n",
       "      <td>3</td>\n",
       "      <td>28.0</td>\n",
       "      <td>민.간</td>\n",
       "      <td>Yes</td>\n",
       "      <td>700000</td>\n",
       "      <td>3</td>\n",
       "      <td>1</td>\n",
       "      <td>No</td>\n",
       "      <td>No</td>\n",
       "      <td>0</td>\n",
       "    </tr>\n",
       "    <tr>\n",
       "      <th>4</th>\n",
       "      <td>4</td>\n",
       "      <td>28.0</td>\n",
       "      <td>민.간</td>\n",
       "      <td>Yes</td>\n",
       "      <td>700000</td>\n",
       "      <td>8</td>\n",
       "      <td>1</td>\n",
       "      <td>Yes</td>\n",
       "      <td>No</td>\n",
       "      <td>0</td>\n",
       "    </tr>\n",
       "  </tbody>\n",
       "</table>\n",
       "</div>"
      ],
      "text/plain": [
       "   Unnamed: 0    나이 고용타입 대졸여부      연소득 가족수  만성질환여부 유료회원여부 여행경험여부  \\\n",
       "0           0  31.0   정부  Yes   400000   6       1     No     No   \n",
       "1           1  31.0  민.간  Yes  1250000   7       0     No     No   \n",
       "2           2  34.0  민.간  Yes   500000   4       1     No     No   \n",
       "3           3  28.0  민.간  Yes   700000   3       1     No     No   \n",
       "4           4  28.0  민.간  Yes   700000   8       1    Yes     No   \n",
       "\n",
       "   여행관련보험상품가입여부예측  \n",
       "0               0  \n",
       "1               0  \n",
       "2               1  \n",
       "3               0  \n",
       "4               0  "
      ]
     },
     "execution_count": 8,
     "metadata": {},
     "output_type": "execute_result"
    }
   ],
   "source": [
    "trv.head()"
   ]
  },
  {
   "cell_type": "code",
   "execution_count": 9,
   "id": "51f0f4c6-7700-4873-b9e3-8f7bc63773e8",
   "metadata": {},
   "outputs": [
    {
     "data": {
      "text/plain": [
       "(1987, 10)"
      ]
     },
     "execution_count": 9,
     "metadata": {},
     "output_type": "execute_result"
    }
   ],
   "source": [
    "trv.shape"
   ]
  },
  {
   "cell_type": "code",
   "execution_count": 10,
   "id": "afcffdca-c46f-4b05-8e62-bc444c63391a",
   "metadata": {},
   "outputs": [
    {
     "name": "stdout",
     "output_type": "stream",
     "text": [
      "<class 'pandas.core.frame.DataFrame'>\n",
      "RangeIndex: 1987 entries, 0 to 1986\n",
      "Data columns (total 10 columns):\n",
      " #   Column          Non-Null Count  Dtype  \n",
      "---  ------          --------------  -----  \n",
      " 0   Unnamed: 0      1987 non-null   int64  \n",
      " 1   나이              1975 non-null   float64\n",
      " 2   고용타입            1987 non-null   object \n",
      " 3   대졸여부            1987 non-null   object \n",
      " 4   연소득             1987 non-null   int64  \n",
      " 5   가족수             1987 non-null   object \n",
      " 6   만성질환여부          1987 non-null   int64  \n",
      " 7   유료회원여부          1987 non-null   object \n",
      " 8   여행경험여부          1957 non-null   object \n",
      " 9   여행관련보험상품가입여부예측  1987 non-null   int64  \n",
      "dtypes: float64(1), int64(4), object(5)\n",
      "memory usage: 155.4+ KB\n"
     ]
    }
   ],
   "source": [
    "trv.info()"
   ]
  },
  {
   "cell_type": "code",
   "execution_count": 11,
   "id": "1f5e3d63-a064-4173-a7ee-7d5ef3c88e6c",
   "metadata": {},
   "outputs": [
    {
     "data": {
      "text/plain": [
       "Index(['Unnamed: 0', 'age', 'hire_type', 'college', 'income', 'family',\n",
       "       'disease', 'paid', 'exper', 'trv_insu'],\n",
       "      dtype='object')"
      ]
     },
     "execution_count": 11,
     "metadata": {},
     "output_type": "execute_result"
    }
   ],
   "source": [
    "col=['Unnamed: 0','age','hire_type','college','income','family','disease', 'paid','exper','trv_insu']\n",
    "trv.columns=col\n",
    "trv.columns"
   ]
  },
  {
   "cell_type": "markdown",
   "id": "d5342582-4e1f-4e5d-bb28-3edab7689516",
   "metadata": {},
   "source": [
    "#### To-Do : null(나이, 여행경험여부), object(고용타입, 대졸여부, 가족수, 유료회원여부, 여행경험여부)"
   ]
  },
  {
   "cell_type": "markdown",
   "id": "6a64d66e-c7d9-474c-aaca-38f5d80bcdf9",
   "metadata": {},
   "source": [
    "# EDA"
   ]
  },
  {
   "cell_type": "markdown",
   "id": "415b377c-8f28-403a-a39b-05ae017c0b9d",
   "metadata": {},
   "source": [
    "## Target Feature: 여행관련보험상품가입여부예측"
   ]
  },
  {
   "cell_type": "code",
   "execution_count": 12,
   "id": "3bac127a-0d74-4356-ab63-c7a3596cc89e",
   "metadata": {},
   "outputs": [
    {
     "data": {
      "text/plain": [
       "<AxesSubplot:>"
      ]
     },
     "execution_count": 12,
     "metadata": {},
     "output_type": "execute_result"
    },
    {
     "data": {
      "image/png": "[encoded data removed]",
      "text/plain": [
       "<Figure size 432x288 with 1 Axes>"
      ]
     },
     "metadata": {
      "needs_background": "light"
     },
     "output_type": "display_data"
    }
   ],
   "source": [
    "trv['trv_insu'].hist() # 크게 inbalancing하지는 않다."
   ]
  },
  {
   "cell_type": "code",
   "execution_count": 13,
   "id": "d1761878-d93f-4ee0-99c6-63bc9563da44",
   "metadata": {},
   "outputs": [
    {
     "name": "stdout",
     "output_type": "stream",
     "text": [
      "Unnamed: 0  0     1     2     3     4     5     6     7     8     9     ...  \\\n",
      "trv_insu                                                                ...   \n",
      "0              1     1     0     1     1     1     1     0     0     1  ...   \n",
      "1              0     0     1     0     0     0     0     1     1     0  ...   \n",
      "\n",
      "Unnamed: 0  1977  1978  1979  1980  1981  1982  1983  1984  1985  1986  \n",
      "trv_insu                                                                \n",
      "0              0     0     1     1     0     0     1     1     0     1  \n",
      "1              1     1     0     0     1     1     0     0     1     0  \n",
      "\n",
      "[2 rows x 1987 columns]\n",
      "age       25.0  26.0  27.0  28.0  29.0  30.0  31.0  32.0  33.0  34.0  35.0\n",
      "trv_insu                                                                  \n",
      "0           54    74   104   401   141    37   159    72    70   133    32\n",
      "1           82    74    27   105    51    28    75    19    78   133    26\n",
      "hire_type  민 간  민.간   민간   정부\n",
      "trv_insu                     \n",
      "0          170  419  258  430\n",
      "1          129  281  160  140\n",
      "college    No   Yes\n",
      "trv_insu           \n",
      "0         196  1081\n",
      "1          99   611\n",
      "income    300000   350000   400000   450000   500000   550000   600000   \\\n",
      "trv_insu                                                                  \n",
      "0              82       51       55       10      108       58       79   \n",
      "1               6        4       10        5       35       23       19   \n",
      "\n",
      "income    650000   700000   750000   ...  1300000  1350000  1400000  1450000  \\\n",
      "trv_insu                             ...                                       \n",
      "0              19       65       52  ...       56        2       11        0   \n",
      "1              11       30       13  ...       35       41      119       31   \n",
      "\n",
      "income    1500000  1550000  1650000  1700000  1750000  1800000  \n",
      "trv_insu                                                        \n",
      "0               3        0        0        4       11        0  \n",
      "1              79        5        2       33        4        4  \n",
      "\n",
      "[2 rows x 30 columns]\n",
      "family     2    3    4    5    6   7   8   9  NAN\n",
      "trv_insu                                         \n",
      "0         66  242  344  295  165  97  38  29    1\n",
      "1         27  135  160  131  129  81  21  26    0\n",
      "disease     0    1\n",
      "trv_insu          \n",
      "0         930  347\n",
      "1         505  205\n",
      "paid        No  Yes\n",
      "trv_insu           \n",
      "0         1099  178\n",
      "1          471  239\n",
      "exper       No  Yes\n",
      "trv_insu           \n",
      "0         1170   82\n",
      "1          407  298\n",
      "trv_insu     0    1\n",
      "trv_insu           \n",
      "0         1277    0\n",
      "1            0  710\n"
     ]
    }
   ],
   "source": [
    "# 비율 crosstab\n",
    "for col in trv.columns:\n",
    "    print(pd.crosstab(trv['trv_insu'], trv[col]))"
   ]
  },
  {
   "cell_type": "markdown",
   "id": "fff516d7-07ac-4d26-abfa-54b8c97f1d83",
   "metadata": {},
   "source": [
    "## Unique"
   ]
  },
  {
   "cell_type": "code",
   "execution_count": 14,
   "id": "cf3261cc-f9a3-44c4-841c-2258c563833f",
   "metadata": {},
   "outputs": [
    {
     "data": {
      "text/plain": [
       "Unnamed: 0    1987\n",
       "age             11\n",
       "hire_type        4\n",
       "college          2\n",
       "income          30\n",
       "family           9\n",
       "disease          2\n",
       "paid             2\n",
       "exper            2\n",
       "trv_insu         2\n",
       "dtype: int64"
      ]
     },
     "execution_count": 14,
     "metadata": {},
     "output_type": "execute_result"
    }
   ],
   "source": [
    "trv.nunique()"
   ]
  },
  {
   "cell_type": "code",
   "execution_count": 15,
   "id": "55de39ee-8ad3-4c56-b5fa-1eb941409217",
   "metadata": {},
   "outputs": [
    {
     "name": "stdout",
     "output_type": "stream",
     "text": [
      "Index(['Unnamed: 0', 'age', 'hire_type', 'college', 'income', 'family',\n",
      "       'disease', 'paid', 'exper', 'trv_insu'],\n",
      "      dtype='object')\n",
      "Unnamed: 0: [   0    1    2 ... 1984 1985 1986]\n",
      "age: [25. 26. 27. 28. 29. 30. 31. 32. 33. 34. 35. nan]\n",
      "hire_type: ['민 간' '민.간' '민간' '정부']\n",
      "college: ['No' 'Yes']\n",
      "income: [ 300000  350000  400000  450000  500000  550000  600000  650000  700000\n",
      "  750000  800000  850000  900000  950000 1000000 1050000 1100000 1150000\n",
      " 1200000 1250000 1300000 1350000 1400000 1450000 1500000 1550000 1650000\n",
      " 1700000 1750000 1800000]\n",
      "family: ['2' '3' '4' '5' '6' '7' '8' '9' 'NAN']\n",
      "disease: [0 1]\n",
      "paid: ['No' 'Yes']\n"
     ]
    },
    {
     "ename": "TypeError",
     "evalue": "'<' not supported between instances of 'float' and 'str'",
     "output_type": "error",
     "traceback": [
      "\u001b[1;31m---------------------------------------------------------------------------\u001b[0m",
      "\u001b[1;31mTypeError\u001b[0m                                 Traceback (most recent call last)",
      "\u001b[1;32m~\\AppData\\Local\\Temp/ipykernel_15272/384992682.py\u001b[0m in \u001b[0;36m<module>\u001b[1;34m\u001b[0m\n\u001b[0;32m      2\u001b[0m \u001b[0mprint\u001b[0m\u001b[1;33m(\u001b[0m\u001b[0muniq_col\u001b[0m\u001b[1;33m)\u001b[0m\u001b[1;33m\u001b[0m\u001b[1;33m\u001b[0m\u001b[0m\n\u001b[0;32m      3\u001b[0m \u001b[1;32mfor\u001b[0m \u001b[0mcol\u001b[0m \u001b[1;32min\u001b[0m \u001b[0muniq_col\u001b[0m\u001b[1;33m:\u001b[0m\u001b[1;33m\u001b[0m\u001b[1;33m\u001b[0m\u001b[0m\n\u001b[1;32m----> 4\u001b[1;33m     \u001b[0mprint\u001b[0m\u001b[1;33m(\u001b[0m\u001b[1;34mf\"{col}:\"\u001b[0m\u001b[1;33m,\u001b[0m \u001b[0mnp\u001b[0m\u001b[1;33m.\u001b[0m\u001b[0munique\u001b[0m\u001b[1;33m(\u001b[0m\u001b[0mtrv\u001b[0m\u001b[1;33m[\u001b[0m\u001b[0mcol\u001b[0m\u001b[1;33m]\u001b[0m\u001b[1;33m)\u001b[0m\u001b[1;33m)\u001b[0m\u001b[1;33m\u001b[0m\u001b[1;33m\u001b[0m\u001b[0m\n\u001b[0m\u001b[0;32m      5\u001b[0m \u001b[1;33m\u001b[0m\u001b[0m\n\u001b[0;32m      6\u001b[0m \u001b[1;31m# Error--- '<' not supported between instances of 'float' and 'str' (눈으로만 확인)\u001b[0m\u001b[1;33m\u001b[0m\u001b[1;33m\u001b[0m\u001b[1;33m\u001b[0m\u001b[0m\n",
      "\u001b[1;32mc:\\ai\\pythonproject\\venv\\lib\\site-packages\\numpy\\core\\overrides.py\u001b[0m in \u001b[0;36munique\u001b[1;34m(*args, **kwargs)\u001b[0m\n",
      "\u001b[1;32mc:\\ai\\pythonproject\\venv\\lib\\site-packages\\numpy\\lib\\arraysetops.py\u001b[0m in \u001b[0;36munique\u001b[1;34m(ar, return_index, return_inverse, return_counts, axis)\u001b[0m\n\u001b[0;32m    270\u001b[0m     \u001b[0mar\u001b[0m \u001b[1;33m=\u001b[0m \u001b[0mnp\u001b[0m\u001b[1;33m.\u001b[0m\u001b[0masanyarray\u001b[0m\u001b[1;33m(\u001b[0m\u001b[0mar\u001b[0m\u001b[1;33m)\u001b[0m\u001b[1;33m\u001b[0m\u001b[1;33m\u001b[0m\u001b[0m\n\u001b[0;32m    271\u001b[0m     \u001b[1;32mif\u001b[0m \u001b[0maxis\u001b[0m \u001b[1;32mis\u001b[0m \u001b[1;32mNone\u001b[0m\u001b[1;33m:\u001b[0m\u001b[1;33m\u001b[0m\u001b[1;33m\u001b[0m\u001b[0m\n\u001b[1;32m--> 272\u001b[1;33m         \u001b[0mret\u001b[0m \u001b[1;33m=\u001b[0m \u001b[0m_unique1d\u001b[0m\u001b[1;33m(\u001b[0m\u001b[0mar\u001b[0m\u001b[1;33m,\u001b[0m \u001b[0mreturn_index\u001b[0m\u001b[1;33m,\u001b[0m \u001b[0mreturn_inverse\u001b[0m\u001b[1;33m,\u001b[0m \u001b[0mreturn_counts\u001b[0m\u001b[1;33m)\u001b[0m\u001b[1;33m\u001b[0m\u001b[1;33m\u001b[0m\u001b[0m\n\u001b[0m\u001b[0;32m    273\u001b[0m         \u001b[1;32mreturn\u001b[0m \u001b[0m_unpack_tuple\u001b[0m\u001b[1;33m(\u001b[0m\u001b[0mret\u001b[0m\u001b[1;33m)\u001b[0m\u001b[1;33m\u001b[0m\u001b[1;33m\u001b[0m\u001b[0m\n\u001b[0;32m    274\u001b[0m \u001b[1;33m\u001b[0m\u001b[0m\n",
      "\u001b[1;32mc:\\ai\\pythonproject\\venv\\lib\\site-packages\\numpy\\lib\\arraysetops.py\u001b[0m in \u001b[0;36m_unique1d\u001b[1;34m(ar, return_index, return_inverse, return_counts)\u001b[0m\n\u001b[0;32m    331\u001b[0m         \u001b[0maux\u001b[0m \u001b[1;33m=\u001b[0m \u001b[0mar\u001b[0m\u001b[1;33m[\u001b[0m\u001b[0mperm\u001b[0m\u001b[1;33m]\u001b[0m\u001b[1;33m\u001b[0m\u001b[1;33m\u001b[0m\u001b[0m\n\u001b[0;32m    332\u001b[0m     \u001b[1;32melse\u001b[0m\u001b[1;33m:\u001b[0m\u001b[1;33m\u001b[0m\u001b[1;33m\u001b[0m\u001b[0m\n\u001b[1;32m--> 333\u001b[1;33m         \u001b[0mar\u001b[0m\u001b[1;33m.\u001b[0m\u001b[0msort\u001b[0m\u001b[1;33m(\u001b[0m\u001b[1;33m)\u001b[0m\u001b[1;33m\u001b[0m\u001b[1;33m\u001b[0m\u001b[0m\n\u001b[0m\u001b[0;32m    334\u001b[0m         \u001b[0maux\u001b[0m \u001b[1;33m=\u001b[0m \u001b[0mar\u001b[0m\u001b[1;33m\u001b[0m\u001b[1;33m\u001b[0m\u001b[0m\n\u001b[0;32m    335\u001b[0m     \u001b[0mmask\u001b[0m \u001b[1;33m=\u001b[0m \u001b[0mnp\u001b[0m\u001b[1;33m.\u001b[0m\u001b[0mempty\u001b[0m\u001b[1;33m(\u001b[0m\u001b[0maux\u001b[0m\u001b[1;33m.\u001b[0m\u001b[0mshape\u001b[0m\u001b[1;33m,\u001b[0m \u001b[0mdtype\u001b[0m\u001b[1;33m=\u001b[0m\u001b[0mnp\u001b[0m\u001b[1;33m.\u001b[0m\u001b[0mbool_\u001b[0m\u001b[1;33m)\u001b[0m\u001b[1;33m\u001b[0m\u001b[1;33m\u001b[0m\u001b[0m\n",
      "\u001b[1;31mTypeError\u001b[0m: '<' not supported between instances of 'float' and 'str'"
     ]
    }
   ],
   "source": [
    "uniq_col = trv.columns\n",
    "print(uniq_col)\n",
    "for col in uniq_col:\n",
    "    print(f\"{col}:\", np.unique(trv[col]))\n",
    "    \n",
    "# Error--- '<' not supported between instances of 'float' and 'str' (눈으로만 확인)"
   ]
  },
  {
   "cell_type": "markdown",
   "id": "b9dfaf5c-913b-4b91-ae7d-749a04c9f5be",
   "metadata": {},
   "source": [
    "#### To-Do: 고용타입: 민.간 민 간 -> 민간 / 가족수: 'NAN' -> np.nan / unnamed: drop"
   ]
  },
  {
   "cell_type": "markdown",
   "id": "5450d2a9-71f1-4ad7-b5e5-1ca9e3e92459",
   "metadata": {},
   "source": [
    "## 고용타입 정제"
   ]
  },
  {
   "cell_type": "code",
   "execution_count": 16,
   "id": "14f4b00d-70a2-497b-8015-a48cf3667ad2",
   "metadata": {},
   "outputs": [
    {
     "data": {
      "text/plain": [
       "2"
      ]
     },
     "execution_count": 16,
     "metadata": {},
     "output_type": "execute_result"
    }
   ],
   "source": [
    "trv.loc[ (trv['hire_type']=='민 간')|(trv['hire_type']=='민.간')  , 'hire_type']='민간'\n",
    "trv['hire_type'].nunique()"
   ]
  },
  {
   "cell_type": "code",
   "execution_count": 17,
   "id": "820aa3e7-3869-4931-9f6b-f357726d1a4c",
   "metadata": {},
   "outputs": [
    {
     "name": "stdout",
     "output_type": "stream",
     "text": [
      "<class 'pandas.core.frame.DataFrame'>\n",
      "RangeIndex: 1987 entries, 0 to 1986\n",
      "Data columns (total 10 columns):\n",
      " #   Column      Non-Null Count  Dtype  \n",
      "---  ------      --------------  -----  \n",
      " 0   Unnamed: 0  1987 non-null   int64  \n",
      " 1   age         1975 non-null   float64\n",
      " 2   hire_type   1987 non-null   object \n",
      " 3   college     1987 non-null   object \n",
      " 4   income      1987 non-null   int64  \n",
      " 5   family      1986 non-null   float64\n",
      " 6   disease     1987 non-null   int64  \n",
      " 7   paid        1987 non-null   object \n",
      " 8   exper       1957 non-null   object \n",
      " 9   trv_insu    1987 non-null   int64  \n",
      "dtypes: float64(2), int64(4), object(4)\n",
      "memory usage: 155.4+ KB\n"
     ]
    }
   ],
   "source": [
    "trv.loc[ (trv['family']=='NAN')  , 'family']=np.nan\n",
    "trv['family']=trv['family'].astype(float)\n",
    "trv.info()"
   ]
  },
  {
   "cell_type": "markdown",
   "id": "093cbe52-a6e1-4bdf-bc48-15c8b5ee58c2",
   "metadata": {},
   "source": [
    "#### To-Do: 가족 null값 처리"
   ]
  },
  {
   "cell_type": "markdown",
   "id": "1c2409f6-9561-43a2-81c1-a4f5c90a2364",
   "metadata": {},
   "source": [
    "## Unnamed: 0 제거"
   ]
  },
  {
   "cell_type": "code",
   "execution_count": 18,
   "id": "2de89589-1c1f-4b7f-99fe-f1fafae979e4",
   "metadata": {},
   "outputs": [],
   "source": [
    "trv=trv.drop('Unnamed: 0', axis=1)"
   ]
  },
  {
   "cell_type": "markdown",
   "id": "fe4333af-a5e6-463f-b507-1b0564ca10d8",
   "metadata": {},
   "source": [
    "## Distribution 확인"
   ]
  },
  {
   "cell_type": "code",
   "execution_count": 19,
   "id": "2180dcec-6d49-4523-9790-068288c4b524",
   "metadata": {},
   "outputs": [
    {
     "data": {
      "text/html": [
       "<div>\n",
       "<style scoped>\n",
       "    .dataframe tbody tr th:only-of-type {\n",
       "        vertical-align: middle;\n",
       "    }\n",
       "\n",
       "    .dataframe tbody tr th {\n",
       "        vertical-align: top;\n",
       "    }\n",
       "\n",
       "    .dataframe thead th {\n",
       "        text-align: right;\n",
       "    }\n",
       "</style>\n",
       "<table border=\"1\" class=\"dataframe\">\n",
       "  <thead>\n",
       "    <tr style=\"text-align: right;\">\n",
       "      <th></th>\n",
       "      <th>age</th>\n",
       "      <th>income</th>\n",
       "      <th>family</th>\n",
       "      <th>disease</th>\n",
       "      <th>trv_insu</th>\n",
       "    </tr>\n",
       "  </thead>\n",
       "  <tbody>\n",
       "    <tr>\n",
       "      <th>count</th>\n",
       "      <td>1975.000000</td>\n",
       "      <td>1.987000e+03</td>\n",
       "      <td>1986.000000</td>\n",
       "      <td>1987.000000</td>\n",
       "      <td>1987.000000</td>\n",
       "    </tr>\n",
       "    <tr>\n",
       "      <th>mean</th>\n",
       "      <td>29.668354</td>\n",
       "      <td>9.327630e+05</td>\n",
       "      <td>4.753273</td>\n",
       "      <td>0.277806</td>\n",
       "      <td>0.357323</td>\n",
       "    </tr>\n",
       "    <tr>\n",
       "      <th>std</th>\n",
       "      <td>2.898290</td>\n",
       "      <td>3.768557e+05</td>\n",
       "      <td>1.609966</td>\n",
       "      <td>0.448030</td>\n",
       "      <td>0.479332</td>\n",
       "    </tr>\n",
       "    <tr>\n",
       "      <th>min</th>\n",
       "      <td>25.000000</td>\n",
       "      <td>3.000000e+05</td>\n",
       "      <td>2.000000</td>\n",
       "      <td>0.000000</td>\n",
       "      <td>0.000000</td>\n",
       "    </tr>\n",
       "    <tr>\n",
       "      <th>25%</th>\n",
       "      <td>28.000000</td>\n",
       "      <td>6.000000e+05</td>\n",
       "      <td>4.000000</td>\n",
       "      <td>0.000000</td>\n",
       "      <td>0.000000</td>\n",
       "    </tr>\n",
       "    <tr>\n",
       "      <th>50%</th>\n",
       "      <td>29.000000</td>\n",
       "      <td>9.000000e+05</td>\n",
       "      <td>5.000000</td>\n",
       "      <td>0.000000</td>\n",
       "      <td>0.000000</td>\n",
       "    </tr>\n",
       "    <tr>\n",
       "      <th>75%</th>\n",
       "      <td>32.000000</td>\n",
       "      <td>1.250000e+06</td>\n",
       "      <td>6.000000</td>\n",
       "      <td>1.000000</td>\n",
       "      <td>1.000000</td>\n",
       "    </tr>\n",
       "    <tr>\n",
       "      <th>max</th>\n",
       "      <td>35.000000</td>\n",
       "      <td>1.800000e+06</td>\n",
       "      <td>9.000000</td>\n",
       "      <td>1.000000</td>\n",
       "      <td>1.000000</td>\n",
       "    </tr>\n",
       "  </tbody>\n",
       "</table>\n",
       "</div>"
      ],
      "text/plain": [
       "               age        income       family      disease     trv_insu\n",
       "count  1975.000000  1.987000e+03  1986.000000  1987.000000  1987.000000\n",
       "mean     29.668354  9.327630e+05     4.753273     0.277806     0.357323\n",
       "std       2.898290  3.768557e+05     1.609966     0.448030     0.479332\n",
       "min      25.000000  3.000000e+05     2.000000     0.000000     0.000000\n",
       "25%      28.000000  6.000000e+05     4.000000     0.000000     0.000000\n",
       "50%      29.000000  9.000000e+05     5.000000     0.000000     0.000000\n",
       "75%      32.000000  1.250000e+06     6.000000     1.000000     1.000000\n",
       "max      35.000000  1.800000e+06     9.000000     1.000000     1.000000"
      ]
     },
     "execution_count": 19,
     "metadata": {},
     "output_type": "execute_result"
    }
   ],
   "source": [
    "trv.describe()"
   ]
  },
  {
   "cell_type": "code",
   "execution_count": 20,
   "id": "3f5c4c43-bf7f-4028-9ad9-fedacdc14aef",
   "metadata": {},
   "outputs": [
    {
     "data": {
      "text/plain": [
       "<AxesSubplot:>"
      ]
     },
     "execution_count": 20,
     "metadata": {},
     "output_type": "execute_result"
    },
    {
     "data": {
      "image/png": "[encoded data removed]",
      "text/plain": [
       "<Figure size 432x288 with 1 Axes>"
      ]
     },
     "metadata": {
      "needs_background": "light"
     },
     "output_type": "display_data"
    }
   ],
   "source": [
    "trv['age'].hist()"
   ]
  },
  {
   "cell_type": "code",
   "execution_count": 21,
   "id": "de29c8d0-7d3f-4278-a6a9-1a9ef7e93c0d",
   "metadata": {},
   "outputs": [
    {
     "data": {
      "text/plain": [
       "<AxesSubplot:>"
      ]
     },
     "execution_count": 21,
     "metadata": {},
     "output_type": "execute_result"
    },
    {
     "data": {
      "image/png": "[encoded data removed]",
      "text/plain": [
       "<Figure size 432x288 with 1 Axes>"
      ]
     },
     "metadata": {
      "needs_background": "light"
     },
     "output_type": "display_data"
    }
   ],
   "source": [
    "trv['income'].hist()"
   ]
  },
  {
   "cell_type": "markdown",
   "id": "54dc1690-c3f1-47cb-a96b-694ea2fb11dd",
   "metadata": {},
   "source": [
    "# Feature Engeineering"
   ]
  },
  {
   "cell_type": "markdown",
   "id": "7ecbe42a-2b70-4dac-a9bb-c6bbd850a542",
   "metadata": {},
   "source": [
    "## Object 처리"
   ]
  },
  {
   "cell_type": "code",
   "execution_count": 22,
   "id": "1fc6e8bc-9caa-4147-8bd3-8c0788854710",
   "metadata": {},
   "outputs": [
    {
     "data": {
      "text/html": [
       "<div>\n",
       "<style scoped>\n",
       "    .dataframe tbody tr th:only-of-type {\n",
       "        vertical-align: middle;\n",
       "    }\n",
       "\n",
       "    .dataframe tbody tr th {\n",
       "        vertical-align: top;\n",
       "    }\n",
       "\n",
       "    .dataframe thead th {\n",
       "        text-align: right;\n",
       "    }\n",
       "</style>\n",
       "<table border=\"1\" class=\"dataframe\">\n",
       "  <thead>\n",
       "    <tr style=\"text-align: right;\">\n",
       "      <th></th>\n",
       "      <th>age</th>\n",
       "      <th>college</th>\n",
       "      <th>income</th>\n",
       "      <th>family</th>\n",
       "      <th>disease</th>\n",
       "      <th>paid</th>\n",
       "      <th>exper</th>\n",
       "      <th>trv_insu</th>\n",
       "      <th>hire_public</th>\n",
       "    </tr>\n",
       "  </thead>\n",
       "  <tbody>\n",
       "    <tr>\n",
       "      <th>0</th>\n",
       "      <td>31.0</td>\n",
       "      <td>Yes</td>\n",
       "      <td>400000</td>\n",
       "      <td>6.0</td>\n",
       "      <td>1</td>\n",
       "      <td>No</td>\n",
       "      <td>No</td>\n",
       "      <td>0</td>\n",
       "      <td>1</td>\n",
       "    </tr>\n",
       "    <tr>\n",
       "      <th>1</th>\n",
       "      <td>31.0</td>\n",
       "      <td>Yes</td>\n",
       "      <td>1250000</td>\n",
       "      <td>7.0</td>\n",
       "      <td>0</td>\n",
       "      <td>No</td>\n",
       "      <td>No</td>\n",
       "      <td>0</td>\n",
       "      <td>0</td>\n",
       "    </tr>\n",
       "    <tr>\n",
       "      <th>2</th>\n",
       "      <td>34.0</td>\n",
       "      <td>Yes</td>\n",
       "      <td>500000</td>\n",
       "      <td>4.0</td>\n",
       "      <td>1</td>\n",
       "      <td>No</td>\n",
       "      <td>No</td>\n",
       "      <td>1</td>\n",
       "      <td>0</td>\n",
       "    </tr>\n",
       "    <tr>\n",
       "      <th>3</th>\n",
       "      <td>28.0</td>\n",
       "      <td>Yes</td>\n",
       "      <td>700000</td>\n",
       "      <td>3.0</td>\n",
       "      <td>1</td>\n",
       "      <td>No</td>\n",
       "      <td>No</td>\n",
       "      <td>0</td>\n",
       "      <td>0</td>\n",
       "    </tr>\n",
       "    <tr>\n",
       "      <th>4</th>\n",
       "      <td>28.0</td>\n",
       "      <td>Yes</td>\n",
       "      <td>700000</td>\n",
       "      <td>8.0</td>\n",
       "      <td>1</td>\n",
       "      <td>Yes</td>\n",
       "      <td>No</td>\n",
       "      <td>0</td>\n",
       "      <td>0</td>\n",
       "    </tr>\n",
       "  </tbody>\n",
       "</table>\n",
       "</div>"
      ],
      "text/plain": [
       "    age college   income  family  disease paid exper  trv_insu  hire_public\n",
       "0  31.0     Yes   400000     6.0        1   No    No         0            1\n",
       "1  31.0     Yes  1250000     7.0        0   No    No         0            0\n",
       "2  34.0     Yes   500000     4.0        1   No    No         1            0\n",
       "3  28.0     Yes   700000     3.0        1   No    No         0            0\n",
       "4  28.0     Yes   700000     8.0        1  Yes    No         0            0"
      ]
     },
     "execution_count": 22,
     "metadata": {},
     "output_type": "execute_result"
    }
   ],
   "source": [
    "# get_dummies\n",
    "trv['hire_type'].value_counts()\n",
    "trv['hire_public']=trv['hire_type'].apply(lambda x : 1 if x=='정부' else 0)\n",
    "trv=trv.drop('hire_type', axis=1)\n",
    "trv.head()"
   ]
  },
  {
   "cell_type": "code",
   "execution_count": 23,
   "id": "c3ee74b2-b99c-4354-a0b9-8ed1442f26c7",
   "metadata": {},
   "outputs": [
    {
     "data": {
      "text/html": [
       "<div>\n",
       "<style scoped>\n",
       "    .dataframe tbody tr th:only-of-type {\n",
       "        vertical-align: middle;\n",
       "    }\n",
       "\n",
       "    .dataframe tbody tr th {\n",
       "        vertical-align: top;\n",
       "    }\n",
       "\n",
       "    .dataframe thead th {\n",
       "        text-align: right;\n",
       "    }\n",
       "</style>\n",
       "<table border=\"1\" class=\"dataframe\">\n",
       "  <thead>\n",
       "    <tr style=\"text-align: right;\">\n",
       "      <th></th>\n",
       "      <th>age</th>\n",
       "      <th>college</th>\n",
       "      <th>income</th>\n",
       "      <th>family</th>\n",
       "      <th>disease</th>\n",
       "      <th>paid</th>\n",
       "      <th>exper</th>\n",
       "      <th>trv_insu</th>\n",
       "      <th>hire_public</th>\n",
       "    </tr>\n",
       "  </thead>\n",
       "  <tbody>\n",
       "    <tr>\n",
       "      <th>0</th>\n",
       "      <td>31.0</td>\n",
       "      <td>1</td>\n",
       "      <td>400000</td>\n",
       "      <td>6.0</td>\n",
       "      <td>1</td>\n",
       "      <td>No</td>\n",
       "      <td>No</td>\n",
       "      <td>0</td>\n",
       "      <td>1</td>\n",
       "    </tr>\n",
       "    <tr>\n",
       "      <th>1</th>\n",
       "      <td>31.0</td>\n",
       "      <td>1</td>\n",
       "      <td>1250000</td>\n",
       "      <td>7.0</td>\n",
       "      <td>0</td>\n",
       "      <td>No</td>\n",
       "      <td>No</td>\n",
       "      <td>0</td>\n",
       "      <td>0</td>\n",
       "    </tr>\n",
       "    <tr>\n",
       "      <th>2</th>\n",
       "      <td>34.0</td>\n",
       "      <td>1</td>\n",
       "      <td>500000</td>\n",
       "      <td>4.0</td>\n",
       "      <td>1</td>\n",
       "      <td>No</td>\n",
       "      <td>No</td>\n",
       "      <td>1</td>\n",
       "      <td>0</td>\n",
       "    </tr>\n",
       "    <tr>\n",
       "      <th>3</th>\n",
       "      <td>28.0</td>\n",
       "      <td>1</td>\n",
       "      <td>700000</td>\n",
       "      <td>3.0</td>\n",
       "      <td>1</td>\n",
       "      <td>No</td>\n",
       "      <td>No</td>\n",
       "      <td>0</td>\n",
       "      <td>0</td>\n",
       "    </tr>\n",
       "    <tr>\n",
       "      <th>4</th>\n",
       "      <td>28.0</td>\n",
       "      <td>1</td>\n",
       "      <td>700000</td>\n",
       "      <td>8.0</td>\n",
       "      <td>1</td>\n",
       "      <td>Yes</td>\n",
       "      <td>No</td>\n",
       "      <td>0</td>\n",
       "      <td>0</td>\n",
       "    </tr>\n",
       "  </tbody>\n",
       "</table>\n",
       "</div>"
      ],
      "text/plain": [
       "    age  college   income  family  disease paid exper  trv_insu  hire_public\n",
       "0  31.0        1   400000     6.0        1   No    No         0            1\n",
       "1  31.0        1  1250000     7.0        0   No    No         0            0\n",
       "2  34.0        1   500000     4.0        1   No    No         1            0\n",
       "3  28.0        1   700000     3.0        1   No    No         0            0\n",
       "4  28.0        1   700000     8.0        1  Yes    No         0            0"
      ]
     },
     "execution_count": 23,
     "metadata": {},
     "output_type": "execute_result"
    }
   ],
   "source": [
    "# get_dummies\n",
    "trv['college'].value_counts()\n",
    "trv['college']=trv['college'].apply(lambda x : 1 if x=='Yes' else 0)\n",
    "trv.head()"
   ]
  },
  {
   "cell_type": "code",
   "execution_count": 24,
   "id": "fe4e5003-0588-4a28-8fb8-cc062b33c55f",
   "metadata": {},
   "outputs": [
    {
     "data": {
      "text/plain": [
       "4.0    504\n",
       "5.0    426\n",
       "3.0    377\n",
       "6.0    294\n",
       "7.0    178\n",
       "2.0     93\n",
       "8.0     59\n",
       "9.0     55\n",
       "Name: family, dtype: int64"
      ]
     },
     "execution_count": 24,
     "metadata": {},
     "output_type": "execute_result"
    }
   ],
   "source": [
    "trv['family'].value_counts()"
   ]
  },
  {
   "cell_type": "code",
   "execution_count": 25,
   "id": "cfaa1db4-8abf-48d2-8971-66c684630e42",
   "metadata": {},
   "outputs": [
    {
     "data": {
      "text/html": [
       "<div>\n",
       "<style scoped>\n",
       "    .dataframe tbody tr th:only-of-type {\n",
       "        vertical-align: middle;\n",
       "    }\n",
       "\n",
       "    .dataframe tbody tr th {\n",
       "        vertical-align: top;\n",
       "    }\n",
       "\n",
       "    .dataframe thead th {\n",
       "        text-align: right;\n",
       "    }\n",
       "</style>\n",
       "<table border=\"1\" class=\"dataframe\">\n",
       "  <thead>\n",
       "    <tr style=\"text-align: right;\">\n",
       "      <th></th>\n",
       "      <th>age</th>\n",
       "      <th>college</th>\n",
       "      <th>income</th>\n",
       "      <th>family</th>\n",
       "      <th>disease</th>\n",
       "      <th>paid</th>\n",
       "      <th>exper</th>\n",
       "      <th>trv_insu</th>\n",
       "      <th>hire_public</th>\n",
       "    </tr>\n",
       "  </thead>\n",
       "  <tbody>\n",
       "    <tr>\n",
       "      <th>0</th>\n",
       "      <td>31.0</td>\n",
       "      <td>1</td>\n",
       "      <td>400000</td>\n",
       "      <td>6.0</td>\n",
       "      <td>1</td>\n",
       "      <td>0</td>\n",
       "      <td>No</td>\n",
       "      <td>0</td>\n",
       "      <td>1</td>\n",
       "    </tr>\n",
       "    <tr>\n",
       "      <th>1</th>\n",
       "      <td>31.0</td>\n",
       "      <td>1</td>\n",
       "      <td>1250000</td>\n",
       "      <td>7.0</td>\n",
       "      <td>0</td>\n",
       "      <td>0</td>\n",
       "      <td>No</td>\n",
       "      <td>0</td>\n",
       "      <td>0</td>\n",
       "    </tr>\n",
       "    <tr>\n",
       "      <th>2</th>\n",
       "      <td>34.0</td>\n",
       "      <td>1</td>\n",
       "      <td>500000</td>\n",
       "      <td>4.0</td>\n",
       "      <td>1</td>\n",
       "      <td>0</td>\n",
       "      <td>No</td>\n",
       "      <td>1</td>\n",
       "      <td>0</td>\n",
       "    </tr>\n",
       "    <tr>\n",
       "      <th>3</th>\n",
       "      <td>28.0</td>\n",
       "      <td>1</td>\n",
       "      <td>700000</td>\n",
       "      <td>3.0</td>\n",
       "      <td>1</td>\n",
       "      <td>0</td>\n",
       "      <td>No</td>\n",
       "      <td>0</td>\n",
       "      <td>0</td>\n",
       "    </tr>\n",
       "    <tr>\n",
       "      <th>4</th>\n",
       "      <td>28.0</td>\n",
       "      <td>1</td>\n",
       "      <td>700000</td>\n",
       "      <td>8.0</td>\n",
       "      <td>1</td>\n",
       "      <td>1</td>\n",
       "      <td>No</td>\n",
       "      <td>0</td>\n",
       "      <td>0</td>\n",
       "    </tr>\n",
       "  </tbody>\n",
       "</table>\n",
       "</div>"
      ],
      "text/plain": [
       "    age  college   income  family  disease  paid exper  trv_insu  hire_public\n",
       "0  31.0        1   400000     6.0        1     0    No         0            1\n",
       "1  31.0        1  1250000     7.0        0     0    No         0            0\n",
       "2  34.0        1   500000     4.0        1     0    No         1            0\n",
       "3  28.0        1   700000     3.0        1     0    No         0            0\n",
       "4  28.0        1   700000     8.0        1     1    No         0            0"
      ]
     },
     "execution_count": 25,
     "metadata": {},
     "output_type": "execute_result"
    }
   ],
   "source": [
    "# get_dummies\n",
    "trv['paid'].value_counts()\n",
    "trv['paid']=trv['paid'].apply(lambda x : 1 if x=='Yes' else 0)\n",
    "trv.head()"
   ]
  },
  {
   "cell_type": "code",
   "execution_count": 26,
   "id": "0b44c79a-aa89-4fab-a029-2f1d07551d0a",
   "metadata": {},
   "outputs": [
    {
     "data": {
      "text/html": [
       "<div>\n",
       "<style scoped>\n",
       "    .dataframe tbody tr th:only-of-type {\n",
       "        vertical-align: middle;\n",
       "    }\n",
       "\n",
       "    .dataframe tbody tr th {\n",
       "        vertical-align: top;\n",
       "    }\n",
       "\n",
       "    .dataframe thead th {\n",
       "        text-align: right;\n",
       "    }\n",
       "</style>\n",
       "<table border=\"1\" class=\"dataframe\">\n",
       "  <thead>\n",
       "    <tr style=\"text-align: right;\">\n",
       "      <th></th>\n",
       "      <th>age</th>\n",
       "      <th>college</th>\n",
       "      <th>income</th>\n",
       "      <th>family</th>\n",
       "      <th>disease</th>\n",
       "      <th>paid</th>\n",
       "      <th>exper</th>\n",
       "      <th>trv_insu</th>\n",
       "      <th>hire_public</th>\n",
       "    </tr>\n",
       "  </thead>\n",
       "  <tbody>\n",
       "    <tr>\n",
       "      <th>0</th>\n",
       "      <td>31.0</td>\n",
       "      <td>1</td>\n",
       "      <td>400000</td>\n",
       "      <td>6.0</td>\n",
       "      <td>1</td>\n",
       "      <td>0</td>\n",
       "      <td>0</td>\n",
       "      <td>0</td>\n",
       "      <td>1</td>\n",
       "    </tr>\n",
       "    <tr>\n",
       "      <th>1</th>\n",
       "      <td>31.0</td>\n",
       "      <td>1</td>\n",
       "      <td>1250000</td>\n",
       "      <td>7.0</td>\n",
       "      <td>0</td>\n",
       "      <td>0</td>\n",
       "      <td>0</td>\n",
       "      <td>0</td>\n",
       "      <td>0</td>\n",
       "    </tr>\n",
       "    <tr>\n",
       "      <th>2</th>\n",
       "      <td>34.0</td>\n",
       "      <td>1</td>\n",
       "      <td>500000</td>\n",
       "      <td>4.0</td>\n",
       "      <td>1</td>\n",
       "      <td>0</td>\n",
       "      <td>0</td>\n",
       "      <td>1</td>\n",
       "      <td>0</td>\n",
       "    </tr>\n",
       "    <tr>\n",
       "      <th>3</th>\n",
       "      <td>28.0</td>\n",
       "      <td>1</td>\n",
       "      <td>700000</td>\n",
       "      <td>3.0</td>\n",
       "      <td>1</td>\n",
       "      <td>0</td>\n",
       "      <td>0</td>\n",
       "      <td>0</td>\n",
       "      <td>0</td>\n",
       "    </tr>\n",
       "    <tr>\n",
       "      <th>4</th>\n",
       "      <td>28.0</td>\n",
       "      <td>1</td>\n",
       "      <td>700000</td>\n",
       "      <td>8.0</td>\n",
       "      <td>1</td>\n",
       "      <td>1</td>\n",
       "      <td>0</td>\n",
       "      <td>0</td>\n",
       "      <td>0</td>\n",
       "    </tr>\n",
       "  </tbody>\n",
       "</table>\n",
       "</div>"
      ],
      "text/plain": [
       "    age  college   income  family  disease  paid  exper  trv_insu  hire_public\n",
       "0  31.0        1   400000     6.0        1     0      0         0            1\n",
       "1  31.0        1  1250000     7.0        0     0      0         0            0\n",
       "2  34.0        1   500000     4.0        1     0      0         1            0\n",
       "3  28.0        1   700000     3.0        1     0      0         0            0\n",
       "4  28.0        1   700000     8.0        1     1      0         0            0"
      ]
     },
     "execution_count": 26,
     "metadata": {},
     "output_type": "execute_result"
    }
   ],
   "source": [
    "# get_dummies\n",
    "trv['exper'].value_counts()\n",
    "trv['exper']=trv['exper'].apply(lambda x : 1 if x=='Yes' else 0)\n",
    "trv.head()"
   ]
  },
  {
   "cell_type": "markdown",
   "id": "085dad5e-5cf4-46ad-a1bb-6c14c1b22a41",
   "metadata": {},
   "source": [
    "## Null 처리"
   ]
  },
  {
   "cell_type": "code",
   "execution_count": 27,
   "id": "bf8d1236-ec2d-4778-bafa-56f1ff6c9141",
   "metadata": {},
   "outputs": [
    {
     "name": "stdout",
     "output_type": "stream",
     "text": [
      "<class 'pandas.core.frame.DataFrame'>\n",
      "RangeIndex: 1987 entries, 0 to 1986\n",
      "Data columns (total 9 columns):\n",
      " #   Column       Non-Null Count  Dtype  \n",
      "---  ------       --------------  -----  \n",
      " 0   age          1975 non-null   float64\n",
      " 1   college      1987 non-null   int64  \n",
      " 2   income       1987 non-null   int64  \n",
      " 3   family       1986 non-null   float64\n",
      " 4   disease      1987 non-null   int64  \n",
      " 5   paid         1987 non-null   int64  \n",
      " 6   exper        1987 non-null   int64  \n",
      " 7   trv_insu     1987 non-null   int64  \n",
      " 8   hire_public  1987 non-null   int64  \n",
      "dtypes: float64(2), int64(7)\n",
      "memory usage: 139.8 KB\n"
     ]
    }
   ],
   "source": [
    "trv.info()"
   ]
  },
  {
   "cell_type": "markdown",
   "id": "20c0e9b8-2610-4058-a230-ade07f692d02",
   "metadata": {},
   "source": [
    "### age"
   ]
  },
  {
   "cell_type": "code",
   "execution_count": 28,
   "id": "48a93752-ca23-4ef5-834d-0a15c17fde87",
   "metadata": {},
   "outputs": [
    {
     "data": {
      "text/plain": [
       "0    28.0\n",
       "dtype: float64"
      ]
     },
     "execution_count": 28,
     "metadata": {},
     "output_type": "execute_result"
    },
    {
     "data": {
      "image/png": "[encoded data removed]",
      "text/plain": [
       "<Figure size 432x288 with 1 Axes>"
      ]
     },
     "metadata": {
      "needs_background": "light"
     },
     "output_type": "display_data"
    }
   ],
   "source": [
    "# mode로 fillna하려면 .values[0] 붙여야 됨!!!!!!!!!!!!!!!!!!!!!!!!!!!!!!!!!!!\n",
    "\n",
    "trv['age'].isna().sum()\n",
    "# trv['age'].hist()\n",
    "trv['income'].hist()\n",
    "trv.loc[trv['age'].isna(), 'income']\n",
    "trv.loc[trv['income']==1700000, 'age'].mode() # 25\n",
    "trv.loc[trv['income']==1150000, 'age'].mode() # 28\n",
    "trv.loc[trv['income']==1100000, 'age'].mode()# 28\n",
    "trv.loc[trv['income']==1400000, 'age'].mode()# 26\n",
    "trv.loc[trv['income']==750000, 'age'].mode() # 28 "
   ]
  },
  {
   "cell_type": "code",
   "execution_count": 29,
   "id": "8d402a1d-b886-49ae-89fe-809a9fbc7d11",
   "metadata": {},
   "outputs": [],
   "source": [
    "# trv.loc[trv['income']==1700000, 'age'].fillna(25, inplace=True)# 25\n",
    "# trv.loc[trv['income']==1150000, 'age'].fillna(28) # 28\n",
    "# trv.loc[trv['income']==1100000, 'age'].fillna(28)# 28\n",
    "# trv.loc[trv['income']==1400000, 'age'].fillna(26)# 26\n",
    "# trv.loc[trv['income']==750000, 'age'].fillna(28)# 28 "
   ]
  },
  {
   "cell_type": "code",
   "execution_count": 30,
   "id": "a3efd5e4-7287-48b9-9695-e7e600d82720",
   "metadata": {},
   "outputs": [],
   "source": [
    "trv[\"age\"].fillna(trv.groupby(by=\"income\")[\"age\"].transform(\"mean\"),inplace=True)"
   ]
  },
  {
   "cell_type": "code",
   "execution_count": 31,
   "id": "2dd54a59-3806-46a0-a5d8-328def1efb59",
   "metadata": {},
   "outputs": [
    {
     "data": {
      "text/plain": [
       "0"
      ]
     },
     "execution_count": 31,
     "metadata": {},
     "output_type": "execute_result"
    }
   ],
   "source": [
    "trv['age'].isna().sum()"
   ]
  },
  {
   "cell_type": "code",
   "execution_count": 32,
   "id": "ec89ed8b-d2a0-41ff-b520-f4c4bd0042f7",
   "metadata": {},
   "outputs": [],
   "source": [
    "trv['age']=trv['age'].astype(int)"
   ]
  },
  {
   "cell_type": "markdown",
   "id": "718facb5-706c-4bb6-82f4-a5a011c36f72",
   "metadata": {},
   "source": [
    "### family"
   ]
  },
  {
   "cell_type": "code",
   "execution_count": 33,
   "id": "8e089783-7aab-428f-b6b9-c5a9c2a43a09",
   "metadata": {},
   "outputs": [],
   "source": [
    "# 한 개이므로 최빈값으로 채움\n",
    "# fam_mode=trv['family'].mode()\n",
    "# fam_mode # 4.0\n",
    "trv['family']=trv['family'].fillna(4.0)\n",
    "trv['family']=trv['family'].astype('int')"
   ]
  },
  {
   "cell_type": "markdown",
   "id": "463cad30-9ed8-48dd-93c2-d326cf28fc71",
   "metadata": {},
   "source": [
    "## 확인"
   ]
  },
  {
   "cell_type": "code",
   "execution_count": 34,
   "id": "14a638aa-af62-4001-9327-d5953250f36e",
   "metadata": {},
   "outputs": [
    {
     "name": "stdout",
     "output_type": "stream",
     "text": [
      "<class 'pandas.core.frame.DataFrame'>\n",
      "RangeIndex: 1987 entries, 0 to 1986\n",
      "Data columns (total 9 columns):\n",
      " #   Column       Non-Null Count  Dtype\n",
      "---  ------       --------------  -----\n",
      " 0   age          1987 non-null   int32\n",
      " 1   college      1987 non-null   int64\n",
      " 2   income       1987 non-null   int64\n",
      " 3   family       1987 non-null   int32\n",
      " 4   disease      1987 non-null   int64\n",
      " 5   paid         1987 non-null   int64\n",
      " 6   exper        1987 non-null   int64\n",
      " 7   trv_insu     1987 non-null   int64\n",
      " 8   hire_public  1987 non-null   int64\n",
      "dtypes: int32(2), int64(7)\n",
      "memory usage: 124.3 KB\n"
     ]
    }
   ],
   "source": [
    "trv.info()"
   ]
  },
  {
   "cell_type": "markdown",
   "id": "778d1afa-85cb-4c6d-ba29-c83ceb264c85",
   "metadata": {},
   "source": [
    "# 1차 모형분석"
   ]
  },
  {
   "cell_type": "code",
   "execution_count": 35,
   "id": "3547e885-4226-456d-b919-83c3bde5c789",
   "metadata": {},
   "outputs": [],
   "source": [
    "X=trv.drop('trv_insu', axis=1)\n",
    "y=trv['trv_insu']"
   ]
  },
  {
   "cell_type": "code",
   "execution_count": 36,
   "id": "96ef3d8a-f0ee-4d32-a48e-54fb92411672",
   "metadata": {},
   "outputs": [
    {
     "name": "stdout",
     "output_type": "stream",
     "text": [
      "(1490, 8) (497, 8) (1490,) (497,)\n"
     ]
    }
   ],
   "source": [
    "X_train, X_test, y_train, y_test = train_test_split(X, y, random_state=1024)\n",
    "print(X_train.shape, X_test.shape, y_train.shape, y_test.shape)"
   ]
  },
  {
   "cell_type": "code",
   "execution_count": 37,
   "id": "a7165905-cc78-4155-bfac-f3a13eec0890",
   "metadata": {},
   "outputs": [],
   "source": [
    "model=RandomForestClassifier(random_state=1024)\n",
    "model.fit(X_train, y_train)\n",
    "pred = model.predict(X_test)"
   ]
  },
  {
   "cell_type": "code",
   "execution_count": 38,
   "id": "15f56a18-307e-4aae-bdee-1bbf1a912140",
   "metadata": {},
   "outputs": [
    {
     "data": {
      "text/plain": [
       "0.7444473870056497"
      ]
     },
     "execution_count": 38,
     "metadata": {},
     "output_type": "execute_result"
    }
   ],
   "source": [
    "roc_auc_score(y_test, pred, average=\"macro\")"
   ]
  },
  {
   "cell_type": "code",
   "execution_count": 39,
   "id": "267c6ec0-bc7b-4b36-a410-05436aa94e35",
   "metadata": {},
   "outputs": [
    {
     "data": {
      "text/plain": [
       "0.753838533927687"
      ]
     },
     "execution_count": 39,
     "metadata": {},
     "output_type": "execute_result"
    }
   ],
   "source": [
    "f1_score(y_test, pred, average=\"macro\")"
   ]
  },
  {
   "cell_type": "code",
   "execution_count": 40,
   "id": "796b7e6d-d8d8-481a-b128-68823f2c663c",
   "metadata": {},
   "outputs": [],
   "source": [
    "# model=LogisticRegression(penalty=\"l2\")\n",
    "# model.fit(X_train, y_train)\n",
    "# pred = model.predict(X_test)"
   ]
  },
  {
   "cell_type": "code",
   "execution_count": 41,
   "id": "c5d47048-71e8-4a87-ab22-13853f13e906",
   "metadata": {},
   "outputs": [],
   "source": [
    "# roc_auc_score(y_test, pred)"
   ]
  },
  {
   "cell_type": "code",
   "execution_count": 42,
   "id": "b36be280-3d24-4c35-90ca-2285197f724a",
   "metadata": {},
   "outputs": [],
   "source": [
    "# f1_score(y_test, pred)"
   ]
  },
  {
   "cell_type": "code",
   "execution_count": null,
   "id": "64e45e86-34e3-4bf5-b73d-efdcef4ac75d",
   "metadata": {},
   "outputs": [],
   "source": []
  },
  {
   "cell_type": "code",
   "execution_count": null,
   "id": "5b9ecdc0-4bc8-4d16-8dcb-4af450991446",
   "metadata": {},
   "outputs": [],
   "source": []
  },
  {
   "cell_type": "markdown",
   "id": "c37a7249-32b3-4629-8feb-b803205c9bb2",
   "metadata": {},
   "source": [
    "# 튜닝"
   ]
  },
  {
   "cell_type": "code",
   "execution_count": 43,
   "id": "e3f46619-b3e9-41f0-9803-aa39093fa571",
   "metadata": {},
   "outputs": [],
   "source": [
    "model=RandomForestClassifier(random_state=1024)\n",
    "myparam = {'n_estimators':[30, 50, 100,200, 300]}\n",
    "gcv=GridSearchCV(model, param_grid=myparam, scoring=\"roc_auc\", cv=5)\n",
    "gcv.fit(X_train, y_train)\n",
    "pred = gcv.predict(X_test)\n",
    "auc = roc_auc_score(y_test, pred, average='macro')"
   ]
  },
  {
   "cell_type": "code",
   "execution_count": 44,
   "id": "369bcde3-7ec9-4037-9e78-6cccfc98cf5e",
   "metadata": {},
   "outputs": [
    {
     "name": "stdout",
     "output_type": "stream",
     "text": [
      "GCV auc 점수 0.7401\n"
     ]
    }
   ],
   "source": [
    "print(f\"GCV auc 점수 {auc:.4f}\")"
   ]
  },
  {
   "cell_type": "code",
   "execution_count": 45,
   "id": "1a929030-3434-4485-9f4c-428cca1a670f",
   "metadata": {},
   "outputs": [],
   "source": [
    "myparam = {'n_estimators':[30, 50, 100,200, 300]}\n",
    "gcv=GridSearchCV(model, param_grid=myparam, scoring=\"f1_macro\", cv=5)\n",
    "gcv.fit(X_train, y_train)\n",
    "pred = gcv.predict(X_test)\n",
    "f1 = f1_score(y_test, pred, average='macro')\n"
   ]
  },
  {
   "cell_type": "code",
   "execution_count": 46,
   "id": "075758f6-2bf8-4b87-874b-a7378621685f",
   "metadata": {},
   "outputs": [
    {
     "name": "stdout",
     "output_type": "stream",
     "text": [
      "GCV f1 점수 0.7492\n"
     ]
    }
   ],
   "source": [
    "print(f\"GCV f1 점수 {f1:.4f}\")"
   ]
  },
  {
   "cell_type": "markdown",
   "id": "7dda11e7-9d2c-4a8e-b0c6-7463a4209305",
   "metadata": {},
   "source": [
    "# OverSampling"
   ]
  },
  {
   "cell_type": "code",
   "execution_count": 47,
   "id": "7275e9ac-ff8c-45a4-bb9e-81ae1836889b",
   "metadata": {},
   "outputs": [],
   "source": [
    "smote=SMOTE(random_state=1024)"
   ]
  },
  {
   "cell_type": "code",
   "execution_count": 48,
   "id": "336d198e-4d40-4f21-9161-d44ed1912463",
   "metadata": {},
   "outputs": [],
   "source": [
    "over_X, over_y = smote.fit_resample(X,y)"
   ]
  },
  {
   "cell_type": "code",
   "execution_count": 49,
   "id": "a55ef665-68a1-4f07-9821-a9b56886fa23",
   "metadata": {},
   "outputs": [
    {
     "name": "stdout",
     "output_type": "stream",
     "text": [
      "(1915, 8) (639, 8) (1915,) (639,)\n"
     ]
    }
   ],
   "source": [
    "over_X_train, over_X_test, over_y_train, over_y_test = train_test_split(over_X, over_y, random_state=1024)\n",
    "print(over_X_train.shape, over_X_test.shape, over_y_train.shape, over_y_test.shape)"
   ]
  },
  {
   "cell_type": "code",
   "execution_count": 50,
   "id": "0780cc68-a9ea-46ea-aaf9-6d88e5f2042e",
   "metadata": {},
   "outputs": [],
   "source": [
    "model=RandomForestClassifier(random_state=1024)\n",
    "myparam = {'n_estimators':[30, 50, 100,200, 300]}\n",
    "gcv=GridSearchCV(model, param_grid=myparam, scoring=\"roc_auc\", cv=5)\n",
    "gcv.fit(over_X_train, over_y_train)\n",
    "over_pred = gcv.predict(over_X_test)\n",
    "auc = roc_auc_score(over_y_test, over_pred, average='macro')"
   ]
  },
  {
   "cell_type": "code",
   "execution_count": 51,
   "id": "5d5757f3-d107-4cb5-9766-053c0f5595b1",
   "metadata": {},
   "outputs": [
    {
     "name": "stdout",
     "output_type": "stream",
     "text": [
      "GCV auc 점수 0.7613\n"
     ]
    }
   ],
   "source": [
    "print(f\"GCV auc 점수 {auc:.4f}\")"
   ]
  },
  {
   "cell_type": "code",
   "execution_count": 52,
   "id": "4dc5e7ee-06b7-48af-bcc8-18f582ee4076",
   "metadata": {},
   "outputs": [],
   "source": [
    "model=RandomForestClassifier(random_state=1024)\n",
    "myparam = {'n_estimators':[30, 50, 100,200, 300]}\n",
    "gcv=GridSearchCV(model, param_grid=myparam, scoring=\"f1_macro\", cv=5)\n",
    "gcv.fit(over_X_train, over_y_train)\n",
    "over_pred = gcv.predict(over_X_test)\n",
    "f1 = roc_auc_score(over_y_test, over_pred, average='macro')"
   ]
  },
  {
   "cell_type": "code",
   "execution_count": 53,
   "id": "e1dad1d1-f2bb-4a88-a791-6c01032ecf5d",
   "metadata": {},
   "outputs": [
    {
     "name": "stdout",
     "output_type": "stream",
     "text": [
      "GCV f1 점수 0.7600\n"
     ]
    }
   ],
   "source": [
    "print(f\"GCV f1 점수 {f1:.4f}\")"
   ]
  },
  {
   "cell_type": "markdown",
   "id": "d4013525-073a-42a1-b213-0ad1bef85017",
   "metadata": {},
   "source": [
    "# 변수 분석"
   ]
  },
  {
   "cell_type": "code",
   "execution_count": 54,
   "id": "4899e015-df4f-42b5-b8d1-0967628756cc",
   "metadata": {},
   "outputs": [
    {
     "data": {
      "text/plain": [
       "array([[<AxesSubplot:title={'center':'age'}>,\n",
       "        <AxesSubplot:title={'center':'college'}>,\n",
       "        <AxesSubplot:title={'center':'income'}>],\n",
       "       [<AxesSubplot:title={'center':'family'}>,\n",
       "        <AxesSubplot:title={'center':'disease'}>,\n",
       "        <AxesSubplot:title={'center':'paid'}>],\n",
       "       [<AxesSubplot:title={'center':'exper'}>,\n",
       "        <AxesSubplot:title={'center':'trv_insu'}>,\n",
       "        <AxesSubplot:title={'center':'hire_public'}>]], dtype=object)"
      ]
     },
     "execution_count": 54,
     "metadata": {},
     "output_type": "execute_result"
    },
    {
     "data": {
      "image/png": "[encoded data removed]",
      "text/plain": [
       "<Figure size 432x288 with 9 Axes>"
      ]
     },
     "metadata": {
      "needs_background": "light"
     },
     "output_type": "display_data"
    }
   ],
   "source": [
    "trv.hist()"
   ]
  },
  {
   "cell_type": "code",
   "execution_count": 55,
   "id": "5c11d4ee-bd98-4ed9-9db2-5aee91419f3a",
   "metadata": {},
   "outputs": [
    {
     "data": {
      "text/html": [
       "<div>\n",
       "<style scoped>\n",
       "    .dataframe tbody tr th:only-of-type {\n",
       "        vertical-align: middle;\n",
       "    }\n",
       "\n",
       "    .dataframe tbody tr th {\n",
       "        vertical-align: top;\n",
       "    }\n",
       "\n",
       "    .dataframe thead th {\n",
       "        text-align: right;\n",
       "    }\n",
       "</style>\n",
       "<table border=\"1\" class=\"dataframe\">\n",
       "  <thead>\n",
       "    <tr style=\"text-align: right;\">\n",
       "      <th></th>\n",
       "      <th>age</th>\n",
       "      <th>college</th>\n",
       "      <th>income</th>\n",
       "      <th>family</th>\n",
       "      <th>disease</th>\n",
       "      <th>paid</th>\n",
       "      <th>exper</th>\n",
       "      <th>trv_insu</th>\n",
       "      <th>hire_public</th>\n",
       "    </tr>\n",
       "  </thead>\n",
       "  <tbody>\n",
       "    <tr>\n",
       "      <th>age</th>\n",
       "      <td>1.000000</td>\n",
       "      <td>0.027040</td>\n",
       "      <td>-0.017851</td>\n",
       "      <td>0.027090</td>\n",
       "      <td>0.008121</td>\n",
       "      <td>-0.033655</td>\n",
       "      <td>-0.008317</td>\n",
       "      <td>0.062244</td>\n",
       "      <td>0.112103</td>\n",
       "    </tr>\n",
       "    <tr>\n",
       "      <th>college</th>\n",
       "      <td>0.027040</td>\n",
       "      <td>1.000000</td>\n",
       "      <td>0.108066</td>\n",
       "      <td>0.021201</td>\n",
       "      <td>0.018811</td>\n",
       "      <td>-0.028120</td>\n",
       "      <td>0.062683</td>\n",
       "      <td>0.018934</td>\n",
       "      <td>0.127133</td>\n",
       "    </tr>\n",
       "    <tr>\n",
       "      <th>income</th>\n",
       "      <td>-0.017851</td>\n",
       "      <td>0.108066</td>\n",
       "      <td>1.000000</td>\n",
       "      <td>-0.015367</td>\n",
       "      <td>-0.001149</td>\n",
       "      <td>0.353087</td>\n",
       "      <td>0.486043</td>\n",
       "      <td>0.396763</td>\n",
       "      <td>-0.349157</td>\n",
       "    </tr>\n",
       "    <tr>\n",
       "      <th>family</th>\n",
       "      <td>0.027090</td>\n",
       "      <td>0.021201</td>\n",
       "      <td>-0.015367</td>\n",
       "      <td>1.000000</td>\n",
       "      <td>0.028209</td>\n",
       "      <td>-0.023775</td>\n",
       "      <td>-0.020755</td>\n",
       "      <td>0.079909</td>\n",
       "      <td>0.003354</td>\n",
       "    </tr>\n",
       "    <tr>\n",
       "      <th>disease</th>\n",
       "      <td>0.008121</td>\n",
       "      <td>0.018811</td>\n",
       "      <td>-0.001149</td>\n",
       "      <td>0.028209</td>\n",
       "      <td>1.000000</td>\n",
       "      <td>-0.043720</td>\n",
       "      <td>0.021238</td>\n",
       "      <td>0.018190</td>\n",
       "      <td>0.011553</td>\n",
       "    </tr>\n",
       "    <tr>\n",
       "      <th>paid</th>\n",
       "      <td>-0.033655</td>\n",
       "      <td>-0.028120</td>\n",
       "      <td>0.353087</td>\n",
       "      <td>-0.023775</td>\n",
       "      <td>-0.043720</td>\n",
       "      <td>1.000000</td>\n",
       "      <td>0.277334</td>\n",
       "      <td>0.232103</td>\n",
       "      <td>-0.143790</td>\n",
       "    </tr>\n",
       "    <tr>\n",
       "      <th>exper</th>\n",
       "      <td>-0.008317</td>\n",
       "      <td>0.062683</td>\n",
       "      <td>0.486043</td>\n",
       "      <td>-0.020755</td>\n",
       "      <td>0.021238</td>\n",
       "      <td>0.277334</td>\n",
       "      <td>1.000000</td>\n",
       "      <td>0.433183</td>\n",
       "      <td>-0.181098</td>\n",
       "    </tr>\n",
       "    <tr>\n",
       "      <th>trv_insu</th>\n",
       "      <td>0.062244</td>\n",
       "      <td>0.018934</td>\n",
       "      <td>0.396763</td>\n",
       "      <td>0.079909</td>\n",
       "      <td>0.018190</td>\n",
       "      <td>0.232103</td>\n",
       "      <td>0.433183</td>\n",
       "      <td>1.000000</td>\n",
       "      <td>-0.147847</td>\n",
       "    </tr>\n",
       "    <tr>\n",
       "      <th>hire_public</th>\n",
       "      <td>0.112103</td>\n",
       "      <td>0.127133</td>\n",
       "      <td>-0.349157</td>\n",
       "      <td>0.003354</td>\n",
       "      <td>0.011553</td>\n",
       "      <td>-0.143790</td>\n",
       "      <td>-0.181098</td>\n",
       "      <td>-0.147847</td>\n",
       "      <td>1.000000</td>\n",
       "    </tr>\n",
       "  </tbody>\n",
       "</table>\n",
       "</div>"
      ],
      "text/plain": [
       "                  age   college    income    family   disease      paid  \\\n",
       "age          1.000000  0.027040 -0.017851  0.027090  0.008121 -0.033655   \n",
       "college      0.027040  1.000000  0.108066  0.021201  0.018811 -0.028120   \n",
       "income      -0.017851  0.108066  1.000000 -0.015367 -0.001149  0.353087   \n",
       "family       0.027090  0.021201 -0.015367  1.000000  0.028209 -0.023775   \n",
       "disease      0.008121  0.018811 -0.001149  0.028209  1.000000 -0.043720   \n",
       "paid        -0.033655 -0.028120  0.353087 -0.023775 -0.043720  1.000000   \n",
       "exper       -0.008317  0.062683  0.486043 -0.020755  0.021238  0.277334   \n",
       "trv_insu     0.062244  0.018934  0.396763  0.079909  0.018190  0.232103   \n",
       "hire_public  0.112103  0.127133 -0.349157  0.003354  0.011553 -0.143790   \n",
       "\n",
       "                exper  trv_insu  hire_public  \n",
       "age         -0.008317  0.062244     0.112103  \n",
       "college      0.062683  0.018934     0.127133  \n",
       "income       0.486043  0.396763    -0.349157  \n",
       "family      -0.020755  0.079909     0.003354  \n",
       "disease      0.021238  0.018190     0.011553  \n",
       "paid         0.277334  0.232103    -0.143790  \n",
       "exper        1.000000  0.433183    -0.181098  \n",
       "trv_insu     0.433183  1.000000    -0.147847  \n",
       "hire_public -0.181098 -0.147847     1.000000  "
      ]
     },
     "execution_count": 55,
     "metadata": {},
     "output_type": "execute_result"
    }
   ],
   "source": [
    "trv.corr()\n",
    "# trv_insu는 income과 exper과 높은 상관관계\n",
    "# exepr과 income도 높은 상관관계 -> 하나로 합치자 / incme이 더 정보 많아보임"
   ]
  },
  {
   "cell_type": "code",
   "execution_count": 56,
   "id": "aaafc4e0-7717-492f-8184-f1f9a598defc",
   "metadata": {},
   "outputs": [],
   "source": [
    "## 방법 1) exper drop"
   ]
  },
  {
   "cell_type": "code",
   "execution_count": 57,
   "id": "bb33474f-e67f-4f80-ac2b-8078fb5071f1",
   "metadata": {},
   "outputs": [],
   "source": [
    "def my_ml(data):\n",
    "    X=data.drop('trv_insu', axis=1)\n",
    "    y=data['trv_insu']\n",
    "    \n",
    "    smote=SMOTE(random_state=1024)\n",
    "    over_X, over_y = smote.fit_resample(X,y)\n",
    "    over_X_train, over_X_test, over_y_train, over_y_test = train_test_split(over_X, over_y, random_state=1024)\n",
    "\n",
    "    model=RandomForestClassifier(random_state=1024)\n",
    "    myparam = {'n_estimators':[30, 50, 100,200, 300]}\n",
    "    gcv=GridSearchCV(model, param_grid=myparam, scoring=\"roc_auc\", cv=5)\n",
    "    gcv.fit(over_X_train, over_y_train)\n",
    "    over_pred = gcv.predict(over_X_test)\n",
    "    auc1 = roc_auc_score(over_y_test, over_pred, average='macro')\n",
    "    print(f\"GCV auc 점수 {auc1:.4f}\")\n",
    "    \n",
    "    model=RandomForestClassifier(random_state=1024)\n",
    "    myparam = {'n_estimators':[30, 50, 100,200, 300]}\n",
    "    gcv=GridSearchCV(model, param_grid=myparam, scoring=\"f1_macro\", cv=5)\n",
    "    gcv.fit(over_X_train, over_y_train)\n",
    "    over_pred = gcv.predict(over_X_test)\n",
    "    f11 = roc_auc_score(over_y_test, over_pred, average='macro')\n",
    "    print(f\"GCV f1 점수 {f11:.4f}\")"
   ]
  },
  {
   "cell_type": "code",
   "execution_count": 58,
   "id": "ca119752-9614-4d7a-9547-eb2596d9c80a",
   "metadata": {},
   "outputs": [
    {
     "name": "stdout",
     "output_type": "stream",
     "text": [
      "GCV auc 점수 0.7693\n",
      "GCV f1 점수 0.7635\n"
     ]
    }
   ],
   "source": [
    "trv_drop_exper=trv.drop('exper', axis=1)\n",
    "my_ml(trv_drop_exper)"
   ]
  },
  {
   "cell_type": "code",
   "execution_count": null,
   "id": "d79f3d05-ea4b-4faf-8c7a-7e77bf03f723",
   "metadata": {},
   "outputs": [],
   "source": [
    "\n"
   ]
  },
  {
   "cell_type": "code",
   "execution_count": 59,
   "id": "3cd8f0dc-4de4-446d-a5e0-55d80126646c",
   "metadata": {},
   "outputs": [],
   "source": [
    "## 방법 2) income drop"
   ]
  },
  {
   "cell_type": "code",
   "execution_count": 60,
   "id": "6045493f-b7b4-4b18-b2e0-35534cd097ef",
   "metadata": {},
   "outputs": [],
   "source": [
    "# trv_drop_income=trv.drop('income', axis=1)\n",
    "# my_ml(trv_drop_income)"
   ]
  },
  {
   "cell_type": "code",
   "execution_count": null,
   "id": "f1157080-9922-48b1-9cd9-52888c2aea25",
   "metadata": {},
   "outputs": [],
   "source": []
  },
  {
   "cell_type": "markdown",
   "id": "4fe9246d-0ea8-4b1c-a782-9d4380fdcac4",
   "metadata": {},
   "source": [
    "# Income Scaling"
   ]
  },
  {
   "cell_type": "code",
   "execution_count": 61,
   "id": "13263097-6ed1-494e-a175-202c51237af1",
   "metadata": {},
   "outputs": [],
   "source": [
    "trv['log_income']=np.log1p(trv['income'])"
   ]
  },
  {
   "cell_type": "code",
   "execution_count": 62,
   "id": "140688c4-ce86-42c1-93b1-ffa9dfd7ca7d",
   "metadata": {},
   "outputs": [],
   "source": [
    "trv_log1p=trv.drop(['income','exper'] , axis=1)"
   ]
  },
  {
   "cell_type": "code",
   "execution_count": 63,
   "id": "a557c91a-a0a3-4f7d-9848-4f4fdfd72d9f",
   "metadata": {},
   "outputs": [
    {
     "name": "stdout",
     "output_type": "stream",
     "text": [
      "GCV auc 점수 0.7667\n",
      "GCV f1 점수 0.7672\n"
     ]
    }
   ],
   "source": [
    "my_ml(trv_log1p)"
   ]
  },
  {
   "cell_type": "markdown",
   "id": "99d7a468-322f-4b74-901b-8810fd2bca4c",
   "metadata": {},
   "source": [
    "# XGBoost"
   ]
  },
  {
   "cell_type": "code",
   "execution_count": null,
   "id": "66ad7bab-ff49-4dc4-8196-a8de87a41e54",
   "metadata": {},
   "outputs": [],
   "source": [
    "from xgboost import XGBClassifier"
   ]
  },
  {
   "cell_type": "code",
   "execution_count": 65,
   "id": "2794f0c0-7346-44f5-b9a0-44df1432dfb2",
   "metadata": {},
   "outputs": [],
   "source": [
    "X=trv.drop('trv_insu', axis=1)\n",
    "y=trv['trv_insu']"
   ]
  },
  {
   "cell_type": "code",
   "execution_count": 66,
   "id": "deb69838-8c87-4c60-9f37-ae7a14d3c1ac",
   "metadata": {},
   "outputs": [],
   "source": [
    "X_train, X_test, y_train, y_test = train_test_split(X, y, random_state=1024, test_size=0.3) # test_size 조정 가능"
   ]
  },
  {
   "cell_type": "code",
   "execution_count": 67,
   "id": "be8c9706-75e1-475b-ab27-1f417346bd9d",
   "metadata": {},
   "outputs": [
    {
     "name": "stdout",
     "output_type": "stream",
     "text": [
      "(1390, 9) (597, 9) (1390,) (597,)\n"
     ]
    }
   ],
   "source": [
    "print(X_train.shape, X_test.shape, y_train.shape, y_test.shape)"
   ]
  },
  {
   "cell_type": "code",
   "execution_count": 68,
   "id": "a778f7df-ccfe-4aa5-8e2a-0e7d4fd9f1aa",
   "metadata": {},
   "outputs": [],
   "source": [
    "from xgboost import XGBClassifier # class -> XGBModel을 상속받음\n",
    "# xgb=XGBClassifier()"
   ]
  },
  {
   "cell_type": "code",
   "execution_count": 72,
   "id": "57b4519b-f00b-44d8-9951-c02bc6482e2f",
   "metadata": {},
   "outputs": [
    {
     "name": "stdout",
     "output_type": "stream",
     "text": [
      "[13:17:51] WARNING: C:/Users/Administrator/workspace/xgboost-win64_release_1.5.1/src/learner.cc:1115: Starting in XGBoost 1.3.0, the default evaluation metric used with the objective 'binary:logistic' was changed from 'error' to 'logloss'. Explicitly set eval_metric if you'd like to restore the old behavior.\n",
      "f1: 0.7726\n"
     ]
    },
    {
     "name": "stderr",
     "output_type": "stream",
     "text": [
      "c:\\ai\\pythonproject\\venv\\lib\\site-packages\\xgboost\\sklearn.py:1224: UserWarning: The use of label encoder in XGBClassifier is deprecated and will be removed in a future release. To remove this warning, do the following: 1) Pass option use_label_encoder=False when constructing XGBClassifier object; and 2) Encode your labels (y) as integers starting with 0, i.e. 0, 1, 2, ..., [num_class - 1].\n",
      "  warnings.warn(label_encoder_deprecation_msg, UserWarning)\n"
     ]
    }
   ],
   "source": [
    "# 사이킷런에서 model -> xgb로 설정한 거라 생각하면 됨\n",
    "xgb=XGBClassifier(n_estimators=100, learning_rate=0.1, max_depth=5, random_state=1024)\n",
    "xgb.fit(X_train, y_train)\n",
    "pred=xgb.predict(X_test)\n",
    "f1=f1_score(y_test, pred, average='macro')\n",
    "# acc=accuracy_score(y_test, pred)\n",
    "print(f\"f1: {f1:.4f}\")\n",
    "# cm=confusion_matrix(y_test, pred)\n",
    "# print(cm)\n",
    "\n",
    "# 왜 나는 똑같냐..."
   ]
  },
  {
   "cell_type": "code",
   "execution_count": null,
   "id": "34d0d4d6-c373-4647-93b8-541a097069a6",
   "metadata": {},
   "outputs": [],
   "source": []
  },
  {
   "cell_type": "code",
   "execution_count": null,
   "id": "ae6b60d7-6d1c-4ade-89ae-32cd0cdf63f5",
   "metadata": {},
   "outputs": [],
   "source": []
  },
  {
   "cell_type": "code",
   "execution_count": null,
   "id": "49080896-a4bd-4b57-adb4-c0d8b0578546",
   "metadata": {},
   "outputs": [],
   "source": []
  },
  {
   "cell_type": "code",
   "execution_count": null,
   "id": "0d2d7ec7-5c7a-411a-b091-8681d5c07530",
   "metadata": {},
   "outputs": [],
   "source": []
  },
  {
   "cell_type": "code",
   "execution_count": null,
   "id": "29d1f678-f079-4c95-ac5d-9939583444a4",
   "metadata": {},
   "outputs": [],
   "source": []
  },
  {
   "cell_type": "code",
   "execution_count": null,
   "id": "4e2f42de-51d9-4f0c-a71d-38ccb133f83e",
   "metadata": {},
   "outputs": [],
   "source": []
  },
  {
   "cell_type": "code",
   "execution_count": null,
   "id": "9f942df8-9382-44f3-b215-608ea6fe14a5",
   "metadata": {},
   "outputs": [],
   "source": []
  },
  {
   "cell_type": "code",
   "execution_count": null,
   "id": "8bf3daff-ff0f-4cd5-818c-2f71601fe611",
   "metadata": {},
   "outputs": [],
   "source": []
  }
 ],
 "metadata": {
  "kernelspec": {
   "display_name": "Python 3 (ipykernel)",
   "language": "python",
   "name": "python3"
  },
  "language_info": {
   "codemirror_mode": {
    "name": "ipython",
    "version": 3
   },
   "file_extension": ".py",
   "mimetype": "text/x-python",
   "name": "python",
   "nbconvert_exporter": "python",
   "pygments_lexer": "ipython3",
   "version": "3.8.8"
  },
  "toc-autonumbering": true
 },
 "nbformat": 4,
 "nbformat_minor": 5
}
