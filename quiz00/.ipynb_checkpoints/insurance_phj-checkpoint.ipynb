{
 "cells": [
  {
   "cell_type": "code",
   "execution_count": 946,
   "id": "9d7fcf3b-4e0e-4a64-801e-38403d742397",
   "metadata": {},
   "outputs": [
    {
     "data": {
      "text/html": [
       "<style>.container{width:100% !important;}</style>"
      ],
      "text/plain": [
       "<IPython.core.display.HTML object>"
      ]
     },
     "metadata": {},
     "output_type": "display_data"
    }
   ],
   "source": [
    "import pandas as pd\n",
    "import numpy as np\n",
    "import matplotlib.pyplot as plt\n",
    "import seaborn as sns\n",
    "\n",
    "from sklearn.preprocessing import LabelEncoder, OneHotEncoder\n",
    "from sklearn.model_selection import train_test_split\n",
    "\n",
    "from sklearn.ensemble import RandomForestClassifier\n",
    "from sklearn.linear_model import LogisticRegression\n",
    "from sklearn.neighbors import KNeighborsClassifier\n",
    "from sklearn.tree import DecisionTreeClassifier\n",
    "from sklearn.svm import LinearSVC\n",
    "\n",
    "\n",
    "\n",
    "                                                      #y_true, y_pred\n",
    "from sklearn.metrics import classification_report, confusion_matrix, accuracy_score, precision_score, recall_score,  f1_score\n",
    "from sklearn.metrics import precision_recall_curve    #y_true, probas_pred\n",
    "from sklearn.metrics import roc_auc_score, roc_curve  #y_true, y_score\n",
    "\n",
    "from sklearn.preprocessing import StandardScaler, RobustScaler, MinMaxScaler\n",
    "\n",
    "from sklearn.model_selection import cross_val_score, KFold, StratifiedKFold, GridSearchCV\n",
    "\n",
    "import warnings\n",
    "warnings.filterwarnings(action='ignore')\n",
    "\n",
    "#-------------------- 차트 관련 속성 (한글처리, 그리드) -----------\n",
    "#plt.rc('font', family='NanumGothicOTF') # For MacOS\n",
    "plt.rcParams['font.family'] = 'Malgun Gothic'\n",
    "plt.rcParams['axes.unicode_minus'] = False\n",
    "sns.set()\n",
    "\n",
    "#-------------------- 주피터 , 출력결과 넓이 늘리기 ---------------\n",
    "from IPython.core.display import display, HTML\n",
    "display(HTML(\"<style>.container{width:100% !important;}</style>\"))\n",
    "pd.set_option('display.max_rows', 100)\n",
    "pd.set_option('display.max_columns', 100)\n",
    "pd.set_option('max_colwidth', None)"
   ]
  },
  {
   "cell_type": "code",
   "execution_count": 947,
   "id": "50177cbf-6da0-497a-9b1f-b6f2024695d4",
   "metadata": {},
   "outputs": [],
   "source": [
    "train = pd.read_csv(\"./dataset/quiz00.csv\")\n",
    "# 1차::점수 2차::GridSearchCV"
   ]
  },
  {
   "cell_type": "code",
   "execution_count": 948,
   "id": "31255bda-e0d2-41c2-b181-5d62b949a667",
   "metadata": {},
   "outputs": [
    {
     "data": {
      "text/plain": [
       "(1987, 10)"
      ]
     },
     "execution_count": 948,
     "metadata": {},
     "output_type": "execute_result"
    }
   ],
   "source": [
    "train.shape"
   ]
  },
  {
   "cell_type": "code",
   "execution_count": 949,
   "id": "17462e7e-bc28-486d-ab6a-020762a71ac5",
   "metadata": {},
   "outputs": [
    {
     "name": "stdout",
     "output_type": "stream",
     "text": [
      "<class 'pandas.core.frame.DataFrame'>\n",
      "RangeIndex: 1987 entries, 0 to 1986\n",
      "Data columns (total 10 columns):\n",
      " #   Column          Non-Null Count  Dtype  \n",
      "---  ------          --------------  -----  \n",
      " 0   Unnamed: 0      1987 non-null   int64  \n",
      " 1   나이              1975 non-null   float64\n",
      " 2   고용타입            1987 non-null   object \n",
      " 3   대졸여부            1987 non-null   object \n",
      " 4   연소득             1987 non-null   int64  \n",
      " 5   가족수             1987 non-null   object \n",
      " 6   만성질환여부          1987 non-null   int64  \n",
      " 7   유료회원여부          1987 non-null   object \n",
      " 8   여행경험여부          1957 non-null   object \n",
      " 9   여행관련보험상품가입여부예측  1987 non-null   int64  \n",
      "dtypes: float64(1), int64(4), object(5)\n",
      "memory usage: 155.4+ KB\n"
     ]
    }
   ],
   "source": [
    "train.info()"
   ]
  },
  {
   "cell_type": "code",
   "execution_count": 950,
   "id": "1644ac44-082d-4d68-ab56-f84674e343ea",
   "metadata": {},
   "outputs": [],
   "source": [
    "# null :: 나이ㅇ, 여행경험여부\n",
    "# object :: 고용타입-통일화ㅇ, 대졸여부ㅇ, 가족수-NaNㅇ, 유료회원여부, 여행경험여부-공백data"
   ]
  },
  {
   "cell_type": "code",
   "execution_count": 951,
   "id": "05bbb972-f2e1-4310-8f64-19ebe62ccd60",
   "metadata": {},
   "outputs": [],
   "source": [
    "train = train.drop(['Unnamed: 0'], axis=1)"
   ]
  },
  {
   "cell_type": "code",
   "execution_count": 952,
   "id": "1d3b2936-a592-44fe-8e7c-3caf46d66476",
   "metadata": {},
   "outputs": [
    {
     "data": {
      "text/html": [
       "<div>\n",
       "<style scoped>\n",
       "    .dataframe tbody tr th:only-of-type {\n",
       "        vertical-align: middle;\n",
       "    }\n",
       "\n",
       "    .dataframe tbody tr th {\n",
       "        vertical-align: top;\n",
       "    }\n",
       "\n",
       "    .dataframe thead th {\n",
       "        text-align: right;\n",
       "    }\n",
       "</style>\n",
       "<table border=\"1\" class=\"dataframe\">\n",
       "  <thead>\n",
       "    <tr style=\"text-align: right;\">\n",
       "      <th>여행관련보험상품가입여부예측</th>\n",
       "      <th>0</th>\n",
       "      <th>1</th>\n",
       "    </tr>\n",
       "    <tr>\n",
       "      <th>고용타입</th>\n",
       "      <th></th>\n",
       "      <th></th>\n",
       "    </tr>\n",
       "  </thead>\n",
       "  <tbody>\n",
       "    <tr>\n",
       "      <th>민 간</th>\n",
       "      <td>170</td>\n",
       "      <td>129</td>\n",
       "    </tr>\n",
       "    <tr>\n",
       "      <th>민.간</th>\n",
       "      <td>419</td>\n",
       "      <td>281</td>\n",
       "    </tr>\n",
       "    <tr>\n",
       "      <th>민간</th>\n",
       "      <td>258</td>\n",
       "      <td>160</td>\n",
       "    </tr>\n",
       "    <tr>\n",
       "      <th>정부</th>\n",
       "      <td>430</td>\n",
       "      <td>140</td>\n",
       "    </tr>\n",
       "  </tbody>\n",
       "</table>\n",
       "</div>"
      ],
      "text/plain": [
       "여행관련보험상품가입여부예측    0    1\n",
       "고용타입                    \n",
       "민 간             170  129\n",
       "민.간             419  281\n",
       "민간              258  160\n",
       "정부              430  140"
      ]
     },
     "execution_count": 952,
     "metadata": {},
     "output_type": "execute_result"
    }
   ],
   "source": [
    "#민.간,민 간 => 민간\n",
    "pd.crosstab(train['고용타입'], train['여행관련보험상품가입여부예측'])"
   ]
  },
  {
   "cell_type": "code",
   "execution_count": 953,
   "id": "47f4d37d-2fda-4ff3-aa40-af26b3dfd8c0",
   "metadata": {},
   "outputs": [],
   "source": [
    "train[\"고용타입\"].replace(\"민 간\", \"민간\", inplace=True)\n",
    "train[\"고용타입\"].replace(\"민.간\", \"민간\", inplace=True)"
   ]
  },
  {
   "cell_type": "code",
   "execution_count": 954,
   "id": "964512a3-08a3-48fb-8905-a78e6da29bbd",
   "metadata": {},
   "outputs": [
    {
     "data": {
      "text/html": [
       "<div>\n",
       "<style scoped>\n",
       "    .dataframe tbody tr th:only-of-type {\n",
       "        vertical-align: middle;\n",
       "    }\n",
       "\n",
       "    .dataframe tbody tr th {\n",
       "        vertical-align: top;\n",
       "    }\n",
       "\n",
       "    .dataframe thead th {\n",
       "        text-align: right;\n",
       "    }\n",
       "</style>\n",
       "<table border=\"1\" class=\"dataframe\">\n",
       "  <thead>\n",
       "    <tr style=\"text-align: right;\">\n",
       "      <th>여행관련보험상품가입여부예측</th>\n",
       "      <th>0</th>\n",
       "      <th>1</th>\n",
       "    </tr>\n",
       "    <tr>\n",
       "      <th>고용타입</th>\n",
       "      <th></th>\n",
       "      <th></th>\n",
       "    </tr>\n",
       "  </thead>\n",
       "  <tbody>\n",
       "    <tr>\n",
       "      <th>민간</th>\n",
       "      <td>847</td>\n",
       "      <td>570</td>\n",
       "    </tr>\n",
       "    <tr>\n",
       "      <th>정부</th>\n",
       "      <td>430</td>\n",
       "      <td>140</td>\n",
       "    </tr>\n",
       "  </tbody>\n",
       "</table>\n",
       "</div>"
      ],
      "text/plain": [
       "여행관련보험상품가입여부예측    0    1\n",
       "고용타입                    \n",
       "민간              847  570\n",
       "정부              430  140"
      ]
     },
     "execution_count": 954,
     "metadata": {},
     "output_type": "execute_result"
    }
   ],
   "source": [
    "pd.crosstab(train['고용타입'], train['여행관련보험상품가입여부예측'])"
   ]
  },
  {
   "cell_type": "code",
   "execution_count": 955,
   "id": "6c144c1c-d1fa-4a51-9daf-5b0bb023c75a",
   "metadata": {},
   "outputs": [
    {
     "data": {
      "text/html": [
       "<div>\n",
       "<style scoped>\n",
       "    .dataframe tbody tr th:only-of-type {\n",
       "        vertical-align: middle;\n",
       "    }\n",
       "\n",
       "    .dataframe tbody tr th {\n",
       "        vertical-align: top;\n",
       "    }\n",
       "\n",
       "    .dataframe thead th {\n",
       "        text-align: right;\n",
       "    }\n",
       "</style>\n",
       "<table border=\"1\" class=\"dataframe\">\n",
       "  <thead>\n",
       "    <tr style=\"text-align: right;\">\n",
       "      <th>여행관련보험상품가입여부예측</th>\n",
       "      <th>0</th>\n",
       "      <th>1</th>\n",
       "    </tr>\n",
       "    <tr>\n",
       "      <th>대졸여부</th>\n",
       "      <th></th>\n",
       "      <th></th>\n",
       "    </tr>\n",
       "  </thead>\n",
       "  <tbody>\n",
       "    <tr>\n",
       "      <th>No</th>\n",
       "      <td>196</td>\n",
       "      <td>99</td>\n",
       "    </tr>\n",
       "    <tr>\n",
       "      <th>Yes</th>\n",
       "      <td>1081</td>\n",
       "      <td>611</td>\n",
       "    </tr>\n",
       "  </tbody>\n",
       "</table>\n",
       "</div>"
      ],
      "text/plain": [
       "여행관련보험상품가입여부예측     0    1\n",
       "대졸여부                     \n",
       "No               196   99\n",
       "Yes             1081  611"
      ]
     },
     "execution_count": 955,
     "metadata": {},
     "output_type": "execute_result"
    }
   ],
   "source": [
    "# 대졸여부 이상무\n",
    "pd.crosstab(train['대졸여부'], train['여행관련보험상품가입여부예측'])"
   ]
  },
  {
   "cell_type": "code",
   "execution_count": 956,
   "id": "4b137026-2f37-4ea0-aa9e-c62e7cd05c02",
   "metadata": {},
   "outputs": [
    {
     "data": {
      "text/html": [
       "<div>\n",
       "<style scoped>\n",
       "    .dataframe tbody tr th:only-of-type {\n",
       "        vertical-align: middle;\n",
       "    }\n",
       "\n",
       "    .dataframe tbody tr th {\n",
       "        vertical-align: top;\n",
       "    }\n",
       "\n",
       "    .dataframe thead th {\n",
       "        text-align: right;\n",
       "    }\n",
       "</style>\n",
       "<table border=\"1\" class=\"dataframe\">\n",
       "  <thead>\n",
       "    <tr style=\"text-align: right;\">\n",
       "      <th>여행관련보험상품가입여부예측</th>\n",
       "      <th>0</th>\n",
       "      <th>1</th>\n",
       "    </tr>\n",
       "    <tr>\n",
       "      <th>가족수</th>\n",
       "      <th></th>\n",
       "      <th></th>\n",
       "    </tr>\n",
       "  </thead>\n",
       "  <tbody>\n",
       "    <tr>\n",
       "      <th>2</th>\n",
       "      <td>66</td>\n",
       "      <td>27</td>\n",
       "    </tr>\n",
       "    <tr>\n",
       "      <th>3</th>\n",
       "      <td>242</td>\n",
       "      <td>135</td>\n",
       "    </tr>\n",
       "    <tr>\n",
       "      <th>4</th>\n",
       "      <td>344</td>\n",
       "      <td>160</td>\n",
       "    </tr>\n",
       "    <tr>\n",
       "      <th>5</th>\n",
       "      <td>295</td>\n",
       "      <td>131</td>\n",
       "    </tr>\n",
       "    <tr>\n",
       "      <th>6</th>\n",
       "      <td>165</td>\n",
       "      <td>129</td>\n",
       "    </tr>\n",
       "    <tr>\n",
       "      <th>7</th>\n",
       "      <td>97</td>\n",
       "      <td>81</td>\n",
       "    </tr>\n",
       "    <tr>\n",
       "      <th>8</th>\n",
       "      <td>38</td>\n",
       "      <td>21</td>\n",
       "    </tr>\n",
       "    <tr>\n",
       "      <th>9</th>\n",
       "      <td>29</td>\n",
       "      <td>26</td>\n",
       "    </tr>\n",
       "    <tr>\n",
       "      <th>NAN</th>\n",
       "      <td>1</td>\n",
       "      <td>0</td>\n",
       "    </tr>\n",
       "  </tbody>\n",
       "</table>\n",
       "</div>"
      ],
      "text/plain": [
       "여행관련보험상품가입여부예측    0    1\n",
       "가족수                     \n",
       "2                66   27\n",
       "3               242  135\n",
       "4               344  160\n",
       "5               295  131\n",
       "6               165  129\n",
       "7                97   81\n",
       "8                38   21\n",
       "9                29   26\n",
       "NAN               1    0"
      ]
     },
     "execution_count": 956,
     "metadata": {},
     "output_type": "execute_result"
    }
   ],
   "source": [
    "# 가족수-NaN데이터 => 최빈도처리\n",
    "pd.crosstab(train['가족수'], train['여행관련보험상품가입여부예측'])"
   ]
  },
  {
   "cell_type": "code",
   "execution_count": 957,
   "id": "b7638ce5-1a92-4878-a44f-5af3ab9e7a6d",
   "metadata": {},
   "outputs": [
    {
     "data": {
      "text/html": [
       "<div>\n",
       "<style scoped>\n",
       "    .dataframe tbody tr th:only-of-type {\n",
       "        vertical-align: middle;\n",
       "    }\n",
       "\n",
       "    .dataframe tbody tr th {\n",
       "        vertical-align: top;\n",
       "    }\n",
       "\n",
       "    .dataframe thead th {\n",
       "        text-align: right;\n",
       "    }\n",
       "</style>\n",
       "<table border=\"1\" class=\"dataframe\">\n",
       "  <thead>\n",
       "    <tr style=\"text-align: right;\">\n",
       "      <th></th>\n",
       "      <th>나이</th>\n",
       "      <th>고용타입</th>\n",
       "      <th>대졸여부</th>\n",
       "      <th>연소득</th>\n",
       "      <th>가족수</th>\n",
       "      <th>만성질환여부</th>\n",
       "      <th>유료회원여부</th>\n",
       "      <th>여행경험여부</th>\n",
       "      <th>여행관련보험상품가입여부예측</th>\n",
       "    </tr>\n",
       "  </thead>\n",
       "  <tbody>\n",
       "    <tr>\n",
       "      <th>1982</th>\n",
       "      <td>33.0</td>\n",
       "      <td>민간</td>\n",
       "      <td>Yes</td>\n",
       "      <td>1500000</td>\n",
       "      <td>4</td>\n",
       "      <td>0</td>\n",
       "      <td>Yes</td>\n",
       "      <td>Yes</td>\n",
       "      <td>1</td>\n",
       "    </tr>\n",
       "    <tr>\n",
       "      <th>1983</th>\n",
       "      <td>28.0</td>\n",
       "      <td>민간</td>\n",
       "      <td>Yes</td>\n",
       "      <td>1750000</td>\n",
       "      <td>5</td>\n",
       "      <td>1</td>\n",
       "      <td>No</td>\n",
       "      <td>Yes</td>\n",
       "      <td>0</td>\n",
       "    </tr>\n",
       "    <tr>\n",
       "      <th>1984</th>\n",
       "      <td>28.0</td>\n",
       "      <td>민간</td>\n",
       "      <td>Yes</td>\n",
       "      <td>1150000</td>\n",
       "      <td>6</td>\n",
       "      <td>1</td>\n",
       "      <td>No</td>\n",
       "      <td>No</td>\n",
       "      <td>0</td>\n",
       "    </tr>\n",
       "    <tr>\n",
       "      <th>1985</th>\n",
       "      <td>34.0</td>\n",
       "      <td>민간</td>\n",
       "      <td>Yes</td>\n",
       "      <td>1000000</td>\n",
       "      <td>6</td>\n",
       "      <td>0</td>\n",
       "      <td>Yes</td>\n",
       "      <td>Yes</td>\n",
       "      <td>1</td>\n",
       "    </tr>\n",
       "    <tr>\n",
       "      <th>1986</th>\n",
       "      <td>34.0</td>\n",
       "      <td>민간</td>\n",
       "      <td>Yes</td>\n",
       "      <td>500000</td>\n",
       "      <td>NAN</td>\n",
       "      <td>0</td>\n",
       "      <td>No</td>\n",
       "      <td>No</td>\n",
       "      <td>0</td>\n",
       "    </tr>\n",
       "  </tbody>\n",
       "</table>\n",
       "</div>"
      ],
      "text/plain": [
       "        나이 고용타입 대졸여부      연소득  가족수  만성질환여부 유료회원여부 여행경험여부  여행관련보험상품가입여부예측\n",
       "1982  33.0   민간  Yes  1500000    4       0    Yes    Yes               1\n",
       "1983  28.0   민간  Yes  1750000    5       1     No    Yes               0\n",
       "1984  28.0   민간  Yes  1150000    6       1     No     No               0\n",
       "1985  34.0   민간  Yes  1000000    6       0    Yes    Yes               1\n",
       "1986  34.0   민간  Yes   500000  NAN       0     No     No               0"
      ]
     },
     "execution_count": 957,
     "metadata": {},
     "output_type": "execute_result"
    }
   ],
   "source": [
    "train.tail()"
   ]
  },
  {
   "cell_type": "code",
   "execution_count": 958,
   "id": "2de45b04-8244-485c-8c0f-3d126cbda807",
   "metadata": {},
   "outputs": [
    {
     "data": {
      "text/plain": [
       "0"
      ]
     },
     "execution_count": 958,
     "metadata": {},
     "output_type": "execute_result"
    }
   ],
   "source": [
    "train['가족수'].isna().sum()"
   ]
  },
  {
   "cell_type": "code",
   "execution_count": 959,
   "id": "9102a0f6-98df-449f-a376-e2470b4b1cdf",
   "metadata": {},
   "outputs": [],
   "source": [
    "train.loc[train['가족수']=='NAN', '가족수' ] = 4"
   ]
  },
  {
   "cell_type": "code",
   "execution_count": 960,
   "id": "a65941b6-666a-405c-8bcc-70af61c54e7c",
   "metadata": {},
   "outputs": [
    {
     "data": {
      "text/html": [
       "<div>\n",
       "<style scoped>\n",
       "    .dataframe tbody tr th:only-of-type {\n",
       "        vertical-align: middle;\n",
       "    }\n",
       "\n",
       "    .dataframe tbody tr th {\n",
       "        vertical-align: top;\n",
       "    }\n",
       "\n",
       "    .dataframe thead th {\n",
       "        text-align: right;\n",
       "    }\n",
       "</style>\n",
       "<table border=\"1\" class=\"dataframe\">\n",
       "  <thead>\n",
       "    <tr style=\"text-align: right;\">\n",
       "      <th></th>\n",
       "      <th>나이</th>\n",
       "      <th>고용타입</th>\n",
       "      <th>대졸여부</th>\n",
       "      <th>연소득</th>\n",
       "      <th>가족수</th>\n",
       "      <th>만성질환여부</th>\n",
       "      <th>유료회원여부</th>\n",
       "      <th>여행경험여부</th>\n",
       "      <th>여행관련보험상품가입여부예측</th>\n",
       "    </tr>\n",
       "  </thead>\n",
       "  <tbody>\n",
       "    <tr>\n",
       "      <th>1982</th>\n",
       "      <td>33.0</td>\n",
       "      <td>민간</td>\n",
       "      <td>Yes</td>\n",
       "      <td>1500000</td>\n",
       "      <td>4</td>\n",
       "      <td>0</td>\n",
       "      <td>Yes</td>\n",
       "      <td>Yes</td>\n",
       "      <td>1</td>\n",
       "    </tr>\n",
       "    <tr>\n",
       "      <th>1983</th>\n",
       "      <td>28.0</td>\n",
       "      <td>민간</td>\n",
       "      <td>Yes</td>\n",
       "      <td>1750000</td>\n",
       "      <td>5</td>\n",
       "      <td>1</td>\n",
       "      <td>No</td>\n",
       "      <td>Yes</td>\n",
       "      <td>0</td>\n",
       "    </tr>\n",
       "    <tr>\n",
       "      <th>1984</th>\n",
       "      <td>28.0</td>\n",
       "      <td>민간</td>\n",
       "      <td>Yes</td>\n",
       "      <td>1150000</td>\n",
       "      <td>6</td>\n",
       "      <td>1</td>\n",
       "      <td>No</td>\n",
       "      <td>No</td>\n",
       "      <td>0</td>\n",
       "    </tr>\n",
       "    <tr>\n",
       "      <th>1985</th>\n",
       "      <td>34.0</td>\n",
       "      <td>민간</td>\n",
       "      <td>Yes</td>\n",
       "      <td>1000000</td>\n",
       "      <td>6</td>\n",
       "      <td>0</td>\n",
       "      <td>Yes</td>\n",
       "      <td>Yes</td>\n",
       "      <td>1</td>\n",
       "    </tr>\n",
       "    <tr>\n",
       "      <th>1986</th>\n",
       "      <td>34.0</td>\n",
       "      <td>민간</td>\n",
       "      <td>Yes</td>\n",
       "      <td>500000</td>\n",
       "      <td>4</td>\n",
       "      <td>0</td>\n",
       "      <td>No</td>\n",
       "      <td>No</td>\n",
       "      <td>0</td>\n",
       "    </tr>\n",
       "  </tbody>\n",
       "</table>\n",
       "</div>"
      ],
      "text/plain": [
       "        나이 고용타입 대졸여부      연소득 가족수  만성질환여부 유료회원여부 여행경험여부  여행관련보험상품가입여부예측\n",
       "1982  33.0   민간  Yes  1500000   4       0    Yes    Yes               1\n",
       "1983  28.0   민간  Yes  1750000   5       1     No    Yes               0\n",
       "1984  28.0   민간  Yes  1150000   6       1     No     No               0\n",
       "1985  34.0   민간  Yes  1000000   6       0    Yes    Yes               1\n",
       "1986  34.0   민간  Yes   500000   4       0     No     No               0"
      ]
     },
     "execution_count": 960,
     "metadata": {},
     "output_type": "execute_result"
    }
   ],
   "source": [
    "train.tail()"
   ]
  },
  {
   "cell_type": "code",
   "execution_count": 961,
   "id": "375d4a0a-20ee-488c-864c-b476c029a3e8",
   "metadata": {},
   "outputs": [
    {
     "data": {
      "text/html": [
       "<div>\n",
       "<style scoped>\n",
       "    .dataframe tbody tr th:only-of-type {\n",
       "        vertical-align: middle;\n",
       "    }\n",
       "\n",
       "    .dataframe tbody tr th {\n",
       "        vertical-align: top;\n",
       "    }\n",
       "\n",
       "    .dataframe thead th {\n",
       "        text-align: right;\n",
       "    }\n",
       "</style>\n",
       "<table border=\"1\" class=\"dataframe\">\n",
       "  <thead>\n",
       "    <tr style=\"text-align: right;\">\n",
       "      <th>여행관련보험상품가입여부예측</th>\n",
       "      <th>0</th>\n",
       "      <th>1</th>\n",
       "    </tr>\n",
       "    <tr>\n",
       "      <th>가족수</th>\n",
       "      <th></th>\n",
       "      <th></th>\n",
       "    </tr>\n",
       "  </thead>\n",
       "  <tbody>\n",
       "    <tr>\n",
       "      <th>4</th>\n",
       "      <td>1</td>\n",
       "      <td>0</td>\n",
       "    </tr>\n",
       "    <tr>\n",
       "      <th>2</th>\n",
       "      <td>66</td>\n",
       "      <td>27</td>\n",
       "    </tr>\n",
       "    <tr>\n",
       "      <th>3</th>\n",
       "      <td>242</td>\n",
       "      <td>135</td>\n",
       "    </tr>\n",
       "    <tr>\n",
       "      <th>4</th>\n",
       "      <td>344</td>\n",
       "      <td>160</td>\n",
       "    </tr>\n",
       "    <tr>\n",
       "      <th>5</th>\n",
       "      <td>295</td>\n",
       "      <td>131</td>\n",
       "    </tr>\n",
       "    <tr>\n",
       "      <th>6</th>\n",
       "      <td>165</td>\n",
       "      <td>129</td>\n",
       "    </tr>\n",
       "    <tr>\n",
       "      <th>7</th>\n",
       "      <td>97</td>\n",
       "      <td>81</td>\n",
       "    </tr>\n",
       "    <tr>\n",
       "      <th>8</th>\n",
       "      <td>38</td>\n",
       "      <td>21</td>\n",
       "    </tr>\n",
       "    <tr>\n",
       "      <th>9</th>\n",
       "      <td>29</td>\n",
       "      <td>26</td>\n",
       "    </tr>\n",
       "  </tbody>\n",
       "</table>\n",
       "</div>"
      ],
      "text/plain": [
       "여행관련보험상품가입여부예측    0    1\n",
       "가족수                     \n",
       "4                 1    0\n",
       "2                66   27\n",
       "3               242  135\n",
       "4               344  160\n",
       "5               295  131\n",
       "6               165  129\n",
       "7                97   81\n",
       "8                38   21\n",
       "9                29   26"
      ]
     },
     "execution_count": 961,
     "metadata": {},
     "output_type": "execute_result"
    }
   ],
   "source": [
    "pd.crosstab(train['가족수'], train['여행관련보험상품가입여부예측'])"
   ]
  },
  {
   "cell_type": "code",
   "execution_count": 962,
   "id": "e0a4e465-d743-40e4-9a1d-7b535d2a2097",
   "metadata": {},
   "outputs": [],
   "source": [
    "# 나이 null값에 평균 나이 대입\n",
    "avg_age = train['나이'].mean()\n",
    "train['나이'] = train['나이'].fillna(avg_age).astype('int')"
   ]
  },
  {
   "cell_type": "code",
   "execution_count": 963,
   "id": "3bf1f7c8-9e57-4247-9b12-25369569105a",
   "metadata": {},
   "outputs": [
    {
     "data": {
      "text/plain": [
       "0"
      ]
     },
     "execution_count": 963,
     "metadata": {},
     "output_type": "execute_result"
    }
   ],
   "source": [
    "train['나이'].isna().sum()"
   ]
  },
  {
   "cell_type": "code",
   "execution_count": 964,
   "id": "28434492-ec6c-4f1d-a421-aeb8bfc89210",
   "metadata": {},
   "outputs": [
    {
     "data": {
      "text/html": [
       "<div>\n",
       "<style scoped>\n",
       "    .dataframe tbody tr th:only-of-type {\n",
       "        vertical-align: middle;\n",
       "    }\n",
       "\n",
       "    .dataframe tbody tr th {\n",
       "        vertical-align: top;\n",
       "    }\n",
       "\n",
       "    .dataframe thead th {\n",
       "        text-align: right;\n",
       "    }\n",
       "</style>\n",
       "<table border=\"1\" class=\"dataframe\">\n",
       "  <thead>\n",
       "    <tr style=\"text-align: right;\">\n",
       "      <th>여행관련보험상품가입여부예측</th>\n",
       "      <th>0</th>\n",
       "      <th>1</th>\n",
       "    </tr>\n",
       "    <tr>\n",
       "      <th>나이</th>\n",
       "      <th></th>\n",
       "      <th></th>\n",
       "    </tr>\n",
       "  </thead>\n",
       "  <tbody>\n",
       "    <tr>\n",
       "      <th>25</th>\n",
       "      <td>54</td>\n",
       "      <td>82</td>\n",
       "    </tr>\n",
       "    <tr>\n",
       "      <th>26</th>\n",
       "      <td>74</td>\n",
       "      <td>74</td>\n",
       "    </tr>\n",
       "    <tr>\n",
       "      <th>27</th>\n",
       "      <td>104</td>\n",
       "      <td>27</td>\n",
       "    </tr>\n",
       "    <tr>\n",
       "      <th>28</th>\n",
       "      <td>401</td>\n",
       "      <td>105</td>\n",
       "    </tr>\n",
       "    <tr>\n",
       "      <th>29</th>\n",
       "      <td>141</td>\n",
       "      <td>63</td>\n",
       "    </tr>\n",
       "    <tr>\n",
       "      <th>30</th>\n",
       "      <td>37</td>\n",
       "      <td>28</td>\n",
       "    </tr>\n",
       "    <tr>\n",
       "      <th>31</th>\n",
       "      <td>159</td>\n",
       "      <td>75</td>\n",
       "    </tr>\n",
       "    <tr>\n",
       "      <th>32</th>\n",
       "      <td>72</td>\n",
       "      <td>19</td>\n",
       "    </tr>\n",
       "    <tr>\n",
       "      <th>33</th>\n",
       "      <td>70</td>\n",
       "      <td>78</td>\n",
       "    </tr>\n",
       "    <tr>\n",
       "      <th>34</th>\n",
       "      <td>133</td>\n",
       "      <td>133</td>\n",
       "    </tr>\n",
       "    <tr>\n",
       "      <th>35</th>\n",
       "      <td>32</td>\n",
       "      <td>26</td>\n",
       "    </tr>\n",
       "  </tbody>\n",
       "</table>\n",
       "</div>"
      ],
      "text/plain": [
       "여행관련보험상품가입여부예측    0    1\n",
       "나이                      \n",
       "25               54   82\n",
       "26               74   74\n",
       "27              104   27\n",
       "28              401  105\n",
       "29              141   63\n",
       "30               37   28\n",
       "31              159   75\n",
       "32               72   19\n",
       "33               70   78\n",
       "34              133  133\n",
       "35               32   26"
      ]
     },
     "execution_count": 964,
     "metadata": {},
     "output_type": "execute_result"
    }
   ],
   "source": [
    "pd.crosstab(train['나이'], train['여행관련보험상품가입여부예측'])"
   ]
  },
  {
   "cell_type": "code",
   "execution_count": 965,
   "id": "b474bbb1-c35d-4b0a-a7b0-d59e245b70d0",
   "metadata": {},
   "outputs": [
    {
     "data": {
      "text/html": [
       "<div>\n",
       "<style scoped>\n",
       "    .dataframe tbody tr th:only-of-type {\n",
       "        vertical-align: middle;\n",
       "    }\n",
       "\n",
       "    .dataframe tbody tr th {\n",
       "        vertical-align: top;\n",
       "    }\n",
       "\n",
       "    .dataframe thead th {\n",
       "        text-align: right;\n",
       "    }\n",
       "</style>\n",
       "<table border=\"1\" class=\"dataframe\">\n",
       "  <thead>\n",
       "    <tr style=\"text-align: right;\">\n",
       "      <th>여행관련보험상품가입여부예측</th>\n",
       "      <th>0</th>\n",
       "      <th>1</th>\n",
       "    </tr>\n",
       "    <tr>\n",
       "      <th>여행경험여부</th>\n",
       "      <th></th>\n",
       "      <th></th>\n",
       "    </tr>\n",
       "  </thead>\n",
       "  <tbody>\n",
       "    <tr>\n",
       "      <th>No</th>\n",
       "      <td>1170</td>\n",
       "      <td>407</td>\n",
       "    </tr>\n",
       "    <tr>\n",
       "      <th>Yes</th>\n",
       "      <td>82</td>\n",
       "      <td>298</td>\n",
       "    </tr>\n",
       "  </tbody>\n",
       "</table>\n",
       "</div>"
      ],
      "text/plain": [
       "여행관련보험상품가입여부예측     0    1\n",
       "여행경험여부                   \n",
       "No              1170  407\n",
       "Yes               82  298"
      ]
     },
     "execution_count": 965,
     "metadata": {},
     "output_type": "execute_result"
    }
   ],
   "source": [
    "# 여행경험여부 공백 => No\n",
    "pd.crosstab(train['여행경험여부'], train['여행관련보험상품가입여부예측'])"
   ]
  },
  {
   "cell_type": "code",
   "execution_count": 966,
   "id": "194fbc9e-0257-409c-8526-a6be2386a934",
   "metadata": {},
   "outputs": [
    {
     "data": {
      "text/plain": [
       "No     1577\n",
       "Yes     380\n",
       "Name: 여행경험여부, dtype: int64"
      ]
     },
     "execution_count": 966,
     "metadata": {},
     "output_type": "execute_result"
    }
   ],
   "source": [
    "train['여행경험여부'].value_counts()\n"
   ]
  },
  {
   "cell_type": "code",
   "execution_count": 967,
   "id": "045f09c5-fea5-42dc-a969-6c6779e9d51f",
   "metadata": {},
   "outputs": [],
   "source": [
    "mode_var = train['여행경험여부'].mode().values[0]\n",
    "train['여행경험여부'] = train['여행경험여부'].fillna( mode_var )"
   ]
  },
  {
   "cell_type": "code",
   "execution_count": 968,
   "id": "7062ba3f-f3c5-4e35-a6b1-22aa3072cb93",
   "metadata": {},
   "outputs": [
    {
     "data": {
      "text/html": [
       "<div>\n",
       "<style scoped>\n",
       "    .dataframe tbody tr th:only-of-type {\n",
       "        vertical-align: middle;\n",
       "    }\n",
       "\n",
       "    .dataframe tbody tr th {\n",
       "        vertical-align: top;\n",
       "    }\n",
       "\n",
       "    .dataframe thead th {\n",
       "        text-align: right;\n",
       "    }\n",
       "</style>\n",
       "<table border=\"1\" class=\"dataframe\">\n",
       "  <thead>\n",
       "    <tr style=\"text-align: right;\">\n",
       "      <th>여행관련보험상품가입여부예측</th>\n",
       "      <th>0</th>\n",
       "      <th>1</th>\n",
       "    </tr>\n",
       "    <tr>\n",
       "      <th>여행경험여부</th>\n",
       "      <th></th>\n",
       "      <th></th>\n",
       "    </tr>\n",
       "  </thead>\n",
       "  <tbody>\n",
       "    <tr>\n",
       "      <th>No</th>\n",
       "      <td>1195</td>\n",
       "      <td>412</td>\n",
       "    </tr>\n",
       "    <tr>\n",
       "      <th>Yes</th>\n",
       "      <td>82</td>\n",
       "      <td>298</td>\n",
       "    </tr>\n",
       "  </tbody>\n",
       "</table>\n",
       "</div>"
      ],
      "text/plain": [
       "여행관련보험상품가입여부예측     0    1\n",
       "여행경험여부                   \n",
       "No              1195  412\n",
       "Yes               82  298"
      ]
     },
     "execution_count": 968,
     "metadata": {},
     "output_type": "execute_result"
    }
   ],
   "source": [
    "pd.crosstab(train['여행경험여부'], train['여행관련보험상품가입여부예측'])"
   ]
  },
  {
   "cell_type": "code",
   "execution_count": 969,
   "id": "bcaf4af2-03bf-4d12-ac7e-e5a158e645e0",
   "metadata": {},
   "outputs": [
    {
     "data": {
      "text/plain": [
       "No     1607\n",
       "Yes     380\n",
       "Name: 여행경험여부, dtype: int64"
      ]
     },
     "execution_count": 969,
     "metadata": {},
     "output_type": "execute_result"
    }
   ],
   "source": [
    "train['여행경험여부'].value_counts()"
   ]
  },
  {
   "cell_type": "code",
   "execution_count": 970,
   "id": "9e669089-3823-4e99-b799-1df26ee964c9",
   "metadata": {},
   "outputs": [
    {
     "data": {
      "text/plain": [
       "0    1435\n",
       "1     552\n",
       "Name: 만성질환여부, dtype: int64"
      ]
     },
     "execution_count": 970,
     "metadata": {},
     "output_type": "execute_result"
    }
   ],
   "source": [
    "train['만성질환여부'].value_counts()"
   ]
  },
  {
   "cell_type": "code",
   "execution_count": 971,
   "id": "af78b131-e4b9-4600-afbe-4d3837a3ca8f",
   "metadata": {},
   "outputs": [],
   "source": [
    "train['연소득'] = np.log1p(train['연소득'])"
   ]
  },
  {
   "cell_type": "code",
   "execution_count": 972,
   "id": "e7f4cb67-14c0-45f7-8e79-ee97e5f825d5",
   "metadata": {},
   "outputs": [
    {
     "data": {
      "text/plain": [
       "0       12.899222\n",
       "1       14.038655\n",
       "2       13.122365\n",
       "3       13.458837\n",
       "4       13.458837\n",
       "          ...    \n",
       "1982    14.220976\n",
       "1983    14.375127\n",
       "1984    13.955273\n",
       "1985    13.815512\n",
       "1986    13.122365\n",
       "Name: 연소득, Length: 1987, dtype: float64"
      ]
     },
     "execution_count": 972,
     "metadata": {},
     "output_type": "execute_result"
    }
   ],
   "source": [
    "train['연소득']"
   ]
  },
  {
   "cell_type": "code",
   "execution_count": 973,
   "id": "5d33850e-2c2c-4e86-9b68-602be0d68102",
   "metadata": {},
   "outputs": [
    {
     "name": "stdout",
     "output_type": "stream",
     "text": [
      "<class 'pandas.core.frame.DataFrame'>\n",
      "RangeIndex: 1987 entries, 0 to 1986\n",
      "Data columns (total 9 columns):\n",
      " #   Column          Non-Null Count  Dtype  \n",
      "---  ------          --------------  -----  \n",
      " 0   나이              1987 non-null   int32  \n",
      " 1   고용타입            1987 non-null   object \n",
      " 2   대졸여부            1987 non-null   object \n",
      " 3   연소득             1987 non-null   float64\n",
      " 4   가족수             1987 non-null   object \n",
      " 5   만성질환여부          1987 non-null   int64  \n",
      " 6   유료회원여부          1987 non-null   object \n",
      " 7   여행경험여부          1987 non-null   object \n",
      " 8   여행관련보험상품가입여부예측  1987 non-null   int64  \n",
      "dtypes: float64(1), int32(1), int64(2), object(5)\n",
      "memory usage: 132.1+ KB\n"
     ]
    }
   ],
   "source": [
    "train.info()"
   ]
  },
  {
   "cell_type": "code",
   "execution_count": 974,
   "id": "5a9c06aa-1950-430c-933c-10c7a015d182",
   "metadata": {},
   "outputs": [
    {
     "name": "stdout",
     "output_type": "stream",
     "text": [
      "['고용타입', '대졸여부', '만성질환여부', '유료회원여부', '여행경험여부']\n"
     ]
    }
   ],
   "source": [
    "col_list = ['고용타입', '대졸여부', '만성질환여부', '유료회원여부', '여행경험여부']\n",
    "print(col_list)\n",
    "\n",
    "for col in col_list:\n",
    "    arr = train[col].unique()\n",
    "    dict = {}\n",
    "    for i, key in enumerate(arr):  #['F' 'M']\n",
    "        dict[key] = i\n",
    "    train[col] = train[col].map(dict)"
   ]
  },
  {
   "cell_type": "code",
   "execution_count": 975,
   "id": "74e7897d-e2dd-4b21-9497-f41ebb57cd53",
   "metadata": {},
   "outputs": [
    {
     "data": {
      "text/html": [
       "<div>\n",
       "<style scoped>\n",
       "    .dataframe tbody tr th:only-of-type {\n",
       "        vertical-align: middle;\n",
       "    }\n",
       "\n",
       "    .dataframe tbody tr th {\n",
       "        vertical-align: top;\n",
       "    }\n",
       "\n",
       "    .dataframe thead th {\n",
       "        text-align: right;\n",
       "    }\n",
       "</style>\n",
       "<table border=\"1\" class=\"dataframe\">\n",
       "  <thead>\n",
       "    <tr style=\"text-align: right;\">\n",
       "      <th></th>\n",
       "      <th>나이</th>\n",
       "      <th>고용타입</th>\n",
       "      <th>대졸여부</th>\n",
       "      <th>연소득</th>\n",
       "      <th>가족수</th>\n",
       "      <th>만성질환여부</th>\n",
       "      <th>유료회원여부</th>\n",
       "      <th>여행경험여부</th>\n",
       "      <th>여행관련보험상품가입여부예측</th>\n",
       "    </tr>\n",
       "  </thead>\n",
       "  <tbody>\n",
       "    <tr>\n",
       "      <th>0</th>\n",
       "      <td>31</td>\n",
       "      <td>0</td>\n",
       "      <td>0</td>\n",
       "      <td>12.899222</td>\n",
       "      <td>6</td>\n",
       "      <td>0</td>\n",
       "      <td>0</td>\n",
       "      <td>0</td>\n",
       "      <td>0</td>\n",
       "    </tr>\n",
       "    <tr>\n",
       "      <th>1</th>\n",
       "      <td>31</td>\n",
       "      <td>1</td>\n",
       "      <td>0</td>\n",
       "      <td>14.038655</td>\n",
       "      <td>7</td>\n",
       "      <td>1</td>\n",
       "      <td>0</td>\n",
       "      <td>0</td>\n",
       "      <td>0</td>\n",
       "    </tr>\n",
       "    <tr>\n",
       "      <th>2</th>\n",
       "      <td>34</td>\n",
       "      <td>1</td>\n",
       "      <td>0</td>\n",
       "      <td>13.122365</td>\n",
       "      <td>4</td>\n",
       "      <td>0</td>\n",
       "      <td>0</td>\n",
       "      <td>0</td>\n",
       "      <td>1</td>\n",
       "    </tr>\n",
       "    <tr>\n",
       "      <th>3</th>\n",
       "      <td>28</td>\n",
       "      <td>1</td>\n",
       "      <td>0</td>\n",
       "      <td>13.458837</td>\n",
       "      <td>3</td>\n",
       "      <td>0</td>\n",
       "      <td>0</td>\n",
       "      <td>0</td>\n",
       "      <td>0</td>\n",
       "    </tr>\n",
       "    <tr>\n",
       "      <th>4</th>\n",
       "      <td>28</td>\n",
       "      <td>1</td>\n",
       "      <td>0</td>\n",
       "      <td>13.458837</td>\n",
       "      <td>8</td>\n",
       "      <td>0</td>\n",
       "      <td>1</td>\n",
       "      <td>0</td>\n",
       "      <td>0</td>\n",
       "    </tr>\n",
       "  </tbody>\n",
       "</table>\n",
       "</div>"
      ],
      "text/plain": [
       "   나이  고용타입  대졸여부        연소득 가족수  만성질환여부  유료회원여부  여행경험여부  여행관련보험상품가입여부예측\n",
       "0  31     0     0  12.899222   6       0       0       0               0\n",
       "1  31     1     0  14.038655   7       1       0       0               0\n",
       "2  34     1     0  13.122365   4       0       0       0               1\n",
       "3  28     1     0  13.458837   3       0       0       0               0\n",
       "4  28     1     0  13.458837   8       0       1       0               0"
      ]
     },
     "execution_count": 975,
     "metadata": {},
     "output_type": "execute_result"
    }
   ],
   "source": [
    "train.head()"
   ]
  },
  {
   "cell_type": "code",
   "execution_count": null,
   "id": "544602ee-3aa8-4cc3-b8d7-52c84d9c0ef0",
   "metadata": {},
   "outputs": [],
   "source": []
  },
  {
   "cell_type": "code",
   "execution_count": 976,
   "id": "db7e22ed-c18d-4f5f-8cf1-fe1ea5158f6e",
   "metadata": {},
   "outputs": [
    {
     "name": "stdout",
     "output_type": "stream",
     "text": [
      "Index(['여행관련보험상품가입여부예측', '여행경험여부', '연소득', '유료회원여부', '고용타입'], dtype='object')\n"
     ]
    },
    {
     "data": {
      "image/png": "[encoded data removed]",
      "text/plain": [
       "<Figure size 1152x720 with 2 Axes>"
      ]
     },
     "metadata": {},
     "output_type": "display_data"
    }
   ],
   "source": [
    "plt.figure(figsize=(16,10))  #nlargest, nsmallest \n",
    "sns.heatmap(train.corr(), cmap='Blues' , annot=True, fmt=\".2f\")\n",
    "print(train.corr().nlargest(5, '여행관련보험상품가입여부예측').index)"
   ]
  },
  {
   "cell_type": "code",
   "execution_count": 977,
   "id": "5b93c584-34ae-4e46-a564-488cf1887235",
   "metadata": {},
   "outputs": [
    {
     "name": "stdout",
     "output_type": "stream",
     "text": [
      "여행관련보험상품가입여부예측 피쳐와 (+) 상관관계 TOP-n ['여행관련보험상품가입여부예측', '연소득', '나이', '만성질환여부']\n",
      "여행관련보험상품가입여부예측 피쳐와 (-) 상관관계 TOP-n ['만성질환여부', '나이', '연소득', '여행관련보험상품가입여부예측']\n"
     ]
    },
    {
     "data": {
      "image/png": "[encoded data removed]",
      "text/plain": [
       "<Figure size 1080x288 with 4 Axes>"
      ]
     },
     "metadata": {},
     "output_type": "display_data"
    }
   ],
   "source": [
    "p, ax = plt.subplots(1, 2, figsize=(15,4))\n",
    "r_idx  = df.corr().nlargest(5, '여행관련보험상품가입여부예측').index\n",
    "\n",
    "print(\"여행관련보험상품가입여부예측 피쳐와 (+) 상관관계 TOP-n\", r_idx.tolist())\n",
    "sns.heatmap(df[r_idx].corr(), annot=True, cmap='Reds', fmt='0.2f' , ax=ax[0])\n",
    "\n",
    "s_idx = df.corr().nsmallest(5, '여행관련보험상품가입여부예측').index\n",
    "print(\"여행관련보험상품가입여부예측 피쳐와 (-) 상관관계 TOP-n\", s_idx.tolist())\n",
    "sns.heatmap(df[s_idx].corr(), annot=True, cmap='Blues', fmt='0.2f' , ax=ax[1])\n",
    "plt.show()"
   ]
  },
  {
   "cell_type": "code",
   "execution_count": 978,
   "id": "44da781b-70eb-4b9b-90c8-cd063c2e606e",
   "metadata": {},
   "outputs": [
    {
     "data": {
      "text/plain": [
       "['나이',\n",
       " '고용타입',\n",
       " '대졸여부',\n",
       " '연소득',\n",
       " '가족수',\n",
       " '만성질환여부',\n",
       " '유료회원여부',\n",
       " '여행경험여부',\n",
       " '여행관련보험상품가입여부예측']"
      ]
     },
     "execution_count": 978,
     "metadata": {},
     "output_type": "execute_result"
    }
   ],
   "source": [
    "train.columns.tolist()\n",
    "#상관관계에 속하지 않는 칼럼 ::고용타입, 대졸여부, 유료회원여부"
   ]
  },
  {
   "cell_type": "code",
   "execution_count": 979,
   "id": "6225ba35-9e76-463c-bbbc-9e07350f99f9",
   "metadata": {},
   "outputs": [],
   "source": [
    "train = train.drop(['고용타입','대졸여부','유료회원여부'], axis=1)"
   ]
  },
  {
   "cell_type": "code",
   "execution_count": 980,
   "id": "08b804b3-cd8c-4d2f-9837-17355985199e",
   "metadata": {},
   "outputs": [],
   "source": [
    "y = train['여행관련보험상품가입여부예측']\n",
    "X = train.drop(['여행관련보험상품가입여부예측'], axis=1)"
   ]
  },
  {
   "cell_type": "code",
   "execution_count": 981,
   "id": "ce328321-657e-4489-a7c8-081e391c5c2a",
   "metadata": {},
   "outputs": [
    {
     "name": "stdout",
     "output_type": "stream",
     "text": [
      "RandomForestClassifier \t\t 정확도:0.7965\n",
      "LogisticRegression \t\t 정확도:0.7588\n",
      "KNeighborsClassifier \t\t 정확도:0.7613\n",
      "DecisionTreeClassifier \t\t 정확도:0.7990\n",
      "LinearSVC \t\t 정확도:0.7588\n"
     ]
    }
   ],
   "source": [
    "model_list = [RandomForestClassifier(n_estimators=300, random_state=1234) ,\n",
    "              LogisticRegression(penalty=\"l2\", random_state=1234),\n",
    "              KNeighborsClassifier(),\n",
    "              DecisionTreeClassifier(),\n",
    "              LinearSVC()\n",
    "             ]\n",
    "# model = RandomForestClassifier()\n",
    "for model in model_list:\n",
    "    model.fit(X_train, y_train)  #---학습해라\n",
    "    pred = model.predict(X_test)\n",
    "    acc_score = accuracy_score(y_test, pred)\n",
    "    print(f\"{model.__class__.__name__} \\t\\t 정확도:{acc_score:.4f}\")"
   ]
  },
  {
   "cell_type": "markdown",
   "id": "07bc1f27-e9d0-4c90-a3ff-6ca52debfb2a",
   "metadata": {},
   "source": [
    "RandomForestClassifier \t\t 정확도:0.8090\n",
    "LogisticRegression \t\t 정확도:0.7889\n",
    "KNeighborsClassifier \t\t 정확도:0.7990\n",
    "DecisionTreeClassifier \t\t 정확도:0.7839\n",
    "LinearSVC \t\t 정확도:0.7864"
   ]
  },
  {
   "cell_type": "markdown",
   "id": "8a210108-c4c7-4921-886f-fffc58bc8fcf",
   "metadata": {},
   "source": [
    "<pre>\n",
    "#1차 데이터 전처리만 했을때\n",
    "RandomForestClassifier\n",
    "              precision    recall  f1-score   support\n",
    "\n",
    "           0       0.83      0.83      0.83       266\n",
    "           1       0.65      0.65      0.65       132\n",
    "\n",
    "    accuracy                           0.77       398\n",
    "   macro avg       0.74      0.74      0.74       398\n",
    "weighted avg       0.77      0.77      0.77       398\n",
    "\n",
    "[[220  46]\n",
    " [ 46  86]]\n",
    "정확도:0.7688  정밀도:0.7393  재현률:0.7393  f1:0.7393\n",
    "\n",
    "#2차 연소득 scaler ==============Better\n",
    "RandomForestClassifier\n",
    "              precision    recall  f1-score   support\n",
    "\n",
    "           0       0.83      0.83      0.83       266\n",
    "           1       0.66      0.65      0.65       132\n",
    "\n",
    "    accuracy                           0.77       398\n",
    "   macro avg       0.74      0.74      0.74       398\n",
    "weighted avg       0.77      0.77      0.77       398\n",
    "\n",
    "[[221  45]\n",
    " [ 46  86]]\n",
    "정확도:0.7714  정밀도:0.7421  재현률:0.7412  f1:0.7416\n",
    "\n",
    "#3차 나이 삭제 ==============Bad\n",
    "\n",
    "RandomForestClassifier\n",
    "              precision    recall  f1-score   support\n",
    "\n",
    "           0       0.79      0.83      0.81       266\n",
    "           1       0.62      0.57      0.59       132\n",
    "\n",
    "    accuracy                           0.74       398\n",
    "   macro avg       0.71      0.70      0.70       398\n",
    "weighted avg       0.74      0.74      0.74       398\n",
    "\n",
    "[[220  46]\n",
    " [ 57  75]]\n",
    "정확도:0.7412  정밀도:0.7070  재현률:0.6976  f1:0.7016\n",
    "\n",
    "#4차 상관관계에 속하지 않는 칼럼 ::고용타입, 대졸여부, 유료회원여부=====BEST\n",
    "RandomForestClassifier\n",
    "              precision    recall  f1-score   support\n",
    "\n",
    "           0       0.83      0.89      0.86       266\n",
    "           1       0.74      0.63      0.68       132\n",
    "\n",
    "    accuracy                           0.80       398\n",
    "   macro avg       0.78      0.76      0.77       398\n",
    "weighted avg       0.80      0.80      0.80       398\n",
    "\n",
    "[[237  29]\n",
    " [ 49  83]]\n",
    "정확도:0.8040  정밀도:0.7849  재현률:0.7599  f1:0.7695"
   ]
  },
  {
   "cell_type": "code",
   "execution_count": 982,
   "id": "6ba56d1b-801a-4738-bc87-b1d6ea9c482b",
   "metadata": {},
   "outputs": [],
   "source": [
    "y = train['여행관련보험상품가입여부예측']\n",
    "X = train.drop(['여행관련보험상품가입여부예측'], axis=1)"
   ]
  },
  {
   "cell_type": "code",
   "execution_count": 983,
   "id": "d39bf671-052e-4018-b833-df7e822a221d",
   "metadata": {},
   "outputs": [
    {
     "name": "stdout",
     "output_type": "stream",
     "text": [
      "f1 평균 점수 : 0.7633 \n"
     ]
    }
   ],
   "source": [
    "model = RandomForestClassifier(n_estimators=100, random_state=1234)\n",
    "kfold = KFold(n_splits=5) #, shuffle=False, random_state=1234)\n",
    "f1_list = []\n",
    "for train_index, test_index  in kfold.split(X, y) :  #train_index, test_index\n",
    "    #X_train, X_test,y_train, y_test = train_test_split(X,y, test_size=0.2)\n",
    "    X_train, X_test = X.iloc[train_index], X.iloc[test_index]\n",
    "    y_train, y_test = y.iloc[train_index], y.iloc[test_index]\n",
    "    model.fit(X_train, y_train)\n",
    "    pred = model.predict(X_test)\n",
    "    f1 = f1_score(y_test, pred, average=\"macro\")\n",
    "    f1_list.append(f1)\n",
    "    # return f1_list\n",
    "    \n",
    "print( f\"f1 평균 점수 : {np.array(f1_list).mean():.4f} \")"
   ]
  },
  {
   "cell_type": "code",
   "execution_count": 984,
   "id": "e4feae63-e0ca-4e26-897e-58a69d71503d",
   "metadata": {},
   "outputs": [
    {
     "name": "stdout",
     "output_type": "stream",
     "text": [
      "0Fold : 0.7757010679203018\n",
      "1Fold : 0.7435766728262639\n",
      "2Fold : 0.8055603572457506\n",
      "3Fold : 0.7612402089718786\n",
      "4Fold : 0.7625598086124402\n",
      "f1 평균 점수 : 0.7697 \n"
     ]
    }
   ],
   "source": [
    "model = RandomForestClassifier(n_estimators=100, random_state=1234)\n",
    "skfold = StratifiedKFold(n_splits=5, shuffle=True, random_state=1234) #----------아까는 KFold()\n",
    "f1_list = []\n",
    "for i, (train_index, test_index)  in enumerate(skfold.split(X, y)) :  #train_index, test_index\n",
    "    #X_train, X_test,y_train, y_test = train_test_split(X,y, test_size=0.2)\n",
    "    X_train, X_test = X.iloc[train_index], X.iloc[test_index]\n",
    "    y_train, y_test = y.iloc[train_index], y.iloc[test_index]\n",
    "    model.fit(X_train, y_train)\n",
    "    pred = model.predict(X_test)\n",
    "    f1 = f1_score(y_test, pred, average=\"macro\")\n",
    "    print(f\"{i}Fold : {f1}\")\n",
    "    f1_list.append(f1)\n",
    "print( f\"f1 평균 점수 : {np.array(f1_list).mean():.4f} \")"
   ]
  },
  {
   "cell_type": "code",
   "execution_count": 985,
   "id": "44ac9d13-76da-462b-a3ad-bef8d2289441",
   "metadata": {},
   "outputs": [
    {
     "name": "stdout",
     "output_type": "stream",
     "text": [
      "[0.77570107 0.74357667 0.80556036 0.76124021 0.76255981]\n",
      "cv5 평균점수 0.7697\n"
     ]
    }
   ],
   "source": [
    "skfold = StratifiedKFold(n_splits=5, shuffle=True, random_state=1234) \n",
    "arr_score = cross_val_score(model, X,y,scoring='f1_macro',cv=skfold)  #cv=5\n",
    "print(arr_score)\n",
    "print(f\"cv5 평균점수 {arr_score.mean():.4f}\")   # 원본 f1 0.5278"
   ]
  },
  {
   "cell_type": "code",
   "execution_count": 986,
   "id": "4f5fa7a2-96d7-465d-b620-6a396e0d0180",
   "metadata": {},
   "outputs": [
    {
     "name": "stdout",
     "output_type": "stream",
     "text": [
      "0.7744650545997639\n",
      "{'min_samples_split': 4, 'n_estimators': 100}\n"
     ]
    }
   ],
   "source": [
    "y = train['여행관련보험상품가입여부예측']\n",
    "X = train.drop(['여행관련보험상품가입여부예측'], axis=1)\n",
    "\n",
    "model = RandomForestClassifier(n_estimators=100, random_state=1234)\n",
    "\n",
    "# 튜닝 :: 하이퍼파라미터 값을 임의로 변경해서 모델의 성능을 좋게 한다. \n",
    "myparam = {'n_estimators':[100,200,300], 'min_samples_split':[1,2,3,4,5]}\n",
    "\n",
    "skfold = StratifiedKFold(n_splits=5, shuffle=True)\n",
    "gcv_model = GridSearchCV(model, param_grid = myparam, scoring = 'f1_macro', refit = True, cv = skfold)\n",
    "X_train,X_test, y_train, y_test = train_test_split(X, y, test_size=0.2)\n",
    "\n",
    "gcv_model.fit(X_train, y_train)\n",
    "print(gcv_model.best_score_)\n",
    "print(gcv_model.best_params_)\n",
    "# print(gcv_model.cv_results_)"
   ]
  },
  {
   "cell_type": "code",
   "execution_count": 989,
   "id": "1383b700-38cf-4cd0-b2d9-1379129bc1dc",
   "metadata": {},
   "outputs": [
    {
     "name": "stdout",
     "output_type": "stream",
     "text": [
      "0.7846320346320346\n",
      "GCV f1 점수 0.7846\n"
     ]
    }
   ],
   "source": [
    "pred = gcv_model.predict(X_test)\n",
    "f1 = f1_score(y_test, pred, average='macro')\n",
    "print(f1)\n",
    "print(f\"GCV f1 점수 {f1.mean():.4f}\")  "
   ]
  },
  {
   "cell_type": "code",
   "execution_count": null,
   "id": "f087fd8d-a648-46b4-b670-02e3b583a377",
   "metadata": {},
   "outputs": [],
   "source": []
  },
  {
   "cell_type": "code",
   "execution_count": null,
   "id": "6096f78d-e1c2-4d3e-8297-93fceec9015c",
   "metadata": {},
   "outputs": [],
   "source": []
  },
  {
   "cell_type": "code",
   "execution_count": null,
   "id": "8f206c73-6f85-4072-86d7-50e27a561f27",
   "metadata": {},
   "outputs": [],
   "source": []
  },
  {
   "cell_type": "code",
   "execution_count": null,
   "id": "6708255d-ecd3-44c0-b79e-85a475aa242d",
   "metadata": {},
   "outputs": [],
   "source": []
  },
  {
   "cell_type": "code",
   "execution_count": null,
   "id": "2e4b39b5-8a9c-4fc7-acb5-400af79a117b",
   "metadata": {},
   "outputs": [],
   "source": []
  },
  {
   "cell_type": "code",
   "execution_count": null,
   "id": "3e64ed31-41d9-418a-bdc4-5c5243bcd923",
   "metadata": {},
   "outputs": [],
   "source": []
  },
  {
   "cell_type": "code",
   "execution_count": 988,
   "id": "1fd77823-cbf5-40a9-bd62-b464d84b7818",
   "metadata": {},
   "outputs": [
    {
     "ename": "NameError",
     "evalue": "name 'ᄋ' is not defined",
     "output_type": "error",
     "traceback": [
      "\u001b[1;31m---------------------------------------------------------------------------\u001b[0m",
      "\u001b[1;31mNameError\u001b[0m                                 Traceback (most recent call last)",
      "\u001b[1;32m~\\AppData\\Local\\Temp/ipykernel_12188/1767188921.py\u001b[0m in \u001b[0;36m<module>\u001b[1;34m\u001b[0m\n\u001b[1;32m----> 1\u001b[1;33m \u001b[0mㅇ\u001b[0m\u001b[1;33m\u001b[0m\u001b[1;33m\u001b[0m\u001b[0m\n\u001b[0m",
      "\u001b[1;31mNameError\u001b[0m: name 'ᄋ' is not defined"
     ]
    }
   ],
   "source": [
    "ㅇ"
   ]
  },
  {
   "cell_type": "markdown",
   "id": "b20797e8-4e91-4a54-9584-2200862f8823",
   "metadata": {
    "tags": []
   },
   "source": [
    "# 점수ㄱㄱ"
   ]
  },
  {
   "cell_type": "code",
   "execution_count": null,
   "id": "fc5d5066-e72b-44ba-9399-a9341c06bb1d",
   "metadata": {},
   "outputs": [],
   "source": []
  },
  {
   "cell_type": "code",
   "execution_count": null,
   "id": "e16b230f-9188-4d2b-8b07-20e4b001e172",
   "metadata": {},
   "outputs": [],
   "source": [
    "def my_score(y_test, pred):\n",
    "    report = classification_report(y_test, pred)\n",
    "    print(report)\n",
    "    \n",
    "    cm_report = confusion_matrix(y_test, pred)\n",
    "    print(cm_report)\n",
    "    \n",
    "    # [None, 'micro', 'macro', 'weighted'].\n",
    "    accuracy = accuracy_score(y_test, pred)\n",
    "    precision = precision_score(y_test, pred, average='macro')\n",
    "    recall = recall_score(y_test, pred,       average='macro')\n",
    "    f1 = f1_score(y_test, pred,               average='macro')\n",
    "    print(f\"정확도:{accuracy:.4f}  정밀도:{precision:.4f}  재현률:{recall:.4f}  f1:{f1:.4f}\")\n",
    "    "
   ]
  },
  {
   "cell_type": "code",
   "execution_count": null,
   "id": "f36ca00d-e570-4624-8726-6d7158b5bfdb",
   "metadata": {},
   "outputs": [],
   "source": [
    "def my_curv(y_test, proba):\n",
    "    #------------ PRECISION_RECALL_CURVE() -----------------\n",
    "    precision, recall, th = precision_recall_curve(y_test, proba)  #proba_1\n",
    "    plt.plot(th, precision[0:len(th)], label=\"precision\")\n",
    "    plt.plot(th, recall[0:len(th)]   , label=\"recall\")\n",
    "    plt.xlabel(\"th\")\n",
    "    plt.ylabel(\"score\")\n",
    "    plt.legend()\n",
    "    plt.show()\n",
    "    \n",
    "    #------------ ROC_CURVE() & AUC_ROC_SCORE() -----------------\n",
    "    fpr, tpr, th = roc_curve(y_test, proba)  #proba_1\n",
    "    plt.title(f\"AUC Score : {roc_auc_score(y_test, proba):.4f}\")\n",
    "    plt.plot(fpr, tpr)\n",
    "    plt.plot([0,1], [0,1] , linestyle=\"--\")\n",
    "    plt.xlabel(\"FPR\")\n",
    "    plt.ylabel(\"TPR\")\n",
    "    plt.show()\n",
    "    \n",
    "    \n",
    "    "
   ]
  },
  {
   "cell_type": "code",
   "execution_count": null,
   "id": "9cb23cf4-cb8e-49ed-9411-ed6b913cd252",
   "metadata": {},
   "outputs": [],
   "source": [
    "def my_fit_score(train, target=\"credit\", binary_mode=None):\n",
    "    model_list = [\n",
    "              RandomForestClassifier(n_estimators=100, random_state=1234) ,\n",
    "              # LogisticRegression(penalty=\"l2\", random_state=1234),\n",
    "              # KNeighborsClassifier(),\n",
    "              # DecisionTreeClassifier(),\n",
    "              #LinearSVC()\n",
    "             ]\n",
    "    \n",
    "    y = train[target]\n",
    "    X = train.drop([target], axis=1)\n",
    "\n",
    "    X_train,X_test, y_train, y_test = train_test_split(X, y, test_size=0.2, random_state=1234, shuffle=True)\n",
    "    for model in model_list:\n",
    "        model.fit(X_train, y_train)  #---학습해라\n",
    "        pred = model.predict(X_test)\n",
    "        #acc_score = accuracy_score(y_test, pred)\n",
    "        print(f\"{model.__class__.__name__}\")\n",
    "        \n",
    "        my_score(y_test, pred)\n",
    "        \n",
    "        if binary_mode == 'y':\n",
    "            proba = model.predict_proba(X_test)\n",
    "            my_curv(y_test, proba[:, 1])\n",
    "            \n",
    "            \n",
    "        \n",
    "        #---------------- 피쳐 중요도 (tree 모델에서만 사용 가능) -------------\n",
    "        # plt.figure(figsize=(12,3))\n",
    "        # plt.xticks(rotation=90)\n",
    "        # plt.bar(X.columns, model.feature_importances_)\n",
    "        "
   ]
  },
  {
   "cell_type": "code",
   "execution_count": null,
   "id": "dfeccdf6-8753-4029-89c1-dd253cdbde51",
   "metadata": {},
   "outputs": [],
   "source": [
    "my_fit_score(train, \"여행관련보험상품가입여부예측\")"
   ]
  },
  {
   "cell_type": "code",
   "execution_count": null,
   "id": "ef14326c-371d-4de6-a27c-e1665b468401",
   "metadata": {},
   "outputs": [],
   "source": [
    "sns.boxplot(x=X[\"연소득\"])\n"
   ]
  },
  {
   "cell_type": "code",
   "execution_count": null,
   "id": "31ae9a36-8ec7-4260-b6a6-053f7a37e4df",
   "metadata": {},
   "outputs": [],
   "source": [
    "from imblearn.over_sampling import SMOTE\n",
    "from imblearn.under_sampling import NearMiss"
   ]
  },
  {
   "cell_type": "code",
   "execution_count": null,
   "id": "280aed5e-7209-4f5a-b00f-95aa2340cec0",
   "metadata": {},
   "outputs": [],
   "source": [
    "X_train,X_test, y_train, y_test = train_test_split(X, y, test_size=0.2, random_state=1234, shuffle=True)\n"
   ]
  },
  {
   "cell_type": "code",
   "execution_count": null,
   "id": "8ccfbd81-6f0c-460d-9d4c-af02d3c0faf2",
   "metadata": {},
   "outputs": [],
   "source": [
    "print(f\"원본 : {df.shape}\")\n",
    "print(X_train.shape , X_test.shape,y_train.shape , y_test.shape )"
   ]
  },
  {
   "cell_type": "code",
   "execution_count": null,
   "id": "6a806f56-0b99-49c5-a957-aed2ed0ea5fb",
   "metadata": {},
   "outputs": [],
   "source": [
    "y_train = y_train[\"여행관련보험상품가입여부예측\"]\n",
    "X_train = X_train.drop([\"여행관련보험상품가입여부예측\"], axis=1)\n",
    "print(f\"아웃라이어 처리한 데이터프레임 : {X_train.shape}, {y_train.shape}\")    # 28481 --> 28473"
   ]
  },
  {
   "cell_type": "code",
   "execution_count": null,
   "id": "d7afcb23-712f-4994-ad75-28d1b39950ef",
   "metadata": {},
   "outputs": [],
   "source": [
    "smote    = SMOTE(random_state=1234)\n",
    "over_X, over_y = smote.fit_resample(X_after_outlier , y_after_outlier)\n",
    "print(f\"오버샘플링한 데이터프레임 : {over_X.shape}, {over_y.shape}\")                          # 28473 --> 56856\n",
    "\n",
    "print(over_y.value_counts())\n",
    "over_y.value_counts().plot(kind='bar')"
   ]
  },
  {
   "cell_type": "code",
   "execution_count": null,
   "id": "5e0aa545-4529-42da-b2c5-be9e9d77d4e5",
   "metadata": {},
   "outputs": [],
   "source": []
  },
  {
   "cell_type": "code",
   "execution_count": null,
   "id": "549ef931-6b22-4e0e-ad8e-ab47727e9e54",
   "metadata": {},
   "outputs": [],
   "source": []
  },
  {
   "cell_type": "code",
   "execution_count": null,
   "id": "1756c6d5-1f02-4201-b0e7-e7f497c501d2",
   "metadata": {},
   "outputs": [],
   "source": []
  },
  {
   "cell_type": "code",
   "execution_count": null,
   "id": "9ec7f42d-6800-4a93-81c9-cb12ee390900",
   "metadata": {},
   "outputs": [],
   "source": [
    "plt.figure(figsize=(16,10))  #nlargest, nsmallest \n",
    "sns.heatmap(train.corr(), cmap='Blues' , annot=True, fmt=\".2f\")\n",
    "print(train.corr().nlargest(5, '여행관련보험상품가입여부예측').index)"
   ]
  },
  {
   "cell_type": "code",
   "execution_count": null,
   "id": "79f317ab-280e-400e-a39f-4c9fbe9f6470",
   "metadata": {},
   "outputs": [],
   "source": [
    "train.hist(figsize=(20,20))"
   ]
  },
  {
   "cell_type": "code",
   "execution_count": null,
   "id": "d2f5984a-cf32-4760-b705-ea9cbbbf7019",
   "metadata": {},
   "outputs": [],
   "source": [
    "def my_dfcheck(prm='null'):  #파라미터 : 'null' 또는 'unique'\n",
    "    if prm == 'unique':\n",
    "        s = train.nunique()\n",
    "    else:\n",
    "        s = train.isna().sum()\n",
    "    rate = np.round( (s.values  / len(train)) *100,  1)\n",
    "    dic = {\"컬럼\":s.index , \"카운트\":s.values, \"비율\":rate}\n",
    "    df = pd.DataFrame(dic).sort_values('카운트', ascending=False)\n",
    "    return df.T"
   ]
  },
  {
   "cell_type": "code",
   "execution_count": null,
   "id": "d6f1817a-3dac-4d8e-9dee-39e5fa733345",
   "metadata": {},
   "outputs": [],
   "source": [
    "my_dfcheck('unique')"
   ]
  },
  {
   "cell_type": "code",
   "execution_count": null,
   "id": "eb0125dd-cf9f-42c5-b758-c35670e37c9a",
   "metadata": {},
   "outputs": [],
   "source": [
    "my_dfcheck('null')"
   ]
  },
  {
   "cell_type": "code",
   "execution_count": null,
   "id": "88a12524-9fd6-476d-acdb-c722d0bf8d74",
   "metadata": {},
   "outputs": [],
   "source": [
    "col_list = ['고용타입', '대졸여부', '만성질환여부', '유료회원여부', '여행경험여부']\n",
    "print(col_list)\n",
    "\n",
    "for col in col_list:\n",
    "    arr = train[col].unique()\n",
    "    dict = {}\n",
    "    for i, key in enumerate(arr):  #['F' 'M']\n",
    "        dict[key] = i\n",
    "    train[col] = train[col].map(dict)"
   ]
  },
  {
   "cell_type": "code",
   "execution_count": null,
   "id": "ee6f3fe3-1178-4fa7-b535-f25eb8785228",
   "metadata": {},
   "outputs": [],
   "source": [
    "train.corr()"
   ]
  },
  {
   "cell_type": "code",
   "execution_count": null,
   "id": "6d1ba707-3d77-49b0-af63-dd73d5b58a11",
   "metadata": {},
   "outputs": [],
   "source": [
    "def my_score(y_test, pred):\n",
    "    report = classification_report(y_test, pred)\n",
    "    print(report)\n",
    "    \n",
    "    cm_report = confusion_matrix(y_test, pred)\n",
    "    print(cm_report)\n",
    "    \n",
    "    # [None, 'micro', 'macro', 'weighted'].\n",
    "    accuracy = accuracy_score(y_test, pred)\n",
    "    precision = precision_score(y_test, pred, average='macro')\n",
    "    recall = recall_score(y_test, pred,       average='macro')\n",
    "    f1 = f1_score(y_test, pred,               average='macro')\n",
    "    print(f\"정확도:{accuracy:.4f}  정밀도:{precision:.4f}  재현률:{recall:.4f}  f1:{f1:.4f}\")\n",
    "    "
   ]
  },
  {
   "cell_type": "code",
   "execution_count": null,
   "id": "594e5d9a-1304-4903-a7d5-873f6f8102f1",
   "metadata": {},
   "outputs": [],
   "source": [
    "def my_curv(y_test, proba):\n",
    "    #------------ PRECISION_RECALL_CURVE() -----------------\n",
    "    precision, recall, th = precision_recall_curve(y_test, proba)  #proba_1\n",
    "    plt.plot(th, precision[0:len(th)], label=\"precision\")\n",
    "    plt.plot(th, recall[0:len(th)]   , label=\"recall\")\n",
    "    plt.xlabel(\"th\")\n",
    "    plt.ylabel(\"score\")\n",
    "    plt.legend()\n",
    "    plt.show()\n",
    "    \n",
    "    #------------ ROC_CURVE() & AUC_ROC_SCORE() -----------------\n",
    "    fpr, tpr, th = roc_curve(y_test, proba)  #proba_1\n",
    "    plt.title(f\"AUC Score : {roc_auc_score(y_test, proba):.4f}\")\n",
    "    plt.plot(fpr, tpr)\n",
    "    plt.plot([0,1], [0,1] , linestyle=\"--\")\n",
    "    plt.xlabel(\"FPR\")\n",
    "    plt.ylabel(\"TPR\")\n",
    "    plt.show()\n",
    "    \n",
    "    \n",
    "    "
   ]
  },
  {
   "cell_type": "code",
   "execution_count": null,
   "id": "8574ebf7-a9b7-4cfa-a982-9603d9b0c8d0",
   "metadata": {},
   "outputs": [],
   "source": [
    "def my_fit_score(train, target=\"credit\", binary_mode=None):\n",
    "    model_list = [\n",
    "              RandomForestClassifier(n_estimators=100, random_state=1234) ,\n",
    "              # LogisticRegression(penalty=\"l2\", random_state=1234),\n",
    "              # KNeighborsClassifier(),\n",
    "              # DecisionTreeClassifier(),\n",
    "              #LinearSVC()\n",
    "             ]\n",
    "    \n",
    "    y = train[target]\n",
    "    X = train.drop([target], axis=1)\n",
    "\n",
    "    X_train,X_test, y_train, y_test = train_test_split(X, y, test_size=0.2, random_state=1234, shuffle=True)\n",
    "    for model in model_list:\n",
    "        model.fit(X_train, y_train)  #---학습해라\n",
    "        pred = model.predict(X_test)\n",
    "        #acc_score = accuracy_score(y_test, pred)\n",
    "        print(f\"{model.__class__.__name__}\")\n",
    "        \n",
    "        my_score(y_test, pred)\n",
    "        \n",
    "        if binary_mode == 'y':\n",
    "            proba = model.predict_proba(X_test)\n",
    "            my_curv(y_test, proba[:, 1])\n",
    "            \n",
    "            \n",
    "        \n",
    "        #---------------- 피쳐 중요도 (tree 모델에서만 사용 가능) -------------\n",
    "        # plt.figure(figsize=(12,3))\n",
    "        # plt.xticks(rotation=90)\n",
    "        # plt.bar(X.columns, model.feature_importances_)\n",
    "        "
   ]
  },
  {
   "cell_type": "code",
   "execution_count": null,
   "id": "9c0b9b4e-a953-4f99-a4b5-e453778a9a59",
   "metadata": {},
   "outputs": [],
   "source": [
    "my_fit_score(train, \"여행관련보험상품가입여부예측\")"
   ]
  },
  {
   "cell_type": "code",
   "execution_count": null,
   "id": "f50521ec-1f06-4867-baaa-ab08cb9797ce",
   "metadata": {},
   "outputs": [],
   "source": []
  },
  {
   "cell_type": "code",
   "execution_count": null,
   "id": "9c7ac52a-743a-4ed3-be9b-c9646d07ef91",
   "metadata": {},
   "outputs": [],
   "source": []
  },
  {
   "cell_type": "code",
   "execution_count": null,
   "id": "532c0aef-df35-4efe-bfe1-e43f9f3dd300",
   "metadata": {},
   "outputs": [],
   "source": []
  }
 ],
 "metadata": {
  "kernelspec": {
   "display_name": "Python 3 (ipykernel)",
   "language": "python",
   "name": "python3"
  },
  "language_info": {
   "codemirror_mode": {
    "name": "ipython",
    "version": 3
   },
   "file_extension": ".py",
   "mimetype": "text/x-python",
   "name": "python",
   "nbconvert_exporter": "python",
   "pygments_lexer": "ipython3",
   "version": "3.8.8"
  }
 },
 "nbformat": 4,
 "nbformat_minor": 5
}
