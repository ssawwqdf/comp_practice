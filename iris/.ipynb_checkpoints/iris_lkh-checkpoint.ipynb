{
 "cells": [
  {
   "cell_type": "markdown",
   "id": "cf7af12d-6c99-4d74-84ce-df8a4060f56f",
   "metadata": {},
   "source": [
    "<img src=\"./logo.png\"><br>\n",
    "* ref : https://www.kaggle.com/uciml/iris\n",
    "* ref : https://archive.ics.uci.edu/ml/datasets.php"
   ]
  },
  {
   "cell_type": "code",
   "execution_count": 32,
   "id": "ecca0fd1-de59-41b4-9556-841d7e725673",
   "metadata": {},
   "outputs": [
    {
     "data": {
      "text/html": [
       "<style>.container{width:100% !important;}</style>"
      ],
      "text/plain": [
       "<IPython.core.display.HTML object>"
      ]
     },
     "metadata": {},
     "output_type": "display_data"
    }
   ],
   "source": [
    "import pandas as pd\n",
    "import numpy as np\n",
    "import matplotlib.pyplot as plt\n",
    "import seaborn as sns\n",
    "\n",
    "from sklearn.preprocessing import LabelEncoder, OneHotEncoder\n",
    "from sklearn.model_selection import train_test_split\n",
    "\n",
    "from sklearn.ensemble import RandomForestClassifier\n",
    "from sklearn.linear_model import LogisticRegression\n",
    "from sklearn.neighbors import KNeighborsClassifier\n",
    "from sklearn.tree import DecisionTreeClassifier\n",
    "from sklearn.svm import LinearSVC\n",
    "\n",
    "\n",
    "\n",
    "                                                      #y_true, y_pred\n",
    "from sklearn.metrics import classification_report, confusion_matrix, accuracy_score, precision_score, recall_score,  f1_score\n",
    "from sklearn.metrics import precision_recall_curve    #y_true, probas_pred\n",
    "from sklearn.metrics import roc_auc_score, roc_curve  #y_true, y_score\n",
    "\n",
    "from sklearn.preprocessing import StandardScaler, RobustScaler, MinMaxScaler\n",
    "\n",
    "from sklearn.model_selection import cross_val_score, KFold, StratifiedKFold, GridSearchCV\n",
    "\n",
    "import warnings\n",
    "warnings.filterwarnings(action='ignore')\n",
    "\n",
    "#-------------------- 차트 관련 속성 (한글처리, 그리드) -----------\n",
    "#plt.rc('font', family='NanumGothicOTF') # For MacOS\n",
    "plt.rcParams['font.family']= 'Malgun Gothic'\n",
    "plt.rcParams['axes.unicode_minus'] = False\n",
    "sns.set()\n",
    "\n",
    "#-------------------- 주피터 , 출력결과 넓이 늘리기 ---------------\n",
    "from IPython.core.display import display, HTML\n",
    "display(HTML(\"<style>.container{width:100% !important;}</style>\"))\n",
    "pd.set_option('display.max_rows', 100)\n",
    "pd.set_option('display.max_columns', 100)\n",
    "pd.set_option('max_colwidth', None)"
   ]
  },
  {
   "cell_type": "markdown",
   "id": "5790ad17-aca9-4974-8836-d4296cc6cf2d",
   "metadata": {},
   "source": [
    "# Data Load"
   ]
  },
  {
   "cell_type": "code",
   "execution_count": 33,
   "id": "9cd058f5-cb31-4970-9918-55016583be5b",
   "metadata": {},
   "outputs": [],
   "source": [
    "df = pd.read_csv(\"./dataset/iris.csv\")"
   ]
  },
  {
   "cell_type": "code",
   "execution_count": 34,
   "id": "22f1d154-1718-4705-99a6-862070d378c7",
   "metadata": {},
   "outputs": [
    {
     "name": "stdout",
     "output_type": "stream",
     "text": [
      "(150, 6)\n",
      "<class 'pandas.core.frame.DataFrame'>\n",
      "RangeIndex: 150 entries, 0 to 149\n",
      "Data columns (total 6 columns):\n",
      " #   Column         Non-Null Count  Dtype  \n",
      "---  ------         --------------  -----  \n",
      " 0   Id             150 non-null    int64  \n",
      " 1   SepalLengthCm  150 non-null    float64\n",
      " 2   SepalWidthCm   150 non-null    float64\n",
      " 3   PetalLengthCm  150 non-null    float64\n",
      " 4   PetalWidthCm   150 non-null    float64\n",
      " 5   Species        150 non-null    object \n",
      "dtypes: float64(4), int64(1), object(1)\n",
      "memory usage: 7.2+ KB\n",
      "None\n"
     ]
    },
    {
     "data": {
      "text/html": [
       "<div>\n",
       "<style scoped>\n",
       "    .dataframe tbody tr th:only-of-type {\n",
       "        vertical-align: middle;\n",
       "    }\n",
       "\n",
       "    .dataframe tbody tr th {\n",
       "        vertical-align: top;\n",
       "    }\n",
       "\n",
       "    .dataframe thead th {\n",
       "        text-align: right;\n",
       "    }\n",
       "</style>\n",
       "<table border=\"1\" class=\"dataframe\">\n",
       "  <thead>\n",
       "    <tr style=\"text-align: right;\">\n",
       "      <th></th>\n",
       "      <th>Id</th>\n",
       "      <th>SepalLengthCm</th>\n",
       "      <th>SepalWidthCm</th>\n",
       "      <th>PetalLengthCm</th>\n",
       "      <th>PetalWidthCm</th>\n",
       "      <th>Species</th>\n",
       "    </tr>\n",
       "  </thead>\n",
       "  <tbody>\n",
       "    <tr>\n",
       "      <th>0</th>\n",
       "      <td>1</td>\n",
       "      <td>5.1</td>\n",
       "      <td>3.5</td>\n",
       "      <td>1.4</td>\n",
       "      <td>0.2</td>\n",
       "      <td>Iris-setosa</td>\n",
       "    </tr>\n",
       "    <tr>\n",
       "      <th>1</th>\n",
       "      <td>2</td>\n",
       "      <td>4.9</td>\n",
       "      <td>3.0</td>\n",
       "      <td>1.4</td>\n",
       "      <td>0.2</td>\n",
       "      <td>Iris-setosa</td>\n",
       "    </tr>\n",
       "    <tr>\n",
       "      <th>2</th>\n",
       "      <td>3</td>\n",
       "      <td>4.7</td>\n",
       "      <td>3.2</td>\n",
       "      <td>1.3</td>\n",
       "      <td>0.2</td>\n",
       "      <td>Iris-setosa</td>\n",
       "    </tr>\n",
       "    <tr>\n",
       "      <th>3</th>\n",
       "      <td>4</td>\n",
       "      <td>4.6</td>\n",
       "      <td>3.1</td>\n",
       "      <td>1.5</td>\n",
       "      <td>0.2</td>\n",
       "      <td>Iris-setosa</td>\n",
       "    </tr>\n",
       "    <tr>\n",
       "      <th>4</th>\n",
       "      <td>5</td>\n",
       "      <td>5.0</td>\n",
       "      <td>3.6</td>\n",
       "      <td>1.4</td>\n",
       "      <td>0.2</td>\n",
       "      <td>Iris-setosa</td>\n",
       "    </tr>\n",
       "  </tbody>\n",
       "</table>\n",
       "</div>"
      ],
      "text/plain": [
       "   Id  SepalLengthCm  SepalWidthCm  PetalLengthCm  PetalWidthCm      Species\n",
       "0   1            5.1           3.5            1.4           0.2  Iris-setosa\n",
       "1   2            4.9           3.0            1.4           0.2  Iris-setosa\n",
       "2   3            4.7           3.2            1.3           0.2  Iris-setosa\n",
       "3   4            4.6           3.1            1.5           0.2  Iris-setosa\n",
       "4   5            5.0           3.6            1.4           0.2  Iris-setosa"
      ]
     },
     "execution_count": 34,
     "metadata": {},
     "output_type": "execute_result"
    }
   ],
   "source": [
    "print(df.shape)\n",
    "print(df.info())\n",
    "df.head()"
   ]
  },
  {
   "cell_type": "markdown",
   "id": "b0d999cc-8fc0-4c4f-a8b3-7b06c3f84c9c",
   "metadata": {},
   "source": [
    "# EDA"
   ]
  },
  {
   "cell_type": "code",
   "execution_count": 35,
   "id": "c93786d8-0098-410c-81f6-ee033b1fa89e",
   "metadata": {},
   "outputs": [
    {
     "data": {
      "image/png": "[encoded data removed]",
      "text/plain": [
       "<Figure size 864x576 with 6 Axes>"
      ]
     },
     "metadata": {},
     "output_type": "display_data"
    }
   ],
   "source": [
    "df.hist(figsize=(12,8))\n",
    "plt.show()"
   ]
  },
  {
   "cell_type": "code",
   "execution_count": 36,
   "id": "e0ecdfe0-1426-4d2f-a8d2-d7c26e5fdfd7",
   "metadata": {},
   "outputs": [
    {
     "data": {
      "text/html": [
       "<div>\n",
       "<style scoped>\n",
       "    .dataframe tbody tr th:only-of-type {\n",
       "        vertical-align: middle;\n",
       "    }\n",
       "\n",
       "    .dataframe tbody tr th {\n",
       "        vertical-align: top;\n",
       "    }\n",
       "\n",
       "    .dataframe thead th {\n",
       "        text-align: right;\n",
       "    }\n",
       "</style>\n",
       "<table border=\"1\" class=\"dataframe\">\n",
       "  <thead>\n",
       "    <tr style=\"text-align: right;\">\n",
       "      <th></th>\n",
       "      <th>Id</th>\n",
       "      <th>SepalLengthCm</th>\n",
       "      <th>SepalWidthCm</th>\n",
       "      <th>PetalLengthCm</th>\n",
       "      <th>PetalWidthCm</th>\n",
       "    </tr>\n",
       "  </thead>\n",
       "  <tbody>\n",
       "    <tr>\n",
       "      <th>count</th>\n",
       "      <td>150.000000</td>\n",
       "      <td>150.000000</td>\n",
       "      <td>150.000000</td>\n",
       "      <td>150.000000</td>\n",
       "      <td>150.000000</td>\n",
       "    </tr>\n",
       "    <tr>\n",
       "      <th>mean</th>\n",
       "      <td>75.500000</td>\n",
       "      <td>5.843333</td>\n",
       "      <td>3.054000</td>\n",
       "      <td>3.758667</td>\n",
       "      <td>1.198667</td>\n",
       "    </tr>\n",
       "    <tr>\n",
       "      <th>std</th>\n",
       "      <td>43.445368</td>\n",
       "      <td>0.828066</td>\n",
       "      <td>0.433594</td>\n",
       "      <td>1.764420</td>\n",
       "      <td>0.763161</td>\n",
       "    </tr>\n",
       "    <tr>\n",
       "      <th>min</th>\n",
       "      <td>1.000000</td>\n",
       "      <td>4.300000</td>\n",
       "      <td>2.000000</td>\n",
       "      <td>1.000000</td>\n",
       "      <td>0.100000</td>\n",
       "    </tr>\n",
       "    <tr>\n",
       "      <th>25%</th>\n",
       "      <td>38.250000</td>\n",
       "      <td>5.100000</td>\n",
       "      <td>2.800000</td>\n",
       "      <td>1.600000</td>\n",
       "      <td>0.300000</td>\n",
       "    </tr>\n",
       "    <tr>\n",
       "      <th>50%</th>\n",
       "      <td>75.500000</td>\n",
       "      <td>5.800000</td>\n",
       "      <td>3.000000</td>\n",
       "      <td>4.350000</td>\n",
       "      <td>1.300000</td>\n",
       "    </tr>\n",
       "    <tr>\n",
       "      <th>75%</th>\n",
       "      <td>112.750000</td>\n",
       "      <td>6.400000</td>\n",
       "      <td>3.300000</td>\n",
       "      <td>5.100000</td>\n",
       "      <td>1.800000</td>\n",
       "    </tr>\n",
       "    <tr>\n",
       "      <th>max</th>\n",
       "      <td>150.000000</td>\n",
       "      <td>7.900000</td>\n",
       "      <td>4.400000</td>\n",
       "      <td>6.900000</td>\n",
       "      <td>2.500000</td>\n",
       "    </tr>\n",
       "  </tbody>\n",
       "</table>\n",
       "</div>"
      ],
      "text/plain": [
       "               Id  SepalLengthCm  SepalWidthCm  PetalLengthCm  PetalWidthCm\n",
       "count  150.000000     150.000000    150.000000     150.000000    150.000000\n",
       "mean    75.500000       5.843333      3.054000       3.758667      1.198667\n",
       "std     43.445368       0.828066      0.433594       1.764420      0.763161\n",
       "min      1.000000       4.300000      2.000000       1.000000      0.100000\n",
       "25%     38.250000       5.100000      2.800000       1.600000      0.300000\n",
       "50%     75.500000       5.800000      3.000000       4.350000      1.300000\n",
       "75%    112.750000       6.400000      3.300000       5.100000      1.800000\n",
       "max    150.000000       7.900000      4.400000       6.900000      2.500000"
      ]
     },
     "execution_count": 36,
     "metadata": {},
     "output_type": "execute_result"
    }
   ],
   "source": [
    "df.describe()"
   ]
  },
  {
   "cell_type": "markdown",
   "id": "41218a02-e7a5-495f-b503-e16dc6e201ee",
   "metadata": {},
   "source": [
    "# 가공"
   ]
  },
  {
   "cell_type": "markdown",
   "id": "2e8a4f58-402a-40cd-8310-aa1a444649b3",
   "metadata": {},
   "source": [
    "## Id 삭제\n"
   ]
  },
  {
   "cell_type": "code",
   "execution_count": 37,
   "id": "417f3046-d28b-417a-8b6d-749af7c63989",
   "metadata": {},
   "outputs": [
    {
     "data": {
      "text/html": [
       "<div>\n",
       "<style scoped>\n",
       "    .dataframe tbody tr th:only-of-type {\n",
       "        vertical-align: middle;\n",
       "    }\n",
       "\n",
       "    .dataframe tbody tr th {\n",
       "        vertical-align: top;\n",
       "    }\n",
       "\n",
       "    .dataframe thead th {\n",
       "        text-align: right;\n",
       "    }\n",
       "</style>\n",
       "<table border=\"1\" class=\"dataframe\">\n",
       "  <thead>\n",
       "    <tr style=\"text-align: right;\">\n",
       "      <th></th>\n",
       "      <th>SepalLengthCm</th>\n",
       "      <th>SepalWidthCm</th>\n",
       "      <th>PetalLengthCm</th>\n",
       "      <th>PetalWidthCm</th>\n",
       "      <th>Species</th>\n",
       "    </tr>\n",
       "  </thead>\n",
       "  <tbody>\n",
       "    <tr>\n",
       "      <th>0</th>\n",
       "      <td>5.1</td>\n",
       "      <td>3.5</td>\n",
       "      <td>1.4</td>\n",
       "      <td>0.2</td>\n",
       "      <td>Iris-setosa</td>\n",
       "    </tr>\n",
       "  </tbody>\n",
       "</table>\n",
       "</div>"
      ],
      "text/plain": [
       "   SepalLengthCm  SepalWidthCm  PetalLengthCm  PetalWidthCm      Species\n",
       "0            5.1           3.5            1.4           0.2  Iris-setosa"
      ]
     },
     "execution_count": 37,
     "metadata": {},
     "output_type": "execute_result"
    }
   ],
   "source": [
    "df = df.drop(['Id'], axis=1)\n",
    "df.head(1)"
   ]
  },
  {
   "cell_type": "markdown",
   "id": "bc89febc-549b-4899-a92b-728e28070b69",
   "metadata": {},
   "source": [
    "##  Secies 유니크 값 확인\n",
    "* 카테고리화"
   ]
  },
  {
   "cell_type": "code",
   "execution_count": 38,
   "id": "5ca9188b-b347-4614-9483-e257e8417070",
   "metadata": {},
   "outputs": [
    {
     "data": {
      "text/plain": [
       "Iris-setosa        50\n",
       "Iris-versicolor    50\n",
       "Iris-virginica     50\n",
       "Name: Species, dtype: int64"
      ]
     },
     "execution_count": 38,
     "metadata": {},
     "output_type": "execute_result"
    }
   ],
   "source": [
    "df['Species'].value_counts()"
   ]
  },
  {
   "cell_type": "code",
   "execution_count": 39,
   "id": "b3033b06-5e95-4e64-bcfc-af8c253c8bdc",
   "metadata": {},
   "outputs": [],
   "source": [
    "df['Species'] = df['Species'].replace(['Iris-setosa','Iris-versicolor','Iris-virginica'], [1,2,3])"
   ]
  },
  {
   "cell_type": "code",
   "execution_count": 40,
   "id": "80f382a6-2361-4e4d-9dfb-73fad3e54e12",
   "metadata": {},
   "outputs": [
    {
     "data": {
      "text/plain": [
       "1    50\n",
       "2    50\n",
       "3    50\n",
       "Name: Species, dtype: int64"
      ]
     },
     "execution_count": 40,
     "metadata": {},
     "output_type": "execute_result"
    }
   ],
   "source": [
    "df['Species'].value_counts()"
   ]
  },
  {
   "cell_type": "markdown",
   "id": "6063971e-63e5-4a9f-a6ec-e74d6f262e86",
   "metadata": {},
   "source": [
    "## 컬럼이름 변경"
   ]
  },
  {
   "cell_type": "code",
   "execution_count": 41,
   "id": "9f42bfbd-9944-4a9c-bdad-0d7da0733854",
   "metadata": {},
   "outputs": [
    {
     "data": {
      "text/plain": [
       "['SepalLengthCm', 'SepalWidthCm', 'PetalLengthCm', 'PetalWidthCm', 'Species']"
      ]
     },
     "execution_count": 41,
     "metadata": {},
     "output_type": "execute_result"
    }
   ],
   "source": [
    "df.columns.tolist()"
   ]
  },
  {
   "cell_type": "code",
   "execution_count": 42,
   "id": "f2a150d9-49bc-4eaa-884d-28e95f35e77a",
   "metadata": {},
   "outputs": [
    {
     "data": {
      "text/html": [
       "<div>\n",
       "<style scoped>\n",
       "    .dataframe tbody tr th:only-of-type {\n",
       "        vertical-align: middle;\n",
       "    }\n",
       "\n",
       "    .dataframe tbody tr th {\n",
       "        vertical-align: top;\n",
       "    }\n",
       "\n",
       "    .dataframe thead th {\n",
       "        text-align: right;\n",
       "    }\n",
       "</style>\n",
       "<table border=\"1\" class=\"dataframe\">\n",
       "  <thead>\n",
       "    <tr style=\"text-align: right;\">\n",
       "      <th></th>\n",
       "      <th>sepal_length</th>\n",
       "      <th>sepal_width</th>\n",
       "      <th>petal_length</th>\n",
       "      <th>petal_width</th>\n",
       "      <th>class</th>\n",
       "    </tr>\n",
       "  </thead>\n",
       "  <tbody>\n",
       "    <tr>\n",
       "      <th>0</th>\n",
       "      <td>5.1</td>\n",
       "      <td>3.5</td>\n",
       "      <td>1.4</td>\n",
       "      <td>0.2</td>\n",
       "      <td>1</td>\n",
       "    </tr>\n",
       "  </tbody>\n",
       "</table>\n",
       "</div>"
      ],
      "text/plain": [
       "   sepal_length  sepal_width  petal_length  petal_width  class\n",
       "0           5.1          3.5           1.4          0.2      1"
      ]
     },
     "execution_count": 42,
     "metadata": {},
     "output_type": "execute_result"
    }
   ],
   "source": [
    "df.columns  = ['sepal_length', 'sepal_width', 'petal_length', 'petal_width', 'class']\n",
    "df.head(1)"
   ]
  },
  {
   "cell_type": "code",
   "execution_count": 48,
   "id": "ba922a97-709f-457a-bf5a-cfd1ed158daf",
   "metadata": {},
   "outputs": [
    {
     "data": {
      "text/plain": [
       "((135, 4), (15, 4), (135,), (15,))"
      ]
     },
     "execution_count": 48,
     "metadata": {},
     "output_type": "execute_result"
    }
   ],
   "source": [
    "y = df['class']\n",
    "X = df.drop(['class'], axis=1)\n",
    "X_train,X_test, y_train, y_test = train_test_split(X, y , test_size=0.1)\n",
    "X_train.shape,X_test.shape, y_train.shape, y_test.shape"
   ]
  },
  {
   "cell_type": "code",
   "execution_count": 53,
   "id": "9359f90c-d8e4-497e-85a9-d72c8abb374b",
   "metadata": {},
   "outputs": [
    {
     "name": "stdout",
     "output_type": "stream",
     "text": [
      "f1:0.8857 accuracy:0.8667\n",
      "[[3 0 0]\n",
      " [0 4 2]\n",
      " [0 0 6]]\n"
     ]
    }
   ],
   "source": [
    "model = RandomForestClassifier()\n",
    "model.fit(X_train, y_train)\n",
    "pred = model.predict(X_test)\n",
    "\n",
    "accuracy = accuracy_score(y_test, pred)\n",
    "f1 = f1_score(y_test, pred, average='macro')\n",
    "print(f\"f1:{f1:.4f} accuracy:{accuracy:.4f}\")\n",
    "\n",
    "cm = confusion_matrix(y_test, pred)\n",
    "print(cm)"
   ]
  },
  {
   "cell_type": "code",
   "execution_count": null,
   "id": "9e6d75d9-096e-4516-8e07-c91ea3548d3c",
   "metadata": {},
   "outputs": [],
   "source": []
  },
  {
   "cell_type": "markdown",
   "id": "11c0fcdd-2ac6-4291-ae72-b88cba2f1848",
   "metadata": {
    "tags": []
   },
   "source": [
    "# XGBoost"
   ]
  },
  {
   "cell_type": "markdown",
   "id": "fd45cb9e-a98b-4f53-a818-567ca2099cbe",
   "metadata": {},
   "source": [
    "* ref : https://xgboost.readthedocs.io/en/stable/\n",
    "<pre>\n",
    "Collecting xgboost\n",
    "  Downloading xgboost-1.5.2-py3-none-win_amd64.whl (106.6 MB)\n",
    "Requirement already satisfied: numpy in c:\\ai\\pythonproject\\venv\\lib\\site-packages (from xgboost) (1.22.0)\n",
    "Requirement already satisfied: scipy in c:\\ai\\pythonproject\\venv\\lib\\site-packages (from xgboost) (1.7.3)\n",
    "Installing collected packages: xgboost\n",
    "Successfully installed xgboost-1.5.2"
   ]
  },
  {
   "cell_type": "code",
   "execution_count": 57,
   "id": "621f03c8-56ee-4ce3-94a5-5591e15aca99",
   "metadata": {},
   "outputs": [],
   "source": [
    "# ! pip install xgboost"
   ]
  },
  {
   "cell_type": "markdown",
   "id": "cabcd3c7-e94b-4cdb-a3f5-5833f0488a91",
   "metadata": {},
   "source": [
    "<font size=3>주요 파라미터  - 부스터 관련</font>\n",
    "* ref : https://xgboost.readthedocs.io/en/stable/parameter.html\n",
    "<pre>\n",
    "     \n",
    "<div class=\"cell border-box-sizing text_cell rendered\"><div class=\"prompt input_prompt\">\n",
    "</div><div class=\"inner_cell\">\n",
    "<div class=\"text_cell_render border-box-sizing rendered_html\">\n",
    "<table>\n",
    "<thead><tr>\n",
    "<th style=\"text-align:center\">파라미터 명<br>(파이썬 래퍼)</th>\n",
    "<th style=\"text-align:center\">파라미터명<br>(사이킷런 래퍼)</th>\n",
    "<th style=\"text-align:left\">설명</th>\n",
    "</tr>\n",
    "</thead>\n",
    "<tbody>\n",
    "<tr>\n",
    "<td style=\"text-align:center\"><strong>eta</strong><br>(0.3)</td>\n",
    "<td style=\"text-align:center\"><strong>learning rate</strong><br>(0.1)</td>\n",
    "<td style=\"text-align:left\">- GBM의 learning rate와 같은 파라미터<br>- 범위: 0 ~ 1</td>\n",
    "</tr>\n",
    "<tr>\n",
    "<td style=\"text-align:center\"><strong>num_boost_around</strong><br>(10)</td>\n",
    "<td style=\"text-align:center\"><strong>n_estimators</strong><br>(100)</td>\n",
    "<td style=\"text-align:left\">- 생성할 weak learner의 수</td>\n",
    "</tr>\n",
    "<tr>\n",
    "<td style=\"text-align:center\"><strong>min_child_weight</strong><br>(1)</td>\n",
    "<td style=\"text-align:center\"><strong>min_child_weight</strong><br>(1)</td>\n",
    "<td style=\"text-align:left\">- GBM의 min_samples_leaf와 유사<br>- 관측치에 대한 가중치 합의 최소를 말하지만<br>GBM에서는 관측치 수에 대한 최소를 의미<br>- 과적합 조절 용도<br>- 범위: 0 ~ ∞</td>\n",
    "</tr>\n",
    "<tr>\n",
    "<td style=\"text-align:center\"><strong>gamma</strong><br>(0)</td>\n",
    "<td style=\"text-align:center\"><strong>min_split_loss</strong><br>(0)</td>\n",
    "<td style=\"text-align:left\">- 리프노드의 추가분할을 결정할 최소손실 감소값<br>- 해당값보다 손실이 크게 감소할 때 분리<br>- 값이 클수록 과적합 감소효과<br>- 범위: 0 ~ ∞</td>\n",
    "</tr>\n",
    "<tr>\n",
    "<td style=\"text-align:center\"><strong>max_depth</strong><br>(6)</td>\n",
    "<td style=\"text-align:center\"><strong>max_depth</strong><br>(3)</td>\n",
    "<td style=\"text-align:left\">- 트리 기반 알고리즘의 max_depth와 동일<br>- 0을 지정하면 깊이의 제한이 없음<br>- 너무 크면 과적합(통상 3~10정도 적용)<br>- 범위: 0 ~ ∞</td>\n",
    "</tr>\n",
    "<tr>\n",
    "<td style=\"text-align:center\"><strong>sub_sample</strong><br>(1)</td>\n",
    "<td style=\"text-align:center\"><strong>subsample</strong><br>(1)</td>\n",
    "<td style=\"text-align:left\">- GBM의 subsample과 동일<br>- 데이터 샘플링 비율 지정(과적합 제어)<br>- 일반적으로 0.5~1 사이의 값을 사용<br>- 범위: 0 ~ 1</td>\n",
    "</tr>\n",
    "<tr>\n",
    "<td style=\"text-align:center\"><strong>colsample_bytree</strong><br>(1)</td>\n",
    "<td style=\"text-align:center\"><strong>colsample_bytree</strong><br>(1)</td>\n",
    "<td style=\"text-align:left\">- GBM의 max_features와 유사<br>- 트리 생성에 필요한 피처의 샘플링에 사용<br>- 피처가 많을 때 과적합 조절에 사용<br>- 범위: 0 ~ 1</td>\n",
    "</tr>\n",
    "<tr>\n",
    "<td style=\"text-align:center\"><strong>lambda</strong><br>(1)</td>\n",
    "<td style=\"text-align:center\"><strong>reg_lambda</strong><br>(1)</td>\n",
    "<td style=\"text-align:left\">- L2 Regularization 적용 값<br>- 피처 개수가 많을 때 적용을 검토<br>- 클수록 과적합 감소 효과</td>\n",
    "</tr>\n",
    "<tr>\n",
    "<td style=\"text-align:center\"><strong>alpha</strong><br>(0)</td>\n",
    "<td style=\"text-align:center\"><strong>reg_alpha</strong><br>(0)</td>\n",
    "<td style=\"text-align:left\">- L1 Regularization 적용 값<br>- 피처 개수가 많을 때 적용을 검토<br>- 클수록 과적합 감소 효과</td>\n",
    "</tr>\n",
    "<tr>\n",
    "<td style=\"text-align:center\"><strong>scale_pos_weight</strong><br>(1)</td>\n",
    "<td style=\"text-align:center\"><strong>scale_pos_weight</strong><br>(1)</td>\n",
    "<td style=\"text-align:left\">- 불균형 데이터셋의 균형을 유지</td>\n",
    "</tr>\n",
    "</tbody>\n",
    "</table>\n",
    "\n",
    "</div>\n",
    "</div>\n",
    "</div>     "
   ]
  },
  {
   "cell_type": "markdown",
   "id": "232b2381-4da2-4df2-9469-a91a9a18a466",
   "metadata": {},
   "source": [
    "<font size=3> 학습 태스크 관련 </font>\n",
    "<pre>\n",
    "<div class=\"inner_cell\">\n",
    "<div class=\"text_cell_render border-box-sizing rendered_html\">\n",
    "<table>\n",
    "<thead><tr>\n",
    "<th style=\"text-align:center\">파라미터 명</th>\n",
    "<th style=\"text-align:left\">설명</th>\n",
    "</tr>\n",
    "</thead>\n",
    "<tbody>\n",
    "<tr>\n",
    "<td style=\"text-align:center\"><strong>objective</strong></td>\n",
    "<td style=\"text-align:left\">- ‘reg:linear’ : 회귀<br>- binary:logistic : 이진분류<br>- multi:softmax : 다중분류, 클래스 반환<br>- multi:softprob : 다중분류, 확륣반환</td>\n",
    "</tr>\n",
    "<tr>\n",
    "<td style=\"text-align:center\"><strong>eval_metric</strong></td>\n",
    "<td style=\"text-align:left\">- 검증에 사용되는 함수정의<br>- 회귀 분석인 경우 'rmse'를, 클래스 분류 문제인 경우 'error'<br>----------------------------------------------------<br>- rmse : Root Mean Squared Error<br>- mae : mean absolute error<br>- logloss : Negative log-likelihood<br>- error : binary classification error rate<br>- merror : multiclass classification error rate<br>- mlogloss: Multiclass logloss<br>- auc: Area Under Curve</td>\n",
    "</tr>\n",
    "</tbody>\n",
    "</table>\n",
    "\n",
    "</div>\n",
    "</div>"
   ]
  },
  {
   "cell_type": "markdown",
   "id": "d093241d-1859-43d4-aec1-6508e0940cc1",
   "metadata": {},
   "source": [
    "<font size=3 color=red> 주요파라미터 - 과적합 관련</font>\n",
    "<pre>\n",
    "Early Stopping :  과적합 시 학습 멈추기 기능\n",
    "\n",
    "**eta : 작게\n",
    "subsample : 작게 \n",
    "colsample_bytree : 작게\n",
    "max_depth : 작게\n",
    "\n",
    "**gamma : 크게\n",
    "min_child_weight : 크게\n",
    "num_boost_round(n_estimator) : 크게\n",
    "\n"
   ]
  },
  {
   "cell_type": "code",
   "execution_count": null,
   "id": "b8df1086-b7cf-4b18-a196-f7d73c217a7f",
   "metadata": {},
   "outputs": [],
   "source": []
  },
  {
   "cell_type": "markdown",
   "id": "875b8d6a-cb74-4690-9683-3927321ed415",
   "metadata": {
    "tags": []
   },
   "source": [
    "## XGBoost Wrapper - python\n",
    "<pre>\n",
    "dtrain = xgb.DMatrix('demo/data/agaricus.txt.train')\n",
    "dtest = xgb.DMatrix('demo/data/agaricus.txt.test')\n",
    "# specify parameters via map\n",
    "param = {'max_depth':2, 'eta':1, 'objective':'binary:logistic' }\n",
    "num_round = 2\n",
    "bst = xgb.train(param, dtrain, num_round)\n",
    "# make prediction\n",
    "preds = bst.predict(dtest)"
   ]
  },
  {
   "cell_type": "markdown",
   "id": "600eb3a1-d596-46ad-bf4b-8d1b28b29fcc",
   "metadata": {},
   "source": [
    "## 아래 코드는 에러납니다"
   ]
  },
  {
   "cell_type": "code",
   "execution_count": 60,
   "id": "338d7bb3-c6a9-4326-8f5d-7c3b1b375218",
   "metadata": {},
   "outputs": [],
   "source": [
    "import xgboost as xgb\n",
    "from xgboost import plot_importance"
   ]
  },
  {
   "cell_type": "code",
   "execution_count": 94,
   "id": "e411eee8-7891-4196-b868-b60b4f5ac3fe",
   "metadata": {},
   "outputs": [],
   "source": [
    "# y = df['class']\n",
    "# X = df.drop(['class'], axis=1)\n",
    "# X_train,X_test, y_train, y_test = train_test_split(X, y , test_size=0.1)\n",
    "# print(X_train.shape,X_test.shape, y_train.shape, y_test.shape)\n",
    "\n",
    "\n",
    "# dm_train = xgb.DMatrix(data=X_train, label=y_train)\n",
    "# dm_test  = xgb.DMatrix(data=X_test,  label=y_test)\n",
    "\n",
    "# my_param = {\n",
    "# 'max_depth' : 5,\n",
    "# 'eta' : 0.1,\n",
    "# #'objective'  : 'binary:logistic',  # 0, 1\n",
    "# 'objective'   : 'multi:softmax',    # 1,2,3  ------- 버그~!!!!!!!!!!!!!!!!!!!!!!!\n",
    "# # 'objective' : 'multi:softprob',   # 0.2 0.3 0.5\n",
    "# 'num_class': 3,    \n",
    "# 'eval_metric' : 'mlogloss',\n",
    "# 'early_stopping' : 100  \n",
    "# }\n",
    "    \n",
    "# # num_boost_round = 10\n",
    "# # evals: list of pairs (DMatrix, string) -- List of validation sets for which metrics\n",
    "\n",
    "# train_object = xgb.train(param, dm_train, num_boost_round=10\n",
    "#                          , evals=[(dm_train,'dmtrain'),(dm_test,'dmtest')])\n",
    "# pred = train_object.predict(dm_test)\n",
    "# print(pred)"
   ]
  },
  {
   "cell_type": "code",
   "execution_count": null,
   "id": "5dcb43e9-9eb7-41cf-967c-ab768e0cf6be",
   "metadata": {},
   "outputs": [],
   "source": []
  },
  {
   "cell_type": "markdown",
   "id": "5a23083d-7a6b-462d-8eca-7e566dbd872f",
   "metadata": {},
   "source": [
    "## XGBoost Wrapper - sklearn"
   ]
  },
  {
   "cell_type": "code",
   "execution_count": 88,
   "id": "955b5bfd-1dc0-40c7-958b-eefa7ad47ec2",
   "metadata": {},
   "outputs": [
    {
     "name": "stdout",
     "output_type": "stream",
     "text": [
      "(135, 4) (15, 4) (135,) (15,)\n",
      "[12:47:53] WARNING: C:/Users/Administrator/workspace/xgboost-win64_release_1.5.1/src/learner.cc:1115: Starting in XGBoost 1.3.0, the default evaluation metric used with the objective 'multi:softprob' was changed from 'merror' to 'mlogloss'. Explicitly set eval_metric if you'd like to restore the old behavior.\n",
      "f1:1.0000 accuracy:1.0000\n",
      "[[6 0 0]\n",
      " [0 6 0]\n",
      " [0 0 3]]\n"
     ]
    }
   ],
   "source": [
    "from xgboost import XGBClassifier\n",
    "y = df['class']\n",
    "X = df.drop(['class'], axis=1)\n",
    "X_train,X_test, y_train, y_test = train_test_split(X, y , test_size=0.1, random_state=1234)\n",
    "print(X_train.shape,X_test.shape, y_train.shape, y_test.shape)\n",
    "\n",
    "\n",
    "model = XGBClassifier(n_estimators=100, \n",
    "                      learning_rate=0.1, \n",
    "                      max_depth=5, \n",
    "                      random_state=1234,\n",
    "                     )\n",
    "#model = RandomForestClassifier()\n",
    "\n",
    "model.fit(X_train, y_train)\n",
    "pred = model.predict(X_test)\n",
    "\n",
    "accuracy = accuracy_score(y_test, pred)\n",
    "f1 = f1_score(y_test, pred, average='macro')\n",
    "print(f\"f1:{f1:.4f} accuracy:{accuracy:.4f}\")\n",
    "\n",
    "cm = confusion_matrix(y_test, pred)\n",
    "print(cm)\n",
    "\n",
    "\n"
   ]
  },
  {
   "cell_type": "markdown",
   "id": "543286aa-cee0-4d1c-98c0-e9599f89c1ef",
   "metadata": {},
   "source": [
    "# LightGBM"
   ]
  },
  {
   "cell_type": "markdown",
   "id": "4d041caf-ecf9-4ada-b093-4e5b9597bd63",
   "metadata": {},
   "source": [
    "* ref : https://lightgbm.readthedocs.io/en/latest/"
   ]
  },
  {
   "cell_type": "code",
   "execution_count": 58,
   "id": "b9c1ea0b-38db-429f-b3e5-8e70f1c8f034",
   "metadata": {},
   "outputs": [],
   "source": [
    "# ! pip install lightgbm"
   ]
  },
  {
   "cell_type": "markdown",
   "id": "1066c9d5-2140-4f27-a0b8-0e4eda55a7b9",
   "metadata": {},
   "source": [
    "## LightGBM Wrapper - sklearn"
   ]
  },
  {
   "cell_type": "code",
   "execution_count": 93,
   "id": "8046d059-4e2b-4865-82e4-3c2c8206fc67",
   "metadata": {},
   "outputs": [
    {
     "name": "stdout",
     "output_type": "stream",
     "text": [
      "(135, 4) (15, 4) (135,) (15,)\n",
      "f1:1.0000 accuracy:1.0000\n",
      "[[6 0 0]\n",
      " [0 6 0]\n",
      " [0 0 3]]\n"
     ]
    }
   ],
   "source": [
    "import lightgbm as lgb\n",
    "from lightgbm import LGBMClassifier\n",
    "\n",
    "y = df['class']\n",
    "X = df.drop(['class'], axis=1)\n",
    "X_train,X_test, y_train, y_test = train_test_split(X, y , test_size=0.1, random_state=1234)\n",
    "print(X_train.shape,X_test.shape, y_train.shape, y_test.shape)\n",
    "\n",
    "\n",
    "model = LGBMClassifier(max_depth=5, learning_rate=0.1, n_estimators=100, random_state=1234)        \n",
    "model.fit(X_train, y_train)   # , eval_set=[(X_test, y_test)]        \n",
    "pred = model.predict(X_test)\n",
    "\n",
    "accuracy = accuracy_score(y_test, pred)\n",
    "f1 = f1_score(y_test, pred, average='macro')\n",
    "print(f\"f1:{f1:.4f} accuracy:{accuracy:.4f}\")\n",
    "\n",
    "cm = confusion_matrix(y_test, pred)\n",
    "print(cm)\n",
    "        "
   ]
  },
  {
   "cell_type": "code",
   "execution_count": null,
   "id": "d7efd25d-e83f-41c8-b1f3-2866bf153ef9",
   "metadata": {},
   "outputs": [],
   "source": []
  }
 ],
 "metadata": {
  "kernelspec": {
   "display_name": "Python 3 (ipykernel)",
   "language": "python",
   "name": "python3"
  },
  "language_info": {
   "codemirror_mode": {
    "name": "ipython",
    "version": 3
   },
   "file_extension": ".py",
   "mimetype": "text/x-python",
   "name": "python",
   "nbconvert_exporter": "python",
   "pygments_lexer": "ipython3",
   "version": "3.8.8"
  }
 },
 "nbformat": 4,
 "nbformat_minor": 5
}
