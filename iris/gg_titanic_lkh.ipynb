{
 "cells": [
  {
   "cell_type": "markdown",
   "id": "cf7af12d-6c99-4d74-84ce-df8a4060f56f",
   "metadata": {},
   "source": [
    "<img src=\"./logo.png\"><br>\n",
    "* ref : https://www.kaggle.com/uciml/iris\n",
    "* ref : https://archive.ics.uci.edu/ml/datasets.php"
   ]
  },
  {
   "cell_type": "code",
   "execution_count": 88,
   "id": "ecca0fd1-de59-41b4-9556-841d7e725673",
   "metadata": {},
   "outputs": [
    {
     "data": {
      "text/html": [
       "<style>.container{width:100% !important;}</style>"
      ],
      "text/plain": [
       "<IPython.core.display.HTML object>"
      ]
     },
     "metadata": {},
     "output_type": "display_data"
    }
   ],
   "source": [
    "import pandas as pd\n",
    "import numpy as np\n",
    "import matplotlib.pyplot as plt\n",
    "import seaborn as sns\n",
    "\n",
    "from sklearn.preprocessing import LabelEncoder, OneHotEncoder\n",
    "from sklearn.model_selection import train_test_split\n",
    "\n",
    "from sklearn.ensemble import RandomForestClassifier\n",
    "from sklearn.linear_model import LogisticRegression\n",
    "from sklearn.neighbors import KNeighborsClassifier\n",
    "from sklearn.tree import DecisionTreeClassifier\n",
    "from sklearn.svm import LinearSVC\n",
    "\n",
    "\n",
    "\n",
    "                                                      #y_true, y_pred\n",
    "from sklearn.metrics import classification_report, confusion_matrix, accuracy_score, precision_score, recall_score,  f1_score\n",
    "from sklearn.metrics import precision_recall_curve    #y_true, probas_pred\n",
    "from sklearn.metrics import roc_auc_score, roc_curve  #y_true, y_score\n",
    "\n",
    "from sklearn.preprocessing import StandardScaler, RobustScaler, MinMaxScaler\n",
    "\n",
    "from sklearn.model_selection import cross_val_score, KFold, StratifiedKFold, GridSearchCV\n",
    "\n",
    "import warnings\n",
    "warnings.filterwarnings(action='ignore')\n",
    "\n",
    "#-------------------- 차트 관련 속성 (한글처리, 그리드) -----------\n",
    "#plt.rc('font', family='NanumGothicOTF') # For MacOS\n",
    "plt.rcParams['font.family']= 'Malgun Gothic'\n",
    "plt.rcParams['axes.unicode_minus'] = False\n",
    "sns.set()\n",
    "\n",
    "#-------------------- 주피터 , 출력결과 넓이 늘리기 ---------------\n",
    "from IPython.core.display import display, HTML\n",
    "display(HTML(\"<style>.container{width:100% !important;}</style>\"))\n",
    "pd.set_option('display.max_rows', 100)\n",
    "pd.set_option('display.max_columns', 100)\n",
    "pd.set_option('max_colwidth', None)"
   ]
  },
  {
   "cell_type": "markdown",
   "id": "5790ad17-aca9-4974-8836-d4296cc6cf2d",
   "metadata": {},
   "source": [
    "# Data Load"
   ]
  },
  {
   "cell_type": "code",
   "execution_count": 89,
   "id": "9cd058f5-cb31-4970-9918-55016583be5b",
   "metadata": {},
   "outputs": [],
   "source": [
    "df = pd.read_csv(\"./dataset/gg_titanic.csv\")"
   ]
  },
  {
   "cell_type": "code",
   "execution_count": 90,
   "id": "22f1d154-1718-4705-99a6-862070d378c7",
   "metadata": {},
   "outputs": [
    {
     "data": {
      "text/html": [
       "<div>\n",
       "<style scoped>\n",
       "    .dataframe tbody tr th:only-of-type {\n",
       "        vertical-align: middle;\n",
       "    }\n",
       "\n",
       "    .dataframe tbody tr th {\n",
       "        vertical-align: top;\n",
       "    }\n",
       "\n",
       "    .dataframe thead th {\n",
       "        text-align: right;\n",
       "    }\n",
       "</style>\n",
       "<table border=\"1\" class=\"dataframe\">\n",
       "  <thead>\n",
       "    <tr style=\"text-align: right;\">\n",
       "      <th></th>\n",
       "      <th>Pclass</th>\n",
       "      <th>Cabin</th>\n",
       "      <th>Embarked</th>\n",
       "      <th>Name_title</th>\n",
       "      <th>Sex</th>\n",
       "      <th>Fare_binning</th>\n",
       "      <th>Age_binning</th>\n",
       "      <th>family_binning</th>\n",
       "      <th>Survived</th>\n",
       "    </tr>\n",
       "  </thead>\n",
       "  <tbody>\n",
       "    <tr>\n",
       "      <th>0</th>\n",
       "      <td>3</td>\n",
       "      <td>0</td>\n",
       "      <td>1</td>\n",
       "      <td>3</td>\n",
       "      <td>1</td>\n",
       "      <td>1</td>\n",
       "      <td>3</td>\n",
       "      <td>2</td>\n",
       "      <td>0</td>\n",
       "    </tr>\n",
       "  </tbody>\n",
       "</table>\n",
       "</div>"
      ],
      "text/plain": [
       "   Pclass  Cabin  Embarked  Name_title  Sex  Fare_binning  Age_binning  \\\n",
       "0       3      0         1           3    1             1            3   \n",
       "\n",
       "   family_binning  Survived  \n",
       "0               2         0  "
      ]
     },
     "execution_count": 90,
     "metadata": {},
     "output_type": "execute_result"
    }
   ],
   "source": [
    "# print(df.shape)\n",
    "# print(df.info())\n",
    "df.head(1)"
   ]
  },
  {
   "cell_type": "markdown",
   "id": "b0d999cc-8fc0-4c4f-a8b3-7b06c3f84c9c",
   "metadata": {},
   "source": [
    "# EDA"
   ]
  },
  {
   "cell_type": "markdown",
   "id": "41218a02-e7a5-495f-b503-e16dc6e201ee",
   "metadata": {},
   "source": [
    "# 가공"
   ]
  },
  {
   "cell_type": "markdown",
   "id": "d37be81f-1aef-41cf-bfc0-6413e31b89e0",
   "metadata": {},
   "source": [
    "# 모델학습 & 평가"
   ]
  },
  {
   "cell_type": "code",
   "execution_count": 91,
   "id": "ba922a97-709f-457a-bf5a-cfd1ed158daf",
   "metadata": {},
   "outputs": [
    {
     "data": {
      "text/plain": [
       "((712, 8), (179, 8), (712,), (179,))"
      ]
     },
     "execution_count": 91,
     "metadata": {},
     "output_type": "execute_result"
    }
   ],
   "source": [
    "y = df['Survived']\n",
    "X = df.drop(['Survived'], axis=1)\n",
    "X_train,X_test, y_train, y_test = train_test_split(X, y , test_size=0.2)\n",
    "X_train.shape,X_test.shape, y_train.shape, y_test.shape"
   ]
  },
  {
   "cell_type": "code",
   "execution_count": null,
   "id": "39c4d4fb-cba6-44b1-82fc-1da19d80b668",
   "metadata": {},
   "outputs": [],
   "source": []
  },
  {
   "cell_type": "code",
   "execution_count": 92,
   "id": "9359f90c-d8e4-497e-85a9-d72c8abb374b",
   "metadata": {},
   "outputs": [
    {
     "name": "stdout",
     "output_type": "stream",
     "text": [
      "[17:36:37] WARNING: C:/Users/Administrator/workspace/xgboost-win64_release_1.5.1/src/learner.cc:1115: Starting in XGBoost 1.3.0, the default evaluation metric used with the objective 'binary:logistic' was changed from 'error' to 'logloss'. Explicitly set eval_metric if you'd like to restore the old behavior.\n"
     ]
    }
   ],
   "source": [
    "from xgboost import XGBClassifier  #XGBoost Wrapper - sklearn\n",
    "from sklearn.ensemble import VotingClassifier\n",
    "from sklearn.ensemble import BaggingClassifier\n",
    "from lightgbm import LGBMClassifier\n",
    "\n",
    "model1 = RandomForestClassifier()\n",
    "model2 = XGBClassifier(n_estimators=100, learning_rate=0.1, max_depth=5, random_state=1234)\n",
    "model3 = LGBMClassifier(max_depth=5, learning_rate=0.1, n_estimators=100, random_state=1234) \n",
    "model4 = VotingClassifier( [('rf', RandomForestClassifier()),('lr', LogisticRegression())], \n",
    "                         voting=\"hard\")\n",
    "model5 = BaggingClassifier(base_estimator = DecisionTreeClassifier(),\n",
    "                          n_estimators = 10,max_samples = 1.0,\n",
    "                          max_features = 1.0, bootstrap = True, \n",
    "                          oob_score = False, random_state = 1234)\n",
    "model_list = [('dt',DecisionTreeClassifier()), \n",
    "              ('rf',model1), \n",
    "              ('xgboost',model2), \n",
    "              ('lgbm',model3) , \n",
    "              ('voting',model4), \n",
    "              ('bagging',model5)]\n",
    "\n",
    "list1 = []\n",
    "list2 = []\n",
    "list3 = []\n",
    "for tupl in model_list:\n",
    "    model_name = tupl[0]\n",
    "    model = tupl[1]\n",
    "    #--- 점수 ---\n",
    "    model.fit(X_train, y_train)\n",
    "    pred = model.predict(X_test)\n",
    "\n",
    "    accuracy = accuracy_score(y_test, pred)\n",
    "    f1 = f1_score(y_test, pred, average='macro')\n",
    "    #print(f\"f1:{f1:.4f} accuracy:{accuracy:.4f}\")\n",
    "    \n",
    "    list1.append(model_name)\n",
    "    list2.append(accuracy)\n",
    "    list3.append(f1)\n"
   ]
  },
  {
   "cell_type": "code",
   "execution_count": 93,
   "id": "d83f786f-6ac5-40b6-818f-269c722d8696",
   "metadata": {},
   "outputs": [
    {
     "data": {
      "text/html": [
       "<div>\n",
       "<style scoped>\n",
       "    .dataframe tbody tr th:only-of-type {\n",
       "        vertical-align: middle;\n",
       "    }\n",
       "\n",
       "    .dataframe tbody tr th {\n",
       "        vertical-align: top;\n",
       "    }\n",
       "\n",
       "    .dataframe thead th {\n",
       "        text-align: right;\n",
       "    }\n",
       "</style>\n",
       "<table border=\"1\" class=\"dataframe\">\n",
       "  <thead>\n",
       "    <tr style=\"text-align: right;\">\n",
       "      <th></th>\n",
       "      <th>model_name</th>\n",
       "      <th>score_acc</th>\n",
       "      <th>score_f1</th>\n",
       "    </tr>\n",
       "  </thead>\n",
       "  <tbody>\n",
       "    <tr>\n",
       "      <th>0</th>\n",
       "      <td>dt</td>\n",
       "      <td>0.798883</td>\n",
       "      <td>0.788860</td>\n",
       "    </tr>\n",
       "    <tr>\n",
       "      <th>1</th>\n",
       "      <td>rf</td>\n",
       "      <td>0.798883</td>\n",
       "      <td>0.789906</td>\n",
       "    </tr>\n",
       "    <tr>\n",
       "      <th>2</th>\n",
       "      <td>xgboost</td>\n",
       "      <td>0.804469</td>\n",
       "      <td>0.795241</td>\n",
       "    </tr>\n",
       "    <tr>\n",
       "      <th>3</th>\n",
       "      <td>lgbm</td>\n",
       "      <td>0.810056</td>\n",
       "      <td>0.801578</td>\n",
       "    </tr>\n",
       "    <tr>\n",
       "      <th>4</th>\n",
       "      <td>voting</td>\n",
       "      <td>0.776536</td>\n",
       "      <td>0.753240</td>\n",
       "    </tr>\n",
       "    <tr>\n",
       "      <th>5</th>\n",
       "      <td>bagging</td>\n",
       "      <td>0.782123</td>\n",
       "      <td>0.770671</td>\n",
       "    </tr>\n",
       "  </tbody>\n",
       "</table>\n",
       "</div>"
      ],
      "text/plain": [
       "  model_name  score_acc  score_f1\n",
       "0         dt   0.798883  0.788860\n",
       "1         rf   0.798883  0.789906\n",
       "2    xgboost   0.804469  0.795241\n",
       "3       lgbm   0.810056  0.801578\n",
       "4     voting   0.776536  0.753240\n",
       "5    bagging   0.782123  0.770671"
      ]
     },
     "execution_count": 93,
     "metadata": {},
     "output_type": "execute_result"
    }
   ],
   "source": [
    "score_df = pd.DataFrame( {\"model_name\": list1, \"score_acc\":list2, \"score_f1\":list3})\n",
    "score_df.head(10)"
   ]
  },
  {
   "cell_type": "code",
   "execution_count": 94,
   "id": "effcb6c4-41f1-4386-b677-1f2588436671",
   "metadata": {},
   "outputs": [
    {
     "data": {
      "text/plain": [
       "<AxesSubplot:>"
      ]
     },
     "execution_count": 94,
     "metadata": {},
     "output_type": "execute_result"
    },
    {
     "data": {
      "image/png": "[encoded data removed]",
      "text/plain": [
       "<Figure size 432x288 with 1 Axes>"
      ]
     },
     "metadata": {},
     "output_type": "display_data"
    }
   ],
   "source": [
    "score_df['score_acc'].plot(kind='bar')"
   ]
  },
  {
   "cell_type": "code",
   "execution_count": 95,
   "id": "1b1604e9-f759-4f20-8f03-e7f4d5bd9441",
   "metadata": {},
   "outputs": [
    {
     "data": {
      "text/plain": [
       "<AxesSubplot:>"
      ]
     },
     "execution_count": 95,
     "metadata": {},
     "output_type": "execute_result"
    },
    {
     "data": {
      "image/png": "[encoded data removed]",
      "text/plain": [
       "<Figure size 432x288 with 1 Axes>"
      ]
     },
     "metadata": {},
     "output_type": "display_data"
    }
   ],
   "source": [
    "score_df['score_f1'].plot(kind='bar')"
   ]
  },
  {
   "cell_type": "code",
   "execution_count": null,
   "id": "6d6ec6ef-e464-44fd-ba95-650c8ba27639",
   "metadata": {},
   "outputs": [],
   "source": []
  },
  {
   "cell_type": "markdown",
   "id": "965349f7-457f-4065-b00f-9c6fead60da0",
   "metadata": {},
   "source": [
    "# Stacking"
   ]
  },
  {
   "cell_type": "markdown",
   "id": "1253c85a-6f06-4faa-9e4d-3f555811b994",
   "metadata": {},
   "source": [
    "<img src=\"https://mblogthumb-phinf.pstatic.net/MjAxOTA3MTdfMjc2/MDAxNTYzMzQ5NjU5ODcx.xasXZX5BvAyc1Vi4N38YETZF9LWIiA_tVrekRl5cPGUg.ROsl3frSOb8AtKARCFiR0Ox6_Jux1BXHFpmBcsm0btkg.PNG.ckdgus1433/image.png?type=w800\">"
   ]
  },
  {
   "cell_type": "markdown",
   "id": "87031faa-37ad-4775-ba13-6bd2c6e61b76",
   "metadata": {},
   "source": [
    "<img src=\"https://mblogthumb-phinf.pstatic.net/MjAxOTA3MTdfMjQy/MDAxNTYzMzQ5ODcyMDUy.PmgHPqhpNM6dRUgh4RVtfuzqJKAfJhvchRZ0WeafOqAg.G4ZlayQjF2ZTe8HFhniOo_WkGkzdFgx4UKKAerkmKMIg.PNG.ckdgus1433/image.png?type=w800\">"
   ]
  },
  {
   "cell_type": "code",
   "execution_count": 96,
   "id": "d3fa4f8a-fcf9-45a9-adf8-20ab59913c95",
   "metadata": {},
   "outputs": [],
   "source": [
    "rf = RandomForestClassifier()\n",
    "lg = LogisticRegression()\n",
    "dt = DecisionTreeClassifier()"
   ]
  },
  {
   "cell_type": "code",
   "execution_count": 97,
   "id": "19b6a850-abcd-437a-b73d-05036d7169d2",
   "metadata": {},
   "outputs": [
    {
     "data": {
      "text/plain": [
       "((712, 8), (179, 8), (712,), (179,))"
      ]
     },
     "execution_count": 97,
     "metadata": {},
     "output_type": "execute_result"
    }
   ],
   "source": [
    "y = df['Survived']\n",
    "X = df.drop(['Survived'], axis=1)\n",
    "X_train,X_test, y_train, y_test = train_test_split(X, y , test_size=0.2)\n",
    "X_train.shape,X_test.shape, y_train.shape, y_test.shape\n"
   ]
  },
  {
   "cell_type": "code",
   "execution_count": 98,
   "id": "4c968fa4-a2ae-48d9-bea5-d0a7f6c6e233",
   "metadata": {},
   "outputs": [
    {
     "name": "stdout",
     "output_type": "stream",
     "text": [
      "(712, 1)\n"
     ]
    }
   ],
   "source": [
    "rf_yellow = np.zeros( (X_train.shape[0], 1) )\n",
    "lg_yellow = np.zeros( (X_train.shape[0], 1) )\n",
    "dt_yellow = np.zeros( (X_train.shape[0], 1) )\n",
    "print(rf_yellow.shape)"
   ]
  },
  {
   "cell_type": "code",
   "execution_count": 99,
   "id": "4b586b76-a33f-494b-b4fa-7e4fc1582e90",
   "metadata": {},
   "outputs": [
    {
     "name": "stdout",
     "output_type": "stream",
     "text": [
      "(179, 5)\n"
     ]
    }
   ],
   "source": [
    "rf_green = np.zeros( (X_test.shape[0], 5) )\n",
    "lg_green = np.zeros( (X_test.shape[0], 5) )\n",
    "dt_green = np.zeros( (X_test.shape[0], 5) )\n",
    "print(rf_green.shape)"
   ]
  },
  {
   "cell_type": "code",
   "execution_count": 100,
   "id": "5f3a4885-813e-45e0-8d75-0fb021dab134",
   "metadata": {},
   "outputs": [
    {
     "name": "stdout",
     "output_type": "stream",
     "text": [
      "(712, 3) (179, 3)\n"
     ]
    }
   ],
   "source": [
    "from sklearn.model_selection import StratifiedKFold\n",
    "sk = StratifiedKFold(n_splits=5, shuffle=True, random_state=1414)\n",
    "for i, (train_idx, val_idx) in enumerate(sk.split(X_train, y_train)):\n",
    "    X_train_fold, y_train_fold = X_train.iloc[train_idx] , y_train.iloc[train_idx]\n",
    "    X_val_fold  , y_val_fold   = X_train.iloc[val_idx]   , y_train.iloc[val_idx]\n",
    "\n",
    "    rf.fit(X_train_fold, y_train_fold)\n",
    "    lg.fit(X_train_fold, y_train_fold)\n",
    "    dt.fit(X_train_fold, y_train_fold)\n",
    "\n",
    "    rf_pred = rf.predict(X_val_fold)\n",
    "    lg_pred = lg.predict(X_val_fold)\n",
    "    dt_pred = dt.predict(X_val_fold)\n",
    "\n",
    "    rf_yellow[val_idx, :] = rf_pred.reshape(-1, 1)\n",
    "    lg_yellow[val_idx, :] = lg_pred.reshape(-1, 1)\n",
    "    dt_yellow[val_idx, :] = dt_pred.reshape(-1, 1)\n",
    "\n",
    "    #-------------------test----------------------\n",
    "    rf_pred = rf.predict(X_test)\n",
    "    lg_pred = lg.predict(X_test)\n",
    "    dt_pred = dt.predict(X_test)\n",
    "\n",
    "    rf_green[:, i] = rf_pred\n",
    "    lg_green[:, i] = lg_pred\n",
    "    dt_green[:, i] = dt_pred\n",
    "\n",
    "rf_green_mean = np.mean(rf_green, axis=1).reshape(-1,1)       \n",
    "lg_green_mean = np.mean(lg_green, axis=1).reshape(-1,1)   \n",
    "dt_green_mean = np.mean(dt_green, axis=1).reshape(-1,1)   \n",
    "\n",
    "\n",
    "new_train = np.concatenate([rf_yellow, lg_yellow, dt_yellow], axis=1)\n",
    "\n",
    "new_test = np.concatenate([rf_green_mean, lg_green_mean, dt_green_mean], axis=1)\n",
    "print(new_train.shape, new_test.shape)"
   ]
  },
  {
   "cell_type": "code",
   "execution_count": 101,
   "id": "3153d1c1-8897-466f-a08e-63239d698fe0",
   "metadata": {},
   "outputs": [
    {
     "name": "stdout",
     "output_type": "stream",
     "text": [
      "f1:0.7745 accuracy:0.7765\n"
     ]
    }
   ],
   "source": [
    "from lightgbm import LGBMClassifier\n",
    "\n",
    "model = LGBMClassifier(max_depth=5, learning_rate=0.1, n_estimators=100, random_state=1234)        \n",
    "model.fit(new_train, y_train)   # , eval_set=[(X_test, y_test)]        \n",
    "pred = model.predict(new_test)\n",
    "\n",
    "accuracy = accuracy_score(y_test, pred)\n",
    "f1 = f1_score(y_test, pred, average='macro')\n",
    "print(f\"f1:{f1:.4f} accuracy:{accuracy:.4f}\")\n"
   ]
  },
  {
   "cell_type": "code",
   "execution_count": null,
   "id": "5f778e4e-e6cb-48cb-b25d-c3ea50171812",
   "metadata": {},
   "outputs": [],
   "source": []
  },
  {
   "cell_type": "markdown",
   "id": "67a53e96-2188-4de9-97ac-e5dc8a8db591",
   "metadata": {},
   "source": [
    "# Stacking : StackingClassifier"
   ]
  },
  {
   "cell_type": "code",
   "execution_count": 102,
   "id": "0342e20e-fc21-4c30-8f87-9b501727c15f",
   "metadata": {},
   "outputs": [
    {
     "name": "stdout",
     "output_type": "stream",
     "text": [
      "f1:0.7718 accuracy:0.7821\n"
     ]
    }
   ],
   "source": [
    "from sklearn.ensemble import StackingClassifier\n",
    "from sklearn.ensemble import VotingClassifier\n",
    "# LogisticRegression  DecisionTreeClassifier  LinearSVC\n",
    "model1 = [('rf', RandomForestClassifier()),\n",
    "          ('lr', LogisticRegression()),\n",
    "          ('dt', DecisionTreeClassifier())\n",
    "         ]\n",
    "model2 = LGBMClassifier(max_depth=5, learning_rate=0.1, n_estimators=100, random_state=1234)        \n",
    "\n",
    "stacking_model = StackingClassifier(estimators    = model1, \n",
    "                           final_estimator= model2, \n",
    "                           cv=5)\n",
    "stacking_model.fit(X_train, y_train)   \n",
    "pred = stacking_model.predict(X_test)\n",
    "accuracy = accuracy_score(y_test, pred)\n",
    "f1 = f1_score(y_test, pred, average='macro')\n",
    "print(f\"f1:{f1:.4f} accuracy:{accuracy:.4f}\")\n"
   ]
  },
  {
   "cell_type": "markdown",
   "id": "5f94e4ed-d668-4531-a57b-989ae21581b2",
   "metadata": {},
   "source": [
    "# Pipeline"
   ]
  },
  {
   "cell_type": "code",
   "execution_count": 103,
   "id": "f13a3edb-0897-4c96-a0e0-1825d4eb14ec",
   "metadata": {},
   "outputs": [],
   "source": [
    "from sklearn.pipeline import Pipeline\n",
    "from sklearn.preprocessing import StandardScaler"
   ]
  },
  {
   "cell_type": "code",
   "execution_count": 105,
   "id": "7a5ba645-668c-4839-b204-a6948d96f278",
   "metadata": {},
   "outputs": [
    {
     "name": "stdout",
     "output_type": "stream",
     "text": [
      "f1:0.7338 accuracy:0.7933\n"
     ]
    }
   ],
   "source": [
    "pipe = Pipeline([ ('scaling', StandardScaler()), ('model',DecisionTreeClassifier() ) ])\n",
    "\n",
    "pipe.fit(X_train, y_train)\n",
    "pred = pipe.predict(X_test)\n",
    "\n",
    "accuracy = accuracy_score(y_test, pred)\n",
    "f1 = f1_score(y_test, pred)\n",
    "print(f\"f1:{f1:.4f} accuracy:{accuracy:.4f}\")"
   ]
  }
 ],
 "metadata": {
  "kernelspec": {
   "display_name": "Python 3 (ipykernel)",
   "language": "python",
   "name": "python3"
  },
  "language_info": {
   "codemirror_mode": {
    "name": "ipython",
    "version": 3
   },
   "file_extension": ".py",
   "mimetype": "text/x-python",
   "name": "python",
   "nbconvert_exporter": "python",
   "pygments_lexer": "ipython3",
   "version": "3.8.8"
  }
 },
 "nbformat": 4,
 "nbformat_minor": 5
}
