{
 "cells": [
  {
   "cell_type": "markdown",
   "id": "cf7af12d-6c99-4d74-84ce-df8a4060f56f",
   "metadata": {},
   "source": [
    "<img src=\"./logo.png\"><br>\n",
    "* ref : https://www.kaggle.com/uciml/iris"
   ]
  }
 ],
 "metadata": {
  "kernelspec": {
   "display_name": "Python 3 (ipykernel)",
   "language": "python",
   "name": "python3"
  },
  "language_info": {
   "codemirror_mode": {
    "name": "ipython",
    "version": 3
   },
   "file_extension": ".py",
   "mimetype": "text/x-python",
   "name": "python",
   "nbconvert_exporter": "python",
   "pygments_lexer": "ipython3",
   "version": "3.8.8"
  }
 },
 "nbformat": 4,
 "nbformat_minor": 5
}
