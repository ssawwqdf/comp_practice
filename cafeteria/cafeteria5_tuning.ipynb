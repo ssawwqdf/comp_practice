{
 "cells": [
  {
   "cell_type": "markdown",
   "id": "c2ea0454-0335-46d2-a8ce-43a5607a6051",
   "metadata": {},
   "source": [
    "ref: https://dacon.io/competitions/official/235743/codeshare"
   ]
  },
  {
   "cell_type": "code",
   "execution_count": 2,
   "id": "c0f94f1c-b7f0-4f76-a1a2-1b0968f26472",
   "metadata": {},
   "outputs": [],
   "source": [
    "# 제출용"
   ]
  },
  {
   "cell_type": "code",
   "execution_count": 3,
   "id": "4648d1d6-eeed-464c-94af-ef59bd9e716c",
   "metadata": {},
   "outputs": [],
   "source": [
    "# train, test=my_split(train_test)\n",
    "# model_list=[LinearRegression(),Lasso(),ElasticNet(),Ridge(), XGBRegressor(),LGBMRegressor()]\n",
    "\n",
    "# #----------------------------------------------- 하단 코드 동일\n",
    "# y = train['중식계']\n",
    "# X = train.drop(['중식계','석식계'], axis=1)\n",
    "\n",
    "# X_train, X_val, y_train, y_val = train_test_split(X,y, test_size=0.2, shuffle=True, random_state=1234)\n",
    "# model= LGBMRegressor()\n",
    "# for model in model_list:\n",
    "#     model.fit(X_train, y_train)\n",
    "#     pred = model.predict(X_val)\n",
    "#     mae = mean_absolute_error(y_val, pred)\n",
    "#     print(f\" MAE:{mae:.4f} {model.__class__.__name__}\") \n",
    "\n",
    "\n",
    "# #------------------------------------------------- 공모전 제출용 학습\n",
    "# test_pred = model.predict(test)        #---------->  submit 제출 답안\n",
    "# test_pred = np.round(test_pred, 0).astype(int)\n",
    "\n",
    "# #------------------------------------------------- 제출 전 확인\n",
    "# print(len(test_pred), test_pred)\n",
    "# print(sub['중식계'].min(), sub['중식계'].max())\n",
    "# print(test.index.values.min()   , test.index.values.max())\n",
    "# sub.head(1)\n",
    "# #------------------------------------------------- 답안지 작성\n",
    "# sub['중식계'] = test_pred.reshape(-1,1)\n",
    "# print(sub.head(2))\n",
    "# sub.to_csv(\"v02.csv\", index=False)   "
   ]
  },
  {
   "cell_type": "markdown",
   "id": "a6a75191-f05a-4fe0-8ee6-dee24ab58676",
   "metadata": {},
   "source": [
    "## target feature"
   ]
  },
  {
   "cell_type": "code",
   "execution_count": 4,
   "id": "9bf2013b-291d-480d-9b78-5c23ae7cc135",
   "metadata": {},
   "outputs": [],
   "source": [
    "# from matplotlib import font_manager, rc\n",
    "# font_path = \"C:/Windows/Fonts/NGULIM.TTF\"\n",
    "# font = font_manager.FontProperties(fname=font_path).get_name()\n",
    "# rc('font', family=font)\n",
    "\n",
    "# train.profile_report()"
   ]
  },
  {
   "cell_type": "code",
   "execution_count": 5,
   "id": "6c5645fa-c71f-4c06-80d5-ecee6b6dacbe",
   "metadata": {},
   "outputs": [],
   "source": [
    "# from matplotlib import font_manager, rc\n",
    "# font_path = \"C:/Windows/Fonts/NGULIM.TTF\"\n",
    "# font = font_manager.FontProperties(fname=font_path).get_name()\n",
    "# rc('font', family=font)\n",
    "\n",
    "# train_test.profile_report()"
   ]
  },
  {
   "cell_type": "code",
   "execution_count": 6,
   "id": "1fb89d16-ab39-4b10-a7e4-2b4d8e56452d",
   "metadata": {},
   "outputs": [],
   "source": [
    "# 분석\n",
    "import numpy as np\n",
    "import pandas as pd\n",
    "from pandas_profiling import ProfileReport\n",
    "\n",
    "# 경고\n",
    "import warnings\n",
    "warnings.filterwarnings(action='ignore')\n",
    "\n",
    "# 날짜 가공\n",
    "import datetime as dt \n",
    "from dateutil.rrule import rrule, YEARLY, MONTHLY, WEEKLY\n",
    "\n",
    "# 데이터 시각화\n",
    "import matplotlib.pyplot as plt\n",
    "plt.rc('font', family='Gothic') # For Windows. PLOT에서 한글 처리 -> 플롯 만드는 창에 넣어야 됨.\n",
    "\n",
    "plt.rcParams['font.family']= 'Malgun Gothic'\n",
    "plt.rcParams['axes.unicode_minus'] = False # - 기호 안 깨지게\n",
    "plt.rcParams['font.size'] = 15\n",
    "\n",
    "from matplotlib import font_manager, rc\n",
    "font_path = \"C:/Windows/Fonts/NGULIM.TTF\"\n",
    "font = font_manager.FontProperties(fname=font_path).get_name()\n",
    "rc('font', family=font)\n",
    "\n",
    "%matplotlib inline \n",
    "\n",
    "# plt.figure(figsize=(12,4)) # plot 12:4 비율\n",
    "\n",
    "import seaborn as sns\n",
    "sns.set() # seaborn에서 회색 grid 깔아줌\n",
    "sns.set(rc={'figure.figsize':(18, 5)}) # 결과 plot 크기 키워줌\n",
    "\n",
    "# re\n",
    "import re"
   ]
  },
  {
   "cell_type": "code",
   "execution_count": 7,
   "id": "36e31192-b50c-4ced-bbc2-cceca93a2870",
   "metadata": {},
   "outputs": [],
   "source": [
    "# 사이킷런\n",
    "from sklearn.model_selection import train_test_split\n",
    "\n",
    "# 사이킷런 분류\n",
    "# from sklearn.ensemble import RandomForestClassifier\n",
    "# from sklearn.linear_model import LogisticRegression\n",
    "# from sklearn.neighbors import KNeighborsClassifier\n",
    "# from sklearn.tree import DecisionTreeClassifier\n",
    "# from sklearn.svm import LinearSVC\n",
    "\n",
    "# 사이킷런 분류 점수\n",
    "# from sklearn.metrics import accuracy_score\n",
    "# from sklearn.metrics import classification_report, confusion_matrix, accuracy_score, precision_score, recall_score, f1_score\n",
    "# \t\t\t\t\t\t # ---> y_true, y_pred\n",
    "# from sklearn.metrics import precision_recall_curve # y_true, probas_pred\n",
    "# from sklearn.metrics import roc_auc_score, roc_curve # y_true, y_score\n",
    "\n",
    "# 분류 ensemble\n",
    "# import xgboost as xgb\n",
    "# from xgboost import plot_importance \n",
    "from xgboost import XGBClassifier\n",
    "import lightgbm as lgb\n",
    "from lightgbm import LGBMClassifier # lgb.쓰기 귀찮으니까 Classifier까지 import\n",
    "from sklearn.ensemble import VotingClassifier\n",
    "from sklearn.ensemble import BaggingClassifier"
   ]
  },
  {
   "cell_type": "code",
   "execution_count": 8,
   "id": "ebedfffc-e255-4700-b4e8-ba0abee91752",
   "metadata": {},
   "outputs": [],
   "source": [
    "# 사이킷런 회귀\n",
    "from sklearn.linear_model import LinearRegression\n",
    "from sklearn.linear_model import Lasso, LassoCV\n",
    "from sklearn.linear_model import ElasticNet, ElasticNetCV\n",
    "from sklearn.linear_model import Ridge, RidgeCV\n",
    "\n",
    "from sklearn.svm import SVC #linear SVC는 classifier 성 / SVC는 분류말고 회귀에도 쓸 수 있다.\n",
    "\n",
    "from xgboost import XGBRegressor\n",
    "from lightgbm import LGBMRegressor\n",
    "\n",
    "# 사이킷런 회귀 점수\n",
    "from sklearn.metrics import mean_squared_error, mean_squared_log_error, mean_absolute_error, r2_score # squared=False로 하면 RMSE"
   ]
  },
  {
   "cell_type": "code",
   "execution_count": 9,
   "id": "51738333-3a23-4ff6-89c6-888a48952482",
   "metadata": {},
   "outputs": [],
   "source": [
    "# 사이킷런 스케일러\n",
    "from sklearn.preprocessing import StandardScaler, RobustScaler, MinMaxScaler\n",
    "\n",
    "# 사이킷런 학습 데이터 증강\n",
    "# Stratifietrain_testold는 회귀에서는 X\n",
    "from sklearn.model_selection import cross_val_score, KFold, StratifiedKFold, GridSearchCV"
   ]
  },
  {
   "cell_type": "code",
   "execution_count": null,
   "id": "4134be63-0b00-4e9a-a5c9-b9bf4891f87c",
   "metadata": {},
   "outputs": [],
   "source": []
  },
  {
   "cell_type": "markdown",
   "id": "dd50cbc7-5e8e-48d2-accf-b3dfe54f8376",
   "metadata": {},
   "source": [
    "# DataLoad & pre-setting"
   ]
  },
  {
   "cell_type": "markdown",
   "id": "57a02a0a-9c90-4641-84f7-107e5fa66951",
   "metadata": {},
   "source": [
    "## DataLoad"
   ]
  },
  {
   "cell_type": "code",
   "execution_count": 115,
   "id": "faa40ce1-ed68-4a4a-823d-39ff4dadbb59",
   "metadata": {},
   "outputs": [],
   "source": [
    "train_test=pd.read_csv('./dataset/train_test_eng.csv') # date type"
   ]
  },
  {
   "cell_type": "code",
   "execution_count": 10,
   "id": "67a8c043-7609-4c55-8553-45d99748b83b",
   "metadata": {},
   "outputs": [],
   "source": [
    "# train=pd.read_csv('./dataset/train.csv', parse_dates=['일자']) # date type\n",
    "# test=pd.read_csv('./dataset/test.csv', parse_dates=['일자'])   # date type\n",
    "# sub=pd.read_csv('./dataset/sample_submission.csv')"
   ]
  },
  {
   "cell_type": "code",
   "execution_count": 11,
   "id": "b36f5686-96e7-4b82-942b-1f60e6a04f9c",
   "metadata": {},
   "outputs": [
    {
     "name": "stdout",
     "output_type": "stream",
     "text": [
      "<class 'pandas.core.frame.DataFrame'>\n",
      "RangeIndex: 1205 entries, 0 to 1204\n",
      "Data columns (total 12 columns):\n",
      " #   Column          Non-Null Count  Dtype         \n",
      "---  ------          --------------  -----         \n",
      " 0   일자              1205 non-null   datetime64[ns]\n",
      " 1   요일              1205 non-null   object        \n",
      " 2   본사정원수           1205 non-null   int64         \n",
      " 3   본사휴가자수          1205 non-null   int64         \n",
      " 4   본사출장자수          1205 non-null   int64         \n",
      " 5   본사시간외근무명령서승인건수  1205 non-null   int64         \n",
      " 6   현본사소속재택근무자수     1205 non-null   float64       \n",
      " 7   조식메뉴            1205 non-null   object        \n",
      " 8   중식메뉴            1205 non-null   object        \n",
      " 9   석식메뉴            1205 non-null   object        \n",
      " 10  중식계             1205 non-null   float64       \n",
      " 11  석식계             1205 non-null   float64       \n",
      "dtypes: datetime64[ns](1), float64(3), int64(4), object(4)\n",
      "memory usage: 113.1+ KB\n"
     ]
    }
   ],
   "source": [
    "train.info()"
   ]
  },
  {
   "cell_type": "code",
   "execution_count": 12,
   "id": "7c2e4966-ad4a-4d73-ba05-3ad00316417c",
   "metadata": {},
   "outputs": [
    {
     "name": "stdout",
     "output_type": "stream",
     "text": [
      "<class 'pandas.core.frame.DataFrame'>\n",
      "RangeIndex: 50 entries, 0 to 49\n",
      "Data columns (total 10 columns):\n",
      " #   Column          Non-Null Count  Dtype         \n",
      "---  ------          --------------  -----         \n",
      " 0   일자              50 non-null     datetime64[ns]\n",
      " 1   요일              50 non-null     object        \n",
      " 2   본사정원수           50 non-null     int64         \n",
      " 3   본사휴가자수          50 non-null     int64         \n",
      " 4   본사출장자수          50 non-null     int64         \n",
      " 5   본사시간외근무명령서승인건수  50 non-null     int64         \n",
      " 6   현본사소속재택근무자수     50 non-null     float64       \n",
      " 7   조식메뉴            50 non-null     object        \n",
      " 8   중식메뉴            50 non-null     object        \n",
      " 9   석식메뉴            50 non-null     object        \n",
      "dtypes: datetime64[ns](1), float64(1), int64(4), object(4)\n",
      "memory usage: 4.0+ KB\n"
     ]
    }
   ],
   "source": [
    "test.info()"
   ]
  },
  {
   "cell_type": "code",
   "execution_count": 13,
   "id": "db368e9b-1b60-43b8-99cc-39bbd25361cb",
   "metadata": {},
   "outputs": [
    {
     "name": "stdout",
     "output_type": "stream",
     "text": [
      "<class 'pandas.core.frame.DataFrame'>\n",
      "RangeIndex: 50 entries, 0 to 49\n",
      "Data columns (total 3 columns):\n",
      " #   Column  Non-Null Count  Dtype \n",
      "---  ------  --------------  ----- \n",
      " 0   일자      50 non-null     object\n",
      " 1   중식계     50 non-null     int64 \n",
      " 2   석식계     50 non-null     int64 \n",
      "dtypes: int64(2), object(1)\n",
      "memory usage: 1.3+ KB\n"
     ]
    }
   ],
   "source": [
    "sub.info()"
   ]
  },
  {
   "cell_type": "markdown",
   "id": "158edeb0-6ba5-4a46-bdf3-7f70aeaa1bd5",
   "metadata": {
    "jp-MarkdownHeadingCollapsed": true,
    "tags": []
   },
   "source": [
    "## function"
   ]
  },
  {
   "cell_type": "markdown",
   "id": "669ae2fe-6721-4268-b57a-c1c98350d983",
   "metadata": {
    "tags": []
   },
   "source": [
    "### scoring"
   ]
  },
  {
   "cell_type": "code",
   "execution_count": 14,
   "id": "bf1544dd-0b00-45aa-b7f1-5b7e4856ab17",
   "metadata": {},
   "outputs": [],
   "source": [
    "def my_mae(true, pred):\n",
    "    mae = np.mean(np.abs(true-pred))\n",
    "    return mae"
   ]
  },
  {
   "cell_type": "markdown",
   "id": "8d579dc4-ea10-4462-bdf8-f33b6635498e",
   "metadata": {},
   "source": [
    "### train_test: concate"
   ]
  },
  {
   "cell_type": "code",
   "execution_count": 15,
   "id": "064891a1-59ef-46ba-a094-e070b9abc150",
   "metadata": {},
   "outputs": [],
   "source": [
    "def my_concat(train_df, test_df):\n",
    "    train_test_df=pd.concat([train_df, test_df], axis=0)\n",
    "    return train_test_df"
   ]
  },
  {
   "cell_type": "markdown",
   "id": "72df4644-a529-4d95-8f58-3659cba03ec1",
   "metadata": {},
   "source": [
    "### train_test: split"
   ]
  },
  {
   "cell_type": "code",
   "execution_count": 16,
   "id": "54cfd672-d2fb-45cb-8eb6-2ca49ca7adcd",
   "metadata": {},
   "outputs": [],
   "source": [
    "def my_split(train_test_df):\n",
    "    train_df=train_test_df[~train_test_df['중식계'].isna()] # iloc으로 자르지 않은 이유는 행을 삭제할 수도 있기 때문\n",
    "    test_df=train_test_df[train_test_df['중식계'].isna()]\n",
    "    test_df=test_df.drop(['중식계', '석식계'], axis=1)\n",
    "    return train_df, test_df"
   ]
  },
  {
   "cell_type": "markdown",
   "id": "6b7b20a3-f0ab-4609-9fa7-35b97bc39f7f",
   "metadata": {},
   "source": [
    "### fit & score & submit"
   ]
  },
  {
   "cell_type": "code",
   "execution_count": 17,
   "id": "b84a362f-8d9b-4d44-a9c8-0621d760c6fa",
   "metadata": {},
   "outputs": [],
   "source": [
    "# def my_train_val_split(X, y, cutoff_day=15):\n",
    "#     X_train=X[X.index.day <= cutoff_day]\n",
    "#     X_val=X[X.index.day > cutoff_day]\n",
    "#     y_train=y[y.index.day <= cutoff_day]\n",
    "#     y_val=y[y.index.day > cutoff_day]\n",
    "    \n",
    "    \n",
    "#     return X_train, X_val, y_train, y_val"
   ]
  },
  {
   "cell_type": "code",
   "execution_count": 18,
   "id": "71d759d4-e637-4e0f-a92f-8c4611437aa1",
   "metadata": {},
   "outputs": [],
   "source": [
    "# def my_fit_score(train_test, target, model=None, submit_name=None, target_log=False):\n",
    "    \n",
    "#     train, test = my_split(train_test)\n",
    "\n",
    "#     # ------------------------------------------- train & validation\n",
    "#     X=train.drop(target, axis=1)\n",
    "#     y=train[target]\n",
    "\n",
    "#     X_train, X_val, y_train, y_val=my_train_val_split(X,y,shuffle=True,random_state=1024)\n",
    "\n",
    "#     # ---defualt model is RandomForestRegressor()\n",
    "    \n",
    "#     if model ==None:\n",
    "#         model=RandomForestRegressor()\n",
    "\n",
    "#     model.fit(X_train, y_train)\n",
    "#     pred=model.predict(X_val)\n",
    "#     rmsle = mean_squared_log_error(y_val, pred, squared=False)\n",
    "#     print(f\"RMSLE:{rmsle:.4f} {model.__class__.__name__}\") # mean_squared_log_error(squred=False)\n",
    "\n",
    "#     #------------------------------------------ test submit\n",
    "\n",
    "#     if submit_name != None:\n",
    "#         test_pred=model.predict(test)\n",
    "        \n",
    "#         if target_log==True:\n",
    "#             test_pred=np.expm1(test_pred)\n",
    "        \n",
    "#         # test_pred=np.round(test_pred, 0).astype('int') #---> 결과 int로 주라고 했다.(반올림 후 astype('int'))\n",
    "#         submit['count']=test_pred.reshape(-1,1)\n",
    "#         submit.to_csv(f'./dataset/{submit_name}.csv', index=False)\n",
    "        "
   ]
  },
  {
   "cell_type": "markdown",
   "id": "00fd7542-0a27-4501-b039-8fc05c0abdee",
   "metadata": {},
   "source": [
    "### split & fit & scoring"
   ]
  },
  {
   "cell_type": "code",
   "execution_count": 19,
   "id": "e9ddf832-16b3-4980-a7ed-cb5d609b8236",
   "metadata": {
    "tags": []
   },
   "outputs": [],
   "source": [
    "def reg_fit_score(train_test, target, model_list=False):\n",
    "    \n",
    "    train, test = my_split(train_test)\n",
    "    \n",
    "    # ------------------------------------------- train & validation\n",
    "    X=train.drop(['중식계','석식계'], axis=1)\n",
    "    y=train[target]\n",
    "    \n",
    "    X_train, X_val, y_train, y_val = train_test_split(X, y, test_size=0.3, shuffle=True, random_state=1024)\n",
    "\n",
    "    if model_list==False:\n",
    "        model_list=[LinearRegression(),Lasso(),ElasticNet(),Ridge()]\n",
    "        \n",
    "    score_list=[]\n",
    "\n",
    "    font_path = \"C:/Windows/Fonts/NGULIM.TTF\"\n",
    "    font = font_manager.FontProperties(fname=font_path).get_name()\n",
    "    rc('font', family=font)\n",
    "    f, axs = plt.subplots(1, 4, figsize=(18, 4))\n",
    "\n",
    "    \n",
    "    for i, model in enumerate(model_list):\n",
    "        model.fit(X_train, y_train)\n",
    "        # print(X.columns)\n",
    "        # print(model.coef_)\n",
    "        \n",
    "        axs[i].set_title(model.__class__.__name__)\n",
    "        sns.barplot(x=model.coef_, y=X.columns, ax=axs[i])\n",
    "        \n",
    "        pred=model.predict(X_val)\n",
    "        score=my_mae(y_val, pred)\n",
    "        score_list.append(score)\n",
    "        \n",
    "        # print(f\"{model.__class__.__name__}:\\n\\t{score[model.__class__.__name__]} ---> {score:.6f}\")\n",
    "    plt.show()\n",
    "    return score_list"
   ]
  },
  {
   "cell_type": "code",
   "execution_count": 20,
   "id": "4f6f1cf8-fa27-4dbc-bb3e-5a89ddc923bc",
   "metadata": {
    "tags": []
   },
   "outputs": [],
   "source": [
    "def tree_fit_score(train_test, target, model_list=False):\n",
    "    \n",
    "    train, test = my_split(train_test)\n",
    "\n",
    "    # ------------------------------------------- train & validation\n",
    "    y=train[target]\n",
    "    X=train.drop(['중식계','석식계'], axis=1)\n",
    "    \n",
    "    X_train, X_val, y_train, y_val = train_test_split(X, y, test_size=0.3, shuffle=True, random_state=1024)\n",
    "    \n",
    "    if model_list==False:\n",
    "        model_list = [XGBRegressor(),LGBMRegressor()]    \n",
    "    \n",
    "    score_list=[]\n",
    "    \n",
    "    font_path = \"C:/Windows/Fonts/NGULIM.TTF\"\n",
    "    font = font_manager.FontProperties(fname=font_path).get_name()\n",
    "    rc('font', family=font)\n",
    "    f, axs = plt.subplots(1,2, figsize=(16,4))\n",
    "    \n",
    "    for i, model in enumerate(model_list):\n",
    "        model.fit(X_train, y_train)\n",
    "        #print(model.feature_importances_)\n",
    "        \n",
    "        axs[i].set_title(model.__class__.__name__)\n",
    "        sns.barplot(y=X.columns, x=model.feature_importances_, ax=axs[i])\n",
    "            \n",
    "        pred=model.predict(X_val)\n",
    "        score=my_mae(y_val, pred)\n",
    "        score_list.append(score)\n",
    "        \n",
    "        # print(f\"{model.__class__.__name__}:\\n\\t{score[model.__class__.__name__]} ---> {score:.6f}\")\n",
    "    return score_list"
   ]
  },
  {
   "cell_type": "code",
   "execution_count": 21,
   "id": "f470b174-b613-439b-808b-3af477b54e34",
   "metadata": {},
   "outputs": [],
   "source": [
    "def reg_stacking_fit_score(train_test, target):\n",
    "    \n",
    "    train, test = my_split(train_test)\n",
    "\n",
    "    # ------------------------------------------- train & validation\n",
    "    y=train[target]\n",
    "    X=train.drop(['중식계','석식계'], axis=1)\n",
    "    \n",
    "    model_list=[LinearRegression(),Lasso(),ElasticNet(),Ridge()]\n",
    "    score_list=[]\n",
    "    \n",
    "    font_path = \"C:/Windows/Fonts/NGULIM.TTF\"\n",
    "    font = font_manager.FontProperties(fname=font_path).get_name()\n",
    "    rc('font', family=font)\n",
    "    f, axs = plt.subplots(1, 4, figsize=(18, 4))\n",
    "    \n",
    "    # -------- loop model\n",
    "    for i, model in enumerate(model_list):\n",
    "        \n",
    "        # -------- KFold\n",
    "        kfold = KFold(n_splits=3, shuffle=True, random_state=1024)\n",
    "        fold_score_list = []\n",
    "        fold_coef_array=np.zeros((3, X.shape[1]))\n",
    "        \n",
    "        j=0\n",
    "        \n",
    "        for train_index, test_index  in kfold.split(X, y) :\n",
    "            X_train, X_test = X.iloc[train_index], X.iloc[test_index]\n",
    "            y_train, y_test = y.iloc[train_index], y.iloc[test_index]\n",
    "            \n",
    "            model.fit(X_train, y_train)\n",
    "            pred = model.predict(X_test)\n",
    "            \n",
    "            score=my_mae(y_test, pred)\n",
    "            fold_score_list.append(score)\n",
    "            \n",
    "            fold_coef_array[j,]=model.coef_\n",
    "            j=j+1\n",
    "        \n",
    "        # -------- score\n",
    "        mean_score=np.array(fold_score_list).mean()\n",
    "        score_list.append(mean_score)\n",
    "\n",
    "        # -------- barplot        \n",
    "        mean_coef_=fold_coef_array.mean(axis=0)\n",
    "        \n",
    "        axs[i].set_title(model.__class__.__name__)\n",
    "        sns.barplot(x=mean_coef_, y=X.columns, ax=axs[i])\n",
    "    \n",
    "    return score_list"
   ]
  },
  {
   "cell_type": "code",
   "execution_count": 22,
   "id": "a4569f4b-0be5-469d-ace0-2f8c9795a9be",
   "metadata": {},
   "outputs": [],
   "source": [
    "def tree_stacking_fit_score(train_test, target):\n",
    "    train, test = my_split(train_test)\n",
    "\n",
    "    # ------------------------------------------- train & validation\n",
    "    y=train[target]\n",
    "    X=train.drop(['중식계','석식계'], axis=1)\n",
    "    \n",
    "    model_list = [XGBRegressor(),LGBMRegressor()]    \n",
    "    score_list=[]\n",
    "    \n",
    "    font_path = \"C:/Windows/Fonts/NGULIM.TTF\"\n",
    "    font = font_manager.FontProperties(fname=font_path).get_name()\n",
    "    rc('font', family=font)\n",
    "    f, axs = plt.subplots(1,2, figsize=(16,4))\n",
    "\n",
    "    \n",
    "    # -------- loop model\n",
    "    for i, model in enumerate(model_list):\n",
    "        \n",
    "        # -------- KFold\n",
    "        kfold = KFold(n_splits=3, shuffle=True, random_state=1024)\n",
    "        fold_score_list = []\n",
    "        fold_importance_array=np.zeros((3, X.shape[1]))\n",
    "        \n",
    "        j=0\n",
    "        \n",
    "        for train_index, test_index  in kfold.split(X, y) :\n",
    "            X_train, X_test = X.iloc[train_index], X.iloc[test_index]\n",
    "            y_train, y_test = y.iloc[train_index], y.iloc[test_index]\n",
    "            \n",
    "            model.fit(X_train, y_train)\n",
    "            pred = model.predict(X_test)\n",
    "            \n",
    "            score=my_mae(y_test, pred)\n",
    "            fold_score_list.append(score)\n",
    "            \n",
    "            fold_importance_array[j,]=model.feature_importances_\n",
    "            j=j+1\n",
    "        \n",
    "        # -------- score\n",
    "        mean_score=np.array(fold_score_list).mean()\n",
    "        score_list.append(mean_score)\n",
    "\n",
    "        # -------- barplot        \n",
    "        mean_impo_=fold_importance_array.mean(axis=0)\n",
    "        \n",
    "        axs[i].set_title(model.__class__.__name__)\n",
    "        sns.barplot(x=mean_impo_, y=X.columns, ax=axs[i])\n",
    "    \n",
    "    return score_list"
   ]
  },
  {
   "cell_type": "code",
   "execution_count": 23,
   "id": "b5c049a2-6fee-44f3-b062-ca66b8e2356a",
   "metadata": {},
   "outputs": [],
   "source": [
    "# empty score dataframe\n",
    "index_list=['LinearRegression()','Lasso()','ElasticNet()','Ridge()', 'XGBRegressor()','LGBMRegressor()']\n",
    "sco_df=pd.DataFrame(index=index_list)\n",
    "\n",
    "# fit & score & make score dataframe\n",
    "def fit_score(data, target, trial_name, model_list=False, DF=True):\n",
    "    \n",
    "    reg_score_list=reg_fit_score(data, target, model_list)\n",
    "    tree_score_list=tree_fit_score(data, target, model_list)\n",
    "    score_list=reg_score_list+tree_score_list\n",
    "    \n",
    "    index_list=['LinearRegression()','Lasso()','ElasticNet()','Ridge()', 'XGBRegressor()','LGBMRegressor()']\n",
    "    score_series=pd.Series(score_list, index=index_list, name=trial_name)\n",
    "    \n",
    "    if DF==True:\n",
    "        global sco_df\n",
    "        sco_df=pd.concat([sco_df, score_series], axis=1)\n",
    "        sco_df\n",
    "    else:\n",
    "        print(score_series)\n",
    "    "
   ]
  },
  {
   "cell_type": "code",
   "execution_count": null,
   "id": "145f57b1-e50f-4df1-a738-ab9a5ad174ad",
   "metadata": {},
   "outputs": [],
   "source": []
  },
  {
   "cell_type": "code",
   "execution_count": null,
   "id": "b6855bea-df3f-42a6-ac75-c20f4de82daa",
   "metadata": {},
   "outputs": [],
   "source": []
  },
  {
   "cell_type": "markdown",
   "id": "7c6ce7f7-2dca-41cb-b60c-7f0201ea6b4e",
   "metadata": {},
   "source": [
    "# Model selection - pycaret"
   ]
  },
  {
   "cell_type": "code",
   "execution_count": null,
   "id": "cbca6a0b-b628-42cf-a743-507254a3afc9",
   "metadata": {},
   "outputs": [],
   "source": []
  },
  {
   "cell_type": "code",
   "execution_count": null,
   "id": "295ff9f5-2b55-45d0-b65f-a3f70dfc363b",
   "metadata": {},
   "outputs": [],
   "source": []
  },
  {
   "cell_type": "code",
   "execution_count": null,
   "id": "efae230d-326c-468d-9338-e104e5100252",
   "metadata": {},
   "outputs": [],
   "source": []
  },
  {
   "cell_type": "code",
   "execution_count": null,
   "id": "4961d2f7-f6ee-4735-b159-ad31819ac1b7",
   "metadata": {},
   "outputs": [],
   "source": []
  },
  {
   "cell_type": "code",
   "execution_count": null,
   "id": "a8f37514-7559-4db1-a086-fd4f386d4356",
   "metadata": {},
   "outputs": [],
   "source": []
  },
  {
   "cell_type": "code",
   "execution_count": null,
   "id": "41c11918-2b98-4ad4-bdb4-a5b296b15fa9",
   "metadata": {},
   "outputs": [],
   "source": []
  },
  {
   "cell_type": "code",
   "execution_count": null,
   "id": "28219014-d701-4cbf-b7d6-e28a58509fe0",
   "metadata": {},
   "outputs": [],
   "source": []
  },
  {
   "cell_type": "code",
   "execution_count": null,
   "id": "dce74c19-9f29-4711-b384-1d81640defb3",
   "metadata": {},
   "outputs": [],
   "source": []
  }
 ],
 "metadata": {
  "kernelspec": {
   "display_name": "Python 3 (ipykernel)",
   "language": "python",
   "name": "python3"
  },
  "language_info": {
   "codemirror_mode": {
    "name": "ipython",
    "version": 3
   },
   "file_extension": ".py",
   "mimetype": "text/x-python",
   "name": "python",
   "nbconvert_exporter": "python",
   "pygments_lexer": "ipython3",
   "version": "3.8.8"
  }
 },
 "nbformat": 4,
 "nbformat_minor": 5
}
