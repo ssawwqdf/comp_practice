{
 "cells": [
  {
   "cell_type": "code",
   "execution_count": 57,
   "id": "f1216a13-98cc-4fae-b1b8-d830db3926b3",
   "metadata": {},
   "outputs": [
    {
     "data": {
      "text/html": [
       "<style>.container{width:100% !important;}</style>"
      ],
      "text/plain": [
       "<IPython.core.display.HTML object>"
      ]
     },
     "metadata": {},
     "output_type": "display_data"
    }
   ],
   "source": [
    "# !pip install catboost\n",
    "# !pip install pycaret   =====  관리자권한으로실행\n",
    "\n",
    "import pandas as pd\n",
    "import numpy as np\n",
    "import matplotlib.pyplot as plt\n",
    "import seaborn as sns\n",
    "import datetime as dt\n",
    "from pycaret.regression import *\n",
    "\n",
    "import re \n",
    "\n",
    "import warnings\n",
    "warnings.filterwarnings(action='ignore')\n",
    "\n",
    "#-------------------- 차트 관련 속성 (한글처리, 그리드) -----------\n",
    "plt.rcParams['font.family']= 'Malgun Gothic'\n",
    "plt.rcParams['axes.unicode_minus'] = False\n",
    "sns.set()\n",
    "\n",
    "#-------------------- 주피터 , 출력결과 넓이 늘리기 ---------------\n",
    "from IPython.core.display import display, HTML\n",
    "display(HTML(\"<style>.container{width:100% !important;}</style>\"))\n",
    "pd.set_option('display.max_rows', 100)\n",
    "pd.set_option('display.max_columns', 100)\n",
    "pd.set_option('max_colwidth', None)\n"
   ]
  },
  {
   "cell_type": "markdown",
   "id": "f313440b-14df-4894-bf9e-72ad5b7b6914",
   "metadata": {},
   "source": [
    "# Load Daata"
   ]
  },
  {
   "cell_type": "code",
   "execution_count": 58,
   "id": "2a79d8c3-3c23-4490-b5d7-d0b5ea16695c",
   "metadata": {},
   "outputs": [],
   "source": [
    "train = pd.read_csv(\"../dataset/train.csv\", parse_dates=[\"일자\"])\n",
    "test  = pd.read_csv(\"../dataset/test.csv\", parse_dates=[\"일자\"])\n",
    "submit = pd.read_csv(\"../dataset/sample_submission.csv\")"
   ]
  },
  {
   "cell_type": "code",
   "execution_count": 59,
   "id": "0b312940-48e0-4fdf-a72b-f22401494545",
   "metadata": {},
   "outputs": [
    {
     "name": "stdout",
     "output_type": "stream",
     "text": [
      "(1205, 12)\n",
      "<class 'pandas.core.frame.DataFrame'>\n",
      "RangeIndex: 1205 entries, 0 to 1204\n",
      "Data columns (total 12 columns):\n",
      " #   Column          Non-Null Count  Dtype         \n",
      "---  ------          --------------  -----         \n",
      " 0   일자              1205 non-null   datetime64[ns]\n",
      " 1   요일              1205 non-null   object        \n",
      " 2   본사정원수           1205 non-null   int64         \n",
      " 3   본사휴가자수          1205 non-null   int64         \n",
      " 4   본사출장자수          1205 non-null   int64         \n",
      " 5   본사시간외근무명령서승인건수  1205 non-null   int64         \n",
      " 6   현본사소속재택근무자수     1205 non-null   float64       \n",
      " 7   조식메뉴            1205 non-null   object        \n",
      " 8   중식메뉴            1205 non-null   object        \n",
      " 9   석식메뉴            1205 non-null   object        \n",
      " 10  중식계             1205 non-null   float64       \n",
      " 11  석식계             1205 non-null   float64       \n",
      "dtypes: datetime64[ns](1), float64(3), int64(4), object(4)\n",
      "memory usage: 113.1+ KB\n",
      "None\n"
     ]
    },
    {
     "data": {
      "text/html": [
       "<div>\n",
       "<style scoped>\n",
       "    .dataframe tbody tr th:only-of-type {\n",
       "        vertical-align: middle;\n",
       "    }\n",
       "\n",
       "    .dataframe tbody tr th {\n",
       "        vertical-align: top;\n",
       "    }\n",
       "\n",
       "    .dataframe thead th {\n",
       "        text-align: right;\n",
       "    }\n",
       "</style>\n",
       "<table border=\"1\" class=\"dataframe\">\n",
       "  <thead>\n",
       "    <tr style=\"text-align: right;\">\n",
       "      <th></th>\n",
       "      <th>일자</th>\n",
       "      <th>요일</th>\n",
       "      <th>본사정원수</th>\n",
       "      <th>본사휴가자수</th>\n",
       "      <th>본사출장자수</th>\n",
       "      <th>본사시간외근무명령서승인건수</th>\n",
       "      <th>현본사소속재택근무자수</th>\n",
       "      <th>조식메뉴</th>\n",
       "      <th>중식메뉴</th>\n",
       "      <th>석식메뉴</th>\n",
       "      <th>중식계</th>\n",
       "      <th>석식계</th>\n",
       "    </tr>\n",
       "  </thead>\n",
       "  <tbody>\n",
       "    <tr>\n",
       "      <th>0</th>\n",
       "      <td>2016-02-01</td>\n",
       "      <td>월</td>\n",
       "      <td>2601</td>\n",
       "      <td>50</td>\n",
       "      <td>150</td>\n",
       "      <td>238</td>\n",
       "      <td>0.0</td>\n",
       "      <td>모닝롤/찐빵  우유/두유/주스 계란후라이  호두죽/쌀밥 (쌀:국내산) 된장찌개  쥐어채무침  포기김치 (배추,고추가루:국내산)</td>\n",
       "      <td>쌀밥/잡곡밥 (쌀,현미흑미:국내산) 오징어찌개  쇠불고기 (쇠고기:호주산) 계란찜  청포묵무침  요구르트  포기김치 (배추,고추가루:국내산)</td>\n",
       "      <td>쌀밥/잡곡밥 (쌀,현미흑미:국내산) 육개장  자반고등어구이  두부조림  건파래무침  포기김치 (김치:국내산)</td>\n",
       "      <td>1039.0</td>\n",
       "      <td>331.0</td>\n",
       "    </tr>\n",
       "    <tr>\n",
       "      <th>1</th>\n",
       "      <td>2016-02-02</td>\n",
       "      <td>화</td>\n",
       "      <td>2601</td>\n",
       "      <td>50</td>\n",
       "      <td>173</td>\n",
       "      <td>319</td>\n",
       "      <td>0.0</td>\n",
       "      <td>모닝롤/단호박샌드  우유/두유/주스 계란후라이  팥죽/쌀밥 (쌀:국내산) 호박젓국찌개  시래기조림  포기김치 (배추,고추가루:국내산)</td>\n",
       "      <td>쌀밥/잡곡밥 (쌀,현미흑미:국내산) 김치찌개  가자미튀김  모둠소세지구이  마늘쫑무침  요구르트  배추겉절이 (배추,고추가루:국내산)</td>\n",
       "      <td>콩나물밥*양념장 (쌀,현미흑미:국내산) 어묵국  유산슬 (쇠고기:호주산) 아삭고추무침  바나나  포기김치 (배추,고추가루:국내산)</td>\n",
       "      <td>867.0</td>\n",
       "      <td>560.0</td>\n",
       "    </tr>\n",
       "  </tbody>\n",
       "</table>\n",
       "</div>"
      ],
      "text/plain": [
       "          일자 요일  본사정원수  본사휴가자수  본사출장자수  본사시간외근무명령서승인건수  현본사소속재택근무자수  \\\n",
       "0 2016-02-01  월   2601      50     150             238          0.0   \n",
       "1 2016-02-02  화   2601      50     173             319          0.0   \n",
       "\n",
       "                                                                          조식메뉴  \\\n",
       "0      모닝롤/찐빵  우유/두유/주스 계란후라이  호두죽/쌀밥 (쌀:국내산) 된장찌개  쥐어채무침  포기김치 (배추,고추가루:국내산)    \n",
       "1  모닝롤/단호박샌드  우유/두유/주스 계란후라이  팥죽/쌀밥 (쌀:국내산) 호박젓국찌개  시래기조림  포기김치 (배추,고추가루:국내산)    \n",
       "\n",
       "                                                                              중식메뉴  \\\n",
       "0  쌀밥/잡곡밥 (쌀,현미흑미:국내산) 오징어찌개  쇠불고기 (쇠고기:호주산) 계란찜  청포묵무침  요구르트  포기김치 (배추,고추가루:국내산)    \n",
       "1      쌀밥/잡곡밥 (쌀,현미흑미:국내산) 김치찌개  가자미튀김  모둠소세지구이  마늘쫑무침  요구르트  배추겉절이 (배추,고추가루:국내산)    \n",
       "\n",
       "                                                                        석식메뉴  \\\n",
       "0              쌀밥/잡곡밥 (쌀,현미흑미:국내산) 육개장  자반고등어구이  두부조림  건파래무침  포기김치 (김치:국내산)    \n",
       "1  콩나물밥*양념장 (쌀,현미흑미:국내산) 어묵국  유산슬 (쇠고기:호주산) 아삭고추무침  바나나  포기김치 (배추,고추가루:국내산)    \n",
       "\n",
       "      중식계    석식계  \n",
       "0  1039.0  331.0  \n",
       "1   867.0  560.0  "
      ]
     },
     "execution_count": 59,
     "metadata": {},
     "output_type": "execute_result"
    }
   ],
   "source": [
    "print(train.shape)\n",
    "print(train.info())\n",
    "train.head(2)      "
   ]
  },
  {
   "cell_type": "code",
   "execution_count": 60,
   "id": "31c72fe1-4ce4-4c85-951f-d0676464bb51",
   "metadata": {},
   "outputs": [
    {
     "name": "stdout",
     "output_type": "stream",
     "text": [
      "(50, 10)\n",
      "<class 'pandas.core.frame.DataFrame'>\n",
      "RangeIndex: 50 entries, 0 to 49\n",
      "Data columns (total 10 columns):\n",
      " #   Column          Non-Null Count  Dtype         \n",
      "---  ------          --------------  -----         \n",
      " 0   일자              50 non-null     datetime64[ns]\n",
      " 1   요일              50 non-null     object        \n",
      " 2   본사정원수           50 non-null     int64         \n",
      " 3   본사휴가자수          50 non-null     int64         \n",
      " 4   본사출장자수          50 non-null     int64         \n",
      " 5   본사시간외근무명령서승인건수  50 non-null     int64         \n",
      " 6   현본사소속재택근무자수     50 non-null     float64       \n",
      " 7   조식메뉴            50 non-null     object        \n",
      " 8   중식메뉴            50 non-null     object        \n",
      " 9   석식메뉴            50 non-null     object        \n",
      "dtypes: datetime64[ns](1), float64(1), int64(4), object(4)\n",
      "memory usage: 4.0+ KB\n",
      "None\n"
     ]
    },
    {
     "data": {
      "text/html": [
       "<div>\n",
       "<style scoped>\n",
       "    .dataframe tbody tr th:only-of-type {\n",
       "        vertical-align: middle;\n",
       "    }\n",
       "\n",
       "    .dataframe tbody tr th {\n",
       "        vertical-align: top;\n",
       "    }\n",
       "\n",
       "    .dataframe thead th {\n",
       "        text-align: right;\n",
       "    }\n",
       "</style>\n",
       "<table border=\"1\" class=\"dataframe\">\n",
       "  <thead>\n",
       "    <tr style=\"text-align: right;\">\n",
       "      <th></th>\n",
       "      <th>일자</th>\n",
       "      <th>요일</th>\n",
       "      <th>본사정원수</th>\n",
       "      <th>본사휴가자수</th>\n",
       "      <th>본사출장자수</th>\n",
       "      <th>본사시간외근무명령서승인건수</th>\n",
       "      <th>현본사소속재택근무자수</th>\n",
       "      <th>조식메뉴</th>\n",
       "      <th>중식메뉴</th>\n",
       "      <th>석식메뉴</th>\n",
       "    </tr>\n",
       "  </thead>\n",
       "  <tbody>\n",
       "    <tr>\n",
       "      <th>0</th>\n",
       "      <td>2021-01-27</td>\n",
       "      <td>수</td>\n",
       "      <td>2983</td>\n",
       "      <td>88</td>\n",
       "      <td>182</td>\n",
       "      <td>5</td>\n",
       "      <td>358.0</td>\n",
       "      <td>모닝롤/연유버터베이글 우유/주스 계란후라이/찐계란 단호박죽/흑미밥 우거지국 고기완자전 양상추샐러드/사과 포기김치</td>\n",
       "      <td>쌀밥/흑미밥/찰현미밥 대구지리 매운돈갈비찜 오꼬노미계란말이 상추무침 포기김치 양상추샐러드*딸기D</td>\n",
       "      <td>흑미밥 얼큰순두부찌개 쇠고기우엉볶음 버섯햄볶음 (New)아삭이고추무절임 포기김치</td>\n",
       "    </tr>\n",
       "    <tr>\n",
       "      <th>1</th>\n",
       "      <td>2021-01-28</td>\n",
       "      <td>목</td>\n",
       "      <td>2983</td>\n",
       "      <td>104</td>\n",
       "      <td>212</td>\n",
       "      <td>409</td>\n",
       "      <td>348.0</td>\n",
       "      <td>모닝롤/대만샌드위치 우유/주스 계란후라이/찐계란 누룽지탕/흑미밥 황태국 시래기지짐 양상추샐러드 포기김치</td>\n",
       "      <td>쌀밥/보리밥/찰현미밥 우렁된장찌개 오리주물럭 청양부추전 수제삼색무쌈 겉절이김치 양상추샐러드*오미자D</td>\n",
       "      <td>충무김밥 우동국물 오징어무침 꽃맛살샐러드 얼갈이쌈장무침 석박지</td>\n",
       "    </tr>\n",
       "  </tbody>\n",
       "</table>\n",
       "</div>"
      ],
      "text/plain": [
       "          일자 요일  본사정원수  본사휴가자수  본사출장자수  본사시간외근무명령서승인건수  현본사소속재택근무자수  \\\n",
       "0 2021-01-27  수   2983      88     182               5        358.0   \n",
       "1 2021-01-28  목   2983     104     212             409        348.0   \n",
       "\n",
       "                                                              조식메뉴  \\\n",
       "0  모닝롤/연유버터베이글 우유/주스 계란후라이/찐계란 단호박죽/흑미밥 우거지국 고기완자전 양상추샐러드/사과 포기김치    \n",
       "1       모닝롤/대만샌드위치 우유/주스 계란후라이/찐계란 누룽지탕/흑미밥 황태국 시래기지짐 양상추샐러드 포기김치    \n",
       "\n",
       "                                                       중식메뉴  \\\n",
       "0    쌀밥/흑미밥/찰현미밥 대구지리 매운돈갈비찜 오꼬노미계란말이 상추무침 포기김치 양상추샐러드*딸기D    \n",
       "1  쌀밥/보리밥/찰현미밥 우렁된장찌개 오리주물럭 청양부추전 수제삼색무쌈 겉절이김치 양상추샐러드*오미자D    \n",
       "\n",
       "                                            석식메뉴  \n",
       "0  흑미밥 얼큰순두부찌개 쇠고기우엉볶음 버섯햄볶음 (New)아삭이고추무절임 포기김치   \n",
       "1            충무김밥 우동국물 오징어무침 꽃맛살샐러드 얼갈이쌈장무침 석박지   "
      ]
     },
     "execution_count": 60,
     "metadata": {},
     "output_type": "execute_result"
    }
   ],
   "source": [
    "print(test.shape)\n",
    "print(test.info())\n",
    "test.head(2)      "
   ]
  },
  {
   "cell_type": "code",
   "execution_count": 61,
   "id": "b8e3367e-a433-4cc9-b8f1-28760cdf49da",
   "metadata": {},
   "outputs": [
    {
     "data": {
      "text/html": [
       "<div>\n",
       "<style scoped>\n",
       "    .dataframe tbody tr th:only-of-type {\n",
       "        vertical-align: middle;\n",
       "    }\n",
       "\n",
       "    .dataframe tbody tr th {\n",
       "        vertical-align: top;\n",
       "    }\n",
       "\n",
       "    .dataframe thead th {\n",
       "        text-align: right;\n",
       "    }\n",
       "</style>\n",
       "<table border=\"1\" class=\"dataframe\">\n",
       "  <thead>\n",
       "    <tr style=\"text-align: right;\">\n",
       "      <th></th>\n",
       "      <th>일자</th>\n",
       "      <th>중식계</th>\n",
       "      <th>석식계</th>\n",
       "    </tr>\n",
       "  </thead>\n",
       "  <tbody>\n",
       "    <tr>\n",
       "      <th>0</th>\n",
       "      <td>2021-01-27</td>\n",
       "      <td>0</td>\n",
       "      <td>0</td>\n",
       "    </tr>\n",
       "    <tr>\n",
       "      <th>1</th>\n",
       "      <td>2021-01-28</td>\n",
       "      <td>0</td>\n",
       "      <td>0</td>\n",
       "    </tr>\n",
       "    <tr>\n",
       "      <th>2</th>\n",
       "      <td>2021-01-29</td>\n",
       "      <td>0</td>\n",
       "      <td>0</td>\n",
       "    </tr>\n",
       "  </tbody>\n",
       "</table>\n",
       "</div>"
      ],
      "text/plain": [
       "           일자  중식계  석식계\n",
       "0  2021-01-27    0    0\n",
       "1  2021-01-28    0    0\n",
       "2  2021-01-29    0    0"
      ]
     },
     "execution_count": 61,
     "metadata": {},
     "output_type": "execute_result"
    }
   ],
   "source": [
    "submit.head(3)"
   ]
  },
  {
   "cell_type": "markdown",
   "id": "e6af3e08-3ee8-4a1d-b06e-2e51727bec37",
   "metadata": {
    "tags": []
   },
   "source": [
    "# EDA"
   ]
  },
  {
   "cell_type": "code",
   "execution_count": 62,
   "id": "66e78973-1964-40ec-9ad1-45f9904b7a89",
   "metadata": {},
   "outputs": [],
   "source": [
    "plt.rc('font', family='NanumGothic') # For MacOS"
   ]
  },
  {
   "cell_type": "markdown",
   "id": "85ca5ce8-a35a-4a99-ad86-2c7c52b552fb",
   "metadata": {},
   "source": [
    "## Categorical(Object) 타입 "
   ]
  },
  {
   "cell_type": "code",
   "execution_count": 63,
   "id": "957054de-46d2-4e0d-8a0c-cbc99b8e8e8a",
   "metadata": {},
   "outputs": [
    {
     "name": "stdout",
     "output_type": "stream",
     "text": [
      "Index(['요일', '조식메뉴', '중식메뉴', '석식메뉴'], dtype='object')\n",
      "목    244\n",
      "월    241\n",
      "금    241\n",
      "화    240\n",
      "수    239\n",
      "Name: 요일, dtype: int64\n"
     ]
    }
   ],
   "source": [
    "col_list = train.select_dtypes(include=\"object\").columns\n",
    "print(col_list)\n",
    "print(train['요일'].value_counts())"
   ]
  },
  {
   "cell_type": "markdown",
   "id": "156a26c6-35a0-4f51-b0b8-e20ee2bfae6f",
   "metadata": {},
   "source": [
    "## Numeric  타입 "
   ]
  },
  {
   "cell_type": "code",
   "execution_count": 64,
   "id": "1f78447c-75ca-42f0-932c-1da153f56c75",
   "metadata": {},
   "outputs": [
    {
     "name": "stdout",
     "output_type": "stream",
     "text": [
      "Index(['일자', '본사정원수', '본사휴가자수', '본사출장자수', '본사시간외근무명령서승인건수', '현본사소속재택근무자수',\n",
      "       '중식계', '석식계'],\n",
      "      dtype='object')\n",
      "일자 1205 ['2016-02-01T00:00:00.000000000' '2016-02-02T00:00:00.000000000'\n",
      " '2016-02-03T00:00:00.000000000' '2016-02-04T00:00:00.000000000'\n",
      " '2016-02-05T00:00:00.000000000' '2016-02-11T00:00:00.000000000'\n",
      " '2016-02-12T00:00:00.000000000' '2016-02-15T00:00:00.000000000'\n",
      " '2016-02-16T00:00:00.000000000' '2016-02-17T00:00:00.000000000']\n",
      "본사정원수 53 [2601 2624 2643 2635 2637 2644 2769 2670 2689 2705]\n",
      "본사휴가자수 347 [ 50  56 104 278 383 389  87  72  78  77]\n",
      "본사출장자수 194 [150 173 180 220 181 143 156 204 236 250]\n",
      "본사시간외근무명령서승인건수 507 [238 319 111 355  34 417  93 482 526  23]\n",
      "현본사소속재택근무자수 165 [ 0.  5.  7.  3.  1. 14. 12. 19. 15. 16.]\n",
      "중식계 628 [1039.  867. 1017.  978.  925. 1045.  909. 1268. 1014.  916.]\n",
      "석식계 405 [331. 560. 573. 525. 330. 550. 598. 672. 523. 588.]\n"
     ]
    }
   ],
   "source": [
    "col_list = train.select_dtypes(exclude=\"object\").columns\n",
    "print(col_list)\n",
    "for col in col_list:\n",
    "    print(col, train[col].nunique(), train[col].unique()[:10])"
   ]
  },
  {
   "cell_type": "code",
   "execution_count": 65,
   "id": "f9301638-f261-4665-a418-e98ee0685008",
   "metadata": {},
   "outputs": [],
   "source": [
    "# import pandas_profiling as pp\n",
    "# plt.rc('font', family='NanumGothic') # For MacOS\n",
    "# report = train.profile_report()\n",
    "# report.to_file(\"./EDA.html\")"
   ]
  },
  {
   "cell_type": "markdown",
   "id": "c47a94fc-fe7d-4165-823b-2df3135c95a2",
   "metadata": {},
   "source": [
    "## trian_test 합치기"
   ]
  },
  {
   "cell_type": "code",
   "execution_count": 66,
   "id": "3f6afd08-4821-4fa2-8801-6a448264f75f",
   "metadata": {},
   "outputs": [],
   "source": [
    "train_test = pd.concat([train, test], axis=0)"
   ]
  },
  {
   "cell_type": "markdown",
   "id": "9e359b9b-085a-466e-8bcf-9a47cd1c216d",
   "metadata": {},
   "source": [
    "### 파생변수 : 자기개발의날여부 "
   ]
  },
  {
   "cell_type": "code",
   "execution_count": 67,
   "id": "e72437db-10c4-4644-8942-bf916d7d0b1e",
   "metadata": {},
   "outputs": [
    {
     "data": {
      "text/plain": [
       "    *                   19\n",
       "                         4\n",
       "    자기계발의날               3\n",
       "    자기개발의날               3\n",
       "     *                   2\n",
       "      *                  2\n",
       "    *  자기계발의날  *         2\n",
       "    *  자기개발의날  *         2\n",
       "      자기계발의날             1\n",
       "      *자기계발의날*           1\n",
       "      가정의날               1\n",
       "   *  자기개발의날  *          1\n",
       " ＜자기 계발의 날＞              1\n",
       "Name: 석식메뉴, dtype: int64"
      ]
     },
     "execution_count": 67,
     "metadata": {},
     "output_type": "execute_result"
    }
   ],
   "source": [
    "train_test[train_test['석식메뉴'].str.len()<=20]['석식메뉴'].value_counts()"
   ]
  },
  {
   "cell_type": "code",
   "execution_count": 68,
   "id": "16d2cb8c-8679-4dc1-bfc6-1ff54a7ce030",
   "metadata": {},
   "outputs": [
    {
     "name": "stdout",
     "output_type": "stream",
     "text": [
      "0    1213\n",
      "1      42\n",
      "Name: 자기개발의날여부, dtype: int64\n"
     ]
    }
   ],
   "source": [
    "train_test.loc[train_test['석식메뉴'].str.len()<=20, '석식메뉴'] = '자기개발의날'\n",
    "train_test['자기개발의날여부'] = np.where( train_test['석식메뉴']=='자기개발의날', 1, 0)\n",
    "print(train_test['자기개발의날여부'].value_counts())"
   ]
  },
  {
   "cell_type": "markdown",
   "id": "4b902d53-81f9-4409-a801-d9d39233d410",
   "metadata": {},
   "source": [
    "### 파생변수 : 일자 관련"
   ]
  },
  {
   "cell_type": "code",
   "execution_count": 69,
   "id": "1c1bfc0a-6949-45d1-a48e-86fe58965659",
   "metadata": {},
   "outputs": [],
   "source": [
    "train_test['PC_y'] = train_test['일자'].dt.year\n",
    "train_test['PC_m'] = train_test['일자'].dt.month\n",
    "train_test['PC_d'] = train_test['일자'].dt.day\n",
    "train_test['PC_w'] = train_test['일자'].dt.dayofweek  #0:월~6:일\n",
    "train_test['PC_ws'] = train_test['일자'].dt.weekofyear   #주수\n",
    "train_test['PC_ym'] =  train_test['일자'].dt.strftime('%Y%m').astype('int')\n",
    "train_test['PC_md'] =  train_test['일자'].dt.strftime('%m%d').astype('int')"
   ]
  },
  {
   "cell_type": "markdown",
   "id": "a1193ba4-e09d-4afd-aade-520ba8b15241",
   "metadata": {},
   "source": [
    "### 메뉴 분리"
   ]
  },
  {
   "cell_type": "code",
   "execution_count": 70,
   "id": "b845c3e1-d180-4d28-8759-6e2a0ae0ce63",
   "metadata": {},
   "outputs": [],
   "source": [
    "# train_test_menu = train_test[['일자','중식메뉴','석식메뉴']].copy()\n",
    "# train_test_menu.head(2)"
   ]
  },
  {
   "cell_type": "markdown",
   "id": "3c57e587-b43c-49ea-a23e-92b5d289ae5e",
   "metadata": {},
   "source": [
    "### 불필요한 컬럼 삭제"
   ]
  },
  {
   "cell_type": "code",
   "execution_count": 71,
   "id": "e3d7d2c1-d563-4b8a-8279-848d20ead13b",
   "metadata": {},
   "outputs": [
    {
     "name": "stdout",
     "output_type": "stream",
     "text": [
      "<class 'pandas.core.frame.DataFrame'>\n",
      "Int64Index: 1255 entries, 0 to 49\n",
      "Data columns (total 18 columns):\n",
      " #   Column          Non-Null Count  Dtype         \n",
      "---  ------          --------------  -----         \n",
      " 0   일자              1255 non-null   datetime64[ns]\n",
      " 1   본사정원수           1255 non-null   int64         \n",
      " 2   본사휴가자수          1255 non-null   int64         \n",
      " 3   본사출장자수          1255 non-null   int64         \n",
      " 4   본사시간외근무명령서승인건수  1255 non-null   int64         \n",
      " 5   현본사소속재택근무자수     1255 non-null   float64       \n",
      " 6   중식메뉴            1255 non-null   object        \n",
      " 7   석식메뉴            1255 non-null   object        \n",
      " 8   중식계             1205 non-null   float64       \n",
      " 9   석식계             1205 non-null   float64       \n",
      " 10  자기개발의날여부        1255 non-null   int32         \n",
      " 11  PC_y            1255 non-null   int64         \n",
      " 12  PC_m            1255 non-null   int64         \n",
      " 13  PC_d            1255 non-null   int64         \n",
      " 14  PC_w            1255 non-null   int64         \n",
      " 15  PC_ws           1255 non-null   int64         \n",
      " 16  PC_ym           1255 non-null   int32         \n",
      " 17  PC_md           1255 non-null   int32         \n",
      "dtypes: datetime64[ns](1), float64(3), int32(3), int64(9), object(2)\n",
      "memory usage: 171.6+ KB\n",
      "None\n"
     ]
    },
    {
     "data": {
      "text/html": [
       "<div>\n",
       "<style scoped>\n",
       "    .dataframe tbody tr th:only-of-type {\n",
       "        vertical-align: middle;\n",
       "    }\n",
       "\n",
       "    .dataframe tbody tr th {\n",
       "        vertical-align: top;\n",
       "    }\n",
       "\n",
       "    .dataframe thead th {\n",
       "        text-align: right;\n",
       "    }\n",
       "</style>\n",
       "<table border=\"1\" class=\"dataframe\">\n",
       "  <thead>\n",
       "    <tr style=\"text-align: right;\">\n",
       "      <th></th>\n",
       "      <th>일자</th>\n",
       "      <th>본사정원수</th>\n",
       "      <th>본사휴가자수</th>\n",
       "      <th>본사출장자수</th>\n",
       "      <th>본사시간외근무명령서승인건수</th>\n",
       "      <th>현본사소속재택근무자수</th>\n",
       "      <th>중식메뉴</th>\n",
       "      <th>석식메뉴</th>\n",
       "      <th>중식계</th>\n",
       "      <th>석식계</th>\n",
       "      <th>자기개발의날여부</th>\n",
       "      <th>PC_y</th>\n",
       "      <th>PC_m</th>\n",
       "      <th>PC_d</th>\n",
       "      <th>PC_w</th>\n",
       "      <th>PC_ws</th>\n",
       "      <th>PC_ym</th>\n",
       "      <th>PC_md</th>\n",
       "    </tr>\n",
       "  </thead>\n",
       "  <tbody>\n",
       "    <tr>\n",
       "      <th>0</th>\n",
       "      <td>2016-02-01</td>\n",
       "      <td>2601</td>\n",
       "      <td>50</td>\n",
       "      <td>150</td>\n",
       "      <td>238</td>\n",
       "      <td>0.0</td>\n",
       "      <td>쌀밥/잡곡밥 (쌀,현미흑미:국내산) 오징어찌개  쇠불고기 (쇠고기:호주산) 계란찜  청포묵무침  요구르트  포기김치 (배추,고추가루:국내산)</td>\n",
       "      <td>쌀밥/잡곡밥 (쌀,현미흑미:국내산) 육개장  자반고등어구이  두부조림  건파래무침  포기김치 (김치:국내산)</td>\n",
       "      <td>1039.0</td>\n",
       "      <td>331.0</td>\n",
       "      <td>0</td>\n",
       "      <td>2016</td>\n",
       "      <td>2</td>\n",
       "      <td>1</td>\n",
       "      <td>0</td>\n",
       "      <td>5</td>\n",
       "      <td>201602</td>\n",
       "      <td>201</td>\n",
       "    </tr>\n",
       "    <tr>\n",
       "      <th>1</th>\n",
       "      <td>2016-02-02</td>\n",
       "      <td>2601</td>\n",
       "      <td>50</td>\n",
       "      <td>173</td>\n",
       "      <td>319</td>\n",
       "      <td>0.0</td>\n",
       "      <td>쌀밥/잡곡밥 (쌀,현미흑미:국내산) 김치찌개  가자미튀김  모둠소세지구이  마늘쫑무침  요구르트  배추겉절이 (배추,고추가루:국내산)</td>\n",
       "      <td>콩나물밥*양념장 (쌀,현미흑미:국내산) 어묵국  유산슬 (쇠고기:호주산) 아삭고추무침  바나나  포기김치 (배추,고추가루:국내산)</td>\n",
       "      <td>867.0</td>\n",
       "      <td>560.0</td>\n",
       "      <td>0</td>\n",
       "      <td>2016</td>\n",
       "      <td>2</td>\n",
       "      <td>2</td>\n",
       "      <td>1</td>\n",
       "      <td>5</td>\n",
       "      <td>201602</td>\n",
       "      <td>202</td>\n",
       "    </tr>\n",
       "    <tr>\n",
       "      <th>2</th>\n",
       "      <td>2016-02-03</td>\n",
       "      <td>2601</td>\n",
       "      <td>56</td>\n",
       "      <td>180</td>\n",
       "      <td>111</td>\n",
       "      <td>0.0</td>\n",
       "      <td>카레덮밥 (쌀,현미흑미:국내산) 팽이장국  치킨핑거 (닭고기:국내산) 쫄면야채무침  견과류조림  요구르트  포기김치 (배추,고추가루:국내산)</td>\n",
       "      <td>쌀밥/잡곡밥 (쌀,현미흑미:국내산) 청국장찌개  황태양념구이 (황태:러시아산) 고기전 (돼지고기:국내산) 새송이버섯볶음  포기김치 (배추,고추가루:국내산)</td>\n",
       "      <td>1017.0</td>\n",
       "      <td>573.0</td>\n",
       "      <td>0</td>\n",
       "      <td>2016</td>\n",
       "      <td>2</td>\n",
       "      <td>3</td>\n",
       "      <td>2</td>\n",
       "      <td>5</td>\n",
       "      <td>201602</td>\n",
       "      <td>203</td>\n",
       "    </tr>\n",
       "    <tr>\n",
       "      <th>3</th>\n",
       "      <td>2016-02-04</td>\n",
       "      <td>2601</td>\n",
       "      <td>104</td>\n",
       "      <td>220</td>\n",
       "      <td>355</td>\n",
       "      <td>0.0</td>\n",
       "      <td>쌀밥/잡곡밥 (쌀,현미흑미:국내산) 쇠고기무국  주꾸미볶음  부추전  시금치나물  요구르트  포기김치 (배추,고추가루:국내산)</td>\n",
       "      <td>미니김밥*겨자장 (쌀,현미흑미:국내산) 우동  멕시칸샐러드  군고구마  무피클  포기김치 (배추,고추가루:국내산)</td>\n",
       "      <td>978.0</td>\n",
       "      <td>525.0</td>\n",
       "      <td>0</td>\n",
       "      <td>2016</td>\n",
       "      <td>2</td>\n",
       "      <td>4</td>\n",
       "      <td>3</td>\n",
       "      <td>5</td>\n",
       "      <td>201602</td>\n",
       "      <td>204</td>\n",
       "    </tr>\n",
       "    <tr>\n",
       "      <th>4</th>\n",
       "      <td>2016-02-05</td>\n",
       "      <td>2601</td>\n",
       "      <td>278</td>\n",
       "      <td>181</td>\n",
       "      <td>34</td>\n",
       "      <td>0.0</td>\n",
       "      <td>쌀밥/잡곡밥 (쌀,현미흑미:국내산) 떡국  돈육씨앗강정 (돼지고기:국내산) 우엉잡채  청경채무침  요구르트  포기김치 (배추,고추가루:국내산)</td>\n",
       "      <td>쌀밥/잡곡밥 (쌀,현미흑미:국내산) 차돌박이찌개 (쇠고기:호주산) 닭갈비 (닭고기:국내산) 감자소세지볶음  콩나물무침  포기김치 (배추,고추가루:국내산)</td>\n",
       "      <td>925.0</td>\n",
       "      <td>330.0</td>\n",
       "      <td>0</td>\n",
       "      <td>2016</td>\n",
       "      <td>2</td>\n",
       "      <td>5</td>\n",
       "      <td>4</td>\n",
       "      <td>5</td>\n",
       "      <td>201602</td>\n",
       "      <td>205</td>\n",
       "    </tr>\n",
       "  </tbody>\n",
       "</table>\n",
       "</div>"
      ],
      "text/plain": [
       "          일자  본사정원수  본사휴가자수  본사출장자수  본사시간외근무명령서승인건수  현본사소속재택근무자수  \\\n",
       "0 2016-02-01   2601      50     150             238          0.0   \n",
       "1 2016-02-02   2601      50     173             319          0.0   \n",
       "2 2016-02-03   2601      56     180             111          0.0   \n",
       "3 2016-02-04   2601     104     220             355          0.0   \n",
       "4 2016-02-05   2601     278     181              34          0.0   \n",
       "\n",
       "                                                                               중식메뉴  \\\n",
       "0   쌀밥/잡곡밥 (쌀,현미흑미:국내산) 오징어찌개  쇠불고기 (쇠고기:호주산) 계란찜  청포묵무침  요구르트  포기김치 (배추,고추가루:국내산)    \n",
       "1       쌀밥/잡곡밥 (쌀,현미흑미:국내산) 김치찌개  가자미튀김  모둠소세지구이  마늘쫑무침  요구르트  배추겉절이 (배추,고추가루:국내산)    \n",
       "2   카레덮밥 (쌀,현미흑미:국내산) 팽이장국  치킨핑거 (닭고기:국내산) 쫄면야채무침  견과류조림  요구르트  포기김치 (배추,고추가루:국내산)    \n",
       "3           쌀밥/잡곡밥 (쌀,현미흑미:국내산) 쇠고기무국  주꾸미볶음  부추전  시금치나물  요구르트  포기김치 (배추,고추가루:국내산)    \n",
       "4  쌀밥/잡곡밥 (쌀,현미흑미:국내산) 떡국  돈육씨앗강정 (돼지고기:국내산) 우엉잡채  청경채무침  요구르트  포기김치 (배추,고추가루:국내산)    \n",
       "\n",
       "                                                                                      석식메뉴  \\\n",
       "0                            쌀밥/잡곡밥 (쌀,현미흑미:국내산) 육개장  자반고등어구이  두부조림  건파래무침  포기김치 (김치:국내산)    \n",
       "1                콩나물밥*양념장 (쌀,현미흑미:국내산) 어묵국  유산슬 (쇠고기:호주산) 아삭고추무침  바나나  포기김치 (배추,고추가루:국내산)    \n",
       "2  쌀밥/잡곡밥 (쌀,현미흑미:국내산) 청국장찌개  황태양념구이 (황태:러시아산) 고기전 (돼지고기:국내산) 새송이버섯볶음  포기김치 (배추,고추가루:국내산)    \n",
       "3                         미니김밥*겨자장 (쌀,현미흑미:국내산) 우동  멕시칸샐러드  군고구마  무피클  포기김치 (배추,고추가루:국내산)    \n",
       "4   쌀밥/잡곡밥 (쌀,현미흑미:국내산) 차돌박이찌개 (쇠고기:호주산) 닭갈비 (닭고기:국내산) 감자소세지볶음  콩나물무침  포기김치 (배추,고추가루:국내산)    \n",
       "\n",
       "      중식계    석식계  자기개발의날여부  PC_y  PC_m  PC_d  PC_w  PC_ws   PC_ym  PC_md  \n",
       "0  1039.0  331.0         0  2016     2     1     0      5  201602    201  \n",
       "1   867.0  560.0         0  2016     2     2     1      5  201602    202  \n",
       "2  1017.0  573.0         0  2016     2     3     2      5  201602    203  \n",
       "3   978.0  525.0         0  2016     2     4     3      5  201602    204  \n",
       "4   925.0  330.0         0  2016     2     5     4      5  201602    205  "
      ]
     },
     "execution_count": 71,
     "metadata": {},
     "output_type": "execute_result"
    }
   ],
   "source": [
    "train_test = train_test.drop(['요일', '조식메뉴'], axis=1) #,'중식메뉴','석식메뉴'\n",
    "print(train_test.info())\n",
    "train_test.head()"
   ]
  },
  {
   "cell_type": "code",
   "execution_count": null,
   "id": "6c7a1f43-c14c-4872-886a-4c9dacdfc0ab",
   "metadata": {},
   "outputs": [],
   "source": []
  },
  {
   "cell_type": "markdown",
   "id": "ed98aed8-da2e-4326-9369-97bd75d8830a",
   "metadata": {},
   "source": [
    "## 분포도"
   ]
  },
  {
   "cell_type": "code",
   "execution_count": 72,
   "id": "9ce944cd-0c8d-4408-8ce0-ced6f83d56de",
   "metadata": {},
   "outputs": [
    {
     "name": "stdout",
     "output_type": "stream",
     "text": [
      "2016-02-01 00:00:00 2021-01-26 00:00:00\n",
      "2021-01-27 00:00:00 2021-04-09 00:00:00\n"
     ]
    }
   ],
   "source": [
    "print(train['일자'].min(), train['일자'].max())\n",
    "print(test['일자'].min(), test['일자'].max())"
   ]
  },
  {
   "cell_type": "markdown",
   "id": "a0c3203f-6e70-41aa-8157-ecab4621f53b",
   "metadata": {},
   "source": [
    "* <font color=red> 년도 안겹친다.. 년도 정보를 넣게 되면 예측력이 떨어질 것이다.\n",
    "  ?? 확인 필요\n",
    "</font>"
   ]
  },
  {
   "cell_type": "markdown",
   "id": "bed61a29-d489-4719-8b91-9553dba933b1",
   "metadata": {
    "tags": []
   },
   "source": [
    "## 상관분석\n",
    "* 상관 계수 : 공분산을 변수의 표준 편차 곱으로 나눈 값"
   ]
  },
  {
   "cell_type": "markdown",
   "id": "94a1608e-67bc-48d7-a3f0-eaaf51a7a091",
   "metadata": {},
   "source": [
    "* 학습 전 PC_w 삭제"
   ]
  },
  {
   "cell_type": "markdown",
   "id": "54ec658e-3b6e-49e9-9ea8-6a9b79047373",
   "metadata": {
    "tags": []
   },
   "source": [
    "# 가공"
   ]
  },
  {
   "cell_type": "markdown",
   "id": "045e9bd3-1bc7-4875-b914-b836cdd7a16f",
   "metadata": {
    "tags": []
   },
   "source": [
    "## 출근 관련 파생 변수"
   ]
  },
  {
   "cell_type": "code",
   "execution_count": 73,
   "id": "418fdfb6-bbf4-4554-8e10-4f50db39020f",
   "metadata": {},
   "outputs": [
    {
     "data": {
      "text/html": [
       "<div>\n",
       "<style scoped>\n",
       "    .dataframe tbody tr th:only-of-type {\n",
       "        vertical-align: middle;\n",
       "    }\n",
       "\n",
       "    .dataframe tbody tr th {\n",
       "        vertical-align: top;\n",
       "    }\n",
       "\n",
       "    .dataframe thead th {\n",
       "        text-align: right;\n",
       "    }\n",
       "</style>\n",
       "<table border=\"1\" class=\"dataframe\">\n",
       "  <thead>\n",
       "    <tr style=\"text-align: right;\">\n",
       "      <th></th>\n",
       "      <th>일자</th>\n",
       "      <th>본사정원수</th>\n",
       "      <th>본사휴가자수</th>\n",
       "      <th>본사출장자수</th>\n",
       "      <th>본사시간외근무명령서승인건수</th>\n",
       "      <th>현본사소속재택근무자수</th>\n",
       "      <th>중식메뉴</th>\n",
       "      <th>석식메뉴</th>\n",
       "      <th>중식계</th>\n",
       "      <th>석식계</th>\n",
       "      <th>자기개발의날여부</th>\n",
       "      <th>PC_y</th>\n",
       "      <th>PC_m</th>\n",
       "      <th>PC_d</th>\n",
       "      <th>PC_w</th>\n",
       "      <th>PC_ws</th>\n",
       "      <th>PC_ym</th>\n",
       "      <th>PC_md</th>\n",
       "      <th>출근</th>\n",
       "    </tr>\n",
       "  </thead>\n",
       "  <tbody>\n",
       "    <tr>\n",
       "      <th>0</th>\n",
       "      <td>2016-02-01</td>\n",
       "      <td>2601</td>\n",
       "      <td>50</td>\n",
       "      <td>150</td>\n",
       "      <td>238</td>\n",
       "      <td>0.0</td>\n",
       "      <td>쌀밥/잡곡밥 (쌀,현미흑미:국내산) 오징어찌개  쇠불고기 (쇠고기:호주산) 계란찜  청포묵무침  요구르트  포기김치 (배추,고추가루:국내산)</td>\n",
       "      <td>쌀밥/잡곡밥 (쌀,현미흑미:국내산) 육개장  자반고등어구이  두부조림  건파래무침  포기김치 (김치:국내산)</td>\n",
       "      <td>1039.0</td>\n",
       "      <td>331.0</td>\n",
       "      <td>0</td>\n",
       "      <td>2016</td>\n",
       "      <td>2</td>\n",
       "      <td>1</td>\n",
       "      <td>0</td>\n",
       "      <td>5</td>\n",
       "      <td>201602</td>\n",
       "      <td>201</td>\n",
       "      <td>2401</td>\n",
       "    </tr>\n",
       "    <tr>\n",
       "      <th>1</th>\n",
       "      <td>2016-02-02</td>\n",
       "      <td>2601</td>\n",
       "      <td>50</td>\n",
       "      <td>173</td>\n",
       "      <td>319</td>\n",
       "      <td>0.0</td>\n",
       "      <td>쌀밥/잡곡밥 (쌀,현미흑미:국내산) 김치찌개  가자미튀김  모둠소세지구이  마늘쫑무침  요구르트  배추겉절이 (배추,고추가루:국내산)</td>\n",
       "      <td>콩나물밥*양념장 (쌀,현미흑미:국내산) 어묵국  유산슬 (쇠고기:호주산) 아삭고추무침  바나나  포기김치 (배추,고추가루:국내산)</td>\n",
       "      <td>867.0</td>\n",
       "      <td>560.0</td>\n",
       "      <td>0</td>\n",
       "      <td>2016</td>\n",
       "      <td>2</td>\n",
       "      <td>2</td>\n",
       "      <td>1</td>\n",
       "      <td>5</td>\n",
       "      <td>201602</td>\n",
       "      <td>202</td>\n",
       "      <td>2378</td>\n",
       "    </tr>\n",
       "  </tbody>\n",
       "</table>\n",
       "</div>"
      ],
      "text/plain": [
       "          일자  본사정원수  본사휴가자수  본사출장자수  본사시간외근무명령서승인건수  현본사소속재택근무자수  \\\n",
       "0 2016-02-01   2601      50     150             238          0.0   \n",
       "1 2016-02-02   2601      50     173             319          0.0   \n",
       "\n",
       "                                                                              중식메뉴  \\\n",
       "0  쌀밥/잡곡밥 (쌀,현미흑미:국내산) 오징어찌개  쇠불고기 (쇠고기:호주산) 계란찜  청포묵무침  요구르트  포기김치 (배추,고추가루:국내산)    \n",
       "1      쌀밥/잡곡밥 (쌀,현미흑미:국내산) 김치찌개  가자미튀김  모둠소세지구이  마늘쫑무침  요구르트  배추겉절이 (배추,고추가루:국내산)    \n",
       "\n",
       "                                                                        석식메뉴  \\\n",
       "0              쌀밥/잡곡밥 (쌀,현미흑미:국내산) 육개장  자반고등어구이  두부조림  건파래무침  포기김치 (김치:국내산)    \n",
       "1  콩나물밥*양념장 (쌀,현미흑미:국내산) 어묵국  유산슬 (쇠고기:호주산) 아삭고추무침  바나나  포기김치 (배추,고추가루:국내산)    \n",
       "\n",
       "      중식계    석식계  자기개발의날여부  PC_y  PC_m  PC_d  PC_w  PC_ws   PC_ym  PC_md    출근  \n",
       "0  1039.0  331.0         0  2016     2     1     0      5  201602    201  2401  \n",
       "1   867.0  560.0         0  2016     2     2     1      5  201602    202  2378  "
      ]
     },
     "execution_count": 73,
     "metadata": {},
     "output_type": "execute_result"
    }
   ],
   "source": [
    "train_test['출근']    = train_test['본사정원수']-(train_test['본사휴가자수']+train_test['본사출장자수']+train_test['현본사소속재택근무자수']).astype('int')\n",
    "# train_test['출근비율'] = train_test['출근']/train_test['본사정원수']\n",
    "# train_test['휴가비율'] = train_test['본사휴가자수']/train_test['본사정원수']\n",
    "# train_test['출장비율'] = train_test['본사출장자수']/train_test['본사정원수']\n",
    "# train_test['야근비율'] = train_test['본사시간외근무명령서승인건수']/train_test['출근']\n",
    "# train_test['재택비율'] = train_test['현본사소속재택근무자수']/train_test['본사정원수']\n",
    "train_test.head(2)"
   ]
  },
  {
   "cell_type": "markdown",
   "id": "e6bef4c3-a614-4020-b54d-1a39b1cc1480",
   "metadata": {},
   "source": [
    "* <font color=red>백분위 비율.. 라운드.. 결과가 좋을까???"
   ]
  },
  {
   "cell_type": "markdown",
   "id": "98bce2b1-28d0-42a9-b226-36296631c9e4",
   "metadata": {
    "tags": []
   },
   "source": [
    "## 코로나발생 영향도 분석\n",
    "<pre> \n",
    "신종 코로나바이러스 국내 첫 확진자 발생 : 2020.01.20 13:38\n",
    "질병관리본부는 1월 19일 중국 우한시에서 입국한 중국 국적의 35세 여성(중국 우한시 거주)에 대해 신종 코로나바이러스 감염증 검사를 시행한 결과, 20일 오전 확진자로 확정됐다고 밝혔다.\n",
    "출처 : 의협신문(http://www.doctorsnews.co.kr)"
   ]
  },
  {
   "cell_type": "code",
   "execution_count": 74,
   "id": "84752a46-7fdd-47da-8153-724b3a09252d",
   "metadata": {},
   "outputs": [],
   "source": [
    "# train_test[train_test['일자']>'2020-01-20'].head"
   ]
  },
  {
   "cell_type": "code",
   "execution_count": 81,
   "id": "0f010618-dcca-43af-970b-0703520e9386",
   "metadata": {},
   "outputs": [
    {
     "name": "stdout",
     "output_type": "stream",
     "text": [
      "886532.0 467006.0\n",
      "186321.0 89430.0\n",
      "890.0923694779117 468.8815261044177\n",
      "891.4880382775119 427.89473684210526\n"
     ]
    },
    {
     "data": {
      "image/png": "[encoded data removed]",
      "text/plain": [
       "<Figure size 1440x1440 with 4 Axes>"
      ]
     },
     "metadata": {},
     "output_type": "display_data"
    }
   ],
   "source": [
    "p, axes = plt.subplots(4,1, figsize=(20,20))\n",
    "\n",
    "box = sns.boxplot(x='PC_ym',y='중식계', data = train_test.iloc[:train.shape[0]], ax=axes[0])\n",
    "axes[0].set_title('중식계')\n",
    "for item in box.get_xticklabels():\n",
    "    item.set_rotation(90)\n",
    "#----------------------------------------------------\n",
    "box = sns.boxplot(x='PC_ym',y='석식계', data = train_test.iloc[:train.shape[0]], ax=axes[1])\n",
    "axes[1].set_title('석식계')\n",
    "for item in box.get_xticklabels():\n",
    "    item.set_rotation(90)\n",
    "#----------------------------------------------------  \n",
    "# box = sns.boxplot(x='PC_ym',y='현본사소속재택근무자수', data = train_test.iloc[:train.shape[0]], ax=axes[2])\n",
    "# axes[2].set_title('현본사소속재택근무자수')\n",
    "# for item in box.get_xticklabels():\n",
    "#     item.set_rotation(90)\n",
    "#---------------------------------------------------- \n",
    "box = sns.barplot(x='PC_ym',y='현본사소속재택근무자수', data = train_test.iloc[:train.shape[0]], ax=axes[2])\n",
    "axes[2].set_title('현본사소속재택근무자수')\n",
    "for item in box.get_xticklabels():\n",
    "    item.set_rotation(90)\n",
    "#---------------------------------------------------- \n",
    "box = sns.barplot(x='PC_ym',y='본사정원수', data = train_test.iloc[:train.shape[0]], ax=axes[3])\n",
    "axes[3].set_title('본사정원수')\n",
    "for item in box.get_xticklabels():\n",
    "    item.set_rotation(90)\n",
    "\n",
    "#----------------------------------------------------     \n",
    "train_test['코로나발생'] = train_test['PC_ym'].apply(lambda x:  1 if x>=202003 else 0)\n",
    "print( train_test[train_test['코로나발생']==0]['중식계'].sum(), train_test[train_test['코로나발생']==0]['석식계'].sum() )\n",
    "print( train_test[train_test['코로나발생']==1]['중식계'].sum(), train_test[train_test['코로나발생']==1]['석식계'].sum() )\n",
    "print( train_test[train_test['코로나발생']==0]['중식계'].mean(), train_test[train_test['코로나발생']==0]['석식계'].mean() )\n",
    "print( train_test[train_test['코로나발생']==1]['중식계'].mean(), train_test[train_test['코로나발생']==1]['석식계'].mean() )"
   ]
  },
  {
   "cell_type": "code",
   "execution_count": 78,
   "id": "d99ef188-df57-42e8-9d4b-5a7a82db6684",
   "metadata": {},
   "outputs": [],
   "source": []
  },
  {
   "cell_type": "code",
   "execution_count": null,
   "id": "16bf6f35-5a79-41b1-aac0-99d2cc71f178",
   "metadata": {},
   "outputs": [],
   "source": [
    "temp = train_test.iloc[:train.shape[0]]\n",
    "temp = temp[temp['PC_ym']>201901]\n",
    "p, axes = plt.subplots(figsize=(20,6))\n",
    "box = sns.lineplot(x='PC_ym',y='출근', data = temp)\n",
    "box = sns.lineplot(x='PC_ym',y='중식계', data = temp)\n",
    "box = sns.lineplot(x='PC_ym',y='석식계', data = temp)\n",
    "for item in box.get_xticklabels():\n",
    "    item.set_rotation(90)"
   ]
  },
  {
   "cell_type": "code",
   "execution_count": null,
   "id": "2baff33f-d90a-44fa-b925-95ef5ce5101b",
   "metadata": {},
   "outputs": [],
   "source": [
    "print(train_test.iloc[:train.shape[0]].groupby(by=['코로나발생'])[['중식계','석식계']].mean())\n",
    "print(\"---\"*30)\n",
    "print(train_test.iloc[:train.shape[0]].groupby(by=['코로나발생'])[['중식계','석식계']].count())\n",
    "print(\"---\"*30)\n",
    "\n",
    "p, axes = plt.subplots(1,3, figsize=(20,3))\n",
    "sns.boxplot(x='코로나발생', y='중식계', data=train_test.iloc[:train.shape[0]], hue=\"코로나발생\", ax=axes[0])\n",
    "sns.boxplot(x='코로나발생', y='석식계', data=train_test.iloc[:train.shape[0]], hue=\"코로나발생\", ax=axes[1])\n",
    "sns.heatmap(train_test.iloc[:train.shape[0]][['코로나발생','중식계','석식계']].corr(), fmt=\".2f\", annot=True, cmap=\"Blues\", ax=axes[2])\n",
    "\n",
    "plt.show()\n"
   ]
  },
  {
   "cell_type": "markdown",
   "id": "00203c75-324e-4160-9542-f2c54ef347e4",
   "metadata": {},
   "source": [
    "* 코로나발생 여부는 중식계, 석식계에 영향력이 없다\n",
    "* 중식계, 석식계의와의 상관도도 높지않다.\n",
    "* <font color=red>코로나발생 : drop</font>"
   ]
  },
  {
   "cell_type": "markdown",
   "id": "58ea56c1-5d23-4110-95bf-f7a1de72cc11",
   "metadata": {},
   "source": [
    "### 코로나 발생 전/후 요일 별 중식계\n"
   ]
  },
  {
   "cell_type": "code",
   "execution_count": null,
   "id": "9d8063fe-718e-4997-ad69-99f9716156c8",
   "metadata": {},
   "outputs": [],
   "source": [
    "temp = train_test.iloc[:train.shape[0]]\n",
    "\n",
    "print(temp[temp['코로나발생']==0].groupby('PC_w')['중식계'].count())\n",
    "print(temp[temp['코로나발생']==1].groupby('PC_w')['중식계'].count())\n",
    "\n",
    "p, axes = plt.subplots(1,2, figsize=(20,3))\n",
    "# sns.barplot(x='PC_w', y='중식계', data=temp, hue='코로나발생', ax=axes[0])\n",
    "temp[temp['코로나발생']==0].groupby('PC_w')['중식계'].count().sort_index().plot(kind='bar', ax=axes[0])\n",
    "temp[temp['코로나발생']==1].groupby('PC_w')['중식계'].count().sort_index().plot(kind='bar', ax=axes[0])\n",
    "axes[0].set_title(\"중식계 요일별\")\n",
    "\n",
    "temp[temp['코로나발생']==0].groupby('PC_w')['석식계'].count().sort_index().plot(kind='bar', ax=axes[1])\n",
    "temp[temp['코로나발생']==1].groupby('PC_w')['석식계'].count().sort_index().plot(kind='bar', ax=axes[1])\n",
    "axes[1].set_title(\"석식계 요일별\")\n",
    "plt.show()"
   ]
  },
  {
   "cell_type": "markdown",
   "id": "aa5a232c-7d64-44c6-baf0-f83a1d477eaa",
   "metadata": {
    "tags": []
   },
   "source": [
    "## 공휴일 관련 영향도 분석"
   ]
  },
  {
   "cell_type": "markdown",
   "id": "65b21e16-282c-40be-9c2b-d1964150bdbb",
   "metadata": {},
   "source": [
    "### 캘린더 생성"
   ]
  },
  {
   "cell_type": "markdown",
   "id": "1fd898b5-80f3-4d74-bcfd-39e6c325c511",
   "metadata": {},
   "source": [
    "서비스 URL: http://apis.data.go.kr/B090041/openapi/service/SpcdeInfoService/{서비스오퍼레이션}\n",
    "<pre>\n",
    "서비스\t종류\t\t오퍼레이션명\n",
    "-----\t------\t--------------\n",
    "국경일 정보조회\tgetHoliDeInfo\t01: 국경일 (ex: 어린이날, 광복절, 개천절)\n",
    "공휴일 정보조회\tgetRestDeInfo\n",
    "기념일 정보조회\tgetAnniversaryInfo\t02: 기념일 (ex: 의병의 날, 정보보호의 날, 4/19 혁명 기념일)\n",
    "24절기 정보조회\tget24DivisionsInfo\t03: 24절기 (ex: 청명, 경칩, 하지)\n",
    "잡절   정보조회\tgetSundryDayInfo\t04: 잡절 (ex: 단오, 한식)\n",
    "</pre>"
   ]
  },
  {
   "cell_type": "code",
   "execution_count": null,
   "id": "1abf7094-a63d-42bd-a9e1-91f5229165ac",
   "metadata": {},
   "outputs": [],
   "source": [
    "# ! pip install BeautifulSoup4"
   ]
  },
  {
   "cell_type": "code",
   "execution_count": null,
   "id": "increasing-fourth",
   "metadata": {},
   "outputs": [],
   "source": [
    "import requests\n",
    "from urllib import parse\n",
    "import pandas as pd\n",
    "from bs4 import BeautifulSoup\n",
    "from datetime import datetime\n",
    "\n",
    "def get_holiday(syear=2016, eyear=2021 ) :\n",
    "    api_key_utf8 = \"pLlZwGigTf4euiGFUdQ7ktJfpWwXA5CiHJPPtfQgwx45SHhTgIiEjF4k72HaTqHiet8qB%2F0JYw1XYOUH%2FKlRSw%3D%3D\"\n",
    "    api_key_decode = parse.unquote(api_key_utf8)\n",
    "    operation_name_list =['getRestDeInfo'] #,'getHoliDeInfo getAnniversaryInfo','get24DivisionsInfo','getSundryDayInfo']\n",
    "    \n",
    "    item_list = []\n",
    "    for holiday_type in operation_name_list:\n",
    "        url = \"http://apis.data.go.kr/B090041/openapi/service/SpcdeInfoService/\" + holiday_type\n",
    "        for year in np.arange(syear, eyear+1) : \n",
    "            params = {\n",
    "                \"ServiceKey\": api_key_decode,\n",
    "                \"solYear\": year,\n",
    "                \"numOfRows\": 100\n",
    "            }\n",
    "\n",
    "            response = requests.get(url, params=params)\n",
    "            xml = BeautifulSoup(response.text, \"lxml\")\n",
    "            items = xml.find('items')\n",
    "            item_dict = {}\n",
    "            for item in items:\n",
    "                item_dict = {\n",
    "                    \"날짜\": datetime.strptime(item.find(\"locdate\").text.strip(), '%Y%m%d'),\n",
    "                    \"휴일여부\": item.find(\"isholiday\").text.strip(),\n",
    "                    \"종류\" : item.find(\"datekind\").text.strip(),\n",
    "                    \"이름\":  item.find(\"datename\").text.strip()\n",
    "                }\n",
    "                item_list.append(item_dict)\n",
    "            res_df = pd.DataFrame(item_list)\n",
    "            res_df = res_df.fillna('')\n",
    "            res_df['휴일여부'].replace('Y', 1, inplace=True)\n",
    "            res_df['휴일여부'].replace('N', 0, inplace=True)\n",
    "            res_df['휴일여부'].fillna(0)\n",
    "            res_df['휴일여부'] = res_df['휴일여부'].astype('int')\n",
    "            # res_df['휴일여부'] = res_df['일자'].apply(lambda x:  1 if x in list else 0)\n",
    "    return res_df\n"
   ]
  },
  {
   "cell_type": "markdown",
   "id": "00332151-56b5-48d1-b77a-884e11e6bb9c",
   "metadata": {},
   "source": [
    "#### min date ~ max date 날짜 전체 "
   ]
  },
  {
   "cell_type": "code",
   "execution_count": null,
   "id": "postal-conclusion",
   "metadata": {},
   "outputs": [],
   "source": [
    "start_date = pd.to_datetime(train_test['일자'].min())  #.year\n",
    "end_date = pd.to_datetime(train_test['일자'].max())   #.year\n",
    "print(start_date , end_date)\n",
    "dates = pd.date_range(start_date,end_date,freq='D') \n",
    "date_df = pd.DataFrame({'날짜':dates})\n",
    "print(date_df.shape)\n",
    "date_df.head()"
   ]
  },
  {
   "cell_type": "markdown",
   "id": "7f1d209a-77ba-4302-80ec-437d5cfa1b58",
   "metadata": {
    "tags": []
   },
   "source": [
    "#### min date ~ max date 날짜 사이의 공휴일"
   ]
  },
  {
   "cell_type": "code",
   "execution_count": null,
   "id": "c3f1d31a-9e16-4350-b7ad-24f09cbff056",
   "metadata": {},
   "outputs": [],
   "source": [
    "# ! pip install lxml"
   ]
  },
  {
   "cell_type": "code",
   "execution_count": null,
   "id": "silent-colon",
   "metadata": {},
   "outputs": [],
   "source": [
    "start_year = start_date.year  #df['일자'].min()).year\n",
    "end_year = end_date.year   #df['일자'].max()).year\n",
    "holiday_df = get_holiday(start_year,end_year)\n",
    "print(start_year, end_year, holiday_df.shape)\n",
    "holiday_df.head()"
   ]
  },
  {
   "cell_type": "markdown",
   "id": "87f26fc3-2a93-4a50-8bdb-3d2cb71c9cb3",
   "metadata": {},
   "source": [
    "#### 달력만들기 : 날짜 전체 , 공휴일 "
   ]
  },
  {
   "cell_type": "code",
   "execution_count": null,
   "id": "ca4802d3-aff8-4490-be1e-82a0e6788edb",
   "metadata": {},
   "outputs": [],
   "source": [
    "cal_df = pd.merge(date_df, holiday_df[holiday_df['종류']=='01'][['날짜','휴일여부']] , on='날짜', how='left')\n",
    "cal_df.fillna(0, inplace=True)\n",
    "cal_df['휴일여부'] = cal_df['휴일여부'].astype('int')\n",
    "print(cal_df.shape)\n",
    "cal_df.head()"
   ]
  },
  {
   "cell_type": "code",
   "execution_count": null,
   "id": "ae8208e4-612f-4009-9108-f39951942cb7",
   "metadata": {},
   "outputs": [],
   "source": [
    "cal_df['전일휴일'] = cal_df['휴일여부'].shift(1)\n",
    "cal_df['다음날휴일'] = cal_df['휴일여부'].shift(-1)\n",
    "cal_df = cal_df.fillna(0)\n",
    "cal_df['전일휴일']   = cal_df['전일휴일'].astype('int')\n",
    "cal_df['다음날휴일'] = cal_df['다음날휴일'].astype('int')\n",
    "cal_df.head(10)"
   ]
  },
  {
   "cell_type": "code",
   "execution_count": null,
   "id": "d8c02adc-2069-4c3e-89cc-e3244cb23754",
   "metadata": {},
   "outputs": [],
   "source": [
    "csum_holiday = 0\n",
    "cal_df[\"연속휴일수\"] = 0\n",
    "for i in np.arange(cal_df.shape[0]-1, 0, -1):\n",
    "    if cal_df.iloc[i]['휴일여부']==1:\n",
    "        csum_holiday +=1\n",
    "    else :\n",
    "        if cal_df.iloc[i]['다음날휴일']==1 :\n",
    "            cal_df.at[i,'연속휴일수'] = csum_holiday\n",
    "            csum_holiday = 0\n",
    "cal_df.at[cal_df.shape[0]-1,'연속휴일수'] = 2\n",
    "cal_df.head(12)"
   ]
  },
  {
   "cell_type": "code",
   "execution_count": null,
   "id": "opposite-reservation",
   "metadata": {},
   "outputs": [],
   "source": [
    "print(train_test.shape)\n",
    "train_test = pd.merge(train_test, cal_df , left_on='일자', right_on='날짜', how='left')\n",
    "print(train_test.shape)\n",
    "train_test.head(2)"
   ]
  },
  {
   "cell_type": "code",
   "execution_count": null,
   "id": "d8249481-f948-4af5-bf76-82ead480eeb0",
   "metadata": {},
   "outputs": [],
   "source": [
    "print(train_test['휴일여부'].value_counts())\n",
    "print(train_test['전일휴일'].value_counts())\n",
    "print(train_test['다음날휴일'].value_counts())\n",
    "print(train_test['코로나발생'].value_counts())"
   ]
  },
  {
   "cell_type": "markdown",
   "id": "9efdb4fe-b7a8-4757-9682-8e760e9cdfda",
   "metadata": {
    "tags": []
   },
   "source": [
    "### 연속휴일수 영향도 분석"
   ]
  },
  {
   "cell_type": "code",
   "execution_count": null,
   "id": "e753c318-1e9f-494d-9709-5fca6f1d2ff3",
   "metadata": {},
   "outputs": [],
   "source": [
    "train_test['연속휴일수'].value_counts()"
   ]
  },
  {
   "cell_type": "code",
   "execution_count": null,
   "id": "b8d31641-f6e0-4c8a-9d4f-a8a39da0f6aa",
   "metadata": {},
   "outputs": [],
   "source": [
    "train_test[train_test['연속휴일수']==2]"
   ]
  },
  {
   "cell_type": "code",
   "execution_count": null,
   "id": "f636fd93-8079-467a-a602-28718f8f1357",
   "metadata": {},
   "outputs": [],
   "source": [
    "print(train_test.iloc[:train.shape[0]].groupby(by=['연속휴일수'])[['중식계','석식계']].mean())\n",
    "print(\"---\"*30)\n",
    "print(train_test.iloc[:train.shape[0]].groupby(by=['연속휴일수'])[['중식계','석식계']].count())\n",
    "print(\"---\"*30)\n",
    "print(train_test.iloc[:train.shape[0]]['연속휴일수'].value_counts())\n",
    "print(\"---\"*30)\n",
    "print(train_test.iloc[train.shape[0]:]['연속휴일수'].value_counts())\n",
    "print(\"---\"*30)\n",
    "\n",
    "p, axes = plt.subplots(1,5, figsize=(20,3))\n",
    "sns.boxplot(x='연속휴일수', y='중식계', data=train_test.iloc[:train.shape[0]], ax=axes[0])\n",
    "sns.boxplot(x='연속휴일수', y='석식계', data=train_test.iloc[:train.shape[0]], ax=axes[1])\n",
    "sns.countplot(x='연속휴일수', data=train_test.iloc[:train.shape[0]], ax=axes[2])\n",
    "sns.countplot(x='연속휴일수', data=train_test.iloc[train.shape[0]:], ax=axes[3])\n",
    "sns.heatmap(train_test.iloc[:train.shape[0]][['연속휴일수','중식계','석식계']].corr(), fmt=\".2f\", annot=True, cmap=\"Blues\", ax=axes[4])\n",
    "plt.show()\n"
   ]
  },
  {
   "cell_type": "markdown",
   "id": "83de2eda-c60d-42c8-aa1a-a19e56d42f8e",
   "metadata": {},
   "source": [
    "*  <font color='red'>연속휴일수는 석식계에 큰 영향을 준다</font>\n",
    "* 그러나 train에는 [0,1,3,4]  test에는 [0,2,3] : 학습이 안된 값이 나올 수 있다. --> 예측저하\n",
    "* 중식, 석식과의 상관도는 높지않다.\n",
    "* <font color=red>연속휴일수 : drop</font>"
   ]
  },
  {
   "cell_type": "markdown",
   "id": "66f365bc-334d-48ee-a1f6-60fb96f84984",
   "metadata": {},
   "source": [
    "### 전일휴일 영향도 분석"
   ]
  },
  {
   "cell_type": "code",
   "execution_count": null,
   "id": "bdfdf3ef-4f21-40d6-88a4-8f2977ba3351",
   "metadata": {},
   "outputs": [],
   "source": [
    "print(train_test.iloc[:train.shape[0]].groupby(by=['전일휴일'])[['중식계','석식계']].mean())\n",
    "print(\"---\"*30)\n",
    "print(train_test.iloc[:train.shape[0]].groupby(by=['전일휴일'])[['중식계','석식계']].count())\n",
    "print(\"---\"*30)\n",
    "print(train_test.iloc[:train.shape[0]]['전일휴일'].value_counts())\n",
    "print(\"---\"*30)\n",
    "print(train_test.iloc[train.shape[0]:]['전일휴일'].value_counts())\n",
    "print(\"---\"*30)\n",
    "\n",
    "p, axes = plt.subplots(1,5, figsize=(20,3))\n",
    "sns.boxplot(x='전일휴일', y='중식계', data=train_test.iloc[:train.shape[0]], ax=axes[0])\n",
    "sns.boxplot(x='전일휴일', y='석식계', data=train_test.iloc[:train.shape[0]], ax=axes[1])\n",
    "sns.countplot(x='전일휴일', data=train_test.iloc[:train.shape[0]], ax=axes[2])\n",
    "sns.countplot(x='전일휴일', data=train_test.iloc[train.shape[0]:], ax=axes[3])\n",
    "sns.heatmap(train_test.iloc[:train.shape[0]][['전일휴일','중식계','석식계']].corr(), fmt=\".2f\", annot=True, cmap=\"Blues\", ax=axes[4])\n",
    "plt.show()\n"
   ]
  },
  {
   "cell_type": "markdown",
   "id": "3c71ce77-aa13-425e-b904-3e4eca2aa86b",
   "metadata": {},
   "source": [
    "*  <font color='red'>전일휴일은 중식계에 영향을 미친다.</font>"
   ]
  },
  {
   "cell_type": "markdown",
   "id": "414e491a-ade4-4b5b-a20b-1caf4006b369",
   "metadata": {},
   "source": [
    "### 다음날휴일 영향도 분석"
   ]
  },
  {
   "cell_type": "code",
   "execution_count": null,
   "id": "91b9723f-ec0f-48dc-90e1-7037efb6910c",
   "metadata": {},
   "outputs": [],
   "source": [
    "print(train_test.iloc[:train.shape[0]].groupby(by=['다음날휴일'])[['중식계','석식계']].mean())\n",
    "print(\"---\"*30)\n",
    "print(train_test.iloc[:train.shape[0]].groupby(by=['다음날휴일'])[['중식계','석식계']].count())\n",
    "print(\"---\"*30)\n",
    "print(train_test.iloc[:train.shape[0]]['다음날휴일'].value_counts())\n",
    "print(\"---\"*30)\n",
    "print(train_test.iloc[train.shape[0]:]['다음날휴일'].value_counts())\n",
    "print(\"---\"*30)\n",
    "\n",
    "p, axes = plt.subplots(1,5, figsize=(20,3))\n",
    "sns.boxplot(x='다음날휴일', y='중식계', data=train_test.iloc[:train.shape[0]], ax=axes[0])\n",
    "sns.boxplot(x='다음날휴일', y='석식계', data=train_test.iloc[:train.shape[0]], ax=axes[1])\n",
    "sns.countplot(x='다음날휴일', data=train_test.iloc[:train.shape[0]], ax=axes[2])\n",
    "sns.countplot(x='다음날휴일', data=train_test.iloc[train.shape[0]:], ax=axes[3])\n",
    "sns.heatmap(train_test.iloc[:train.shape[0]][['다음날휴일','중식계','석식계']].corr(), fmt=\".2f\", annot=True, cmap=\"Blues\", ax=axes[4])\n",
    "plt.show()"
   ]
  },
  {
   "cell_type": "markdown",
   "id": "15bbc2b2-8ccf-4caf-a984-2107f3f257d1",
   "metadata": {},
   "source": [
    "* <font color='red'>다음날휴일은 중식계에 영향을 미친다</font>\n",
    "* <font color='red'>다음날휴일은 석식계에 많은 영향을 미친다</font>"
   ]
  },
  {
   "cell_type": "markdown",
   "id": "b540d34f-a440-4678-bc7b-3d392fe90c70",
   "metadata": {},
   "source": [
    "## 자기개발의날 영향도 분석"
   ]
  },
  {
   "cell_type": "code",
   "execution_count": null,
   "id": "22800388-624e-47a7-aee0-a746e29a91ac",
   "metadata": {},
   "outputs": [],
   "source": [
    "print(train_test.iloc[:train.shape[0]].groupby(by=['자기개발의날여부'])[['중식계','석식계']].mean())\n",
    "print(\"---\"*30)\n",
    "print(train_test.iloc[:train.shape[0]].groupby(by=['자기개발의날여부'])[['중식계','석식계']].count())\n",
    "print(\"---\"*30)\n",
    "print(train_test.iloc[:train.shape[0]]['자기개발의날여부'].value_counts())\n",
    "print(\"---\"*30)\n",
    "print(train_test.iloc[train.shape[0]:]['자기개발의날여부'].value_counts())\n",
    "print(\"---\"*30)\n",
    "\n",
    "p, axes = plt.subplots(1,5, figsize=(20,3))\n",
    "sns.boxplot(x='자기개발의날여부', y='중식계', data=train_test.iloc[:train.shape[0]], ax=axes[0])\n",
    "sns.boxplot(x='자기개발의날여부', y='석식계', data=train_test.iloc[:train.shape[0]], ax=axes[1])\n",
    "sns.countplot(x='자기개발의날여부', data=train_test.iloc[:train.shape[0]], ax=axes[2])\n",
    "sns.countplot(x='자기개발의날여부', data=train_test.iloc[train.shape[0]:], ax=axes[3])\n",
    "sns.heatmap(train_test.iloc[:train.shape[0]][['자기개발의날여부','중식계','석식계']].corr(), fmt=\".2f\", annot=True, cmap=\"Blues\", ax=axes[4])\n",
    "plt.show()"
   ]
  },
  {
   "cell_type": "markdown",
   "id": "cf8a84d7-3776-4eae-9995-74d466949f5c",
   "metadata": {},
   "source": [
    "* <font color='red'>자기개발의날여부는 석식계에 <b>매우 큰</b> 영향을 준다</font>\n",
    "* 그러나 train에는 [0,1] <font color='red'>test에는 [0] : 학습할 필요가 없다</font>\n",
    "* 석식과의 상관도는 높다(-0.62)\n",
    "* <font color=red>자기개발의날 : drop</font>"
   ]
  },
  {
   "cell_type": "code",
   "execution_count": null,
   "id": "a7cd4a26-3f5a-459a-a235-8ad752cc340c",
   "metadata": {},
   "outputs": [],
   "source": [
    "train_test.info()"
   ]
  },
  {
   "cell_type": "markdown",
   "id": "dd754416-cf4d-4711-9ed2-f029fe0093ce",
   "metadata": {
    "tags": []
   },
   "source": [
    "## 중식메뉴/석식메뉴 카테고리화 "
   ]
  },
  {
   "cell_type": "markdown",
   "id": "a0d05906-6e37-4caf-b77a-905334e13e3d",
   "metadata": {},
   "source": [
    "### 정규화 처리\n",
    "<pre>\n",
    "정규표현식\n",
    "특정문자 제거            : str.replace(/\\-/g,'');\n",
    "앞의 공백 제거           : str.replace(/^\\s+/,'');\n",
    "뒤의 공백 제거          : str.replace(/\\s+$/,'');\n",
    "앞뒤 공백 제거          : str.replace(/^\\s+|\\s+$/g,'');\n",
    "문자열 내의 공백 제거  : str.replace(/\\s/g,'');\n",
    "개행 제거                : str.replace(/\\n/g,'');\n",
    "엔터 제거                : str.replace(/\\r/g,'');\n",
    "0 제거                   : str.replace(/[^(1-9)]/gi,\"\");"
   ]
  },
  {
   "cell_type": "code",
   "execution_count": null,
   "id": "ae66e550-e4f6-4cf6-bb7a-2cb870f681cc",
   "metadata": {},
   "outputs": [],
   "source": [
    "def reg_exclude_(text):\n",
    "    text = re.sub(r'/^\\s+|\\s+$/g', '', text.strip())#앞뒤 공백 제거\n",
    "    text = text.replace(r' /','/')  #앞뒤 공백 제거\n",
    "    text = text.replace(r'/ ','/')  #앞뒤 공백 제거\n",
    "\n",
    "    list = text.split()\n",
    "    relist = []\n",
    "    for item in list:\n",
    "        item = re.sub(r'\\([^)]*\\)', '', item.strip())               #(s) 제거\n",
    "        item = re.sub(r'\\/.+?$', '', item.strip())                  # /s 제거        \n",
    "        item = re.sub(r'[^)]*\\)', '', item.strip())                #s) 제거\n",
    "        item = re.sub(r'\\([^)]*', '', item.strip())                #(s 제거\n",
    "        item = re.sub(r'\\*[^)]*', '', item.strip())                #*s 제거\n",
    "        item = re.sub(r'\\&[^)]*', '', item.strip())                #&s 제거\n",
    "        item = re.sub(' +', ' ', item.strip())                     #공백,탭 제거\n",
    "        if len(item) > 0:\n",
    "            relist.append(item)\n",
    "    return ' '.join(relist)\n",
    "train_test['중식메뉴2'] = train_test['중식메뉴'].apply(lambda x: reg_exclude_(x))\n",
    "train_test['석식메뉴2'] = train_test['석식메뉴'].apply(lambda x: reg_exclude_(x))"
   ]
  },
  {
   "cell_type": "code",
   "execution_count": null,
   "id": "912bceff-d394-4d61-a3cc-ecfad9332091",
   "metadata": {},
   "outputs": [],
   "source": [
    "train_test[['중식메뉴','중식메뉴2']].head(3)"
   ]
  },
  {
   "cell_type": "code",
   "execution_count": null,
   "id": "cb27fc5d-59c2-451d-a640-94cce10f0efc",
   "metadata": {},
   "outputs": [],
   "source": [
    "lens = [len(row) for row in train_test['중식메뉴2'].str.split().tolist()]\n",
    "print(np.unique(lens))\n",
    "\n",
    "lens = [len(row) for row in train_test['석식메뉴2'].str.split().tolist()]\n",
    "print(np.unique(lens))"
   ]
  },
  {
   "cell_type": "code",
   "execution_count": null,
   "id": "2dcfb249-58de-4e80-8e20-45e14a9a3bac",
   "metadata": {},
   "outputs": [],
   "source": [
    "menu_lunch  = pd.DataFrame(train_test['중식메뉴2'].str.split().tolist(), columns=[\"m1\",\"m2\",\"m3\",\"m4\",\"m5\",\"m6\",\"m7\",\"m8\"])\n",
    "menu_dinner = pd.DataFrame(train_test['석식메뉴2'].str.split().tolist(), columns=[\"m1\",\"m2\",\"m3\",\"m4\",\"m5\",\"m6\",\"m7\",\"m8\"])\n",
    "print(menu_lunch.shape, menu_dinner.shape)\n",
    "menu_lunch.head()"
   ]
  },
  {
   "cell_type": "markdown",
   "id": "e9dd8b71-a0c3-4c50-a7b1-a10c1651f4e6",
   "metadata": {
    "tags": []
   },
   "source": [
    "### 메뉴 대략 통일\n",
    "* 밥:13 / 국:135 / 메인메뉴:201"
   ]
  },
  {
   "cell_type": "code",
   "execution_count": null,
   "id": "d1a77648-3c63-476c-a444-e3dabf5ec55a",
   "metadata": {
    "tags": []
   },
   "outputs": [],
   "source": [
    "# menu[~menu['m1'].str.contains('밥')]\n",
    "# df.replace(regex={r'^.라이스$': '카레라이스', ' 덮밥': '덮밥'})\n",
    "\n",
    "print(menu_lunch['m1'].str[-2:].value_counts().sort_index().shape)\n",
    "menu_lunch['m1'].str[-2:].value_counts().sort_index()"
   ]
  },
  {
   "cell_type": "code",
   "execution_count": null,
   "id": "197c54e5-fe15-4b87-9aba-4229a4ceebbf",
   "metadata": {},
   "outputs": [],
   "source": [
    "print(menu_lunch['m2'].str[-3:].value_counts().sort_index().shape)\n",
    "menu_lunch['m2'].str[-3:].value_counts().sort_index()"
   ]
  },
  {
   "cell_type": "code",
   "execution_count": null,
   "id": "3294f83d-f549-4a0d-89ac-7d01f429b8dc",
   "metadata": {},
   "outputs": [],
   "source": [
    "print(menu_lunch['m3'].str[-3:].value_counts().sort_index().shape)\n",
    "menu_lunch['m3'].str[-3:].value_counts().sort_index()"
   ]
  },
  {
   "cell_type": "code",
   "execution_count": null,
   "id": "427ec218-a5e4-4704-a832-08a94500e686",
   "metadata": {},
   "outputs": [],
   "source": [
    "from wordcloud import WordCloud"
   ]
  },
  {
   "cell_type": "code",
   "execution_count": null,
   "id": "e654a691-92de-40b1-a5fe-6bd37897b59d",
   "metadata": {},
   "outputs": [],
   "source": [
    "# p, axes = plt.subplots(1,3, figsize=(20,6))\n",
    "text = \" \".join(menu_lunch['m1'])\n",
    "wordcloud = WordCloud(max_font_size=100, font_path='C:\\\\Windows\\\\Fonts\\\\\\x7f\\x7f\\x7f\\x7fBOLD.TTF').generate(text)\n",
    "plt.imshow(wordcloud, interpolation='bilinear')\n",
    "plt.axis('off')"
   ]
  },
  {
   "cell_type": "code",
   "execution_count": null,
   "id": "c56422c5-fb9d-4199-9050-660e18cedb9b",
   "metadata": {},
   "outputs": [],
   "source": [
    "text = \" \".join(menu_lunch['m2'])\n",
    "wordcloud = WordCloud(max_font_size=100, font_path='C:\\\\Windows\\\\Fonts\\\\\\x7f\\x7f\\x7f\\x7fBOLD.TTF').generate(text)\n",
    "plt.imshow(wordcloud, interpolation='bilinear')\n",
    "plt.axis('off')"
   ]
  },
  {
   "cell_type": "code",
   "execution_count": null,
   "id": "a8448d40-d1e0-43a7-82e2-4410ee24467b",
   "metadata": {},
   "outputs": [],
   "source": [
    "text = \" \".join(menu_lunch['m3'])\n",
    "wordcloud = WordCloud(max_font_size=100, font_path='C:\\\\Windows\\\\Fonts\\\\\\x7f\\x7f\\x7f\\x7fBOLD.TTF').generate(text)\n",
    "plt.imshow(wordcloud, interpolation='bilinear')\n",
    "plt.axis('off')"
   ]
  },
  {
   "cell_type": "code",
   "execution_count": null,
   "id": "20e3934b-2710-4dbf-8858-687e816002cf",
   "metadata": {},
   "outputs": [],
   "source": [
    "menu_lunch_dinner = pd.DataFrame(columns=['ml_1','ml_2','ml_3','md_1','md_2','md_3'])\n",
    "menu_lunch_dinner['ml_1'] = menu_lunch['m1'].str[-2:].astype('category').cat.codes\n",
    "menu_lunch_dinner['ml_2'] = menu_lunch['m2'].str[-3:].astype('category').cat.codes\n",
    "menu_lunch_dinner['ml_3'] = menu_lunch['m3'].str[-3:].astype('category').cat.codes  \n",
    "\n",
    "menu_lunch_dinner['md_1'] = menu_dinner['m1'].str[-2:].astype('category').cat.codes\n",
    "menu_lunch_dinner['md_2'] = menu_dinner['m2'].str[-3:].astype('category').cat.codes\n",
    "menu_lunch_dinner['md_3'] = menu_dinner['m3'].str[-3:].astype('category').cat.codes      "
   ]
  },
  {
   "cell_type": "code",
   "execution_count": null,
   "id": "37d3fe78-4b62-492c-8cc2-e17574007698",
   "metadata": {},
   "outputs": [],
   "source": [
    "train_test = pd.concat([train_test, menu_lunch_dinner], axis=1)\n",
    "print(train_test.shape)\n",
    "train_test.info()"
   ]
  },
  {
   "cell_type": "markdown",
   "id": "5e3b0ec8-1b83-4ae2-ae18-7b42261d72d2",
   "metadata": {
    "tags": [],
    "toc-hr-collapsed": true
   },
   "source": [
    "## 식당 휴업\n",
    "* 2020년.06.15 ~ 2020.06.30\n",
    "<pre>\n",
    "['2018-09-27', '2018-09-28', '2018-10-01', '2018-10-02','2018-10-04', '2018-10-05', \n",
    " '2019-10-01', \n",
    " '2020-06-15','2020-06-16', '2020-06-17', '2020-06-18', '2020-06-19', '2020-06-22', '2020-06-23', '2020-06-24', '2020-06-25',\n",
    " '2020-06-26', '2020-06-29','2020-06-30', '2020-09-29','2020-12-28', '2020-12-29','2020-12-30', '2020-12-31']"
   ]
  },
  {
   "cell_type": "markdown",
   "id": "3a64b549-df17-4588-b69f-7963bc69cf80",
   "metadata": {
    "tags": []
   },
   "source": [
    "## 타켓피쳐 로그변환"
   ]
  },
  {
   "cell_type": "code",
   "execution_count": null,
   "id": "45f6edba-38f3-499f-a099-b4f411db8a88",
   "metadata": {},
   "outputs": [],
   "source": [
    "train_test.shape"
   ]
  },
  {
   "cell_type": "markdown",
   "id": "55d24800-7bae-4e3e-8262-42f45adcd520",
   "metadata": {},
   "source": [
    "### 중식계/석식계 이상치"
   ]
  },
  {
   "cell_type": "code",
   "execution_count": null,
   "id": "solar-torture",
   "metadata": {},
   "outputs": [],
   "source": [
    "temp = train_test.iloc[:train.shape[0]].copy()\n",
    "p, axes = plt.subplots(2,4, figsize=(20,10)) \n",
    "# 요일 월 년 월년 - 중식계 간 관계\n",
    "sns.boxplot(temp['PC_w'], temp['중식계'], ax=axes[0][0])\n",
    "sns.boxplot(temp['PC_m'], temp['중식계'], ax=axes[0][1])\n",
    "sns.boxplot(temp['PC_y'], temp['중식계'], ax=axes[0][2])\n",
    "sns.boxplot(temp['PC_ym'], temp['중식계'], ax=axes[0][3])\n",
    "\n",
    "# 요일 월 년 월년 - 석식계 간 관계\n",
    "sns.boxplot(temp['PC_w'], temp['석식계'], ax=axes[1][0])\n",
    "sns.boxplot(temp['PC_m'], temp['석식계'], ax=axes[1][1])\n",
    "sns.boxplot(temp['PC_y'], temp['석식계'], ax=axes[1][2])\n",
    "sns.boxplot(temp['PC_ym'], temp['석식계'], ax=axes[1][3])\n",
    "plt.show()\n"
   ]
  },
  {
   "cell_type": "markdown",
   "id": "ac09e6cc-69aa-43c7-aa83-985ad6b6c50f",
   "metadata": {},
   "source": [
    "<pre>\n",
    "* 석식계가 0인 날이 존재한다.\n",
    "   매달 - 화, 수, 금 요일 중 석식이 0이다\n",
    "   2020년 코로나 발병 이후 석식계가 0인날은 없다  \n",
    "* 코로나 발병(2020-02) 기준으로 변화\n",
    "   중식계가 늘었다\n",
    "   석식계가 줄었다\n",
    "* 이상치가 존재한다\n",
    "  중식계 > 1400   , 석식계=0 ,  석식계>800"
   ]
  },
  {
   "cell_type": "code",
   "execution_count": null,
   "id": "0c55ba4b-807d-4be2-b56c-2adb0cc45210",
   "metadata": {},
   "outputs": [],
   "source": [
    "p, axes = plt.subplots(1,2, figsize=(10,3))\n",
    "sns.distplot(train_test['중식계'], label=\"중식계\", ax=axes[0])\n",
    "sns.distplot(train_test['석식계'], label=\"석식계\", ax=axes[1])\n",
    "plt.show()"
   ]
  },
  {
   "cell_type": "code",
   "execution_count": null,
   "id": "1e62395e-284f-4564-8b63-3d66d48335d9",
   "metadata": {},
   "outputs": [],
   "source": [
    "train_test[['중식계','석식계']].describe()"
   ]
  },
  {
   "cell_type": "code",
   "execution_count": null,
   "id": "6e8cbcbe-59f4-465c-ad57-97af47e49509",
   "metadata": {},
   "outputs": [],
   "source": [
    "drop_row_idx = temp[(train_test['중식계']>=1400) | (train_test['석식계']>=800)].index\n",
    "print(drop_row_idx)\n",
    "temp[(train_test['중식계']>=1400) | (train_test['석식계']>=800)].shape[0]"
   ]
  },
  {
   "cell_type": "code",
   "execution_count": null,
   "id": "67ea833f-720f-43b4-8ec0-3c6437df9ee1",
   "metadata": {},
   "outputs": [],
   "source": [
    "print(train_test.shape)\n",
    "train_test = train_test.drop(drop_row_idx, axis=0)\n",
    "train_test.shape"
   ]
  },
  {
   "cell_type": "markdown",
   "id": "3bd74d3c-c8f4-4b31-9adf-146e10986a6d",
   "metadata": {},
   "source": [
    "#### 이상치 제거 후 "
   ]
  },
  {
   "cell_type": "code",
   "execution_count": null,
   "id": "e01d5ce1-ebe8-40ea-9567-cc7f2d69693d",
   "metadata": {},
   "outputs": [],
   "source": [
    "p, axes = plt.subplots(1,2, figsize=(10,3))\n",
    "sns.distplot(train_test['중식계'], label=\"중식계\", ax=axes[0])\n",
    "sns.distplot(train_test['석식계'], label=\"석식계\", ax=axes[1])\n",
    "plt.show()"
   ]
  },
  {
   "cell_type": "markdown",
   "id": "4901a239-d38a-4162-890c-632d07e866e6",
   "metadata": {},
   "source": [
    "* 조금 더 정규화됨\n",
    "<pre>\n",
    "제거 전 : 중식계\t\t석식계\n",
    "  mean\t890.334440\t461.772614\n",
    "   std\t209.505057\t139.179202\n",
    "제거 후 : 중식계\t\t석식계\n",
    "  mean\t888.311667\t460.475000\n",
    "   std\t207.529476\t137.788446\n",
    "   \n",
    "<font color=red>자기개발의 날은 test에는 없다\n",
    "즉, 석식계 0인날도 drop??????"
   ]
  },
  {
   "cell_type": "code",
   "execution_count": null,
   "id": "52daa083-14ba-4396-b9f8-2e058c7e4772",
   "metadata": {},
   "outputs": [],
   "source": [
    "train_test[['중식계','석식계']].describe()"
   ]
  },
  {
   "cell_type": "markdown",
   "id": "e1cb5d76-8f54-4b3f-a5ff-8978a5e25168",
   "metadata": {},
   "source": [
    "### 중식계/석식계 로그변환"
   ]
  },
  {
   "cell_type": "code",
   "execution_count": null,
   "id": "29783de1-ad5c-4de5-83ae-6e3dd6235550",
   "metadata": {},
   "outputs": [],
   "source": [
    "train_test['중식계2'] = np.log1p(train_test[\"중식계\"])\n",
    "train_test['석식계2'] = np.log1p(train_test[\"석식계\"])"
   ]
  },
  {
   "cell_type": "code",
   "execution_count": null,
   "id": "baa45e43-3f3c-466c-84ad-3d0c5e774f03",
   "metadata": {},
   "outputs": [],
   "source": [
    "p, axes = plt.subplots(1,2, figsize=(10,3))\n",
    "sns.distplot(train_test['중식계2'], label=\"중식계2\", ax=axes[0])\n",
    "sns.distplot(train_test['석식계2'], label=\"석식계2\", ax=axes[1])\n",
    "plt.show()"
   ]
  },
  {
   "cell_type": "markdown",
   "id": "15ff2764-cc5d-47ec-9cb2-d93ae053f7f8",
   "metadata": {},
   "source": [
    "* 로그 변환 후 정규화 안좋아짐, 왜도가 보임 --> 로그변환 drop"
   ]
  },
  {
   "cell_type": "code",
   "execution_count": null,
   "id": "d1c7718d-5494-45b9-a161-f92d6a240530",
   "metadata": {},
   "outputs": [],
   "source": [
    "train_test = train_test.drop(['중식계2','석식계2'], axis=1)"
   ]
  },
  {
   "cell_type": "code",
   "execution_count": null,
   "id": "c08b2e78-477f-487e-a422-208d6592f571",
   "metadata": {},
   "outputs": [],
   "source": [
    "train_test.shape"
   ]
  },
  {
   "cell_type": "markdown",
   "id": "2e853e32-d83b-4e9e-94d4-9774b9a198d6",
   "metadata": {
    "tags": []
   },
   "source": [
    "## 불필요한 컬럼 삭제\n",
    "<pre>\n",
    "  인덱스 : '일자', \n",
    "  삭제   : '본사정원수', '연속휴일수',  'PC_ym', 'PC_md',  'PC_ws','날짜', '휴일여부', '중식메뉴', '석식메뉴'\n",
    "           '중식메뉴2', '석식메뉴2'\t\n",
    "  공통   : '출근', '본사휴가자수', '본사출장자수', '본사시간외근무명령서승인건수', '현본사소속재택근무자수',\n",
    "           'PC_y', 'PC_m', 'PC_w',    ('PC_d', --by 허강호)\n",
    "           \n",
    "          '코로나발생' ????\n",
    "  중식계 : '전일휴일',       ('다음날휴일', )??\n",
    "  석식계 : '자기개발의날여부', '다음날휴일', \n",
    " \n",
    "  타겟   : '중식계', '석식계',"
   ]
  },
  {
   "cell_type": "code",
   "execution_count": null,
   "id": "b25b0a0c-5a34-4f84-bfbf-bb40491382ac",
   "metadata": {},
   "outputs": [],
   "source": [
    "# print(train_test.columns)\n",
    "#train_test = train_test.drop(['PC_ym','PC_md'], axis=1)"
   ]
  },
  {
   "cell_type": "code",
   "execution_count": null,
   "id": "7d9e4fd2-fbef-4f33-84d4-9ebda06408d8",
   "metadata": {},
   "outputs": [],
   "source": [
    "train_test = train_test.set_index('일자')\n",
    "train_test = train_test.drop(['본사정원수', '중식메뉴', '석식메뉴', '중식메뉴2', '석식메뉴2', '연속휴일수', 'PC_ym', 'PC_md', 'PC_ws', '날짜', '휴일여부'], axis=1)\n",
    "train_test.head()"
   ]
  },
  {
   "cell_type": "code",
   "execution_count": null,
   "id": "c4d2e760-077b-400d-82f3-e624d6e2bc48",
   "metadata": {},
   "outputs": [],
   "source": [
    "train_test.info()"
   ]
  },
  {
   "cell_type": "markdown",
   "id": "2e95c010-c4d1-4ec7-a076-8fb6219da8cf",
   "metadata": {
    "tags": []
   },
   "source": [
    "## 백업용 저장"
   ]
  },
  {
   "cell_type": "code",
   "execution_count": null,
   "id": "62cfc64f-ef34-4da5-a424-ba5f932073f0",
   "metadata": {},
   "outputs": [],
   "source": [
    "train_test.to_csv(\"가공완료_ver03.csv\", index=False)"
   ]
  },
  {
   "cell_type": "code",
   "execution_count": null,
   "id": "fa77b79d-0807-4c7b-853c-4bfb5701e056",
   "metadata": {},
   "outputs": [],
   "source": [
    "train_test.info()"
   ]
  },
  {
   "cell_type": "code",
   "execution_count": null,
   "id": "5f8412d9-6f29-4e96-ac75-edd431a89ff8",
   "metadata": {},
   "outputs": [],
   "source": [
    "train_test.isna().sum()"
   ]
  },
  {
   "cell_type": "markdown",
   "id": "73d4db13-e33f-4927-8a51-764deb9524e1",
   "metadata": {},
   "source": [
    "# 학습 & 평가 (1차)"
   ]
  },
  {
   "cell_type": "markdown",
   "id": "39dea5c5-bd7f-4a89-84aa-8a0b734a1f70",
   "metadata": {},
   "source": [
    "## train_test 분리\n",
    "<pre>\n",
    "* 중식계 데이터\n",
    "   train_lunch.shape,  test_lunch.shape, y_lunch.shape   : (1200, 14) (55, 14) (1200,)\n",
    "* 석식계 데이터\n",
    "   train_dinner.shape, test_dinner.shape, y_dinner.shape : (1200, 15) (55, 15) (1200,)"
   ]
  },
  {
   "cell_type": "code",
   "execution_count": null,
   "id": "b8fadcb6-c04d-43d0-956c-b2f6d1ca27ca",
   "metadata": {},
   "outputs": [],
   "source": [
    "train_test.shape[0], train_test['중식계'].notna().sum(), train_test['중식계'].isna().sum()"
   ]
  },
  {
   "cell_type": "code",
   "execution_count": null,
   "id": "67de783e-b82a-4a7c-8a2c-b3f5797f0afd",
   "metadata": {},
   "outputs": [],
   "source": [
    "train_size = train_test['중식계'].notna().sum()\n",
    "col_lunch = ['PC_y', 'PC_m', 'PC_d', 'PC_w', \n",
    "          '출근', '본사휴가자수', '본사출장자수', '본사시간외근무명령서승인건수', '현본사소속재택근무자수',\n",
    "          '코로나발생', '전일휴일', 'ml_1', 'ml_2', 'ml_3']                  #---- 중식계 주요 피쳐\n",
    "\n",
    "\n",
    "col_dinner = ['PC_y', 'PC_m', 'PC_d', 'PC_w', \n",
    "       '출근', '본사휴가자수', '본사출장자수', '본사시간외근무명령서승인건수', '현본사소속재택근무자수',\n",
    "        '코로나발생', '다음날휴일','자기개발의날여부','md_1', 'md_2', 'md_3']  #---- 석식계 주요 피쳐\n",
    "\n",
    "train_lunch = train_test[col_lunch].iloc[:train_size]\n",
    "test_lunch  = train_test[col_lunch].iloc[train_size:]\n",
    "y_lunch     = train_test.iloc[:train_size]['중식계']\n",
    "\n",
    "train_dinner = train_test[col_dinner].iloc[:train_size]\n",
    "test_dinner  = train_test[col_dinner].iloc[train_size:]\n",
    "y_dinner     = train_test.iloc[:train_size]['석식계']\n",
    "print(train_lunch.shape, test_lunch.shape, y_lunch.shape)\n",
    "print(train_dinner.shape, test_dinner.shape, y_dinner.shape)"
   ]
  },
  {
   "cell_type": "code",
   "execution_count": null,
   "id": "f90c4c87-f587-4afe-9c95-c08d4b561a06",
   "metadata": {},
   "outputs": [],
   "source": [
    "train_lunch.head(2)"
   ]
  },
  {
   "cell_type": "code",
   "execution_count": null,
   "id": "fc7aa44f-0967-45d8-8409-43d21e68d271",
   "metadata": {},
   "outputs": [],
   "source": [
    "y_lunch[:2]"
   ]
  },
  {
   "cell_type": "code",
   "execution_count": null,
   "id": "3949cc54-2519-49a1-a71f-17344775b599",
   "metadata": {},
   "outputs": [],
   "source": [
    "train_dinner.head(2)"
   ]
  },
  {
   "cell_type": "code",
   "execution_count": null,
   "id": "c6c9cd35-d844-4e1a-b0ec-d406fbcb424c",
   "metadata": {},
   "outputs": [],
   "source": [
    "y_dinner.head()"
   ]
  },
  {
   "cell_type": "code",
   "execution_count": null,
   "id": "15e6a968-0248-472e-8bd7-dbef4e3cd0fd",
   "metadata": {},
   "outputs": [],
   "source": []
  }
 ],
 "metadata": {
  "kernelspec": {
   "display_name": "Python 3 (ipykernel)",
   "language": "python",
   "name": "python3"
  },
  "language_info": {
   "codemirror_mode": {
    "name": "ipython",
    "version": 3
   },
   "file_extension": ".py",
   "mimetype": "text/x-python",
   "name": "python",
   "nbconvert_exporter": "python",
   "pygments_lexer": "ipython3",
   "version": "3.8.8"
  },
  "toc-autonumbering": true,
  "widgets": {
   "application/vnd.jupyter.widget-state+json": {
    "state": {},
    "version_major": 2,
    "version_minor": 0
   }
  }
 },
 "nbformat": 4,
 "nbformat_minor": 5
}
