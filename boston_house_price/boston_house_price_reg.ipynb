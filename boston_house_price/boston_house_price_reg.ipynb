{
 "cells": [
  {
   "cell_type": "markdown",
   "id": "8784defe-01ee-409e-86d7-029a6dfc048c",
   "metadata": {},
   "source": [
    "<img src='./logo.jpg'>"
   ]
  },
  {
   "cell_type": "markdown",
   "id": "a0132e06-c9af-41c0-a2ab-b2ab7bfc2a61",
   "metadata": {},
   "source": [
    "kaggle ref: https://www.kaggle.com/vikrishnan/boston-house-prices  \n",
    "sklearn ref: sklearn"
   ]
  },
  {
   "cell_type": "code",
   "execution_count": 2,
   "id": "19e7c216-ed23-404e-9484-1e9209f06c58",
   "metadata": {},
   "outputs": [],
   "source": [
    "# 분석\n",
    "import pandas as pd\n",
    "import numpy as np\n",
    "\n",
    "# 경고\n",
    "import warnings\n",
    "warnings.filterwarnings(action='ignore')\n",
    "\n",
    "# 날짜 가공\n",
    "import datetime as dt \n",
    "from dateutil.rrule import rrule, YEARLY, MONTHLY, WEEKLY\n",
    "\n",
    "# 데이터 시각화\n",
    "import matplotlib.pyplot as plt\n",
    "plt.rc('font', family='Gothic') # For Windows. PLOT에서 한글 처리 -> 플롯 만드는 창에 넣어야 됨.\n",
    "\n",
    "plt.rcParams['font.family']= 'Malgun Gothic'\n",
    "plt.rcParams['axes.unicode_minus'] = False # - 기호 안 깨지게\n",
    "plt.rcParams['font.size'] = 15\n",
    "# plt.figure(figsize=(12,4)) # plot 12:4 비율\n",
    "\n",
    "import seaborn as sns\n",
    "sns.set() # seaborn에서 회색 grid 깔아줌\n",
    "sns.set(rc={'figure.figsize':(18, 5)}) # 결과 plot 크기 키워줌"
   ]
  },
  {
   "cell_type": "code",
   "execution_count": 3,
   "id": "da1fb426-00c0-472a-bdf2-4b932e106438",
   "metadata": {},
   "outputs": [],
   "source": [
    "# 사이킷런\n",
    "from sklearn.model_selection import train_test_split\n",
    "\n",
    "# 사이킷런 분류\n",
    "# from sklearn.ensemble import RandomForestClassifier\n",
    "# from sklearn.linear_model import LogisticRegression\n",
    "# from sklearn.neighbors import KNeighborsClassifier\n",
    "# from sklearn.tree import DecisionTreeClassifier\n",
    "# from sklearn.svm import LinearSVC\n",
    "\n",
    "# 사이킷런 분류 점수\n",
    "# from sklearn.metrics import accuracy_score\n",
    "# from sklearn.metrics import classification_report, confusion_matrix, accuracy_score, precision_score, recall_score, f1_score\n",
    "# \t\t\t\t\t\t # ---> y_true, y_pred\n",
    "# from sklearn.metrics import precision_recall_curve # y_true, probas_pred\n",
    "# from sklearn.metrics import roc_auc_score, roc_curve # y_true, y_score\n",
    "\n",
    "# 분류 ensemble\n",
    "# import xgboost as xgb\n",
    "# from xgboost import plot_importance \n",
    "from xgboost import XGBClassifier\n",
    "import lightgbm as lgb\n",
    "from lightgbm import LGBMClassifier # lgb.쓰기 귀찮으니까 Classifier까지 import\n",
    "from sklearn.ensemble import VotingClassifier\n",
    "from sklearn.ensemble import BaggingClassifier"
   ]
  },
  {
   "cell_type": "code",
   "execution_count": 4,
   "id": "eaf2e971-1ab4-4b7e-8734-ccf434a84e35",
   "metadata": {},
   "outputs": [],
   "source": [
    "# 사이킷런 회귀\n",
    "from sklearn.linear_model import LinearRegression\n",
    "from sklearn.linear_model import Lasso, LassoCV\n",
    "from sklearn.linear_model import ElasticNet, ElasticNetCV\n",
    "from sklearn.linear_model import Ridge, RidgeCV\n",
    "\n",
    "from sklearn.svm import SVC #linear SVC는 classifier 성 / SVC는 분류말고 회귀에도 쓸 수 있다.\n",
    "\n",
    "from xgboost import XGBRegressor\n",
    "import lightgbm as lgb\n",
    "from lightgbm import LGBMRegressor\n",
    "\n",
    "# 사이킷런 회귀 점수\n",
    "from sklearn.metrics import mean_squared_error, mean_squared_log_error, mean_absolute_error, r2_score # squared=False로 하면 RMSE"
   ]
  },
  {
   "cell_type": "code",
   "execution_count": 5,
   "id": "b4b42491-75df-4675-b758-693c7feae79c",
   "metadata": {},
   "outputs": [],
   "source": [
    "# 사이킷런 스케일러\n",
    "from sklearn.preprocessing import StandardScaler, RobustScaler, MinMaxScaler\n",
    "\n",
    "# 사이킷런 학습 데이터 증강\n",
    "# StratifiedFold는 회귀에서는 X\n",
    "from sklearn.model_selection import cross_val_score, KFold, StratifiedKFold, GridSearchCV"
   ]
  },
  {
   "cell_type": "markdown",
   "id": "e2bd9032-54f1-48cb-883c-7681e5524d0e",
   "metadata": {},
   "source": [
    "# DataLoad"
   ]
  },
  {
   "cell_type": "code",
   "execution_count": 6,
   "id": "05f6bcdc-7b57-4d76-94fa-f36f43c6fb00",
   "metadata": {},
   "outputs": [],
   "source": [
    "data=pd.read_csv(\"./dataset/gg_boston.csv\")"
   ]
  },
  {
   "cell_type": "markdown",
   "id": "841cf9ca-fa8a-4c82-a1cd-e0ec510f81c5",
   "metadata": {},
   "source": [
    "* 유니크값 -> x\n",
    "* chas, rad -> int 처리\n",
    "* rm, age -> binning 가능\n",
    "* crim unique하긴 한데 바로 버리지 않아도 될듯 의미 있으니까 -> binning해도 될듯 하다 / 근데 회귀라 안 해도 될 수 있음 / 점수 봐가면서"
   ]
  },
  {
   "cell_type": "markdown",
   "id": "c77c173d-f99e-446f-bd8b-f85bb550a697",
   "metadata": {},
   "source": [
    "## 함수 준비"
   ]
  },
  {
   "cell_type": "code",
   "execution_count": 7,
   "id": "f24ce834-8cfa-4f0b-9d84-24108276ecb4",
   "metadata": {},
   "outputs": [],
   "source": [
    "def my_fit_score(data):\n",
    "    y=data['price']\n",
    "    X=data.drop('price', axis=1)\n",
    "    X_train, X_test, y_train, y_test=train_test_split(X,y,test_size=0.2,shuffle=True, random_state=1024)\n",
    "    model_list = [LinearRegression(),Lasso(),ElasticNet(),Ridge(),XGBRegressor(),LGBMRegressor()]\n",
    "    for model in model_list:\n",
    "        model.fit(X_train, y_train)\n",
    "        pred=model.predict(X_test)\n",
    "        mse=mean_squared_error(y_test,pred)\n",
    "        print(f\"{model.__class__.__name__}\\t\\tMSE: {mse:.4f}\")"
   ]
  },
  {
   "cell_type": "code",
   "execution_count": 8,
   "id": "c484018e-5f07-4612-b688-c2bca4db8e07",
   "metadata": {},
   "outputs": [],
   "source": [
    "# def my_fit_score(data):\n",
    "#     model_list = [LinearRegression(),Lasso(),ElasticNet(),Ridge(),XGBRegressor(),LGBMRegressor()]\n",
    "#     y = df[\"price\"]\n",
    "#     X = df.drop([\"price\"])\n",
    "#     X_train, X_test, y_train, y_test = train_test_split(X,y, test_size=0.2)\n",
    "#     model_list = [LinearRegression(),Lasso(),ElasticNet(),Ridge(),XGBRegressor(),LGBMRegressor()]\n",
    "#     for model in model_list:\n",
    "#         model.fit(X_train, y_train)\n",
    "#         pred = model.predict(X_test)\n",
    "#         myscore(y_test, pred)\n"
   ]
  },
  {
   "cell_type": "code",
   "execution_count": null,
   "id": "6044e257-de9d-4fc2-93ce-1683e78a13f8",
   "metadata": {},
   "outputs": [],
   "source": []
  },
  {
   "cell_type": "markdown",
   "id": "4f3a899e-be65-46ad-a7a8-a5948beceddf",
   "metadata": {},
   "source": [
    "# 1차 점수"
   ]
  },
  {
   "cell_type": "code",
   "execution_count": 9,
   "id": "4b0fe0f7-4307-4693-b30e-c80dba86b0ef",
   "metadata": {},
   "outputs": [
    {
     "name": "stdout",
     "output_type": "stream",
     "text": [
      "LinearRegression\t\tMSE: 0.1597\n",
      "Lasso\t\tMSE: 1.0315\n",
      "ElasticNet\t\tMSE: 0.6393\n",
      "Ridge\t\tMSE: 0.1600\n",
      "XGBRegressor\t\tMSE: 0.1202\n",
      "LGBMRegressor\t\tMSE: 0.1333\n"
     ]
    }
   ],
   "source": [
    "my_fit_score(data) # 0에 가까울수록 좋다!"
   ]
  },
  {
   "cell_type": "markdown",
   "id": "439aaa5b-7926-4f80-ae22-d090d1b50a4f",
   "metadata": {
    "tags": []
   },
   "source": [
    "# 연습: plot"
   ]
  },
  {
   "cell_type": "code",
   "execution_count": 10,
   "id": "fe823a53-452c-4450-9e8a-4ad1cacfe8cc",
   "metadata": {},
   "outputs": [
    {
     "data": {
      "text/plain": [
       "<AxesSubplot:>"
      ]
     },
     "execution_count": 10,
     "metadata": {},
     "output_type": "execute_result"
    },
    {
     "data": {
      "image/png": "[encoded data removed]",
      "text/plain": [
       "<Figure size 1296x360 with 2 Axes>"
      ]
     },
     "metadata": {},
     "output_type": "display_data"
    }
   ],
   "source": [
    "# bar charts: X축 1,2,3 Y축 4,5,6\n",
    "X=[1,2,3]\n",
    "Y=[4,5,6]\n",
    "f, axs = plt.subplots(1, 2)\n",
    "sns.barplot(x=X,y=Y, ax=axs[0])\n",
    "sns.barplot(x=X,y=Y, ax=axs[1])"
   ]
  },
  {
   "cell_type": "code",
   "execution_count": 11,
   "id": "5f61c818-f436-4b27-8d12-348d9fdfd774",
   "metadata": {},
   "outputs": [
    {
     "data": {
      "text/plain": [
       "<AxesSubplot:>"
      ]
     },
     "execution_count": 11,
     "metadata": {},
     "output_type": "execute_result"
    },
    {
     "data": {
      "image/png": "[encoded data removed]",
      "text/plain": [
       "<Figure size 1296x360 with 4 Axes>"
      ]
     },
     "metadata": {},
     "output_type": "display_data"
    }
   ],
   "source": [
    "# X=[1,1,1,1,1,1,1,2,2,2,2,2,3,3,3]\n",
    "# Y=[4,5,6,6,6,6,6,5,5,4,4]\n",
    "# Z=[2,5,8,8,6,5,3,3,5]\n",
    "# U=[3,2,3,5,6,4,3,3,4]\n",
    "X=[1,2,3]\n",
    "Y=[4,5,6]\n",
    "Z=[1,2,3]\n",
    "U=[4,5,6]\n",
    "f2, axs2 = plt.subplots(2, 2)\n",
    "sns.barplot(x=X,y=Y, ax=axs2[0,0])\n",
    "sns.barplot(x=Y,y=Z, ax=axs2[0,1])\n",
    "sns.barplot(x=Z,y=U, ax=axs2[1,0])\n",
    "sns.barplot(x=U,y=X, ax=axs2[1,1])"
   ]
  },
  {
   "cell_type": "code",
   "execution_count": 12,
   "id": "fbf0e04c-0667-4dea-82ce-76a21fd04a76",
   "metadata": {},
   "outputs": [],
   "source": [
    "# Y축 price , X축 모든 컬럼 boxplot 따로따로"
   ]
  },
  {
   "cell_type": "code",
   "execution_count": 13,
   "id": "79067b81-6125-4ef0-8e0c-c264673baa47",
   "metadata": {},
   "outputs": [],
   "source": [
    "# f, axs=plt.subplots(1, 13)\n",
    "# for i, col in enumerate(data.columns):\n",
    "    \n",
    "#     sns.boxplot(data=data, x=col, y=\"price\", ax=axs[i])\n",
    "    "
   ]
  },
  {
   "cell_type": "code",
   "execution_count": 14,
   "id": "f20b99a3-b43f-4422-acee-6e53a13d4109",
   "metadata": {},
   "outputs": [],
   "source": [
    "# f, axs=plt.subplots(3, 4, figsize=(20,30))\n",
    "# for i, col in enumerate(data.columns[0:4]):\n",
    "#     sns.boxplot(data=data, x=col, y=\"price\", ax=axs[0,i])\n",
    "# for i, col in enumerate(data.columns[4:8]):\n",
    "#     sns.boxplot(data=data, x=col, y=\"price\", ax=axs[1,i])\n",
    "# for i, col in enumerate(data.columns[8:12]):\n",
    "#     sns.boxplot(data=data, x=col, y=\"price\", ax=axs[2,i])\n",
    "\n",
    "    "
   ]
  },
  {
   "cell_type": "code",
   "execution_count": 15,
   "id": "2ce6c3bb-1fbc-4820-8ba5-fba05b871aed",
   "metadata": {},
   "outputs": [],
   "source": [
    "# f, axs=plt.subplots(3, 4)\n",
    "\n",
    "# for num, col in enumerate(data.columns[:-1]):\n",
    "#     i=num//4 # 행 : 번째를 열 개수로 나눈 몫\n",
    "#     j=num%4  # 열 : 번째를 열 개수로 나눈 나머지\n",
    "#     sns.boxplot(data=data, x=col, y=\"price\", ax=axs[i,j])"
   ]
  },
  {
   "cell_type": "markdown",
   "id": "b4cf198f-a92f-4bb6-af5a-996a9a212d91",
   "metadata": {},
   "source": [
    "# 규제\n",
    "* [Lasso vs Ridge ==> ElasticNet] :: 규제 방식 같다\n",
    "* XGBRegressor\n",
    "* LGBMRegressor"
   ]
  },
  {
   "cell_type": "markdown",
   "id": "846880f2-5d28-4a8f-a0bb-4803d257412d",
   "metadata": {},
   "source": [
    "<pre>\n",
    "<b><font color=red>\n",
    "class sklearn.linear_model.LinearRegression</b>(*,                    fit_intercept=True, normalize='deprecated',                   copy_X=True, n_jobs=None,                                 positive=False)\n",
    "<b><font color=red>\n",
    "# L1 규제\n",
    "class sklearn.linear_model.Lasso</b>(alpha=1.0, *,                    fit_intercept=True, normalize='deprecated', precompute=False, copy_X=True, max_iter=1000, tol=0.0001, warm_start=False, positive=False, random_state=None, selection='cyclic')\n",
    "<b><font color=red>\n",
    "# L2 규제\n",
    "class sklearn.linear_model.Ridge</b>(alpha=1.0, *,                    fit_intercept=True, normalize='deprecated',                   copy_X=True, max_iter=None, tol=0.001,     solver='auto', positive=False, random_state=None)\n",
    "<b><font color=red>\n",
    "# L1 규제(0.5), L2 규제(0.5) == l1_ratio=0.5\n",
    "class sklearn.linear_model.ElasticNet</b>(alpha=1.0, *, l1_ratio=0.5, fit_intercept=True, normalize='deprecated', precompute=False, copy_X=True, max_iter=1000, tol=0.0001, warm_start=False, positive=False, random_state=None, selection='cyclic')\n",
    "\n",
    "\n",
    "https://velog.io/@sset2323/05-08.-%ED%9A%8C%EA%B7%80-%ED%8A%B8%EB%A6%AC\n",
    "\n",
    "<b> <font color='red'>\n",
    "Scikit-Learn Wrapper interface for XGBoost.                      \n",
    "#---------------  :: feature_importances_, feature_name_,  evals_result(), intercept_, coef_ \n",
    "class xgboost.XGBRegressor(*, objective='reg:squarederror', **kwargs) </b>\n",
    "        max_depth: Optional[int] = None,\n",
    "        learning_rate: Optional[float] = None,                   #---------(3)None\n",
    "        n_estimators: int = 100,                                 #------------Default: 100\n",
    "        verbosity: Optional[int] = None,\n",
    "        objective: _SklObjective = None,                         #---------(2)목적함수/평가메트릭\n",
    "        booster: Optional[str] = None,                           #---------(1)gbtree, gblinear or dart.\n",
    "        tree_method: Optional[str] = None,\n",
    "        n_jobs: Optional[int] = None,\n",
    "        gamma: Optional[float] = None,\n",
    "        min_child_weight: Optional[float] = None,\n",
    "        max_delta_step: Optional[float] = None,\n",
    "        subsample: Optional[float] = None,\n",
    "        colsample_bytree: Optional[float] = None,\n",
    "        colsample_bylevel: Optional[float] = None,\n",
    "        colsample_bynode: Optional[float] = None,\n",
    "        reg_alpha: Optional[float] = None,                      #---------(4)L1 regularization\n",
    "        reg_lambda: Optional[float] = None,                     #---------(4)L2 regularization\n",
    "        scale_pos_weight: Optional[float] = None,               #---------Balancing of positive and negative weights.\n",
    "        base_score: Optional[float] = None,\n",
    "        random_state: Optional[Union[np.random.RandomState, int]] = None,  #---------------\n",
    "\n",
    "        missing: float = np.nan,\n",
    "        num_parallel_tree: Optional[int] = None,\n",
    "        monotone_constraints: Optional[Union[Dict[str, int], str]] = None,\n",
    "        interaction_constraints: Optional[Union[str, List[Tuple[str]]]] = None,    #---------(“gain”, “weight”, “cover”, “total_gain” , “total_cover”.)\n",
    "        importance_type: Optional[str] = None,                  #------For linear model, only “weight” (normalized coefficients without bias.)\n",
    "        gpu_id: Optional[int] = None,\n",
    "        validate_parameters: Optional[bool] = None,\n",
    "        predictor: Optional[str] = None,\n",
    "        enable_categorical: bool = False,\n",
    "        \n",
    "<b> <font color='red'>     \n",
    "Scikit-Learn Wrapper interface for LGBMRegressor.  \n",
    "#---------------  :: feature_importances_, feature_name_, evals_result_, best_score_\n",
    "class lightgbm.LGBMRegressor(*args, **kwargs)  </b>\n",
    "        boosting_type: str = 'gbdt',\n",
    "        num_leaves: int = 31,\n",
    "        max_depth: int = -1,\n",
    "        learning_rate: float = 0.1,                        #------------Default: 0.1 \n",
    "        n_estimators: int = 100,                           #------------Default: 100\n",
    "        subsample_for_bin: int = 200000,\n",
    "        objective: Optional[Union[str, Callable]] = None,  #------------Default: ‘regression’ \n",
    "        class_weight: Optional[Union[Dict, str]] = None,\n",
    "        min_split_gain: float = 0.,\n",
    "        min_child_weight: float = 1e-3,\n",
    "        min_child_samples: int = 20,\n",
    "        subsample: float = 1.,\n",
    "        subsample_freq: int = 0,\n",
    "        colsample_bytree: float = 1.,\n",
    "        reg_alpha: float = 0.,                            #---------L1 regularization\n",
    "        reg_lambda: float = 0.,                           #---------L2 regularization\n",
    "        random_state: Optional[Union[int, np.random.RandomState]] = None,\n",
    "        n_jobs: int = -1,\n",
    "        silent: Union[bool, str] = 'warn',\n",
    "        importance_type: str = 'split',                   #---------split/gain\n",
    "        "
   ]
  },
  {
   "cell_type": "markdown",
   "id": "de80993c-574e-4804-b7a0-c8515b243beb",
   "metadata": {},
   "source": [
    "## 회귀계수(학습에 가장 영향을 많이 준 피쳐)\n",
    "* 주의: fit 해야 확인 가능\n",
    "---\n",
    "* 회귀함수 == f(X)== WX+b X: feature, W: 가중치\n",
    "* coefficient(coef): 회귀계수==W(weight:가중치)==기울기\n",
    "* bias: 절편==intercept==편향\n",
    "---\n",
    "* [Linear Model] : `coef_`, `intercept_`\n",
    "* [Tree model]  : `coef_`, `intercept_`, `feature_importances_`"
   ]
  },
  {
   "cell_type": "code",
   "execution_count": 18,
   "id": "e0a0d432-be8d-4ae7-b293-cc01de30a6df",
   "metadata": {},
   "outputs": [
    {
     "data": {
      "image/png": "[encoded data removed]",
      "text/plain": [
       "<Figure size 648x288 with 4 Axes>"
      ]
     },
     "metadata": {},
     "output_type": "display_data"
    }
   ],
   "source": [
    "# 에러 ##########################################\n",
    "y=data['price']\n",
    "X=data.drop('price', axis=1)\n",
    "X_train, X_test, y_train, y_test=train_test_split(X,y,test_size=0.2,shuffle=True, random_state=1024)\n",
    "model_list = [LinearRegression(),Lasso(),ElasticNet(),Ridge()]\n",
    "f, axs = plt.subplots(1, 4, figsize=(9, 4))\n",
    "for i, model in enumerate(model_list):\n",
    "    model.fit(X_train, y_train)\n",
    "    # print(model.coef_)\n",
    "    # print(model.intercept_)\n",
    "    # sns.barplot(x=model.coef_,y=data.columns)\n",
    "    plt.title(model.__class__.__name__)\n",
    "    sns.barplot(y=X.columns, x=model.coef_, ax=axs[i])\n",
    "        \n",
    "        \n",
    "        \n",
    "# model_list = [XGBRegressor(),LGBMRegressor()] # 얘네는 트리 방식이라 따로 본다\n",
    "# for model in model_list:\n",
    "        "
   ]
  },
  {
   "cell_type": "code",
   "execution_count": null,
   "id": "1bdba4a0-ef2a-46c4-b3bb-cbe5eb11c282",
   "metadata": {},
   "outputs": [],
   "source": [
    "f, axs = plt.subplots(1, 2, figsize=(9, 4))\n",
    "X_train, X_test, y_train, y_test=train_test_split(X,y,test_size=0.2,shuffle=True, random_state=1024)\n",
    "model_list = [XGBRegressor(),LGBMRegressor()]\n",
    "for model in model_list:\n",
    "    model.fit(X_train, y_train)\n",
    "    print(model.feature_importances_)\n",
    "    axs[i].set_title(model.__class__.__name__)\n",
    "    sns.barplot(y=X.columns, x=model.feature_importances_, ax=axs[i])"
   ]
  },
  {
   "cell_type": "code",
   "execution_count": null,
   "id": "8afb73df-52b0-45c0-8b78-2391f8b3a719",
   "metadata": {},
   "outputs": [],
   "source": []
  },
  {
   "cell_type": "code",
   "execution_count": null,
   "id": "1fc81f04-78e7-4934-b861-ea4d504d3166",
   "metadata": {},
   "outputs": [],
   "source": []
  },
  {
   "cell_type": "code",
   "execution_count": null,
   "id": "4e58435e-d201-41c1-8705-de04198d590d",
   "metadata": {},
   "outputs": [],
   "source": []
  },
  {
   "cell_type": "code",
   "execution_count": null,
   "id": "7fa90c82-33bf-4842-abaa-5bc59f330866",
   "metadata": {},
   "outputs": [],
   "source": []
  },
  {
   "cell_type": "markdown",
   "id": "4e6fcfbf-c63e-4abb-b0cf-9a59946dd192",
   "metadata": {},
   "source": [
    "# [Lasso vs Ridge]"
   ]
  },
  {
   "cell_type": "markdown",
   "id": "4a4c4f30-279a-4386-90ad-2dda39276024",
   "metadata": {},
   "source": [
    "<img src=\"https://miro.medium.com/max/1100/1*-LydhQEDyg-4yy5hGEj5wA.png\" width=500>"
   ]
  },
  {
   "cell_type": "markdown",
   "id": "c75a513a-497d-4b35-b5be-7603598fc45e",
   "metadata": {},
   "source": [
    "* 회귀계수 (학습에 가장 영향 많이 준 feature 살핌)\n",
    "* 모델튜닝 : 규제 적용(L1, L2) -->(학습에 가장 영향 많이 준 feature 살핌)\n",
    "* 교차검증\n",
    "  -- 가공이 잘 된 (양질) 데이터를 좋은 모델(튜닝)로 교차검증(학습량 충분)"
   ]
  },
  {
   "cell_type": "markdown",
   "id": "47a188c5-cdef-4b93-a680-da8304d6b6ac",
   "metadata": {},
   "source": [
    "<pre>\n",
    "# L1 규제\n",
    "class sklearn.linear_model.Lasso(alpha=1.0, *,                    fit_intercept=True, normalize='deprecated', precompute=False, copy_X=True, max_iter=1000, tol=0.0001, warm_start=False, positive=False, random_state=None, selection='cyclic')\n",
    "\n",
    "# L2 규제\n",
    "class sklearn.linear_model.Ridge(alpha=1.0, *,                    fit_intercept=True, normalize='deprecated',                   copy_X=True, max_iter=None, tol=0.001,     solver='auto', positive=False, random_state=None)"
   ]
  },
  {
   "cell_type": "markdown",
   "id": "364b1455-01c3-437d-8a8f-bd4701b82dd1",
   "metadata": {},
   "source": [
    "Lasso 0.4 0.6 0.8 1.0 1.5 2.0까지 규제 달리하면서 살펴봐라"
   ]
  },
  {
   "cell_type": "markdown",
   "id": "4764c693-56b2-4f57-9735-6eaf0664eeab",
   "metadata": {},
   "source": [
    "## Lassso\n",
    "* alha 커지면 피쳐의 coef_값이 0이 된다\n",
    "* 일단(L1) 소(Lasso)주 한 잔 마시면 기억을 잃는다.(coef_ 가 0이 된다.)\n",
    "* 주요 피쳐만 가지고 학습한다.(쥬요하지 않은 피쳐는 학습에서 배제한다.) / 규제 대상에서 제외한다==제외된 애는 주요피쳐다\n",
    "* Lasso ->제1정규화 중요하지 않은 건 버린다."
   ]
  },
  {
   "cell_type": "code",
   "execution_count": null,
   "id": "4adf73d4-9379-4185-acb2-a8f52c5cc598",
   "metadata": {},
   "outputs": [],
   "source": [
    "# 라쏘는 규제 세질수록 coef이 0이 된다. / 주요 피쳐만 갖고 학습하겠다.\n",
    "\n",
    "# model = Lasso()\n",
    "# myparam = {'alpha':[0.4,0.6, 0.8, 1.0, 1.5, 2.0]}\n",
    "\n",
    "# gcv_model = GridSearchCV(model, param_grid=myparam, refit=True)\n",
    "# gcv_model.fit(X_train, y_train)\n",
    "# gcv_model.coef_\n",
    "\n",
    "\n",
    "f, axs=plt.subplots(1,6)\n",
    "alpha=[0.4,0.6, 0.8, 1.0, 1.5, 2.0]\n",
    "for i in range(0,6):\n",
    "    ls=Lasso(alpha=alpha[i])\n",
    "    ls.fit(X_train, y_train)\n",
    "    print(ls.coef_)\n",
    "\n",
    "    axs[i].set_title(f\"{ls.__class__.__name__}, {alpha[i]}\")\n",
    "    sns.barplot(y=X.columns, x=ls.coef_, ax=axs[i])\n",
    "\n",
    "# myparam = {'alpha':[0.4,0.6, 0.8, 1.0]}\n",
    "# from sklearn.model_selection import GridSearchCV\n",
    "# gcv_model = GridSearchCV(model, param_grid=myparam, refit=True, cv=5)\n",
    "# gcv_model.fit(X_train, y_train)\n",
    "\n",
    "\n",
    "\n",
    "\n",
    "\n"
   ]
  },
  {
   "cell_type": "markdown",
   "id": "04583f0d-1223-4c29-952a-18d8865cb389",
   "metadata": {},
   "source": [
    "## Rigge\n",
    "* alpha 가 커지면 피쳐의 coef_값이 0에 수렵된다==피쳐의 영향력을 최소화한다.(없애진 않는다.)\n",
    "* L2규제사용"
   ]
  },
  {
   "cell_type": "code",
   "execution_count": null,
   "id": "0d03453a-57c6-4cf1-a4d4-623f4b45c39d",
   "metadata": {},
   "outputs": [],
   "source": [
    "# ridge는 규제 세게 해도 coef가 0이 되는 건 아님\n",
    "\n",
    "f, axs=plt.subplots(1,6)\n",
    "alpha=[0.4,0.6, 0.8, 1.0, 1.5, 2.0]\n",
    "for i in range(0,6):\n",
    "    rg=Ridge(alpha=alpha[i])\n",
    "    rg.fit(X_train, y_train)\n",
    "    print(rg.coef_)\n",
    "\n",
    "    axs[i].set_title(f\"{rg.__class__.__name__}, {alpha[i]}\")\n",
    "    sns.barplot(y=X.columns, x=rg.coef_, ax=axs[i])\n",
    "\n",
    "# myparam = {'alpha':[0.4,0.6, 0.8, 1.0]}\n",
    "# from sklearn.model_selection import GridSearchCV\n",
    "# gcv_model = GridSearchCV(model, param_grid=myparam, refit=True, cv=5)\n",
    "# gcv_model.fit(X_train, y_train)\n"
   ]
  },
  {
   "cell_type": "code",
   "execution_count": null,
   "id": "35449a2a-d30d-4c33-854d-09a1ebdc4cf6",
   "metadata": {},
   "outputs": [],
   "source": [
    "# 강사님 코드에서 mse 계산한 거 가져오기"
   ]
  },
  {
   "cell_type": "code",
   "execution_count": null,
   "id": "6a9702ef-a843-400b-8d0d-08739cd5d1d0",
   "metadata": {},
   "outputs": [],
   "source": []
  }
 ],
 "metadata": {
  "kernelspec": {
   "display_name": "Python 3 (ipykernel)",
   "language": "python",
   "name": "python3"
  },
  "language_info": {
   "codemirror_mode": {
    "name": "ipython",
    "version": 3
   },
   "file_extension": ".py",
   "mimetype": "text/x-python",
   "name": "python",
   "nbconvert_exporter": "python",
   "pygments_lexer": "ipython3",
   "version": "3.8.8"
  },
  "toc-autonumbering": true
 },
 "nbformat": 4,
 "nbformat_minor": 5
}
