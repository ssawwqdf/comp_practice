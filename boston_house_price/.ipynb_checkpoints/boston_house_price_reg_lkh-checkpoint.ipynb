{
 "cells": [
  {
   "cell_type": "markdown",
   "id": "f62fd035-f576-4860-88a5-b13375b5ea84",
   "metadata": {},
   "source": [
    "<img src=\"logo.png\"><br>\n",
    "* ref : https://www.kaggle.com/vikrishnan/boston-house-prices"
   ]
  },
  {
   "cell_type": "code",
   "execution_count": 1,
   "id": "07d0d6eb-b044-4863-bb2f-91234bf629f1",
   "metadata": {},
   "outputs": [
    {
     "data": {
      "text/html": [
       "<style>.container{width:100% !important;}</style>"
      ],
      "text/plain": [
       "<IPython.core.display.HTML object>"
      ]
     },
     "metadata": {},
     "output_type": "display_data"
    }
   ],
   "source": [
    "import pandas as pd\n",
    "import numpy as np\n",
    "import matplotlib.pyplot as plt\n",
    "import seaborn as sns\n",
    "\n",
    "from sklearn.preprocessing import LabelEncoder, OneHotEncoder\n",
    "from sklearn.model_selection import train_test_split\n",
    "from sklearn.preprocessing import StandardScaler, RobustScaler, MinMaxScaler\n",
    "\n",
    "from sklearn.linear_model import LinearRegression\n",
    "from sklearn.linear_model import Lasso, LassoCV\n",
    "from sklearn.linear_model import ElasticNet, ElasticNetCV\n",
    "from sklearn.linear_model import Ridge, RidgeCV\n",
    "from xgboost import XGBRegressor\n",
    "from lightgbm import LGBMRegressor\n",
    "from sklearn.svm import SVC\n",
    "\n",
    "from sklearn.metrics import mean_squared_error, mean_squared_log_error, mean_absolute_error\n",
    "\n",
    "from sklearn.model_selection import cross_val_score, KFold, GridSearchCV\n",
    "\n",
    "import warnings\n",
    "warnings.filterwarnings(action='ignore')\n",
    "\n",
    "#-------------------- 차트 관련 속성 (한글처리, 그리드) -----------\n",
    "#plt.rc('font', family='NanumGothicOTF') # For MacOS\n",
    "plt.rcParams['font.family']= 'Malgun Gothic'\n",
    "plt.rcParams['axes.unicode_minus'] = False\n",
    "sns.set()\n",
    "\n",
    "#-------------------- 주피터 , 출력결과 넓이 늘리기 ---------------\n",
    "from IPython.core.display import display, HTML\n",
    "display(HTML(\"<style>.container{width:100% !important;}</style>\"))\n",
    "pd.set_option('display.max_rows', 100)\n",
    "pd.set_option('display.max_columns', 100)\n",
    "pd.set_option('max_colwidth', None)\n",
    "\n",
    "from sklearn.datasets import load_boston\n"
   ]
  },
  {
   "cell_type": "markdown",
   "id": "0706c44f-fb91-4a2b-92d9-76d8017be3c5",
   "metadata": {},
   "source": [
    "# Data Load"
   ]
  },
  {
   "cell_type": "markdown",
   "id": "4ad70022-6f2a-49f9-bdc7-6202d5328ae7",
   "metadata": {},
   "source": [
    "<pre>\n",
    "Attribute Information (in order):\n",
    "        - CRIM     : 범죄율\n",
    "        - ZN        :  거주지역 비율  - 25,000(평방) sq.ft. 초과 \n",
    "        - INDUS    : 상업지역 면적 비율\n",
    "        - CHAS     찰스강 인근 (1:인근 0:x)\n",
    "        - NOX      일산화질소 농도(parts per 10 million)\n",
    "        - RM       : 평균 룸 수\n",
    "        - AGE      : 1940년 이전에 건축된 주택 비율 \n",
    "        - DIS       : 직업센터와의 거리\n",
    "        - RAD      : 고속도로 진입과의 거리 \n",
    "        - TAX       : 제산세 (rate per $10,000)\n",
    "        - PTRATIO  : 교사/학생 비율\n",
    "        - B            : 흑인비율 1000(Bk - 0.63)^2 \n",
    "        - LSTAT     : 하위계층 비율 (%)\n",
    "        - price(MEDV)    :  집값\n",
    " "
   ]
  },
  {
   "cell_type": "code",
   "execution_count": 2,
   "id": "90f3490f-f594-466e-b898-7aabaead53d0",
   "metadata": {},
   "outputs": [
    {
     "data": {
      "text/html": [
       "<div>\n",
       "<style scoped>\n",
       "    .dataframe tbody tr th:only-of-type {\n",
       "        vertical-align: middle;\n",
       "    }\n",
       "\n",
       "    .dataframe tbody tr th {\n",
       "        vertical-align: top;\n",
       "    }\n",
       "\n",
       "    .dataframe thead th {\n",
       "        text-align: right;\n",
       "    }\n",
       "</style>\n",
       "<table border=\"1\" class=\"dataframe\">\n",
       "  <thead>\n",
       "    <tr style=\"text-align: right;\">\n",
       "      <th></th>\n",
       "      <th>crim</th>\n",
       "      <th>zn</th>\n",
       "      <th>indus</th>\n",
       "      <th>chas</th>\n",
       "      <th>nox</th>\n",
       "      <th>rm</th>\n",
       "      <th>age</th>\n",
       "      <th>dis</th>\n",
       "      <th>rad</th>\n",
       "      <th>tax</th>\n",
       "      <th>ptratio</th>\n",
       "      <th>b</th>\n",
       "      <th>lstat</th>\n",
       "      <th>price</th>\n",
       "    </tr>\n",
       "  </thead>\n",
       "  <tbody>\n",
       "    <tr>\n",
       "      <th>0</th>\n",
       "      <td>-0.609129</td>\n",
       "      <td>0.092792</td>\n",
       "      <td>-1.019125</td>\n",
       "      <td>-0.280976</td>\n",
       "      <td>0.258670</td>\n",
       "      <td>0.279135</td>\n",
       "      <td>0.162095</td>\n",
       "      <td>-0.167660</td>\n",
       "      <td>-2.105767</td>\n",
       "      <td>-0.235130</td>\n",
       "      <td>-1.136863</td>\n",
       "      <td>0.401318</td>\n",
       "      <td>-0.933659</td>\n",
       "      <td>0.039195</td>\n",
       "    </tr>\n",
       "    <tr>\n",
       "      <th>1</th>\n",
       "      <td>-0.575698</td>\n",
       "      <td>-0.598153</td>\n",
       "      <td>-0.225291</td>\n",
       "      <td>-0.280976</td>\n",
       "      <td>-0.423795</td>\n",
       "      <td>0.049252</td>\n",
       "      <td>0.648266</td>\n",
       "      <td>0.250975</td>\n",
       "      <td>-1.496334</td>\n",
       "      <td>-1.032339</td>\n",
       "      <td>-0.004175</td>\n",
       "      <td>0.401318</td>\n",
       "      <td>-0.219350</td>\n",
       "      <td>-0.305437</td>\n",
       "    </tr>\n",
       "    <tr>\n",
       "      <th>2</th>\n",
       "      <td>-0.575730</td>\n",
       "      <td>-0.598153</td>\n",
       "      <td>-0.225291</td>\n",
       "      <td>-0.280976</td>\n",
       "      <td>-0.423795</td>\n",
       "      <td>1.189708</td>\n",
       "      <td>0.016599</td>\n",
       "      <td>0.250975</td>\n",
       "      <td>-1.496334</td>\n",
       "      <td>-1.032339</td>\n",
       "      <td>-0.004175</td>\n",
       "      <td>0.298315</td>\n",
       "      <td>-1.096782</td>\n",
       "      <td>1.255770</td>\n",
       "    </tr>\n",
       "    <tr>\n",
       "      <th>3</th>\n",
       "      <td>-0.567639</td>\n",
       "      <td>-0.598153</td>\n",
       "      <td>-1.040806</td>\n",
       "      <td>-0.280976</td>\n",
       "      <td>-0.532594</td>\n",
       "      <td>0.910565</td>\n",
       "      <td>-0.526350</td>\n",
       "      <td>0.773661</td>\n",
       "      <td>-0.886900</td>\n",
       "      <td>-1.327601</td>\n",
       "      <td>0.403593</td>\n",
       "      <td>0.343869</td>\n",
       "      <td>-1.283945</td>\n",
       "      <td>1.129105</td>\n",
       "    </tr>\n",
       "    <tr>\n",
       "      <th>4</th>\n",
       "      <td>-0.509220</td>\n",
       "      <td>-0.598153</td>\n",
       "      <td>-1.040806</td>\n",
       "      <td>-0.280976</td>\n",
       "      <td>-0.532594</td>\n",
       "      <td>1.132984</td>\n",
       "      <td>-0.228261</td>\n",
       "      <td>0.773661</td>\n",
       "      <td>-0.886900</td>\n",
       "      <td>-1.327601</td>\n",
       "      <td>0.403593</td>\n",
       "      <td>0.401318</td>\n",
       "      <td>-0.873561</td>\n",
       "      <td>1.396313</td>\n",
       "    </tr>\n",
       "  </tbody>\n",
       "</table>\n",
       "</div>"
      ],
      "text/plain": [
       "       crim        zn     indus      chas       nox        rm       age  \\\n",
       "0 -0.609129  0.092792 -1.019125 -0.280976  0.258670  0.279135  0.162095   \n",
       "1 -0.575698 -0.598153 -0.225291 -0.280976 -0.423795  0.049252  0.648266   \n",
       "2 -0.575730 -0.598153 -0.225291 -0.280976 -0.423795  1.189708  0.016599   \n",
       "3 -0.567639 -0.598153 -1.040806 -0.280976 -0.532594  0.910565 -0.526350   \n",
       "4 -0.509220 -0.598153 -1.040806 -0.280976 -0.532594  1.132984 -0.228261   \n",
       "\n",
       "        dis       rad       tax   ptratio         b     lstat     price  \n",
       "0 -0.167660 -2.105767 -0.235130 -1.136863  0.401318 -0.933659  0.039195  \n",
       "1  0.250975 -1.496334 -1.032339 -0.004175  0.401318 -0.219350 -0.305437  \n",
       "2  0.250975 -1.496334 -1.032339 -0.004175  0.298315 -1.096782  1.255770  \n",
       "3  0.773661 -0.886900 -1.327601  0.403593  0.343869 -1.283945  1.129105  \n",
       "4  0.773661 -0.886900 -1.327601  0.403593  0.401318 -0.873561  1.396313  "
      ]
     },
     "execution_count": 2,
     "metadata": {},
     "output_type": "execute_result"
    }
   ],
   "source": [
    "df = pd.read_csv(\"./dataset/gg_boston.csv\")\n",
    "df.head()"
   ]
  },
  {
   "cell_type": "code",
   "execution_count": 3,
   "id": "468a14c9-7e3f-403f-8582-dfaa5953de16",
   "metadata": {},
   "outputs": [
    {
     "name": "stdout",
     "output_type": "stream",
     "text": [
      "(369, 14)\n",
      "<class 'pandas.core.frame.DataFrame'>\n",
      "RangeIndex: 369 entries, 0 to 368\n",
      "Data columns (total 14 columns):\n",
      " #   Column   Non-Null Count  Dtype  \n",
      "---  ------   --------------  -----  \n",
      " 0   crim     369 non-null    float64\n",
      " 1   zn       369 non-null    float64\n",
      " 2   indus    369 non-null    float64\n",
      " 3   chas     369 non-null    float64\n",
      " 4   nox      369 non-null    float64\n",
      " 5   rm       369 non-null    float64\n",
      " 6   age      369 non-null    float64\n",
      " 7   dis      369 non-null    float64\n",
      " 8   rad      369 non-null    float64\n",
      " 9   tax      369 non-null    float64\n",
      " 10  ptratio  369 non-null    float64\n",
      " 11  b        369 non-null    float64\n",
      " 12  lstat    369 non-null    float64\n",
      " 13  price    369 non-null    float64\n",
      "dtypes: float64(14)\n",
      "memory usage: 40.5 KB\n",
      "None\n"
     ]
    },
    {
     "data": {
      "text/html": [
       "<div>\n",
       "<style scoped>\n",
       "    .dataframe tbody tr th:only-of-type {\n",
       "        vertical-align: middle;\n",
       "    }\n",
       "\n",
       "    .dataframe tbody tr th {\n",
       "        vertical-align: top;\n",
       "    }\n",
       "\n",
       "    .dataframe thead th {\n",
       "        text-align: right;\n",
       "    }\n",
       "</style>\n",
       "<table border=\"1\" class=\"dataframe\">\n",
       "  <thead>\n",
       "    <tr style=\"text-align: right;\">\n",
       "      <th></th>\n",
       "      <th>crim</th>\n",
       "      <th>zn</th>\n",
       "      <th>indus</th>\n",
       "      <th>chas</th>\n",
       "      <th>nox</th>\n",
       "      <th>rm</th>\n",
       "      <th>age</th>\n",
       "      <th>dis</th>\n",
       "      <th>rad</th>\n",
       "      <th>tax</th>\n",
       "      <th>ptratio</th>\n",
       "      <th>b</th>\n",
       "      <th>lstat</th>\n",
       "      <th>price</th>\n",
       "    </tr>\n",
       "  </thead>\n",
       "  <tbody>\n",
       "    <tr>\n",
       "      <th>0</th>\n",
       "      <td>-0.609129</td>\n",
       "      <td>0.092792</td>\n",
       "      <td>-1.019125</td>\n",
       "      <td>-0.280976</td>\n",
       "      <td>0.258670</td>\n",
       "      <td>0.279135</td>\n",
       "      <td>0.162095</td>\n",
       "      <td>-0.167660</td>\n",
       "      <td>-2.105767</td>\n",
       "      <td>-0.235130</td>\n",
       "      <td>-1.136863</td>\n",
       "      <td>0.401318</td>\n",
       "      <td>-0.933659</td>\n",
       "      <td>0.039195</td>\n",
       "    </tr>\n",
       "    <tr>\n",
       "      <th>1</th>\n",
       "      <td>-0.575698</td>\n",
       "      <td>-0.598153</td>\n",
       "      <td>-0.225291</td>\n",
       "      <td>-0.280976</td>\n",
       "      <td>-0.423795</td>\n",
       "      <td>0.049252</td>\n",
       "      <td>0.648266</td>\n",
       "      <td>0.250975</td>\n",
       "      <td>-1.496334</td>\n",
       "      <td>-1.032339</td>\n",
       "      <td>-0.004175</td>\n",
       "      <td>0.401318</td>\n",
       "      <td>-0.219350</td>\n",
       "      <td>-0.305437</td>\n",
       "    </tr>\n",
       "    <tr>\n",
       "      <th>2</th>\n",
       "      <td>-0.575730</td>\n",
       "      <td>-0.598153</td>\n",
       "      <td>-0.225291</td>\n",
       "      <td>-0.280976</td>\n",
       "      <td>-0.423795</td>\n",
       "      <td>1.189708</td>\n",
       "      <td>0.016599</td>\n",
       "      <td>0.250975</td>\n",
       "      <td>-1.496334</td>\n",
       "      <td>-1.032339</td>\n",
       "      <td>-0.004175</td>\n",
       "      <td>0.298315</td>\n",
       "      <td>-1.096782</td>\n",
       "      <td>1.255770</td>\n",
       "    </tr>\n",
       "    <tr>\n",
       "      <th>3</th>\n",
       "      <td>-0.567639</td>\n",
       "      <td>-0.598153</td>\n",
       "      <td>-1.040806</td>\n",
       "      <td>-0.280976</td>\n",
       "      <td>-0.532594</td>\n",
       "      <td>0.910565</td>\n",
       "      <td>-0.526350</td>\n",
       "      <td>0.773661</td>\n",
       "      <td>-0.886900</td>\n",
       "      <td>-1.327601</td>\n",
       "      <td>0.403593</td>\n",
       "      <td>0.343869</td>\n",
       "      <td>-1.283945</td>\n",
       "      <td>1.129105</td>\n",
       "    </tr>\n",
       "    <tr>\n",
       "      <th>4</th>\n",
       "      <td>-0.509220</td>\n",
       "      <td>-0.598153</td>\n",
       "      <td>-1.040806</td>\n",
       "      <td>-0.280976</td>\n",
       "      <td>-0.532594</td>\n",
       "      <td>1.132984</td>\n",
       "      <td>-0.228261</td>\n",
       "      <td>0.773661</td>\n",
       "      <td>-0.886900</td>\n",
       "      <td>-1.327601</td>\n",
       "      <td>0.403593</td>\n",
       "      <td>0.401318</td>\n",
       "      <td>-0.873561</td>\n",
       "      <td>1.396313</td>\n",
       "    </tr>\n",
       "  </tbody>\n",
       "</table>\n",
       "</div>"
      ],
      "text/plain": [
       "       crim        zn     indus      chas       nox        rm       age  \\\n",
       "0 -0.609129  0.092792 -1.019125 -0.280976  0.258670  0.279135  0.162095   \n",
       "1 -0.575698 -0.598153 -0.225291 -0.280976 -0.423795  0.049252  0.648266   \n",
       "2 -0.575730 -0.598153 -0.225291 -0.280976 -0.423795  1.189708  0.016599   \n",
       "3 -0.567639 -0.598153 -1.040806 -0.280976 -0.532594  0.910565 -0.526350   \n",
       "4 -0.509220 -0.598153 -1.040806 -0.280976 -0.532594  1.132984 -0.228261   \n",
       "\n",
       "        dis       rad       tax   ptratio         b     lstat     price  \n",
       "0 -0.167660 -2.105767 -0.235130 -1.136863  0.401318 -0.933659  0.039195  \n",
       "1  0.250975 -1.496334 -1.032339 -0.004175  0.401318 -0.219350 -0.305437  \n",
       "2  0.250975 -1.496334 -1.032339 -0.004175  0.298315 -1.096782  1.255770  \n",
       "3  0.773661 -0.886900 -1.327601  0.403593  0.343869 -1.283945  1.129105  \n",
       "4  0.773661 -0.886900 -1.327601  0.403593  0.401318 -0.873561  1.396313  "
      ]
     },
     "execution_count": 3,
     "metadata": {},
     "output_type": "execute_result"
    }
   ],
   "source": [
    "print(df.shape)\n",
    "print(df.info())\n",
    "df.head()"
   ]
  },
  {
   "cell_type": "markdown",
   "id": "f84cce68-a30b-4394-a95a-deceace96365",
   "metadata": {
    "tags": []
   },
   "source": [
    "# 우선 점수부터 보자(1차)"
   ]
  },
  {
   "cell_type": "code",
   "execution_count": 4,
   "id": "a1a9b4dc-7034-4dec-ba91-1266356b8f4e",
   "metadata": {},
   "outputs": [],
   "source": [
    "def my_fit_score(df):\n",
    "    y = df[\"price\"]\n",
    "    X = df.drop([\"price\"], axis=1)\n",
    "    X_train, X_test, y_train, y_test = train_test_split(X,y, test_size=0.2, shuffle=True, random_state=1234)\n",
    "    model_list = [LinearRegression(),Lasso(),ElasticNet(),Ridge(),XGBRegressor(),LGBMRegressor()]\n",
    "    for model in model_list:\n",
    "        model.fit(X_train, y_train)\n",
    "        pred = model.predict(X_test)\n",
    "        mse = mean_squared_error(y_test, pred)\n",
    "        print(f\"MSE:{mse:.4f}  {model.__class__.__name__}\")"
   ]
  },
  {
   "cell_type": "code",
   "execution_count": 5,
   "id": "d423673f-0304-4ca0-bfef-b750cd88730d",
   "metadata": {},
   "outputs": [
    {
     "name": "stdout",
     "output_type": "stream",
     "text": [
      "MSE:0.1456  LinearRegression\n",
      "MSE:0.9962  Lasso\n",
      "MSE:0.5920  ElasticNet\n",
      "MSE:0.1456  Ridge\n",
      "MSE:0.1342  XGBRegressor\n",
      "MSE:0.1159  LGBMRegressor\n"
     ]
    }
   ],
   "source": [
    "my_fit_score(df)"
   ]
  },
  {
   "cell_type": "markdown",
   "id": "cff957a1-5760-4657-8daa-0d413d1f5603",
   "metadata": {},
   "source": [
    "# 연습  : plot\n",
    "* sns.barplot 2,2 차트 그리기"
   ]
  },
  {
   "cell_type": "code",
   "execution_count": 6,
   "id": "414e8869-0e7f-4a89-9e18-f99ca959983d",
   "metadata": {},
   "outputs": [
    {
     "data": {
      "image/png": "[encoded data removed]",
      "text/plain": [
       "<Figure size 576x216 with 4 Axes>"
      ]
     },
     "metadata": {},
     "output_type": "display_data"
    }
   ],
   "source": [
    "x=[1,2,3]\n",
    "y=[4,5,6]\n",
    "\n",
    "p, axes = plt.subplots(2,2, figsize=(8,3))\n",
    "sns.barplot(x=x, y=y, ax=axes[0][0])\n",
    "sns.barplot(x=x, y=y, ax=axes[0][1])\n",
    "sns.barplot(x=x, y=y, ax=axes[1][0])\n",
    "sns.barplot(x=x, y=y, ax=axes[1][1])\n",
    "plt.show()"
   ]
  },
  {
   "cell_type": "markdown",
   "id": "4c36ad14-0102-4099-b129-36d8c5dae1f3",
   "metadata": {},
   "source": [
    "* y축 = price   ,     x축=모든컬럼   sns.boxplot()"
   ]
  },
  {
   "cell_type": "code",
   "execution_count": 7,
   "id": "b4f54fd2-4883-4b62-9060-893ff38fa1e5",
   "metadata": {},
   "outputs": [],
   "source": [
    "# col_list = df.columns.tolist()\n",
    "# col_list = col_list[:-1]\n",
    "# print(len(col_list), col_list)\n",
    "\n",
    "# p, axes = plt.subplots(3, 4, figsize=(20,9))\n",
    "# for i, col in enumerate(col_list):\n",
    "#     jul = i//4\n",
    "#     can = i%4\n",
    "#     sns.boxplot(x=df[col] , y=df[\"price\"], ax=axes[jul][can])\n",
    "# plt.show()    \n",
    "    \n",
    "# # p, axes = plt.subplots(1, len(col_list), figsize=(20,20))\n",
    "# # for i, col in enumerate(col_list):\n",
    "# #     #sns.boxplot(data=df, x=col , y=\"price\", ax=axes[i])\n",
    "# #     sns.boxplot(x=df[col] , y=df[\"price\"], ax=axes[i])\n",
    "# # plt.show()    \n",
    "    \n"
   ]
  },
  {
   "cell_type": "markdown",
   "id": "9268da0f-7d30-4d06-8207-9f2c889ea4ca",
   "metadata": {},
   "source": [
    "# 규제\n",
    "* [Lasso vs Ridge]  == ElasticNet\n",
    "* XGBRegressor\n",
    "* LGBMRegressor"
   ]
  },
  {
   "cell_type": "markdown",
   "id": "a0416ced-3f16-4147-b015-22b39c95ea82",
   "metadata": {},
   "source": [
    "<pre>\n",
    "<b><font color=red>\n",
    "class sklearn.linear_model.LinearRegression</b>(*,                    fit_intercept=True, normalize='deprecated',                   copy_X=True, n_jobs=None,                                 positive=False)\n",
    "<b><font color=red>\n",
    "# L1 규제\n",
    "class sklearn.linear_model.Lasso</b>(alpha=1.0, *,                    fit_intercept=True, normalize='deprecated', precompute=False, copy_X=True, max_iter=1000, tol=0.0001, warm_start=False, positive=False, random_state=None, selection='cyclic')\n",
    "<b><font color=red>\n",
    "# L2 규제\n",
    "class sklearn.linear_model.Ridge</b>(alpha=1.0, *,                    fit_intercept=True, normalize='deprecated',                   copy_X=True, max_iter=None, tol=0.001,     solver='auto', positive=False, random_state=None)\n",
    "\n",
    "<b><font color=red>\n",
    "# L1 규제(50%) + L2 규제(50%) == l1_ratio=0.5\n",
    "class sklearn.linear_model.ElasticNet</b>(alpha=1.0, *, l1_ratio=0.5, fit_intercept=True, normalize='deprecated', precompute=False, copy_X=True, max_iter=1000, tol=0.0001, warm_start=False, positive=False, random_state=None, selection='cyclic')\n",
    "\n",
    "<b> <font color='red'>\n",
    "Scikit-Learn Wrapper interface for XGBoost.                      \n",
    "#---------------  :: feature_importances_, feature_name_,  evals_result(), intercept_, coef_ \n",
    "class xgboost.XGBRegressor(*, objective='reg:squarederror', **kwargs) </b>\n",
    "        max_depth: Optional[int] = None,\n",
    "        learning_rate: Optional[float] = None,                   #---------(3)None\n",
    "        n_estimators: int = 100,                                 #------------Default: 100\n",
    "        verbosity: Optional[int] = None,\n",
    "        objective: _SklObjective = None,                         #---------(2)목적함수/평가메트릭\n",
    "        booster: Optional[str] = None,                           #---------(1)gbtree, gblinear or dart.\n",
    "        tree_method: Optional[str] = None,\n",
    "        n_jobs: Optional[int] = None,\n",
    "        gamma: Optional[float] = None,\n",
    "        min_child_weight: Optional[float] = None,\n",
    "        max_delta_step: Optional[float] = None,\n",
    "        subsample: Optional[float] = None,\n",
    "        colsample_bytree: Optional[float] = None,\n",
    "        colsample_bylevel: Optional[float] = None,\n",
    "        colsample_bynode: Optional[float] = None,\n",
    "        reg_alpha: Optional[float] = None,                      #---------(4)L1 regularization\n",
    "        reg_lambda: Optional[float] = None,                     #---------(4)L2 regularization\n",
    "        scale_pos_weight: Optional[float] = None,               #---------Balancing of positive and negative weights.\n",
    "        base_score: Optional[float] = None,\n",
    "        random_state: Optional[Union[np.random.RandomState, int]] = None,  #---------------\n",
    "\n",
    "        missing: float = np.nan,\n",
    "        num_parallel_tree: Optional[int] = None,\n",
    "        monotone_constraints: Optional[Union[Dict[str, int], str]] = None,\n",
    "        interaction_constraints: Optional[Union[str, List[Tuple[str]]]] = None,    #---------(“gain”, “weight”, “cover”, “total_gain” , “total_cover”.)\n",
    "        importance_type: Optional[str] = None,                  #------For linear model, only “weight” (normalized coefficients without bias.)\n",
    "        gpu_id: Optional[int] = None,\n",
    "        validate_parameters: Optional[bool] = None,\n",
    "        predictor: Optional[str] = None,\n",
    "        enable_categorical: bool = False,\n",
    "        \n",
    "<b> <font color='red'>     \n",
    "Scikit-Learn Wrapper interface for LGBMRegressor.  \n",
    "#---------------  :: feature_importances_, feature_name_, evals_result_, best_score_\n",
    "class lightgbm.LGBMRegressor(*args, **kwargs)  </b>\n",
    "        boosting_type: str = 'gbdt',\n",
    "        num_leaves: int = 31,\n",
    "        max_depth: int = -1,\n",
    "        learning_rate: float = 0.1,                        #------------Default: 0.1 \n",
    "        n_estimators: int = 100,                           #------------Default: 100\n",
    "        subsample_for_bin: int = 200000,\n",
    "        objective: Optional[Union[str, Callable]] = None,  #------------Default: ‘regression’ \n",
    "        class_weight: Optional[Union[Dict, str]] = None,\n",
    "        min_split_gain: float = 0.,\n",
    "        min_child_weight: float = 1e-3,\n",
    "        min_child_samples: int = 20,\n",
    "        subsample: float = 1.,\n",
    "        subsample_freq: int = 0,\n",
    "        colsample_bytree: float = 1.,\n",
    "        reg_alpha: float = 0.,                            #---------L1 regularization\n",
    "        reg_lambda: float = 0.,                           #---------L2 regularization\n",
    "        random_state: Optional[Union[int, np.random.RandomState]] = None,\n",
    "        n_jobs: int = -1,\n",
    "        silent: Union[bool, str] = 'warn',\n",
    "        importance_type: str = 'split',                   #---------split/gain\n",
    "        "
   ]
  },
  {
   "cell_type": "markdown",
   "id": "d6faaf0b-2365-4af7-828a-bce0f1d39060",
   "metadata": {
    "tags": []
   },
   "source": [
    "## 회귀계수 (학습에 가장 영향을 많이 준 피쳐)\n",
    "* fit() 이후에 사용\n",
    "------------------------------------------------------------------\n",
    "* 회귀함수 ==  f(X)= wX + b(0)\n",
    "* (coefficient:계수) coef_(회귀계수) == W(weight:가중치) == 기울기\n",
    "* bias  == intercept == 절편 == 편향\n",
    "------------------------------------------------------------------\n",
    "* Linear Model : coef_, intercept_\n",
    "* Tree   Model : coef_, intercept_ , feature_importances_"
   ]
  },
  {
   "cell_type": "code",
   "execution_count": 8,
   "id": "42788b05-8974-4c44-8c14-e76866a9e1f1",
   "metadata": {},
   "outputs": [
    {
     "data": {
      "image/png": "[encoded data removed]",
      "text/plain": [
       "<Figure size 1152x216 with 4 Axes>"
      ]
     },
     "metadata": {},
     "output_type": "display_data"
    }
   ],
   "source": [
    "\n",
    "p, axes = plt.subplots(1,4, figsize=(16,3))\n",
    "\n",
    "y = df[\"price\"]\n",
    "X = df.drop([\"price\"], axis=1)\n",
    "X_train, X_test, y_train, y_test = train_test_split(X,y, test_size=0.2, shuffle=True, random_state=1234)\n",
    "model_list = [LinearRegression(),Lasso(),ElasticNet(),Ridge()]\n",
    "for i, model in enumerate(model_list):\n",
    "    model.fit(X_train, y_train)\n",
    "    # print(X.columns)\n",
    "    # print(model.coef_)\n",
    "    # print(model.intercept_)\n",
    "    axes[i].set_title(model.__class__.__name__)\n",
    "    sns.barplot(y=X.columns, x=model.coef_, ax=axes[i])"
   ]
  },
  {
   "cell_type": "code",
   "execution_count": 9,
   "id": "2e21256e-3771-47f8-ba97-dac224289566",
   "metadata": {},
   "outputs": [
    {
     "data": {
      "image/png": "[encoded data removed]",
      "text/plain": [
       "<Figure size 1152x216 with 2 Axes>"
      ]
     },
     "metadata": {},
     "output_type": "display_data"
    }
   ],
   "source": [
    "p, axes = plt.subplots(1,2, figsize=(16,3))\n",
    "model_list = [XGBRegressor(),LGBMRegressor()]      \n",
    "for i, model in enumerate(model_list):\n",
    "    model.fit(X_train, y_train)\n",
    "    #print(model.feature_importances_)\n",
    "    axes[i].set_title(model.__class__.__name__)\n",
    "    sns.barplot(y=X.columns, x=model.feature_importances_, ax=axes[i])\n",
    "            \n",
    "        "
   ]
  },
  {
   "cell_type": "markdown",
   "id": "3c08f38c-5992-453d-a702-bae011f2ccf6",
   "metadata": {},
   "source": [
    "# [Lasso vs Ridge] 규제"
   ]
  },
  {
   "cell_type": "markdown",
   "id": "fac812eb-bf01-4126-8835-d1acccfa0d12",
   "metadata": {},
   "source": [
    "* 회귀계수 (학습에 가장 영향을 많이 준 피쳐)\n",
    "* 모델튜닝 : 규제L1, L2 --> (학습에 가장 영향을 많이 준 피쳐)\n",
    "* 교차검증 \n",
    "-- 가공이잘된(양질)  좋은모델(튜닝) 교차검증(학습량충분)"
   ]
  },
  {
   "cell_type": "markdown",
   "id": "d71b02a8-80b5-4c5c-94ba-50c6fe3d61b6",
   "metadata": {},
   "source": [
    "<pre>\n",
    "# L1 규제\n",
    "class sklearn.linear_model.Lasso(alpha=1.0, *,                    fit_intercept=True, normalize='deprecated', precompute=False, copy_X=True, max_iter=1000, tol=0.0001, warm_start=False, positive=False, random_state=None, selection='cyclic')\n",
    "\n",
    "# L2 규제\n",
    "class sklearn.linear_model.Ridge(alpha=1.0, *,                    fit_intercept=True, normalize='deprecated',                   copy_X=True, max_iter=None, tol=0.001,     solver='auto', positive=False, random_state=None)\n"
   ]
  },
  {
   "cell_type": "markdown",
   "id": "d4bf769b-d3d3-4f4a-9039-460038de0701",
   "metadata": {},
   "source": [
    "<img src=\"https://miro.medium.com/max/1100/1*-LydhQEDyg-4yy5hGEj5wA.png\" width=400>"
   ]
  },
  {
   "cell_type": "markdown",
   "id": "33cffaea-9d99-488a-9bf1-bde33184f785",
   "metadata": {},
   "source": [
    "## Lasso  alpha= [0.4 0.6 0.8 1.0 1.5 2.0] 변화에 따른 coef_값 변화\n"
   ]
  },
  {
   "cell_type": "markdown",
   "id": "1adec08c-a979-4326-a97e-c9ed38516326",
   "metadata": {},
   "source": [
    "### Lasso\n",
    "* alpha가 커지면 피쳐의 coef_값이 0이 된다\n",
    "\n",
    "* L1 Lasso(쏘)주한잔 마시면 기억을 잃는다(규제 대상에서 제외한다 == 주요피쳐)\n",
    "* 주요하지 않는 피쳐는 학습에서 배제한다"
   ]
  },
  {
   "cell_type": "code",
   "execution_count": 10,
   "id": "19ee5ed5-5104-42ab-a039-c7ad687108bb",
   "metadata": {},
   "outputs": [
    {
     "data": {
      "image/png": "[encoded data removed]",
      "text/plain": [
       "<Figure size 1152x216 with 6 Axes>"
      ]
     },
     "metadata": {},
     "output_type": "display_data"
    }
   ],
   "source": [
    "p, axes = plt.subplots(1,6, figsize=(16,3))\n",
    "alpha_list= [0.4, 0.6, 0.8, 1.0, 1.5, 2.0]\n",
    "for i in range(0,6):\n",
    "    model = Lasso(alpha=alpha_list[i])\n",
    "    model.fit(X_train, y_train)\n",
    "    # print(model.coef_)\n",
    "    axes[i].set_title(f\"{model.__class__.__name__}, {alpha_list[i]}\")\n",
    "    sns.barplot(y=X.columns, x=model.coef_, ax=axes[i])\n",
    "\n",
    "# myparam = {'alpha' : [0.4 0.6 0.8 1.0 1.5 2.0] }\n",
    "# gcv = GridSearchCV(Lasso(), cv=5, param_gird=myparm, refit=True)\n",
    "# gcv.fit()\n",
    "\n"
   ]
  },
  {
   "cell_type": "code",
   "execution_count": 11,
   "id": "87cf38a5-73dd-4327-b5ba-226e5f8fbf02",
   "metadata": {},
   "outputs": [
    {
     "name": "stdout",
     "output_type": "stream",
     "text": [
      "0.9962480553015514\n"
     ]
    }
   ],
   "source": [
    "df = pd.read_csv(\"./dataset/gg_boston.csv\")\n",
    "y = df[\"price\"]\n",
    "X = df.drop([\"price\"], axis=1)\n",
    "X_train, X_test, y_train, y_test = train_test_split(X,y, test_size=0.2, shuffle=True, random_state=1234)\n",
    "\n",
    "model = Lasso()\n",
    "model.fit(X_train, y_train)\n",
    "pred = model.predict(X_test)\n",
    "mse = mean_squared_error(y_test, pred)\n",
    "print(mse)"
   ]
  },
  {
   "cell_type": "code",
   "execution_count": 12,
   "id": "845c5afc-abc2-488f-9406-e977343c45c9",
   "metadata": {},
   "outputs": [
    {
     "name": "stdout",
     "output_type": "stream",
     "text": [
      "0.35507828467356145\n"
     ]
    }
   ],
   "source": [
    "df = pd.read_csv(\"./dataset/gg_boston.csv\")\n",
    "y = df[\"price\"]\n",
    "X = df.drop([\"price\"], axis=1)\n",
    "X_train, X_test, y_train, y_test = train_test_split(X,y, test_size=0.2, shuffle=True, random_state=1234)\n",
    "\n",
    "model = Lasso(alpha=0.4)\n",
    "model.fit(X_train, y_train)\n",
    "pred = model.predict(X_test)\n",
    "mse = mean_squared_error(y_test, pred)\n",
    "print(mse)"
   ]
  },
  {
   "cell_type": "code",
   "execution_count": null,
   "id": "a4b00c02-c9a9-465f-b4e5-e4743dd64bec",
   "metadata": {},
   "outputs": [],
   "source": []
  },
  {
   "cell_type": "markdown",
   "id": "2fc7cd68-4171-4775-9547-5eb579c2b0dd",
   "metadata": {
    "tags": []
   },
   "source": [
    "### Ridge\n",
    "* alpha가 커지면 피쳐의 coef_값이 0에 수렴된다 == 피쳐의 영향력을 최소화한다\n",
    "* L2규제 사용"
   ]
  },
  {
   "cell_type": "code",
   "execution_count": 13,
   "id": "57949118-2686-4646-bf56-86f327669e8e",
   "metadata": {},
   "outputs": [
    {
     "name": "stdout",
     "output_type": "stream",
     "text": [
      "[ 0.04565875  0.08116049  0.02048207  0.03403536 -0.14298224  0.57207591\n",
      " -0.15614431 -0.29179548  0.07797094 -0.12227253 -0.19346949  0.09033781\n",
      " -0.2042267 ]\n",
      "[ 0.04528571  0.08111087  0.02028406  0.03408123 -0.1423367   0.57144224\n",
      " -0.15567542 -0.29112715  0.07789587 -0.12220623 -0.19346534  0.09023869\n",
      " -0.20466253]\n",
      "[ 0.0449159   0.08106145  0.02008694  0.0341267  -0.14169688  0.57081174\n",
      " -0.15520988 -0.29046311  0.07782106 -0.1221399  -0.19346101  0.09014011\n",
      " -0.20509416]\n",
      "[ 0.04454929  0.08101224  0.0198907   0.03417178 -0.14106268  0.57018436\n",
      " -0.15474764 -0.28980331  0.07774649 -0.12207356 -0.19345652  0.09004206\n",
      " -0.20552164]\n",
      "[ 0.04364644  0.08089008  0.01940391  0.0342828  -0.13950139  0.56862943\n",
      " -0.15360628 -0.28817209  0.07756114 -0.12190762 -0.19344451  0.08979921\n",
      " -0.20657245]\n",
      "[ 0.0427627   0.08076917  0.01892247  0.03439147 -0.13797381  0.56709343\n",
      " -0.15248484 -0.28656637  0.07737732 -0.12174162 -0.19343143  0.08955956\n",
      " -0.20759829]\n"
     ]
    },
    {
     "data": {
      "image/png": "[encoded data removed]",
      "text/plain": [
       "<Figure size 1152x216 with 6 Axes>"
      ]
     },
     "metadata": {},
     "output_type": "display_data"
    }
   ],
   "source": [
    "p, axes = plt.subplots(1,6, figsize=(16,3))\n",
    "alpha_list= [0.4, 0.6, 0.8, 1.0, 1.5, 2.0]\n",
    "for i in range(0,6):\n",
    "    model = Ridge(alpha=alpha_list[i])\n",
    "    model.fit(X_train, y_train)\n",
    "    print(model.coef_)\n",
    "    axes[i].set_title(f\"{model.__class__.__name__}, {alpha_list[i]}\")\n",
    "    sns.barplot(y=X.columns, x=model.coef_, ax=axes[i])"
   ]
  },
  {
   "cell_type": "code",
   "execution_count": null,
   "id": "5f7d8dc1-9b79-4403-8630-ab1720c2bf6a",
   "metadata": {},
   "outputs": [],
   "source": []
  },
  {
   "cell_type": "code",
   "execution_count": null,
   "id": "f57adf28-8c1d-445f-b842-5a7c65e8aaf4",
   "metadata": {},
   "outputs": [],
   "source": []
  },
  {
   "cell_type": "code",
   "execution_count": null,
   "id": "bafbe2a2-b2b8-49ed-a31f-ce46060aa2b8",
   "metadata": {},
   "outputs": [],
   "source": []
  }
 ],
 "metadata": {
  "kernelspec": {
   "display_name": "Python 3 (ipykernel)",
   "language": "python",
   "name": "python3"
  },
  "language_info": {
   "codemirror_mode": {
    "name": "ipython",
    "version": 3
   },
   "file_extension": ".py",
   "mimetype": "text/x-python",
   "name": "python",
   "nbconvert_exporter": "python",
   "pygments_lexer": "ipython3",
   "version": "3.8.8"
  }
 },
 "nbformat": 4,
 "nbformat_minor": 5
}
