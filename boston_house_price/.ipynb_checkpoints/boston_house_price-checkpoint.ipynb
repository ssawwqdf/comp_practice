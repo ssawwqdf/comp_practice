{
 "cells": [
  {
   "cell_type": "markdown",
   "id": "8784defe-01ee-409e-86d7-029a6dfc048c",
   "metadata": {},
   "source": [
    "<img src='./logo.jpg'>"
   ]
  },
  {
   "cell_type": "markdown",
   "id": "a0132e06-c9af-41c0-a2ab-b2ab7bfc2a61",
   "metadata": {},
   "source": [
    "kaggle ref: https://www.kaggle.com/vikrishnan/boston-house-prices  \n",
    "sklearn ref: sklearn"
   ]
  },
  {
   "cell_type": "code",
   "execution_count": 240,
   "id": "19e7c216-ed23-404e-9484-1e9209f06c58",
   "metadata": {},
   "outputs": [],
   "source": [
    "# 분석\n",
    "import pandas as pd\n",
    "import numpy as np\n",
    "\n",
    "# 경고\n",
    "import warnings\n",
    "warnings.filterwarnings(action='ignore')\n",
    "\n",
    "# 날짜 가공\n",
    "import datetime as dt \n",
    "from dateutil.rrule import rrule, YEARLY, MONTHLY, WEEKLY\n",
    "\n",
    "# 데이터 시각화\n",
    "import matplotlib.pyplot as plt\n",
    "plt.rc('font', family='Gothic') # For Windows. PLOT에서 한글 처리 -> 플롯 만드는 창에 넣어야 됨.\n",
    "\n",
    "plt.rcParams['font.family']= 'Malgun Gothic'\n",
    "plt.rcParams['axes.unicode_minus'] = False # - 기호 안 깨지게\n",
    "plt.rcParams['font.size'] = 15\n",
    "# plt.figure(figsize=(12,4)) # plot 12:4 비율\n",
    "\n",
    "import seaborn as sns\n",
    "sns.set() # seaborn에서 회색 grid 깔아줌\n",
    "sns.set(rc={'figure.figsize':(18, 5)}) # 결과 plot 크기 키워줌"
   ]
  },
  {
   "cell_type": "code",
   "execution_count": 241,
   "id": "da1fb426-00c0-472a-bdf2-4b932e106438",
   "metadata": {},
   "outputs": [],
   "source": [
    "# 사이킷런\n",
    "from sklearn.model_selection import train_test_split\n",
    "\n",
    "# 사이킷런 분류\n",
    "# from sklearn.ensemble import RandomForestClassifier\n",
    "# from sklearn.linear_model import LogisticRegression\n",
    "# from sklearn.neighbors import KNeighborsClassifier\n",
    "# from sklearn.tree import DecisionTreeClassifier\n",
    "# from sklearn.svm import LinearSVC\n",
    "\n",
    "# 사이킷런 분류 점수\n",
    "# from sklearn.metrics import accuracy_score\n",
    "# from sklearn.metrics import classification_report, confusion_matrix, accuracy_score, precision_score, recall_score, f1_score\n",
    "# \t\t\t\t\t\t # ---> y_true, y_pred\n",
    "# from sklearn.metrics import precision_recall_curve # y_true, probas_pred\n",
    "# from sklearn.metrics import roc_auc_score, roc_curve # y_true, y_score\n",
    "\n",
    "# 분류 ensemble\n",
    "# import xgboost as xgb\n",
    "# from xgboost import plot_importance \n",
    "from xgboost import XGBClassifier\n",
    "import lightgbm as lgb\n",
    "from lightgbm import LGBMClassifier # lgb.쓰기 귀찮으니까 Classifier까지 import\n",
    "from sklearn.ensemble import VotingClassifier\n",
    "from sklearn.ensemble import BaggingClassifier"
   ]
  },
  {
   "cell_type": "code",
   "execution_count": 242,
   "id": "eaf2e971-1ab4-4b7e-8734-ccf434a84e35",
   "metadata": {},
   "outputs": [],
   "source": [
    "# 사이킷런 회귀\n",
    "from sklearn.linear_model import LinearRegression\n",
    "from sklearn.linear_model import Lasso, LassoCV\n",
    "from sklearn.linear_model import ElasticNet, ElasticNetCV\n",
    "from sklearn.linear_model import Ridge, RidgeCV\n",
    "\n",
    "from sklearn.svm import SVC #linear SVC는 classifier 성 / SVC는 분류말고 회귀에도 쓸 수 있다.\n",
    "\n",
    "from xgboost import XGBRegressor\n",
    "from lightgbm import LGBMRegressor\n",
    "\n",
    "# 사이킷런 회귀 점수\n",
    "from sklearn.metrics import mean_squared_error, mean_squared_log_error, mean_absolute_error # squared=False로 하면 RMSE"
   ]
  },
  {
   "cell_type": "code",
   "execution_count": 243,
   "id": "b4b42491-75df-4675-b758-693c7feae79c",
   "metadata": {},
   "outputs": [],
   "source": [
    "# 사이킷런 스케일러\n",
    "from sklearn.preprocessing import StandardScaler, RobustScaler, MinMaxScaler\n",
    "\n",
    "# 사이킷런 학습 데이터 증강\n",
    "# StratifiedFold는 회귀에서는 X\n",
    "from sklearn.model_selection import cross_val_score, KFold, StratifiedKFold, GridSearchCV"
   ]
  },
  {
   "cell_type": "code",
   "execution_count": 244,
   "id": "a80b213c-9af6-4c06-94a9-30e618fc77e7",
   "metadata": {},
   "outputs": [],
   "source": [
    "import pandas as pd\n",
    "import numpy as np"
   ]
  },
  {
   "cell_type": "markdown",
   "id": "e2bd9032-54f1-48cb-883c-7681e5524d0e",
   "metadata": {},
   "source": [
    "# DataLoad"
   ]
  },
  {
   "cell_type": "code",
   "execution_count": 245,
   "id": "3d275b95-1d0d-4c12-ac3f-df1443790c74",
   "metadata": {},
   "outputs": [],
   "source": [
    "# 보스턴 toy data\n",
    "from sklearn.datasets import load_boston"
   ]
  },
  {
   "cell_type": "code",
   "execution_count": 246,
   "id": "8b89a404-b893-4be3-a99d-a836dd4d13c6",
   "metadata": {},
   "outputs": [
    {
     "data": {
      "text/plain": [
       "dict_keys(['data', 'target', 'feature_names', 'DESCR', 'filename', 'data_module'])"
      ]
     },
     "execution_count": 246,
     "metadata": {},
     "output_type": "execute_result"
    }
   ],
   "source": [
    "data_dict=load_boston() # dict형태로 온다.\n",
    "data_dict.keys()\n",
    "# data_dict에 DESCR에 설명 들어있다."
   ]
  },
  {
   "cell_type": "code",
   "execution_count": 247,
   "id": "f8d6235e-78c1-4926-915f-c538310420e1",
   "metadata": {},
   "outputs": [
    {
     "data": {
      "text/plain": [
       "array([[6.3200e-03, 1.8000e+01, 2.3100e+00, 0.0000e+00, 5.3800e-01,\n",
       "        6.5750e+00, 6.5200e+01, 4.0900e+00, 1.0000e+00, 2.9600e+02,\n",
       "        1.5300e+01, 3.9690e+02, 4.9800e+00],\n",
       "       [2.7310e-02, 0.0000e+00, 7.0700e+00, 0.0000e+00, 4.6900e-01,\n",
       "        6.4210e+00, 7.8900e+01, 4.9671e+00, 2.0000e+00, 2.4200e+02,\n",
       "        1.7800e+01, 3.9690e+02, 9.1400e+00]])"
      ]
     },
     "execution_count": 247,
     "metadata": {},
     "output_type": "execute_result"
    }
   ],
   "source": [
    "# data에 있는 값만 꺼내기\n",
    "data_dict['data'][:2]\n",
    "# data_dict.values() 하면 다 꺼내옴"
   ]
  },
  {
   "cell_type": "code",
   "execution_count": 248,
   "id": "e363d4be-cb42-488b-a890-2cf123eabbd7",
   "metadata": {},
   "outputs": [
    {
     "data": {
      "text/plain": [
       "array(['CRIM', 'ZN', 'INDUS', 'CHAS', 'NOX', 'RM', 'AGE', 'DIS', 'RAD',\n",
       "       'TAX', 'PTRATIO', 'B', 'LSTAT'], dtype='<U7')"
      ]
     },
     "execution_count": 248,
     "metadata": {},
     "output_type": "execute_result"
    }
   ],
   "source": [
    "data_dict['feature_names']"
   ]
  },
  {
   "cell_type": "code",
   "execution_count": 249,
   "id": "82a1d7b1-be3a-44d1-bd34-753011931443",
   "metadata": {},
   "outputs": [],
   "source": [
    "data=pd.DataFrame(columns=data_dict['feature_names'],\n",
    "                 data=data_dict['data'])"
   ]
  },
  {
   "cell_type": "code",
   "execution_count": 250,
   "id": "d439147c-a261-495b-bc8c-96fa3289f0c7",
   "metadata": {},
   "outputs": [
    {
     "data": {
      "text/html": [
       "<div>\n",
       "<style scoped>\n",
       "    .dataframe tbody tr th:only-of-type {\n",
       "        vertical-align: middle;\n",
       "    }\n",
       "\n",
       "    .dataframe tbody tr th {\n",
       "        vertical-align: top;\n",
       "    }\n",
       "\n",
       "    .dataframe thead th {\n",
       "        text-align: right;\n",
       "    }\n",
       "</style>\n",
       "<table border=\"1\" class=\"dataframe\">\n",
       "  <thead>\n",
       "    <tr style=\"text-align: right;\">\n",
       "      <th></th>\n",
       "      <th>CRIM</th>\n",
       "      <th>ZN</th>\n",
       "      <th>INDUS</th>\n",
       "      <th>CHAS</th>\n",
       "      <th>NOX</th>\n",
       "      <th>RM</th>\n",
       "      <th>AGE</th>\n",
       "      <th>DIS</th>\n",
       "      <th>RAD</th>\n",
       "      <th>TAX</th>\n",
       "      <th>PTRATIO</th>\n",
       "      <th>B</th>\n",
       "      <th>LSTAT</th>\n",
       "    </tr>\n",
       "  </thead>\n",
       "  <tbody>\n",
       "    <tr>\n",
       "      <th>0</th>\n",
       "      <td>0.00632</td>\n",
       "      <td>18.0</td>\n",
       "      <td>2.31</td>\n",
       "      <td>0.0</td>\n",
       "      <td>0.538</td>\n",
       "      <td>6.575</td>\n",
       "      <td>65.2</td>\n",
       "      <td>4.0900</td>\n",
       "      <td>1.0</td>\n",
       "      <td>296.0</td>\n",
       "      <td>15.3</td>\n",
       "      <td>396.90</td>\n",
       "      <td>4.98</td>\n",
       "    </tr>\n",
       "    <tr>\n",
       "      <th>1</th>\n",
       "      <td>0.02731</td>\n",
       "      <td>0.0</td>\n",
       "      <td>7.07</td>\n",
       "      <td>0.0</td>\n",
       "      <td>0.469</td>\n",
       "      <td>6.421</td>\n",
       "      <td>78.9</td>\n",
       "      <td>4.9671</td>\n",
       "      <td>2.0</td>\n",
       "      <td>242.0</td>\n",
       "      <td>17.8</td>\n",
       "      <td>396.90</td>\n",
       "      <td>9.14</td>\n",
       "    </tr>\n",
       "    <tr>\n",
       "      <th>2</th>\n",
       "      <td>0.02729</td>\n",
       "      <td>0.0</td>\n",
       "      <td>7.07</td>\n",
       "      <td>0.0</td>\n",
       "      <td>0.469</td>\n",
       "      <td>7.185</td>\n",
       "      <td>61.1</td>\n",
       "      <td>4.9671</td>\n",
       "      <td>2.0</td>\n",
       "      <td>242.0</td>\n",
       "      <td>17.8</td>\n",
       "      <td>392.83</td>\n",
       "      <td>4.03</td>\n",
       "    </tr>\n",
       "    <tr>\n",
       "      <th>3</th>\n",
       "      <td>0.03237</td>\n",
       "      <td>0.0</td>\n",
       "      <td>2.18</td>\n",
       "      <td>0.0</td>\n",
       "      <td>0.458</td>\n",
       "      <td>6.998</td>\n",
       "      <td>45.8</td>\n",
       "      <td>6.0622</td>\n",
       "      <td>3.0</td>\n",
       "      <td>222.0</td>\n",
       "      <td>18.7</td>\n",
       "      <td>394.63</td>\n",
       "      <td>2.94</td>\n",
       "    </tr>\n",
       "    <tr>\n",
       "      <th>4</th>\n",
       "      <td>0.06905</td>\n",
       "      <td>0.0</td>\n",
       "      <td>2.18</td>\n",
       "      <td>0.0</td>\n",
       "      <td>0.458</td>\n",
       "      <td>7.147</td>\n",
       "      <td>54.2</td>\n",
       "      <td>6.0622</td>\n",
       "      <td>3.0</td>\n",
       "      <td>222.0</td>\n",
       "      <td>18.7</td>\n",
       "      <td>396.90</td>\n",
       "      <td>5.33</td>\n",
       "    </tr>\n",
       "  </tbody>\n",
       "</table>\n",
       "</div>"
      ],
      "text/plain": [
       "      CRIM    ZN  INDUS  CHAS    NOX     RM   AGE     DIS  RAD    TAX  \\\n",
       "0  0.00632  18.0   2.31   0.0  0.538  6.575  65.2  4.0900  1.0  296.0   \n",
       "1  0.02731   0.0   7.07   0.0  0.469  6.421  78.9  4.9671  2.0  242.0   \n",
       "2  0.02729   0.0   7.07   0.0  0.469  7.185  61.1  4.9671  2.0  242.0   \n",
       "3  0.03237   0.0   2.18   0.0  0.458  6.998  45.8  6.0622  3.0  222.0   \n",
       "4  0.06905   0.0   2.18   0.0  0.458  7.147  54.2  6.0622  3.0  222.0   \n",
       "\n",
       "   PTRATIO       B  LSTAT  \n",
       "0     15.3  396.90   4.98  \n",
       "1     17.8  396.90   9.14  \n",
       "2     17.8  392.83   4.03  \n",
       "3     18.7  394.63   2.94  \n",
       "4     18.7  396.90   5.33  "
      ]
     },
     "execution_count": 250,
     "metadata": {},
     "output_type": "execute_result"
    }
   ],
   "source": [
    "data.head()"
   ]
  },
  {
   "cell_type": "code",
   "execution_count": 251,
   "id": "5423756a-f3e7-445a-8d72-29b35efcbdae",
   "metadata": {},
   "outputs": [],
   "source": [
    "data['price']=data_dict['target']"
   ]
  },
  {
   "cell_type": "code",
   "execution_count": 252,
   "id": "82bcc7a3-47f4-4d25-99a4-bafaab246cc4",
   "metadata": {},
   "outputs": [
    {
     "data": {
      "text/html": [
       "<div>\n",
       "<style scoped>\n",
       "    .dataframe tbody tr th:only-of-type {\n",
       "        vertical-align: middle;\n",
       "    }\n",
       "\n",
       "    .dataframe tbody tr th {\n",
       "        vertical-align: top;\n",
       "    }\n",
       "\n",
       "    .dataframe thead th {\n",
       "        text-align: right;\n",
       "    }\n",
       "</style>\n",
       "<table border=\"1\" class=\"dataframe\">\n",
       "  <thead>\n",
       "    <tr style=\"text-align: right;\">\n",
       "      <th></th>\n",
       "      <th>CRIM</th>\n",
       "      <th>ZN</th>\n",
       "      <th>INDUS</th>\n",
       "      <th>CHAS</th>\n",
       "      <th>NOX</th>\n",
       "      <th>RM</th>\n",
       "      <th>AGE</th>\n",
       "      <th>DIS</th>\n",
       "      <th>RAD</th>\n",
       "      <th>TAX</th>\n",
       "      <th>PTRATIO</th>\n",
       "      <th>B</th>\n",
       "      <th>LSTAT</th>\n",
       "      <th>price</th>\n",
       "    </tr>\n",
       "  </thead>\n",
       "  <tbody>\n",
       "    <tr>\n",
       "      <th>0</th>\n",
       "      <td>0.00632</td>\n",
       "      <td>18.0</td>\n",
       "      <td>2.31</td>\n",
       "      <td>0.0</td>\n",
       "      <td>0.538</td>\n",
       "      <td>6.575</td>\n",
       "      <td>65.2</td>\n",
       "      <td>4.0900</td>\n",
       "      <td>1.0</td>\n",
       "      <td>296.0</td>\n",
       "      <td>15.3</td>\n",
       "      <td>396.90</td>\n",
       "      <td>4.98</td>\n",
       "      <td>24.0</td>\n",
       "    </tr>\n",
       "    <tr>\n",
       "      <th>1</th>\n",
       "      <td>0.02731</td>\n",
       "      <td>0.0</td>\n",
       "      <td>7.07</td>\n",
       "      <td>0.0</td>\n",
       "      <td>0.469</td>\n",
       "      <td>6.421</td>\n",
       "      <td>78.9</td>\n",
       "      <td>4.9671</td>\n",
       "      <td>2.0</td>\n",
       "      <td>242.0</td>\n",
       "      <td>17.8</td>\n",
       "      <td>396.90</td>\n",
       "      <td>9.14</td>\n",
       "      <td>21.6</td>\n",
       "    </tr>\n",
       "    <tr>\n",
       "      <th>2</th>\n",
       "      <td>0.02729</td>\n",
       "      <td>0.0</td>\n",
       "      <td>7.07</td>\n",
       "      <td>0.0</td>\n",
       "      <td>0.469</td>\n",
       "      <td>7.185</td>\n",
       "      <td>61.1</td>\n",
       "      <td>4.9671</td>\n",
       "      <td>2.0</td>\n",
       "      <td>242.0</td>\n",
       "      <td>17.8</td>\n",
       "      <td>392.83</td>\n",
       "      <td>4.03</td>\n",
       "      <td>34.7</td>\n",
       "    </tr>\n",
       "    <tr>\n",
       "      <th>3</th>\n",
       "      <td>0.03237</td>\n",
       "      <td>0.0</td>\n",
       "      <td>2.18</td>\n",
       "      <td>0.0</td>\n",
       "      <td>0.458</td>\n",
       "      <td>6.998</td>\n",
       "      <td>45.8</td>\n",
       "      <td>6.0622</td>\n",
       "      <td>3.0</td>\n",
       "      <td>222.0</td>\n",
       "      <td>18.7</td>\n",
       "      <td>394.63</td>\n",
       "      <td>2.94</td>\n",
       "      <td>33.4</td>\n",
       "    </tr>\n",
       "    <tr>\n",
       "      <th>4</th>\n",
       "      <td>0.06905</td>\n",
       "      <td>0.0</td>\n",
       "      <td>2.18</td>\n",
       "      <td>0.0</td>\n",
       "      <td>0.458</td>\n",
       "      <td>7.147</td>\n",
       "      <td>54.2</td>\n",
       "      <td>6.0622</td>\n",
       "      <td>3.0</td>\n",
       "      <td>222.0</td>\n",
       "      <td>18.7</td>\n",
       "      <td>396.90</td>\n",
       "      <td>5.33</td>\n",
       "      <td>36.2</td>\n",
       "    </tr>\n",
       "  </tbody>\n",
       "</table>\n",
       "</div>"
      ],
      "text/plain": [
       "      CRIM    ZN  INDUS  CHAS    NOX     RM   AGE     DIS  RAD    TAX  \\\n",
       "0  0.00632  18.0   2.31   0.0  0.538  6.575  65.2  4.0900  1.0  296.0   \n",
       "1  0.02731   0.0   7.07   0.0  0.469  6.421  78.9  4.9671  2.0  242.0   \n",
       "2  0.02729   0.0   7.07   0.0  0.469  7.185  61.1  4.9671  2.0  242.0   \n",
       "3  0.03237   0.0   2.18   0.0  0.458  6.998  45.8  6.0622  3.0  222.0   \n",
       "4  0.06905   0.0   2.18   0.0  0.458  7.147  54.2  6.0622  3.0  222.0   \n",
       "\n",
       "   PTRATIO       B  LSTAT  price  \n",
       "0     15.3  396.90   4.98   24.0  \n",
       "1     17.8  396.90   9.14   21.6  \n",
       "2     17.8  392.83   4.03   34.7  \n",
       "3     18.7  394.63   2.94   33.4  \n",
       "4     18.7  396.90   5.33   36.2  "
      ]
     },
     "execution_count": 252,
     "metadata": {},
     "output_type": "execute_result"
    }
   ],
   "source": [
    "data.head()"
   ]
  },
  {
   "cell_type": "code",
   "execution_count": 253,
   "id": "c9d34899-b08a-4515-9fd2-5cabf6480e82",
   "metadata": {},
   "outputs": [],
   "source": [
    "data.columns=[col.lower() for col in data.columns] # 여기서 col은 str 오브젝트 -> str에 있는 함수가 lower()"
   ]
  },
  {
   "cell_type": "code",
   "execution_count": 254,
   "id": "e64000f5-0296-4146-a7c7-32eb35253e20",
   "metadata": {},
   "outputs": [
    {
     "data": {
      "text/plain": [
       "Index(['crim', 'zn', 'indus', 'chas', 'nox', 'rm', 'age', 'dis', 'rad', 'tax',\n",
       "       'ptratio', 'b', 'lstat', 'price'],\n",
       "      dtype='object')"
      ]
     },
     "execution_count": 254,
     "metadata": {},
     "output_type": "execute_result"
    }
   ],
   "source": [
    "data.columns"
   ]
  },
  {
   "cell_type": "code",
   "execution_count": 255,
   "id": "3c0e608f-074d-4f93-89f5-497f7f4a52ce",
   "metadata": {},
   "outputs": [
    {
     "name": "stdout",
     "output_type": "stream",
     "text": [
      "<class 'pandas.core.frame.DataFrame'>\n",
      "RangeIndex: 506 entries, 0 to 505\n",
      "Data columns (total 14 columns):\n",
      " #   Column   Non-Null Count  Dtype  \n",
      "---  ------   --------------  -----  \n",
      " 0   crim     506 non-null    float64\n",
      " 1   zn       506 non-null    float64\n",
      " 2   indus    506 non-null    float64\n",
      " 3   chas     506 non-null    float64\n",
      " 4   nox      506 non-null    float64\n",
      " 5   rm       506 non-null    float64\n",
      " 6   age      506 non-null    float64\n",
      " 7   dis      506 non-null    float64\n",
      " 8   rad      506 non-null    float64\n",
      " 9   tax      506 non-null    float64\n",
      " 10  ptratio  506 non-null    float64\n",
      " 11  b        506 non-null    float64\n",
      " 12  lstat    506 non-null    float64\n",
      " 13  price    506 non-null    float64\n",
      "dtypes: float64(14)\n",
      "memory usage: 55.5 KB\n"
     ]
    }
   ],
   "source": [
    "data.info()"
   ]
  },
  {
   "cell_type": "code",
   "execution_count": 256,
   "id": "8fef6c70-5077-4ece-8977-606216343c92",
   "metadata": {},
   "outputs": [
    {
     "data": {
      "text/plain": [
       "(506, 14)"
      ]
     },
     "execution_count": 256,
     "metadata": {},
     "output_type": "execute_result"
    }
   ],
   "source": [
    "data.shape"
   ]
  },
  {
   "cell_type": "code",
   "execution_count": 257,
   "id": "5bbdf2e3-58da-4b58-9e81-d29875c92ed6",
   "metadata": {},
   "outputs": [
    {
     "data": {
      "text/html": [
       "<div>\n",
       "<style scoped>\n",
       "    .dataframe tbody tr th:only-of-type {\n",
       "        vertical-align: middle;\n",
       "    }\n",
       "\n",
       "    .dataframe tbody tr th {\n",
       "        vertical-align: top;\n",
       "    }\n",
       "\n",
       "    .dataframe thead th {\n",
       "        text-align: right;\n",
       "    }\n",
       "</style>\n",
       "<table border=\"1\" class=\"dataframe\">\n",
       "  <thead>\n",
       "    <tr style=\"text-align: right;\">\n",
       "      <th></th>\n",
       "      <th>crim</th>\n",
       "      <th>zn</th>\n",
       "      <th>indus</th>\n",
       "      <th>chas</th>\n",
       "      <th>nox</th>\n",
       "      <th>rm</th>\n",
       "      <th>age</th>\n",
       "      <th>dis</th>\n",
       "      <th>rad</th>\n",
       "      <th>tax</th>\n",
       "      <th>ptratio</th>\n",
       "      <th>b</th>\n",
       "      <th>lstat</th>\n",
       "      <th>price</th>\n",
       "    </tr>\n",
       "  </thead>\n",
       "  <tbody>\n",
       "    <tr>\n",
       "      <th>0</th>\n",
       "      <td>0.00632</td>\n",
       "      <td>18.0</td>\n",
       "      <td>2.31</td>\n",
       "      <td>0.0</td>\n",
       "      <td>0.538</td>\n",
       "      <td>6.575</td>\n",
       "      <td>65.2</td>\n",
       "      <td>4.0900</td>\n",
       "      <td>1.0</td>\n",
       "      <td>296.0</td>\n",
       "      <td>15.3</td>\n",
       "      <td>396.90</td>\n",
       "      <td>4.98</td>\n",
       "      <td>24.0</td>\n",
       "    </tr>\n",
       "    <tr>\n",
       "      <th>1</th>\n",
       "      <td>0.02731</td>\n",
       "      <td>0.0</td>\n",
       "      <td>7.07</td>\n",
       "      <td>0.0</td>\n",
       "      <td>0.469</td>\n",
       "      <td>6.421</td>\n",
       "      <td>78.9</td>\n",
       "      <td>4.9671</td>\n",
       "      <td>2.0</td>\n",
       "      <td>242.0</td>\n",
       "      <td>17.8</td>\n",
       "      <td>396.90</td>\n",
       "      <td>9.14</td>\n",
       "      <td>21.6</td>\n",
       "    </tr>\n",
       "    <tr>\n",
       "      <th>2</th>\n",
       "      <td>0.02729</td>\n",
       "      <td>0.0</td>\n",
       "      <td>7.07</td>\n",
       "      <td>0.0</td>\n",
       "      <td>0.469</td>\n",
       "      <td>7.185</td>\n",
       "      <td>61.1</td>\n",
       "      <td>4.9671</td>\n",
       "      <td>2.0</td>\n",
       "      <td>242.0</td>\n",
       "      <td>17.8</td>\n",
       "      <td>392.83</td>\n",
       "      <td>4.03</td>\n",
       "      <td>34.7</td>\n",
       "    </tr>\n",
       "    <tr>\n",
       "      <th>3</th>\n",
       "      <td>0.03237</td>\n",
       "      <td>0.0</td>\n",
       "      <td>2.18</td>\n",
       "      <td>0.0</td>\n",
       "      <td>0.458</td>\n",
       "      <td>6.998</td>\n",
       "      <td>45.8</td>\n",
       "      <td>6.0622</td>\n",
       "      <td>3.0</td>\n",
       "      <td>222.0</td>\n",
       "      <td>18.7</td>\n",
       "      <td>394.63</td>\n",
       "      <td>2.94</td>\n",
       "      <td>33.4</td>\n",
       "    </tr>\n",
       "    <tr>\n",
       "      <th>4</th>\n",
       "      <td>0.06905</td>\n",
       "      <td>0.0</td>\n",
       "      <td>2.18</td>\n",
       "      <td>0.0</td>\n",
       "      <td>0.458</td>\n",
       "      <td>7.147</td>\n",
       "      <td>54.2</td>\n",
       "      <td>6.0622</td>\n",
       "      <td>3.0</td>\n",
       "      <td>222.0</td>\n",
       "      <td>18.7</td>\n",
       "      <td>396.90</td>\n",
       "      <td>5.33</td>\n",
       "      <td>36.2</td>\n",
       "    </tr>\n",
       "  </tbody>\n",
       "</table>\n",
       "</div>"
      ],
      "text/plain": [
       "      crim    zn  indus  chas    nox     rm   age     dis  rad    tax  \\\n",
       "0  0.00632  18.0   2.31   0.0  0.538  6.575  65.2  4.0900  1.0  296.0   \n",
       "1  0.02731   0.0   7.07   0.0  0.469  6.421  78.9  4.9671  2.0  242.0   \n",
       "2  0.02729   0.0   7.07   0.0  0.469  7.185  61.1  4.9671  2.0  242.0   \n",
       "3  0.03237   0.0   2.18   0.0  0.458  6.998  45.8  6.0622  3.0  222.0   \n",
       "4  0.06905   0.0   2.18   0.0  0.458  7.147  54.2  6.0622  3.0  222.0   \n",
       "\n",
       "   ptratio       b  lstat  price  \n",
       "0     15.3  396.90   4.98   24.0  \n",
       "1     17.8  396.90   9.14   21.6  \n",
       "2     17.8  392.83   4.03   34.7  \n",
       "3     18.7  394.63   2.94   33.4  \n",
       "4     18.7  396.90   5.33   36.2  "
      ]
     },
     "execution_count": 257,
     "metadata": {},
     "output_type": "execute_result"
    }
   ],
   "source": [
    "data.head()"
   ]
  },
  {
   "cell_type": "markdown",
   "id": "52c0ccbf-15af-4436-ba21-e3585d250f4e",
   "metadata": {},
   "source": [
    "<img src = './컬럼값 설명.png'>"
   ]
  },
  {
   "cell_type": "code",
   "execution_count": 258,
   "id": "e69b615e-53d4-4875-94d5-e7a93bb3bb26",
   "metadata": {},
   "outputs": [
    {
     "name": "stdout",
     "output_type": "stream",
     "text": [
      ".. _boston_dataset:\n",
      "\n",
      "Boston house prices dataset\n",
      "---------------------------\n",
      "\n",
      "**Data Set Characteristics:**  \n",
      "\n",
      "    :Number of Instances: 506 \n",
      "\n",
      "    :Number of Attributes: 13 numeric/categorical predictive. Median Value (attribute 14) is usually the target.\n",
      "\n",
      "    :Attribute Information (in order):\n",
      "        - CRIM     per capita crime rate by town\n",
      "        - ZN       proportion of residential land zoned for lots over 25,000 sq.ft.\n",
      "        - INDUS    proportion of non-retail business acres per town\n",
      "        - CHAS     Charles River dummy variable (= 1 if tract bounds river; 0 otherwise)\n",
      "        - NOX      nitric oxides concentration (parts per 10 million)\n",
      "        - RM       average number of rooms per dwelling\n",
      "        - AGE      proportion of owner-occupied units built prior to 1940\n",
      "        - DIS      weighted distances to five Boston employment centres\n",
      "        - RAD      index of accessibility to radial highways\n",
      "        - TAX      full-value property-tax rate per $10,000\n",
      "        - PTRATIO  pupil-teacher ratio by town\n",
      "        - B        1000(Bk - 0.63)^2 where Bk is the proportion of black people by town\n",
      "        - LSTAT    % lower status of the population\n",
      "        - MEDV     Median value of owner-occupied homes in $1000's\n",
      "\n",
      "    :Missing Attribute Values: None\n",
      "\n",
      "    :Creator: Harrison, D. and Rubinfeld, D.L.\n",
      "\n",
      "This is a copy of UCI ML housing dataset.\n",
      "https://archive.ics.uci.edu/ml/machine-learning-databases/housing/\n",
      "\n",
      "\n",
      "This dataset was taken from the StatLib library which is maintained at Carnegie Mellon University.\n",
      "\n",
      "The Boston house-price data of Harrison, D. and Rubinfeld, D.L. 'Hedonic\n",
      "prices and the demand for clean air', J. Environ. Economics & Management,\n",
      "vol.5, 81-102, 1978.   Used in Belsley, Kuh & Welsch, 'Regression diagnostics\n",
      "...', Wiley, 1980.   N.B. Various transformations are used in the table on\n",
      "pages 244-261 of the latter.\n",
      "\n",
      "The Boston house-price data has been used in many machine learning papers that address regression\n",
      "problems.   \n",
      "     \n",
      ".. topic:: References\n",
      "\n",
      "   - Belsley, Kuh & Welsch, 'Regression diagnostics: Identifying Influential Data and Sources of Collinearity', Wiley, 1980. 244-261.\n",
      "   - Quinlan,R. (1993). Combining Instance-Based and Model-Based Learning. In Proceedings on the Tenth International Conference of Machine Learning, 236-243, University of Massachusetts, Amherst. Morgan Kaufmann.\n",
      "\n"
     ]
    }
   ],
   "source": [
    "print(data_dict['DESCR'])"
   ]
  },
  {
   "cell_type": "markdown",
   "id": "7b951301-cc00-4791-97dc-44227a6fe784",
   "metadata": {},
   "source": [
    "# EDA"
   ]
  },
  {
   "cell_type": "code",
   "execution_count": 259,
   "id": "44650e77-017a-4916-86b0-d1b4faeb61f8",
   "metadata": {},
   "outputs": [
    {
     "data": {
      "text/html": [
       "<div>\n",
       "<style scoped>\n",
       "    .dataframe tbody tr th:only-of-type {\n",
       "        vertical-align: middle;\n",
       "    }\n",
       "\n",
       "    .dataframe tbody tr th {\n",
       "        vertical-align: top;\n",
       "    }\n",
       "\n",
       "    .dataframe thead th {\n",
       "        text-align: right;\n",
       "    }\n",
       "</style>\n",
       "<table border=\"1\" class=\"dataframe\">\n",
       "  <thead>\n",
       "    <tr style=\"text-align: right;\">\n",
       "      <th></th>\n",
       "      <th>crim</th>\n",
       "      <th>zn</th>\n",
       "      <th>indus</th>\n",
       "      <th>chas</th>\n",
       "      <th>nox</th>\n",
       "      <th>rm</th>\n",
       "      <th>age</th>\n",
       "      <th>dis</th>\n",
       "      <th>rad</th>\n",
       "      <th>tax</th>\n",
       "      <th>ptratio</th>\n",
       "      <th>b</th>\n",
       "      <th>lstat</th>\n",
       "      <th>price</th>\n",
       "    </tr>\n",
       "  </thead>\n",
       "  <tbody>\n",
       "    <tr>\n",
       "      <th>count</th>\n",
       "      <td>506.000000</td>\n",
       "      <td>506.000000</td>\n",
       "      <td>506.000000</td>\n",
       "      <td>506.000000</td>\n",
       "      <td>506.000000</td>\n",
       "      <td>506.000000</td>\n",
       "      <td>506.000000</td>\n",
       "      <td>506.000000</td>\n",
       "      <td>506.000000</td>\n",
       "      <td>506.000000</td>\n",
       "      <td>506.000000</td>\n",
       "      <td>506.000000</td>\n",
       "      <td>506.000000</td>\n",
       "      <td>506.000000</td>\n",
       "    </tr>\n",
       "    <tr>\n",
       "      <th>mean</th>\n",
       "      <td>3.613524</td>\n",
       "      <td>11.363636</td>\n",
       "      <td>11.136779</td>\n",
       "      <td>0.069170</td>\n",
       "      <td>0.554695</td>\n",
       "      <td>6.284634</td>\n",
       "      <td>68.574901</td>\n",
       "      <td>3.795043</td>\n",
       "      <td>9.549407</td>\n",
       "      <td>408.237154</td>\n",
       "      <td>18.455534</td>\n",
       "      <td>356.674032</td>\n",
       "      <td>12.653063</td>\n",
       "      <td>22.532806</td>\n",
       "    </tr>\n",
       "    <tr>\n",
       "      <th>std</th>\n",
       "      <td>8.601545</td>\n",
       "      <td>23.322453</td>\n",
       "      <td>6.860353</td>\n",
       "      <td>0.253994</td>\n",
       "      <td>0.115878</td>\n",
       "      <td>0.702617</td>\n",
       "      <td>28.148861</td>\n",
       "      <td>2.105710</td>\n",
       "      <td>8.707259</td>\n",
       "      <td>168.537116</td>\n",
       "      <td>2.164946</td>\n",
       "      <td>91.294864</td>\n",
       "      <td>7.141062</td>\n",
       "      <td>9.197104</td>\n",
       "    </tr>\n",
       "    <tr>\n",
       "      <th>min</th>\n",
       "      <td>0.006320</td>\n",
       "      <td>0.000000</td>\n",
       "      <td>0.460000</td>\n",
       "      <td>0.000000</td>\n",
       "      <td>0.385000</td>\n",
       "      <td>3.561000</td>\n",
       "      <td>2.900000</td>\n",
       "      <td>1.129600</td>\n",
       "      <td>1.000000</td>\n",
       "      <td>187.000000</td>\n",
       "      <td>12.600000</td>\n",
       "      <td>0.320000</td>\n",
       "      <td>1.730000</td>\n",
       "      <td>5.000000</td>\n",
       "    </tr>\n",
       "    <tr>\n",
       "      <th>25%</th>\n",
       "      <td>0.082045</td>\n",
       "      <td>0.000000</td>\n",
       "      <td>5.190000</td>\n",
       "      <td>0.000000</td>\n",
       "      <td>0.449000</td>\n",
       "      <td>5.885500</td>\n",
       "      <td>45.025000</td>\n",
       "      <td>2.100175</td>\n",
       "      <td>4.000000</td>\n",
       "      <td>279.000000</td>\n",
       "      <td>17.400000</td>\n",
       "      <td>375.377500</td>\n",
       "      <td>6.950000</td>\n",
       "      <td>17.025000</td>\n",
       "    </tr>\n",
       "    <tr>\n",
       "      <th>50%</th>\n",
       "      <td>0.256510</td>\n",
       "      <td>0.000000</td>\n",
       "      <td>9.690000</td>\n",
       "      <td>0.000000</td>\n",
       "      <td>0.538000</td>\n",
       "      <td>6.208500</td>\n",
       "      <td>77.500000</td>\n",
       "      <td>3.207450</td>\n",
       "      <td>5.000000</td>\n",
       "      <td>330.000000</td>\n",
       "      <td>19.050000</td>\n",
       "      <td>391.440000</td>\n",
       "      <td>11.360000</td>\n",
       "      <td>21.200000</td>\n",
       "    </tr>\n",
       "    <tr>\n",
       "      <th>75%</th>\n",
       "      <td>3.677083</td>\n",
       "      <td>12.500000</td>\n",
       "      <td>18.100000</td>\n",
       "      <td>0.000000</td>\n",
       "      <td>0.624000</td>\n",
       "      <td>6.623500</td>\n",
       "      <td>94.075000</td>\n",
       "      <td>5.188425</td>\n",
       "      <td>24.000000</td>\n",
       "      <td>666.000000</td>\n",
       "      <td>20.200000</td>\n",
       "      <td>396.225000</td>\n",
       "      <td>16.955000</td>\n",
       "      <td>25.000000</td>\n",
       "    </tr>\n",
       "    <tr>\n",
       "      <th>max</th>\n",
       "      <td>88.976200</td>\n",
       "      <td>100.000000</td>\n",
       "      <td>27.740000</td>\n",
       "      <td>1.000000</td>\n",
       "      <td>0.871000</td>\n",
       "      <td>8.780000</td>\n",
       "      <td>100.000000</td>\n",
       "      <td>12.126500</td>\n",
       "      <td>24.000000</td>\n",
       "      <td>711.000000</td>\n",
       "      <td>22.000000</td>\n",
       "      <td>396.900000</td>\n",
       "      <td>37.970000</td>\n",
       "      <td>50.000000</td>\n",
       "    </tr>\n",
       "  </tbody>\n",
       "</table>\n",
       "</div>"
      ],
      "text/plain": [
       "             crim          zn       indus        chas         nox          rm  \\\n",
       "count  506.000000  506.000000  506.000000  506.000000  506.000000  506.000000   \n",
       "mean     3.613524   11.363636   11.136779    0.069170    0.554695    6.284634   \n",
       "std      8.601545   23.322453    6.860353    0.253994    0.115878    0.702617   \n",
       "min      0.006320    0.000000    0.460000    0.000000    0.385000    3.561000   \n",
       "25%      0.082045    0.000000    5.190000    0.000000    0.449000    5.885500   \n",
       "50%      0.256510    0.000000    9.690000    0.000000    0.538000    6.208500   \n",
       "75%      3.677083   12.500000   18.100000    0.000000    0.624000    6.623500   \n",
       "max     88.976200  100.000000   27.740000    1.000000    0.871000    8.780000   \n",
       "\n",
       "              age         dis         rad         tax     ptratio           b  \\\n",
       "count  506.000000  506.000000  506.000000  506.000000  506.000000  506.000000   \n",
       "mean    68.574901    3.795043    9.549407  408.237154   18.455534  356.674032   \n",
       "std     28.148861    2.105710    8.707259  168.537116    2.164946   91.294864   \n",
       "min      2.900000    1.129600    1.000000  187.000000   12.600000    0.320000   \n",
       "25%     45.025000    2.100175    4.000000  279.000000   17.400000  375.377500   \n",
       "50%     77.500000    3.207450    5.000000  330.000000   19.050000  391.440000   \n",
       "75%     94.075000    5.188425   24.000000  666.000000   20.200000  396.225000   \n",
       "max    100.000000   12.126500   24.000000  711.000000   22.000000  396.900000   \n",
       "\n",
       "            lstat       price  \n",
       "count  506.000000  506.000000  \n",
       "mean    12.653063   22.532806  \n",
       "std      7.141062    9.197104  \n",
       "min      1.730000    5.000000  \n",
       "25%      6.950000   17.025000  \n",
       "50%     11.360000   21.200000  \n",
       "75%     16.955000   25.000000  \n",
       "max     37.970000   50.000000  "
      ]
     },
     "execution_count": 259,
     "metadata": {},
     "output_type": "execute_result"
    }
   ],
   "source": [
    "data.describe()"
   ]
  },
  {
   "cell_type": "code",
   "execution_count": 260,
   "id": "3070d32c-8958-44cb-a0cf-a32c3ee2ff68",
   "metadata": {},
   "outputs": [
    {
     "data": {
      "text/plain": [
       "array([[<AxesSubplot:title={'center':'crim'}>,\n",
       "        <AxesSubplot:title={'center':'zn'}>,\n",
       "        <AxesSubplot:title={'center':'indus'}>,\n",
       "        <AxesSubplot:title={'center':'chas'}>],\n",
       "       [<AxesSubplot:title={'center':'nox'}>,\n",
       "        <AxesSubplot:title={'center':'rm'}>,\n",
       "        <AxesSubplot:title={'center':'age'}>,\n",
       "        <AxesSubplot:title={'center':'dis'}>],\n",
       "       [<AxesSubplot:title={'center':'rad'}>,\n",
       "        <AxesSubplot:title={'center':'tax'}>,\n",
       "        <AxesSubplot:title={'center':'ptratio'}>,\n",
       "        <AxesSubplot:title={'center':'b'}>],\n",
       "       [<AxesSubplot:title={'center':'lstat'}>,\n",
       "        <AxesSubplot:title={'center':'price'}>, <AxesSubplot:>,\n",
       "        <AxesSubplot:>]], dtype=object)"
      ]
     },
     "execution_count": 260,
     "metadata": {},
     "output_type": "execute_result"
    },
    {
     "data": {
      "image/png": "[encoded data removed]",
      "text/plain": [
       "<Figure size 1440x720 with 16 Axes>"
      ]
     },
     "metadata": {},
     "output_type": "display_data"
    }
   ],
   "source": [
    "data.hist(figsize=(20,10))"
   ]
  },
  {
   "cell_type": "code",
   "execution_count": null,
   "id": "123e8b2d-9f50-4be3-892a-fb6371753ef1",
   "metadata": {},
   "outputs": [],
   "source": []
  },
  {
   "cell_type": "code",
   "execution_count": 261,
   "id": "2f6f2bd3-d31d-4e6f-a08b-a8d1e6a38565",
   "metadata": {},
   "outputs": [
    {
     "name": "stdout",
     "output_type": "stream",
     "text": [
      "506\n"
     ]
    },
    {
     "data": {
      "text/plain": [
       "crim       504\n",
       "zn          26\n",
       "indus       76\n",
       "chas         2\n",
       "nox         81\n",
       "rm         446\n",
       "age        356\n",
       "dis        412\n",
       "rad          9\n",
       "tax         66\n",
       "ptratio     46\n",
       "b          357\n",
       "lstat      455\n",
       "price      229\n",
       "dtype: int64"
      ]
     },
     "execution_count": 261,
     "metadata": {},
     "output_type": "execute_result"
    }
   ],
   "source": [
    "print(data.shape[0])\n",
    "data.nunique()"
   ]
  },
  {
   "cell_type": "code",
   "execution_count": 262,
   "id": "017663f0-68ed-49fa-a6a8-44d9ceb38e7d",
   "metadata": {},
   "outputs": [
    {
     "data": {
      "text/plain": [
       "0.01501     2\n",
       "14.33370    2\n",
       "0.03466     1\n",
       "0.03113     1\n",
       "0.03049     1\n",
       "           ..\n",
       "1.51902     1\n",
       "1.83377     1\n",
       "1.46336     1\n",
       "1.27346     1\n",
       "0.04741     1\n",
       "Name: crim, Length: 504, dtype: int64"
      ]
     },
     "execution_count": 262,
     "metadata": {},
     "output_type": "execute_result"
    }
   ],
   "source": [
    "data['crim'].value_counts()"
   ]
  },
  {
   "cell_type": "code",
   "execution_count": 263,
   "id": "8a9a3628-8186-4a7f-a786-1aab76f32495",
   "metadata": {},
   "outputs": [
    {
     "name": "stdout",
     "output_type": "stream",
     "text": [
      "crim 504 [0.00632 0.02731 0.02729 0.03237 0.06905 0.02985 0.08829 0.14455 0.21124\n",
      " 0.17004]\n",
      "zn 26 [ 18.    0.   12.5  75.   21.   90.   85.  100.   25.   17.5]\n",
      "indus 76 [2.31 7.07 2.18 7.87 8.14 5.96 2.95 6.91 5.64 4.  ]\n",
      "chas 2 [0. 1.]\n",
      "nox 81 [0.538 0.469 0.458 0.524 0.499 0.428 0.448 0.439 0.41  0.403]\n",
      "rm 446 [6.575 6.421 7.185 6.998 7.147 6.43  6.012 6.172 5.631 6.004]\n",
      "age 356 [ 65.2  78.9  61.1  45.8  54.2  58.7  66.6  96.1 100.   85.9]\n",
      "dis 412 [4.09   4.9671 6.0622 5.5605 5.9505 6.0821 6.5921 6.3467 6.2267 5.4509]\n",
      "rad 9 [ 1.  2.  3.  5.  4.  8.  6.  7. 24.]\n",
      "tax 66 [296. 242. 222. 311. 307. 279. 252. 233. 243. 469.]\n",
      "ptratio 46 [15.3 17.8 18.7 15.2 21.  19.2 18.3 17.9 16.8 21.1]\n",
      "b 357 [396.9  392.83 394.63 394.12 395.6  386.63 386.71 392.52 390.5  380.02]\n",
      "lstat 455 [ 4.98  9.14  4.03  2.94  5.33  5.21 12.43 19.15 29.93 17.1 ]\n",
      "price 229 [24.  21.6 34.7 33.4 36.2 28.7 22.9 27.1 16.5 18.9]\n"
     ]
    }
   ],
   "source": [
    "# 강사님 방식\n",
    "for col in data.columns:\n",
    "    print(col, data[col].nunique(), data[col].unique()[:10])"
   ]
  },
  {
   "cell_type": "markdown",
   "id": "841cf9ca-fa8a-4c82-a1cd-e0ec510f81c5",
   "metadata": {},
   "source": [
    "* 유니크값 -> x\n",
    "* chas, rad -> int 처리\n",
    "* rm, age -> binning 가능\n",
    "* crim unique하긴 한데 바로 버리지 않아도 될듯 의미 있으니까 -> binning해도 될듯 하다 / 근데 회귀라 안 해도 될 수 있음 / 점수 봐가면서"
   ]
  },
  {
   "cell_type": "markdown",
   "id": "c77c173d-f99e-446f-bd8b-f85bb550a697",
   "metadata": {},
   "source": [
    "## 함수 준비"
   ]
  },
  {
   "cell_type": "code",
   "execution_count": 264,
   "id": "e38d03ea-8139-4e3b-a005-947cdbe90fae",
   "metadata": {},
   "outputs": [],
   "source": [
    "def myscore(y_test,pred, model_name=None):\n",
    "    mse=mean_squared_error(y_test,pred)\n",
    "    rmse=mean_squared_error(y_test,pred, squared=False)\n",
    "    # msle=mean_squared_log_error(y_test,pred)\n",
    "    mae=mean_absolute_error(y_test,pred)\n",
    "    print(f\"MSE: {mse:.4f}\\tRMAE:{rmse:.4f}\\tMSLE: (생략)\\tMAE: {mae:.4f}\\t({model_name})\")"
   ]
  },
  {
   "cell_type": "code",
   "execution_count": 265,
   "id": "f24ce834-8cfa-4f0b-9d84-24108276ecb4",
   "metadata": {},
   "outputs": [],
   "source": [
    "def my_fit_score(data):\n",
    "    y=data['price']\n",
    "    X=data.drop('price', axis=1)\n",
    "    X_train, X_test, y_train, y_test=train_test_split(X,y,test_size=0.2,shuffle=True, random_state=1024)\n",
    "    model_list = [LinearRegression(),Lasso(),ElasticNet(),Ridge(),XGBRegressor(),LGBMRegressor()]\n",
    "    for model in model_list:\n",
    "        model.fit(X_train, y_train)\n",
    "        pred=model.predict(X_test)\n",
    "        myscore(y_test, pred, model.__class__.__name__)"
   ]
  },
  {
   "cell_type": "code",
   "execution_count": 266,
   "id": "c484018e-5f07-4612-b688-c2bca4db8e07",
   "metadata": {},
   "outputs": [],
   "source": [
    "# def my_fit_score(data):\n",
    "#     model_list = [LinearRegression(),Lasso(),ElasticNet(),Ridge(),XGBRegressor(),LGBMRegressor()]\n",
    "#     y = df[\"price\"]\n",
    "#     X = df.drop([\"price\"])\n",
    "#     X_train, X_test, y_train, y_test = train_test_split(X,y, test_size=0.2)\n",
    "#     model_list = [LinearRegression(),Lasso(),ElasticNet(),Ridge(),XGBRegressor(),LGBMRegressor()]\n",
    "#     for model in model_list:\n",
    "#         model.fit(X_train, y_train)\n",
    "#         pred = model.predict(X_test)\n",
    "#         myscore(y_test, pred)\n"
   ]
  },
  {
   "cell_type": "code",
   "execution_count": null,
   "id": "6044e257-de9d-4fc2-93ce-1683e78a13f8",
   "metadata": {},
   "outputs": [],
   "source": []
  },
  {
   "cell_type": "markdown",
   "id": "4f3a899e-be65-46ad-a7a8-a5948beceddf",
   "metadata": {},
   "source": [
    "# 1차 점수"
   ]
  },
  {
   "cell_type": "code",
   "execution_count": 267,
   "id": "4b0fe0f7-4307-4693-b30e-c80dba86b0ef",
   "metadata": {},
   "outputs": [
    {
     "name": "stdout",
     "output_type": "stream",
     "text": [
      "MSE: 20.7476\tRMAE:4.5550\tMSLE: (생략)\tMAE: 3.0888\t(LinearRegression)\n",
      "MSE: 27.2600\tRMAE:5.2211\tMSLE: (생략)\tMAE: 3.6037\t(Lasso)\n",
      "MSE: 26.7628\tRMAE:5.1733\tMSLE: (생략)\tMAE: 3.5778\t(ElasticNet)\n",
      "MSE: 21.3501\tRMAE:4.6206\tMSLE: (생략)\tMAE: 3.1212\t(Ridge)\n",
      "MSE: 12.9014\tRMAE:3.5919\tMSLE: (생략)\tMAE: 2.5483\t(XGBRegressor)\n",
      "MSE: 10.4239\tRMAE:3.2286\tMSLE: (생략)\tMAE: 2.4225\t(LGBMRegressor)\n"
     ]
    }
   ],
   "source": [
    "my_fit_score(data) # 0에 가까울수록 좋다!"
   ]
  },
  {
   "cell_type": "code",
   "execution_count": null,
   "id": "38804a61-cc82-4da0-86a7-cede423920f7",
   "metadata": {},
   "outputs": [],
   "source": []
  },
  {
   "cell_type": "markdown",
   "id": "7c8572d8-54a4-4708-add8-6f011f8ebaa5",
   "metadata": {},
   "source": [
    "# 가공"
   ]
  },
  {
   "cell_type": "markdown",
   "id": "8f8e0d94-ef4d-47d4-89dc-88ecc3ff63c7",
   "metadata": {},
   "source": [
    "* 유니크값 확인\n",
    "* 타겟피쳐 - 상관관계 높은 피쳐\n",
    "* 주요 피쳐 - 아웃라이어 처리?\n",
    "* 정규분포화\n",
    "* 모델? / 점수?"
   ]
  },
  {
   "cell_type": "markdown",
   "id": "891a392b-eb9e-4509-a21a-4c34963b9d3a",
   "metadata": {},
   "source": [
    "## float => int"
   ]
  },
  {
   "cell_type": "code",
   "execution_count": 268,
   "id": "ab74f52f-877d-414c-ac3e-9872a82d0908",
   "metadata": {},
   "outputs": [],
   "source": [
    "data[['chas', 'rad', 'tax']]=data[['chas', 'rad', 'tax']].astype('int')"
   ]
  },
  {
   "cell_type": "code",
   "execution_count": 269,
   "id": "85f78f91-54d4-4176-b9bb-e0f042517179",
   "metadata": {},
   "outputs": [
    {
     "name": "stdout",
     "output_type": "stream",
     "text": [
      "<class 'pandas.core.frame.DataFrame'>\n",
      "RangeIndex: 506 entries, 0 to 505\n",
      "Data columns (total 14 columns):\n",
      " #   Column   Non-Null Count  Dtype  \n",
      "---  ------   --------------  -----  \n",
      " 0   crim     506 non-null    float64\n",
      " 1   zn       506 non-null    float64\n",
      " 2   indus    506 non-null    float64\n",
      " 3   chas     506 non-null    int32  \n",
      " 4   nox      506 non-null    float64\n",
      " 5   rm       506 non-null    float64\n",
      " 6   age      506 non-null    float64\n",
      " 7   dis      506 non-null    float64\n",
      " 8   rad      506 non-null    int32  \n",
      " 9   tax      506 non-null    int32  \n",
      " 10  ptratio  506 non-null    float64\n",
      " 11  b        506 non-null    float64\n",
      " 12  lstat    506 non-null    float64\n",
      " 13  price    506 non-null    float64\n",
      "dtypes: float64(11), int32(3)\n",
      "memory usage: 49.5 KB\n"
     ]
    }
   ],
   "source": [
    "data.info()"
   ]
  },
  {
   "cell_type": "markdown",
   "id": "068bdc09-2e01-4b6b-ac24-05afb90e1f2f",
   "metadata": {},
   "source": [
    "## 상관분석"
   ]
  },
  {
   "cell_type": "code",
   "execution_count": 270,
   "id": "7b59cbc4-8f73-499e-b895-4052228f3408",
   "metadata": {},
   "outputs": [
    {
     "data": {
      "text/plain": [
       "<AxesSubplot:>"
      ]
     },
     "execution_count": 270,
     "metadata": {},
     "output_type": "execute_result"
    },
    {
     "data": {
      "image/png": "[encoded data removed]",
      "text/plain": [
       "<Figure size 1296x360 with 2 Axes>"
      ]
     },
     "metadata": {},
     "output_type": "display_data"
    }
   ],
   "source": [
    "sns.heatmap(data.corr(), annot=True, fmt='.2f', cmap='Blues')"
   ]
  },
  {
   "cell_type": "markdown",
   "id": "5e97823d-8f30-482c-b7ea-3d1bcc89dc88",
   "metadata": {},
   "source": [
    "* rad, tax -> 0.91\n",
    "* nox, indus -> 0.76\n",
    "* age,nox -> \n",
    "* dis, zn, nox, age -\n",
    "....  \n",
    "\n",
    "전반적으로 상관계수 높다.  \n",
    "다중공선  \n",
    "-> price와 선형관계 강한 애들 rm, lstat  "
   ]
  },
  {
   "cell_type": "markdown",
   "id": "1f45f213-ad72-4349-9529-1144b9ae33a3",
   "metadata": {},
   "source": [
    "chas -> price와의 관계도 적고 다른 변수랑도 관련 없음 /// drop??"
   ]
  },
  {
   "cell_type": "code",
   "execution_count": null,
   "id": "6e54c7af-582c-4bca-bb19-400e6ffe25ae",
   "metadata": {},
   "outputs": [],
   "source": []
  },
  {
   "cell_type": "markdown",
   "id": "e37a8df6-e33c-4986-8d82-7b9a302633ea",
   "metadata": {},
   "source": [
    "## 상관계수 큰 애들 (rm , lstat) 기준으로 아웃라이어 확인"
   ]
  },
  {
   "cell_type": "code",
   "execution_count": 271,
   "id": "46040481-3468-4781-9bbf-fe76bac3aaf9",
   "metadata": {},
   "outputs": [
    {
     "name": "stdout",
     "output_type": "stream",
     "text": [
      "5.8854999999999995 6.6235\n",
      "5.8854999999999995 6.6235 0.7380000000000004\n",
      "4.778499999999999 7.730500000000001\n"
     ]
    }
   ],
   "source": [
    "Q1 = data['rm'].quantile(q=0.25)\n",
    "Q3 = data['rm'].quantile(q=0.75)\n",
    "print(Q1, Q3)\n",
    "IQR = Q3-Q1\n",
    "print(Q1, Q3, IQR)\n",
    "\n",
    "lower_lm=Q1-1.5*IQR\n",
    "upper_lm=Q3+1.5*IQR\n",
    "print(lower_lm, upper_lm)"
   ]
  },
  {
   "cell_type": "code",
   "execution_count": 272,
   "id": "d376265e-8f93-46d3-9df2-1ab76f72022b",
   "metadata": {},
   "outputs": [
    {
     "data": {
      "image/png": "[encoded data removed]",
      "text/plain": [
       "<Figure size 1296x360 with 1 Axes>"
      ]
     },
     "metadata": {},
     "output_type": "display_data"
    }
   ],
   "source": [
    "ax = sns.boxplot(x=data[\"rm\"])"
   ]
  },
  {
   "cell_type": "code",
   "execution_count": 273,
   "id": "68c2f003-6051-4215-a5b6-0e870577a6bf",
   "metadata": {},
   "outputs": [
    {
     "data": {
      "image/png": "[encoded data removed]",
      "text/plain": [
       "<Figure size 1296x360 with 1 Axes>"
      ]
     },
     "metadata": {},
     "output_type": "display_data"
    }
   ],
   "source": [
    "ax = sns.boxplot(x=data[\"lstat\"])"
   ]
  },
  {
   "cell_type": "markdown",
   "id": "ef7feba8-ff93-4c05-84a3-6ebcac4b6b26",
   "metadata": {},
   "source": [
    "* 아웃라이어가 있다고 보기 어렵다. (혼자 동떨어진 건 아니라) -> 내버려두자(분석가 마음)"
   ]
  },
  {
   "cell_type": "markdown",
   "id": "50cc3df3-eeac-4180-8a8f-df2d5fa92b83",
   "metadata": {},
   "source": [
    "## 정규분포화(scaling)"
   ]
  },
  {
   "cell_type": "markdown",
   "id": "25edc101-6bf1-4f1f-a60a-6b5814b6e8b6",
   "metadata": {},
   "source": [
    "강사님의 경우 회귀할 때 모든 피쳐에 대해 스케일링 진행하심 -> target도 함.(만약 공모전 내려면 target scaling했으면 나중에 원상복구 시켜놔야 됨******)"
   ]
  },
  {
   "cell_type": "markdown",
   "id": "580d113f-89a4-4c73-86fe-bab85b4bcbb5",
   "metadata": {},
   "source": [
    "방법1) 전부 다 스케일링  \n",
    "방법2) 첨도, 왜도가 심한 피쳐만 기준으로 스케일링"
   ]
  },
  {
   "cell_type": "markdown",
   "id": "da73f4dd-e122-4c19-b7c6-9677359ac636",
   "metadata": {},
   "source": [
    "### 전부 스케일링"
   ]
  },
  {
   "cell_type": "code",
   "execution_count": 274,
   "id": "580a0666-090a-4ddf-a5e9-02f2b873d5f4",
   "metadata": {},
   "outputs": [],
   "source": [
    "data2=np.log1p(data)"
   ]
  },
  {
   "cell_type": "code",
   "execution_count": 275,
   "id": "430fb342-17fc-4b14-8464-ff84532724a4",
   "metadata": {},
   "outputs": [
    {
     "data": {
      "text/html": [
       "<div>\n",
       "<style scoped>\n",
       "    .dataframe tbody tr th:only-of-type {\n",
       "        vertical-align: middle;\n",
       "    }\n",
       "\n",
       "    .dataframe tbody tr th {\n",
       "        vertical-align: top;\n",
       "    }\n",
       "\n",
       "    .dataframe thead th {\n",
       "        text-align: right;\n",
       "    }\n",
       "</style>\n",
       "<table border=\"1\" class=\"dataframe\">\n",
       "  <thead>\n",
       "    <tr style=\"text-align: right;\">\n",
       "      <th></th>\n",
       "      <th>crim</th>\n",
       "      <th>zn</th>\n",
       "      <th>indus</th>\n",
       "      <th>chas</th>\n",
       "      <th>nox</th>\n",
       "      <th>rm</th>\n",
       "      <th>age</th>\n",
       "      <th>dis</th>\n",
       "      <th>rad</th>\n",
       "      <th>tax</th>\n",
       "      <th>ptratio</th>\n",
       "      <th>b</th>\n",
       "      <th>lstat</th>\n",
       "      <th>price</th>\n",
       "    </tr>\n",
       "  </thead>\n",
       "  <tbody>\n",
       "    <tr>\n",
       "      <th>0</th>\n",
       "      <td>0.006300</td>\n",
       "      <td>2.944439</td>\n",
       "      <td>1.196948</td>\n",
       "      <td>0.0</td>\n",
       "      <td>0.430483</td>\n",
       "      <td>2.024853</td>\n",
       "      <td>4.192680</td>\n",
       "      <td>1.627278</td>\n",
       "      <td>0.693147</td>\n",
       "      <td>5.693732</td>\n",
       "      <td>2.791165</td>\n",
       "      <td>5.986201</td>\n",
       "      <td>1.788421</td>\n",
       "      <td>3.218876</td>\n",
       "    </tr>\n",
       "    <tr>\n",
       "      <th>1</th>\n",
       "      <td>0.026944</td>\n",
       "      <td>0.000000</td>\n",
       "      <td>2.088153</td>\n",
       "      <td>0.0</td>\n",
       "      <td>0.384582</td>\n",
       "      <td>2.004314</td>\n",
       "      <td>4.380776</td>\n",
       "      <td>1.786261</td>\n",
       "      <td>1.098612</td>\n",
       "      <td>5.493061</td>\n",
       "      <td>2.933857</td>\n",
       "      <td>5.986201</td>\n",
       "      <td>2.316488</td>\n",
       "      <td>3.117950</td>\n",
       "    </tr>\n",
       "    <tr>\n",
       "      <th>2</th>\n",
       "      <td>0.026924</td>\n",
       "      <td>0.000000</td>\n",
       "      <td>2.088153</td>\n",
       "      <td>0.0</td>\n",
       "      <td>0.384582</td>\n",
       "      <td>2.102303</td>\n",
       "      <td>4.128746</td>\n",
       "      <td>1.786261</td>\n",
       "      <td>1.098612</td>\n",
       "      <td>5.493061</td>\n",
       "      <td>2.933857</td>\n",
       "      <td>5.975919</td>\n",
       "      <td>1.615420</td>\n",
       "      <td>3.575151</td>\n",
       "    </tr>\n",
       "    <tr>\n",
       "      <th>3</th>\n",
       "      <td>0.031857</td>\n",
       "      <td>0.000000</td>\n",
       "      <td>1.156881</td>\n",
       "      <td>0.0</td>\n",
       "      <td>0.377066</td>\n",
       "      <td>2.079192</td>\n",
       "      <td>3.845883</td>\n",
       "      <td>1.954757</td>\n",
       "      <td>1.386294</td>\n",
       "      <td>5.407172</td>\n",
       "      <td>2.980619</td>\n",
       "      <td>5.980479</td>\n",
       "      <td>1.371181</td>\n",
       "      <td>3.538057</td>\n",
       "    </tr>\n",
       "    <tr>\n",
       "      <th>4</th>\n",
       "      <td>0.066770</td>\n",
       "      <td>0.000000</td>\n",
       "      <td>1.156881</td>\n",
       "      <td>0.0</td>\n",
       "      <td>0.377066</td>\n",
       "      <td>2.097650</td>\n",
       "      <td>4.010963</td>\n",
       "      <td>1.954757</td>\n",
       "      <td>1.386294</td>\n",
       "      <td>5.407172</td>\n",
       "      <td>2.980619</td>\n",
       "      <td>5.986201</td>\n",
       "      <td>1.845300</td>\n",
       "      <td>3.616309</td>\n",
       "    </tr>\n",
       "  </tbody>\n",
       "</table>\n",
       "</div>"
      ],
      "text/plain": [
       "       crim        zn     indus  chas       nox        rm       age       dis  \\\n",
       "0  0.006300  2.944439  1.196948   0.0  0.430483  2.024853  4.192680  1.627278   \n",
       "1  0.026944  0.000000  2.088153   0.0  0.384582  2.004314  4.380776  1.786261   \n",
       "2  0.026924  0.000000  2.088153   0.0  0.384582  2.102303  4.128746  1.786261   \n",
       "3  0.031857  0.000000  1.156881   0.0  0.377066  2.079192  3.845883  1.954757   \n",
       "4  0.066770  0.000000  1.156881   0.0  0.377066  2.097650  4.010963  1.954757   \n",
       "\n",
       "        rad       tax   ptratio         b     lstat     price  \n",
       "0  0.693147  5.693732  2.791165  5.986201  1.788421  3.218876  \n",
       "1  1.098612  5.493061  2.933857  5.986201  2.316488  3.117950  \n",
       "2  1.098612  5.493061  2.933857  5.975919  1.615420  3.575151  \n",
       "3  1.386294  5.407172  2.980619  5.980479  1.371181  3.538057  \n",
       "4  1.386294  5.407172  2.980619  5.986201  1.845300  3.616309  "
      ]
     },
     "execution_count": 275,
     "metadata": {},
     "output_type": "execute_result"
    }
   ],
   "source": [
    "data2.head()"
   ]
  },
  {
   "cell_type": "code",
   "execution_count": 276,
   "id": "7aadab9e-5891-4de8-afdc-0ff8499db106",
   "metadata": {},
   "outputs": [
    {
     "data": {
      "text/plain": [
       "array([[<AxesSubplot:title={'center':'crim'}>,\n",
       "        <AxesSubplot:title={'center':'zn'}>,\n",
       "        <AxesSubplot:title={'center':'indus'}>,\n",
       "        <AxesSubplot:title={'center':'chas'}>],\n",
       "       [<AxesSubplot:title={'center':'nox'}>,\n",
       "        <AxesSubplot:title={'center':'rm'}>,\n",
       "        <AxesSubplot:title={'center':'age'}>,\n",
       "        <AxesSubplot:title={'center':'dis'}>],\n",
       "       [<AxesSubplot:title={'center':'rad'}>,\n",
       "        <AxesSubplot:title={'center':'tax'}>,\n",
       "        <AxesSubplot:title={'center':'ptratio'}>,\n",
       "        <AxesSubplot:title={'center':'b'}>],\n",
       "       [<AxesSubplot:title={'center':'lstat'}>,\n",
       "        <AxesSubplot:title={'center':'price'}>, <AxesSubplot:>,\n",
       "        <AxesSubplot:>]], dtype=object)"
      ]
     },
     "execution_count": 276,
     "metadata": {},
     "output_type": "execute_result"
    },
    {
     "data": {
      "image/png": "[encoded data removed]",
      "text/plain": [
       "<Figure size 1296x360 with 16 Axes>"
      ]
     },
     "metadata": {},
     "output_type": "display_data"
    }
   ],
   "source": [
    "data2.hist()"
   ]
  },
  {
   "cell_type": "code",
   "execution_count": 277,
   "id": "1d06f19d-bdc7-4446-85e6-7d09a9a9366e",
   "metadata": {},
   "outputs": [
    {
     "name": "stdout",
     "output_type": "stream",
     "text": [
      "MSE: 0.0402\tRMAE:0.2005\tMSLE: (생략)\tMAE: 0.1482\t(LinearRegression)\n",
      "MSE: 0.1543\tRMAE:0.3929\tMSLE: (생략)\tMAE: 0.2937\t(Lasso)\n",
      "MSE: 0.1543\tRMAE:0.3929\tMSLE: (생략)\tMAE: 0.2937\t(ElasticNet)\n",
      "MSE: 0.0412\tRMAE:0.2029\tMSLE: (생략)\tMAE: 0.1472\t(Ridge)\n",
      "MSE: 0.0342\tRMAE:0.1850\tMSLE: (생략)\tMAE: 0.1289\t(XGBRegressor)\n",
      "MSE: 0.0329\tRMAE:0.1815\tMSLE: (생략)\tMAE: 0.1247\t(LGBMRegressor)\n"
     ]
    }
   ],
   "source": [
    "my_fit_score(data2)"
   ]
  },
  {
   "cell_type": "markdown",
   "id": "3c4f6294-5d0c-4e13-ad6b-3018a0fe6a03",
   "metadata": {},
   "source": [
    "### Price만"
   ]
  },
  {
   "cell_type": "code",
   "execution_count": 278,
   "id": "9092dde0-dfc3-407f-9a63-4d68ce7a9a9c",
   "metadata": {},
   "outputs": [],
   "source": [
    "data['price']=np.log1p(data['price'])"
   ]
  },
  {
   "cell_type": "code",
   "execution_count": 279,
   "id": "a7619a5c-0c8a-4e73-b019-7a38779c4ec8",
   "metadata": {},
   "outputs": [
    {
     "name": "stdout",
     "output_type": "stream",
     "text": [
      "MSE: 0.0391\tRMAE:0.1977\tMSLE: (생략)\tMAE: 0.1387\t(LinearRegression)\n",
      "MSE: 0.0749\tRMAE:0.2736\tMSLE: (생략)\tMAE: 0.2102\t(Lasso)\n",
      "MSE: 0.0580\tRMAE:0.2409\tMSLE: (생략)\tMAE: 0.1828\t(ElasticNet)\n",
      "MSE: 0.0400\tRMAE:0.1999\tMSLE: (생략)\tMAE: 0.1384\t(Ridge)\n",
      "MSE: 0.0342\tRMAE:0.1849\tMSLE: (생략)\tMAE: 0.1284\t(XGBRegressor)\n",
      "MSE: 0.0330\tRMAE:0.1816\tMSLE: (생략)\tMAE: 0.1247\t(LGBMRegressor)\n"
     ]
    }
   ],
   "source": [
    "my_fit_score(data)"
   ]
  },
  {
   "cell_type": "code",
   "execution_count": null,
   "id": "580a4614-bb12-4cf5-a561-4fbe07c7fa52",
   "metadata": {},
   "outputs": [],
   "source": []
  },
  {
   "cell_type": "markdown",
   "id": "c99561b9-8469-457f-becb-47336c989031",
   "metadata": {},
   "source": [
    "### scaler 쓰는 부분 다시 공부 ^^;;\n",
    "-> scaler는 분포를 변화시키지 않는다."
   ]
  },
  {
   "cell_type": "code",
   "execution_count": 280,
   "id": "6119ebd8-71eb-40ff-8886-eb53de1b9b3f",
   "metadata": {},
   "outputs": [],
   "source": [
    "# scaler=StandardScaler()\n",
    "# df_scaler=scaler.fit_transform(data) # array로 던진다."
   ]
  },
  {
   "cell_type": "code",
   "execution_count": 281,
   "id": "9bffc7f3-def7-4e2a-917e-9cb1379b2df2",
   "metadata": {},
   "outputs": [],
   "source": [
    "# 함수에 넣으려면 데이터 프레임에 넣어야됨.\n",
    "# df_scaler=pd.DataFrame(df_scaler)\n",
    "# df_scaler.columns=data.columns\n",
    "# df_scaler.head()"
   ]
  },
  {
   "cell_type": "code",
   "execution_count": 282,
   "id": "8b525676-b115-456d-a3a0-72241e8b5ae6",
   "metadata": {},
   "outputs": [],
   "source": [
    "# df_scaler.hist()"
   ]
  },
  {
   "cell_type": "code",
   "execution_count": 283,
   "id": "a696d02a-40b5-4144-bff6-94f613103b7c",
   "metadata": {},
   "outputs": [],
   "source": [
    "# my_fit_score(df_scaler)"
   ]
  },
  {
   "cell_type": "code",
   "execution_count": null,
   "id": "fca5634d-45c1-4593-8712-ce511f69283a",
   "metadata": {},
   "outputs": [],
   "source": []
  },
  {
   "cell_type": "code",
   "execution_count": null,
   "id": "c1570572-d97e-4d22-89ee-7fdfcb4dc573",
   "metadata": {},
   "outputs": [],
   "source": []
  },
  {
   "cell_type": "code",
   "execution_count": null,
   "id": "2012da90-4e05-43c7-b7c6-d239639b3199",
   "metadata": {},
   "outputs": [],
   "source": []
  },
  {
   "cell_type": "markdown",
   "id": "40017020-4f5e-436c-aa12-03cb7eeca8b0",
   "metadata": {},
   "source": [
    "### 왜도 첨도 기준 -> 심한 애들+target feature"
   ]
  },
  {
   "cell_type": "code",
   "execution_count": 290,
   "id": "e8e4cf74-d87a-413c-84ee-d44480dcacba",
   "metadata": {},
   "outputs": [
    {
     "data": {
      "text/html": [
       "<div>\n",
       "<style scoped>\n",
       "    .dataframe tbody tr th:only-of-type {\n",
       "        vertical-align: middle;\n",
       "    }\n",
       "\n",
       "    .dataframe tbody tr th {\n",
       "        vertical-align: top;\n",
       "    }\n",
       "\n",
       "    .dataframe thead th {\n",
       "        text-align: right;\n",
       "    }\n",
       "</style>\n",
       "<table border=\"1\" class=\"dataframe\">\n",
       "  <thead>\n",
       "    <tr style=\"text-align: right;\">\n",
       "      <th></th>\n",
       "      <th>crim</th>\n",
       "      <th>zn</th>\n",
       "      <th>indus</th>\n",
       "      <th>chas</th>\n",
       "      <th>nox</th>\n",
       "      <th>rm</th>\n",
       "      <th>age</th>\n",
       "      <th>dis</th>\n",
       "      <th>rad</th>\n",
       "      <th>tax</th>\n",
       "      <th>ptratio</th>\n",
       "      <th>b</th>\n",
       "      <th>lstat</th>\n",
       "      <th>price</th>\n",
       "    </tr>\n",
       "  </thead>\n",
       "  <tbody>\n",
       "    <tr>\n",
       "      <th>0</th>\n",
       "      <td>-0.419782</td>\n",
       "      <td>0.284830</td>\n",
       "      <td>2.31</td>\n",
       "      <td>-0.272599</td>\n",
       "      <td>0.538</td>\n",
       "      <td>6.575</td>\n",
       "      <td>65.2</td>\n",
       "      <td>4.0900</td>\n",
       "      <td>1</td>\n",
       "      <td>296</td>\n",
       "      <td>15.3</td>\n",
       "      <td>396.90</td>\n",
       "      <td>4.98</td>\n",
       "      <td>0.345176</td>\n",
       "    </tr>\n",
       "    <tr>\n",
       "      <th>1</th>\n",
       "      <td>-0.417339</td>\n",
       "      <td>-0.487722</td>\n",
       "      <td>7.07</td>\n",
       "      <td>-0.272599</td>\n",
       "      <td>0.469</td>\n",
       "      <td>6.421</td>\n",
       "      <td>78.9</td>\n",
       "      <td>4.9671</td>\n",
       "      <td>2</td>\n",
       "      <td>242</td>\n",
       "      <td>17.8</td>\n",
       "      <td>396.90</td>\n",
       "      <td>9.14</td>\n",
       "      <td>0.084104</td>\n",
       "    </tr>\n",
       "    <tr>\n",
       "      <th>2</th>\n",
       "      <td>-0.417342</td>\n",
       "      <td>-0.487722</td>\n",
       "      <td>7.07</td>\n",
       "      <td>-0.272599</td>\n",
       "      <td>0.469</td>\n",
       "      <td>7.185</td>\n",
       "      <td>61.1</td>\n",
       "      <td>4.9671</td>\n",
       "      <td>2</td>\n",
       "      <td>242</td>\n",
       "      <td>17.8</td>\n",
       "      <td>392.83</td>\n",
       "      <td>4.03</td>\n",
       "      <td>1.266776</td>\n",
       "    </tr>\n",
       "    <tr>\n",
       "      <th>3</th>\n",
       "      <td>-0.416750</td>\n",
       "      <td>-0.487722</td>\n",
       "      <td>2.18</td>\n",
       "      <td>-0.272599</td>\n",
       "      <td>0.458</td>\n",
       "      <td>6.998</td>\n",
       "      <td>45.8</td>\n",
       "      <td>6.0622</td>\n",
       "      <td>3</td>\n",
       "      <td>222</td>\n",
       "      <td>18.7</td>\n",
       "      <td>394.63</td>\n",
       "      <td>2.94</td>\n",
       "      <td>1.170822</td>\n",
       "    </tr>\n",
       "    <tr>\n",
       "      <th>4</th>\n",
       "      <td>-0.412482</td>\n",
       "      <td>-0.487722</td>\n",
       "      <td>2.18</td>\n",
       "      <td>-0.272599</td>\n",
       "      <td>0.458</td>\n",
       "      <td>7.147</td>\n",
       "      <td>54.2</td>\n",
       "      <td>6.0622</td>\n",
       "      <td>3</td>\n",
       "      <td>222</td>\n",
       "      <td>18.7</td>\n",
       "      <td>396.90</td>\n",
       "      <td>5.33</td>\n",
       "      <td>1.373242</td>\n",
       "    </tr>\n",
       "  </tbody>\n",
       "</table>\n",
       "</div>"
      ],
      "text/plain": [
       "       crim        zn  indus      chas    nox     rm   age     dis  rad  tax  \\\n",
       "0 -0.419782  0.284830   2.31 -0.272599  0.538  6.575  65.2  4.0900    1  296   \n",
       "1 -0.417339 -0.487722   7.07 -0.272599  0.469  6.421  78.9  4.9671    2  242   \n",
       "2 -0.417342 -0.487722   7.07 -0.272599  0.469  7.185  61.1  4.9671    2  242   \n",
       "3 -0.416750 -0.487722   2.18 -0.272599  0.458  6.998  45.8  6.0622    3  222   \n",
       "4 -0.412482 -0.487722   2.18 -0.272599  0.458  7.147  54.2  6.0622    3  222   \n",
       "\n",
       "   ptratio       b  lstat     price  \n",
       "0     15.3  396.90   4.98  0.345176  \n",
       "1     17.8  396.90   9.14  0.084104  \n",
       "2     17.8  392.83   4.03  1.266776  \n",
       "3     18.7  394.63   2.94  1.170822  \n",
       "4     18.7  396.90   5.33  1.373242  "
      ]
     },
     "execution_count": 290,
     "metadata": {},
     "output_type": "execute_result"
    }
   ],
   "source": [
    "############어떻게 하냐?\n",
    "# data.loc[1,data.skew().values>2]\n",
    "skew_col_list=data.skew()[data.skew()>2].index.tolist() # data.skew().values()>2 안 해도 됨\n",
    "skew_col_list.append('price')\n",
    "\n",
    "scaler=StandardScaler()\n",
    "data[skew_col_list]=scaler.fit_transform(data[skew_col_list])\n",
    "data.head()"
   ]
  },
  {
   "cell_type": "code",
   "execution_count": 295,
   "id": "ccc5768b-3a48-4b4e-afa9-bf9fa1661f2f",
   "metadata": {},
   "outputs": [
    {
     "name": "stdout",
     "output_type": "stream",
     "text": [
      "MSE: 0.2615\tRMAE:0.5114\tMSLE: (생략)\tMAE: 0.3589\t(LinearRegression)\n",
      "MSE: 0.3753\tRMAE:0.6126\tMSLE: (생략)\tMAE: 0.4628\t(Lasso)\n",
      "MSE: 0.3701\tRMAE:0.6084\tMSLE: (생략)\tMAE: 0.4559\t(ElasticNet)\n",
      "MSE: 0.2672\tRMAE:0.5169\tMSLE: (생략)\tMAE: 0.3580\t(Ridge)\n",
      "MSE: 0.2326\tRMAE:0.4823\tMSLE: (생략)\tMAE: 0.3170\t(XGBRegressor)\n",
      "MSE: 0.2206\tRMAE:0.4696\tMSLE: (생략)\tMAE: 0.3213\t(LGBMRegressor)\n"
     ]
    }
   ],
   "source": [
    "my_fit_score(data) # 된건가?"
   ]
  },
  {
   "cell_type": "markdown",
   "id": "de25f60f-d734-4bbb-b35a-01138605bcfe",
   "metadata": {},
   "source": [
    "## tax, rad(다중공선성 처리)"
   ]
  },
  {
   "cell_type": "markdown",
   "id": "9be7daaa-61ca-4597-9147-168dbe19c8b3",
   "metadata": {},
   "source": [
    "\n",
    "-> pca->아웃라이어 처리, 스케일링 한 후에 해야한다.  \n",
    "(1) rad drop  \n",
    "(2) 차원축소(설명력 약간 떨어진다.)  "
   ]
  },
  {
   "cell_type": "markdown",
   "id": "de2cad1b-db13-401b-bfeb-cb6ca5634235",
   "metadata": {},
   "source": [
    "### 방법1) 아웃라이어 처리하고 스케일링 하고 PCA(???? 강사님 코드 확인)"
   ]
  },
  {
   "cell_type": "code",
   "execution_count": 296,
   "id": "c9890a5b-3b5a-4400-a717-17a21e7befab",
   "metadata": {},
   "outputs": [
    {
     "data": {
      "text/html": [
       "<div>\n",
       "<style scoped>\n",
       "    .dataframe tbody tr th:only-of-type {\n",
       "        vertical-align: middle;\n",
       "    }\n",
       "\n",
       "    .dataframe tbody tr th {\n",
       "        vertical-align: top;\n",
       "    }\n",
       "\n",
       "    .dataframe thead th {\n",
       "        text-align: right;\n",
       "    }\n",
       "</style>\n",
       "<table border=\"1\" class=\"dataframe\">\n",
       "  <thead>\n",
       "    <tr style=\"text-align: right;\">\n",
       "      <th></th>\n",
       "      <th>tax</th>\n",
       "      <th>rad</th>\n",
       "    </tr>\n",
       "  </thead>\n",
       "  <tbody>\n",
       "    <tr>\n",
       "      <th>tax</th>\n",
       "      <td>1.000000</td>\n",
       "      <td>0.910228</td>\n",
       "    </tr>\n",
       "    <tr>\n",
       "      <th>rad</th>\n",
       "      <td>0.910228</td>\n",
       "      <td>1.000000</td>\n",
       "    </tr>\n",
       "  </tbody>\n",
       "</table>\n",
       "</div>"
      ],
      "text/plain": [
       "          tax       rad\n",
       "tax  1.000000  0.910228\n",
       "rad  0.910228  1.000000"
      ]
     },
     "execution_count": 296,
     "metadata": {},
     "output_type": "execute_result"
    }
   ],
   "source": [
    "data[['tax','rad']].corr()"
   ]
  },
  {
   "cell_type": "code",
   "execution_count": 297,
   "id": "85054028-2f48-4b00-b63d-f06834890047",
   "metadata": {},
   "outputs": [
    {
     "data": {
      "text/plain": [
       "<AxesSubplot:xlabel='tax', ylabel='rad'>"
      ]
     },
     "execution_count": 297,
     "metadata": {},
     "output_type": "execute_result"
    },
    {
     "data": {
      "image/png": "[encoded data removed]",
      "text/plain": [
       "<Figure size 1296x360 with 1 Axes>"
      ]
     },
     "metadata": {},
     "output_type": "display_data"
    }
   ],
   "source": [
    "sns.scatterplot(data=data, x=\"tax\", y=\"rad\")"
   ]
  },
  {
   "cell_type": "code",
   "execution_count": 294,
   "id": "f7bf12eb-c4fa-44f4-b04b-d8cd6aad8e15",
   "metadata": {},
   "outputs": [
    {
     "data": {
      "text/plain": [
       "<AxesSubplot:xlabel='tax', ylabel='rad'>"
      ]
     },
     "execution_count": 294,
     "metadata": {},
     "output_type": "execute_result"
    },
    {
     "data": {
      "image/png": "[encoded data removed]",
      "text/plain": [
       "<Figure size 1296x360 with 1 Axes>"
      ]
     },
     "metadata": {},
     "output_type": "display_data"
    }
   ],
   "source": [
    "sns.scatterplot(data=data[data['tax']<=600], x=\"tax\", y=\"rad\") "
   ]
  },
  {
   "cell_type": "markdown",
   "id": "d774d453-2cd9-4e02-8b68-3e695c369f56",
   "metadata": {},
   "source": [
    "** To-Do : tax가 600 이상인 애들 2건이 아니라 137건 처리 고민"
   ]
  },
  {
   "cell_type": "code",
   "execution_count": 299,
   "id": "bc2c5003-a064-474e-bbe3-f4eebe3b8426",
   "metadata": {},
   "outputs": [
    {
     "data": {
      "text/plain": [
       "137"
      ]
     },
     "execution_count": 299,
     "metadata": {},
     "output_type": "execute_result"
    }
   ],
   "source": [
    "len(data[data['tax']>=600].index.tolist())"
   ]
  },
  {
   "cell_type": "code",
   "execution_count": 300,
   "id": "4ddd30cd-3911-4604-9187-bbb34165092e",
   "metadata": {},
   "outputs": [],
   "source": [
    "drop_idx=data[data['tax']>=600].index.tolist()\n",
    "data=data.drop(drop_idx, axis=0)"
   ]
  },
  {
   "cell_type": "code",
   "execution_count": 302,
   "id": "dce877f5-5d2c-48ee-8e2c-5ad71f8f902c",
   "metadata": {},
   "outputs": [
    {
     "data": {
      "text/plain": [
       "(369, 14)"
      ]
     },
     "execution_count": 302,
     "metadata": {},
     "output_type": "execute_result"
    }
   ],
   "source": [
    "data.shape"
   ]
  },
  {
   "cell_type": "code",
   "execution_count": 304,
   "id": "f79cd8e7-fb6f-45d6-acb0-a3ff9707b019",
   "metadata": {},
   "outputs": [
    {
     "name": "stdout",
     "output_type": "stream",
     "text": [
      "MSE: 0.0917\tRMAE:0.3028\tMSLE: (생략)\tMAE: 0.2257\t(LinearRegression)\n",
      "MSE: 0.2929\tRMAE:0.5412\tMSLE: (생략)\tMAE: 0.4049\t(Lasso)\n",
      "MSE: 0.2600\tRMAE:0.5099\tMSLE: (생략)\tMAE: 0.3823\t(ElasticNet)\n",
      "MSE: 0.0937\tRMAE:0.3061\tMSLE: (생략)\tMAE: 0.2275\t(Ridge)\n",
      "MSE: 0.0796\tRMAE:0.2821\tMSLE: (생략)\tMAE: 0.2071\t(XGBRegressor)\n",
      "MSE: 0.0706\tRMAE:0.2657\tMSLE: (생략)\tMAE: 0.2023\t(LGBMRegressor)\n"
     ]
    }
   ],
   "source": [
    "my_fit_score(data) # 점수는 좋아졌는데 이러면 모르는 데이터 봤을 때도 좋을지는 모른다. -> Fold하면 뭐...(강사님)"
   ]
  },
  {
   "cell_type": "code",
   "execution_count": null,
   "id": "a69a19ec-dc87-4497-9a75-f14491b58617",
   "metadata": {},
   "outputs": [],
   "source": [
    "# 혜린: 아웃라이어 없애면 상관도 떨어지네\n",
    "data[data['tax']<=600][['tax','rad']].corr()"
   ]
  },
  {
   "cell_type": "markdown",
   "id": "6d4da0c7-305a-4a1c-baac-5626af35a6bc",
   "metadata": {},
   "source": [
    "### 방법2) rad 버리기\n",
    "* price와의 상관도가 상대적으로 적은 피쳐 버리기"
   ]
  },
  {
   "cell_type": "code",
   "execution_count": 306,
   "id": "007e129f-93f4-4465-a717-97679442777b",
   "metadata": {},
   "outputs": [
    {
     "data": {
      "text/plain": [
       "(369, 13)"
      ]
     },
     "execution_count": 306,
     "metadata": {},
     "output_type": "execute_result"
    }
   ],
   "source": [
    "data=data.drop('rad',axis=1)\n",
    "data.shape"
   ]
  },
  {
   "cell_type": "code",
   "execution_count": 307,
   "id": "2bfb762f-d641-485b-b1c6-393f0a6948c0",
   "metadata": {},
   "outputs": [
    {
     "name": "stdout",
     "output_type": "stream",
     "text": [
      "MSE: 0.0932\tRMAE:0.3053\tMSLE: (생략)\tMAE: 0.2325\t(LinearRegression)\n",
      "MSE: 0.2929\tRMAE:0.5412\tMSLE: (생략)\tMAE: 0.4049\t(Lasso)\n",
      "MSE: 0.2600\tRMAE:0.5099\tMSLE: (생략)\tMAE: 0.3823\t(ElasticNet)\n",
      "MSE: 0.0958\tRMAE:0.3096\tMSLE: (생략)\tMAE: 0.2336\t(Ridge)\n",
      "MSE: 0.0775\tRMAE:0.2784\tMSLE: (생략)\tMAE: 0.2047\t(XGBRegressor)\n",
      "MSE: 0.0739\tRMAE:0.2719\tMSLE: (생략)\tMAE: 0.2081\t(LGBMRegressor)\n"
     ]
    }
   ],
   "source": [
    "my_fit_score(data)"
   ]
  },
  {
   "cell_type": "markdown",
   "id": "cb49c081-a83e-4aaf-97ed-c88ba101d68a",
   "metadata": {},
   "source": [
    "# 학습 & 평가"
   ]
  },
  {
   "cell_type": "markdown",
   "id": "380f8c6d-e20f-4888-af49-c6112fc3241d",
   "metadata": {},
   "source": [
    "주요 평가 메트릭스\n",
    "<pre>\n",
    "MSE   RMSE MSLE  MAE\n",
    "‘neg_mean_squared_error’        metrics.mean_squared_error(squared=True) *기본\n",
    "‘neg_root_mean_squared_error’   metrics.mean_squared_error(squared=False)\n",
    "‘neg_mean_squared_log_error’    metrics.mean_squared_log_error()\n",
    "‘neg_mean_absolute_error’       metrics.mean_absolute_error()\n",
    "‘neg_median_absolute_error’     metrics.median_absolute_error() ----그닥\n"
   ]
  },
  {
   "cell_type": "markdown",
   "id": "4e6fcfbf-c63e-4abb-b0cf-9a59946dd192",
   "metadata": {},
   "source": [
    "* 위로 함수 올림"
   ]
  },
  {
   "cell_type": "markdown",
   "id": "d3d4905d-0bc8-4024-ace7-f1a0c0b07304",
   "metadata": {},
   "source": [
    "# 검증, PCA"
   ]
  },
  {
   "cell_type": "markdown",
   "id": "c75a513a-497d-4b35-b5be-7603598fc45e",
   "metadata": {},
   "source": [
    "* 회귀계수 (학습에 가장 영향 많이 준 feature 살핌)\n",
    "* 모델튜닝 : 규제 적용(L1, L2) -->(학습에 가장 영향 많이 준 feature 살핌)\n",
    "* 교차검증\n",
    "  -- 가공이 잘 된 (양질) 데이터를 좋은 모델(튜닝)로 교차검증(학습량 충분)"
   ]
  },
  {
   "cell_type": "code",
   "execution_count": null,
   "id": "4eb53643-0e9c-4766-ad69-7e5f40413277",
   "metadata": {},
   "outputs": [],
   "source": []
  },
  {
   "cell_type": "code",
   "execution_count": null,
   "id": "a9ef4f07-487e-41a7-bdeb-c3990c4c3914",
   "metadata": {},
   "outputs": [],
   "source": []
  },
  {
   "cell_type": "code",
   "execution_count": null,
   "id": "2ce6c3bb-1fbc-4820-8ba5-fba05b871aed",
   "metadata": {},
   "outputs": [],
   "source": []
  },
  {
   "cell_type": "code",
   "execution_count": null,
   "id": "7c9ee920-86f3-4932-89b7-ab8a7534f012",
   "metadata": {},
   "outputs": [],
   "source": []
  },
  {
   "cell_type": "code",
   "execution_count": null,
   "id": "c7eca2dd-f6d4-47bd-b0f6-6487c6df5aaa",
   "metadata": {},
   "outputs": [],
   "source": []
  },
  {
   "cell_type": "code",
   "execution_count": null,
   "id": "4adf73d4-9379-4185-acb2-a8f52c5cc598",
   "metadata": {},
   "outputs": [],
   "source": []
  },
  {
   "cell_type": "code",
   "execution_count": null,
   "id": "0d03453a-57c6-4cf1-a4d4-623f4b45c39d",
   "metadata": {},
   "outputs": [],
   "source": []
  },
  {
   "cell_type": "code",
   "execution_count": null,
   "id": "35449a2a-d30d-4c33-854d-09a1ebdc4cf6",
   "metadata": {},
   "outputs": [],
   "source": []
  },
  {
   "cell_type": "code",
   "execution_count": null,
   "id": "6a9702ef-a843-400b-8d0d-08739cd5d1d0",
   "metadata": {},
   "outputs": [],
   "source": []
  }
 ],
 "metadata": {
  "kernelspec": {
   "display_name": "Python 3 (ipykernel)",
   "language": "python",
   "name": "python3"
  },
  "language_info": {
   "codemirror_mode": {
    "name": "ipython",
    "version": 3
   },
   "file_extension": ".py",
   "mimetype": "text/x-python",
   "name": "python",
   "nbconvert_exporter": "python",
   "pygments_lexer": "ipython3",
   "version": "3.8.8"
  }
 },
 "nbformat": 4,
 "nbformat_minor": 5
}
