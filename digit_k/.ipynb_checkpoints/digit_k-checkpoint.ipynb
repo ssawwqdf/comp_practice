{
 "cells": [
  {
   "cell_type": "markdown",
   "id": "50431fb7-f504-4846-afd9-e55d1573e750",
   "metadata": {},
   "source": [
    "<img src=logo.png>"
   ]
  },
  {
   "cell_type": "markdown",
   "id": "7f78b166-d141-4fef-ae70-4ad81e28b791",
   "metadata": {},
   "source": [
    "* ref: https://www.kaggle.com/c/digit-recognizer/overview  \n",
    "❕ csv -> arr"
   ]
  },
  {
   "cell_type": "code",
   "execution_count": 2,
   "id": "1082af2f-00ef-4c5f-987b-ae520410387f",
   "metadata": {},
   "outputs": [],
   "source": [
    "import pandas as pd\n",
    "import numpy as np\n",
    "\n",
    "import warnings\n",
    "warnings.filterwarnings(action='ignore')\n",
    "\n",
    "#-------------------- visualization (edcoding, grid) -----------\n",
    "\n",
    "import matplotlib.pyplot as plt\n",
    "import seaborn as sns\n",
    "\n",
    "#plt.rc('font', family='NanumGothicOTF') # For MacOS\n",
    "plt.rcParams['font.family']= 'Malgun Gothic'\n",
    "plt.rcParams['axes.unicode_minus'] = False\n",
    "# sns.set()\n"
   ]
  },
  {
   "cell_type": "code",
   "execution_count": 54,
   "id": "7874aa2f-e40f-4cfe-94ce-e63448b10015",
   "metadata": {},
   "outputs": [],
   "source": [
    "# ------------- tensorflow & keras -----------------\n",
    "import tensorflow as tf\n",
    "from keras.models import Sequential\n",
    "from keras.layers import Dense, Activation\n",
    "\n",
    "from tensorflow.keras.utils import to_categorical\n",
    "\n",
    "# ----------------- fixing seed --------------------\n",
    "np.random.seed(1024)\n",
    "tf.random.set_seed(1024)"
   ]
  },
  {
   "cell_type": "markdown",
   "id": "6d349ff4-7fcb-4025-bffb-e3de01559d4b",
   "metadata": {},
   "source": [
    "# Dataload"
   ]
  },
  {
   "cell_type": "code",
   "execution_count": 4,
   "id": "3342b735-8d7a-4fe7-b10c-5536c76bea6e",
   "metadata": {},
   "outputs": [],
   "source": [
    "train = pd.read_csv('dataset/train.csv')\n",
    "test = pd.read_csv('dataset/test.csv')\n",
    "sub = pd.read_csv('dataset/sample_submission.csv')"
   ]
  },
  {
   "cell_type": "code",
   "execution_count": 7,
   "id": "7d8783fe-9bd0-4e65-9d38-bb6400b0cd59",
   "metadata": {},
   "outputs": [
    {
     "name": "stdout",
     "output_type": "stream",
     "text": [
      "<class 'pandas.core.frame.DataFrame'>\n",
      "RangeIndex: 42000 entries, 0 to 41999\n",
      "Columns: 785 entries, label to pixel783\n",
      "dtypes: int64(785)\n",
      "memory usage: 251.5 MB\n"
     ]
    }
   ],
   "source": [
    "train.info()"
   ]
  },
  {
   "cell_type": "code",
   "execution_count": 8,
   "id": "7a8acebe-de13-4c59-8b51-53bd832d0519",
   "metadata": {},
   "outputs": [
    {
     "name": "stdout",
     "output_type": "stream",
     "text": [
      "<class 'pandas.core.frame.DataFrame'>\n",
      "RangeIndex: 28000 entries, 0 to 27999\n",
      "Columns: 784 entries, pixel0 to pixel783\n",
      "dtypes: int64(784)\n",
      "memory usage: 167.5 MB\n"
     ]
    }
   ],
   "source": [
    "test.info()"
   ]
  },
  {
   "cell_type": "code",
   "execution_count": 13,
   "id": "92534595-704e-4dc5-9863-c44e8902a882",
   "metadata": {},
   "outputs": [
    {
     "name": "stdout",
     "output_type": "stream",
     "text": [
      "<class 'pandas.core.frame.DataFrame'>\n",
      "RangeIndex: 28000 entries, 0 to 27999\n",
      "Data columns (total 2 columns):\n",
      " #   Column   Non-Null Count  Dtype\n",
      "---  ------   --------------  -----\n",
      " 0   ImageId  28000 non-null  int64\n",
      " 1   Label    28000 non-null  int64\n",
      "dtypes: int64(2)\n",
      "memory usage: 437.6 KB\n"
     ]
    }
   ],
   "source": [
    "sub.info()"
   ]
  },
  {
   "cell_type": "code",
   "execution_count": 9,
   "id": "3076b81d-9d9e-4095-b32b-1b593f20486b",
   "metadata": {},
   "outputs": [
    {
     "data": {
      "text/html": [
       "<div>\n",
       "<style scoped>\n",
       "    .dataframe tbody tr th:only-of-type {\n",
       "        vertical-align: middle;\n",
       "    }\n",
       "\n",
       "    .dataframe tbody tr th {\n",
       "        vertical-align: top;\n",
       "    }\n",
       "\n",
       "    .dataframe thead th {\n",
       "        text-align: right;\n",
       "    }\n",
       "</style>\n",
       "<table border=\"1\" class=\"dataframe\">\n",
       "  <thead>\n",
       "    <tr style=\"text-align: right;\">\n",
       "      <th></th>\n",
       "      <th>label</th>\n",
       "      <th>pixel0</th>\n",
       "      <th>pixel1</th>\n",
       "      <th>pixel2</th>\n",
       "      <th>pixel3</th>\n",
       "      <th>pixel4</th>\n",
       "      <th>pixel5</th>\n",
       "      <th>pixel6</th>\n",
       "      <th>pixel7</th>\n",
       "      <th>pixel8</th>\n",
       "      <th>...</th>\n",
       "      <th>pixel774</th>\n",
       "      <th>pixel775</th>\n",
       "      <th>pixel776</th>\n",
       "      <th>pixel777</th>\n",
       "      <th>pixel778</th>\n",
       "      <th>pixel779</th>\n",
       "      <th>pixel780</th>\n",
       "      <th>pixel781</th>\n",
       "      <th>pixel782</th>\n",
       "      <th>pixel783</th>\n",
       "    </tr>\n",
       "  </thead>\n",
       "  <tbody>\n",
       "    <tr>\n",
       "      <th>0</th>\n",
       "      <td>1</td>\n",
       "      <td>0</td>\n",
       "      <td>0</td>\n",
       "      <td>0</td>\n",
       "      <td>0</td>\n",
       "      <td>0</td>\n",
       "      <td>0</td>\n",
       "      <td>0</td>\n",
       "      <td>0</td>\n",
       "      <td>0</td>\n",
       "      <td>...</td>\n",
       "      <td>0</td>\n",
       "      <td>0</td>\n",
       "      <td>0</td>\n",
       "      <td>0</td>\n",
       "      <td>0</td>\n",
       "      <td>0</td>\n",
       "      <td>0</td>\n",
       "      <td>0</td>\n",
       "      <td>0</td>\n",
       "      <td>0</td>\n",
       "    </tr>\n",
       "    <tr>\n",
       "      <th>1</th>\n",
       "      <td>0</td>\n",
       "      <td>0</td>\n",
       "      <td>0</td>\n",
       "      <td>0</td>\n",
       "      <td>0</td>\n",
       "      <td>0</td>\n",
       "      <td>0</td>\n",
       "      <td>0</td>\n",
       "      <td>0</td>\n",
       "      <td>0</td>\n",
       "      <td>...</td>\n",
       "      <td>0</td>\n",
       "      <td>0</td>\n",
       "      <td>0</td>\n",
       "      <td>0</td>\n",
       "      <td>0</td>\n",
       "      <td>0</td>\n",
       "      <td>0</td>\n",
       "      <td>0</td>\n",
       "      <td>0</td>\n",
       "      <td>0</td>\n",
       "    </tr>\n",
       "    <tr>\n",
       "      <th>2</th>\n",
       "      <td>1</td>\n",
       "      <td>0</td>\n",
       "      <td>0</td>\n",
       "      <td>0</td>\n",
       "      <td>0</td>\n",
       "      <td>0</td>\n",
       "      <td>0</td>\n",
       "      <td>0</td>\n",
       "      <td>0</td>\n",
       "      <td>0</td>\n",
       "      <td>...</td>\n",
       "      <td>0</td>\n",
       "      <td>0</td>\n",
       "      <td>0</td>\n",
       "      <td>0</td>\n",
       "      <td>0</td>\n",
       "      <td>0</td>\n",
       "      <td>0</td>\n",
       "      <td>0</td>\n",
       "      <td>0</td>\n",
       "      <td>0</td>\n",
       "    </tr>\n",
       "    <tr>\n",
       "      <th>3</th>\n",
       "      <td>4</td>\n",
       "      <td>0</td>\n",
       "      <td>0</td>\n",
       "      <td>0</td>\n",
       "      <td>0</td>\n",
       "      <td>0</td>\n",
       "      <td>0</td>\n",
       "      <td>0</td>\n",
       "      <td>0</td>\n",
       "      <td>0</td>\n",
       "      <td>...</td>\n",
       "      <td>0</td>\n",
       "      <td>0</td>\n",
       "      <td>0</td>\n",
       "      <td>0</td>\n",
       "      <td>0</td>\n",
       "      <td>0</td>\n",
       "      <td>0</td>\n",
       "      <td>0</td>\n",
       "      <td>0</td>\n",
       "      <td>0</td>\n",
       "    </tr>\n",
       "    <tr>\n",
       "      <th>4</th>\n",
       "      <td>0</td>\n",
       "      <td>0</td>\n",
       "      <td>0</td>\n",
       "      <td>0</td>\n",
       "      <td>0</td>\n",
       "      <td>0</td>\n",
       "      <td>0</td>\n",
       "      <td>0</td>\n",
       "      <td>0</td>\n",
       "      <td>0</td>\n",
       "      <td>...</td>\n",
       "      <td>0</td>\n",
       "      <td>0</td>\n",
       "      <td>0</td>\n",
       "      <td>0</td>\n",
       "      <td>0</td>\n",
       "      <td>0</td>\n",
       "      <td>0</td>\n",
       "      <td>0</td>\n",
       "      <td>0</td>\n",
       "      <td>0</td>\n",
       "    </tr>\n",
       "  </tbody>\n",
       "</table>\n",
       "<p>5 rows × 785 columns</p>\n",
       "</div>"
      ],
      "text/plain": [
       "   label  pixel0  pixel1  pixel2  pixel3  pixel4  pixel5  pixel6  pixel7  \\\n",
       "0      1       0       0       0       0       0       0       0       0   \n",
       "1      0       0       0       0       0       0       0       0       0   \n",
       "2      1       0       0       0       0       0       0       0       0   \n",
       "3      4       0       0       0       0       0       0       0       0   \n",
       "4      0       0       0       0       0       0       0       0       0   \n",
       "\n",
       "   pixel8  ...  pixel774  pixel775  pixel776  pixel777  pixel778  pixel779  \\\n",
       "0       0  ...         0         0         0         0         0         0   \n",
       "1       0  ...         0         0         0         0         0         0   \n",
       "2       0  ...         0         0         0         0         0         0   \n",
       "3       0  ...         0         0         0         0         0         0   \n",
       "4       0  ...         0         0         0         0         0         0   \n",
       "\n",
       "   pixel780  pixel781  pixel782  pixel783  \n",
       "0         0         0         0         0  \n",
       "1         0         0         0         0  \n",
       "2         0         0         0         0  \n",
       "3         0         0         0         0  \n",
       "4         0         0         0         0  \n",
       "\n",
       "[5 rows x 785 columns]"
      ]
     },
     "execution_count": 9,
     "metadata": {},
     "output_type": "execute_result"
    }
   ],
   "source": [
    "train.head()"
   ]
  },
  {
   "cell_type": "code",
   "execution_count": 11,
   "id": "632d502a-3f6b-4b3d-bbb7-90ce029841cf",
   "metadata": {},
   "outputs": [
    {
     "data": {
      "text/html": [
       "<div>\n",
       "<style scoped>\n",
       "    .dataframe tbody tr th:only-of-type {\n",
       "        vertical-align: middle;\n",
       "    }\n",
       "\n",
       "    .dataframe tbody tr th {\n",
       "        vertical-align: top;\n",
       "    }\n",
       "\n",
       "    .dataframe thead th {\n",
       "        text-align: right;\n",
       "    }\n",
       "</style>\n",
       "<table border=\"1\" class=\"dataframe\">\n",
       "  <thead>\n",
       "    <tr style=\"text-align: right;\">\n",
       "      <th></th>\n",
       "      <th>pixel0</th>\n",
       "      <th>pixel1</th>\n",
       "      <th>pixel2</th>\n",
       "      <th>pixel3</th>\n",
       "      <th>pixel4</th>\n",
       "      <th>pixel5</th>\n",
       "      <th>pixel6</th>\n",
       "      <th>pixel7</th>\n",
       "      <th>pixel8</th>\n",
       "      <th>pixel9</th>\n",
       "      <th>...</th>\n",
       "      <th>pixel774</th>\n",
       "      <th>pixel775</th>\n",
       "      <th>pixel776</th>\n",
       "      <th>pixel777</th>\n",
       "      <th>pixel778</th>\n",
       "      <th>pixel779</th>\n",
       "      <th>pixel780</th>\n",
       "      <th>pixel781</th>\n",
       "      <th>pixel782</th>\n",
       "      <th>pixel783</th>\n",
       "    </tr>\n",
       "  </thead>\n",
       "  <tbody>\n",
       "    <tr>\n",
       "      <th>0</th>\n",
       "      <td>0</td>\n",
       "      <td>0</td>\n",
       "      <td>0</td>\n",
       "      <td>0</td>\n",
       "      <td>0</td>\n",
       "      <td>0</td>\n",
       "      <td>0</td>\n",
       "      <td>0</td>\n",
       "      <td>0</td>\n",
       "      <td>0</td>\n",
       "      <td>...</td>\n",
       "      <td>0</td>\n",
       "      <td>0</td>\n",
       "      <td>0</td>\n",
       "      <td>0</td>\n",
       "      <td>0</td>\n",
       "      <td>0</td>\n",
       "      <td>0</td>\n",
       "      <td>0</td>\n",
       "      <td>0</td>\n",
       "      <td>0</td>\n",
       "    </tr>\n",
       "    <tr>\n",
       "      <th>1</th>\n",
       "      <td>0</td>\n",
       "      <td>0</td>\n",
       "      <td>0</td>\n",
       "      <td>0</td>\n",
       "      <td>0</td>\n",
       "      <td>0</td>\n",
       "      <td>0</td>\n",
       "      <td>0</td>\n",
       "      <td>0</td>\n",
       "      <td>0</td>\n",
       "      <td>...</td>\n",
       "      <td>0</td>\n",
       "      <td>0</td>\n",
       "      <td>0</td>\n",
       "      <td>0</td>\n",
       "      <td>0</td>\n",
       "      <td>0</td>\n",
       "      <td>0</td>\n",
       "      <td>0</td>\n",
       "      <td>0</td>\n",
       "      <td>0</td>\n",
       "    </tr>\n",
       "    <tr>\n",
       "      <th>2</th>\n",
       "      <td>0</td>\n",
       "      <td>0</td>\n",
       "      <td>0</td>\n",
       "      <td>0</td>\n",
       "      <td>0</td>\n",
       "      <td>0</td>\n",
       "      <td>0</td>\n",
       "      <td>0</td>\n",
       "      <td>0</td>\n",
       "      <td>0</td>\n",
       "      <td>...</td>\n",
       "      <td>0</td>\n",
       "      <td>0</td>\n",
       "      <td>0</td>\n",
       "      <td>0</td>\n",
       "      <td>0</td>\n",
       "      <td>0</td>\n",
       "      <td>0</td>\n",
       "      <td>0</td>\n",
       "      <td>0</td>\n",
       "      <td>0</td>\n",
       "    </tr>\n",
       "    <tr>\n",
       "      <th>3</th>\n",
       "      <td>0</td>\n",
       "      <td>0</td>\n",
       "      <td>0</td>\n",
       "      <td>0</td>\n",
       "      <td>0</td>\n",
       "      <td>0</td>\n",
       "      <td>0</td>\n",
       "      <td>0</td>\n",
       "      <td>0</td>\n",
       "      <td>0</td>\n",
       "      <td>...</td>\n",
       "      <td>0</td>\n",
       "      <td>0</td>\n",
       "      <td>0</td>\n",
       "      <td>0</td>\n",
       "      <td>0</td>\n",
       "      <td>0</td>\n",
       "      <td>0</td>\n",
       "      <td>0</td>\n",
       "      <td>0</td>\n",
       "      <td>0</td>\n",
       "    </tr>\n",
       "    <tr>\n",
       "      <th>4</th>\n",
       "      <td>0</td>\n",
       "      <td>0</td>\n",
       "      <td>0</td>\n",
       "      <td>0</td>\n",
       "      <td>0</td>\n",
       "      <td>0</td>\n",
       "      <td>0</td>\n",
       "      <td>0</td>\n",
       "      <td>0</td>\n",
       "      <td>0</td>\n",
       "      <td>...</td>\n",
       "      <td>0</td>\n",
       "      <td>0</td>\n",
       "      <td>0</td>\n",
       "      <td>0</td>\n",
       "      <td>0</td>\n",
       "      <td>0</td>\n",
       "      <td>0</td>\n",
       "      <td>0</td>\n",
       "      <td>0</td>\n",
       "      <td>0</td>\n",
       "    </tr>\n",
       "  </tbody>\n",
       "</table>\n",
       "<p>5 rows × 784 columns</p>\n",
       "</div>"
      ],
      "text/plain": [
       "   pixel0  pixel1  pixel2  pixel3  pixel4  pixel5  pixel6  pixel7  pixel8  \\\n",
       "0       0       0       0       0       0       0       0       0       0   \n",
       "1       0       0       0       0       0       0       0       0       0   \n",
       "2       0       0       0       0       0       0       0       0       0   \n",
       "3       0       0       0       0       0       0       0       0       0   \n",
       "4       0       0       0       0       0       0       0       0       0   \n",
       "\n",
       "   pixel9  ...  pixel774  pixel775  pixel776  pixel777  pixel778  pixel779  \\\n",
       "0       0  ...         0         0         0         0         0         0   \n",
       "1       0  ...         0         0         0         0         0         0   \n",
       "2       0  ...         0         0         0         0         0         0   \n",
       "3       0  ...         0         0         0         0         0         0   \n",
       "4       0  ...         0         0         0         0         0         0   \n",
       "\n",
       "   pixel780  pixel781  pixel782  pixel783  \n",
       "0         0         0         0         0  \n",
       "1         0         0         0         0  \n",
       "2         0         0         0         0  \n",
       "3         0         0         0         0  \n",
       "4         0         0         0         0  \n",
       "\n",
       "[5 rows x 784 columns]"
      ]
     },
     "execution_count": 11,
     "metadata": {},
     "output_type": "execute_result"
    }
   ],
   "source": [
    "test.head()"
   ]
  },
  {
   "cell_type": "code",
   "execution_count": 12,
   "id": "06151949-bf20-4b7a-84f4-71914e5909d2",
   "metadata": {},
   "outputs": [
    {
     "data": {
      "text/html": [
       "<div>\n",
       "<style scoped>\n",
       "    .dataframe tbody tr th:only-of-type {\n",
       "        vertical-align: middle;\n",
       "    }\n",
       "\n",
       "    .dataframe tbody tr th {\n",
       "        vertical-align: top;\n",
       "    }\n",
       "\n",
       "    .dataframe thead th {\n",
       "        text-align: right;\n",
       "    }\n",
       "</style>\n",
       "<table border=\"1\" class=\"dataframe\">\n",
       "  <thead>\n",
       "    <tr style=\"text-align: right;\">\n",
       "      <th></th>\n",
       "      <th>ImageId</th>\n",
       "      <th>Label</th>\n",
       "    </tr>\n",
       "  </thead>\n",
       "  <tbody>\n",
       "    <tr>\n",
       "      <th>0</th>\n",
       "      <td>1</td>\n",
       "      <td>0</td>\n",
       "    </tr>\n",
       "    <tr>\n",
       "      <th>1</th>\n",
       "      <td>2</td>\n",
       "      <td>0</td>\n",
       "    </tr>\n",
       "    <tr>\n",
       "      <th>2</th>\n",
       "      <td>3</td>\n",
       "      <td>0</td>\n",
       "    </tr>\n",
       "    <tr>\n",
       "      <th>3</th>\n",
       "      <td>4</td>\n",
       "      <td>0</td>\n",
       "    </tr>\n",
       "    <tr>\n",
       "      <th>4</th>\n",
       "      <td>5</td>\n",
       "      <td>0</td>\n",
       "    </tr>\n",
       "  </tbody>\n",
       "</table>\n",
       "</div>"
      ],
      "text/plain": [
       "   ImageId  Label\n",
       "0        1      0\n",
       "1        2      0\n",
       "2        3      0\n",
       "3        4      0\n",
       "4        5      0"
      ]
     },
     "execution_count": 12,
     "metadata": {},
     "output_type": "execute_result"
    }
   ],
   "source": [
    "sub.head()"
   ]
  },
  {
   "cell_type": "code",
   "execution_count": 14,
   "id": "3f8bc25e-b3b6-4aa2-8f8d-e5459021b44f",
   "metadata": {},
   "outputs": [
    {
     "data": {
      "text/plain": [
       "((42000, 785), (28000, 784), (28000, 2))"
      ]
     },
     "execution_count": 14,
     "metadata": {},
     "output_type": "execute_result"
    }
   ],
   "source": [
    "train.shape, test.shape, sub.shape"
   ]
  },
  {
   "cell_type": "markdown",
   "id": "1cc2d214-79d6-4023-abe1-c00177bf53e0",
   "metadata": {},
   "source": [
    "# Data pre-processing"
   ]
  },
  {
   "cell_type": "markdown",
   "id": "1deb40ec-56cb-4f51-b394-187a34b9e54c",
   "metadata": {},
   "source": [
    "## X_train_arr, y_train_arr, X_test_arr"
   ]
  },
  {
   "cell_type": "code",
   "execution_count": 25,
   "id": "9067c9a1-f11c-4576-a155-e4451dbfe121",
   "metadata": {},
   "outputs": [],
   "source": [
    "X=train.drop('label', axis=1)\n",
    "y=train['label']"
   ]
  },
  {
   "cell_type": "code",
   "execution_count": 26,
   "id": "8a15d123-8665-4a2d-8a8c-9bb573e0b1cc",
   "metadata": {},
   "outputs": [],
   "source": [
    "X_train_arr=np.array(X)\n",
    "y_train_arr=np.array(y)\n",
    "\n",
    "X_test_arr=np.array(test)"
   ]
  },
  {
   "cell_type": "code",
   "execution_count": 27,
   "id": "a41e623a-8954-43f0-9e7e-9ce7eb2072d7",
   "metadata": {},
   "outputs": [
    {
     "data": {
      "text/plain": [
       "((42000, 784), (28000, 784), (42000,))"
      ]
     },
     "execution_count": 27,
     "metadata": {},
     "output_type": "execute_result"
    }
   ],
   "source": [
    "X_train_arr.shape, X_test_arr.shape, y_train_arr.shape # X_train is already flattened"
   ]
  },
  {
   "cell_type": "markdown",
   "id": "9e0585dd-4e2e-439f-b7a4-a36f956a8309",
   "metadata": {},
   "source": [
    "# EDA"
   ]
  },
  {
   "cell_type": "code",
   "execution_count": 45,
   "id": "05136f3d-121e-4a07-a139-8abb4268f6e8",
   "metadata": {},
   "outputs": [
    {
     "data": {
      "image/png": "[encoded data removed]",
      "text/plain": [
       "<Figure size 1440x360 with 20 Axes>"
      ]
     },
     "metadata": {},
     "output_type": "display_data"
    }
   ],
   "source": [
    "X_train_arr_img=X_train_arr.reshape(42000,28,28)\n",
    "\n",
    "f, axes = plt.subplots(2,10, figsize=(20,5))\n",
    "\n",
    "for i, arr in enumerate(X_train_arr_img[:20]):\n",
    "    r=i//10\n",
    "    c=i%10\n",
    "    \n",
    "    axes[r,c].imshow(arr)\n",
    "    axes[r,c].set_title(y_train_arr[i])\n",
    "    \n",
    "plt.show()"
   ]
  },
  {
   "cell_type": "markdown",
   "id": "2a105182-3fea-4e30-b2cf-d3700b3fae9f",
   "metadata": {},
   "source": [
    "# to_categorical y\n",
    "y_label : integers in range 0-9"
   ]
  },
  {
   "cell_type": "code",
   "execution_count": 55,
   "id": "6dc13275-337a-4975-b90e-83a6f9c53278",
   "metadata": {},
   "outputs": [],
   "source": [
    "y_train_arr=to_categorical(y=y_train_arr, num_classes=10, dtype='int32')"
   ]
  },
  {
   "cell_type": "markdown",
   "id": "4dcd2952-216c-4a7e-98f7-6aaca25cc8a9",
   "metadata": {},
   "source": [
    "# train Model"
   ]
  },
  {
   "cell_type": "code",
   "execution_count": 56,
   "id": "ee539f34-1630-488b-9db3-61e2cdd8314b",
   "metadata": {},
   "outputs": [],
   "source": [
    "model=Sequential()\n",
    "\n",
    "model.add(Dense(units=64 , activation='relu' ,input_shape=(28*28,)))\n",
    "model.add(Dense(units=32 , activation='relu'))\n",
    "model.add(Dense(units=24 , activation='relu'))\n",
    "model.add(Dense(units=32 , activation='relu'))\n",
    "model.add(Dense(units=17 , activation='relu'))\n",
    "model.add(Dense(units=16 , activation='relu'))\n",
    "model.add(Dense(units=10 , activation='softmax')) # multi-classification"
   ]
  },
  {
   "cell_type": "code",
   "execution_count": 57,
   "id": "53c8aceb-833e-434e-bf00-7c29125be253",
   "metadata": {},
   "outputs": [
    {
     "name": "stdout",
     "output_type": "stream",
     "text": [
      "Model: \"sequential\"\n",
      "_________________________________________________________________\n",
      " Layer (type)                Output Shape              Param #   \n",
      "=================================================================\n",
      " dense (Dense)               (None, 64)                50240     \n",
      "                                                                 \n",
      " dense_1 (Dense)             (None, 32)                2080      \n",
      "                                                                 \n",
      " dense_2 (Dense)             (None, 24)                792       \n",
      "                                                                 \n",
      " dense_3 (Dense)             (None, 32)                800       \n",
      "                                                                 \n",
      " dense_4 (Dense)             (None, 17)                561       \n",
      "                                                                 \n",
      " dense_5 (Dense)             (None, 16)                288       \n",
      "                                                                 \n",
      " dense_6 (Dense)             (None, 10)                170       \n",
      "                                                                 \n",
      "=================================================================\n",
      "Total params: 54,931\n",
      "Trainable params: 54,931\n",
      "Non-trainable params: 0\n",
      "_________________________________________________________________\n"
     ]
    }
   ],
   "source": [
    "model.summary()"
   ]
  },
  {
   "cell_type": "code",
   "execution_count": 58,
   "id": "4c6594a6-a622-4fe1-8f49-6d23a4517117",
   "metadata": {},
   "outputs": [],
   "source": [
    "model.compile(loss='categorical_crossentropy',\n",
    "             optimizer='adam',\n",
    "             metrics='accuracy')"
   ]
  },
  {
   "cell_type": "code",
   "execution_count": 59,
   "id": "a14a9c3e-6d67-4763-8012-33b88fbf708e",
   "metadata": {},
   "outputs": [
    {
     "name": "stdout",
     "output_type": "stream",
     "text": [
      "Epoch 1/30\n",
      "263/263 [==============================] - 2s 4ms/step - loss: 1.5279 - accuracy: 0.5599 - val_loss: 0.6267 - val_accuracy: 0.8169\n",
      "Epoch 2/30\n",
      "263/263 [==============================] - 1s 3ms/step - loss: 0.4806 - accuracy: 0.8626 - val_loss: 0.3957 - val_accuracy: 0.8888\n",
      "Epoch 3/30\n",
      "263/263 [==============================] - 1s 3ms/step - loss: 0.3364 - accuracy: 0.9063 - val_loss: 0.3321 - val_accuracy: 0.9095\n",
      "Epoch 4/30\n",
      "263/263 [==============================] - 1s 3ms/step - loss: 0.2683 - accuracy: 0.9244 - val_loss: 0.2813 - val_accuracy: 0.9238\n",
      "Epoch 5/30\n",
      "263/263 [==============================] - 1s 4ms/step - loss: 0.2224 - accuracy: 0.9374 - val_loss: 0.2420 - val_accuracy: 0.9368\n",
      "Epoch 6/30\n",
      "263/263 [==============================] - 1s 3ms/step - loss: 0.1894 - accuracy: 0.9462 - val_loss: 0.2407 - val_accuracy: 0.9356\n",
      "Epoch 7/30\n",
      "263/263 [==============================] - 1s 3ms/step - loss: 0.1725 - accuracy: 0.9511 - val_loss: 0.2353 - val_accuracy: 0.9406\n",
      "Epoch 8/30\n",
      "263/263 [==============================] - 1s 3ms/step - loss: 0.1508 - accuracy: 0.9564 - val_loss: 0.2074 - val_accuracy: 0.9431\n",
      "Epoch 9/30\n",
      "263/263 [==============================] - 1s 3ms/step - loss: 0.1327 - accuracy: 0.9614 - val_loss: 0.2034 - val_accuracy: 0.9482\n",
      "Epoch 10/30\n",
      "263/263 [==============================] - 1s 3ms/step - loss: 0.1184 - accuracy: 0.9654 - val_loss: 0.1918 - val_accuracy: 0.9517\n",
      "Epoch 11/30\n",
      "263/263 [==============================] - 1s 3ms/step - loss: 0.1087 - accuracy: 0.9679 - val_loss: 0.1865 - val_accuracy: 0.9539\n",
      "Epoch 12/30\n",
      "263/263 [==============================] - 1s 3ms/step - loss: 0.0945 - accuracy: 0.9721 - val_loss: 0.1997 - val_accuracy: 0.9495\n",
      "Epoch 13/30\n",
      "263/263 [==============================] - 1s 3ms/step - loss: 0.1000 - accuracy: 0.9698 - val_loss: 0.1846 - val_accuracy: 0.9558\n",
      "Epoch 14/30\n",
      "263/263 [==============================] - 1s 3ms/step - loss: 0.0907 - accuracy: 0.9732 - val_loss: 0.1785 - val_accuracy: 0.9556\n",
      "Epoch 15/30\n",
      "263/263 [==============================] - 1s 3ms/step - loss: 0.0745 - accuracy: 0.9775 - val_loss: 0.1865 - val_accuracy: 0.9583\n",
      "Epoch 16/30\n",
      "263/263 [==============================] - 1s 3ms/step - loss: 0.0693 - accuracy: 0.9790 - val_loss: 0.1957 - val_accuracy: 0.9574\n",
      "Epoch 17/30\n",
      "263/263 [==============================] - 1s 3ms/step - loss: 0.0742 - accuracy: 0.9781 - val_loss: 0.1835 - val_accuracy: 0.9548\n",
      "Epoch 18/30\n",
      "263/263 [==============================] - 1s 3ms/step - loss: 0.0720 - accuracy: 0.9786 - val_loss: 0.1761 - val_accuracy: 0.9598\n",
      "Epoch 19/30\n",
      "263/263 [==============================] - 1s 3ms/step - loss: 0.0566 - accuracy: 0.9822 - val_loss: 0.1808 - val_accuracy: 0.9602\n",
      "Epoch 20/30\n",
      "263/263 [==============================] - 1s 3ms/step - loss: 0.0544 - accuracy: 0.9823 - val_loss: 0.1745 - val_accuracy: 0.9621\n",
      "Epoch 21/30\n",
      "263/263 [==============================] - 1s 3ms/step - loss: 0.0574 - accuracy: 0.9835 - val_loss: 0.1827 - val_accuracy: 0.9574\n",
      "Epoch 22/30\n",
      "263/263 [==============================] - 1s 3ms/step - loss: 0.0588 - accuracy: 0.9821 - val_loss: 0.1827 - val_accuracy: 0.9596\n",
      "Epoch 23/30\n",
      "263/263 [==============================] - 1s 3ms/step - loss: 0.0481 - accuracy: 0.9853 - val_loss: 0.1921 - val_accuracy: 0.9590\n",
      "Epoch 24/30\n",
      "263/263 [==============================] - 1s 3ms/step - loss: 0.0445 - accuracy: 0.9864 - val_loss: 0.1776 - val_accuracy: 0.9627\n",
      "Epoch 25/30\n",
      "263/263 [==============================] - 1s 3ms/step - loss: 0.0434 - accuracy: 0.9868 - val_loss: 0.1840 - val_accuracy: 0.9635\n",
      "Epoch 26/30\n",
      "263/263 [==============================] - 1s 3ms/step - loss: 0.0339 - accuracy: 0.9896 - val_loss: 0.2254 - val_accuracy: 0.9561\n",
      "Epoch 27/30\n",
      "263/263 [==============================] - 1s 3ms/step - loss: 0.0464 - accuracy: 0.9860 - val_loss: 0.1986 - val_accuracy: 0.9601\n",
      "Epoch 28/30\n",
      "263/263 [==============================] - 1s 3ms/step - loss: 0.0360 - accuracy: 0.9889 - val_loss: 0.2109 - val_accuracy: 0.9593\n",
      "Epoch 29/30\n",
      "263/263 [==============================] - 1s 3ms/step - loss: 0.0369 - accuracy: 0.9888 - val_loss: 0.1998 - val_accuracy: 0.9623\n",
      "Epoch 30/30\n",
      "263/263 [==============================] - 1s 3ms/step - loss: 0.0382 - accuracy: 0.9885 - val_loss: 0.2032 - val_accuracy: 0.9617\n"
     ]
    }
   ],
   "source": [
    "res=model.fit(X_train_arr, y_train_arr,\n",
    "             batch_size=128,\n",
    "             validation_split=0.2,\n",
    "             epochs=30\n",
    "             )"
   ]
  },
  {
   "cell_type": "markdown",
   "id": "5ffd099c-c06a-45de-9d20-698b7d9ae412",
   "metadata": {},
   "source": [
    "# evaluate validation dataset(no val dataset)"
   ]
  },
  {
   "cell_type": "markdown",
   "id": "26d07ecf-b5d7-4fae-b948-b7d19ced62e1",
   "metadata": {},
   "source": [
    "# Check overfitting"
   ]
  },
  {
   "cell_type": "code",
   "execution_count": 92,
   "id": "60e5eda8-a4f3-4aca-878e-f24ec4598814",
   "metadata": {},
   "outputs": [],
   "source": [
    "# res.history"
   ]
  },
  {
   "cell_type": "code",
   "execution_count": 73,
   "id": "c0a6d48b-b65b-408e-8006-ece872955ce9",
   "metadata": {},
   "outputs": [
    {
     "data": {
      "image/png": "[encoded data removed]",
      "text/plain": [
       "<Figure size 432x288 with 1 Axes>"
      ]
     },
     "metadata": {},
     "output_type": "display_data"
    }
   ],
   "source": [
    "plt.plot(range(len(res.history['loss'])), res.history['loss'], c='red', label='loss')\n",
    "plt.plot(range(len(res.history['val_loss'])), res.history['val_loss'], c='blue', label='val_loss')\n",
    "plt.legend()\n",
    "plt.show()"
   ]
  },
  {
   "cell_type": "code",
   "execution_count": 75,
   "id": "d43e60fc-feb7-4b96-924a-9c42c998adab",
   "metadata": {},
   "outputs": [
    {
     "data": {
      "image/png": "[encoded data removed]",
      "text/plain": [
       "<Figure size 432x288 with 1 Axes>"
      ]
     },
     "metadata": {},
     "output_type": "display_data"
    }
   ],
   "source": [
    "plt.plot(np.arange(len(res.history['accuracy'])), res.history['accuracy'], c='red', label='accuracy')\n",
    "plt.plot(np.arange(len(res.history['val_accuracy'])), res.history['val_accuracy'], c='blue', label='val_accuracy')\n",
    "plt.legend()\n",
    "plt.show()"
   ]
  },
  {
   "cell_type": "markdown",
   "id": "e9d3c7d5-2146-4dd7-87cc-8f9468ac7370",
   "metadata": {},
   "source": [
    "# prediciton\n",
    "leaderboard: 0.95803"
   ]
  },
  {
   "cell_type": "code",
   "execution_count": 76,
   "id": "6fadcf99-69d2-419c-bcc4-dfa08ad4b98e",
   "metadata": {},
   "outputs": [],
   "source": [
    "pred=model.predict(X_test_arr)"
   ]
  },
  {
   "cell_type": "code",
   "execution_count": 78,
   "id": "82431de5-1429-449f-8e2d-c95de75b8f62",
   "metadata": {},
   "outputs": [],
   "source": [
    "pred_list=[]\n",
    "for arr in pred:\n",
    "    pred_list.append(np.argmax(arr))"
   ]
  },
  {
   "cell_type": "code",
   "execution_count": 85,
   "id": "700626d3-2789-45e7-8725-443db6110a1f",
   "metadata": {},
   "outputs": [],
   "source": [
    "pred_s=pd.Series(pred_list)\n",
    "sub['Label']=pred_s"
   ]
  },
  {
   "cell_type": "code",
   "execution_count": 89,
   "id": "d7129ead-838a-461e-ac35-aeecf58777bf",
   "metadata": {},
   "outputs": [],
   "source": [
    "sub.to_csv('dataset/sub_v01.csv', index=False)"
   ]
  },
  {
   "cell_type": "markdown",
   "id": "08f8c295-5718-4ee4-81f8-7d9fe27ca817",
   "metadata": {},
   "source": [
    "# Additional featuring\n",
    "leaderboard: 0.94835"
   ]
  },
  {
   "cell_type": "code",
   "execution_count": 142,
   "id": "7f4fc7b7-2171-4781-88d2-c56854923fab",
   "metadata": {},
   "outputs": [],
   "source": [
    "X_train_arr_scaled=X_train_arr/255.0\n",
    "X_test_arr_scaled=X_test_arr/255.0"
   ]
  },
  {
   "cell_type": "markdown",
   "id": "6ff4332d-e155-461d-a1a3-d90f43c7728c",
   "metadata": {},
   "source": [
    "## train Model"
   ]
  },
  {
   "cell_type": "code",
   "execution_count": 143,
   "id": "32457e3e-8cde-4736-8849-605a09c81e19",
   "metadata": {},
   "outputs": [],
   "source": [
    "model=Sequential()\n",
    "\n",
    "model.add(Dense(units=32, activation='relu' ,input_shape=(28*28,)))\n",
    "model.add(Dense(units=47 , activation='relu'))\n",
    "model.add(Dense(units=24 , activation='relu'))\n",
    "model.add(Dense(units=32 , activation='relu'))\n",
    "model.add(Dense(units=17 , activation='relu'))\n",
    "model.add(Dense(units=32 , activation='relu'))\n",
    "model.add(Dense(units=27 , activation='relu'))\n",
    "model.add(Dense(units=32 , activation='relu'))\n",
    "model.add(Dense(units=19 , activation='relu'))\n",
    "model.add(Dense(units=32 , activation='relu'))\n",
    "model.add(Dense(units=38 , activation='relu'))\n",
    "model.add(Dense(units=16 , activation='relu'))\n",
    "model.add(Dense(units=10 , activation='softmax')) # multi-classification"
   ]
  },
  {
   "cell_type": "code",
   "execution_count": 144,
   "id": "0ba92ad7-4006-421e-a4d3-17eb81260ef7",
   "metadata": {},
   "outputs": [
    {
     "name": "stdout",
     "output_type": "stream",
     "text": [
      "Model: \"sequential_4\"\n",
      "_________________________________________________________________\n",
      " Layer (type)                Output Shape              Param #   \n",
      "=================================================================\n",
      " dense_46 (Dense)            (None, 32)                25120     \n",
      "                                                                 \n",
      " dense_47 (Dense)            (None, 47)                1551      \n",
      "                                                                 \n",
      " dense_48 (Dense)            (None, 24)                1152      \n",
      "                                                                 \n",
      " dense_49 (Dense)            (None, 32)                800       \n",
      "                                                                 \n",
      " dense_50 (Dense)            (None, 17)                561       \n",
      "                                                                 \n",
      " dense_51 (Dense)            (None, 32)                576       \n",
      "                                                                 \n",
      " dense_52 (Dense)            (None, 27)                891       \n",
      "                                                                 \n",
      " dense_53 (Dense)            (None, 32)                896       \n",
      "                                                                 \n",
      " dense_54 (Dense)            (None, 19)                627       \n",
      "                                                                 \n",
      " dense_55 (Dense)            (None, 32)                640       \n",
      "                                                                 \n",
      " dense_56 (Dense)            (None, 38)                1254      \n",
      "                                                                 \n",
      " dense_57 (Dense)            (None, 16)                624       \n",
      "                                                                 \n",
      " dense_58 (Dense)            (None, 10)                170       \n",
      "                                                                 \n",
      "=================================================================\n",
      "Total params: 34,862\n",
      "Trainable params: 34,862\n",
      "Non-trainable params: 0\n",
      "_________________________________________________________________\n"
     ]
    }
   ],
   "source": [
    "model.summary()"
   ]
  },
  {
   "cell_type": "code",
   "execution_count": 145,
   "id": "3315b362-69b4-4102-8c8f-970bbaad4be7",
   "metadata": {},
   "outputs": [],
   "source": [
    "model.compile(loss='categorical_crossentropy',\n",
    "             optimizer='adam',\n",
    "             metrics='accuracy')"
   ]
  },
  {
   "cell_type": "markdown",
   "id": "8a462452-6206-41d0-a83b-b71ee014a8e3",
   "metadata": {},
   "source": [
    "## split train data into train & val data"
   ]
  },
  {
   "cell_type": "code",
   "execution_count": 146,
   "id": "9ddf8995-47bd-4567-8ec6-7735072a284f",
   "metadata": {},
   "outputs": [
    {
     "data": {
      "text/plain": [
       "(42000, 784)"
      ]
     },
     "execution_count": 146,
     "metadata": {},
     "output_type": "execute_result"
    }
   ],
   "source": [
    "X_train_arr_scaled.shape"
   ]
  },
  {
   "cell_type": "code",
   "execution_count": 147,
   "id": "b592e1ab-139d-4a3a-a594-9f4e637b6d62",
   "metadata": {},
   "outputs": [],
   "source": [
    "X_train_arr_scaled_train=X_train_arr_scaled[:-4000]\n",
    "X_train_arr_scaled_val=X_train_arr_scaled[-4000:]\n",
    "\n",
    "y_train_arr_train=y_train_arr[:-4000]\n",
    "y_train_arr_val=y_train_arr[-4000:]"
   ]
  },
  {
   "cell_type": "markdown",
   "id": "46d87272-d3ca-4417-920c-7e36188b93c4",
   "metadata": {},
   "source": [
    "## train"
   ]
  },
  {
   "cell_type": "code",
   "execution_count": 148,
   "id": "00882c3c-2306-42b3-911e-488f35e98208",
   "metadata": {},
   "outputs": [
    {
     "name": "stdout",
     "output_type": "stream",
     "text": [
      "Epoch 1/50\n",
      "238/238 [==============================] - 2s 5ms/step - loss: 1.2334 - accuracy: 0.5757 - val_loss: 0.5423 - val_accuracy: 0.8457\n",
      "Epoch 2/50\n",
      "238/238 [==============================] - 1s 4ms/step - loss: 0.4129 - accuracy: 0.8923 - val_loss: 0.3464 - val_accuracy: 0.9070\n",
      "Epoch 3/50\n",
      "238/238 [==============================] - 1s 4ms/step - loss: 0.2964 - accuracy: 0.9220 - val_loss: 0.2758 - val_accuracy: 0.9229\n",
      "Epoch 4/50\n",
      "238/238 [==============================] - 1s 4ms/step - loss: 0.2362 - accuracy: 0.9358 - val_loss: 0.2701 - val_accuracy: 0.9228\n",
      "Epoch 5/50\n",
      "238/238 [==============================] - 1s 3ms/step - loss: 0.1968 - accuracy: 0.9464 - val_loss: 0.2228 - val_accuracy: 0.9382\n",
      "Epoch 6/50\n",
      "238/238 [==============================] - 1s 3ms/step - loss: 0.1788 - accuracy: 0.9493 - val_loss: 0.2187 - val_accuracy: 0.9378\n",
      "Epoch 7/50\n",
      "238/238 [==============================] - 1s 3ms/step - loss: 0.1545 - accuracy: 0.9575 - val_loss: 0.2166 - val_accuracy: 0.9397\n",
      "Epoch 8/50\n",
      "238/238 [==============================] - 1s 3ms/step - loss: 0.1400 - accuracy: 0.9603 - val_loss: 0.2047 - val_accuracy: 0.9455\n",
      "Epoch 9/50\n",
      "238/238 [==============================] - 1s 3ms/step - loss: 0.1291 - accuracy: 0.9638 - val_loss: 0.2000 - val_accuracy: 0.9475\n",
      "Epoch 10/50\n",
      "238/238 [==============================] - 1s 3ms/step - loss: 0.1171 - accuracy: 0.9660 - val_loss: 0.2203 - val_accuracy: 0.9449\n",
      "Epoch 11/50\n",
      "238/238 [==============================] - 1s 3ms/step - loss: 0.1112 - accuracy: 0.9679 - val_loss: 0.1952 - val_accuracy: 0.9487\n",
      "Epoch 12/50\n",
      "238/238 [==============================] - 1s 3ms/step - loss: 0.1006 - accuracy: 0.9710 - val_loss: 0.2745 - val_accuracy: 0.9329\n",
      "Epoch 13/50\n",
      "238/238 [==============================] - 1s 3ms/step - loss: 0.0952 - accuracy: 0.9728 - val_loss: 0.1931 - val_accuracy: 0.9505\n",
      "Epoch 14/50\n",
      "238/238 [==============================] - 1s 3ms/step - loss: 0.0874 - accuracy: 0.9751 - val_loss: 0.1964 - val_accuracy: 0.9508\n",
      "Epoch 15/50\n",
      "238/238 [==============================] - 1s 3ms/step - loss: 0.0832 - accuracy: 0.9761 - val_loss: 0.2058 - val_accuracy: 0.9508\n",
      "Epoch 16/50\n",
      "238/238 [==============================] - 1s 3ms/step - loss: 0.0799 - accuracy: 0.9764 - val_loss: 0.1997 - val_accuracy: 0.9504\n",
      "Epoch 17/50\n",
      "238/238 [==============================] - 1s 3ms/step - loss: 0.0749 - accuracy: 0.9786 - val_loss: 0.1970 - val_accuracy: 0.9541\n",
      "Epoch 18/50\n",
      "238/238 [==============================] - 1s 3ms/step - loss: 0.0703 - accuracy: 0.9789 - val_loss: 0.2098 - val_accuracy: 0.9482\n",
      "Epoch 19/50\n",
      "238/238 [==============================] - 1s 3ms/step - loss: 0.0609 - accuracy: 0.9825 - val_loss: 0.2088 - val_accuracy: 0.9532\n",
      "Epoch 20/50\n",
      "238/238 [==============================] - 1s 3ms/step - loss: 0.0679 - accuracy: 0.9799 - val_loss: 0.2213 - val_accuracy: 0.9499\n",
      "Epoch 21/50\n",
      "238/238 [==============================] - 1s 3ms/step - loss: 0.0678 - accuracy: 0.9800 - val_loss: 0.2126 - val_accuracy: 0.9513\n",
      "Epoch 22/50\n",
      "238/238 [==============================] - 1s 3ms/step - loss: 0.0637 - accuracy: 0.9815 - val_loss: 0.2222 - val_accuracy: 0.9492\n",
      "Epoch 23/50\n",
      "238/238 [==============================] - 1s 3ms/step - loss: 0.0542 - accuracy: 0.9842 - val_loss: 0.2155 - val_accuracy: 0.9526\n",
      "Epoch 24/50\n",
      "238/238 [==============================] - 1s 3ms/step - loss: 0.0536 - accuracy: 0.9842 - val_loss: 0.2118 - val_accuracy: 0.9533\n",
      "Epoch 25/50\n",
      "238/238 [==============================] - 1s 3ms/step - loss: 0.0470 - accuracy: 0.9858 - val_loss: 0.2224 - val_accuracy: 0.9499\n",
      "Epoch 26/50\n",
      "238/238 [==============================] - 1s 3ms/step - loss: 0.0482 - accuracy: 0.9861 - val_loss: 0.2078 - val_accuracy: 0.9549\n",
      "Epoch 27/50\n",
      "238/238 [==============================] - 1s 3ms/step - loss: 0.0491 - accuracy: 0.9855 - val_loss: 0.2176 - val_accuracy: 0.9497\n",
      "Epoch 28/50\n",
      "238/238 [==============================] - 1s 3ms/step - loss: 0.0549 - accuracy: 0.9838 - val_loss: 0.2028 - val_accuracy: 0.9559\n",
      "Epoch 29/50\n",
      "238/238 [==============================] - 1s 3ms/step - loss: 0.0458 - accuracy: 0.9864 - val_loss: 0.2067 - val_accuracy: 0.9534\n",
      "Epoch 30/50\n",
      "238/238 [==============================] - 1s 3ms/step - loss: 0.0382 - accuracy: 0.9885 - val_loss: 0.2401 - val_accuracy: 0.9533\n",
      "Epoch 31/50\n",
      "238/238 [==============================] - 1s 3ms/step - loss: 0.0437 - accuracy: 0.9882 - val_loss: 0.2233 - val_accuracy: 0.9522\n",
      "Epoch 32/50\n",
      "238/238 [==============================] - 1s 3ms/step - loss: 0.0378 - accuracy: 0.9890 - val_loss: 0.2190 - val_accuracy: 0.9528\n",
      "Epoch 33/50\n",
      "238/238 [==============================] - 1s 3ms/step - loss: 0.0386 - accuracy: 0.9888 - val_loss: 0.2346 - val_accuracy: 0.9555\n",
      "Epoch 34/50\n",
      "238/238 [==============================] - 1s 3ms/step - loss: 0.0367 - accuracy: 0.9893 - val_loss: 0.2152 - val_accuracy: 0.9568\n",
      "Epoch 35/50\n",
      "238/238 [==============================] - 1s 3ms/step - loss: 0.0431 - accuracy: 0.9876 - val_loss: 0.2135 - val_accuracy: 0.9566\n",
      "Epoch 36/50\n",
      "238/238 [==============================] - 1s 3ms/step - loss: 0.0364 - accuracy: 0.9891 - val_loss: 0.2129 - val_accuracy: 0.9550\n",
      "Epoch 37/50\n",
      "238/238 [==============================] - 1s 3ms/step - loss: 0.0384 - accuracy: 0.9887 - val_loss: 0.2109 - val_accuracy: 0.9546\n",
      "Epoch 38/50\n",
      "238/238 [==============================] - 1s 3ms/step - loss: 0.0357 - accuracy: 0.9897 - val_loss: 0.2401 - val_accuracy: 0.9530\n",
      "Epoch 39/50\n",
      "238/238 [==============================] - 1s 3ms/step - loss: 0.0316 - accuracy: 0.9910 - val_loss: 0.2472 - val_accuracy: 0.9541\n",
      "Epoch 40/50\n",
      "238/238 [==============================] - 1s 3ms/step - loss: 0.0386 - accuracy: 0.9889 - val_loss: 0.2299 - val_accuracy: 0.9554\n",
      "Epoch 41/50\n",
      "238/238 [==============================] - 1s 3ms/step - loss: 0.0302 - accuracy: 0.9917 - val_loss: 0.2686 - val_accuracy: 0.9530\n",
      "Epoch 42/50\n",
      "238/238 [==============================] - 1s 3ms/step - loss: 0.0343 - accuracy: 0.9898 - val_loss: 0.2310 - val_accuracy: 0.9536\n",
      "Epoch 43/50\n",
      "238/238 [==============================] - 1s 3ms/step - loss: 0.0351 - accuracy: 0.9897 - val_loss: 0.2374 - val_accuracy: 0.9541\n",
      "Epoch 44/50\n",
      "238/238 [==============================] - 1s 3ms/step - loss: 0.0276 - accuracy: 0.9918 - val_loss: 0.2271 - val_accuracy: 0.9563\n",
      "Epoch 45/50\n",
      "238/238 [==============================] - 1s 3ms/step - loss: 0.0294 - accuracy: 0.9918 - val_loss: 0.2309 - val_accuracy: 0.9551\n",
      "Epoch 46/50\n",
      "238/238 [==============================] - 1s 3ms/step - loss: 0.0308 - accuracy: 0.9912 - val_loss: 0.2542 - val_accuracy: 0.9532\n",
      "Epoch 47/50\n",
      "238/238 [==============================] - 1s 3ms/step - loss: 0.0277 - accuracy: 0.9928 - val_loss: 0.2247 - val_accuracy: 0.9563\n",
      "Epoch 48/50\n",
      "238/238 [==============================] - 1s 3ms/step - loss: 0.0232 - accuracy: 0.9935 - val_loss: 0.2471 - val_accuracy: 0.9537\n",
      "Epoch 49/50\n",
      "238/238 [==============================] - 1s 3ms/step - loss: 0.0313 - accuracy: 0.9912 - val_loss: 0.2445 - val_accuracy: 0.9576\n",
      "Epoch 50/50\n",
      "238/238 [==============================] - 1s 3ms/step - loss: 0.0258 - accuracy: 0.9927 - val_loss: 0.2258 - val_accuracy: 0.9571\n"
     ]
    }
   ],
   "source": [
    "res=model.fit(X_train_arr_scaled_train, y_train_arr_train,\n",
    "             batch_size=128,\n",
    "             validation_split=0.2,\n",
    "             epochs=50\n",
    "             )"
   ]
  },
  {
   "cell_type": "markdown",
   "id": "d6ea00fa-977e-4b3d-aa16-b5d3e0f2447e",
   "metadata": {},
   "source": [
    "## evaluate validation dataset"
   ]
  },
  {
   "cell_type": "code",
   "execution_count": 149,
   "id": "c62cac12-c2fd-4e2e-8c91-0447ea65bb5a",
   "metadata": {},
   "outputs": [
    {
     "name": "stdout",
     "output_type": "stream",
     "text": [
      "125/125 [==============================] - 0s 2ms/step - loss: 0.2517 - accuracy: 0.9567\n"
     ]
    }
   ],
   "source": [
    "loss_cateforical_crossentropy, metrics_accuracy = model.evaluate(X_train_arr_scaled_val, y_train_arr_val) "
   ]
  },
  {
   "cell_type": "markdown",
   "id": "2198d8b0-e71e-436d-bf0e-d708e81a98f0",
   "metadata": {},
   "source": [
    "## Check overfitting"
   ]
  },
  {
   "cell_type": "code",
   "execution_count": 150,
   "id": "3784da3f-1985-46de-bf53-e904b91a1954",
   "metadata": {},
   "outputs": [],
   "source": [
    "# res.history"
   ]
  },
  {
   "cell_type": "code",
   "execution_count": 151,
   "id": "25a110df-6906-4fdc-8fc1-b53d7f9186b1",
   "metadata": {},
   "outputs": [
    {
     "data": {
      "image/png": "[encoded data removed]",
      "text/plain": [
       "<Figure size 432x288 with 1 Axes>"
      ]
     },
     "metadata": {},
     "output_type": "display_data"
    }
   ],
   "source": [
    "plt.plot(range(len(res.history['loss'])), res.history['loss'], c='red', label='loss')\n",
    "plt.plot(range(len(res.history['val_loss'])), res.history['val_loss'], c='blue', label='val_loss')\n",
    "plt.legend()\n",
    "plt.show()"
   ]
  },
  {
   "cell_type": "code",
   "execution_count": 152,
   "id": "d3d9a312-3a0c-4f26-b1b3-8b9dc350c888",
   "metadata": {},
   "outputs": [
    {
     "data": {
      "image/png": "[encoded data removed]",
      "text/plain": [
       "<Figure size 432x288 with 1 Axes>"
      ]
     },
     "metadata": {},
     "output_type": "display_data"
    }
   ],
   "source": [
    "plt.plot(np.arange(len(res.history['accuracy'])), res.history['accuracy'], c='red', label='accuracy')\n",
    "plt.plot(np.arange(len(res.history['val_accuracy'])), res.history['val_accuracy'], c='blue', label='val_accuracy')\n",
    "plt.legend()\n",
    "plt.show()"
   ]
  },
  {
   "cell_type": "code",
   "execution_count": null,
   "id": "6d58587b-e00d-4cd7-91be-b12a8069fcc1",
   "metadata": {},
   "outputs": [],
   "source": []
  },
  {
   "cell_type": "markdown",
   "id": "1b770900-1c18-488b-84d0-6d8e5c515845",
   "metadata": {},
   "source": [
    "## prediciton"
   ]
  },
  {
   "cell_type": "code",
   "execution_count": 153,
   "id": "391451ca-9023-4d00-bb5d-faf95a32aec4",
   "metadata": {},
   "outputs": [],
   "source": [
    "pred=model.predict(X_test_arr)"
   ]
  },
  {
   "cell_type": "code",
   "execution_count": 154,
   "id": "e517b42b-b103-4dbb-8b1a-a35f3a1f5820",
   "metadata": {},
   "outputs": [],
   "source": [
    "pred_list=[]\n",
    "for arr in pred:\n",
    "    pred_list.append(np.argmax(arr))"
   ]
  },
  {
   "cell_type": "code",
   "execution_count": 155,
   "id": "6fdaf48c-0724-41cf-ab63-555e944b27e5",
   "metadata": {},
   "outputs": [],
   "source": [
    "pred_s=pd.Series(pred_list)\n",
    "sub['Label']=pred_s"
   ]
  },
  {
   "cell_type": "code",
   "execution_count": 156,
   "id": "f819097f-c153-44ab-9433-11574deb53dc",
   "metadata": {},
   "outputs": [],
   "source": [
    "sub.to_csv('dataset/sub_v02.csv', index=False)"
   ]
  },
  {
   "cell_type": "markdown",
   "id": "b5702f66-6842-46c1-9805-4c7a5d006213",
   "metadata": {
    "tags": []
   },
   "source": [
    "# no split\n",
    "leaderboard: 0.93982"
   ]
  },
  {
   "cell_type": "markdown",
   "id": "208ad8c3-74bc-44ac-98b4-d1f9bd987add",
   "metadata": {},
   "source": [
    "## train Model"
   ]
  },
  {
   "cell_type": "code",
   "execution_count": 162,
   "id": "6ffe1a12-dba9-4e60-9c66-39e0f28b0f00",
   "metadata": {},
   "outputs": [],
   "source": [
    "model=Sequential()\n",
    "\n",
    "model.add(Dense(units=32, activation='relu' ,input_shape=(28*28,)))\n",
    "model.add(Dense(units=47 , activation='relu'))\n",
    "model.add(Dense(units=24 , activation='relu'))\n",
    "model.add(Dense(units=32 , activation='relu'))\n",
    "model.add(Dense(units=17 , activation='relu'))\n",
    "model.add(Dense(units=32 , activation='relu'))\n",
    "model.add(Dense(units=27 , activation='relu'))\n",
    "model.add(Dense(units=32 , activation='relu'))\n",
    "model.add(Dense(units=19 , activation='relu'))\n",
    "model.add(Dense(units=32 , activation='relu'))\n",
    "model.add(Dense(units=38 , activation='relu'))\n",
    "model.add(Dense(units=16 , activation='relu'))\n",
    "model.add(Dense(units=10 , activation='softmax')) # multi-classification"
   ]
  },
  {
   "cell_type": "code",
   "execution_count": 163,
   "id": "f7835841-8d2e-4ffc-b463-1336a36e7ae6",
   "metadata": {},
   "outputs": [
    {
     "name": "stdout",
     "output_type": "stream",
     "text": [
      "Model: \"sequential_6\"\n",
      "_________________________________________________________________\n",
      " Layer (type)                Output Shape              Param #   \n",
      "=================================================================\n",
      " dense_72 (Dense)            (None, 32)                25120     \n",
      "                                                                 \n",
      " dense_73 (Dense)            (None, 47)                1551      \n",
      "                                                                 \n",
      " dense_74 (Dense)            (None, 24)                1152      \n",
      "                                                                 \n",
      " dense_75 (Dense)            (None, 32)                800       \n",
      "                                                                 \n",
      " dense_76 (Dense)            (None, 17)                561       \n",
      "                                                                 \n",
      " dense_77 (Dense)            (None, 32)                576       \n",
      "                                                                 \n",
      " dense_78 (Dense)            (None, 27)                891       \n",
      "                                                                 \n",
      " dense_79 (Dense)            (None, 32)                896       \n",
      "                                                                 \n",
      " dense_80 (Dense)            (None, 19)                627       \n",
      "                                                                 \n",
      " dense_81 (Dense)            (None, 32)                640       \n",
      "                                                                 \n",
      " dense_82 (Dense)            (None, 38)                1254      \n",
      "                                                                 \n",
      " dense_83 (Dense)            (None, 16)                624       \n",
      "                                                                 \n",
      " dense_84 (Dense)            (None, 10)                170       \n",
      "                                                                 \n",
      "=================================================================\n",
      "Total params: 34,862\n",
      "Trainable params: 34,862\n",
      "Non-trainable params: 0\n",
      "_________________________________________________________________\n"
     ]
    }
   ],
   "source": [
    "model.summary()"
   ]
  },
  {
   "cell_type": "code",
   "execution_count": 164,
   "id": "212a8ce2-2f9d-4b1a-907a-5812eb01ea91",
   "metadata": {},
   "outputs": [],
   "source": [
    "model.compile(loss='categorical_crossentropy',\n",
    "             optimizer='adam',\n",
    "             metrics='accuracy')"
   ]
  },
  {
   "cell_type": "markdown",
   "id": "f7a23627-c29e-47dc-bf87-8a4e0d8ee09a",
   "metadata": {},
   "source": [
    "## train"
   ]
  },
  {
   "cell_type": "code",
   "execution_count": 165,
   "id": "b0403a6f-5cd9-46be-bfcb-d88c68c6dbd3",
   "metadata": {},
   "outputs": [
    {
     "name": "stdout",
     "output_type": "stream",
     "text": [
      "Epoch 1/20\n",
      "263/263 [==============================] - 2s 5ms/step - loss: 1.2773 - accuracy: 0.5488 - val_loss: 0.5879 - val_accuracy: 0.8512\n",
      "Epoch 2/20\n",
      "263/263 [==============================] - 1s 4ms/step - loss: 0.4830 - accuracy: 0.8798 - val_loss: 0.3932 - val_accuracy: 0.9017\n",
      "Epoch 3/20\n",
      "263/263 [==============================] - 1s 4ms/step - loss: 0.3390 - accuracy: 0.9171 - val_loss: 0.3395 - val_accuracy: 0.9165\n",
      "Epoch 4/20\n",
      "263/263 [==============================] - 1s 4ms/step - loss: 0.2830 - accuracy: 0.9312 - val_loss: 0.3275 - val_accuracy: 0.9201\n",
      "Epoch 5/20\n",
      "263/263 [==============================] - 1s 3ms/step - loss: 0.2515 - accuracy: 0.9386 - val_loss: 0.3212 - val_accuracy: 0.9202\n",
      "Epoch 6/20\n",
      "263/263 [==============================] - 1s 3ms/step - loss: 0.2282 - accuracy: 0.9426 - val_loss: 0.2686 - val_accuracy: 0.9370\n",
      "Epoch 7/20\n",
      "263/263 [==============================] - 1s 3ms/step - loss: 0.2052 - accuracy: 0.9477 - val_loss: 0.2697 - val_accuracy: 0.9381\n",
      "Epoch 8/20\n",
      "263/263 [==============================] - 1s 3ms/step - loss: 0.1822 - accuracy: 0.9532 - val_loss: 0.2574 - val_accuracy: 0.9370\n",
      "Epoch 9/20\n",
      "263/263 [==============================] - 1s 3ms/step - loss: 0.1606 - accuracy: 0.9592 - val_loss: 0.2445 - val_accuracy: 0.9404\n",
      "Epoch 10/20\n",
      "263/263 [==============================] - 1s 3ms/step - loss: 0.1526 - accuracy: 0.9604 - val_loss: 0.2370 - val_accuracy: 0.9427\n",
      "Epoch 11/20\n",
      "263/263 [==============================] - 1s 3ms/step - loss: 0.1431 - accuracy: 0.9630 - val_loss: 0.2483 - val_accuracy: 0.9431\n",
      "Epoch 12/20\n",
      "263/263 [==============================] - 1s 3ms/step - loss: 0.1356 - accuracy: 0.9654 - val_loss: 0.2465 - val_accuracy: 0.9436\n",
      "Epoch 13/20\n",
      "263/263 [==============================] - 1s 3ms/step - loss: 0.1228 - accuracy: 0.9679 - val_loss: 0.2484 - val_accuracy: 0.9418\n",
      "Epoch 14/20\n",
      "263/263 [==============================] - 1s 3ms/step - loss: 0.1129 - accuracy: 0.9708 - val_loss: 0.2420 - val_accuracy: 0.9469\n",
      "Epoch 15/20\n",
      "263/263 [==============================] - 1s 3ms/step - loss: 0.1170 - accuracy: 0.9695 - val_loss: 0.2182 - val_accuracy: 0.9494\n",
      "Epoch 16/20\n",
      "263/263 [==============================] - 1s 4ms/step - loss: 0.1072 - accuracy: 0.9719 - val_loss: 0.2324 - val_accuracy: 0.9429\n",
      "Epoch 17/20\n",
      "263/263 [==============================] - 1s 3ms/step - loss: 0.0980 - accuracy: 0.9739 - val_loss: 0.2374 - val_accuracy: 0.9477\n",
      "Epoch 18/20\n",
      "263/263 [==============================] - 1s 3ms/step - loss: 0.0993 - accuracy: 0.9735 - val_loss: 0.2228 - val_accuracy: 0.9500\n",
      "Epoch 19/20\n",
      "263/263 [==============================] - 1s 3ms/step - loss: 0.0884 - accuracy: 0.9758 - val_loss: 0.2214 - val_accuracy: 0.9524\n",
      "Epoch 20/20\n",
      "263/263 [==============================] - 1s 4ms/step - loss: 0.0856 - accuracy: 0.9779 - val_loss: 0.2244 - val_accuracy: 0.9489\n"
     ]
    }
   ],
   "source": [
    "res=model.fit(X_train_arr_scaled, y_train_arr,\n",
    "             batch_size=128,\n",
    "             validation_split=0.2,\n",
    "             epochs=20\n",
    "             )"
   ]
  },
  {
   "cell_type": "markdown",
   "id": "c10dffae-9d88-414d-a12a-665d8706afc7",
   "metadata": {},
   "source": [
    "## Check overfitting"
   ]
  },
  {
   "cell_type": "code",
   "execution_count": 150,
   "id": "050f32d9-1c4d-441a-95a6-8b822a03e092",
   "metadata": {},
   "outputs": [],
   "source": [
    "# res.history"
   ]
  },
  {
   "cell_type": "code",
   "execution_count": 166,
   "id": "d601757c-4269-4de1-8191-be83d2d854a5",
   "metadata": {},
   "outputs": [
    {
     "data": {
      "image/png": "[encoded data removed]",
      "text/plain": [
       "<Figure size 432x288 with 1 Axes>"
      ]
     },
     "metadata": {},
     "output_type": "display_data"
    }
   ],
   "source": [
    "plt.plot(range(len(res.history['loss'])), res.history['loss'], c='red', label='loss')\n",
    "plt.plot(range(len(res.history['val_loss'])), res.history['val_loss'], c='blue', label='val_loss')\n",
    "plt.legend()\n",
    "plt.show()"
   ]
  },
  {
   "cell_type": "code",
   "execution_count": 167,
   "id": "9fc1bb25-9563-48a5-8379-8157c969889e",
   "metadata": {},
   "outputs": [
    {
     "data": {
      "image/png": "[encoded data removed]",
      "text/plain": [
       "<Figure size 432x288 with 1 Axes>"
      ]
     },
     "metadata": {},
     "output_type": "display_data"
    }
   ],
   "source": [
    "plt.plot(np.arange(len(res.history['accuracy'])), res.history['accuracy'], c='red', label='accuracy')\n",
    "plt.plot(np.arange(len(res.history['val_accuracy'])), res.history['val_accuracy'], c='blue', label='val_accuracy')\n",
    "plt.legend()\n",
    "plt.show()"
   ]
  },
  {
   "cell_type": "code",
   "execution_count": null,
   "id": "28d5deb1-68a0-4b36-ade3-201d95a339e3",
   "metadata": {},
   "outputs": [],
   "source": []
  },
  {
   "cell_type": "markdown",
   "id": "7ea7b96d-6587-4071-94c5-75f15c2f9adb",
   "metadata": {},
   "source": [
    "## prediciton"
   ]
  },
  {
   "cell_type": "code",
   "execution_count": 168,
   "id": "fab77efc-ac03-4ff2-89e7-0857c17a204b",
   "metadata": {},
   "outputs": [],
   "source": [
    "pred=model.predict(X_test_arr)"
   ]
  },
  {
   "cell_type": "code",
   "execution_count": 169,
   "id": "874e6c9a-caac-4bf1-8ed7-5eeaac219269",
   "metadata": {},
   "outputs": [],
   "source": [
    "pred_list=[]\n",
    "for arr in pred:\n",
    "    pred_list.append(np.argmax(arr))"
   ]
  },
  {
   "cell_type": "code",
   "execution_count": 170,
   "id": "93a57e81-ce69-4f03-a7fc-fff885b8ed99",
   "metadata": {},
   "outputs": [],
   "source": [
    "pred_s=pd.Series(pred_list)\n",
    "sub['Label']=pred_s"
   ]
  },
  {
   "cell_type": "code",
   "execution_count": 171,
   "id": "726eb343-8af1-47e4-aaac-6f78369eddc3",
   "metadata": {},
   "outputs": [],
   "source": [
    "sub.to_csv('dataset/sub_v03.csv', index=False)"
   ]
  },
  {
   "cell_type": "code",
   "execution_count": null,
   "id": "152b3aa6-518a-4876-92d7-a4a29442304c",
   "metadata": {},
   "outputs": [],
   "source": []
  }
 ],
 "metadata": {
  "kernelspec": {
   "display_name": "Python 3 (ipykernel)",
   "language": "python",
   "name": "python3"
  },
  "language_info": {
   "codemirror_mode": {
    "name": "ipython",
    "version": 3
   },
   "file_extension": ".py",
   "mimetype": "text/x-python",
   "name": "python",
   "nbconvert_exporter": "python",
   "pygments_lexer": "ipython3",
   "version": "3.8.8"
  }
 },
 "nbformat": 4,
 "nbformat_minor": 5
}
