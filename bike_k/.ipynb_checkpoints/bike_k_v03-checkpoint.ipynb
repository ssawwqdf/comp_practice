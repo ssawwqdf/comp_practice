{
 "cells": [
  {
   "cell_type": "markdown",
   "id": "18304d05-5ee8-43a6-bda2-4745d8e10ad1",
   "metadata": {},
   "source": [
    "# test에도 같은 processing 적용하기\n",
    "* 방법 1: 주피터 셀마다 train에 가공한 거 따라다니면서 복붙해서 test 하기\n",
    "* 방법 2: 시작부터 train이랑 test shape 다르면 test 기준으로 맞춰놓고 시작(노션)\n",
    "* 방법 3: test를 train에 맞춰놓고 시작 -> 어려운 3번으로 해보자\n",
    "            "
   ]
  },
  {
   "cell_type": "markdown",
   "id": "0b93b27b-c4f4-42bd-ad66-df5001504721",
   "metadata": {},
   "source": [
    "<img src='./logo.png'>"
   ]
  },
  {
   "cell_type": "markdown",
   "id": "2a6ead45-c7c8-4c0c-85f4-28b01bc68d03",
   "metadata": {},
   "source": [
    "**[time series]**\n",
    "* ref: https://www.kaggle.com/c/bike-sharing-demand/overview"
   ]
  },
  {
   "cell_type": "markdown",
   "id": "d50801fe-16ac-4a75-9dd1-02fb12d08f3f",
   "metadata": {},
   "source": [
    "* 날짜 변환: https://www.geeksforgeeks.org/convert-the-column-type-from-string-to-datetime-format-in-pandas-dataframe/  \n",
    "df['Date'] = df['Date'].astype('datetime64[ns]')"
   ]
  },
  {
   "cell_type": "code",
   "execution_count": 72,
   "id": "41098746-acda-4d13-9cb4-b78fdb46437d",
   "metadata": {},
   "outputs": [],
   "source": [
    "# 분석\n",
    "import pandas as pd\n",
    "import numpy as np\n",
    "\n",
    "# 경고\n",
    "import warnings\n",
    "warnings.filterwarnings(action='ignore')\n",
    "\n",
    "# 날짜 가공\n",
    "import datetime as dt \n",
    "from dateutil.rrule import rrule, YEARLY, MONTHLY, WEEKLY\n",
    "\n",
    "# 데이터 시각화\n",
    "import matplotlib.pyplot as plt\n",
    "plt.rc('font', family='Gothic') # For Windows. PLOT에서 한글 처리 -> 플롯 만드는 창에 넣어야 됨.\n",
    "\n",
    "plt.rcParams['font.family']= 'Malgun Gothic'\n",
    "plt.rcParams['axes.unicode_minus'] = False # - 기호 안 깨지게\n",
    "plt.rcParams['font.size'] = 15\n",
    "# plt.figure(figsize=(12,4)) # plot 12:4 비율\n",
    "\n",
    "import seaborn as sns\n",
    "sns.set() # seaborn에서 회색 grid 깔아줌\n",
    "sns.set(rc={'figure.figsize':(18, 5)}) # 결과 plot 크기 키워줌"
   ]
  },
  {
   "cell_type": "code",
   "execution_count": 73,
   "id": "c3cdf792-57b7-4101-b7a7-a71ba94c4d57",
   "metadata": {},
   "outputs": [],
   "source": [
    "# 사이킷런\n",
    "from sklearn.model_selection import train_test_split\n",
    "\n",
    "# 사이킷런 분류\n",
    "from sklearn.ensemble import RandomForestClassifier\n",
    "# from sklearn.linear_model import LogisticRegression\n",
    "# from sklearn.neighbors import KNeighborsClassifier\n",
    "# from sklearn.tree import DecisionTreeClassifier\n",
    "# from sklearn.svm import LinearSVC\n",
    "\n",
    "# 사이킷런 분류 점수\n",
    "# from sklearn.metrics import accuracy_score\n",
    "# from sklearn.metrics import classification_report, confusion_matrix, accuracy_score, precision_score, recall_score, f1_score\n",
    "# \t\t\t\t\t\t # ---> y_true, y_pred\n",
    "# from sklearn.metrics import precision_recall_curve # y_true, probas_pred\n",
    "# from sklearn.metrics import roc_auc_score, roc_curve # y_true, y_score\n",
    "\n",
    "# 분류 ensemble\n",
    "# import xgboost as xgb\n",
    "# from xgboost import plot_importance \n",
    "from xgboost import XGBClassifier\n",
    "import lightgbm as lgb\n",
    "from lightgbm import LGBMClassifier # lgb.쓰기 귀찮으니까 Classifier까지 import\n",
    "from sklearn.ensemble import VotingClassifier\n",
    "from sklearn.ensemble import BaggingClassifier"
   ]
  },
  {
   "cell_type": "code",
   "execution_count": 74,
   "id": "e36c3e5e-ae36-425e-86b1-a1e9a7da8a91",
   "metadata": {},
   "outputs": [],
   "source": [
    "# 사이킷런 회귀\n",
    "from sklearn.linear_model import LinearRegression\n",
    "from sklearn.linear_model import Lasso, LassoCV\n",
    "from sklearn.linear_model import ElasticNet, ElasticNetCV\n",
    "from sklearn.linear_model import Ridge, RidgeCV\n",
    "\n",
    "from sklearn.ensemble import RandomForestRegressor\n",
    "\n",
    "from sklearn.neighbors import KNeighborsRegressor\n",
    "\n",
    "\n",
    "from sklearn.svm import SVC #linear SVC는 classifier 성 / SVC는 분류말고 회귀에도 쓸 수 있다.\n",
    "\n",
    "from xgboost import XGBRegressor\n",
    "import lightgbm as lgb\n",
    "from lightgbm import LGBMRegressor\n",
    "\n",
    "# 사이킷런 회귀 점수\n",
    "from sklearn.metrics import mean_squared_error, mean_squared_log_error, mean_absolute_error, r2_score # squared=False로 하면 RMSE"
   ]
  },
  {
   "cell_type": "code",
   "execution_count": 75,
   "id": "2aa5c72d-e181-4943-a876-0f77bd918b6b",
   "metadata": {},
   "outputs": [],
   "source": [
    "# 사이킷런 스케일러\n",
    "from sklearn.preprocessing import StandardScaler, RobustScaler, MinMaxScaler\n",
    "\n",
    "# 사이킷런 학습 데이터 증강\n",
    "# StratifiedFold는 회귀에서는 X\n",
    "from sklearn.model_selection import cross_val_score, KFold, StratifiedKFold, GridSearchCV"
   ]
  },
  {
   "cell_type": "markdown",
   "id": "23493a5d-cc29-4dc1-8a4d-d76b9428fa01",
   "metadata": {},
   "source": [
    "# Data Load"
   ]
  },
  {
   "cell_type": "code",
   "execution_count": 76,
   "id": "1578b323-5662-45dc-882d-20545e9bdbe8",
   "metadata": {},
   "outputs": [],
   "source": [
    "train=pd.read_csv('./dataset/train.csv')\n",
    "test=pd.read_csv('./dataset/test.csv')\n",
    "submit=pd.read_csv('./dataset/sampleSubmission.csv')"
   ]
  },
  {
   "cell_type": "markdown",
   "id": "b8a16a0e-3793-4f6d-917c-5d8e99848bb3",
   "metadata": {},
   "source": [
    "train, test 같이 가공하기\n",
    "* train, test 합치고 분리\n",
    "* train, test 복붙"
   ]
  },
  {
   "cell_type": "code",
   "execution_count": 77,
   "id": "1a261e7f-7ecd-4117-b29f-73eae0430882",
   "metadata": {},
   "outputs": [
    {
     "name": "stdout",
     "output_type": "stream",
     "text": [
      "(10886, 12)\n",
      "<class 'pandas.core.frame.DataFrame'>\n",
      "RangeIndex: 10886 entries, 0 to 10885\n",
      "Data columns (total 12 columns):\n",
      " #   Column      Non-Null Count  Dtype  \n",
      "---  ------      --------------  -----  \n",
      " 0   datetime    10886 non-null  object \n",
      " 1   season      10886 non-null  int64  \n",
      " 2   holiday     10886 non-null  int64  \n",
      " 3   workingday  10886 non-null  int64  \n",
      " 4   weather     10886 non-null  int64  \n",
      " 5   temp        10886 non-null  float64\n",
      " 6   atemp       10886 non-null  float64\n",
      " 7   humidity    10886 non-null  int64  \n",
      " 8   windspeed   10886 non-null  float64\n",
      " 9   casual      10886 non-null  int64  \n",
      " 10  registered  10886 non-null  int64  \n",
      " 11  count       10886 non-null  int64  \n",
      "dtypes: float64(3), int64(8), object(1)\n",
      "memory usage: 1020.7+ KB\n",
      "None\n"
     ]
    },
    {
     "data": {
      "text/html": [
       "<div>\n",
       "<style scoped>\n",
       "    .dataframe tbody tr th:only-of-type {\n",
       "        vertical-align: middle;\n",
       "    }\n",
       "\n",
       "    .dataframe tbody tr th {\n",
       "        vertical-align: top;\n",
       "    }\n",
       "\n",
       "    .dataframe thead th {\n",
       "        text-align: right;\n",
       "    }\n",
       "</style>\n",
       "<table border=\"1\" class=\"dataframe\">\n",
       "  <thead>\n",
       "    <tr style=\"text-align: right;\">\n",
       "      <th></th>\n",
       "      <th>datetime</th>\n",
       "      <th>season</th>\n",
       "      <th>holiday</th>\n",
       "      <th>workingday</th>\n",
       "      <th>weather</th>\n",
       "      <th>temp</th>\n",
       "      <th>atemp</th>\n",
       "      <th>humidity</th>\n",
       "      <th>windspeed</th>\n",
       "      <th>casual</th>\n",
       "      <th>registered</th>\n",
       "      <th>count</th>\n",
       "    </tr>\n",
       "  </thead>\n",
       "  <tbody>\n",
       "    <tr>\n",
       "      <th>0</th>\n",
       "      <td>2011-01-01 00:00:00</td>\n",
       "      <td>1</td>\n",
       "      <td>0</td>\n",
       "      <td>0</td>\n",
       "      <td>1</td>\n",
       "      <td>9.84</td>\n",
       "      <td>14.395</td>\n",
       "      <td>81</td>\n",
       "      <td>0.0</td>\n",
       "      <td>3</td>\n",
       "      <td>13</td>\n",
       "      <td>16</td>\n",
       "    </tr>\n",
       "    <tr>\n",
       "      <th>1</th>\n",
       "      <td>2011-01-01 01:00:00</td>\n",
       "      <td>1</td>\n",
       "      <td>0</td>\n",
       "      <td>0</td>\n",
       "      <td>1</td>\n",
       "      <td>9.02</td>\n",
       "      <td>13.635</td>\n",
       "      <td>80</td>\n",
       "      <td>0.0</td>\n",
       "      <td>8</td>\n",
       "      <td>32</td>\n",
       "      <td>40</td>\n",
       "    </tr>\n",
       "    <tr>\n",
       "      <th>2</th>\n",
       "      <td>2011-01-01 02:00:00</td>\n",
       "      <td>1</td>\n",
       "      <td>0</td>\n",
       "      <td>0</td>\n",
       "      <td>1</td>\n",
       "      <td>9.02</td>\n",
       "      <td>13.635</td>\n",
       "      <td>80</td>\n",
       "      <td>0.0</td>\n",
       "      <td>5</td>\n",
       "      <td>27</td>\n",
       "      <td>32</td>\n",
       "    </tr>\n",
       "    <tr>\n",
       "      <th>3</th>\n",
       "      <td>2011-01-01 03:00:00</td>\n",
       "      <td>1</td>\n",
       "      <td>0</td>\n",
       "      <td>0</td>\n",
       "      <td>1</td>\n",
       "      <td>9.84</td>\n",
       "      <td>14.395</td>\n",
       "      <td>75</td>\n",
       "      <td>0.0</td>\n",
       "      <td>3</td>\n",
       "      <td>10</td>\n",
       "      <td>13</td>\n",
       "    </tr>\n",
       "    <tr>\n",
       "      <th>4</th>\n",
       "      <td>2011-01-01 04:00:00</td>\n",
       "      <td>1</td>\n",
       "      <td>0</td>\n",
       "      <td>0</td>\n",
       "      <td>1</td>\n",
       "      <td>9.84</td>\n",
       "      <td>14.395</td>\n",
       "      <td>75</td>\n",
       "      <td>0.0</td>\n",
       "      <td>0</td>\n",
       "      <td>1</td>\n",
       "      <td>1</td>\n",
       "    </tr>\n",
       "  </tbody>\n",
       "</table>\n",
       "</div>"
      ],
      "text/plain": [
       "              datetime  season  holiday  workingday  weather  temp   atemp  \\\n",
       "0  2011-01-01 00:00:00       1        0           0        1  9.84  14.395   \n",
       "1  2011-01-01 01:00:00       1        0           0        1  9.02  13.635   \n",
       "2  2011-01-01 02:00:00       1        0           0        1  9.02  13.635   \n",
       "3  2011-01-01 03:00:00       1        0           0        1  9.84  14.395   \n",
       "4  2011-01-01 04:00:00       1        0           0        1  9.84  14.395   \n",
       "\n",
       "   humidity  windspeed  casual  registered  count  \n",
       "0        81        0.0       3          13     16  \n",
       "1        80        0.0       8          32     40  \n",
       "2        80        0.0       5          27     32  \n",
       "3        75        0.0       3          10     13  \n",
       "4        75        0.0       0           1      1  "
      ]
     },
     "execution_count": 77,
     "metadata": {},
     "output_type": "execute_result"
    }
   ],
   "source": [
    "print(train.shape)\n",
    "print(train.info())\n",
    "train.head()"
   ]
  },
  {
   "cell_type": "code",
   "execution_count": 69,
   "id": "cb7eee89-1c6a-4768-bfcf-1c559eb59697",
   "metadata": {},
   "outputs": [
    {
     "name": "stdout",
     "output_type": "stream",
     "text": [
      "(6493, 9)\n",
      "<class 'pandas.core.frame.DataFrame'>\n",
      "RangeIndex: 6493 entries, 0 to 6492\n",
      "Data columns (total 9 columns):\n",
      " #   Column      Non-Null Count  Dtype         \n",
      "---  ------      --------------  -----         \n",
      " 0   regtime     6493 non-null   datetime64[ns]\n",
      " 1   season      6493 non-null   int64         \n",
      " 2   holiday     6493 non-null   int64         \n",
      " 3   workingday  6493 non-null   int64         \n",
      " 4   weather     6493 non-null   int64         \n",
      " 5   temp        6493 non-null   float64       \n",
      " 6   atemp       6493 non-null   float64       \n",
      " 7   humidity    6493 non-null   int64         \n",
      " 8   windspeed   6493 non-null   float64       \n",
      "dtypes: datetime64[ns](1), float64(3), int64(5)\n",
      "memory usage: 456.7 KB\n",
      "None\n"
     ]
    },
    {
     "data": {
      "text/html": [
       "<div>\n",
       "<style scoped>\n",
       "    .dataframe tbody tr th:only-of-type {\n",
       "        vertical-align: middle;\n",
       "    }\n",
       "\n",
       "    .dataframe tbody tr th {\n",
       "        vertical-align: top;\n",
       "    }\n",
       "\n",
       "    .dataframe thead th {\n",
       "        text-align: right;\n",
       "    }\n",
       "</style>\n",
       "<table border=\"1\" class=\"dataframe\">\n",
       "  <thead>\n",
       "    <tr style=\"text-align: right;\">\n",
       "      <th></th>\n",
       "      <th>regtime</th>\n",
       "      <th>season</th>\n",
       "      <th>holiday</th>\n",
       "      <th>workingday</th>\n",
       "      <th>weather</th>\n",
       "      <th>temp</th>\n",
       "      <th>atemp</th>\n",
       "      <th>humidity</th>\n",
       "      <th>windspeed</th>\n",
       "    </tr>\n",
       "  </thead>\n",
       "  <tbody>\n",
       "    <tr>\n",
       "      <th>0</th>\n",
       "      <td>2011-01-20 00:00:00</td>\n",
       "      <td>1</td>\n",
       "      <td>0</td>\n",
       "      <td>1</td>\n",
       "      <td>1</td>\n",
       "      <td>10.66</td>\n",
       "      <td>11.365</td>\n",
       "      <td>56</td>\n",
       "      <td>26.0027</td>\n",
       "    </tr>\n",
       "    <tr>\n",
       "      <th>1</th>\n",
       "      <td>2011-01-20 01:00:00</td>\n",
       "      <td>1</td>\n",
       "      <td>0</td>\n",
       "      <td>1</td>\n",
       "      <td>1</td>\n",
       "      <td>10.66</td>\n",
       "      <td>13.635</td>\n",
       "      <td>56</td>\n",
       "      <td>0.0000</td>\n",
       "    </tr>\n",
       "    <tr>\n",
       "      <th>2</th>\n",
       "      <td>2011-01-20 02:00:00</td>\n",
       "      <td>1</td>\n",
       "      <td>0</td>\n",
       "      <td>1</td>\n",
       "      <td>1</td>\n",
       "      <td>10.66</td>\n",
       "      <td>13.635</td>\n",
       "      <td>56</td>\n",
       "      <td>0.0000</td>\n",
       "    </tr>\n",
       "    <tr>\n",
       "      <th>3</th>\n",
       "      <td>2011-01-20 03:00:00</td>\n",
       "      <td>1</td>\n",
       "      <td>0</td>\n",
       "      <td>1</td>\n",
       "      <td>1</td>\n",
       "      <td>10.66</td>\n",
       "      <td>12.880</td>\n",
       "      <td>56</td>\n",
       "      <td>11.0014</td>\n",
       "    </tr>\n",
       "    <tr>\n",
       "      <th>4</th>\n",
       "      <td>2011-01-20 04:00:00</td>\n",
       "      <td>1</td>\n",
       "      <td>0</td>\n",
       "      <td>1</td>\n",
       "      <td>1</td>\n",
       "      <td>10.66</td>\n",
       "      <td>12.880</td>\n",
       "      <td>56</td>\n",
       "      <td>11.0014</td>\n",
       "    </tr>\n",
       "  </tbody>\n",
       "</table>\n",
       "</div>"
      ],
      "text/plain": [
       "              regtime  season  holiday  workingday  weather   temp   atemp  \\\n",
       "0 2011-01-20 00:00:00       1        0           1        1  10.66  11.365   \n",
       "1 2011-01-20 01:00:00       1        0           1        1  10.66  13.635   \n",
       "2 2011-01-20 02:00:00       1        0           1        1  10.66  13.635   \n",
       "3 2011-01-20 03:00:00       1        0           1        1  10.66  12.880   \n",
       "4 2011-01-20 04:00:00       1        0           1        1  10.66  12.880   \n",
       "\n",
       "   humidity  windspeed  \n",
       "0        56    26.0027  \n",
       "1        56     0.0000  \n",
       "2        56     0.0000  \n",
       "3        56    11.0014  \n",
       "4        56    11.0014  "
      ]
     },
     "execution_count": 69,
     "metadata": {},
     "output_type": "execute_result"
    }
   ],
   "source": [
    "print(test.shape)\n",
    "print(test.info())\n",
    "test.head()"
   ]
  },
  {
   "cell_type": "markdown",
   "id": "4d0359d9-0ba5-452a-90fe-b3095bbd44be",
   "metadata": {},
   "source": [
    "# train에만 있는 피쳐 삭제\n",
    "* test는 타겟피쳐가 없기 때문에 train -1개 피쳐를 (보통) 갖는다."
   ]
  },
  {
   "cell_type": "code",
   "execution_count": 79,
   "id": "3b9438f2-7858-47e2-9966-777aa83db755",
   "metadata": {},
   "outputs": [
    {
     "data": {
      "text/plain": [
       "((10886, 10), (6493, 9))"
      ]
     },
     "execution_count": 79,
     "metadata": {},
     "output_type": "execute_result"
    }
   ],
   "source": [
    "train=train.drop(['casual', 'registered'], axis=1)\n",
    "train.shape, test.shape"
   ]
  },
  {
   "cell_type": "markdown",
   "id": "02587378-90d1-444d-bdc3-0ab771a38001",
   "metadata": {},
   "source": [
    "# train test 합치고 다시 분리 하기"
   ]
  },
  {
   "cell_type": "markdown",
   "id": "83c19bcf-00c6-438a-809b-83424314d58a",
   "metadata": {},
   "source": [
    "## 합치기"
   ]
  },
  {
   "cell_type": "code",
   "execution_count": 80,
   "id": "e4f3974c-3eeb-4697-a238-1cf349a2ab78",
   "metadata": {},
   "outputs": [
    {
     "data": {
      "text/plain": [
       "(17379, 10)"
      ]
     },
     "execution_count": 80,
     "metadata": {},
     "output_type": "execute_result"
    }
   ],
   "source": [
    "train_test=pd.concat([train, test], axis=0)\n",
    "train_test.shape"
   ]
  },
  {
   "cell_type": "markdown",
   "id": "34fe8da1-ce6f-4869-b31a-808cc7beb1dd",
   "metadata": {},
   "source": [
    "## 분리하기"
   ]
  },
  {
   "cell_type": "code",
   "execution_count": 92,
   "id": "c3ca376a-c488-4c79-885f-fbe2294cafc6",
   "metadata": {},
   "outputs": [
    {
     "data": {
      "text/plain": [
       "0      NaN\n",
       "1      NaN\n",
       "2      NaN\n",
       "3      NaN\n",
       "4      NaN\n",
       "        ..\n",
       "6488   NaN\n",
       "6489   NaN\n",
       "6490   NaN\n",
       "6491   NaN\n",
       "6492   NaN\n",
       "Name: count, Length: 6493, dtype: float64"
      ]
     },
     "execution_count": 92,
     "metadata": {},
     "output_type": "execute_result"
    }
   ],
   "source": [
    "# test 부분은 count 다 null\n",
    "train_test.iloc[10886:,9]\n",
    "# train_test.iloc[10882:,9] 하면 앞은 nan 아닌 거 볼 수 있다."
   ]
  },
  {
   "cell_type": "code",
   "execution_count": 93,
   "id": "d1475de0-6006-4491-99d8-136c2a898939",
   "metadata": {},
   "outputs": [
    {
     "name": "stdout",
     "output_type": "stream",
     "text": [
      "(10886, 10) (6493, 9)\n"
     ]
    }
   ],
   "source": [
    "train=train_test.iloc[:10886]\n",
    "test=train_test.iloc[10886:]\n",
    "\n",
    "test=test.drop(['count'], axis=1)\n",
    "\n",
    "print(train.shape, test.shape)"
   ]
  },
  {
   "cell_type": "code",
   "execution_count": null,
   "id": "e7d8e1cb-0ca2-44b5-9e61-5444afd960db",
   "metadata": {},
   "outputs": [],
   "source": []
  },
  {
   "cell_type": "code",
   "execution_count": null,
   "id": "fd272829-b1a8-4b13-b57b-67747009ae14",
   "metadata": {},
   "outputs": [],
   "source": []
  },
  {
   "cell_type": "code",
   "execution_count": null,
   "id": "2ab90ef5-ca26-4845-a24c-87bdbcdd622d",
   "metadata": {},
   "outputs": [],
   "source": []
  },
  {
   "cell_type": "code",
   "execution_count": null,
   "id": "ba084163-f165-47e7-869f-cd2b4ce8b160",
   "metadata": {},
   "outputs": [],
   "source": []
  },
  {
   "cell_type": "code",
   "execution_count": null,
   "id": "f4ef528a-b47f-4d39-87c6-a6ff94495794",
   "metadata": {},
   "outputs": [],
   "source": []
  },
  {
   "cell_type": "code",
   "execution_count": null,
   "id": "df8aec0c-5d14-4e90-8c53-443376045a6e",
   "metadata": {},
   "outputs": [],
   "source": []
  },
  {
   "cell_type": "code",
   "execution_count": 70,
   "id": "5071b477-355a-44c5-9c87-872e1ca755f1",
   "metadata": {},
   "outputs": [
    {
     "data": {
      "text/html": [
       "<div>\n",
       "<style scoped>\n",
       "    .dataframe tbody tr th:only-of-type {\n",
       "        vertical-align: middle;\n",
       "    }\n",
       "\n",
       "    .dataframe tbody tr th {\n",
       "        vertical-align: top;\n",
       "    }\n",
       "\n",
       "    .dataframe thead th {\n",
       "        text-align: right;\n",
       "    }\n",
       "</style>\n",
       "<table border=\"1\" class=\"dataframe\">\n",
       "  <thead>\n",
       "    <tr style=\"text-align: right;\">\n",
       "      <th>workingday</th>\n",
       "      <th>0</th>\n",
       "      <th>1</th>\n",
       "    </tr>\n",
       "    <tr>\n",
       "      <th>holiday</th>\n",
       "      <th></th>\n",
       "      <th></th>\n",
       "    </tr>\n",
       "  </thead>\n",
       "  <tbody>\n",
       "    <tr>\n",
       "      <th>0</th>\n",
       "      <td>3163</td>\n",
       "      <td>7412</td>\n",
       "    </tr>\n",
       "    <tr>\n",
       "      <th>1</th>\n",
       "      <td>311</td>\n",
       "      <td>0</td>\n",
       "    </tr>\n",
       "  </tbody>\n",
       "</table>\n",
       "</div>"
      ],
      "text/plain": [
       "workingday     0     1\n",
       "holiday               \n",
       "0           3163  7412\n",
       "1            311     0"
      ]
     },
     "execution_count": 70,
     "metadata": {},
     "output_type": "execute_result"
    }
   ],
   "source": [
    "pd.crosstab(train['holiday'],train['workingday'])"
   ]
  },
  {
   "cell_type": "markdown",
   "id": "064247f2-6992-4ac3-a10b-5bee2ce8e5a8",
   "metadata": {},
   "source": [
    "# 날짜타입 변환\n",
    "* astype : object --> datetime64[ns]\n",
    "* read_csv : 날짜 타입으로 가져오기\n",
    "* to_datetime()"
   ]
  },
  {
   "cell_type": "markdown",
   "id": "accc7564-b6dd-4bce-b974-4625e9be5f06",
   "metadata": {},
   "source": [
    "## 방법 1 astype"
   ]
  },
  {
   "cell_type": "code",
   "execution_count": 71,
   "id": "a71c1db9-3922-4161-9748-9d943df189d3",
   "metadata": {},
   "outputs": [
    {
     "ename": "KeyError",
     "evalue": "'datetime'",
     "output_type": "error",
     "traceback": [
      "\u001b[1;31m---------------------------------------------------------------------------\u001b[0m",
      "\u001b[1;31mKeyError\u001b[0m                                  Traceback (most recent call last)",
      "\u001b[1;32mc:\\ai\\pythonproject\\venv\\lib\\site-packages\\pandas\\core\\indexes\\base.py\u001b[0m in \u001b[0;36mget_loc\u001b[1;34m(self, key, method, tolerance)\u001b[0m\n\u001b[0;32m   3360\u001b[0m             \u001b[1;32mtry\u001b[0m\u001b[1;33m:\u001b[0m\u001b[1;33m\u001b[0m\u001b[1;33m\u001b[0m\u001b[0m\n\u001b[1;32m-> 3361\u001b[1;33m                 \u001b[1;32mreturn\u001b[0m \u001b[0mself\u001b[0m\u001b[1;33m.\u001b[0m\u001b[0m_engine\u001b[0m\u001b[1;33m.\u001b[0m\u001b[0mget_loc\u001b[0m\u001b[1;33m(\u001b[0m\u001b[0mcasted_key\u001b[0m\u001b[1;33m)\u001b[0m\u001b[1;33m\u001b[0m\u001b[1;33m\u001b[0m\u001b[0m\n\u001b[0m\u001b[0;32m   3362\u001b[0m             \u001b[1;32mexcept\u001b[0m \u001b[0mKeyError\u001b[0m \u001b[1;32mas\u001b[0m \u001b[0merr\u001b[0m\u001b[1;33m:\u001b[0m\u001b[1;33m\u001b[0m\u001b[1;33m\u001b[0m\u001b[0m\n",
      "\u001b[1;32mc:\\ai\\pythonproject\\venv\\lib\\site-packages\\pandas\\_libs\\index.pyx\u001b[0m in \u001b[0;36mpandas._libs.index.IndexEngine.get_loc\u001b[1;34m()\u001b[0m\n",
      "\u001b[1;32mc:\\ai\\pythonproject\\venv\\lib\\site-packages\\pandas\\_libs\\index.pyx\u001b[0m in \u001b[0;36mpandas._libs.index.IndexEngine.get_loc\u001b[1;34m()\u001b[0m\n",
      "\u001b[1;32mpandas\\_libs\\hashtable_class_helper.pxi\u001b[0m in \u001b[0;36mpandas._libs.hashtable.PyObjectHashTable.get_item\u001b[1;34m()\u001b[0m\n",
      "\u001b[1;32mpandas\\_libs\\hashtable_class_helper.pxi\u001b[0m in \u001b[0;36mpandas._libs.hashtable.PyObjectHashTable.get_item\u001b[1;34m()\u001b[0m\n",
      "\u001b[1;31mKeyError\u001b[0m: 'datetime'",
      "\nThe above exception was the direct cause of the following exception:\n",
      "\u001b[1;31mKeyError\u001b[0m                                  Traceback (most recent call last)",
      "\u001b[1;32m~\\AppData\\Local\\Temp/ipykernel_21304/349865499.py\u001b[0m in \u001b[0;36m<module>\u001b[1;34m\u001b[0m\n\u001b[0;32m      1\u001b[0m \u001b[1;31m# 방법 1\u001b[0m\u001b[1;33m\u001b[0m\u001b[1;33m\u001b[0m\u001b[1;33m\u001b[0m\u001b[0m\n\u001b[1;32m----> 2\u001b[1;33m \u001b[0mtrain\u001b[0m\u001b[1;33m[\u001b[0m\u001b[1;34m'datetime'\u001b[0m\u001b[1;33m]\u001b[0m\u001b[1;33m=\u001b[0m\u001b[0mtrain\u001b[0m\u001b[1;33m[\u001b[0m\u001b[1;34m'datetime'\u001b[0m\u001b[1;33m]\u001b[0m\u001b[1;33m.\u001b[0m\u001b[0mastype\u001b[0m\u001b[1;33m(\u001b[0m\u001b[1;34m'datetime64[ns]'\u001b[0m\u001b[1;33m)\u001b[0m\u001b[1;33m\u001b[0m\u001b[1;33m\u001b[0m\u001b[0m\n\u001b[0m\u001b[0;32m      3\u001b[0m \u001b[1;31m# test['datetime']=test['datetime'].astype('datetime64[ns]')\u001b[0m\u001b[1;33m\u001b[0m\u001b[1;33m\u001b[0m\u001b[1;33m\u001b[0m\u001b[0m\n",
      "\u001b[1;32mc:\\ai\\pythonproject\\venv\\lib\\site-packages\\pandas\\core\\frame.py\u001b[0m in \u001b[0;36m__getitem__\u001b[1;34m(self, key)\u001b[0m\n\u001b[0;32m   3456\u001b[0m             \u001b[1;32mif\u001b[0m \u001b[0mself\u001b[0m\u001b[1;33m.\u001b[0m\u001b[0mcolumns\u001b[0m\u001b[1;33m.\u001b[0m\u001b[0mnlevels\u001b[0m \u001b[1;33m>\u001b[0m \u001b[1;36m1\u001b[0m\u001b[1;33m:\u001b[0m\u001b[1;33m\u001b[0m\u001b[1;33m\u001b[0m\u001b[0m\n\u001b[0;32m   3457\u001b[0m                 \u001b[1;32mreturn\u001b[0m \u001b[0mself\u001b[0m\u001b[1;33m.\u001b[0m\u001b[0m_getitem_multilevel\u001b[0m\u001b[1;33m(\u001b[0m\u001b[0mkey\u001b[0m\u001b[1;33m)\u001b[0m\u001b[1;33m\u001b[0m\u001b[1;33m\u001b[0m\u001b[0m\n\u001b[1;32m-> 3458\u001b[1;33m             \u001b[0mindexer\u001b[0m \u001b[1;33m=\u001b[0m \u001b[0mself\u001b[0m\u001b[1;33m.\u001b[0m\u001b[0mcolumns\u001b[0m\u001b[1;33m.\u001b[0m\u001b[0mget_loc\u001b[0m\u001b[1;33m(\u001b[0m\u001b[0mkey\u001b[0m\u001b[1;33m)\u001b[0m\u001b[1;33m\u001b[0m\u001b[1;33m\u001b[0m\u001b[0m\n\u001b[0m\u001b[0;32m   3459\u001b[0m             \u001b[1;32mif\u001b[0m \u001b[0mis_integer\u001b[0m\u001b[1;33m(\u001b[0m\u001b[0mindexer\u001b[0m\u001b[1;33m)\u001b[0m\u001b[1;33m:\u001b[0m\u001b[1;33m\u001b[0m\u001b[1;33m\u001b[0m\u001b[0m\n\u001b[0;32m   3460\u001b[0m                 \u001b[0mindexer\u001b[0m \u001b[1;33m=\u001b[0m \u001b[1;33m[\u001b[0m\u001b[0mindexer\u001b[0m\u001b[1;33m]\u001b[0m\u001b[1;33m\u001b[0m\u001b[1;33m\u001b[0m\u001b[0m\n",
      "\u001b[1;32mc:\\ai\\pythonproject\\venv\\lib\\site-packages\\pandas\\core\\indexes\\base.py\u001b[0m in \u001b[0;36mget_loc\u001b[1;34m(self, key, method, tolerance)\u001b[0m\n\u001b[0;32m   3361\u001b[0m                 \u001b[1;32mreturn\u001b[0m \u001b[0mself\u001b[0m\u001b[1;33m.\u001b[0m\u001b[0m_engine\u001b[0m\u001b[1;33m.\u001b[0m\u001b[0mget_loc\u001b[0m\u001b[1;33m(\u001b[0m\u001b[0mcasted_key\u001b[0m\u001b[1;33m)\u001b[0m\u001b[1;33m\u001b[0m\u001b[1;33m\u001b[0m\u001b[0m\n\u001b[0;32m   3362\u001b[0m             \u001b[1;32mexcept\u001b[0m \u001b[0mKeyError\u001b[0m \u001b[1;32mas\u001b[0m \u001b[0merr\u001b[0m\u001b[1;33m:\u001b[0m\u001b[1;33m\u001b[0m\u001b[1;33m\u001b[0m\u001b[0m\n\u001b[1;32m-> 3363\u001b[1;33m                 \u001b[1;32mraise\u001b[0m \u001b[0mKeyError\u001b[0m\u001b[1;33m(\u001b[0m\u001b[0mkey\u001b[0m\u001b[1;33m)\u001b[0m \u001b[1;32mfrom\u001b[0m \u001b[0merr\u001b[0m\u001b[1;33m\u001b[0m\u001b[1;33m\u001b[0m\u001b[0m\n\u001b[0m\u001b[0;32m   3364\u001b[0m \u001b[1;33m\u001b[0m\u001b[0m\n\u001b[0;32m   3365\u001b[0m         \u001b[1;32mif\u001b[0m \u001b[0mis_scalar\u001b[0m\u001b[1;33m(\u001b[0m\u001b[0mkey\u001b[0m\u001b[1;33m)\u001b[0m \u001b[1;32mand\u001b[0m \u001b[0misna\u001b[0m\u001b[1;33m(\u001b[0m\u001b[0mkey\u001b[0m\u001b[1;33m)\u001b[0m \u001b[1;32mand\u001b[0m \u001b[1;32mnot\u001b[0m \u001b[0mself\u001b[0m\u001b[1;33m.\u001b[0m\u001b[0mhasnans\u001b[0m\u001b[1;33m:\u001b[0m\u001b[1;33m\u001b[0m\u001b[1;33m\u001b[0m\u001b[0m\n",
      "\u001b[1;31mKeyError\u001b[0m: 'datetime'"
     ]
    }
   ],
   "source": [
    "# 방법 1\n",
    "train['datetime']=train['datetime'].astype('datetime64[ns]')\n",
    "# test['datetime']=test['datetime'].astype('datetime64[ns]')"
   ]
  },
  {
   "cell_type": "markdown",
   "id": "a8f3fb2e-e66f-4c15-a460-a72bca437616",
   "metadata": {},
   "source": [
    "## 방법 2 read_csv 자체에서"
   ]
  },
  {
   "cell_type": "code",
   "execution_count": null,
   "id": "61607e11-0ca5-43e3-b759-dcf2c5150d58",
   "metadata": {},
   "outputs": [],
   "source": [
    "# 방법 2 -> read_csv API 읽어보기\n",
    "\n",
    "# dtype 파라미터에서 dict로 dtype 지정 가능\n",
    "# skiprows -> row 일부만\n",
    "# nrows -> row 일부만\n",
    "# na_values -> 결측이 어떤 문자로 써있니\n",
    "\n",
    "# Datetime Handling 부분 참고\n",
    "# parse_dates -> 여러 개 있으면 여러 개 리스트로 지정\n",
    "train=pd.read_csv('./dataset/train.csv', parse_dates=['datetime'])\n",
    "test=pd.read_csv('./dataset/test.csv', parse_dates=['datetime'])"
   ]
  },
  {
   "cell_type": "code",
   "execution_count": null,
   "id": "fd09bf1c-9099-42f8-8479-7bec7387c44b",
   "metadata": {},
   "outputs": [],
   "source": [
    "train.info()"
   ]
  },
  {
   "cell_type": "markdown",
   "id": "c81cccd9-60a1-4f9e-9262-b92cd1f6c8c1",
   "metadata": {},
   "source": [
    "## 방법 3 to_datetime"
   ]
  },
  {
   "cell_type": "code",
   "execution_count": null,
   "id": "ee395814-402c-4b5e-b21e-b9bb42dc3f72",
   "metadata": {},
   "outputs": [],
   "source": [
    "# 방법 3 to_datetime                                  # 2011-01-01 00:00:00\n",
    "# train['datetime'] = pd.to_datetime(train['datetime'], format='%Y-%m-%d %H:%M:%S')"
   ]
  },
  {
   "cell_type": "code",
   "execution_count": null,
   "id": "85d2147f-51e7-42db-b2eb-42b9fe263e38",
   "metadata": {},
   "outputs": [],
   "source": [
    "# train.head()"
   ]
  },
  {
   "cell_type": "markdown",
   "id": "54f114fe-3450-4241-8435-e24abb9e6a43",
   "metadata": {},
   "source": [
    "# 가공"
   ]
  },
  {
   "cell_type": "markdown",
   "id": "ecbbaab6-e906-4cdc-a242-284cedf28a59",
   "metadata": {},
   "source": [
    "### datetime 컬럼 이름 바꾸기"
   ]
  },
  {
   "cell_type": "code",
   "execution_count": null,
   "id": "283e0b77-2e5e-4a9c-be49-f05714a1407d",
   "metadata": {
    "tags": []
   },
   "outputs": [],
   "source": [
    "## datetime 여러개라 헷갈리므로 이름 바꾸자\n",
    "train=train.rename(columns={'datetime':'regtime'})\n",
    "test=test.rename(columns={'datetime':'regtime'})\n",
    "train.head()"
   ]
  },
  {
   "cell_type": "markdown",
   "id": "3a46b953-ffbc-40de-8c17-e6bc20b28e31",
   "metadata": {},
   "source": [
    "## 날짜시간 핸들링 -> import datetime as dt"
   ]
  },
  {
   "cell_type": "code",
   "execution_count": null,
   "id": "cdc50587-4d9d-4fa0-aa9b-f78d872743cb",
   "metadata": {},
   "outputs": [],
   "source": [
    "## datetime에서 연월일시분초 빼오는 것 -> lec 10 주피터 참고"
   ]
  },
  {
   "cell_type": "code",
   "execution_count": null,
   "id": "cea4f77d-1de2-46a7-a553-2271aa8e1ee2",
   "metadata": {},
   "outputs": [],
   "source": [
    "# 강사님 lec10 예제코드 확임"
   ]
  },
  {
   "cell_type": "code",
   "execution_count": null,
   "id": "50f9f59d-3843-46b4-8e89-cb3b4ff7f85f",
   "metadata": {},
   "outputs": [],
   "source": [
    "import datetime as dt  # 파이썬에 이미 내장됨------> datetime64[ns]에도 사용 가능\n",
    "\n",
    "set_day = dt.date(2019, 3, 1)\n",
    "print(set_day, type(set_day))\n",
    "print( set_day.year ,  set_day.month, set_day.day )\n",
    "#------------------------------------------------------------------\n",
    "set_time = dt.time(15, 30, 45)\n",
    "print(set_time, type(set_time))\n",
    "print( set_time.hour ,  set_time.minute, set_time.second )\n",
    "#------------------------------------------------------------------\n",
    "set_dt = dt.datetime(2018, 10, 9, 10, 20, 0)\n",
    "print(set_dt, type(set_dt))\n",
    "print( set_dt.year ,  set_dt.month, set_dt.day )\n",
    "print( set_dt.hour ,  set_dt.minute, set_dt.second )\n",
    "#------------------------------------------------------------------\n",
    "print(dt.date.today())\n",
    "print(dt.datetime.now())\n",
    "print(\"{:%Y-%m-%d %H:%M:%S}\".format(dt.datetime.now()))\n"
   ]
  },
  {
   "cell_type": "markdown",
   "id": "c8888daa-4451-43f2-99bc-820f3d7b4bbf",
   "metadata": {},
   "source": [
    "# 연/월/일/시/분/초 꺼내기"
   ]
  },
  {
   "cell_type": "code",
   "execution_count": null,
   "id": "28c81b33-6d11-42ca-8885-ebdc6d2d0e69",
   "metadata": {},
   "outputs": [],
   "source": [
    "# 이제부터 PC는 가공해서 만든 피쳐(보통 PCA라고 하는데 이건 그거까지는 아니니까)\n",
    "\n",
    "train['PC_y']=train['regtime'].dt.year\n",
    "train['PC_m']=train['regtime'].dt.month\n",
    "train['PC_d']=train['regtime'].dt.day\n",
    "train['PC_h']=train['regtime'].dt.hour\n",
    "train['PC_w']=train['regtime'].dt.dayofweek # 0: 월 ~ 6:일\n",
    "# train['PC_w']=train['regtime'].dt.dayofweek # 주차: credit_d_v5 확인\n",
    "train.head() # 2011-01-01 00:00:00\t1\t0\t0\t1\t9.84\t14.395\t81\t0.0\t3\t13\t16\t2011\t1\t1\t0\t5(토요일)\n",
    "train.tail(2) # 2012-12-19 23:00:00\t4\t0\t1\t1\t13.12\t16.665\t66\t8.9981\t4\t84\t88\t2012\t12\t19\t23\t2(수요일)\n"
   ]
  },
  {
   "cell_type": "code",
   "execution_count": null,
   "id": "451647b3-d7bb-4380-8c68-00c73d4cc00d",
   "metadata": {},
   "outputs": [],
   "source": [
    "# import datetime as dt \n",
    "# from dateutil.rrule import rrule, YEARLY, MONTHLY, WEEKLY # 날짜 더하기 빼기 간단하게 하는 게 rrule\n",
    "\n",
    "# now = dt.datetime.now()          # 오늘 날짜\n",
    "# dt.timedelta(days=-1)            # 기준 날짜,시각 기점으로 n일/초/분/주 델타값을 지정. (- 하면 이전 +는 이후)\n",
    "\n",
    "# old=now-dt.timedelta(days=365)\n",
    "\n",
    "# rrule(freq=YEARLY, dtstart=old, until=now) # 그냥 하면 객체로 나온다.\n",
    "\n",
    "# print([y for y in rrule(freq=YEARLY, dtstart=old, until=now)])         # # 전년도와 올해 기준으로 연 별로 뭐뭐 있나?(본인 포함)\n",
    "\n",
    "# print([y for y in rrule(freq=WEEKLY, dtstart=old, until=now)])         # # 전년도와 올해 기준으로 주 별로 뭐뭐 있나?(본인 포함)\n",
    "\n",
    "# print( len ([y for y in rrule(freq=YEARLY, dtstart=old, until=now)]) ) # 전년도와 올해 기준으로 몇 년 있나? (단, 시작날 포함하므로 본인 제외할 거면 -1 하면 됨)\n",
    "\n",
    "# print( len ([y for y in rrule(freq=MONTHLY, dtstart=old, until=now)]) ) # 전년도와 올해 기준으로 몇 개월 있나? (단, 시작날 포함하므로 본인 제외할 거면 -1 하면 됨)\n",
    "\n",
    "# print( len ([y for y in rrule(freq=WEEKLY, dtstart=old, until=now)]) )"
   ]
  },
  {
   "cell_type": "markdown",
   "id": "8d2afdef-2497-4820-8b0a-e98e3786c2d5",
   "metadata": {},
   "source": [
    "## regtime 후처리"
   ]
  },
  {
   "cell_type": "code",
   "execution_count": null,
   "id": "f9c8f74c-9661-45f7-a45b-00f750ceb350",
   "metadata": {},
   "outputs": [],
   "source": [
    "# 죽어도 안 쓸 거면 drop -> 나중에 필요해서 꺼내오려면 귀찮아짐\n",
    "# train=train.drop('regtime', axis=1)"
   ]
  },
  {
   "cell_type": "code",
   "execution_count": null,
   "id": "796b8911-3f99-483c-a9ee-8e2cf2b89ea6",
   "metadata": {},
   "outputs": [],
   "source": [
    "train.head(2)"
   ]
  },
  {
   "cell_type": "markdown",
   "id": "168ce0e8-72cb-4157-b93e-519dd901784a",
   "metadata": {},
   "source": [
    "* 피쳐 --> index로 넣기"
   ]
  },
  {
   "cell_type": "code",
   "execution_count": null,
   "id": "7570e0f2-7c21-41fc-b18a-283501c05d78",
   "metadata": {},
   "outputs": [],
   "source": [
    "# regtime을 인덱스로 보내버림\n",
    "train=train.set_index('regtime') # 일반 컬럼을 index로 구겨넣음\n",
    "train.head(2)"
   ]
  },
  {
   "cell_type": "markdown",
   "id": "6039853a-79e6-492a-9775-c9f87a8e70c6",
   "metadata": {},
   "source": [
    "* index --> 피쳐로 꺼내기"
   ]
  },
  {
   "cell_type": "code",
   "execution_count": null,
   "id": "7ab4330c-f8e9-4532-b4b0-3d720d23a552",
   "metadata": {},
   "outputs": [],
   "source": [
    "# 다시 꺼내오려면? -> pandas.DataFrame.reset_index\n",
    "# 인덱스를 0부터 다시 설정\n",
    "# 기존에 인덱스 서로 다른 거 상하로 합칠 때 썼었다.\n",
    "# DataFrame.reset_index(level=None, drop=False, inplace=False, col_level=0, col_fill='')\n",
    "#                                 원래 index drop? -> drop=False면 컬럼 계속 늘어남\n",
    "\n",
    "# train=train.reset_index()\n",
    "# train.head()"
   ]
  },
  {
   "cell_type": "code",
   "execution_count": null,
   "id": "12b3f406-5b37-4789-8020-5692ccca12cb",
   "metadata": {},
   "outputs": [],
   "source": [
    "train.info()"
   ]
  },
  {
   "cell_type": "code",
   "execution_count": null,
   "id": "a71fa17b-5e9a-4617-9a95-e6b5aa014662",
   "metadata": {},
   "outputs": [],
   "source": []
  },
  {
   "cell_type": "markdown",
   "id": "3f5d5881-f01e-47be-92cf-5fff8fd1262d",
   "metadata": {},
   "source": [
    "# 우선 점수 보기"
   ]
  },
  {
   "cell_type": "markdown",
   "id": "f7b75e85-74e6-4d56-80d2-e1e2e580052a",
   "metadata": {},
   "source": [
    "object, 결측, datetime"
   ]
  },
  {
   "cell_type": "code",
   "execution_count": null,
   "id": "594be9cf-2e1c-4dbb-9a27-43a7a554bdfc",
   "metadata": {},
   "outputs": [],
   "source": [
    "# RF\n",
    "model=RandomForestRegressor() # datetime은 인식 못 한다. (예전엔 object만 아니면 됐는데 지금은 안 됨)\n",
    "\n",
    "X=train.drop('count', axis=1)\n",
    "y=train['count']\n",
    "X_train, X_test, y_train, y_test=train_test_split(X,y, test_size=0.2, random_state=1024, shuffle=False)\n",
    "\n",
    "model.fit(X_train, y_train)\n",
    "\n",
    "pred=model.predict(X_test)\n",
    "\n",
    "rmse = mean_squared_error(y_test, pred, squared=False)\n",
    "print(f\"RMSE:{rmse:.4f} {model.__class__.__name__}\")"
   ]
  },
  {
   "cell_type": "code",
   "execution_count": null,
   "id": "77dfacd6-cc87-46c3-b837-38bee0fafc05",
   "metadata": {},
   "outputs": [],
   "source": []
  },
  {
   "cell_type": "markdown",
   "id": "0c6763c0-ba40-4459-b627-7e85576e034f",
   "metadata": {},
   "source": [
    "# EDA -> 시계열이라 할 거 많다\n",
    "* ref : https://seaborn.pydata.org/generated/seaborn.countplot.html\n",
    "* ref : https://seaborn.pydata.org/generated/seaborn.barplot.html\n",
    "* linechart : PC~관련피쳐\n",
    "* barchart\n",
    "* boxplot\n",
    "\n",
    "countplot -> y 필요 없이 개수 센다\n",
    "barplot -> x, y 둘 다 준다."
   ]
  },
  {
   "cell_type": "code",
   "execution_count": null,
   "id": "2ae80a38-7b25-4c00-b131-631dbfa64ecb",
   "metadata": {},
   "outputs": [],
   "source": []
  },
  {
   "cell_type": "code",
   "execution_count": null,
   "id": "26739218-3b5f-4460-8e95-2e4aee1d825e",
   "metadata": {},
   "outputs": [],
   "source": [
    "f, axs=plt.subplots(2,3, figsize=(12,4))\n",
    "\n",
    "sns.barplot(data=train, x='PC_y', y='count', ax=axs[0,0])\n",
    "sns.barplot(data=train, x='PC_m', y='count', ax=axs[0,1])\n",
    "sns.barplot(data=train, x='PC_d', y='count', ax=axs[0,2])\n",
    "sns.barplot(data=train, x='PC_h', y='count', ax=axs[1,0])\n",
    "sns.barplot(data=train, x='PC_w', y='count', ax=axs[1,1])\n"
   ]
  },
  {
   "cell_type": "code",
   "execution_count": null,
   "id": "5c692552-afcd-4478-8c5e-2624e13fc19a",
   "metadata": {},
   "outputs": [],
   "source": [
    "# PC 일일히 쓰기 귀찮다\n",
    "\n",
    "# 방법 1: print(train.columns.tolist()) 하고 긁기\n",
    "# 방법 2: in 하면 될줄 알았는데 아니다\n",
    "# print(\"PC\" in train.columns.tolist())\n",
    "\n",
    "# 좀 귀찮지만 내 방법\n",
    "PC_list=[col for col in train.columns.tolist() if \"PC\" in col]\n",
    "# for col in train.columns.tolist():\n",
    "#     if \"PC\" in col:\n",
    "#         PC_list.append(col)\n",
    "    \n",
    "print(PC_list)"
   ]
  },
  {
   "cell_type": "markdown",
   "id": "b78f26a0-6bd5-4fec-9d6a-9c2ecd047611",
   "metadata": {},
   "source": [
    "* 주말~평일 : 차이 무의미\n",
    "* 날씨 : 5~10월이 피크\n",
    "* 시간 : 7 ~ 9시, 17 ~ 18시 --> 출퇴금, 통학용 주로 이용될 듯 하다"
   ]
  },
  {
   "cell_type": "markdown",
   "id": "509db141-bccc-4978-be25-eed1355d24c7",
   "metadata": {},
   "source": [
    "<pre>\n",
    "평일/휴일\n",
    "holiday\n",
    "workingday\n",
    "-> 이 피쳐 이용해서 의미 있나 없나 확인\n",
    "\n",
    "계절\n",
    "season\n",
    "weather\n",
    "temp\n",
    "atemp\n",
    "humidity\n",
    "windspeed"
   ]
  },
  {
   "cell_type": "code",
   "execution_count": null,
   "id": "28e4ff12-31c9-444e-a8a4-46ecd133eb3b",
   "metadata": {},
   "outputs": [],
   "source": [
    "train[['holiday', 'workingday']].value_counts()"
   ]
  },
  {
   "cell_type": "code",
   "execution_count": null,
   "id": "16ad4015-c9c4-40b5-9027-e2e11c2f9408",
   "metadata": {},
   "outputs": [],
   "source": [
    "pd.crosstab(train['holiday'], train['workingday'])"
   ]
  },
  {
   "cell_type": "code",
   "execution_count": null,
   "id": "b15d2ca9-e206-40f5-beb2-5ca0431084d0",
   "metadata": {},
   "outputs": [],
   "source": [
    "f, axs=plt.subplots(1,2, figsize=(12,4))\n",
    "\n",
    "sns.barplot(x=train['holiday'], y=train['count'], ax=axs[0])\n",
    "sns.barplot(x=train['workingday'], y=train['count'], ax=axs[1])"
   ]
  },
  {
   "cell_type": "code",
   "execution_count": null,
   "id": "2a120175-dc63-49a9-8293-fe016b6f0aa1",
   "metadata": {},
   "outputs": [],
   "source": [
    "train[['holiday', 'workingday']].corr()"
   ]
  },
  {
   "cell_type": "code",
   "execution_count": null,
   "id": "da9cedea-1270-4e56-b18a-db68acd0cdff",
   "metadata": {},
   "outputs": [],
   "source": [
    "train[(train['holiday']==0) & (train['workingday']==1)]['PC_w'].value_counts()"
   ]
  },
  {
   "cell_type": "code",
   "execution_count": null,
   "id": "9e3c0406-3df4-4af2-b33c-41e88ee44f5f",
   "metadata": {},
   "outputs": [],
   "source": [
    "train[(train['holiday']==0) & (train['workingday']==0)]['PC_w'].value_counts()"
   ]
  },
  {
   "cell_type": "code",
   "execution_count": null,
   "id": "1e5be0d5-f12f-4b60-941a-05e3f73a6ea8",
   "metadata": {},
   "outputs": [],
   "source": [
    "train[(train['holiday']==1)]['PC_w'].value_counts()"
   ]
  },
  {
   "cell_type": "code",
   "execution_count": null,
   "id": "4c6ae1d0-0383-4635-be6b-210921ee0757",
   "metadata": {},
   "outputs": [],
   "source": [
    "train[['holiday', 'workingday', 'PC_w']].value_counts() #로 하면 더 간단\n",
    "# workingday 주중 아니다\n",
    "\n",
    "# holiday 1이면서 workingday 0 이면 tax_day, thanksgiving friday, 이런 거래\n",
    "# 우리 생각으로는 둘이 대비되어야 하는데 0,0이 나옴 -> 그러면 outlier 라고 생각하는데 배경지식 이해하면 정상적"
   ]
  },
  {
   "cell_type": "markdown",
   "id": "9435cb32-173f-4f24-9c94-5cc31bd3f880",
   "metadata": {},
   "source": [
    "* season, PC_m : 다중공선 확인 필요"
   ]
  },
  {
   "cell_type": "code",
   "execution_count": null,
   "id": "fecc2c78-e442-4f26-9c04-7f15fd316c40",
   "metadata": {},
   "outputs": [],
   "source": [
    "train[['PC_m', 'season']].value_counts().sort_index()"
   ]
  },
  {
   "cell_type": "markdown",
   "id": "e186ef02-fd7e-4b8c-a132-a4e4294b899d",
   "metadata": {},
   "source": [
    "* weather, temp, atemp, humidity, windspeed"
   ]
  },
  {
   "cell_type": "code",
   "execution_count": null,
   "id": "52b13fc0-35de-4f70-9c66-e9d4ec96179a",
   "metadata": {},
   "outputs": [],
   "source": [
    "train['weather'].value_counts()"
   ]
  },
  {
   "cell_type": "code",
   "execution_count": null,
   "id": "89f02d8f-23d5-4fe2-ae16-c4e87ee52dbb",
   "metadata": {},
   "outputs": [],
   "source": [
    "sns.lineplot(x='weather', y='count', hue='season', data=train)"
   ]
  },
  {
   "cell_type": "code",
   "execution_count": null,
   "id": "1720691d-f1b3-4903-8ba6-6009e0ecb785",
   "metadata": {},
   "outputs": [],
   "source": [
    "\n",
    "# sns.lineplot(x=train.index, y=\"temp\",\n",
    "#              data=train)\n",
    "# sns.lineplot(x=train.index, y=\"humidity\",\n",
    "#              data=train)\n",
    "# sns.lineplot(x=train.index, y=\"windspeed\",\n",
    "#              data=train)\n",
    "\n",
    "\n",
    "sns.lineplot(x=\"PC_m\", y=\"weather\",\n",
    "             data=train)\n",
    "sns.lineplot(x=\"PC_m\", y=\"temp\",\n",
    "             data=train)\n",
    "sns.lineplot(x=\"PC_m\", y=\"atemp\",\n",
    "             data=train)\n",
    "sns.lineplot(x=\"PC_m\", y=\"humidity\",\n",
    "             data=train)\n",
    "sns.lineplot(x=\"PC_m\", y=\"windspeed\",\n",
    "             data=train)\n",
    "plt.legend(labels=[\"weather\",\"temp\", \"atemp\", \"humidity\"  ,\"windspeed\"])\n",
    "\n",
    "plt.show()"
   ]
  },
  {
   "cell_type": "code",
   "execution_count": null,
   "id": "5cef2726-56e4-4287-80ad-fcb12ab4f788",
   "metadata": {},
   "outputs": [],
   "source": [
    "sns.lineplot(x=\"temp\", y=\"count\",\n",
    "             data=train)\n",
    "\n",
    "sns.lineplot(x=\"atemp\", y=\"count\",\n",
    "             data=train)\n",
    "plt.legend(labels=[\"temp\", \"atemp\"])"
   ]
  },
  {
   "cell_type": "code",
   "execution_count": null,
   "id": "72d2df3b-e522-4592-b47e-b85722c5cded",
   "metadata": {},
   "outputs": [],
   "source": [
    "sns.lineplot(x=\"humidity\", y=\"count\",\n",
    "             data=train)"
   ]
  },
  {
   "cell_type": "code",
   "execution_count": null,
   "id": "9388c9c6-5cf7-46f6-965e-7c0b5f092473",
   "metadata": {},
   "outputs": [],
   "source": [
    "sns.lineplot(x=\"windspeed\", y=\"count\",\n",
    "             data=train)"
   ]
  },
  {
   "cell_type": "code",
   "execution_count": null,
   "id": "ae1fbcda-d0b4-462f-ba97-b5f6912029e3",
   "metadata": {},
   "outputs": [],
   "source": [
    "plt.figure(figsize=(4,4))\n",
    "sns.heatmap(train[['count',\"weather\",\"temp\", \"atemp\", \"humidity\"  ,\"windspeed\"]].corr(), annot=True, fmt=\".2f\", cmap=\"Blues\")\n",
    "plt.show()"
   ]
  },
  {
   "cell_type": "markdown",
   "id": "a6aa8c04-9518-4589-855a-8f9c86eb880c",
   "metadata": {},
   "source": [
    "<pre>\n",
    "-> 도메인 상식 깬다? 확인 필요\n",
    "\n",
    "* temp, atemp : 다중공선성\n",
    "* 의외로 weather랑 count 관계 낮다 -> 확인 필요(-0.13)  ---> weather 아웃라이어 처리 안 함\n",
    "* 왜 windspeed와 weather 관계 없나? -> 뭔가 이상(0.01)  ---> 0데이터처리필요\n",
    "* weather - humidity : 0.41 약한 상관관계 ㅇㅇ 확인 안 해도 될듯"
   ]
  },
  {
   "cell_type": "code",
   "execution_count": null,
   "id": "8d599150-f0ae-435f-afd6-7e2437ffe258",
   "metadata": {},
   "outputs": [],
   "source": [
    "f, axes = plt.subplots(1,3, figsize=(12, 4))\n",
    "sns.scatterplot(x='weather', y='windspeed', data=train, ax=axes[0])\n",
    "sns.scatterplot(x='weather', y='count', data=train, ax=axes[1]) # 혼자 4인 애 때문에 그랬구나(?) 그래도 아웃라이어라고 함부로 버리면 안 됨\n",
    "sns.scatterplot(x='windspeed', y='count', data=train, ax=axes[2]) # windspeed가 0????????????? -> 결측을 0으로 한 게 아닐까\n"
   ]
  },
  {
   "cell_type": "code",
   "execution_count": null,
   "id": "34c6738b-04b8-44c7-a065-458842c6e925",
   "metadata": {},
   "outputs": [],
   "source": []
  },
  {
   "cell_type": "markdown",
   "id": "8800a3f9-321d-4e5c-baaa-e73ff06a16ab",
   "metadata": {},
   "source": [
    "## 대여수"
   ]
  },
  {
   "cell_type": "markdown",
   "id": "95a79ee3-4582-4daf-87ef-337294dd362d",
   "metadata": {
    "jp-MarkdownHeadingCollapsed": true,
    "tags": []
   },
   "source": [
    "* casual -> 대여수\n",
    "* registered ->대여수\n",
    "* count"
   ]
  },
  {
   "cell_type": "code",
   "execution_count": null,
   "id": "f8250de5-d5c2-4ac6-911c-733a752f1aa6",
   "metadata": {},
   "outputs": [],
   "source": [
    "train[['casual' , 'registered', 'count']].head() # 왠지 합같다"
   ]
  },
  {
   "cell_type": "code",
   "execution_count": null,
   "id": "2e79d417-bd1a-40a7-93ec-153d2e867fbd",
   "metadata": {},
   "outputs": [],
   "source": [
    "train[train['count'] != train['casual']+train['registered']].value_counts()\n",
    "# test는 count 없어서 확인 안 해도 됨"
   ]
  },
  {
   "cell_type": "code",
   "execution_count": null,
   "id": "79d83046-794b-442b-9b0c-30ef7d8beacd",
   "metadata": {},
   "outputs": [],
   "source": [
    "# 불필요 컬럼 삭제"
   ]
  },
  {
   "cell_type": "code",
   "execution_count": null,
   "id": "e3ac95d2-c40c-4fa3-a3b5-8ff4a9be6f50",
   "metadata": {},
   "outputs": [],
   "source": [
    "train=train.drop(['casual', 'registered'], axis=1)\n",
    "train=train.drop(['temp'], axis=1)"
   ]
  },
  {
   "cell_type": "code",
   "execution_count": null,
   "id": "e3c8d680-0221-4fe2-b0bd-6285b50645b8",
   "metadata": {},
   "outputs": [],
   "source": [
    "plt.figure(figsize=(10,10))\n",
    "sns.heatmap(train.corr(), annot=True, fmt=\".2f\", cmap=\"Blues\")\n",
    "plt.show()"
   ]
  },
  {
   "cell_type": "markdown",
   "id": "95a7f3c6-e7ff-4dcd-9496-c4dc2495af7f",
   "metadata": {},
   "source": [
    "### 삭제피쳐"
   ]
  },
  {
   "cell_type": "markdown",
   "id": "0baf3494-6ad7-4084-8413-18618012f24f",
   "metadata": {},
   "source": [
    "PC_m - season 심각한다중공선\n",
    "* 러프하게 갈 거냐 상세하게 갈 거냐에 따라 drop할 거 고르기\n",
    "* 사실 둘 다 count랑 0.16, 0.17이라 별루 -> 그래도 얘는 linear관계만을 보니까 모델 돌려서 featue importance 보고 결정\n",
    "\n",
    "PC_w - workingday(애매)"
   ]
  },
  {
   "cell_type": "markdown",
   "id": "46f522f1-a3b3-4320-a9b0-cf9d85b63404",
   "metadata": {},
   "source": [
    "# 본격적 가공"
   ]
  },
  {
   "cell_type": "markdown",
   "id": "96d5d4e1-448b-40e9-9d98-fecd6a74ac53",
   "metadata": {},
   "source": [
    "## windspeed"
   ]
  },
  {
   "cell_type": "code",
   "execution_count": null,
   "id": "91803f7f-5e59-4292-bfdd-a75fee0d5205",
   "metadata": {},
   "outputs": [],
   "source": [
    "train['windspeed'].value_counts().sort_index()"
   ]
  },
  {
   "cell_type": "code",
   "execution_count": null,
   "id": "a4eb0610-ffe1-4bb5-a692-e8ad441d9308",
   "metadata": {},
   "outputs": [],
   "source": [
    "# 방법 1. 0 -> null로 바꾸고 fillna\n",
    "# 근데 뭘료?? -> target을 windspeed로 두고 windspeed 없는 건 test로 있는 건 train으로 하고 새로운 추정치 구하기"
   ]
  },
  {
   "cell_type": "code",
   "execution_count": null,
   "id": "cf3647a9-c872-4482-8d93-5d9a84c8860b",
   "metadata": {},
   "outputs": [],
   "source": [
    "train[train['windspeed']==0.0].shape\n",
    "# train[train['windspeed']!=0.0].shape"
   ]
  },
  {
   "cell_type": "code",
   "execution_count": null,
   "id": "03acbb29-70e6-4efc-aa01-d8e92747b94c",
   "metadata": {},
   "outputs": [],
   "source": [
    "print((train[train['windspeed']==0.0].shape[0])/(train.shape[0]))\n",
    "print((train[train['windspeed']!=0.0].shape[0])/(train.shape[0]))"
   ]
  },
  {
   "cell_type": "code",
   "execution_count": null,
   "id": "e4faf192-7364-45c0-9e9a-ba119eb46d82",
   "metadata": {},
   "outputs": [],
   "source": [
    "# KNN, RFR, ....\n",
    "model=KNeighborsRegressor()\n",
    "\n",
    "windspeed_X_train=train[train['windspeed']!=0.0].drop(['windspeed','count'], axis=1) # 9573건\n",
    "windspeed_y_train=train[train['windspeed']!=0.0]['windspeed']\n",
    "\n",
    "windspeed_X_test=train[train['windspeed']==0.0].drop(['windspeed','count'], axis=1)  # 1313건\n",
    "\n",
    "model.fit(windspeed_X_train, windspeed_y_train)\n",
    "\n",
    "windspeed_pred=model.predict(windspeed_X_test) # 1313건에 해당하는 0값을 -> pred 값으로 대체\n",
    "\n",
    "\n",
    "\n",
    "train.loc[train['windspeed']==0,'windspeed']=pd.Series(windspeed_pred, index=windspeed_X_test.index)\n",
    "\n",
    "# windspeed는 정수도 round 한 것도 아닌데 소수점 자리 같은 애들 왜 뭉쳐있지 뭘로 묶은 건가"
   ]
  },
  {
   "cell_type": "code",
   "execution_count": null,
   "id": "4feb8b0d-5ee4-4149-a9f0-b3a40eedbc0d",
   "metadata": {},
   "outputs": [],
   "source": [
    "train[train['windspeed']==0]"
   ]
  },
  {
   "cell_type": "code",
   "execution_count": null,
   "id": "8f50d287-6a9e-422d-b1a3-7e9ad78e349a",
   "metadata": {},
   "outputs": [],
   "source": [
    "sns.scatterplot(x=train['windspeed'], y=train['count'])"
   ]
  },
  {
   "cell_type": "code",
   "execution_count": null,
   "id": "2a5fa0fc-88c8-4265-9972-f57b0ab5737d",
   "metadata": {},
   "outputs": [],
   "source": [
    "plt.figure(figsize=(10,10))\n",
    "sns.heatmap(train.corr(), annot=True, fmt=\".2f\", cmap=\"Blues\")\n",
    "plt.show()"
   ]
  },
  {
   "cell_type": "code",
   "execution_count": null,
   "id": "cb8b9f06-3a23-4463-a7f9-aed1ddc95e8f",
   "metadata": {},
   "outputs": [],
   "source": [
    "train.columns.tolist()"
   ]
  },
  {
   "cell_type": "code",
   "execution_count": null,
   "id": "f7687a1c-d1b2-4edd-a9a0-7ca6229241ab",
   "metadata": {},
   "outputs": [],
   "source": [
    "# # 강사님 코드--------------******************************\n",
    "# # 아주 중요한 피쳐가 결측 있으면 이거 채우려고 다른 피쳐 이용한다. (현업에서 많이 쓴다.)\n",
    "\n",
    "# # KNN, RFR, ....\n",
    "# col_list=['season','weather','atemp','humidity','PC_y','PC_m','PC_d','PC_h'] # 어떤 걸로 windspeed 예측값 넣을 건지 컬럼 지정\n",
    "\n",
    "# # drop으로 count 떼면 test에도 똑같이 할 때 안 된다.\n",
    "\n",
    "# windspeed_X_train=train[train['windspeed']!=0.0][col_list] # 9573건\n",
    "# windspeed_y_train=train[train['windspeed']!=0.0]['windspeed']\n",
    "\n",
    "# windspeed_X_test=train[train['windspeed']==0.0][col_list]  # 1313건\n",
    "\n",
    "# windspeed_model=RandomForestRegressor()\n",
    "# windspeed_model.fit(windspeed_X_train, windspeed_y_train)\n",
    "\n",
    "# windspeed_pred=model.predict(windspeed_X_test) # 1313건에 해당하는 0값을 -> pred 값으로 대체\n",
    "\n",
    "# #-------------\n",
    "# train.loc[train['windspeed']==0,'windspeed']=windspeed_pred.reshape(-1,1) # Series로 안 하고 세로줄로 세워서 이렇게 해도 된다.(데이터 섞은 적 없어서)"
   ]
  },
  {
   "cell_type": "code",
   "execution_count": null,
   "id": "fcebc890-cbb7-40eb-828a-cef964bddf2d",
   "metadata": {},
   "outputs": [],
   "source": []
  },
  {
   "cell_type": "markdown",
   "id": "af355cdc-0966-496a-93fb-17487305b71e",
   "metadata": {},
   "source": [
    "## weather\n",
    "* 의외로 weather랑 count 관계 낮다 -> 확인 필요(-0.13)\n",
    "* 왜 windspeed와 weather 관계 없나? -> 뭔가 이상(0.01)"
   ]
  },
  {
   "cell_type": "code",
   "execution_count": null,
   "id": "942f90b3-86d5-483f-a52c-9ad7df239b69",
   "metadata": {},
   "outputs": [],
   "source": []
  },
  {
   "cell_type": "markdown",
   "id": "20f5063c-08f7-45a3-8b52-f934d84a5b64",
   "metadata": {},
   "source": [
    "# 모델 학습 & 평가 & 검증"
   ]
  },
  {
   "cell_type": "markdown",
   "id": "d8f2dfe1-864e-4672-8eb2-93eae6d2a2e4",
   "metadata": {},
   "source": [
    "* train 8 : val 2\n",
    "* model.fit() model.predict(val 이용함) --> score(val2) y_val 답안지 이용\n",
    "* model확정: test_pred=model.predict(원래 test)   --> score XXX 리더보드에 올려야 준다.\n",
    "* test_pred --> 내가 test문제를 확정 model로 풀어서 test_pred 답안을 submission.csv에 넣으면 된다."
   ]
  },
  {
   "cell_type": "code",
   "execution_count": null,
   "id": "79473d1c-21b0-45ad-8b3d-e2918ffdda24",
   "metadata": {},
   "outputs": [],
   "source": []
  },
  {
   "cell_type": "code",
   "execution_count": null,
   "id": "2e214503-55db-4b78-96a3-c88a0628b9e1",
   "metadata": {},
   "outputs": [],
   "source": [
    "# RF\n",
    "model=RandomForestRegressor() # datetime은 인식 못 한다. (예전엔 object만 아니면 됐는데 지금은 안 됨)\n",
    "\n",
    "X=train.drop('count', axis=1)\n",
    "y=train['count']\n",
    "X_train, X_test, y_train, y_test=train_test_split(X,y, test_size=0.2, random_state=1024, shuffle=False)\n",
    "\n",
    "model.fit(X_train, y_train)\n",
    "\n",
    "pred=model.predict(X_test)\n",
    "\n",
    "rmse = mean_squared_error(y_test, pred, squared=False)\n",
    "print(f\"RMSLE:{rmse:.4f} {model.__class__.__name__}\")"
   ]
  },
  {
   "cell_type": "code",
   "execution_count": null,
   "id": "514c5439-5716-4240-8e6e-fbc98780018c",
   "metadata": {},
   "outputs": [],
   "source": []
  },
  {
   "cell_type": "code",
   "execution_count": null,
   "id": "38c5105e-1f6e-4454-90c0-74d309de2779",
   "metadata": {},
   "outputs": [],
   "source": []
  },
  {
   "cell_type": "code",
   "execution_count": null,
   "id": "d9dfd396-8131-4f56-81d9-0b26e73f956e",
   "metadata": {},
   "outputs": [],
   "source": []
  }
 ],
 "metadata": {
  "kernelspec": {
   "display_name": "Python 3 (ipykernel)",
   "language": "python",
   "name": "python3"
  },
  "language_info": {
   "codemirror_mode": {
    "name": "ipython",
    "version": 3
   },
   "file_extension": ".py",
   "mimetype": "text/x-python",
   "name": "python",
   "nbconvert_exporter": "python",
   "pygments_lexer": "ipython3",
   "version": "3.8.8"
  }
 },
 "nbformat": 4,
 "nbformat_minor": 5
}
