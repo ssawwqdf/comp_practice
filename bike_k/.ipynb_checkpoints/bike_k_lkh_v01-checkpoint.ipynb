{
 "cells": [
  {
   "cell_type": "code",
   "execution_count": 44,
   "id": "9876b5ac-b2da-49ae-ad2c-2c40912d81be",
   "metadata": {},
   "outputs": [
    {
     "data": {
      "text/html": [
       "<style>.container{width:100% !important;}</style>"
      ],
      "text/plain": [
       "<IPython.core.display.HTML object>"
      ]
     },
     "metadata": {},
     "output_type": "display_data"
    }
   ],
   "source": [
    "import pandas as pd\n",
    "import numpy as np\n",
    "import matplotlib.pyplot as plt\n",
    "import seaborn as sns\n",
    "\n",
    "from sklearn.preprocessing import LabelEncoder, OneHotEncoder\n",
    "from sklearn.model_selection import train_test_split\n",
    "from sklearn.preprocessing import StandardScaler, RobustScaler, MinMaxScaler\n",
    "\n",
    "from sklearn.linear_model import LinearRegression\n",
    "from sklearn.linear_model import Lasso, LassoCV\n",
    "from sklearn.linear_model import ElasticNet, ElasticNetCV\n",
    "from sklearn.linear_model import Ridge, RidgeCV\n",
    "from xgboost import XGBRegressor\n",
    "from lightgbm import LGBMRegressor\n",
    "from sklearn.svm import SVC\n",
    "from sklearn.ensemble import RandomForestRegressor\n",
    "\n",
    "\n",
    "from sklearn.metrics import mean_squared_error, mean_squared_log_error, mean_absolute_error\n",
    "\n",
    "from sklearn.model_selection import cross_val_score, KFold, GridSearchCV\n",
    "\n",
    "import warnings\n",
    "warnings.filterwarnings(action='ignore')\n",
    "\n",
    "#-------------------- 차트 관련 속성 (한글처리, 그리드) -----------\n",
    "#plt.rc('font', family='NanumGothicOTF') # For MacOS\n",
    "plt.rcParams['font.family']= 'Malgun Gothic'\n",
    "plt.rcParams['axes.unicode_minus'] = False\n",
    "sns.set()\n",
    "\n",
    "#-------------------- 주피터 , 출력결과 넓이 늘리기 ---------------\n",
    "from IPython.core.display import display, HTML\n",
    "display(HTML(\"<style>.container{width:100% !important;}</style>\"))\n",
    "pd.set_option('display.max_rows', 100)\n",
    "pd.set_option('display.max_columns', 100)\n",
    "pd.set_option('max_colwidth', None)\n",
    "\n"
   ]
  },
  {
   "cell_type": "markdown",
   "id": "278cc2c5-7a10-470c-aacb-bb11bb93ce60",
   "metadata": {
    "tags": []
   },
   "source": [
    "## 날짜타입 변환\n",
    "* read_csv : 날짜타입으로 읽어오기\n",
    "* astype : object --> datetime64[ns]\n",
    "* to_datetime()"
   ]
  },
  {
   "cell_type": "code",
   "execution_count": 45,
   "id": "86d94024-1555-496c-acbc-1b47ca2d6981",
   "metadata": {},
   "outputs": [],
   "source": [
    "# train = pd.read_csv(\"./dataset/train.csv\", parse_dates=['datetime'])\n",
    "\n",
    "# train = pd.read_csv(\"./dataset/train.csv\")\n",
    "# train['datetime'] = train['datetime'].astype('datetime64[ns]')\n",
    "\n",
    "# train = pd.read_csv(\"./dataset/train.csv\")                # 2011-01-01 00:00:00\n",
    "# train['datetime'] = pd.to_datetime(train['datetime'], format='%Y-%m-%d %H:%M:%S')"
   ]
  },
  {
   "cell_type": "code",
   "execution_count": 46,
   "id": "778589ab-268f-4886-82ab-c3564d7f50cf",
   "metadata": {},
   "outputs": [
    {
     "name": "stdout",
     "output_type": "stream",
     "text": [
      "2019-03-01 <class 'datetime.date'>\n",
      "2019 3 1\n",
      "15:30:45 <class 'datetime.time'>\n",
      "15 30 45\n",
      "2018-10-09 10:20:00 <class 'datetime.datetime'>\n",
      "2018 10 9\n",
      "10 20 0\n",
      "2022-02-03\n",
      "2022-02-03 12:05:36.755738\n",
      "2022-02-03 12:05:36\n"
     ]
    }
   ],
   "source": [
    "import datetime as dt\n",
    "set_day = dt.date(2019, 3, 1)\n",
    "print(set_day, type(set_day))\n",
    "print( set_day.year ,  set_day.month, set_day.day )\n",
    "#------------------------------------------------------------------\n",
    "set_time = dt.time(15, 30, 45)\n",
    "print(set_time, type(set_time))\n",
    "print( set_time.hour ,  set_time.minute, set_time.second )\n",
    "#------------------------------------------------------------------\n",
    "set_dt = dt.datetime(2018, 10, 9, 10, 20, 0)\n",
    "print(set_dt, type(set_dt))\n",
    "print( set_dt.year ,  set_dt.month, set_dt.day )\n",
    "print( set_dt.hour ,  set_dt.minute, set_dt.second )\n",
    "#------------------------------------------------------------------\n",
    "print(dt.date.today())\n",
    "print(dt.datetime.now())\n",
    "print(\"{:%Y-%m-%d %H:%M:%S}\".format(dt.datetime.now()))"
   ]
  },
  {
   "cell_type": "markdown",
   "id": "86e0eca5-9827-4d0a-96ef-021440dd3f03",
   "metadata": {
    "tags": []
   },
   "source": [
    "# Data Load"
   ]
  },
  {
   "cell_type": "markdown",
   "id": "249785bc-0edf-4bd4-8887-70ec02cf4fb0",
   "metadata": {},
   "source": [
    "<pre>\n",
    "datetime    : hourly date + timestamp\n",
    "season      : 1(spring), 2(summer), 3(fall), 4(winter)\n",
    "holiday     : whether the day is considered a holiday\n",
    "workingday  : whether the day is neither a weekend nor holiday\n",
    "weather     : 1(Clear,           Few clouds, Partly cloudy)\n",
    "            : 2(Mist + Cloudy,   Mist + Broken/Few clouds, Mist)\n",
    "            : 3(Light Snow/Rain  Light Rain + Thunderstorm + Scattered clouds)\n",
    "            : 4(Heavy Rain/Snow  Ice Pallets + Thunderstorm + Mist + Fog)\n",
    "temp        : temperature in Celsius\n",
    "atemp       : feels like temperature in Celsius\n",
    "humidity    : relative humidity\n",
    "windspeed   : wind speed\n",
    "casual      : number of non-registered user rentals initiated\n",
    "registered  : number of registered user rentals initiated\n",
    "count       : number of total rentals"
   ]
  },
  {
   "cell_type": "code",
   "execution_count": 47,
   "id": "3b5555cd-b5b9-47ff-8f82-501cc8a7e419",
   "metadata": {},
   "outputs": [],
   "source": [
    "train = pd.read_csv(\"./dataset/train.csv\", parse_dates=['datetime'])\n",
    "test = pd.read_csv(\"./dataset/test.csv\" , parse_dates=['datetime'])\n",
    "submit = pd.read_csv(\"./dataset/sampleSubmission.csv\")"
   ]
  },
  {
   "cell_type": "code",
   "execution_count": 48,
   "id": "465fc97d-cc87-4c67-8f91-667bd0832829",
   "metadata": {},
   "outputs": [
    {
     "name": "stdout",
     "output_type": "stream",
     "text": [
      "(10886, 12)\n",
      "<class 'pandas.core.frame.DataFrame'>\n",
      "RangeIndex: 10886 entries, 0 to 10885\n",
      "Data columns (total 12 columns):\n",
      " #   Column      Non-Null Count  Dtype         \n",
      "---  ------      --------------  -----         \n",
      " 0   datetime    10886 non-null  datetime64[ns]\n",
      " 1   season      10886 non-null  int64         \n",
      " 2   holiday     10886 non-null  int64         \n",
      " 3   workingday  10886 non-null  int64         \n",
      " 4   weather     10886 non-null  int64         \n",
      " 5   temp        10886 non-null  float64       \n",
      " 6   atemp       10886 non-null  float64       \n",
      " 7   humidity    10886 non-null  int64         \n",
      " 8   windspeed   10886 non-null  float64       \n",
      " 9   casual      10886 non-null  int64         \n",
      " 10  registered  10886 non-null  int64         \n",
      " 11  count       10886 non-null  int64         \n",
      "dtypes: datetime64[ns](1), float64(3), int64(8)\n",
      "memory usage: 1020.7 KB\n",
      "None\n"
     ]
    },
    {
     "data": {
      "text/html": [
       "<div>\n",
       "<style scoped>\n",
       "    .dataframe tbody tr th:only-of-type {\n",
       "        vertical-align: middle;\n",
       "    }\n",
       "\n",
       "    .dataframe tbody tr th {\n",
       "        vertical-align: top;\n",
       "    }\n",
       "\n",
       "    .dataframe thead th {\n",
       "        text-align: right;\n",
       "    }\n",
       "</style>\n",
       "<table border=\"1\" class=\"dataframe\">\n",
       "  <thead>\n",
       "    <tr style=\"text-align: right;\">\n",
       "      <th></th>\n",
       "      <th>datetime</th>\n",
       "      <th>season</th>\n",
       "      <th>holiday</th>\n",
       "      <th>workingday</th>\n",
       "      <th>weather</th>\n",
       "      <th>temp</th>\n",
       "      <th>atemp</th>\n",
       "      <th>humidity</th>\n",
       "      <th>windspeed</th>\n",
       "      <th>casual</th>\n",
       "      <th>registered</th>\n",
       "      <th>count</th>\n",
       "    </tr>\n",
       "  </thead>\n",
       "  <tbody>\n",
       "    <tr>\n",
       "      <th>0</th>\n",
       "      <td>2011-01-01 00:00:00</td>\n",
       "      <td>1</td>\n",
       "      <td>0</td>\n",
       "      <td>0</td>\n",
       "      <td>1</td>\n",
       "      <td>9.84</td>\n",
       "      <td>14.395</td>\n",
       "      <td>81</td>\n",
       "      <td>0.0</td>\n",
       "      <td>3</td>\n",
       "      <td>13</td>\n",
       "      <td>16</td>\n",
       "    </tr>\n",
       "    <tr>\n",
       "      <th>1</th>\n",
       "      <td>2011-01-01 01:00:00</td>\n",
       "      <td>1</td>\n",
       "      <td>0</td>\n",
       "      <td>0</td>\n",
       "      <td>1</td>\n",
       "      <td>9.02</td>\n",
       "      <td>13.635</td>\n",
       "      <td>80</td>\n",
       "      <td>0.0</td>\n",
       "      <td>8</td>\n",
       "      <td>32</td>\n",
       "      <td>40</td>\n",
       "    </tr>\n",
       "  </tbody>\n",
       "</table>\n",
       "</div>"
      ],
      "text/plain": [
       "             datetime  season  holiday  workingday  weather  temp   atemp  \\\n",
       "0 2011-01-01 00:00:00       1        0           0        1  9.84  14.395   \n",
       "1 2011-01-01 01:00:00       1        0           0        1  9.02  13.635   \n",
       "\n",
       "   humidity  windspeed  casual  registered  count  \n",
       "0        81        0.0       3          13     16  \n",
       "1        80        0.0       8          32     40  "
      ]
     },
     "execution_count": 48,
     "metadata": {},
     "output_type": "execute_result"
    }
   ],
   "source": [
    "print(train.shape)\n",
    "print(train.info())\n",
    "train.head(2)"
   ]
  },
  {
   "cell_type": "code",
   "execution_count": 49,
   "id": "6bc8b5f9-8766-4b7e-905a-37fdbf692055",
   "metadata": {},
   "outputs": [],
   "source": [
    "train = train.rename(columns={\"datetime\":\"regtime\"})\n",
    "test  = test.rename(columns={\"datetime\":\"regtime\"})"
   ]
  },
  {
   "cell_type": "code",
   "execution_count": 50,
   "id": "bcc2167e-203b-40bb-8a9f-9c587117a23f",
   "metadata": {},
   "outputs": [
    {
     "data": {
      "text/html": [
       "<div>\n",
       "<style scoped>\n",
       "    .dataframe tbody tr th:only-of-type {\n",
       "        vertical-align: middle;\n",
       "    }\n",
       "\n",
       "    .dataframe tbody tr th {\n",
       "        vertical-align: top;\n",
       "    }\n",
       "\n",
       "    .dataframe thead th {\n",
       "        text-align: right;\n",
       "    }\n",
       "</style>\n",
       "<table border=\"1\" class=\"dataframe\">\n",
       "  <thead>\n",
       "    <tr style=\"text-align: right;\">\n",
       "      <th></th>\n",
       "      <th>regtime</th>\n",
       "      <th>season</th>\n",
       "      <th>holiday</th>\n",
       "      <th>workingday</th>\n",
       "      <th>weather</th>\n",
       "      <th>temp</th>\n",
       "      <th>atemp</th>\n",
       "      <th>humidity</th>\n",
       "      <th>windspeed</th>\n",
       "      <th>casual</th>\n",
       "      <th>registered</th>\n",
       "      <th>count</th>\n",
       "    </tr>\n",
       "  </thead>\n",
       "  <tbody>\n",
       "    <tr>\n",
       "      <th>0</th>\n",
       "      <td>2011-01-01 00:00:00</td>\n",
       "      <td>1</td>\n",
       "      <td>0</td>\n",
       "      <td>0</td>\n",
       "      <td>1</td>\n",
       "      <td>9.84</td>\n",
       "      <td>14.395</td>\n",
       "      <td>81</td>\n",
       "      <td>0.0</td>\n",
       "      <td>3</td>\n",
       "      <td>13</td>\n",
       "      <td>16</td>\n",
       "    </tr>\n",
       "    <tr>\n",
       "      <th>1</th>\n",
       "      <td>2011-01-01 01:00:00</td>\n",
       "      <td>1</td>\n",
       "      <td>0</td>\n",
       "      <td>0</td>\n",
       "      <td>1</td>\n",
       "      <td>9.02</td>\n",
       "      <td>13.635</td>\n",
       "      <td>80</td>\n",
       "      <td>0.0</td>\n",
       "      <td>8</td>\n",
       "      <td>32</td>\n",
       "      <td>40</td>\n",
       "    </tr>\n",
       "    <tr>\n",
       "      <th>2</th>\n",
       "      <td>2011-01-01 02:00:00</td>\n",
       "      <td>1</td>\n",
       "      <td>0</td>\n",
       "      <td>0</td>\n",
       "      <td>1</td>\n",
       "      <td>9.02</td>\n",
       "      <td>13.635</td>\n",
       "      <td>80</td>\n",
       "      <td>0.0</td>\n",
       "      <td>5</td>\n",
       "      <td>27</td>\n",
       "      <td>32</td>\n",
       "    </tr>\n",
       "    <tr>\n",
       "      <th>3</th>\n",
       "      <td>2011-01-01 03:00:00</td>\n",
       "      <td>1</td>\n",
       "      <td>0</td>\n",
       "      <td>0</td>\n",
       "      <td>1</td>\n",
       "      <td>9.84</td>\n",
       "      <td>14.395</td>\n",
       "      <td>75</td>\n",
       "      <td>0.0</td>\n",
       "      <td>3</td>\n",
       "      <td>10</td>\n",
       "      <td>13</td>\n",
       "    </tr>\n",
       "    <tr>\n",
       "      <th>4</th>\n",
       "      <td>2011-01-01 04:00:00</td>\n",
       "      <td>1</td>\n",
       "      <td>0</td>\n",
       "      <td>0</td>\n",
       "      <td>1</td>\n",
       "      <td>9.84</td>\n",
       "      <td>14.395</td>\n",
       "      <td>75</td>\n",
       "      <td>0.0</td>\n",
       "      <td>0</td>\n",
       "      <td>1</td>\n",
       "      <td>1</td>\n",
       "    </tr>\n",
       "  </tbody>\n",
       "</table>\n",
       "</div>"
      ],
      "text/plain": [
       "              regtime  season  holiday  workingday  weather  temp   atemp  \\\n",
       "0 2011-01-01 00:00:00       1        0           0        1  9.84  14.395   \n",
       "1 2011-01-01 01:00:00       1        0           0        1  9.02  13.635   \n",
       "2 2011-01-01 02:00:00       1        0           0        1  9.02  13.635   \n",
       "3 2011-01-01 03:00:00       1        0           0        1  9.84  14.395   \n",
       "4 2011-01-01 04:00:00       1        0           0        1  9.84  14.395   \n",
       "\n",
       "   humidity  windspeed  casual  registered  count  \n",
       "0        81        0.0       3          13     16  \n",
       "1        80        0.0       8          32     40  \n",
       "2        80        0.0       5          27     32  \n",
       "3        75        0.0       3          10     13  \n",
       "4        75        0.0       0           1      1  "
      ]
     },
     "execution_count": 50,
     "metadata": {},
     "output_type": "execute_result"
    }
   ],
   "source": [
    "train.head()"
   ]
  },
  {
   "cell_type": "markdown",
   "id": "62adac39-1b18-4217-bc00-5a30a515b411",
   "metadata": {},
   "source": [
    "# 날짜 기본적 가공\n",
    "* datetime64[ns] "
   ]
  },
  {
   "cell_type": "code",
   "execution_count": 51,
   "id": "d38af636-4333-4be2-8386-67481c167a08",
   "metadata": {},
   "outputs": [
    {
     "name": "stdout",
     "output_type": "stream",
     "text": [
      "2018-10-09 10:20:00 <class 'datetime.datetime'>\n",
      "2018 10 9\n",
      "10 20 0\n"
     ]
    }
   ],
   "source": [
    "import datetime as dt  #----->datetime64[ns]\n",
    "set_dt = dt.datetime(2018, 10, 9, 10, 20, 0)\n",
    "print(set_dt, type(set_dt))\n",
    "print( set_dt.year ,  set_dt.month, set_dt.day )\n",
    "print( set_dt.hour ,  set_dt.minute, set_dt.second )"
   ]
  },
  {
   "cell_type": "code",
   "execution_count": 52,
   "id": "5b3f5c4c-d2aa-4fa4-be16-7b1284de9e13",
   "metadata": {},
   "outputs": [
    {
     "data": {
      "text/html": [
       "<div>\n",
       "<style scoped>\n",
       "    .dataframe tbody tr th:only-of-type {\n",
       "        vertical-align: middle;\n",
       "    }\n",
       "\n",
       "    .dataframe tbody tr th {\n",
       "        vertical-align: top;\n",
       "    }\n",
       "\n",
       "    .dataframe thead th {\n",
       "        text-align: right;\n",
       "    }\n",
       "</style>\n",
       "<table border=\"1\" class=\"dataframe\">\n",
       "  <thead>\n",
       "    <tr style=\"text-align: right;\">\n",
       "      <th></th>\n",
       "      <th>regtime</th>\n",
       "      <th>season</th>\n",
       "      <th>holiday</th>\n",
       "      <th>workingday</th>\n",
       "      <th>weather</th>\n",
       "      <th>temp</th>\n",
       "      <th>atemp</th>\n",
       "      <th>humidity</th>\n",
       "      <th>windspeed</th>\n",
       "      <th>casual</th>\n",
       "      <th>registered</th>\n",
       "      <th>count</th>\n",
       "      <th>PC_y</th>\n",
       "      <th>PC_m</th>\n",
       "      <th>PC_d</th>\n",
       "      <th>PC_h</th>\n",
       "      <th>PC_w</th>\n",
       "    </tr>\n",
       "  </thead>\n",
       "  <tbody>\n",
       "    <tr>\n",
       "      <th>10884</th>\n",
       "      <td>2012-12-19 22:00:00</td>\n",
       "      <td>4</td>\n",
       "      <td>0</td>\n",
       "      <td>1</td>\n",
       "      <td>1</td>\n",
       "      <td>13.94</td>\n",
       "      <td>17.425</td>\n",
       "      <td>61</td>\n",
       "      <td>6.0032</td>\n",
       "      <td>12</td>\n",
       "      <td>117</td>\n",
       "      <td>129</td>\n",
       "      <td>2012</td>\n",
       "      <td>12</td>\n",
       "      <td>19</td>\n",
       "      <td>22</td>\n",
       "      <td>2</td>\n",
       "    </tr>\n",
       "    <tr>\n",
       "      <th>10885</th>\n",
       "      <td>2012-12-19 23:00:00</td>\n",
       "      <td>4</td>\n",
       "      <td>0</td>\n",
       "      <td>1</td>\n",
       "      <td>1</td>\n",
       "      <td>13.12</td>\n",
       "      <td>16.665</td>\n",
       "      <td>66</td>\n",
       "      <td>8.9981</td>\n",
       "      <td>4</td>\n",
       "      <td>84</td>\n",
       "      <td>88</td>\n",
       "      <td>2012</td>\n",
       "      <td>12</td>\n",
       "      <td>19</td>\n",
       "      <td>23</td>\n",
       "      <td>2</td>\n",
       "    </tr>\n",
       "  </tbody>\n",
       "</table>\n",
       "</div>"
      ],
      "text/plain": [
       "                  regtime  season  holiday  workingday  weather   temp  \\\n",
       "10884 2012-12-19 22:00:00       4        0           1        1  13.94   \n",
       "10885 2012-12-19 23:00:00       4        0           1        1  13.12   \n",
       "\n",
       "        atemp  humidity  windspeed  casual  registered  count  PC_y  PC_m  \\\n",
       "10884  17.425        61     6.0032      12         117    129  2012    12   \n",
       "10885  16.665        66     8.9981       4          84     88  2012    12   \n",
       "\n",
       "       PC_d  PC_h  PC_w  \n",
       "10884    19    22     2  \n",
       "10885    19    23     2  "
      ]
     },
     "execution_count": 52,
     "metadata": {},
     "output_type": "execute_result"
    }
   ],
   "source": [
    "train['PC_y'] = train['regtime'].dt.year\n",
    "train['PC_m'] = train['regtime'].dt.month\n",
    "train['PC_d'] = train['regtime'].dt.day\n",
    "train['PC_h'] = train['regtime'].dt.hour\n",
    "train['PC_w'] = train['regtime'].dt.dayofweek  #0:월~6:일\n",
    "# week.. 42 43 44 ...\n",
    "\n",
    "train.tail(2)  #2011-01-01 00:00:00  --> 2011\t1\t1\t0\t5(토)\n",
    "              #2012-12-19 23:00:00  --> 2012\t12\t19\t22\t2(수)"
   ]
  },
  {
   "cell_type": "markdown",
   "id": "12dffb6a-a809-436c-b583-e6d89cda5443",
   "metadata": {},
   "source": [
    "* 피쳐 --> index로 집어넣기"
   ]
  },
  {
   "cell_type": "code",
   "execution_count": 58,
   "id": "6e896319-fd80-437c-85fc-a98619b89206",
   "metadata": {},
   "outputs": [
    {
     "data": {
      "text/html": [
       "<div>\n",
       "<style scoped>\n",
       "    .dataframe tbody tr th:only-of-type {\n",
       "        vertical-align: middle;\n",
       "    }\n",
       "\n",
       "    .dataframe tbody tr th {\n",
       "        vertical-align: top;\n",
       "    }\n",
       "\n",
       "    .dataframe thead th {\n",
       "        text-align: right;\n",
       "    }\n",
       "</style>\n",
       "<table border=\"1\" class=\"dataframe\">\n",
       "  <thead>\n",
       "    <tr style=\"text-align: right;\">\n",
       "      <th></th>\n",
       "      <th>season</th>\n",
       "      <th>holiday</th>\n",
       "      <th>workingday</th>\n",
       "      <th>weather</th>\n",
       "      <th>temp</th>\n",
       "      <th>atemp</th>\n",
       "      <th>humidity</th>\n",
       "      <th>windspeed</th>\n",
       "      <th>casual</th>\n",
       "      <th>registered</th>\n",
       "      <th>count</th>\n",
       "      <th>PC_y</th>\n",
       "      <th>PC_m</th>\n",
       "      <th>PC_d</th>\n",
       "      <th>PC_h</th>\n",
       "      <th>PC_w</th>\n",
       "    </tr>\n",
       "    <tr>\n",
       "      <th>regtime</th>\n",
       "      <th></th>\n",
       "      <th></th>\n",
       "      <th></th>\n",
       "      <th></th>\n",
       "      <th></th>\n",
       "      <th></th>\n",
       "      <th></th>\n",
       "      <th></th>\n",
       "      <th></th>\n",
       "      <th></th>\n",
       "      <th></th>\n",
       "      <th></th>\n",
       "      <th></th>\n",
       "      <th></th>\n",
       "      <th></th>\n",
       "      <th></th>\n",
       "    </tr>\n",
       "  </thead>\n",
       "  <tbody>\n",
       "    <tr>\n",
       "      <th>2011-01-01 00:00:00</th>\n",
       "      <td>1</td>\n",
       "      <td>0</td>\n",
       "      <td>0</td>\n",
       "      <td>1</td>\n",
       "      <td>9.84</td>\n",
       "      <td>14.395</td>\n",
       "      <td>81</td>\n",
       "      <td>0.0</td>\n",
       "      <td>3</td>\n",
       "      <td>13</td>\n",
       "      <td>16</td>\n",
       "      <td>2011</td>\n",
       "      <td>1</td>\n",
       "      <td>1</td>\n",
       "      <td>0</td>\n",
       "      <td>5</td>\n",
       "    </tr>\n",
       "    <tr>\n",
       "      <th>2011-01-01 01:00:00</th>\n",
       "      <td>1</td>\n",
       "      <td>0</td>\n",
       "      <td>0</td>\n",
       "      <td>1</td>\n",
       "      <td>9.02</td>\n",
       "      <td>13.635</td>\n",
       "      <td>80</td>\n",
       "      <td>0.0</td>\n",
       "      <td>8</td>\n",
       "      <td>32</td>\n",
       "      <td>40</td>\n",
       "      <td>2011</td>\n",
       "      <td>1</td>\n",
       "      <td>1</td>\n",
       "      <td>1</td>\n",
       "      <td>5</td>\n",
       "    </tr>\n",
       "  </tbody>\n",
       "</table>\n",
       "</div>"
      ],
      "text/plain": [
       "                     season  holiday  workingday  weather  temp   atemp  \\\n",
       "regtime                                                                   \n",
       "2011-01-01 00:00:00       1        0           0        1  9.84  14.395   \n",
       "2011-01-01 01:00:00       1        0           0        1  9.02  13.635   \n",
       "\n",
       "                     humidity  windspeed  casual  registered  count  PC_y  \\\n",
       "regtime                                                                     \n",
       "2011-01-01 00:00:00        81        0.0       3          13     16  2011   \n",
       "2011-01-01 01:00:00        80        0.0       8          32     40  2011   \n",
       "\n",
       "                     PC_m  PC_d  PC_h  PC_w  \n",
       "regtime                                      \n",
       "2011-01-01 00:00:00     1     1     0     5  \n",
       "2011-01-01 01:00:00     1     1     1     5  "
      ]
     },
     "execution_count": 58,
     "metadata": {},
     "output_type": "execute_result"
    }
   ],
   "source": [
    "train = train.set_index('regtime')\n",
    "train.head(2)"
   ]
  },
  {
   "cell_type": "markdown",
   "id": "9f8c4370-ec9b-4a65-8cda-4e091b4547ce",
   "metadata": {},
   "source": [
    "* index --> 피쳐로 꺼내기"
   ]
  },
  {
   "cell_type": "code",
   "execution_count": 57,
   "id": "c6fbce96-2ee0-4da5-a287-83c7494c88f0",
   "metadata": {},
   "outputs": [
    {
     "data": {
      "text/html": [
       "<div>\n",
       "<style scoped>\n",
       "    .dataframe tbody tr th:only-of-type {\n",
       "        vertical-align: middle;\n",
       "    }\n",
       "\n",
       "    .dataframe tbody tr th {\n",
       "        vertical-align: top;\n",
       "    }\n",
       "\n",
       "    .dataframe thead th {\n",
       "        text-align: right;\n",
       "    }\n",
       "</style>\n",
       "<table border=\"1\" class=\"dataframe\">\n",
       "  <thead>\n",
       "    <tr style=\"text-align: right;\">\n",
       "      <th></th>\n",
       "      <th>regtime</th>\n",
       "      <th>season</th>\n",
       "      <th>holiday</th>\n",
       "      <th>workingday</th>\n",
       "      <th>weather</th>\n",
       "      <th>temp</th>\n",
       "      <th>atemp</th>\n",
       "      <th>humidity</th>\n",
       "      <th>windspeed</th>\n",
       "      <th>casual</th>\n",
       "      <th>registered</th>\n",
       "      <th>count</th>\n",
       "      <th>PC_y</th>\n",
       "      <th>PC_m</th>\n",
       "      <th>PC_d</th>\n",
       "      <th>PC_h</th>\n",
       "      <th>PC_w</th>\n",
       "    </tr>\n",
       "  </thead>\n",
       "  <tbody>\n",
       "    <tr>\n",
       "      <th>0</th>\n",
       "      <td>2011-01-01 00:00:00</td>\n",
       "      <td>1</td>\n",
       "      <td>0</td>\n",
       "      <td>0</td>\n",
       "      <td>1</td>\n",
       "      <td>9.84</td>\n",
       "      <td>14.395</td>\n",
       "      <td>81</td>\n",
       "      <td>0.0</td>\n",
       "      <td>3</td>\n",
       "      <td>13</td>\n",
       "      <td>16</td>\n",
       "      <td>2011</td>\n",
       "      <td>1</td>\n",
       "      <td>1</td>\n",
       "      <td>0</td>\n",
       "      <td>5</td>\n",
       "    </tr>\n",
       "    <tr>\n",
       "      <th>1</th>\n",
       "      <td>2011-01-01 01:00:00</td>\n",
       "      <td>1</td>\n",
       "      <td>0</td>\n",
       "      <td>0</td>\n",
       "      <td>1</td>\n",
       "      <td>9.02</td>\n",
       "      <td>13.635</td>\n",
       "      <td>80</td>\n",
       "      <td>0.0</td>\n",
       "      <td>8</td>\n",
       "      <td>32</td>\n",
       "      <td>40</td>\n",
       "      <td>2011</td>\n",
       "      <td>1</td>\n",
       "      <td>1</td>\n",
       "      <td>1</td>\n",
       "      <td>5</td>\n",
       "    </tr>\n",
       "    <tr>\n",
       "      <th>2</th>\n",
       "      <td>2011-01-01 02:00:00</td>\n",
       "      <td>1</td>\n",
       "      <td>0</td>\n",
       "      <td>0</td>\n",
       "      <td>1</td>\n",
       "      <td>9.02</td>\n",
       "      <td>13.635</td>\n",
       "      <td>80</td>\n",
       "      <td>0.0</td>\n",
       "      <td>5</td>\n",
       "      <td>27</td>\n",
       "      <td>32</td>\n",
       "      <td>2011</td>\n",
       "      <td>1</td>\n",
       "      <td>1</td>\n",
       "      <td>2</td>\n",
       "      <td>5</td>\n",
       "    </tr>\n",
       "    <tr>\n",
       "      <th>3</th>\n",
       "      <td>2011-01-01 03:00:00</td>\n",
       "      <td>1</td>\n",
       "      <td>0</td>\n",
       "      <td>0</td>\n",
       "      <td>1</td>\n",
       "      <td>9.84</td>\n",
       "      <td>14.395</td>\n",
       "      <td>75</td>\n",
       "      <td>0.0</td>\n",
       "      <td>3</td>\n",
       "      <td>10</td>\n",
       "      <td>13</td>\n",
       "      <td>2011</td>\n",
       "      <td>1</td>\n",
       "      <td>1</td>\n",
       "      <td>3</td>\n",
       "      <td>5</td>\n",
       "    </tr>\n",
       "    <tr>\n",
       "      <th>4</th>\n",
       "      <td>2011-01-01 04:00:00</td>\n",
       "      <td>1</td>\n",
       "      <td>0</td>\n",
       "      <td>0</td>\n",
       "      <td>1</td>\n",
       "      <td>9.84</td>\n",
       "      <td>14.395</td>\n",
       "      <td>75</td>\n",
       "      <td>0.0</td>\n",
       "      <td>0</td>\n",
       "      <td>1</td>\n",
       "      <td>1</td>\n",
       "      <td>2011</td>\n",
       "      <td>1</td>\n",
       "      <td>1</td>\n",
       "      <td>4</td>\n",
       "      <td>5</td>\n",
       "    </tr>\n",
       "  </tbody>\n",
       "</table>\n",
       "</div>"
      ],
      "text/plain": [
       "              regtime  season  holiday  workingday  weather  temp   atemp  \\\n",
       "0 2011-01-01 00:00:00       1        0           0        1  9.84  14.395   \n",
       "1 2011-01-01 01:00:00       1        0           0        1  9.02  13.635   \n",
       "2 2011-01-01 02:00:00       1        0           0        1  9.02  13.635   \n",
       "3 2011-01-01 03:00:00       1        0           0        1  9.84  14.395   \n",
       "4 2011-01-01 04:00:00       1        0           0        1  9.84  14.395   \n",
       "\n",
       "   humidity  windspeed  casual  registered  count  PC_y  PC_m  PC_d  PC_h  \\\n",
       "0        81        0.0       3          13     16  2011     1     1     0   \n",
       "1        80        0.0       8          32     40  2011     1     1     1   \n",
       "2        80        0.0       5          27     32  2011     1     1     2   \n",
       "3        75        0.0       3          10     13  2011     1     1     3   \n",
       "4        75        0.0       0           1      1  2011     1     1     4   \n",
       "\n",
       "   PC_w  \n",
       "0     5  \n",
       "1     5  \n",
       "2     5  \n",
       "3     5  \n",
       "4     5  "
      ]
     },
     "execution_count": 57,
     "metadata": {},
     "output_type": "execute_result"
    }
   ],
   "source": [
    "# train = train.reset_index() #inplace=False,\n",
    "# train.head()"
   ]
  },
  {
   "cell_type": "code",
   "execution_count": 59,
   "id": "593fef0e-9015-46d0-946e-f7ae8c4ac144",
   "metadata": {},
   "outputs": [
    {
     "name": "stdout",
     "output_type": "stream",
     "text": [
      "<class 'pandas.core.frame.DataFrame'>\n",
      "DatetimeIndex: 10886 entries, 2011-01-01 00:00:00 to 2012-12-19 23:00:00\n",
      "Data columns (total 16 columns):\n",
      " #   Column      Non-Null Count  Dtype  \n",
      "---  ------      --------------  -----  \n",
      " 0   season      10886 non-null  int64  \n",
      " 1   holiday     10886 non-null  int64  \n",
      " 2   workingday  10886 non-null  int64  \n",
      " 3   weather     10886 non-null  int64  \n",
      " 4   temp        10886 non-null  float64\n",
      " 5   atemp       10886 non-null  float64\n",
      " 6   humidity    10886 non-null  int64  \n",
      " 7   windspeed   10886 non-null  float64\n",
      " 8   casual      10886 non-null  int64  \n",
      " 9   registered  10886 non-null  int64  \n",
      " 10  count       10886 non-null  int64  \n",
      " 11  PC_y        10886 non-null  int64  \n",
      " 12  PC_m        10886 non-null  int64  \n",
      " 13  PC_d        10886 non-null  int64  \n",
      " 14  PC_h        10886 non-null  int64  \n",
      " 15  PC_w        10886 non-null  int64  \n",
      "dtypes: float64(3), int64(13)\n",
      "memory usage: 1.4 MB\n"
     ]
    }
   ],
   "source": [
    "train.info()"
   ]
  },
  {
   "cell_type": "code",
   "execution_count": null,
   "id": "5660089c-8644-40bb-aaa8-792379dfb4c0",
   "metadata": {},
   "outputs": [],
   "source": [
    "# train = train.drop(['regtime'], axis=1)  \n",
    "# train.head()"
   ]
  },
  {
   "cell_type": "markdown",
   "id": "8a3e317a-d437-49ce-bdf2-a19a80c2ebe4",
   "metadata": {},
   "source": [
    "# 우선 점수보기\n",
    "* 결측없다\n",
    "* object 없다"
   ]
  },
  {
   "cell_type": "code",
   "execution_count": 61,
   "id": "db88fa2c-0408-4ce3-9f97-c1b3aef06388",
   "metadata": {},
   "outputs": [
    {
     "name": "stdout",
     "output_type": "stream",
     "text": [
      "RMSE:2.7846 RandomForestRegressor\n"
     ]
    }
   ],
   "source": [
    "y = train['count']\n",
    "X = train.drop(['count'], axis=1)\n",
    "X_train, X_test, y_train, y_test = train_test_split(X,y, test_size=0.2, shuffle=True, random_state=1234)\n",
    "model = RandomForestRegressor(random_state=0, n_estimators=100)\n",
    "\n",
    "model.fit(X_train, y_train)\n",
    "pred = model.predict(X_test)\n",
    "rmse = mean_squared_error(y_test, pred, squared=False)\n",
    "print(f\"RMSE:{rmse:.4f} {model.__class__.__name__}\")"
   ]
  },
  {
   "cell_type": "markdown",
   "id": "21ce88b5-fa4a-4cc2-84a8-9ade55301a92",
   "metadata": {
    "tags": []
   },
   "source": [
    "# EDA\n",
    "* ref : https://seaborn.pydata.org/generated/seaborn.countplot.html\n",
    "* ref : https://seaborn.pydata.org/generated/seaborn.barplot.html\n",
    "* linechart : PC~관련피쳐\n",
    "* barchart\n",
    "* boxplot"
   ]
  },
  {
   "cell_type": "code",
   "execution_count": 70,
   "id": "b30b86b9-e685-41d5-9a82-c9e70ab676ad",
   "metadata": {},
   "outputs": [
    {
     "data": {
      "image/png": "[encoded data removed]",
      "text/plain": [
       "<Figure size 864x576 with 6 Axes>"
      ]
     },
     "metadata": {},
     "output_type": "display_data"
    }
   ],
   "source": [
    "# sns.countplot(x=\"class\", data=df)\n",
    "# sns.barplot(x=\"day\", y=\"total_bill\", data=df)\n",
    "\n",
    "# sns.countplot(x=\"PC_y\", data=df)\n",
    "# sns.countplot(x=df[\"PC_y\"])\n",
    "# sns.countplot(x=df.PC_y)\n",
    "\n",
    "# sns.barplot(x=\"PC_y\", y=\"count\", data=train)\n",
    "# print(train.columns.tolist())  # ['PC_y', 'PC_m', 'PC_d', 'PC_h', 'PC_w']\n",
    "\n",
    "p, axes = plt.subplots(2,3, figsize=(12,8))\n",
    "sns.barplot(train[\"PC_y\"], train[\"count\"], ax=axes[0][0])\n",
    "sns.barplot(train[\"PC_m\"], train[\"count\"], ax=axes[0][1])\n",
    "sns.barplot(train[\"PC_d\"], train[\"count\"], ax=axes[0][2])\n",
    "sns.barplot(train[\"PC_h\"], train[\"count\"], ax=axes[1][0])\n",
    "sns.barplot(train[\"PC_w\"], train[\"count\"], ax=axes[1][1])\n",
    "plt.show()\n"
   ]
  },
  {
   "cell_type": "markdown",
   "id": "3810ab6a-7a80-4ffd-b951-0b97dcd5d66d",
   "metadata": {},
   "source": [
    "* 주말 ~ 평일 : 차이 무의미하다\n",
    "* 날씨 : 5월 ~ 10월\n",
    "* 시간 : 7 ~ 9시 , 17 ~ 18시  --> 출퇴근,통학용 주로 이용될 듯 하다."
   ]
  },
  {
   "cell_type": "markdown",
   "id": "0cefb45a-530a-42f7-82f7-422236d7ae99",
   "metadata": {},
   "source": [
    "<pre>  \n",
    "평일/휴일\n",
    "    'holiday', 'workingday' \n",
    "\n",
    "계절\n",
    "    'season', 'weather', 'temp', 'atemp', 'humidity', 'windspeed'"
   ]
  },
  {
   "cell_type": "code",
   "execution_count": 75,
   "id": "9d63c76d-629b-4f82-bc56-0e35dea48b0c",
   "metadata": {},
   "outputs": [
    {
     "data": {
      "text/plain": [
       "holiday  workingday  PC_w\n",
       "0        0           5       1584\n",
       "                     6       1579\n",
       "         1           3       1553\n",
       "                     1       1539\n",
       "                     2       1527\n",
       "                     4       1481\n",
       "                     0       1312\n",
       "1        0           0        239\n",
       "                     4         48\n",
       "                     2         24\n",
       "dtype: int64"
      ]
     },
     "execution_count": 75,
     "metadata": {},
     "output_type": "execute_result"
    }
   ],
   "source": [
    "train[['holiday', 'workingday', 'PC_w']].value_counts()"
   ]
  },
  {
   "cell_type": "markdown",
   "id": "ddeb3f72-92c6-42d7-a321-12b579688056",
   "metadata": {},
   "source": [
    "* season ,  PC_m : 다중공선 확인 필요"
   ]
  },
  {
   "cell_type": "code",
   "execution_count": 80,
   "id": "536ae2cd-eee7-4942-aa2f-a096591516f3",
   "metadata": {},
   "outputs": [
    {
     "data": {
      "text/plain": [
       "season  PC_m\n",
       "1       1       884\n",
       "        2       901\n",
       "        3       901\n",
       "2       4       909\n",
       "        5       912\n",
       "        6       912\n",
       "3       7       912\n",
       "        8       912\n",
       "        9       909\n",
       "4       10      911\n",
       "        11      911\n",
       "        12      912\n",
       "dtype: int64"
      ]
     },
     "execution_count": 80,
     "metadata": {},
     "output_type": "execute_result"
    }
   ],
   "source": [
    "train[['season', 'PC_m']].value_counts().sort_index()"
   ]
  },
  {
   "cell_type": "markdown",
   "id": "374a1c45-f1a2-4b48-a446-3717cf2065e1",
   "metadata": {},
   "source": [
    "*  'weather', 'temp', 'atemp', 'humidity', 'windspeed'"
   ]
  },
  {
   "cell_type": "code",
   "execution_count": 82,
   "id": "e087eacd-7f57-46ed-a652-1fcf34252d14",
   "metadata": {},
   "outputs": [
    {
     "data": {
      "text/html": [
       "<div>\n",
       "<style scoped>\n",
       "    .dataframe tbody tr th:only-of-type {\n",
       "        vertical-align: middle;\n",
       "    }\n",
       "\n",
       "    .dataframe tbody tr th {\n",
       "        vertical-align: top;\n",
       "    }\n",
       "\n",
       "    .dataframe thead th {\n",
       "        text-align: right;\n",
       "    }\n",
       "</style>\n",
       "<table border=\"1\" class=\"dataframe\">\n",
       "  <thead>\n",
       "    <tr style=\"text-align: right;\">\n",
       "      <th></th>\n",
       "      <th>weather</th>\n",
       "      <th>temp</th>\n",
       "      <th>atemp</th>\n",
       "      <th>humidity</th>\n",
       "      <th>windspeed</th>\n",
       "    </tr>\n",
       "    <tr>\n",
       "      <th>regtime</th>\n",
       "      <th></th>\n",
       "      <th></th>\n",
       "      <th></th>\n",
       "      <th></th>\n",
       "      <th></th>\n",
       "    </tr>\n",
       "  </thead>\n",
       "  <tbody>\n",
       "    <tr>\n",
       "      <th>2011-01-01 00:00:00</th>\n",
       "      <td>1</td>\n",
       "      <td>9.84</td>\n",
       "      <td>14.395</td>\n",
       "      <td>81</td>\n",
       "      <td>0.0</td>\n",
       "    </tr>\n",
       "    <tr>\n",
       "      <th>2011-01-01 01:00:00</th>\n",
       "      <td>1</td>\n",
       "      <td>9.02</td>\n",
       "      <td>13.635</td>\n",
       "      <td>80</td>\n",
       "      <td>0.0</td>\n",
       "    </tr>\n",
       "    <tr>\n",
       "      <th>2011-01-01 02:00:00</th>\n",
       "      <td>1</td>\n",
       "      <td>9.02</td>\n",
       "      <td>13.635</td>\n",
       "      <td>80</td>\n",
       "      <td>0.0</td>\n",
       "    </tr>\n",
       "    <tr>\n",
       "      <th>2011-01-01 03:00:00</th>\n",
       "      <td>1</td>\n",
       "      <td>9.84</td>\n",
       "      <td>14.395</td>\n",
       "      <td>75</td>\n",
       "      <td>0.0</td>\n",
       "    </tr>\n",
       "    <tr>\n",
       "      <th>2011-01-01 04:00:00</th>\n",
       "      <td>1</td>\n",
       "      <td>9.84</td>\n",
       "      <td>14.395</td>\n",
       "      <td>75</td>\n",
       "      <td>0.0</td>\n",
       "    </tr>\n",
       "  </tbody>\n",
       "</table>\n",
       "</div>"
      ],
      "text/plain": [
       "                     weather  temp   atemp  humidity  windspeed\n",
       "regtime                                                        \n",
       "2011-01-01 00:00:00        1  9.84  14.395        81        0.0\n",
       "2011-01-01 01:00:00        1  9.02  13.635        80        0.0\n",
       "2011-01-01 02:00:00        1  9.02  13.635        80        0.0\n",
       "2011-01-01 03:00:00        1  9.84  14.395        75        0.0\n",
       "2011-01-01 04:00:00        1  9.84  14.395        75        0.0"
      ]
     },
     "execution_count": 82,
     "metadata": {},
     "output_type": "execute_result"
    }
   ],
   "source": [
    "train[['weather', 'temp', 'atemp', 'humidity', 'windspeed']].head()"
   ]
  },
  {
   "cell_type": "code",
   "execution_count": 90,
   "id": "0f7041dd-14fd-43c1-803e-ee16a53d4e18",
   "metadata": {},
   "outputs": [
    {
     "data": {
      "image/png": "[encoded data removed]",
      "text/plain": [
       "<Figure size 288x288 with 2 Axes>"
      ]
     },
     "metadata": {},
     "output_type": "display_data"
    }
   ],
   "source": [
    "plt.figure(figsize=(4,4))\n",
    "sns.heatmap(train[['count','weather', 'temp', 'atemp', 'humidity', 'windspeed']].corr(), annot=True, fmt=\".2f\", cmap=\"Blues\")\n",
    "plt.show()"
   ]
  },
  {
   "cell_type": "markdown",
   "id": "102f3c27-b2ec-4492-987b-dac4b9ae6861",
   "metadata": {},
   "source": [
    "<pre>\n",
    "* temp    - atemp     : 다중공선                 --> 피쳐 drop\n",
    "* weather - count     : -0.13 별 관계가 없다      --> weather 4 아웃라이어 처리 안함\n",
    "* weather - windspeed :  0.10 아무 관계도 아니다  --> 0 데이터 처리 \n",
    "\n",
    "* weather - humidity  :  0.41 약한 상관관계"
   ]
  },
  {
   "cell_type": "code",
   "execution_count": 107,
   "id": "331b8c44-1756-40a3-99cc-f887d115cca5",
   "metadata": {},
   "outputs": [
    {
     "data": {
      "text/plain": [
       "1    7192\n",
       "2    2834\n",
       "3     859\n",
       "4       1\n",
       "Name: weather, dtype: int64"
      ]
     },
     "execution_count": 107,
     "metadata": {},
     "output_type": "execute_result"
    }
   ],
   "source": [
    "train['weather'].value_counts()"
   ]
  },
  {
   "cell_type": "code",
   "execution_count": 108,
   "id": "5ae1eef4-40a9-42e8-bd78-47ad5433e6f3",
   "metadata": {},
   "outputs": [
    {
     "data": {
      "image/png": "[encoded data removed]",
      "text/plain": [
       "<Figure size 864x288 with 3 Axes>"
      ]
     },
     "metadata": {},
     "output_type": "display_data"
    }
   ],
   "source": [
    "p, axes = plt.subplots(1,3, figsize=(12,4))\n",
    "sns.scatterplot(x=train['weather'], y=train['windspeed'], ax=axes[0])\n",
    "sns.scatterplot(x=train['weather'], y=train['count'], ax=axes[1])\n",
    "sns.scatterplot(x=train['windspeed'], y=train['count'], ax=axes[2])\n",
    "plt.show()"
   ]
  },
  {
   "cell_type": "markdown",
   "id": "d8ed1d18-0d96-4504-a02d-6a501a906d19",
   "metadata": {},
   "source": [
    "## 대여수"
   ]
  },
  {
   "cell_type": "code",
   "execution_count": 94,
   "id": "e1febf67-b0a9-4603-9d1f-7160e524410c",
   "metadata": {},
   "outputs": [
    {
     "data": {
      "text/html": [
       "<div>\n",
       "<style scoped>\n",
       "    .dataframe tbody tr th:only-of-type {\n",
       "        vertical-align: middle;\n",
       "    }\n",
       "\n",
       "    .dataframe tbody tr th {\n",
       "        vertical-align: top;\n",
       "    }\n",
       "\n",
       "    .dataframe thead th {\n",
       "        text-align: right;\n",
       "    }\n",
       "</style>\n",
       "<table border=\"1\" class=\"dataframe\">\n",
       "  <thead>\n",
       "    <tr style=\"text-align: right;\">\n",
       "      <th></th>\n",
       "      <th>casual</th>\n",
       "      <th>registered</th>\n",
       "      <th>count</th>\n",
       "    </tr>\n",
       "    <tr>\n",
       "      <th>regtime</th>\n",
       "      <th></th>\n",
       "      <th></th>\n",
       "      <th></th>\n",
       "    </tr>\n",
       "  </thead>\n",
       "  <tbody>\n",
       "    <tr>\n",
       "      <th>2011-01-01 00:00:00</th>\n",
       "      <td>3</td>\n",
       "      <td>13</td>\n",
       "      <td>16</td>\n",
       "    </tr>\n",
       "    <tr>\n",
       "      <th>2011-01-01 01:00:00</th>\n",
       "      <td>8</td>\n",
       "      <td>32</td>\n",
       "      <td>40</td>\n",
       "    </tr>\n",
       "  </tbody>\n",
       "</table>\n",
       "</div>"
      ],
      "text/plain": [
       "                     casual  registered  count\n",
       "regtime                                       \n",
       "2011-01-01 00:00:00       3          13     16\n",
       "2011-01-01 01:00:00       8          32     40"
      ]
     },
     "execution_count": 94,
     "metadata": {},
     "output_type": "execute_result"
    }
   ],
   "source": [
    "train[['casual' , 'registered', 'count']].head(2)"
   ]
  },
  {
   "cell_type": "markdown",
   "id": "1d00b563-97d1-4027-8587-edf8234cea78",
   "metadata": {},
   "source": [
    "* 'casual' + 'registered' == 'count'"
   ]
  },
  {
   "cell_type": "code",
   "execution_count": 95,
   "id": "c513e104-142f-4465-b535-de94453ae44c",
   "metadata": {},
   "outputs": [
    {
     "data": {
      "text/html": [
       "<div>\n",
       "<style scoped>\n",
       "    .dataframe tbody tr th:only-of-type {\n",
       "        vertical-align: middle;\n",
       "    }\n",
       "\n",
       "    .dataframe tbody tr th {\n",
       "        vertical-align: top;\n",
       "    }\n",
       "\n",
       "    .dataframe thead th {\n",
       "        text-align: right;\n",
       "    }\n",
       "</style>\n",
       "<table border=\"1\" class=\"dataframe\">\n",
       "  <thead>\n",
       "    <tr style=\"text-align: right;\">\n",
       "      <th></th>\n",
       "      <th>casual</th>\n",
       "      <th>registered</th>\n",
       "      <th>count</th>\n",
       "    </tr>\n",
       "    <tr>\n",
       "      <th>regtime</th>\n",
       "      <th></th>\n",
       "      <th></th>\n",
       "      <th></th>\n",
       "    </tr>\n",
       "  </thead>\n",
       "  <tbody>\n",
       "    <tr>\n",
       "      <th>2011-01-01 00:00:00</th>\n",
       "      <td>3</td>\n",
       "      <td>13</td>\n",
       "      <td>16</td>\n",
       "    </tr>\n",
       "    <tr>\n",
       "      <th>2011-01-01 01:00:00</th>\n",
       "      <td>8</td>\n",
       "      <td>32</td>\n",
       "      <td>40</td>\n",
       "    </tr>\n",
       "  </tbody>\n",
       "</table>\n",
       "</div>"
      ],
      "text/plain": [
       "                     casual  registered  count\n",
       "regtime                                       \n",
       "2011-01-01 00:00:00       3          13     16\n",
       "2011-01-01 01:00:00       8          32     40"
      ]
     },
     "execution_count": 95,
     "metadata": {},
     "output_type": "execute_result"
    }
   ],
   "source": [
    "train[['casual' , 'registered', 'count']].head(2)"
   ]
  },
  {
   "cell_type": "code",
   "execution_count": 98,
   "id": "1febb2cb-51ca-4054-abaa-81305eef0ffc",
   "metadata": {},
   "outputs": [
    {
     "data": {
      "text/html": [
       "<div>\n",
       "<style scoped>\n",
       "    .dataframe tbody tr th:only-of-type {\n",
       "        vertical-align: middle;\n",
       "    }\n",
       "\n",
       "    .dataframe tbody tr th {\n",
       "        vertical-align: top;\n",
       "    }\n",
       "\n",
       "    .dataframe thead th {\n",
       "        text-align: right;\n",
       "    }\n",
       "</style>\n",
       "<table border=\"1\" class=\"dataframe\">\n",
       "  <thead>\n",
       "    <tr style=\"text-align: right;\">\n",
       "      <th></th>\n",
       "      <th>season</th>\n",
       "      <th>holiday</th>\n",
       "      <th>workingday</th>\n",
       "      <th>weather</th>\n",
       "      <th>temp</th>\n",
       "      <th>atemp</th>\n",
       "      <th>humidity</th>\n",
       "      <th>windspeed</th>\n",
       "      <th>casual</th>\n",
       "      <th>registered</th>\n",
       "      <th>count</th>\n",
       "      <th>PC_y</th>\n",
       "      <th>PC_m</th>\n",
       "      <th>PC_d</th>\n",
       "      <th>PC_h</th>\n",
       "      <th>PC_w</th>\n",
       "    </tr>\n",
       "    <tr>\n",
       "      <th>regtime</th>\n",
       "      <th></th>\n",
       "      <th></th>\n",
       "      <th></th>\n",
       "      <th></th>\n",
       "      <th></th>\n",
       "      <th></th>\n",
       "      <th></th>\n",
       "      <th></th>\n",
       "      <th></th>\n",
       "      <th></th>\n",
       "      <th></th>\n",
       "      <th></th>\n",
       "      <th></th>\n",
       "      <th></th>\n",
       "      <th></th>\n",
       "      <th></th>\n",
       "    </tr>\n",
       "  </thead>\n",
       "  <tbody>\n",
       "  </tbody>\n",
       "</table>\n",
       "</div>"
      ],
      "text/plain": [
       "Empty DataFrame\n",
       "Columns: [season, holiday, workingday, weather, temp, atemp, humidity, windspeed, casual, registered, count, PC_y, PC_m, PC_d, PC_h, PC_w]\n",
       "Index: []"
      ]
     },
     "execution_count": 98,
     "metadata": {},
     "output_type": "execute_result"
    }
   ],
   "source": [
    "train[   train['casual']+train['registered']  !=  train['count']   ]"
   ]
  },
  {
   "cell_type": "markdown",
   "id": "f887bd37-c9d1-4ccf-bf79-f39d3d9f1420",
   "metadata": {},
   "source": [
    "### 불필요 컬럼 삭제"
   ]
  },
  {
   "cell_type": "code",
   "execution_count": 101,
   "id": "bcb093da-90ef-4796-b608-02a1f9d69bc3",
   "metadata": {},
   "outputs": [],
   "source": [
    "train = train.drop(['casual','registered','temp'], axis=1)"
   ]
  },
  {
   "cell_type": "code",
   "execution_count": 103,
   "id": "63be20f2-d2a3-4462-9aa6-8276cd3f4b25",
   "metadata": {},
   "outputs": [
    {
     "name": "stdout",
     "output_type": "stream",
     "text": [
      "<class 'pandas.core.frame.DataFrame'>\n",
      "DatetimeIndex: 10886 entries, 2011-01-01 00:00:00 to 2012-12-19 23:00:00\n",
      "Data columns (total 13 columns):\n",
      " #   Column      Non-Null Count  Dtype  \n",
      "---  ------      --------------  -----  \n",
      " 0   season      10886 non-null  int64  \n",
      " 1   holiday     10886 non-null  int64  \n",
      " 2   workingday  10886 non-null  int64  \n",
      " 3   weather     10886 non-null  int64  \n",
      " 4   atemp       10886 non-null  float64\n",
      " 5   humidity    10886 non-null  int64  \n",
      " 6   windspeed   10886 non-null  float64\n",
      " 7   count       10886 non-null  int64  \n",
      " 8   PC_y        10886 non-null  int64  \n",
      " 9   PC_m        10886 non-null  int64  \n",
      " 10  PC_d        10886 non-null  int64  \n",
      " 11  PC_h        10886 non-null  int64  \n",
      " 12  PC_w        10886 non-null  int64  \n",
      "dtypes: float64(2), int64(11)\n",
      "memory usage: 1.2 MB\n"
     ]
    }
   ],
   "source": [
    "train.info()"
   ]
  },
  {
   "cell_type": "code",
   "execution_count": 110,
   "id": "81a77d6d-d494-4c67-9159-f88cda6b9355",
   "metadata": {},
   "outputs": [
    {
     "data": {
      "image/png": "[encoded data removed]",
      "text/plain": [
       "<Figure size 720x720 with 2 Axes>"
      ]
     },
     "metadata": {},
     "output_type": "display_data"
    }
   ],
   "source": [
    "plt.figure(figsize=(10,10))\n",
    "sns.heatmap(train.corr(), annot=True, fmt=\".2f\", cmap=\"Blues\")\n",
    "plt.show()"
   ]
  },
  {
   "cell_type": "markdown",
   "id": "57c8b86f-7ad8-4209-89b4-29db5f2de379",
   "metadata": {},
   "source": [
    "### 삭제 피쳐"
   ]
  },
  {
   "cell_type": "markdown",
   "id": "a90f0dfd-bf31-492f-8af6-0505b3c4b31e",
   "metadata": {},
   "source": [
    "* season  - PC_m : 다중공선 --> 학습 후 결정\n"
   ]
  },
  {
   "cell_type": "code",
   "execution_count": null,
   "id": "01c00022-ebf6-438e-b079-6333f28b96a3",
   "metadata": {},
   "outputs": [],
   "source": []
  },
  {
   "cell_type": "markdown",
   "id": "711b30ac-cc15-479f-bde2-383d4c7f487c",
   "metadata": {},
   "source": [
    "# 본격적 가공"
   ]
  },
  {
   "cell_type": "markdown",
   "id": "748fc33d-0489-4fc4-9ea5-ffac3aac7a34",
   "metadata": {},
   "source": [
    "## windspeed\n",
    "* weather - count     : -0.13 별 관계가 없다\n",
    "* weather - windspeed :  0.10 아무 관계도 아니다"
   ]
  },
  {
   "cell_type": "code",
   "execution_count": 111,
   "id": "58146822-5a56-4b05-82e4-78c2c648b6c5",
   "metadata": {},
   "outputs": [
    {
     "data": {
      "text/plain": [
       "0.0000     1313\n",
       "8.9981     1120\n",
       "11.0014    1057\n",
       "12.9980    1042\n",
       "7.0015     1034\n",
       "15.0013     961\n",
       "6.0032      872\n",
       "16.9979     824\n",
       "19.0012     676\n",
       "19.9995     492\n",
       "22.0028     372\n",
       "23.9994     274\n",
       "26.0027     235\n",
       "27.9993     187\n",
       "30.0026     111\n",
       "31.0009      89\n",
       "32.9975      80\n",
       "35.0008      58\n",
       "39.0007      27\n",
       "36.9974      22\n",
       "43.0006      12\n",
       "40.9973      11\n",
       "43.9989       8\n",
       "46.0022       3\n",
       "56.9969       2\n",
       "47.9988       2\n",
       "51.9987       1\n",
       "50.0021       1\n",
       "Name: windspeed, dtype: int64"
      ]
     },
     "execution_count": 111,
     "metadata": {},
     "output_type": "execute_result"
    }
   ],
   "source": [
    "train['windspeed'].value_counts()"
   ]
  },
  {
   "cell_type": "code",
   "execution_count": 115,
   "id": "41097934-7ab1-4303-be9e-64d3cc9f15f3",
   "metadata": {},
   "outputs": [
    {
     "data": {
      "text/plain": [
       "((1313, 13), 0.12061363218813155)"
      ]
     },
     "execution_count": 115,
     "metadata": {},
     "output_type": "execute_result"
    }
   ],
   "source": [
    "train[train['windspeed'] == .0].shape, train[train['windspeed'] == .0].shape[0]/train.shape[0]"
   ]
  },
  {
   "cell_type": "code",
   "execution_count": 116,
   "id": "b627a72f-d741-4bea-a9b5-c54034ca8e98",
   "metadata": {},
   "outputs": [
    {
     "data": {
      "text/plain": [
       "((9573, 13), 0.8793863678118684)"
      ]
     },
     "execution_count": 116,
     "metadata": {},
     "output_type": "execute_result"
    }
   ],
   "source": [
    "#  train[~train['windspeed'] == .0].shape\n",
    "train[train['windspeed'] != .0].shape,     train[train['windspeed'] != .0].shape[0]/train.shape[0]"
   ]
  },
  {
   "cell_type": "code",
   "execution_count": 120,
   "id": "52097859-714b-46f1-9e80-22157ad68357",
   "metadata": {},
   "outputs": [
    {
     "data": {
      "text/html": [
       "<div>\n",
       "<style scoped>\n",
       "    .dataframe tbody tr th:only-of-type {\n",
       "        vertical-align: middle;\n",
       "    }\n",
       "\n",
       "    .dataframe tbody tr th {\n",
       "        vertical-align: top;\n",
       "    }\n",
       "\n",
       "    .dataframe thead th {\n",
       "        text-align: right;\n",
       "    }\n",
       "</style>\n",
       "<table border=\"1\" class=\"dataframe\">\n",
       "  <thead>\n",
       "    <tr style=\"text-align: right;\">\n",
       "      <th></th>\n",
       "      <th>season</th>\n",
       "      <th>holiday</th>\n",
       "      <th>workingday</th>\n",
       "      <th>weather</th>\n",
       "      <th>atemp</th>\n",
       "      <th>humidity</th>\n",
       "      <th>windspeed</th>\n",
       "      <th>count</th>\n",
       "      <th>PC_y</th>\n",
       "      <th>PC_m</th>\n",
       "      <th>PC_d</th>\n",
       "      <th>PC_h</th>\n",
       "      <th>PC_w</th>\n",
       "    </tr>\n",
       "    <tr>\n",
       "      <th>regtime</th>\n",
       "      <th></th>\n",
       "      <th></th>\n",
       "      <th></th>\n",
       "      <th></th>\n",
       "      <th></th>\n",
       "      <th></th>\n",
       "      <th></th>\n",
       "      <th></th>\n",
       "      <th></th>\n",
       "      <th></th>\n",
       "      <th></th>\n",
       "      <th></th>\n",
       "      <th></th>\n",
       "    </tr>\n",
       "  </thead>\n",
       "  <tbody>\n",
       "    <tr>\n",
       "      <th>2011-01-01 05:00:00</th>\n",
       "      <td>1</td>\n",
       "      <td>0</td>\n",
       "      <td>0</td>\n",
       "      <td>2</td>\n",
       "      <td>12.880</td>\n",
       "      <td>75</td>\n",
       "      <td>6.0032</td>\n",
       "      <td>1</td>\n",
       "      <td>2011</td>\n",
       "      <td>1</td>\n",
       "      <td>1</td>\n",
       "      <td>5</td>\n",
       "      <td>5</td>\n",
       "    </tr>\n",
       "    <tr>\n",
       "      <th>2011-01-01 10:00:00</th>\n",
       "      <td>1</td>\n",
       "      <td>0</td>\n",
       "      <td>0</td>\n",
       "      <td>1</td>\n",
       "      <td>19.695</td>\n",
       "      <td>76</td>\n",
       "      <td>16.9979</td>\n",
       "      <td>36</td>\n",
       "      <td>2011</td>\n",
       "      <td>1</td>\n",
       "      <td>1</td>\n",
       "      <td>10</td>\n",
       "      <td>5</td>\n",
       "    </tr>\n",
       "    <tr>\n",
       "      <th>2011-01-01 11:00:00</th>\n",
       "      <td>1</td>\n",
       "      <td>0</td>\n",
       "      <td>0</td>\n",
       "      <td>1</td>\n",
       "      <td>16.665</td>\n",
       "      <td>81</td>\n",
       "      <td>19.0012</td>\n",
       "      <td>56</td>\n",
       "      <td>2011</td>\n",
       "      <td>1</td>\n",
       "      <td>1</td>\n",
       "      <td>11</td>\n",
       "      <td>5</td>\n",
       "    </tr>\n",
       "    <tr>\n",
       "      <th>2011-01-01 12:00:00</th>\n",
       "      <td>1</td>\n",
       "      <td>0</td>\n",
       "      <td>0</td>\n",
       "      <td>1</td>\n",
       "      <td>21.210</td>\n",
       "      <td>77</td>\n",
       "      <td>19.0012</td>\n",
       "      <td>84</td>\n",
       "      <td>2011</td>\n",
       "      <td>1</td>\n",
       "      <td>1</td>\n",
       "      <td>12</td>\n",
       "      <td>5</td>\n",
       "    </tr>\n",
       "    <tr>\n",
       "      <th>2011-01-01 13:00:00</th>\n",
       "      <td>1</td>\n",
       "      <td>0</td>\n",
       "      <td>0</td>\n",
       "      <td>2</td>\n",
       "      <td>22.725</td>\n",
       "      <td>72</td>\n",
       "      <td>19.9995</td>\n",
       "      <td>94</td>\n",
       "      <td>2011</td>\n",
       "      <td>1</td>\n",
       "      <td>1</td>\n",
       "      <td>13</td>\n",
       "      <td>5</td>\n",
       "    </tr>\n",
       "    <tr>\n",
       "      <th>...</th>\n",
       "      <td>...</td>\n",
       "      <td>...</td>\n",
       "      <td>...</td>\n",
       "      <td>...</td>\n",
       "      <td>...</td>\n",
       "      <td>...</td>\n",
       "      <td>...</td>\n",
       "      <td>...</td>\n",
       "      <td>...</td>\n",
       "      <td>...</td>\n",
       "      <td>...</td>\n",
       "      <td>...</td>\n",
       "      <td>...</td>\n",
       "    </tr>\n",
       "    <tr>\n",
       "      <th>2012-12-19 19:00:00</th>\n",
       "      <td>4</td>\n",
       "      <td>0</td>\n",
       "      <td>1</td>\n",
       "      <td>1</td>\n",
       "      <td>19.695</td>\n",
       "      <td>50</td>\n",
       "      <td>26.0027</td>\n",
       "      <td>336</td>\n",
       "      <td>2012</td>\n",
       "      <td>12</td>\n",
       "      <td>19</td>\n",
       "      <td>19</td>\n",
       "      <td>2</td>\n",
       "    </tr>\n",
       "    <tr>\n",
       "      <th>2012-12-19 20:00:00</th>\n",
       "      <td>4</td>\n",
       "      <td>0</td>\n",
       "      <td>1</td>\n",
       "      <td>1</td>\n",
       "      <td>17.425</td>\n",
       "      <td>57</td>\n",
       "      <td>15.0013</td>\n",
       "      <td>241</td>\n",
       "      <td>2012</td>\n",
       "      <td>12</td>\n",
       "      <td>19</td>\n",
       "      <td>20</td>\n",
       "      <td>2</td>\n",
       "    </tr>\n",
       "    <tr>\n",
       "      <th>2012-12-19 21:00:00</th>\n",
       "      <td>4</td>\n",
       "      <td>0</td>\n",
       "      <td>1</td>\n",
       "      <td>1</td>\n",
       "      <td>15.910</td>\n",
       "      <td>61</td>\n",
       "      <td>15.0013</td>\n",
       "      <td>168</td>\n",
       "      <td>2012</td>\n",
       "      <td>12</td>\n",
       "      <td>19</td>\n",
       "      <td>21</td>\n",
       "      <td>2</td>\n",
       "    </tr>\n",
       "    <tr>\n",
       "      <th>2012-12-19 22:00:00</th>\n",
       "      <td>4</td>\n",
       "      <td>0</td>\n",
       "      <td>1</td>\n",
       "      <td>1</td>\n",
       "      <td>17.425</td>\n",
       "      <td>61</td>\n",
       "      <td>6.0032</td>\n",
       "      <td>129</td>\n",
       "      <td>2012</td>\n",
       "      <td>12</td>\n",
       "      <td>19</td>\n",
       "      <td>22</td>\n",
       "      <td>2</td>\n",
       "    </tr>\n",
       "    <tr>\n",
       "      <th>2012-12-19 23:00:00</th>\n",
       "      <td>4</td>\n",
       "      <td>0</td>\n",
       "      <td>1</td>\n",
       "      <td>1</td>\n",
       "      <td>16.665</td>\n",
       "      <td>66</td>\n",
       "      <td>8.9981</td>\n",
       "      <td>88</td>\n",
       "      <td>2012</td>\n",
       "      <td>12</td>\n",
       "      <td>19</td>\n",
       "      <td>23</td>\n",
       "      <td>2</td>\n",
       "    </tr>\n",
       "  </tbody>\n",
       "</table>\n",
       "<p>9573 rows × 13 columns</p>\n",
       "</div>"
      ],
      "text/plain": [
       "                     season  holiday  workingday  weather   atemp  humidity  \\\n",
       "regtime                                                                       \n",
       "2011-01-01 05:00:00       1        0           0        2  12.880        75   \n",
       "2011-01-01 10:00:00       1        0           0        1  19.695        76   \n",
       "2011-01-01 11:00:00       1        0           0        1  16.665        81   \n",
       "2011-01-01 12:00:00       1        0           0        1  21.210        77   \n",
       "2011-01-01 13:00:00       1        0           0        2  22.725        72   \n",
       "...                     ...      ...         ...      ...     ...       ...   \n",
       "2012-12-19 19:00:00       4        0           1        1  19.695        50   \n",
       "2012-12-19 20:00:00       4        0           1        1  17.425        57   \n",
       "2012-12-19 21:00:00       4        0           1        1  15.910        61   \n",
       "2012-12-19 22:00:00       4        0           1        1  17.425        61   \n",
       "2012-12-19 23:00:00       4        0           1        1  16.665        66   \n",
       "\n",
       "                     windspeed  count  PC_y  PC_m  PC_d  PC_h  PC_w  \n",
       "regtime                                                              \n",
       "2011-01-01 05:00:00     6.0032      1  2011     1     1     5     5  \n",
       "2011-01-01 10:00:00    16.9979     36  2011     1     1    10     5  \n",
       "2011-01-01 11:00:00    19.0012     56  2011     1     1    11     5  \n",
       "2011-01-01 12:00:00    19.0012     84  2011     1     1    12     5  \n",
       "2011-01-01 13:00:00    19.9995     94  2011     1     1    13     5  \n",
       "...                        ...    ...   ...   ...   ...   ...   ...  \n",
       "2012-12-19 19:00:00    26.0027    336  2012    12    19    19     2  \n",
       "2012-12-19 20:00:00    15.0013    241  2012    12    19    20     2  \n",
       "2012-12-19 21:00:00    15.0013    168  2012    12    19    21     2  \n",
       "2012-12-19 22:00:00     6.0032    129  2012    12    19    22     2  \n",
       "2012-12-19 23:00:00     8.9981     88  2012    12    19    23     2  \n",
       "\n",
       "[9573 rows x 13 columns]"
      ]
     },
     "execution_count": 120,
     "metadata": {},
     "output_type": "execute_result"
    }
   ],
   "source": [
    "train[train['windspeed'] != .0]"
   ]
  },
  {
   "cell_type": "code",
   "execution_count": 138,
   "id": "8522126d-7c12-452d-b693-23da0b2bfdff",
   "metadata": {},
   "outputs": [
    {
     "name": "stdout",
     "output_type": "stream",
     "text": [
      "(9573,) (9573, 8)\n",
      "[12.280966 10.20142   9.401373 10.861102 10.171404] (1313,)\n"
     ]
    }
   ],
   "source": [
    "# KNN, RFR ... \n",
    "\n",
    "col_list = ['season', 'weather', 'atemp', 'humidity', 'PC_y', 'PC_m', 'PC_d', 'PC_h']\n",
    "\n",
    "windspped_X_train = train[train['windspeed'] != .0][col_list]        #--9573 .. ~windspped\n",
    "windspped_y_train = train[train['windspeed'] != .0]['windspeed']     #--9573 ..  windspped\n",
    "windspped_X_test  = train[train['windspeed'] == .0][col_list] \n",
    "# windspped_y_test  = pred\n",
    "print(windspped_y_train.shape, windspped_X_train.shape)\n",
    "windspped_X_train.head()\n",
    "\n",
    "windspped_model = RandomForestRegressor(n_estimators=100, random_state=1234)\n",
    "windspped_model.fit(windspped_X_train, windspped_y_train)\n",
    "windspped_pred = windspped_model.predict(windspped_X_test)           #--1313문제\n",
    "print(windspped_pred[:5],  windspped_pred.shape)                     #--1313 예측답안갯수\n",
    "\n",
    "#--1313건에 해당하는 0값을 windspped값을 pred    -->   windspped_y_test로 대체\n",
    "#windspped_y_test['windspped']  = pred.reshape(-1,1)\n",
    "\n",
    "# train[train['col']>0] = 5                    #error\n",
    "train.loc[train['windspeed'] == .0 , 'windspeed'] = windspped_pred.reshape(-1,1)"
   ]
  },
  {
   "cell_type": "code",
   "execution_count": 140,
   "id": "f4b6c917-16f9-46e3-9902-46053de135e4",
   "metadata": {},
   "outputs": [
    {
     "data": {
      "image/png": "[encoded data removed]",
      "text/plain": [
       "<Figure size 432x288 with 1 Axes>"
      ]
     },
     "metadata": {},
     "output_type": "display_data"
    }
   ],
   "source": [
    "sns.scatterplot(x=train['windspeed'], y=train['count'])\n",
    "plt.show()"
   ]
  },
  {
   "cell_type": "markdown",
   "id": "0cb5ea14-b04f-4b4d-ab40-db4373afe230",
   "metadata": {},
   "source": [
    "## 파생변수"
   ]
  },
  {
   "cell_type": "markdown",
   "id": "9945329e-9954-42c4-bad6-0cf877a1701f",
   "metadata": {},
   "source": [
    "## 스케일링\n",
    "* 정규화\n",
    "* 왜도/첨도"
   ]
  },
  {
   "cell_type": "markdown",
   "id": "699489d9-dfac-4bee-acf2-e5b78fa04389",
   "metadata": {},
   "source": [
    "## 아웃라이어"
   ]
  },
  {
   "cell_type": "markdown",
   "id": "1c30a3c8-fd49-4623-99c6-7915724fd152",
   "metadata": {},
   "source": [
    "# 모델 학습  & 평가 & 검증"
   ]
  },
  {
   "cell_type": "markdown",
   "id": "231f08cc-067d-4d6e-a368-24cea759a7b2",
   "metadata": {},
   "source": [
    "* train 8 : val 2  \n",
    "* model.fit()  model_predict(val 2 ) --> score(y_val, pred_val2) \n",
    "* model확정 :  test_pred = model_predict(test)  -->  score(공모전답안지, test_pred ) \n",
    "* test_pred --> 내가 test문제를 (model확정) 풀어서 test_pred 답안을 submit.csv에 적어서 이 파일을 제출\n"
   ]
  },
  {
   "cell_type": "code",
   "execution_count": 146,
   "id": "59a98c46-f9ea-44e8-bdb3-e102905f5c4e",
   "metadata": {},
   "outputs": [
    {
     "name": "stdout",
     "output_type": "stream",
     "text": [
      "RMSE:38.0661 RandomForestRegressor\n"
     ]
    }
   ],
   "source": [
    "y = train['count']\n",
    "X = train.drop(['count'], axis=1)\n",
    "X_train, X_test, y_train, y_test = train_test_split(X,y, test_size=0.2, shuffle=True, random_state=1234)\n",
    "model = RandomForestRegressor(random_state=0, n_estimators=100)\n",
    "\n",
    "model.fit(X_train, y_train)\n",
    "pred = model.predict(X_test)\n",
    "rmse = mean_squared_error(y_test, pred, squared=False)\n",
    "print(f\"RMSE:{rmse:.4f} {model.__class__.__name__}\")"
   ]
  }
 ],
 "metadata": {
  "kernelspec": {
   "display_name": "Python 3 (ipykernel)",
   "language": "python",
   "name": "python3"
  },
  "language_info": {
   "codemirror_mode": {
    "name": "ipython",
    "version": 3
   },
   "file_extension": ".py",
   "mimetype": "text/x-python",
   "name": "python",
   "nbconvert_exporter": "python",
   "pygments_lexer": "ipython3",
   "version": "3.8.8"
  }
 },
 "nbformat": 4,
 "nbformat_minor": 5
}
